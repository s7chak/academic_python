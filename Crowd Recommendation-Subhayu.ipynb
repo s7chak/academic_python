{
 "cells": [
  {
   "cell_type": "code",
   "execution_count": 2,
   "metadata": {},
   "outputs": [],
   "source": [
    "from selenium import webdriver\n",
    "import pandas as pd"
   ]
  },
  {
   "cell_type": "code",
   "execution_count": 86,
   "metadata": {},
   "outputs": [],
   "source": [
    "driver = webdriver.Chrome('/Users/prajvalgupta/Downloads/chromedriver 2')"
   ]
  },
  {
   "cell_type": "code",
   "execution_count": 111,
   "metadata": {},
   "outputs": [],
   "source": [
    "from selenium import webdriver\n",
    "from selenium.webdriver.common.by import By\n",
    "from selenium.webdriver.support.ui import WebDriverWait\n",
    "from selenium.webdriver.support import expected_conditions as EC\n",
    "import time\n",
    "import csv\n",
    "\n",
    "driver = webdriver.Chrome('/Users/prajvalgupta/Downloads/chromedriver 2')\n",
    "\n",
    "beer_dict={}\n",
    "driver.get('https://www.beeradvocate.com/beer/top-rated/')\n",
    "beer_profiles=[]\n",
    "beer_profile=driver.find_element_by_xpath('//div[@id=\"ba-content\"]/table/tbody/tr[2]/td[2]/a')\n",
    "# print(beer_profile.get_attribute('href'))\n",
    "for i in range(2,252):\n",
    "    beer=driver.find_element_by_xpath('//div[@id=\"ba-content\"]/table/tbody/tr['+str(i)+']/td[2]/a')\n",
    "    beer_name=driver.find_element_by_xpath('//div[@id=\"ba-content\"]/table/tbody/tr['+str(i)+']/td[2]/a/b').text\n",
    "    beer_dict[beer_name]=beer.get_attribute('href')\n",
    "\n",
    "driver.close()\n",
    "\n",
    "comments = pd.DataFrame(columns = ['Product Name','Product Rating','Product Review']) \n",
    "\n",
    "try:\n",
    "    for key,value in beer_dict.items():\n",
    "        driver = webdriver.Chrome('/Users/prajvalgupta/Downloads/chromedriver 2')\n",
    "        driver.get(value)\n",
    "        reviews = driver.find_elements_by_xpath('//div[@id=\"rating_fullview_content_2\"]')\n",
    "        for review in reviews:\n",
    "            review_text = review.text\n",
    "\n",
    "            rating = review.find_element_by_xpath('.//span[1]').text\n",
    "            extra1 = review.find_element_by_xpath('.//span[2]').text\n",
    "            extra2 = review.find_element_by_xpath('.//span[3]').text\n",
    "            extra3 = review.find_element_by_xpath('.//span[4]').text\n",
    "            extra4 = review.find_element_by_xpath('.//span[5]').text\n",
    "            extra5 = review.find_element_by_xpath('.//div').text\n",
    "\n",
    "            if extra3:\n",
    "                review_text = review_text.replace(extra3,\"\")\n",
    "            if extra1:\n",
    "                review_text = review_text.replace(extra1,\"\")\n",
    "            if extra2:\n",
    "                review_text = review_text.replace(extra2,\"\")\n",
    "            if extra4:\n",
    "                review_text = review_text.replace(extra4,\"\")\n",
    "            if extra5:\n",
    "                review_text = review_text.replace(extra5,\"\")\n",
    "\n",
    "    #         print(review_text)\n",
    "\n",
    "            comments.loc[len(comments)] = [key,rating,review_text]\n",
    "\n",
    "        driver.close()\n",
    "except:\n",
    "    pass"
   ]
  },
  {
   "cell_type": "code",
   "execution_count": 113,
   "metadata": {},
   "outputs": [],
   "source": [
    "comments.to_csv(\"product_reviews.csv\")"
   ]
  },
  {
   "cell_type": "code",
   "execution_count": null,
   "metadata": {},
   "outputs": [],
   "source": []
  },
  {
   "cell_type": "code",
   "execution_count": 27,
   "metadata": {},
   "outputs": [],
   "source": [
    "from nltk import ngrams, FreqDist\n",
    "from nltk.tokenize import sent_tokenize, word_tokenize, RegexpTokenizer\n",
    "from nltk.corpus import stopwords, webtext\n",
    "from sklearn import manifold\n",
    "import nltk.data\n",
    "from nltk.sentiment.vader import SentimentIntensityAnalyzer as sentiment"
   ]
  },
  {
   "cell_type": "code",
   "execution_count": 3,
   "metadata": {},
   "outputs": [],
   "source": [
    "df=pd.read_csv('product_reviews.csv')"
   ]
  },
  {
   "cell_type": "code",
   "execution_count": 4,
   "metadata": {},
   "outputs": [
    {
     "data": {
      "text/html": [
       "<div>\n",
       "<style scoped>\n",
       "    .dataframe tbody tr th:only-of-type {\n",
       "        vertical-align: middle;\n",
       "    }\n",
       "\n",
       "    .dataframe tbody tr th {\n",
       "        vertical-align: top;\n",
       "    }\n",
       "\n",
       "    .dataframe thead th {\n",
       "        text-align: right;\n",
       "    }\n",
       "</style>\n",
       "<table border=\"1\" class=\"dataframe\">\n",
       "  <thead>\n",
       "    <tr style=\"text-align: right;\">\n",
       "      <th></th>\n",
       "      <th>Unnamed: 0</th>\n",
       "      <th>Product Name</th>\n",
       "      <th>Product Rating</th>\n",
       "      <th>Product Review</th>\n",
       "    </tr>\n",
       "  </thead>\n",
       "  <tbody>\n",
       "    <tr>\n",
       "      <th>0</th>\n",
       "      <td>0</td>\n",
       "      <td>Kentucky Brunch Brand Stout</td>\n",
       "      <td>4.80</td>\n",
       "      <td>4.8  rDev \\n\\n\\n2016 Silver Wax. Aroma has whi...</td>\n",
       "    </tr>\n",
       "    <tr>\n",
       "      <th>1</th>\n",
       "      <td>1</td>\n",
       "      <td>Kentucky Brunch Brand Stout</td>\n",
       "      <td>4.74</td>\n",
       "      <td>4.74  rDev \\n\\n\\nThe beer pours Pitch Black wi...</td>\n",
       "    </tr>\n",
       "    <tr>\n",
       "      <th>2</th>\n",
       "      <td>2</td>\n",
       "      <td>Kentucky Brunch Brand Stout</td>\n",
       "      <td>4.68</td>\n",
       "      <td>4.68  rDev \\n\\n\\nProbably the smoothest beer I...</td>\n",
       "    </tr>\n",
       "    <tr>\n",
       "      <th>3</th>\n",
       "      <td>3</td>\n",
       "      <td>Kentucky Brunch Brand Stout</td>\n",
       "      <td>5.00</td>\n",
       "      <td>5  rDev \\n\\n\\nDark black, very thick, a little...</td>\n",
       "    </tr>\n",
       "    <tr>\n",
       "      <th>4</th>\n",
       "      <td>4</td>\n",
       "      <td>Kentucky Brunch Brand Stout</td>\n",
       "      <td>4.97</td>\n",
       "      <td>4.97  rDev \\n\\n\\nPoured black as ink with thin...</td>\n",
       "    </tr>\n",
       "  </tbody>\n",
       "</table>\n",
       "</div>"
      ],
      "text/plain": [
       "   Unnamed: 0                 Product Name  Product Rating  \\\n",
       "0           0  Kentucky Brunch Brand Stout            4.80   \n",
       "1           1  Kentucky Brunch Brand Stout            4.74   \n",
       "2           2  Kentucky Brunch Brand Stout            4.68   \n",
       "3           3  Kentucky Brunch Brand Stout            5.00   \n",
       "4           4  Kentucky Brunch Brand Stout            4.97   \n",
       "\n",
       "                                      Product Review  \n",
       "0  4.8  rDev \\n\\n\\n2016 Silver Wax. Aroma has whi...  \n",
       "1  4.74  rDev \\n\\n\\nThe beer pours Pitch Black wi...  \n",
       "2  4.68  rDev \\n\\n\\nProbably the smoothest beer I...  \n",
       "3  5  rDev \\n\\n\\nDark black, very thick, a little...  \n",
       "4  4.97  rDev \\n\\n\\nPoured black as ink with thin...  "
      ]
     },
     "execution_count": 4,
     "metadata": {},
     "output_type": "execute_result"
    }
   ],
   "source": [
    "df.head()\n"
   ]
  },
  {
   "cell_type": "code",
   "execution_count": 11,
   "metadata": {},
   "outputs": [
    {
     "data": {
      "text/html": [
       "<div>\n",
       "<style scoped>\n",
       "    .dataframe tbody tr th:only-of-type {\n",
       "        vertical-align: middle;\n",
       "    }\n",
       "\n",
       "    .dataframe tbody tr th {\n",
       "        vertical-align: top;\n",
       "    }\n",
       "\n",
       "    .dataframe thead th {\n",
       "        text-align: right;\n",
       "    }\n",
       "</style>\n",
       "<table border=\"1\" class=\"dataframe\">\n",
       "  <thead>\n",
       "    <tr style=\"text-align: right;\">\n",
       "      <th></th>\n",
       "      <th>Unnamed: 0</th>\n",
       "      <th>Product Name</th>\n",
       "      <th>Product Rating</th>\n",
       "      <th>Product Review</th>\n",
       "    </tr>\n",
       "  </thead>\n",
       "  <tbody>\n",
       "    <tr>\n",
       "      <th>0</th>\n",
       "      <td>0</td>\n",
       "      <td>Kentucky Brunch Brand Stout</td>\n",
       "      <td>4.80</td>\n",
       "      <td>4.8  rDev \\n\\n\\n2016 Silver Wax. Aroma has whi...</td>\n",
       "    </tr>\n",
       "    <tr>\n",
       "      <th>1</th>\n",
       "      <td>1</td>\n",
       "      <td>Kentucky Brunch Brand Stout</td>\n",
       "      <td>4.74</td>\n",
       "      <td>4.74  rDev \\n\\n\\nThe beer pours Pitch Black wi...</td>\n",
       "    </tr>\n",
       "    <tr>\n",
       "      <th>2</th>\n",
       "      <td>2</td>\n",
       "      <td>Kentucky Brunch Brand Stout</td>\n",
       "      <td>4.68</td>\n",
       "      <td>4.68  rDev \\n\\n\\nProbably the smoothest beer I...</td>\n",
       "    </tr>\n",
       "    <tr>\n",
       "      <th>3</th>\n",
       "      <td>3</td>\n",
       "      <td>Kentucky Brunch Brand Stout</td>\n",
       "      <td>5.00</td>\n",
       "      <td>5  rDev \\n\\n\\nDark black, very thick, a little...</td>\n",
       "    </tr>\n",
       "    <tr>\n",
       "      <th>4</th>\n",
       "      <td>4</td>\n",
       "      <td>Kentucky Brunch Brand Stout</td>\n",
       "      <td>4.97</td>\n",
       "      <td>4.97  rDev \\n\\n\\nPoured black as ink with thin...</td>\n",
       "    </tr>\n",
       "  </tbody>\n",
       "</table>\n",
       "</div>"
      ],
      "text/plain": [
       "   Unnamed: 0                 Product Name  Product Rating  \\\n",
       "0           0  Kentucky Brunch Brand Stout            4.80   \n",
       "1           1  Kentucky Brunch Brand Stout            4.74   \n",
       "2           2  Kentucky Brunch Brand Stout            4.68   \n",
       "3           3  Kentucky Brunch Brand Stout            5.00   \n",
       "4           4  Kentucky Brunch Brand Stout            4.97   \n",
       "\n",
       "                                      Product Review  \n",
       "0  4.8  rDev \\n\\n\\n2016 Silver Wax. Aroma has whi...  \n",
       "1  4.74  rDev \\n\\n\\nThe beer pours Pitch Black wi...  \n",
       "2  4.68  rDev \\n\\n\\nProbably the smoothest beer I...  \n",
       "3  5  rDev \\n\\n\\nDark black, very thick, a little...  \n",
       "4  4.97  rDev \\n\\n\\nPoured black as ink with thin...  "
      ]
     },
     "execution_count": 11,
     "metadata": {},
     "output_type": "execute_result"
    }
   ],
   "source": [
    "df_sim=df.iloc[0:300]\n",
    "df_sim.head()"
   ]
  },
  {
   "cell_type": "code",
   "execution_count": 12,
   "metadata": {},
   "outputs": [],
   "source": [
    "df_sim.drop('Unnamed: 0', axis=1, inplace=True)"
   ]
  },
  {
   "cell_type": "code",
   "execution_count": 23,
   "metadata": {},
   "outputs": [
    {
     "name": "stderr",
     "output_type": "stream",
     "text": [
      "/Users/subhayuchakravarty/anaconda3/lib/python3.7/site-packages/ipykernel_launcher.py:1: SettingWithCopyWarning: \n",
      "A value is trying to be set on a copy of a slice from a DataFrame.\n",
      "Try using .loc[row_indexer,col_indexer] = value instead\n",
      "\n",
      "See the caveats in the documentation: http://pandas.pydata.org/pandas-docs/stable/indexing.html#indexing-view-versus-copy\n",
      "  \"\"\"Entry point for launching an IPython kernel.\n"
     ]
    }
   ],
   "source": [
    "df_sim['CleanReview']=df_sim['Product Review'].apply(lambda x: x.split('\\n')[3])"
   ]
  },
  {
   "cell_type": "code",
   "execution_count": 31,
   "metadata": {},
   "outputs": [
    {
     "data": {
      "text/plain": [
       "array(['Kentucky Brunch Brand Stout', 'Marshmallow Handjee',\n",
       "       \"Hunahpu's Imperial Stout - Double Barrel Aged\",\n",
       "       'Barrel-Aged Abraxas', 'Heady Topper', 'King Julius',\n",
       "       'Pliny The Younger', \"Mornin' Delight\", 'Very Hazy',\n",
       "       'King JJJuliusss', 'Fundamental Observation', 'SR-71'],\n",
       "      dtype=object)"
      ]
     },
     "execution_count": 31,
     "metadata": {},
     "output_type": "execute_result"
    }
   ],
   "source": [
    "df_sim['Product Name'].unique()"
   ]
  },
  {
   "cell_type": "code",
   "execution_count": 28,
   "metadata": {},
   "outputs": [
    {
     "name": "stderr",
     "output_type": "stream",
     "text": [
      "[nltk_data] Downloading package vader_lexicon to\n",
      "[nltk_data]     /Users/subhayuchakravarty/nltk_data...\n",
      "[nltk_data]   Package vader_lexicon is already up-to-date!\n"
     ]
    },
    {
     "data": {
      "text/plain": [
       "True"
      ]
     },
     "execution_count": 28,
     "metadata": {},
     "output_type": "execute_result"
    }
   ],
   "source": [
    "nltk.download('vader_lexicon')"
   ]
  },
  {
   "cell_type": "code",
   "execution_count": null,
   "metadata": {},
   "outputs": [],
   "source": [
    "df_sim[]"
   ]
  },
  {
   "cell_type": "code",
   "execution_count": 32,
   "metadata": {},
   "outputs": [],
   "source": [
    "sorted_lifts=[(('Kentucky Brunch Brand Stout','smooth'),1.2),(('Kentucky Brunch Brand Stout','aggresive'),1.1),(('Pliny The Younger','smooth'),1.8),(('Pliny The Younger','aggresive'),0.8),(('King JJJuliusss','aggresive'),3.8)]"
   ]
  },
  {
   "cell_type": "code",
   "execution_count": 34,
   "metadata": {},
   "outputs": [
    {
     "name": "stdout",
     "output_type": "stream",
     "text": [
      "[]\n",
      "Kentucky Brunch Brand Stout\n"
     ]
    },
    {
     "ename": "ZeroDivisionError",
     "evalue": "division by zero",
     "output_type": "error",
     "traceback": [
      "\u001b[0;31m---------------------------------------------------------------------------\u001b[0m",
      "\u001b[0;31mZeroDivisionError\u001b[0m                         Traceback (most recent call last)",
      "\u001b[0;32m<ipython-input-34-9580a29bb504>\u001b[0m in \u001b[0;36m<module>\u001b[0;34m\u001b[0m\n\u001b[1;32m     24\u001b[0m     \u001b[0mprint\u001b[0m\u001b[0;34m(\u001b[0m\u001b[0msentiments\u001b[0m\u001b[0;34m)\u001b[0m\u001b[0;34m\u001b[0m\u001b[0;34m\u001b[0m\u001b[0m\n\u001b[1;32m     25\u001b[0m     \u001b[0mprint\u001b[0m\u001b[0;34m(\u001b[0m\u001b[0mcandidate\u001b[0m\u001b[0;34m)\u001b[0m\u001b[0;34m\u001b[0m\u001b[0;34m\u001b[0m\u001b[0m\n\u001b[0;32m---> 26\u001b[0;31m     \u001b[0mavg_sentiment\u001b[0m \u001b[0;34m=\u001b[0m \u001b[0mround\u001b[0m\u001b[0;34m(\u001b[0m\u001b[0msum\u001b[0m\u001b[0;34m(\u001b[0m\u001b[0msentiments\u001b[0m\u001b[0;34m)\u001b[0m\u001b[0;34m/\u001b[0m\u001b[0mlen\u001b[0m\u001b[0;34m(\u001b[0m\u001b[0msentiments\u001b[0m\u001b[0;34m)\u001b[0m\u001b[0;34m,\u001b[0m\u001b[0;36m2\u001b[0m\u001b[0;34m)\u001b[0m\u001b[0;34m\u001b[0m\u001b[0;34m\u001b[0m\u001b[0m\n\u001b[0m\u001b[1;32m     27\u001b[0m     \u001b[0msentiment_dict\u001b[0m\u001b[0;34m[\u001b[0m\u001b[0mkey\u001b[0m\u001b[0;34m]\u001b[0m \u001b[0;34m=\u001b[0m \u001b[0mavg_sentiment\u001b[0m\u001b[0;34m\u001b[0m\u001b[0;34m\u001b[0m\u001b[0m\n\u001b[1;32m     28\u001b[0m \u001b[0;34m\u001b[0m\u001b[0m\n",
      "\u001b[0;31mZeroDivisionError\u001b[0m: division by zero"
     ]
    }
   ],
   "source": [
    "def sentiment_value(review):\n",
    "    analyser = sentiment()\n",
    "    result = analyser.polarity_scores(review)\n",
    "    score = result['compound']\n",
    "    return round(score,1)\n",
    "count=0\n",
    "for i in sorted_lifts:\n",
    "    candidate = i[0][0]\n",
    "    place = i[0][1]\n",
    "    key = (candidate,place)\n",
    "    sentiments = []\n",
    "    for review in df_sim['CleanReview']:\n",
    "        if candidate in review and place in review:\n",
    "            words = re.findall(r'\\w+', review)\n",
    "            if place in words:\n",
    "                index = words.index(place)\n",
    "                left = words[index - 3:index]\n",
    "                right = words[index + 1:index + 4]\n",
    "                tweetyy = \" \".join(left) + \" \" + words[index] + \" \" + \" \".join(right)\n",
    "            else:\n",
    "                tweetyy = tweet\n",
    "            sv = sentiment_value(tweetyy)\n",
    "            sentiments.append(sv)\n",
    "    print(sentiments)\n",
    "    print(candidate)\n",
    "    avg_sentiment = round(sum(sentiments)/len(sentiments),2)\n",
    "    sentiment_dict[key] = avg_sentiment\n",
    "\n",
    "print(\"Beer Sentiment\")\n",
    "sentiment_dict"
   ]
  },
  {
   "cell_type": "code",
   "execution_count": null,
   "metadata": {},
   "outputs": [],
   "source": []
  }
 ],
 "metadata": {
  "kernelspec": {
   "display_name": "Python 3",
   "language": "python",
   "name": "python3"
  },
  "language_info": {
   "codemirror_mode": {
    "name": "ipython",
    "version": 3
   },
   "file_extension": ".py",
   "mimetype": "text/x-python",
   "name": "python",
   "nbconvert_exporter": "python",
   "pygments_lexer": "ipython3",
   "version": "3.7.3"
  }
 },
 "nbformat": 4,
 "nbformat_minor": 2
}
