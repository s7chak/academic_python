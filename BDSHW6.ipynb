{
 "cells": [
  {
   "cell_type": "markdown",
   "metadata": {},
   "source": [
    "## <div align=\"center\">Business Data Science Home Work: 6</div>"
   ]
  },
  {
   "cell_type": "markdown",
   "metadata": {},
   "source": [
    "## <div align=\"center\">Submitted by Prajval Gupta & Subhayu Chakravarty</div>"
   ]
  },
  {
   "cell_type": "code",
   "execution_count": 1,
   "metadata": {},
   "outputs": [],
   "source": [
    "# Import Statements\n",
    "import pandas as pd\n",
    "import numpy as np\n",
    "import matplotlib\n",
    "import matplotlib.pyplot as plt\n",
    "from sklearn.datasets import fetch_openml\n",
    "from sklearn.model_selection import train_test_split\n",
    "from sklearn.ensemble import RandomForestClassifier\n",
    "from sklearn.model_selection import RandomizedSearchCV, GridSearchCV\n",
    "from sklearn.metrics import classification_report, confusion_matrix, mean_squared_error\n",
    "from sklearn.model_selection import cross_val_score\n",
    "from xgboost import XGBClassifier\n",
    "\n",
    "from scipy.stats import skew\n",
    "from scipy.stats.stats import pearsonr\n",
    "from sklearn.linear_model import Ridge, RidgeCV, LassoCV, Lasso, ElasticNet\n",
    "from sklearn.model_selection import cross_val_score, KFold\n",
    "from sklearn.metrics import r2_score, accuracy_score\n",
    "from sklearn.pipeline import make_pipeline\n",
    "from sklearn.preprocessing import RobustScaler"
   ]
  },
  {
   "cell_type": "markdown",
   "metadata": {},
   "source": [
    "## Problem 1: Multi-class Classification – MNIST"
   ]
  },
  {
   "cell_type": "markdown",
   "metadata": {},
   "source": [
    "In this exercise you will explore the MNIST data set which you will find here: <a href=\"https://www.\n",
    "openml.org/d/554\">https://www.\n",
    "openml.org/d/554</a>. MNIST is a data set of handwritten digits, and is considered one of the\n",
    "“easiest” image recognition problems in computer vision.\n",
    "\n",
    "- Use the fetch openml command from sklearn.datasets to import the MNIST data set,\n",
    "- Use Random Forests to try to get the best possible test accuracy on MNIST. This involves getting acquainted with how Random Forests work, understanding their parameters, and therefore using Cross Validation to find the best settings. How well can you do? You should use the accuracy metric, since this is what you used in Lab 5 – therefore this will allow you to compare your results from Random Forests with your results from L1- and L2- Regularized Logistic Regression. What are the hyperparameters of your best model?\n",
    "\n",
    "- Use Boosting to do the same. Take the time to understand how XGBoost works (and/or other boosting packages available). Try your best to tune your hyper-parameters. As added motivation: typically the winners and near-winners of the Kaggle competition are those that are best able to tune an cross validate XGBoost. What are the hyperparameters of your best model?\n",
    "\n",
    "- (Optional) Run multi-class logistic regression on these using the cross entropy loss. You may have to play around with the hyperparameters (especially the tolerance) to get it to converge in a reasonable amount of time. I recommend the SAGA solver. Try to optimize the hyperparameters. Report your training and test loss from above,\n",
    "\n",
    "- (Optional) Choose an 1 regularizer (penalty), and see if you can get a sparse solution with almost as good accuracy.\n",
    "- (Optional) Note that in Logistic Regression, the coefficients returned (i.e., the β’s) are the same dimension as the data. Therefore we can pretend that the coefficients of the solution 1 are an image of the same dimension, and plot it. Do this for the 10 sets of coefficients that correspond to the 10 classes. You should observe that, at least for the sparse solutions, these “kind of” look like the digits they are classifying."
   ]
  },
  {
   "cell_type": "markdown",
   "metadata": {},
   "source": [
    "#### Data Loading using `fetch_openml` command"
   ]
  },
  {
   "cell_type": "code",
   "execution_count": 11,
   "metadata": {},
   "outputs": [],
   "source": [
    "X,y = fetch_openml('mnist_784',version=1, return_X_y=True)"
   ]
  },
  {
   "cell_type": "markdown",
   "metadata": {},
   "source": [
    "#### Image display"
   ]
  },
  {
   "cell_type": "code",
   "execution_count": 23,
   "metadata": {},
   "outputs": [
    {
     "data": {
      "image/png": "[encoded data removed]",
      "text/plain": [
       "<Figure size 432x288 with 1 Axes>"
      ]
     },
     "metadata": {
      "needs_background": "light"
     },
     "output_type": "display_data"
    }
   ],
   "source": [
    "plt.imshow(X[0].reshape((28, 28)), cmap='gray')\n",
    "plt.show()"
   ]
  },
  {
   "cell_type": "markdown",
   "metadata": {},
   "source": [
    "#### Splitting the data into training and testing set"
   ]
  },
  {
   "cell_type": "code",
   "execution_count": 51,
   "metadata": {},
   "outputs": [],
   "source": [
    "X_train, X_test, y_train, y_test = train_test_split(X, y, test_size=0.25, random_state=0)"
   ]
  },
  {
   "cell_type": "markdown",
   "metadata": {},
   "source": [
    "### Random Forest Classifier"
   ]
  },
  {
   "cell_type": "code",
   "execution_count": 62,
   "metadata": {},
   "outputs": [
    {
     "name": "stdout",
     "output_type": "stream",
     "text": [
      "Fitting 2 folds for each of 24 candidates, totalling 48 fits\n"
     ]
    },
    {
     "name": "stderr",
     "output_type": "stream",
     "text": [
      "[Parallel(n_jobs=-1)]: Using backend LokyBackend with 8 concurrent workers.\n",
      "[Parallel(n_jobs=-1)]: Done  25 tasks      | elapsed:  5.2min\n",
      "[Parallel(n_jobs=-1)]: Done  48 out of  48 | elapsed:  9.1min finished\n"
     ]
    },
    {
     "data": {
      "text/plain": [
       "{'bootstrap': False,\n",
       " 'max_features': 'auto',\n",
       " 'min_samples_split': 3,\n",
       " 'n_estimators': 120}"
      ]
     },
     "execution_count": 62,
     "metadata": {},
     "output_type": "execute_result"
    }
   ],
   "source": [
    "param_grid = {\n",
    "    'bootstrap': [True,False],\n",
    "    'max_features': ['auto','sqrt'],\n",
    "    'min_samples_split': [2,3],\n",
    "    'n_estimators': [80,100,120]\n",
    "}\n",
    "\n",
    "rf = RandomForestClassifier()\n",
    "# Instantiate the grid search model\n",
    "grid_search = GridSearchCV(estimator = rf, param_grid = param_grid, \n",
    "                          cv = 2, n_jobs = -1, verbose = 2)\n",
    "\n",
    "grid_search.fit(X_train,y_train)\n",
    "grid_search.best_params_"
   ]
  },
  {
   "cell_type": "markdown",
   "metadata": {},
   "source": [
    "### Best Hyperparameters"
   ]
  },
  {
   "cell_type": "markdown",
   "metadata": {},
   "source": [
    "So, The best parameters after using GridSearchCV are:\n",
    "1. 'bootstrap': False,\n",
    "2. 'max_features': 'auto'\n",
    "3. 'min_samples_split': 3\n",
    "4. 'n_estimators': 120"
   ]
  },
  {
   "cell_type": "markdown",
   "metadata": {},
   "source": [
    "### Cross-Validation using the best hyperparameters found using GridSearchCV"
   ]
  },
  {
   "cell_type": "code",
   "execution_count": 78,
   "metadata": {},
   "outputs": [
    {
     "name": "stdout",
     "output_type": "stream",
     "text": [
      "The mean Cross-Validation accuracy is 0.97\n"
     ]
    }
   ],
   "source": [
    "rfc = RandomForestClassifier(bootstrap = False, max_features = \"auto\", min_samples_split=3, n_estimators=120)\n",
    "score = cross_val_score(rfc, X_train, y_train)\n",
    "print (\"The mean Cross-Validation accuracy is %0.2f\" % np.mean(score))"
   ]
  },
  {
   "cell_type": "code",
   "execution_count": 80,
   "metadata": {},
   "outputs": [],
   "source": [
    "rfc.fit(X_train, y_train)\n",
    "test_accuracy = rfc.score(X_test, y_test)"
   ]
  },
  {
   "cell_type": "markdown",
   "metadata": {},
   "source": [
    "### Testing Accuracy "
   ]
  },
  {
   "cell_type": "code",
   "execution_count": 83,
   "metadata": {},
   "outputs": [
    {
     "data": {
      "text/plain": [
       "0.9709142857142857"
      ]
     },
     "execution_count": 83,
     "metadata": {},
     "output_type": "execute_result"
    }
   ],
   "source": [
    "test_accuracy"
   ]
  },
  {
   "cell_type": "markdown",
   "metadata": {},
   "source": [
    "### XGBoost Classifier"
   ]
  },
  {
   "cell_type": "code",
   "execution_count": 117,
   "metadata": {},
   "outputs": [],
   "source": [
    "param_grid_xgb = {\"learning_rate\": [0.1, 0.01],\n",
    "               \"gamma\" : [0.1, 0.5, 1],\n",
    "               \"max_depth\": [2, 4],\n",
    "               \"n_estimators\": [100, 250, 500]}\n",
    "xgb = XGBClassifier()\n",
    "\n",
    "grid_search_xgb = GridSearchCV(estimator = xgb, param_grid = param_grid_xgb, \n",
    "                          cv = 2, n_jobs = -1, verbose=2)\n",
    "\n",
    "grid_search_xgb.fit(X_train,y_train)\n",
    "grid_search_xgb.best_params_"
   ]
  },
  {
   "cell_type": "markdown",
   "metadata": {},
   "source": [
    "### Best Hyperparameters"
   ]
  },
  {
   "cell_type": "markdown",
   "metadata": {},
   "source": [
    "So, The best parameters after using GridSearchCV are:\n",
    "1. 'learning_rate': 0.1\n",
    "2. 'gamma': '1'\n",
    "3. 'max_depth': 2\n",
    "4. 'n_estimators': 500"
   ]
  },
  {
   "cell_type": "markdown",
   "metadata": {},
   "source": [
    "### Cross-Validation using the best hyperparameters found using GridSearchCV"
   ]
  },
  {
   "cell_type": "code",
   "execution_count": 118,
   "metadata": {},
   "outputs": [
    {
     "name": "stderr",
     "output_type": "stream",
     "text": [
      "/Users/prajvalgupta/anaconda3/lib/python3.7/site-packages/sklearn/model_selection/_split.py:1978: FutureWarning: The default value of cv will change from 3 to 5 in version 0.22. Specify it explicitly to silence this warning.\n",
      "  warnings.warn(CV_WARNING, FutureWarning)\n"
     ]
    },
    {
     "name": "stdout",
     "output_type": "stream",
     "text": [
      "The mean Cross-Validation accuracy is 0.93\n"
     ]
    }
   ],
   "source": [
    "xgb = XGBClassifier(learning_rate=0.1, gamma=1, max_depth=2. n_estimators=500)\n",
    "score = cross_val_score(xgb, X_train, y_train)\n",
    "print (\"The mean Cross-Validation accuracy is %0.2f\" % np.mean(score))"
   ]
  },
  {
   "cell_type": "code",
   "execution_count": 119,
   "metadata": {},
   "outputs": [],
   "source": [
    "xgb.fit(X_train, y_train)\n",
    "test_accuracy = xgb.score(X_test, y_test)"
   ]
  },
  {
   "cell_type": "markdown",
   "metadata": {},
   "source": [
    "### Testing Accuracy "
   ]
  },
  {
   "cell_type": "code",
   "execution_count": 121,
   "metadata": {},
   "outputs": [
    {
     "data": {
      "text/plain": [
       "0.9290857142857143"
      ]
     },
     "execution_count": 121,
     "metadata": {},
     "output_type": "execute_result"
    }
   ],
   "source": [
    "test_accuracy"
   ]
  },
  {
   "cell_type": "markdown",
   "metadata": {},
   "source": [
    "## Problem 2: CIFAR-10"
   ]
  },
  {
   "cell_type": "markdown",
   "metadata": {},
   "source": [
    "In this problem you will explore the data set CIFAR-10, just as you did above for MNIST. Now that you have your pipeline set up, it should be easy to apply the above procedure to CIFAR-10. If you did something that takes significant computation time, keep in mind that CIFAR-10 is a few times larger.\n",
    "\n",
    "- (Optional) You can read about the CIFAR-10 and CIFAR-100 data sets here: \n",
    "<a href=\"https://www.cs.toronto.edu/~kriz/cifar.html\">https://www.cs.toronto.edu/~kriz/cifar.html\"</a>.\n",
    "- (Optional) OpenML curates a number of data sets. You will use a subset of CIFAR-10 provided by them. Read here for a description: \n",
    "<a href=\"https://www.openml.org/d/40926\">https://www.openml.org/d/40926</a>\n",
    "- Use the fetch openml command from sklearn.datasets to import the CIFAR-10-Small data set.\n",
    "- Figure out how to display some of the images in this data set, and display a couple. While not high resolution, these should be recognizable if you are doing it correctly.\n",
    "- What is the best accuracy you can get on the test data, by tuning Random Forests? What are the hyperparameters of your best model?\n",
    "- What is the best accuracy you can get on the test data, by tuning XGBoost? What are the hyperparameters of your best model?\n",
    "- (Optional) You will run multi-class logistic regression on these using the cross entropy loss. You have to specify this specifically (multi class=’multinomial’). Use cross validation to see how good your accuracy can be. In this case, cross validate to find as good regularization coefficients as you can, for 1 and 2 regularization (called penalties), which are naturally supported in sklearn.linear model.LogisticRegression. As with MNIST, I recommend you use the solver saga.\n",
    "- (Optional) Report your training and test loss from above,\n",
    "- (Optional) How sparse can you make your solutions without deteriorating your testing error too much? Here, I am asking you to try to obtain a sparse solution that has test accuracy that is close to the best solution you found."
   ]
  },
  {
   "cell_type": "markdown",
   "metadata": {},
   "source": [
    "#### Data Loading using `fetch_openml` command"
   ]
  },
  {
   "cell_type": "code",
   "execution_count": 2,
   "metadata": {},
   "outputs": [],
   "source": [
    "X_c,y_c = fetch_openml('CIFAR_10_small',version=1, return_X_y=True)"
   ]
  },
  {
   "cell_type": "code",
   "execution_count": 3,
   "metadata": {},
   "outputs": [],
   "source": [
    "X_c = X_c/255"
   ]
  },
  {
   "cell_type": "markdown",
   "metadata": {},
   "source": [
    "#### Display Images"
   ]
  },
  {
   "cell_type": "code",
   "execution_count": 4,
   "metadata": {},
   "outputs": [
    {
     "data": {
      "image/png": "[encoded data removed]",
      "text/plain": [
       "<Figure size 576x576 with 20 Axes>"
      ]
     },
     "metadata": {
      "needs_background": "light"
     },
     "output_type": "display_data"
    }
   ],
   "source": [
    "plt.figure(figsize=(8,8))\n",
    "for i in range(20):\n",
    "    plt.subplot(4,5,i+1)\n",
    "    plt.imshow(np.moveaxis(X_c[i].reshape((3,32, 32)),0,2))\n",
    "plt.show()"
   ]
  },
  {
   "cell_type": "markdown",
   "metadata": {},
   "source": [
    "#### Splitting the data into training and testing set"
   ]
  },
  {
   "cell_type": "code",
   "execution_count": 5,
   "metadata": {},
   "outputs": [],
   "source": [
    "X_c_train, X_c_test, y_c_train, y_c_test = train_test_split(X_c, y_c, test_size=0.25, random_state=0)"
   ]
  },
  {
   "cell_type": "markdown",
   "metadata": {},
   "source": [
    "### Random Forest Classifier"
   ]
  },
  {
   "cell_type": "code",
   "execution_count": 173,
   "metadata": {},
   "outputs": [],
   "source": [
    "param_grid = {\n",
    "'criterion': ['gini', 'entropy'],\n",
    "'max_depth': [500],\n",
    "'n_estimators': [50,80,100,120]\n",
    "}\n",
    "\n",
    "rf_c = RandomForestClassifier()"
   ]
  },
  {
   "cell_type": "code",
   "execution_count": 175,
   "metadata": {},
   "outputs": [
    {
     "name": "stdout",
     "output_type": "stream",
     "text": [
      "Fitting 3 folds for each of 8 candidates, totalling 24 fits\n"
     ]
    },
    {
     "name": "stderr",
     "output_type": "stream",
     "text": [
      "[Parallel(n_jobs=-1)]: Using backend LokyBackend with 8 concurrent workers.\n",
      "[Parallel(n_jobs=-1)]: Done  22 out of  24 | elapsed:  4.2min remaining:   23.0s\n",
      "[Parallel(n_jobs=-1)]: Done  24 out of  24 | elapsed:  4.5min finished\n"
     ]
    },
    {
     "data": {
      "text/plain": [
       "{'criterion': 'gini', 'max_depth': 500, 'n_estimators': 120}"
      ]
     },
     "execution_count": 175,
     "metadata": {},
     "output_type": "execute_result"
    }
   ],
   "source": [
    "grid_search_rf_c = GridSearchCV(estimator = rf_c, param_grid = param_grid, \n",
    "                          cv = 3, n_jobs = -1, verbose=2)\n",
    "\n",
    "grid_search_rf_c.fit(X_c_train,y_c_train)\n",
    "grid_search_rf_c.best_params_"
   ]
  },
  {
   "cell_type": "markdown",
   "metadata": {},
   "source": [
    "So, The best parameters after using GridSearchCV are:\n",
    "1. 'criterion': gini\n",
    "2. 'max_depth': 500\n",
    "3. 'n_estimators': 120"
   ]
  },
  {
   "cell_type": "markdown",
   "metadata": {},
   "source": [
    "### Cross-Validation using the best hyperparameters found using GridSearchCV"
   ]
  },
  {
   "cell_type": "code",
   "execution_count": 181,
   "metadata": {},
   "outputs": [
    {
     "name": "stderr",
     "output_type": "stream",
     "text": [
      "/Users/prajvalgupta/anaconda3/lib/python3.7/site-packages/sklearn/model_selection/_split.py:1978: FutureWarning: The default value of cv will change from 3 to 5 in version 0.22. Specify it explicitly to silence this warning.\n",
      "  warnings.warn(CV_WARNING, FutureWarning)\n"
     ]
    },
    {
     "name": "stdout",
     "output_type": "stream",
     "text": [
      "The mean Cross-Validation accuracy is 0.41\n"
     ]
    }
   ],
   "source": [
    "rf_c = RandomForestClassifier(max_depth = 500, max_features = \"auto\", min_samples_leaf=10, criterion='gini',n_estimators=120)\n",
    "score_c = cross_val_score(rf_c, X_c_train, y_c_train)\n",
    "print (\"The mean Cross-Validation accuracy is %0.2f\" % np.mean(score_c))"
   ]
  },
  {
   "cell_type": "code",
   "execution_count": 177,
   "metadata": {},
   "outputs": [],
   "source": [
    "rf_c.fit(X_c_train, y_c_train)\n",
    "test_accuracy_c = rf_c.score(X_c_test, y_c_test)"
   ]
  },
  {
   "cell_type": "markdown",
   "metadata": {},
   "source": [
    "### Testing Accuracy"
   ]
  },
  {
   "cell_type": "code",
   "execution_count": 178,
   "metadata": {},
   "outputs": [
    {
     "data": {
      "text/plain": [
       "0.4274"
      ]
     },
     "execution_count": 178,
     "metadata": {},
     "output_type": "execute_result"
    }
   ],
   "source": [
    "test_accuracy_c"
   ]
  },
  {
   "cell_type": "markdown",
   "metadata": {},
   "source": [
    "\n",
    "### XGBoost Classifier"
   ]
  },
  {
   "cell_type": "code",
   "execution_count": 189,
   "metadata": {},
   "outputs": [],
   "source": [
    "param_grid_xgb_c = {\"learning_rate\": [0.1, 0.5],\n",
    "               \"gamma\" : [0.1, 0.5, 1],\n",
    "               \"max_depth\": [2, 4],\n",
    "               \"n_estimators\": [80,100,120]}"
   ]
  },
  {
   "cell_type": "code",
   "execution_count": 190,
   "metadata": {},
   "outputs": [],
   "source": [
    "xgb_c = XGBClassifier()"
   ]
  },
  {
   "cell_type": "code",
   "execution_count": 192,
   "metadata": {},
   "outputs": [],
   "source": [
    "grid_search_xgb_c = GridSearchCV(estimator = xgb_c, param_grid = param_grid_xgb_c, \n",
    "                          cv = 2, n_jobs = -1, verbose=2)\n",
    "\n",
    "grid_search_xgb_c.fit(X_c_train,y_c_train)\n",
    "grid_search_xgb_c.best_params_"
   ]
  },
  {
   "cell_type": "code",
   "execution_count": 6,
   "metadata": {},
   "outputs": [
    {
     "name": "stderr",
     "output_type": "stream",
     "text": [
      "/Users/subhayuchakravarty/anaconda3/lib/python3.7/site-packages/sklearn/model_selection/_split.py:1978: FutureWarning: The default value of cv will change from 3 to 5 in version 0.22. Specify it explicitly to silence this warning.\n",
      "  warnings.warn(CV_WARNING, FutureWarning)\n"
     ]
    },
    {
     "name": "stdout",
     "output_type": "stream",
     "text": [
      "The mean Cross-Validation accuracy is 0.40\n"
     ]
    }
   ],
   "source": [
    "xgb_c = XGBClassifier(learning_rate=0.1, gamma=1, max_depth=2, n_estimators=100)\n",
    "score = cross_val_score(xgb_c, X_c_train, y_c_train)\n",
    "print (\"The mean Cross-Validation accuracy is %0.2f\" % np.mean(score))"
   ]
  },
  {
   "cell_type": "code",
   "execution_count": 7,
   "metadata": {},
   "outputs": [],
   "source": [
    "xgb_c.fit(X_c_train, y_c_train)\n",
    "test_accuracy_xgb_c = xgb_c.score(X_c_test, y_c_test)"
   ]
  },
  {
   "cell_type": "code",
   "execution_count": 8,
   "metadata": {},
   "outputs": [
    {
     "data": {
      "text/plain": [
       "0.413"
      ]
     },
     "execution_count": 8,
     "metadata": {},
     "output_type": "execute_result"
    }
   ],
   "source": [
    "test_accuracy_xgb_c"
   ]
  },
  {
   "cell_type": "markdown",
   "metadata": {},
   "source": [
    "So, The best parameters after using GridSearchCV are:\n",
    "1. 'learning_rate': 0.1\n",
    "2. 'gamma': '1'\n",
    "3. 'max_depth': 2\n",
    "4. 'n_estimators': 100"
   ]
  },
  {
   "cell_type": "code",
   "execution_count": null,
   "metadata": {},
   "outputs": [],
   "source": []
  }
 ],
 "metadata": {
  "kernelspec": {
   "display_name": "Python 3",
   "language": "python",
   "name": "python3"
  },
  "language_info": {
   "codemirror_mode": {
    "name": "ipython",
    "version": 3
   },
   "file_extension": ".py",
   "mimetype": "text/x-python",
   "name": "python",
   "nbconvert_exporter": "python",
   "pygments_lexer": "ipython3",
   "version": "3.7.3"
  }
 },
 "nbformat": 4,
 "nbformat_minor": 2
}
