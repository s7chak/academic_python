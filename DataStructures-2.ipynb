{
 "cells": [
  {
   "cell_type": "markdown",
   "metadata": {},
   "source": [
    "## Binary Max Heap"
   ]
  },
  {
   "cell_type": "code",
   "execution_count": 133,
   "metadata": {},
   "outputs": [],
   "source": [
    "class MaxHeap(object):\n",
    "    def __init__(self):\n",
    "        self.heap=[0]\n",
    "        self.N=0\n",
    "    \n",
    "    def insert(self, k):\n",
    "        self.heap.append(k)\n",
    "        self.N+=1\n",
    "        self.swim(self.N)\n",
    "    \n",
    "    def swim(self, i):\n",
    "        if self.heap[i]>self.heap[i//2] and i//2>0:\n",
    "            self.swap(i, i//2)\n",
    "            self.swim(i//2)\n",
    "        return\n",
    "    \n",
    "    def delmax(self):\n",
    "        mx=self.heap[1]\n",
    "        self.swap(1,self.N)\n",
    "        self.N-=1\n",
    "        self.sink(1)\n",
    "        self.heap.pop()\n",
    "        return mx\n",
    "        \n",
    "    \n",
    "    def sink(self, i):\n",
    "        j=2*i\n",
    "        if j<self.N:\n",
    "            if self.heap[j]>self.heap[i] or self.heap[j+1]>self.heap[i]:\n",
    "                if self.heap[j+1]>self.heap[j]:\n",
    "                    j+=1\n",
    "            else:\n",
    "                return\n",
    "            self.swap(i, j)\n",
    "            self.sink(j)\n",
    "        return\n",
    "    \n",
    "    def swap(self, i, j):\n",
    "        self.heap[i], self.heap[j] = self.heap[j], self.heap[i]\n",
    "        return\n",
    "    \n",
    "    def printTree(self):\n",
    "        for i in range(1,self.N+1):\n",
    "            print(i,self.heap[i])"
   ]
  },
  {
   "cell_type": "code",
   "execution_count": 135,
   "metadata": {},
   "outputs": [
    {
     "name": "stdout",
     "output_type": "stream",
     "text": [
      "7\n",
      "11\n",
      "1 10\n",
      "2 9\n",
      "3 5\n",
      "4 4\n",
      "5 3\n",
      "6 1\n",
      "7 2\n"
     ]
    }
   ],
   "source": [
    "h=MaxHeap()\n",
    "h.insert(2)\n",
    "h.insert(4)\n",
    "h.insert(1)\n",
    "h.insert(3)\n",
    "h.insert(5)\n",
    "h.insert(7)\n",
    "print(h.delmax())\n",
    "h.insert(10)\n",
    "h.insert(11)\n",
    "h.insert(9)\n",
    "print(h.delmax())\n",
    "h.printTree()"
   ]
  },
  {
   "cell_type": "code",
   "execution_count": null,
   "metadata": {},
   "outputs": [],
   "source": []
  },
  {
   "cell_type": "code",
   "execution_count": null,
   "metadata": {},
   "outputs": [],
   "source": []
  }
 ],
 "metadata": {
  "kernelspec": {
   "display_name": "Python 3",
   "language": "python",
   "name": "python3"
  },
  "language_info": {
   "codemirror_mode": {
    "name": "ipython",
    "version": 3
   },
   "file_extension": ".py",
   "mimetype": "text/x-python",
   "name": "python",
   "nbconvert_exporter": "python",
   "pygments_lexer": "ipython3",
   "version": "3.7.3"
  }
 },
 "nbformat": 4,
 "nbformat_minor": 2
}
