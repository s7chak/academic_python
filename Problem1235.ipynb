{
 "cells": [
  {
   "cell_type": "markdown",
   "metadata": {},
   "source": [
    "## <center>HW4 - Business Data Science (MIS382N)</center>\n",
    "### <center>Submitted by Prajval Gupta and Subhayu Chakravarty</center>"
   ]
  },
  {
   "cell_type": "markdown",
   "metadata": {},
   "source": [
    "\n",
    "### Problem 1 – Warm up. Grid Search CV.\n",
    "\n",
    "1.  Run  this  simple  example  from  scikit  learn,  and  understand  what  each  command  is  doing:\n",
    "\n",
    "https://scikit-learn.org/stable/auto_examples/model_selection/plot_grid_search_digits.html"
   ]
  },
  {
   "cell_type": "code",
   "execution_count": 24,
   "metadata": {},
   "outputs": [],
   "source": [
    "#Import Statements\n",
    "from __future__ import division\n",
    "import numpy as np\n",
    "import matplotlib.pyplot as plt\n",
    "from sklearn import datasets, linear_model\n",
    "import pandas as pd\n",
    "from pandas import DataFrame, Series\n",
    "import seaborn as sns\n",
    "\n",
    "from sklearn.linear_model import LogisticRegression\n",
    "from sklearn.model_selection import train_test_split, cross_val_score, cross_validate\n",
    "from sklearn.metrics import accuracy_score\n",
    "from sklearn.preprocessing import StandardScaler\n",
    "sns.set(style='ticks', palette='Set2')\n",
    "%matplotlib inline\n",
    "\n",
    "from sklearn.linear_model import LinearRegression, Lasso, Ridge\n",
    "from sklearn.metrics import r2_score, mean_squared_error\n",
    "from sklearn.pipeline import make_pipeline, Pipeline\n",
    "from mlxtend.feature_selection import SequentialFeatureSelector as sfs\n",
    "import warnings\n",
    "from sklearn import datasets\n",
    "from sklearn.model_selection import train_test_split\n",
    "from sklearn.model_selection import GridSearchCV\n",
    "from sklearn.metrics import classification_report\n",
    "from sklearn.svm import SVC"
   ]
  },
  {
   "cell_type": "code",
   "execution_count": 103,
   "metadata": {},
   "outputs": [
    {
     "name": "stdout",
     "output_type": "stream",
     "text": [
      "Automatically created module for IPython interactive environment\n",
      "# Tuning hyper-parameters for precision\n",
      "\n",
      "Best parameters set found on development set:\n",
      "\n",
      "{'C': 10, 'gamma': 0.001, 'kernel': 'rbf'}\n",
      "\n",
      "Grid scores on development set:\n",
      "\n",
      "0.986 (+/-0.016) for {'C': 1, 'gamma': 0.001, 'kernel': 'rbf'}\n",
      "0.959 (+/-0.029) for {'C': 1, 'gamma': 0.0001, 'kernel': 'rbf'}\n",
      "0.988 (+/-0.017) for {'C': 10, 'gamma': 0.001, 'kernel': 'rbf'}\n",
      "0.982 (+/-0.026) for {'C': 10, 'gamma': 0.0001, 'kernel': 'rbf'}\n",
      "0.988 (+/-0.017) for {'C': 100, 'gamma': 0.001, 'kernel': 'rbf'}\n",
      "0.982 (+/-0.025) for {'C': 100, 'gamma': 0.0001, 'kernel': 'rbf'}\n",
      "0.988 (+/-0.017) for {'C': 1000, 'gamma': 0.001, 'kernel': 'rbf'}\n",
      "0.982 (+/-0.025) for {'C': 1000, 'gamma': 0.0001, 'kernel': 'rbf'}\n",
      "0.975 (+/-0.014) for {'C': 1, 'kernel': 'linear'}\n",
      "0.975 (+/-0.014) for {'C': 10, 'kernel': 'linear'}\n",
      "0.975 (+/-0.014) for {'C': 100, 'kernel': 'linear'}\n",
      "0.975 (+/-0.014) for {'C': 1000, 'kernel': 'linear'}\n",
      "\n",
      "Detailed classification report:\n",
      "\n",
      "The model is trained on the full development set.\n",
      "The scores are computed on the full evaluation set.\n",
      "\n",
      "              precision    recall  f1-score   support\n",
      "\n",
      "           0       1.00      1.00      1.00        89\n",
      "           1       0.97      1.00      0.98        90\n",
      "           2       0.99      0.98      0.98        92\n",
      "           3       1.00      0.99      0.99        93\n",
      "           4       1.00      1.00      1.00        76\n",
      "           5       0.99      0.98      0.99       108\n",
      "           6       0.99      1.00      0.99        89\n",
      "           7       0.99      1.00      0.99        78\n",
      "           8       1.00      0.98      0.99        92\n",
      "           9       0.99      0.99      0.99        92\n",
      "\n",
      "   micro avg       0.99      0.99      0.99       899\n",
      "   macro avg       0.99      0.99      0.99       899\n",
      "weighted avg       0.99      0.99      0.99       899\n",
      "\n",
      "\n",
      "# Tuning hyper-parameters for recall\n",
      "\n",
      "Best parameters set found on development set:\n",
      "\n",
      "{'C': 10, 'gamma': 0.001, 'kernel': 'rbf'}\n",
      "\n",
      "Grid scores on development set:\n",
      "\n",
      "0.986 (+/-0.019) for {'C': 1, 'gamma': 0.001, 'kernel': 'rbf'}\n",
      "0.957 (+/-0.029) for {'C': 1, 'gamma': 0.0001, 'kernel': 'rbf'}\n",
      "0.987 (+/-0.019) for {'C': 10, 'gamma': 0.001, 'kernel': 'rbf'}\n",
      "0.981 (+/-0.028) for {'C': 10, 'gamma': 0.0001, 'kernel': 'rbf'}\n",
      "0.987 (+/-0.019) for {'C': 100, 'gamma': 0.001, 'kernel': 'rbf'}\n",
      "0.981 (+/-0.026) for {'C': 100, 'gamma': 0.0001, 'kernel': 'rbf'}\n",
      "0.987 (+/-0.019) for {'C': 1000, 'gamma': 0.001, 'kernel': 'rbf'}\n",
      "0.981 (+/-0.026) for {'C': 1000, 'gamma': 0.0001, 'kernel': 'rbf'}\n",
      "0.972 (+/-0.012) for {'C': 1, 'kernel': 'linear'}\n",
      "0.972 (+/-0.012) for {'C': 10, 'kernel': 'linear'}\n",
      "0.972 (+/-0.012) for {'C': 100, 'kernel': 'linear'}\n",
      "0.972 (+/-0.012) for {'C': 1000, 'kernel': 'linear'}\n",
      "\n",
      "Detailed classification report:\n",
      "\n",
      "The model is trained on the full development set.\n",
      "The scores are computed on the full evaluation set.\n",
      "\n",
      "              precision    recall  f1-score   support\n",
      "\n",
      "           0       1.00      1.00      1.00        89\n",
      "           1       0.97      1.00      0.98        90\n",
      "           2       0.99      0.98      0.98        92\n",
      "           3       1.00      0.99      0.99        93\n",
      "           4       1.00      1.00      1.00        76\n",
      "           5       0.99      0.98      0.99       108\n",
      "           6       0.99      1.00      0.99        89\n",
      "           7       0.99      1.00      0.99        78\n",
      "           8       1.00      0.98      0.99        92\n",
      "           9       0.99      0.99      0.99        92\n",
      "\n",
      "   micro avg       0.99      0.99      0.99       899\n",
      "   macro avg       0.99      0.99      0.99       899\n",
      "weighted avg       0.99      0.99      0.99       899\n",
      "\n",
      "\n"
     ]
    }
   ],
   "source": [
    "print(__doc__)\n",
    "\n",
    "# Loading the Digits dataset\n",
    "digits = datasets.load_digits()\n",
    "\n",
    "# To apply an classifier on this data, we need to flatten the image, to\n",
    "# turn the data in a (samples, feature) matrix:\n",
    "n_samples = len(digits.images)\n",
    "X = digits.images.reshape((n_samples, -1))\n",
    "y = digits.target\n",
    "\n",
    "# Split the dataset in two equal parts\n",
    "X_train, X_test, y_train, y_test = train_test_split(\n",
    "    X, y, test_size=0.5, random_state=0)\n",
    "\n",
    "# Set the parameters by cross-validation\n",
    "tuned_parameters = [{'kernel': ['rbf'], 'gamma': [1e-3, 1e-4],\n",
    "                     'C': [1, 10, 100, 1000]},\n",
    "                    {'kernel': ['linear'], 'C': [1, 10, 100, 1000]}]\n",
    "\n",
    "scores = ['precision', 'recall']\n",
    "\n",
    "for score in scores:\n",
    "    print(\"# Tuning hyper-parameters for %s\" % score)\n",
    "    print()\n",
    "\n",
    "    clf = GridSearchCV(SVC(), tuned_parameters, cv=5,\n",
    "                       scoring='%s_macro' % score)\n",
    "    clf.fit(X_train, y_train)\n",
    "\n",
    "    print(\"Best parameters set found on development set:\")\n",
    "    print()\n",
    "    print(clf.best_params_)\n",
    "    print()\n",
    "    print(\"Grid scores on development set:\")\n",
    "    print()\n",
    "    means = clf.cv_results_['mean_test_score']\n",
    "    stds = clf.cv_results_['std_test_score']\n",
    "    for mean, std, params in zip(means, stds, clf.cv_results_['params']):\n",
    "        print(\"%0.3f (+/-%0.03f) for %r\"\n",
    "              % (mean, std * 2, params))\n",
    "    print()\n",
    "\n",
    "    print(\"Detailed classification report:\")\n",
    "    print()\n",
    "    print(\"The model is trained on the full development set.\")\n",
    "    print(\"The scores are computed on the full evaluation set.\")\n",
    "    print()\n",
    "    y_true, y_pred = y_test, clf.predict(X_test)\n",
    "    print(classification_report(y_true, y_pred))\n",
    "    print()\n",
    "\n",
    "# Note the problem is too easy: the hyperparameter plateau is too flat and the\n",
    "# output model is the same for precision and recall with ties in quality.\n"
   ]
  },
  {
   "cell_type": "markdown",
   "metadata": {},
   "source": [
    "#### Hyperparameters are being tuned for SVC model using GridSearch Cross-validation."
   ]
  },
  {
   "cell_type": "markdown",
   "metadata": {},
   "source": [
    "<br>"
   ]
  },
  {
   "cell_type": "markdown",
   "metadata": {},
   "source": [
    "### Problem 2: Lasso, Forward Selection and Cross Validation\n",
    "\n",
    "Use the data generation used in the Lecture 7 notebook, where we first introduced Lasso, to generate data.\n",
    "\n",
    "1. Manually implement forward selection. Report the order in which you add features.\n",
    "\n",
    "2. Plot test error as a function of the size of the support. Can you use this to recover the true support?\n",
    "\n",
    "3. Use Lasso with a manually implemented Cross validation using the metric of your choice. What is the value of the hyperparameter? (Manually implemented means that you can either do it entirely on your own, or you can use GridSearchCV, but I’m asking you not to use LassoCV, which you will use in the next problem).\n",
    "\n",
    "4. Change the number of folds in your CV and repeat the previous step. How does the optimal value of the hyperparameter change? Try to explain any trends that you find.\n",
    "\n",
    "5. Read about and use LassoCV from sklearn.linear model. How does this compare with what you did in the previous step? If they agree, then explain why they agree, and if they disagree explain why. This will require you to make sure you understand what LassoCV is doing."
   ]
  },
  {
   "cell_type": "code",
   "execution_count": 14,
   "metadata": {},
   "outputs": [],
   "source": [
    "# Generating some sparse data to play with\n",
    "np.random.seed(7)\n",
    "\n",
    "n_samples, n_features = 100, 200\n",
    "X = np.random.randn(n_samples, n_features)\n",
    "\n",
    "k = 5\n",
    "# beta generation with k nonzeros\n",
    "# coef = 10 * np.random.randn(n_features)\n",
    "coef = 10 * np.ones(n_features)\n",
    "inds = np.arange(n_features)\n",
    "np.random.shuffle(inds)\n",
    "coef[inds[k:]] = 0  # sparsify coef\n",
    "y = np.dot(X, coef)\n",
    "\n",
    "# add noise\n",
    "y += 0.01 * np.random.normal((n_samples,))\n",
    "\n",
    "# Splitting data in train set and test set\n",
    "n_samples = X.shape[0]\n",
    "X_train, y_train = X[:80], y[:80]\n",
    "X_test, y_test = X[80:], y[80:]"
   ]
  },
  {
   "cell_type": "markdown",
   "metadata": {},
   "source": [
    "#### 1. Forward Selection of Features on the basis of R2_Score and applying Ordinary Least Squares model"
   ]
  },
  {
   "cell_type": "code",
   "execution_count": 15,
   "metadata": {},
   "outputs": [
    {
     "name": "stdout",
     "output_type": "stream",
     "text": [
      "Feature Selection order for 5 features : \n",
      "[18, 15, 51, 78, 34]\n"
     ]
    }
   ],
   "source": [
    "total_features=200\n",
    "OLS = LinearRegression()\n",
    "feat_select_order = []\n",
    "test_error=[]\n",
    "\n",
    "# Taking n features\n",
    "n=5\n",
    "\n",
    "for feature_num in range(n):\n",
    "\n",
    "    score = np.zeros(total_features)\n",
    "    for current in range(total_features):\n",
    "        if current not in feat_select_order:\n",
    "            OLS.fit(X[:, feat_select_order+[current]], y)\n",
    "            score[current] = r2_score(y, OLS.predict(X[:, feat_select_order+[current]])) \n",
    "#     ypred=OLS.predict(X)\n",
    "    test_error.append(1-score[current])\n",
    "    feat_select_order.append(np.where(score == np.amax(score))[0][0])\n",
    "\n",
    "print(\"Feature Selection order for {} features : \".format(n))\n",
    "print(feat_select_order)"
   ]
  },
  {
   "cell_type": "code",
   "execution_count": 16,
   "metadata": {},
   "outputs": [
    {
     "data": {
      "text/plain": [
       "(array([15, 18, 34, 51, 78]),)"
      ]
     },
     "execution_count": 16,
     "metadata": {},
     "output_type": "execute_result"
    }
   ],
   "source": [
    "# The true coefficients\n",
    "np.where(coef != 0)"
   ]
  },
  {
   "cell_type": "markdown",
   "metadata": {},
   "source": [
    "#### 2. Plot of error as function of size of support"
   ]
  },
  {
   "cell_type": "code",
   "execution_count": 17,
   "metadata": {},
   "outputs": [
    {
     "name": "stdout",
     "output_type": "stream",
     "text": [
      "Feature Coefficients: [18, 15, 51, 78, 34]\n"
     ]
    },
    {
     "data": {
      "image/png": "[encoded data removed]",
      "text/plain": [
       "<Figure size 432x288 with 1 Axes>"
      ]
     },
     "metadata": {
      "needs_background": "light"
     },
     "output_type": "display_data"
    }
   ],
   "source": [
    "# Finding test error - mean squared error for Feature selection using SFS selector\n",
    "sfs_selector = sfs(LinearRegression(), k_features=5, forward=True, scoring='r2')\n",
    "sfs_selector = sfs_selector.fit(X, y)\n",
    "\n",
    "print('Feature Coefficients: {}'.format(feat_select_order))\n",
    "\n",
    "# Plotting Test error for selected features\n",
    "support = [len(sfs_selector.subsets_[i]['feature_names']) for i in sfs_selector.subsets_.keys()]\n",
    "sfs_test_errors = [(1 - sfs_selector.subsets_[i]['avg_score']) for i in sfs_selector.subsets_.keys()]\n",
    "\n",
    "plt.bar(support, sfs_test_errors)\n",
    "plt.title('Test Error vs Support')\n",
    "plt.ylabel('Test Error')\n",
    "plt.xlabel('Support Length')\n",
    "plt.show()"
   ]
  },
  {
   "cell_type": "code",
   "execution_count": 18,
   "metadata": {},
   "outputs": [
    {
     "data": {
      "image/png": "[encoded data removed]",
      "text/plain": [
       "<Figure size 432x288 with 1 Axes>"
      ]
     },
     "metadata": {
      "needs_background": "light"
     },
     "output_type": "display_data"
    }
   ],
   "source": [
    "# Plot of error from manual forward selection\n",
    "plt.bar(support, test_error)\n",
    "plt.title('Test Error vs Support')\n",
    "plt.ylabel('Test Error')\n",
    "plt.xlabel('Support Length')\n",
    "plt.show()"
   ]
  },
  {
   "cell_type": "markdown",
   "metadata": {},
   "source": [
    "#### True support is when error becomes minimum, i.e at 5 features."
   ]
  },
  {
   "cell_type": "code",
   "execution_count": 19,
   "metadata": {},
   "outputs": [
    {
     "data": {
      "image/png": "[encoded data removed]",
      "text/plain": [
       "<Figure size 432x288 with 1 Axes>"
      ]
     },
     "metadata": {
      "needs_background": "light"
     },
     "output_type": "display_data"
    }
   ],
   "source": [
    "# Plot of original coefficients - 5 features\n",
    "plt.plot(coef, '--', label='original coefficients')\n",
    "plt.show()"
   ]
  },
  {
   "cell_type": "markdown",
   "metadata": {},
   "source": [
    "#### 3. GridSearch Cross-validation of Lasso"
   ]
  },
  {
   "cell_type": "code",
   "execution_count": 25,
   "metadata": {},
   "outputs": [
    {
     "name": "stdout",
     "output_type": "stream",
     "text": [
      "Best score: 0.9999982029975101\n",
      "The best alpha : 0.01\n"
     ]
    }
   ],
   "source": [
    "import warnings\n",
    "warnings.filterwarnings(\"ignore\")\n",
    "lm = make_pipeline(Lasso(random_state=7))\n",
    "alphas = { \n",
    "    'lasso__alpha' : [0.0001, 0.001, 0.01, 0.1, 1, 10, 100] \n",
    "}\n",
    "\n",
    "clf = GridSearchCV(lm, alphas, cv=5)\n",
    "clf.fit(X_train, y_train)\n",
    "print('Best score:', clf.best_score_)\n",
    "print('The best alpha : {}'.format(clf.best_params_['lasso__alpha']))"
   ]
  },
  {
   "cell_type": "markdown",
   "metadata": {},
   "source": [
    "#### 4. Changing Folds in Cross Validation"
   ]
  },
  {
   "cell_type": "code",
   "execution_count": 392,
   "metadata": {},
   "outputs": [
    {
     "name": "stdout",
     "output_type": "stream",
     "text": [
      "\n",
      "Best score for k = 5 :  0.9999982029975101\n",
      "The best alpha : 0.01 \n",
      "\n",
      "Best score for k = 10 :  0.9999981563365743\n",
      "The best alpha : 0.01 \n",
      "\n",
      "Best score for k = 15 :  0.9999981514474008\n",
      "The best alpha : 0.01 \n",
      "\n",
      "Best score for k = 20 :  0.9999966821445652\n",
      "The best alpha : 0.01 \n",
      "\n",
      "Best score for k = 25 :  0.9999946982097031\n",
      "The best alpha : 0.01 \n"
     ]
    }
   ],
   "source": [
    "warnings.filterwarnings(\"ignore\")\n",
    "kfolds=[5, 10, 15, 20, 25]\n",
    "\n",
    "for fold in kfolds:\n",
    "    lm = make_pipeline(Lasso(random_state=7))\n",
    "    alphas = { \n",
    "        'lasso__alpha' : [0.00001, 0.0001, 0.001, 0.01, 0.1, 1, 10, 100] \n",
    "    }\n",
    "\n",
    "    clf = GridSearchCV(lm, alphas, cv=fold)\n",
    "    clf.fit(X_train, y_train)\n",
    "    print()\n",
    "    print('Best score for k = {} : '.format(fold), clf.best_score_)\n",
    "    print('The best alpha : {} '.format(clf.best_params_['lasso__alpha']))"
   ]
  },
  {
   "cell_type": "markdown",
   "metadata": {},
   "source": [
    "#### No change in optimal alpha when varying number of folds as the scores do not change by much. But we can observe a trend on changing alpha."
   ]
  },
  {
   "cell_type": "code",
   "execution_count": 396,
   "metadata": {},
   "outputs": [
    {
     "data": {
      "image/png": "[encoded data removed]",
      "text/plain": [
       "<Figure size 720x504 with 1 Axes>"
      ]
     },
     "metadata": {
      "needs_background": "light"
     },
     "output_type": "display_data"
    },
    {
     "name": "stdout",
     "output_type": "stream",
     "text": [
      "R2 Score:  -0.13130280803396843\n",
      "\n",
      "\n"
     ]
    },
    {
     "data": {
      "image/png": "[encoded data removed]",
      "text/plain": [
       "<Figure size 720x504 with 1 Axes>"
      ]
     },
     "metadata": {
      "needs_background": "light"
     },
     "output_type": "display_data"
    },
    {
     "name": "stdout",
     "output_type": "stream",
     "text": [
      "R2 Score:  0.9813451417214629\n"
     ]
    }
   ],
   "source": [
    "alpha = 1e-4\n",
    "lasso = Lasso(alpha=alpha)\n",
    "\n",
    "y_pred = lasso.fit(X_train, y_train).predict(X_test)\n",
    "\n",
    "plt.figure(figsize=(10,7))\n",
    "plt.plot(lasso.coef_, label='Lasso coefficients')\n",
    "plt.plot(coef, '--', label='original coefficients')\n",
    "plt.legend(loc='best')\n",
    "plt.title(\"Lasso for alpha: %f\"%alpha)\n",
    "plt.show()\n",
    "\n",
    "print(\"R2 Score: \",r2_score(y_test, y_pred))\n",
    "print()\n",
    "print()\n",
    "alpha = 0.1\n",
    "lasso = Lasso(alpha=1)\n",
    "\n",
    "y_pred = lasso.fit(X_train, y_train).predict(X_test)\n",
    "r2_score_lasso = r2_score(y_test, y_pred)\n",
    "plt.figure(figsize=(10,7))\n",
    "plt.plot(lasso.coef_, label='Lasso coefficients')\n",
    "plt.plot(coef, '--', label='original coefficients')\n",
    "plt.legend(loc='best')\n",
    "plt.title(\"Lasso for alpha: %f\"%alpha)\n",
    "plt.show()\n",
    "\n",
    "print(\"R2 Score: \",r2_score(y_test, y_pred))"
   ]
  },
  {
   "cell_type": "markdown",
   "metadata": {},
   "source": [
    "#### For small alpha, Lasso has taken most/all of the features and the general trend on alpha is that as it reaches optimal alpha with the best score the number of features reduces."
   ]
  },
  {
   "cell_type": "code",
   "execution_count": 402,
   "metadata": {
    "scrolled": true
   },
   "outputs": [
    {
     "data": {
      "image/png": "[encoded data removed]",
      "text/plain": [
       "<Figure size 432x288 with 1 Axes>"
      ]
     },
     "metadata": {
      "needs_background": "light"
     },
     "output_type": "display_data"
    }
   ],
   "source": [
    "r_sq = []\n",
    "coefs = []\n",
    "alphas = np.logspace(-3, 1, 200)\n",
    "for a in alphas:\n",
    "    lasso.set_params(alpha=a)\n",
    "    lasso.fit(X_train, y_train)\n",
    "    coefs.append(lasso.coef_)\n",
    "    y_pred_lasso = lasso.fit(X_train, y_train).predict(X_test)\n",
    "    r2_score_lasso = r2_score(y_test, y_pred_lasso)\n",
    "    r_sq.append(r2_score_lasso)\n",
    "\n",
    "plt.plot(r_sq)\n",
    "plt.xlabel('alpha')\n",
    "plt.ylabel('R^2')\n",
    "plt.title('Lasso R^2 a function of the regularization')\n",
    "plt.show()"
   ]
  },
  {
   "cell_type": "markdown",
   "metadata": {},
   "source": [
    "#### Here we can observe the trend of R2 score for different alpha values."
   ]
  },
  {
   "cell_type": "markdown",
   "metadata": {},
   "source": [
    "#### 5. Lasso CV"
   ]
  },
  {
   "cell_type": "code",
   "execution_count": 397,
   "metadata": {},
   "outputs": [
    {
     "name": "stdout",
     "output_type": "stream",
     "text": [
      "Best score: 0.9999986020329154\n",
      "The Best alpha by LassoCV: 0.01\n"
     ]
    }
   ],
   "source": [
    "from sklearn.linear_model import LassoCV\n",
    "\n",
    "lcv = LassoCV(cv=10, random_state=123)\n",
    "lcv.fit(X_train, y_train)\n",
    "\n",
    "print('Best score: {}'.format(lcv.score(X_train, y_train)))\n",
    "print('The Best alpha by LassoCV: {}'.format(round(lcv.alpha_,2)))"
   ]
  },
  {
   "cell_type": "markdown",
   "metadata": {},
   "source": [
    "#### The optimal alpha obtained through LassoCV is the same as obtained through applying GridSearchCV the only difference is that LassoCV iterated through many values of alpha on its own and arrived at this best alpha instead of us passing it."
   ]
  },
  {
   "cell_type": "markdown",
   "metadata": {},
   "source": [
    "<br>"
   ]
  },
  {
   "cell_type": "markdown",
   "metadata": {},
   "source": [
    "### Problem 3: Theory of Communication\n",
    "\n",
    "Read Shannon’s 1948 paper ’A Mathematical Theory of Communication’. \n",
    "Focus on pages 1-19 (up to Part II), the remaining part is more relevant for communication. http://math.harvard.edu/~ctm/home/text/others/shannon/entropy/entropy.pdf \n",
    "\n",
    "Summarize what you learned briefly (e.g. half a page).\n"
   ]
  },
  {
   "cell_type": "markdown",
   "metadata": {},
   "source": [
    "The research paper begins by referring to the progress made in modulation (Pulse-position and Pulse-code modulation) and states the objective of this theory. The objective is primarily to extend previous theories, include new factors like noise in channel and use statistics on the message and destination to realize minimize loss. The author also states how the logarithm is the \"most natural choice\" as a measure of information contained in the messages due to following factors:\n",
    "\t1. It is realistic as many real-life processes and features vary logarithmically.\n",
    "\t2. It is intuitive to our understanding.\n",
    "\t3. It is simpler mathematically when taking limits.\n",
    "\n",
    "Next, after labelling the various components of a communication system, the paper talks about discrete noiseless channels stating examples of the telegraph and teletype, explaining the corresponding signals used in each case. Capacity is defined in terms of the number of allowed signals(N) of duration(T) and there are details of restrictions placed on channels in terms of allowable sequences. \n",
    "\n",
    "The author then describes sources of information in a mathematical fashion by the proper encoding of information. For example how each letter in English have different probabilities of appearing in a message, this can be factored in to encode the information in messages. The author talks about zero, first, second and third and offers an example of the process to reach a level resembling spoken English from just letters in a stochastic process called Markoff.\n",
    "\n",
    "The most crucial lesson that we learnt from the paper comes next, which is a primer on Entropy. The formula, how it came into picture and more importantly the significance of this concept in statistics. It is not just a measure of randomness(the Physics version of the concept) but in statistics this translates to uncertainty. It is how much further we are from knowing the exact outcomes. It can also be realized as how much choice we have in its selection. This was extremely useful in the Problem 4, where we measured entropy of a random word and realized it is ultimately the uncertainty of finding that word in a paper.\n",
    "\n"
   ]
  },
  {
   "cell_type": "markdown",
   "metadata": {},
   "source": [
    "#### Problem 4 done in the end."
   ]
  },
  {
   "cell_type": "markdown",
   "metadata": {},
   "source": [
    "### Problem 5: Logistic Regression\n",
    "\n",
    "The following is a logistic regression problem using a real data set, made available by the authors\n",
    "of the book “Applied Regression and Muiltilevel Modeling” by Gelman and Hill.\n",
    "Download the data from the book, which you can find here http://www.stat.columbia.edu/ ~gelman/arm/software/. In particular, we are interested in the arsenic data set. The file wells.dat contains data on 3,020 households in Bangladesh. For each family, the natural ar- senic level of each well was measured. In addition, the distance to the nearest safest well was measured. Each family is also described by a feature that relates to their community involvement, and a feature that gives the education level of the head of household. We are interested in building a model that predicts whether the family decided to switch wells or not, based on being informed of the level of arsenic in the well. Thus the “label” for this problem is the binary vector that is the\n",
    "first column of the dataset, labeled “switch.”\n",
    "\n",
    "• Fit a logistic regression model using only an offset term and the distance to the nearest safe well.\n",
    "\n",
    "• Plot your answer: that is, plot the probability of switching wells as a function of the distance to the nearest safe well.\n",
    "\n",
    "• Interpreting logistic regression coefficients: Use the “rule-of-4” discussed in class on Thursday, to interpret the solution: what can you say about the change in the probability of switching wells, for every additional 100 meters of distance?\n",
    "\n",
    "• Now solve a logistic regression incorporating the constant term, the distance and also arsenic levels. Report the coefficients\n",
    "\n",
    "• Next we want to answer the question of which factor is more significant, distance, or arsenic levels? This is not a well specified question, since these two features have different units. One natural choice is to ask if after normalizing by the respective standard deviations of each feature, if moving one unit in one (normalized) feature predicts a larger change in probability of switching wells, than moving one unit in the other (also normalized) feature. Use this reasoning to answer the question.\n",
    "\n",
    "• Now consider all the features in the data set. Also consider adding interaction terms among all features that have a large main effect. Use cross validation to build the best model you can (using your training set only), and then report the test error of your best model.\n"
   ]
  },
  {
   "cell_type": "code",
   "execution_count": 9,
   "metadata": {},
   "outputs": [
    {
     "data": {
      "text/html": [
       "<div>\n",
       "<style scoped>\n",
       "    .dataframe tbody tr th:only-of-type {\n",
       "        vertical-align: middle;\n",
       "    }\n",
       "\n",
       "    .dataframe tbody tr th {\n",
       "        vertical-align: top;\n",
       "    }\n",
       "\n",
       "    .dataframe thead th {\n",
       "        text-align: right;\n",
       "    }\n",
       "</style>\n",
       "<table border=\"1\" class=\"dataframe\">\n",
       "  <thead>\n",
       "    <tr style=\"text-align: right;\">\n",
       "      <th></th>\n",
       "      <th>switch</th>\n",
       "      <th>arsenic</th>\n",
       "      <th>dist</th>\n",
       "      <th>assoc</th>\n",
       "      <th>educ</th>\n",
       "    </tr>\n",
       "  </thead>\n",
       "  <tbody>\n",
       "    <tr>\n",
       "      <th>1</th>\n",
       "      <td>1</td>\n",
       "      <td>2.36</td>\n",
       "      <td>16.826000</td>\n",
       "      <td>0</td>\n",
       "      <td>0</td>\n",
       "    </tr>\n",
       "    <tr>\n",
       "      <th>2</th>\n",
       "      <td>1</td>\n",
       "      <td>0.71</td>\n",
       "      <td>47.321999</td>\n",
       "      <td>0</td>\n",
       "      <td>0</td>\n",
       "    </tr>\n",
       "    <tr>\n",
       "      <th>3</th>\n",
       "      <td>0</td>\n",
       "      <td>2.07</td>\n",
       "      <td>20.966999</td>\n",
       "      <td>0</td>\n",
       "      <td>10</td>\n",
       "    </tr>\n",
       "    <tr>\n",
       "      <th>4</th>\n",
       "      <td>1</td>\n",
       "      <td>1.15</td>\n",
       "      <td>21.486000</td>\n",
       "      <td>0</td>\n",
       "      <td>12</td>\n",
       "    </tr>\n",
       "    <tr>\n",
       "      <th>5</th>\n",
       "      <td>1</td>\n",
       "      <td>1.10</td>\n",
       "      <td>40.874001</td>\n",
       "      <td>1</td>\n",
       "      <td>14</td>\n",
       "    </tr>\n",
       "  </tbody>\n",
       "</table>\n",
       "</div>"
      ],
      "text/plain": [
       "   switch  arsenic       dist  assoc  educ\n",
       "1       1     2.36  16.826000      0     0\n",
       "2       1     0.71  47.321999      0     0\n",
       "3       0     2.07  20.966999      0    10\n",
       "4       1     1.15  21.486000      0    12\n",
       "5       1     1.10  40.874001      1    14"
      ]
     },
     "execution_count": 9,
     "metadata": {},
     "output_type": "execute_result"
    }
   ],
   "source": [
    "# Reading data\n",
    "df=pd.read_csv(\"arsenic/wells.dat\", sep=\"\\s+\")\n",
    "df.head()"
   ]
  },
  {
   "cell_type": "code",
   "execution_count": 10,
   "metadata": {},
   "outputs": [],
   "source": [
    "X=df.iloc[:,2].values\n",
    "y=df.iloc[:,0].values"
   ]
  },
  {
   "cell_type": "code",
   "execution_count": 11,
   "metadata": {},
   "outputs": [
    {
     "data": {
      "text/plain": [
       "1    1737\n",
       "0    1283\n",
       "Name: switch, dtype: int64"
      ]
     },
     "execution_count": 11,
     "metadata": {},
     "output_type": "execute_result"
    }
   ],
   "source": [
    "df['switch'].value_counts()"
   ]
  },
  {
   "cell_type": "code",
   "execution_count": 12,
   "metadata": {
    "scrolled": true
   },
   "outputs": [
    {
     "data": {
      "text/html": [
       "<div>\n",
       "<style scoped>\n",
       "    .dataframe tbody tr th:only-of-type {\n",
       "        vertical-align: middle;\n",
       "    }\n",
       "\n",
       "    .dataframe tbody tr th {\n",
       "        vertical-align: top;\n",
       "    }\n",
       "\n",
       "    .dataframe thead th {\n",
       "        text-align: right;\n",
       "    }\n",
       "</style>\n",
       "<table border=\"1\" class=\"dataframe\">\n",
       "  <thead>\n",
       "    <tr style=\"text-align: right;\">\n",
       "      <th></th>\n",
       "      <th>arsenic</th>\n",
       "      <th>dist</th>\n",
       "      <th>assoc</th>\n",
       "      <th>educ</th>\n",
       "    </tr>\n",
       "    <tr>\n",
       "      <th>switch</th>\n",
       "      <th></th>\n",
       "      <th></th>\n",
       "      <th></th>\n",
       "      <th></th>\n",
       "    </tr>\n",
       "  </thead>\n",
       "  <tbody>\n",
       "    <tr>\n",
       "      <th>0</th>\n",
       "      <td>1.420055</td>\n",
       "      <td>53.611478</td>\n",
       "      <td>0.443492</td>\n",
       "      <td>4.471551</td>\n",
       "    </tr>\n",
       "    <tr>\n",
       "      <th>1</th>\n",
       "      <td>1.831894</td>\n",
       "      <td>44.432181</td>\n",
       "      <td>0.407599</td>\n",
       "      <td>5.092113</td>\n",
       "    </tr>\n",
       "  </tbody>\n",
       "</table>\n",
       "</div>"
      ],
      "text/plain": [
       "         arsenic       dist     assoc      educ\n",
       "switch                                         \n",
       "0       1.420055  53.611478  0.443492  4.471551\n",
       "1       1.831894  44.432181  0.407599  5.092113"
      ]
     },
     "execution_count": 12,
     "metadata": {},
     "output_type": "execute_result"
    }
   ],
   "source": [
    "df.groupby('switch').mean()"
   ]
  },
  {
   "cell_type": "markdown",
   "metadata": {},
   "source": [
    "#### 1. Logistic regression with offset term"
   ]
  },
  {
   "cell_type": "code",
   "execution_count": 13,
   "metadata": {},
   "outputs": [],
   "source": [
    "X_1=np.dstack((np.ones(len(X)),X))[0]"
   ]
  },
  {
   "cell_type": "code",
   "execution_count": 14,
   "metadata": {},
   "outputs": [
    {
     "name": "stderr",
     "output_type": "stream",
     "text": [
      "/Users/subhayuchakravarty/anaconda3/lib/python3.7/site-packages/sklearn/linear_model/logistic.py:433: FutureWarning: Default solver will be changed to 'lbfgs' in 0.22. Specify a solver to silence this warning.\n",
      "  FutureWarning)\n"
     ]
    },
    {
     "data": {
      "text/plain": [
       "LogisticRegression(C=1.0, class_weight=None, dual=False, fit_intercept=True,\n",
       "          intercept_scaling=1, max_iter=100, multi_class='warn',\n",
       "          n_jobs=None, penalty='l2', random_state=None, solver='warn',\n",
       "          tol=0.0001, verbose=0, warm_start=False)"
      ]
     },
     "execution_count": 14,
     "metadata": {},
     "output_type": "execute_result"
    }
   ],
   "source": [
    "# X_train, X_test, y_train, y_test = train_test_split(X_1, y, test_size=0.3, random_state=0)\n",
    "logreg = LogisticRegression()\n",
    "logreg.fit(X_1, y)\n",
    "\n",
    "# ypred=logreg.predict(X_test)\n",
    "# accuracy_score(y_test,ypred)"
   ]
  },
  {
   "cell_type": "markdown",
   "metadata": {},
   "source": [
    "#### 2. Plotting probability of switching vs Dist feature"
   ]
  },
  {
   "cell_type": "code",
   "execution_count": 15,
   "metadata": {},
   "outputs": [],
   "source": [
    "yprobability=logreg.predict_proba(X_1)[:,1]"
   ]
  },
  {
   "cell_type": "code",
   "execution_count": 16,
   "metadata": {},
   "outputs": [
    {
     "data": {
      "image/png": "[encoded data removed]",
      "text/plain": [
       "<Figure size 720x432 with 1 Axes>"
      ]
     },
     "metadata": {
      "needs_background": "light"
     },
     "output_type": "display_data"
    }
   ],
   "source": [
    "# plt.scatter(X_1[:,1],y)\n",
    "plt.figure(figsize=(10,6))\n",
    "plt.scatter(X_1[:,1], yprobability, s=10)\n",
    "plt.xlabel('Distance from well')\n",
    "plt.ylabel('Switching Probability')\n",
    "plt.show()"
   ]
  },
  {
   "cell_type": "markdown",
   "metadata": {},
   "source": [
    "#### 3. Rule-of-four to interpret features"
   ]
  },
  {
   "cell_type": "code",
   "execution_count": 17,
   "metadata": {},
   "outputs": [],
   "source": [
    "X=df.iloc[:,1:].values\n",
    "y=df.iloc[:,0].values"
   ]
  },
  {
   "cell_type": "code",
   "execution_count": 18,
   "metadata": {},
   "outputs": [
    {
     "data": {
      "text/html": [
       "<div>\n",
       "<style scoped>\n",
       "    .dataframe tbody tr th:only-of-type {\n",
       "        vertical-align: middle;\n",
       "    }\n",
       "\n",
       "    .dataframe tbody tr th {\n",
       "        vertical-align: top;\n",
       "    }\n",
       "\n",
       "    .dataframe thead th {\n",
       "        text-align: right;\n",
       "    }\n",
       "</style>\n",
       "<table border=\"1\" class=\"dataframe\">\n",
       "  <thead>\n",
       "    <tr style=\"text-align: right;\">\n",
       "      <th></th>\n",
       "      <th>switch</th>\n",
       "      <th>arsenic</th>\n",
       "      <th>dist</th>\n",
       "      <th>assoc</th>\n",
       "      <th>educ</th>\n",
       "    </tr>\n",
       "  </thead>\n",
       "  <tbody>\n",
       "    <tr>\n",
       "      <th>1</th>\n",
       "      <td>1</td>\n",
       "      <td>2.36</td>\n",
       "      <td>16.826000</td>\n",
       "      <td>0</td>\n",
       "      <td>0</td>\n",
       "    </tr>\n",
       "    <tr>\n",
       "      <th>2</th>\n",
       "      <td>1</td>\n",
       "      <td>0.71</td>\n",
       "      <td>47.321999</td>\n",
       "      <td>0</td>\n",
       "      <td>0</td>\n",
       "    </tr>\n",
       "    <tr>\n",
       "      <th>3</th>\n",
       "      <td>0</td>\n",
       "      <td>2.07</td>\n",
       "      <td>20.966999</td>\n",
       "      <td>0</td>\n",
       "      <td>10</td>\n",
       "    </tr>\n",
       "    <tr>\n",
       "      <th>4</th>\n",
       "      <td>1</td>\n",
       "      <td>1.15</td>\n",
       "      <td>21.486000</td>\n",
       "      <td>0</td>\n",
       "      <td>12</td>\n",
       "    </tr>\n",
       "    <tr>\n",
       "      <th>5</th>\n",
       "      <td>1</td>\n",
       "      <td>1.10</td>\n",
       "      <td>40.874001</td>\n",
       "      <td>1</td>\n",
       "      <td>14</td>\n",
       "    </tr>\n",
       "  </tbody>\n",
       "</table>\n",
       "</div>"
      ],
      "text/plain": [
       "   switch  arsenic       dist  assoc  educ\n",
       "1       1     2.36  16.826000      0     0\n",
       "2       1     0.71  47.321999      0     0\n",
       "3       0     2.07  20.966999      0    10\n",
       "4       1     1.15  21.486000      0    12\n",
       "5       1     1.10  40.874001      1    14"
      ]
     },
     "execution_count": 18,
     "metadata": {},
     "output_type": "execute_result"
    }
   ],
   "source": [
    "df.head()"
   ]
  },
  {
   "cell_type": "code",
   "execution_count": 19,
   "metadata": {},
   "outputs": [
    {
     "name": "stderr",
     "output_type": "stream",
     "text": [
      "/Users/subhayuchakravarty/anaconda3/lib/python3.7/site-packages/sklearn/linear_model/logistic.py:433: FutureWarning: Default solver will be changed to 'lbfgs' in 0.22. Specify a solver to silence this warning.\n",
      "  FutureWarning)\n"
     ]
    },
    {
     "data": {
      "text/plain": [
       "LogisticRegression(C=1.0, class_weight=None, dual=False, fit_intercept=True,\n",
       "          intercept_scaling=1, max_iter=100, multi_class='warn',\n",
       "          n_jobs=None, penalty='l2', random_state=None, solver='warn',\n",
       "          tol=0.0001, verbose=0, warm_start=False)"
      ]
     },
     "execution_count": 19,
     "metadata": {},
     "output_type": "execute_result"
    }
   ],
   "source": [
    "logreg = LogisticRegression()\n",
    "logreg.fit(X, y)"
   ]
  },
  {
   "cell_type": "code",
   "execution_count": 20,
   "metadata": {},
   "outputs": [
    {
     "data": {
      "text/plain": [
       "array([[ 0.46568445, -0.008963  , -0.12448164,  0.04232983]])"
      ]
     },
     "execution_count": 20,
     "metadata": {},
     "output_type": "execute_result"
    }
   ],
   "source": [
    "# Getting coefficients of logistic regression\n",
    "logreg.coef_"
   ]
  },
  {
   "cell_type": "markdown",
   "metadata": {},
   "source": [
    "The Rule of Four states gives a method to interpret the impact of a feature on the probability of the logistic regression outcome. The upper bound is given by the derivative(w.r.t x1) of sigm(ß<sub>0</sub> + ß<sub>1</sub>x<sub>1</sub> + ß<sub>2</sub>x<sub>2</sub>)\n",
    "\n",
    "= ß<sub>1</sub>e<sup>0</sup>/(1+e<sup>0</sup>)²\n",
    "\n",
    "= ß(1)/(1+1)²\n",
    "\n",
    "= ß/4 \n",
    "\n",
    "Taking the logistic regression coefficients (not including the intercept) and dividing them by 4 gives an upper bound of the predictive difference in probability of the outcome y=1 per unit increase in x.\n",
    "\n",
    "For the feature \"Distance from well\" where ß = -0.12 an approximation using the ß/4 rule is that a 1 unit increase in x results in about a -0.12/4 = -0.03, or 3% decrease in the probability of y=1.\n",
    "\n",
    "<br>\n",
    "So, for a 100m increase in \"Distance from well\", the change in probability of switching will be a 300% decrease."
   ]
  },
  {
   "cell_type": "markdown",
   "metadata": {},
   "source": [
    "#### 4. Arsenic and Dist feature - Coefficients"
   ]
  },
  {
   "cell_type": "markdown",
   "metadata": {},
   "source": [
    "#### Taking Constant Term, Arsenic and Distance features"
   ]
  },
  {
   "cell_type": "code",
   "execution_count": 21,
   "metadata": {},
   "outputs": [],
   "source": [
    "X=df.iloc[:,1:3].values\n",
    "\n",
    "X_2=np.column_stack((np.ones(len(X)),X))"
   ]
  },
  {
   "cell_type": "code",
   "execution_count": 22,
   "metadata": {},
   "outputs": [
    {
     "name": "stderr",
     "output_type": "stream",
     "text": [
      "/Users/subhayuchakravarty/anaconda3/lib/python3.7/site-packages/sklearn/linear_model/logistic.py:433: FutureWarning: Default solver will be changed to 'lbfgs' in 0.22. Specify a solver to silence this warning.\n",
      "  FutureWarning)\n"
     ]
    },
    {
     "data": {
      "text/plain": [
       "array([[ 0.00186056,  0.45997859, -0.0089613 ]])"
      ]
     },
     "execution_count": 22,
     "metadata": {},
     "output_type": "execute_result"
    }
   ],
   "source": [
    "lr3 = LogisticRegression()\n",
    "lr3.fit(X_2, y)\n",
    "lr3.coef_"
   ]
  },
  {
   "cell_type": "markdown",
   "metadata": {},
   "source": [
    "#### 5. Standardizing and comparing Arsenic and Dist"
   ]
  },
  {
   "cell_type": "code",
   "execution_count": 23,
   "metadata": {},
   "outputs": [
    {
     "data": {
      "text/plain": [
       "array([[ 1.        ,  0.63499567, -0.81892321],\n",
       "       [ 1.        , -0.85524506, -0.02624912],\n",
       "       [ 1.        ,  0.37307458, -0.71128737],\n",
       "       ...,\n",
       "       [ 1.        , -1.0358803 , -1.05592488],\n",
       "       [ 1.        , -0.9184674 , -0.66255101],\n",
       "       [ 1.        , -0.90040387, -0.71448445]])"
      ]
     },
     "execution_count": 23,
     "metadata": {},
     "output_type": "execute_result"
    }
   ],
   "source": [
    "# We can either use StandarScaler or normalize manually\n",
    "\n",
    "# scaler = StandardScaler(with_mean=True, with_std=True)\n",
    "# scaler = scaler.fit(X_2)\n",
    "# x=scaler.transform(X_2)\n",
    "# x\n",
    "\n",
    "X_3=X_2[:,1:]\n",
    "mean_arsenic=np.mean(X_2[:,1])\n",
    "std_arsenic=np.std(X_2[:,1])\n",
    "mean_dist=np.mean(X_2[:,2])\n",
    "std_dist=np.std(X_2[:,2])\n",
    "std_dist\n",
    "\n",
    "x1=[((X_3[i,0]-mean_arsenic)/std_arsenic) for i in range(0,len(X_3))]\n",
    "x2=[((X_3[i,1]-mean_dist)/std_dist) for i in range(0,len(X_3))]\n",
    "x=np.column_stack((np.ones(len(X)),x1,x2))\n",
    "x"
   ]
  },
  {
   "cell_type": "code",
   "execution_count": 24,
   "metadata": {},
   "outputs": [
    {
     "name": "stderr",
     "output_type": "stream",
     "text": [
      "/Users/subhayuchakravarty/anaconda3/lib/python3.7/site-packages/sklearn/linear_model/logistic.py:433: FutureWarning: Default solver will be changed to 'lbfgs' in 0.22. Specify a solver to silence this warning.\n",
      "  FutureWarning)\n"
     ]
    },
    {
     "data": {
      "text/plain": [
       "array([[ 0.16623202,  0.50888805, -0.34414403]])"
      ]
     },
     "execution_count": 24,
     "metadata": {},
     "output_type": "execute_result"
    }
   ],
   "source": [
    "lr4 = LogisticRegression()\n",
    "lr4.fit(x, y)\n",
    "lr4.coef_"
   ]
  },
  {
   "cell_type": "markdown",
   "metadata": {},
   "source": [
    "Increase in the magnitude of coefficient for Distance is observed. It is a crucial factor and on normalizing it can be seen as increasing from -0.008 to -0.344. \n",
    "\n",
    "For the distance feature, one unit increase in the normalized distance will **decrease** the probability of switching by around 34/4 ~ **8.5%**\n",
    "For Arsenic, a one unit increase in normalized arsenic will **increase** probability by 50.8/4 ~ **12.7%** \n",
    "<br><br><br>\n",
    "Hence, Arsenic level is still a more impactful feature than Distance from Well."
   ]
  },
  {
   "cell_type": "markdown",
   "metadata": {},
   "source": [
    "#### 6. Best model with Cross-validation"
   ]
  },
  {
   "cell_type": "code",
   "execution_count": 51,
   "metadata": {},
   "outputs": [
    {
     "data": {
      "text/plain": [
       "array([[ 2.36      , 16.82600021,  0.        ,  0.        ],\n",
       "       [ 0.71      , 47.3219986 ,  0.        ,  0.        ],\n",
       "       [ 2.07      , 20.96699905,  0.        , 10.        ],\n",
       "       ...,\n",
       "       [ 0.51      ,  7.70800018,  0.        ,  4.        ],\n",
       "       [ 0.64      , 22.84199905,  0.        ,  3.        ],\n",
       "       [ 0.66      , 20.84399986,  1.        ,  5.        ]])"
      ]
     },
     "execution_count": 51,
     "metadata": {},
     "output_type": "execute_result"
    }
   ],
   "source": [
    "X=df.iloc[:,1:].values\n",
    "X"
   ]
  },
  {
   "cell_type": "code",
   "execution_count": 52,
   "metadata": {},
   "outputs": [
    {
     "name": "stderr",
     "output_type": "stream",
     "text": [
      "/Users/subhayuchakravarty/anaconda3/lib/python3.7/site-packages/sklearn/linear_model/logistic.py:433: FutureWarning: Default solver will be changed to 'lbfgs' in 0.22. Specify a solver to silence this warning.\n",
      "  FutureWarning)\n"
     ]
    },
    {
     "data": {
      "text/plain": [
       "array([[ 0.51572495, -0.34391818, -0.06132579,  0.17016938]])"
      ]
     },
     "execution_count": 52,
     "metadata": {},
     "output_type": "execute_result"
    }
   ],
   "source": [
    "scaler = StandardScaler(with_mean=True, with_std=True)\n",
    "scaler = scaler.fit(X)\n",
    "X_norm=scaler.transform(X)\n",
    "\n",
    "lr4 = LogisticRegression()\n",
    "lr4.fit(X_norm, y)\n",
    "lr4.coef_"
   ]
  },
  {
   "cell_type": "code",
   "execution_count": 53,
   "metadata": {},
   "outputs": [
    {
     "data": {
      "text/plain": [
       "0.6165562913907284"
      ]
     },
     "execution_count": 53,
     "metadata": {},
     "output_type": "execute_result"
    }
   ],
   "source": [
    "lr=LogisticRegression(solver='lbfgs')\n",
    "lr.fit(X_norm, y)\n",
    "ypred=lr.predict(X_norm)\n",
    "a=accuracy_score(y,ypred)\n",
    "a"
   ]
  },
  {
   "cell_type": "code",
   "execution_count": 54,
   "metadata": {},
   "outputs": [
    {
     "name": "stdout",
     "output_type": "stream",
     "text": [
      "Test Error:\n",
      "0.3834437086092715\n"
     ]
    }
   ],
   "source": [
    "print(\"Test Error:\")\n",
    "print(mean_squared_error(y,ypred))"
   ]
  },
  {
   "cell_type": "markdown",
   "metadata": {},
   "source": [
    "#### Due to large effect of Arsenic and Distance they can be combined into a single interaction term."
   ]
  },
  {
   "cell_type": "code",
   "execution_count": 55,
   "metadata": {},
   "outputs": [
    {
     "data": {
      "text/plain": [
       "0.5721854304635762"
      ]
     },
     "execution_count": 55,
     "metadata": {},
     "output_type": "execute_result"
    }
   ],
   "source": [
    "# Interaction Term added - Lesser Accuracy\n",
    "x_int=X_norm[:,0]*X_norm[:,1]\n",
    "X_cv=np.column_stack([x_int,X_norm[:,2:4]])\n",
    "lr=LogisticRegression(solver='lbfgs')\n",
    "lr.fit(X_cv, y)\n",
    "ypred=lr.predict(X_cv)\n",
    "a=accuracy_score(y,ypred)\n",
    "a"
   ]
  },
  {
   "cell_type": "markdown",
   "metadata": {},
   "source": [
    "#### Lesser accuracy with Interaction term, so using normalized X and cross-validating"
   ]
  },
  {
   "cell_type": "code",
   "execution_count": 60,
   "metadata": {},
   "outputs": [],
   "source": [
    "lr=LogisticRegression(solver='lbfgs')\n",
    "lr.fit(X_norm, y)\n",
    "cv_score=cross_validate(lr, X_norm, y, cv=5, scoring=('accuracy'))"
   ]
  },
  {
   "cell_type": "code",
   "execution_count": 61,
   "metadata": {},
   "outputs": [
    {
     "data": {
      "text/plain": [
       "0.603638237942065"
      ]
     },
     "execution_count": 61,
     "metadata": {},
     "output_type": "execute_result"
    }
   ],
   "source": [
    "cv_score['test_score'].mean()"
   ]
  },
  {
   "cell_type": "code",
   "execution_count": 64,
   "metadata": {},
   "outputs": [
    {
     "name": "stdout",
     "output_type": "stream",
     "text": [
      "Test Error:\n",
      "0.39636176205793505\n"
     ]
    }
   ],
   "source": [
    "print(\"Test Error:\")\n",
    "print(1-cv_score['test_score'].mean())"
   ]
  }
 ],
 "metadata": {
  "kernelspec": {
   "display_name": "Python 3",
   "language": "python",
   "name": "python3"
  },
  "language_info": {
   "codemirror_mode": {
    "name": "ipython",
    "version": 3
   },
   "file_extension": ".py",
   "mimetype": "text/x-python",
   "name": "python",
   "nbconvert_exporter": "python",
   "pygments_lexer": "ipython3",
   "version": "3.7.3"
  }
 },
 "nbformat": 4,
 "nbformat_minor": 1
}
