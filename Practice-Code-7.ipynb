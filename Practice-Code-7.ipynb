{
 "cells": [
  {
   "cell_type": "code",
   "execution_count": 2,
   "metadata": {},
   "outputs": [],
   "source": [
    "import random\n",
    "import math\n",
    "from collections import defaultdict"
   ]
  },
  {
   "cell_type": "markdown",
   "metadata": {},
   "source": [
    "## Coin Change"
   ]
  },
  {
   "cell_type": "code",
   "execution_count": 162,
   "metadata": {},
   "outputs": [],
   "source": [
    "class Solution:\n",
    "    def coinChange(self, coins: [int], amount: int) -> int:\n",
    "        \n",
    "        if len(coins)==1 and amount%coins[0]!=0:\n",
    "            return -1\n",
    "        \n",
    "        coins=sorted(coins, reverse=True)\n",
    "        a=amount\n",
    "        num=math.inf\n",
    "        \n",
    "        for k in range(len(coins)):\n",
    "            c=coins[k]\n",
    "            if a>=c:\n",
    "                n=a//c\n",
    "                num=n\n",
    "                r=a%c\n",
    "                if r==0:\n",
    "                    return num\n",
    "                print('For',c,n,r,coins,num)\n",
    "                for i in range(n,0,-1):\n",
    "                    res=r\n",
    "                    j=k+1\n",
    "                    while j<len(coins):\n",
    "                        nex=coins[j]\n",
    "                        print('next',nex, res, i)\n",
    "                        if res%nex==0:\n",
    "                            num+=res//nex\n",
    "                            return num\n",
    "                        else:\n",
    "                            num+=res//nex\n",
    "                            res-=(res//nex)*nex\n",
    "                            j+=1\n",
    "                            print('res',res, j)\n",
    "\n",
    "        return -1\n",
    "    "
   ]
  },
  {
   "cell_type": "code",
   "execution_count": 184,
   "metadata": {},
   "outputs": [
    {
     "name": "stderr",
     "output_type": "stream",
     "text": [
      "IOPub data rate exceeded.\n",
      "The notebook server will temporarily stop sending output\n",
      "to the client in order to avoid crashing it.\n",
      "To change this limit, set the config variable\n",
      "`--NotebookApp.iopub_data_rate_limit`.\n",
      "\n",
      "Current values:\n",
      "NotebookApp.iopub_data_rate_limit=1000000.0 (bytes/sec)\n",
      "NotebookApp.rate_limit_window=3.0 (secs)\n",
      "\n"
     ]
    },
    {
     "data": {
      "text/plain": [
       "20"
      ]
     },
     "execution_count": 184,
     "metadata": {},
     "output_type": "execute_result"
    }
   ],
   "source": [
    "def dp(amount, coins_used=0):\n",
    "    if amount in memory: return memory[amount]\n",
    "    if amount == 0: return 0\n",
    "    tmp = []\n",
    "    for coin in c:\n",
    "        if amount - coin >= 0: tmp.append(dp(amount-coin, coins_used+1))\n",
    "        else: tmp.append(float('inf'))\n",
    "\n",
    "    _min = min(tmp) + 1\n",
    "    memory[amount] = _min\n",
    "    return _min\n",
    "\n",
    "c=[186,419,83,408]\n",
    "memory={}\n",
    "output = dp(6249)\n",
    "output if output != float('inf') else -1"
   ]
  },
  {
   "cell_type": "markdown",
   "metadata": {},
   "source": [
    "## Max Chocolates"
   ]
  },
  {
   "cell_type": "code",
   "execution_count": 1,
   "metadata": {},
   "outputs": [],
   "source": [
    "def get_choco_max(jarray):\n",
    "    return choco_max(jarray, 0, len(jarray), -math.inf)\n",
    "\n",
    "def choco_max(arr, i, n, prev):\n",
    "        if (i == n):\n",
    "            return 0\n",
    "\n",
    "        excl = choco_max(arr, i + 1, n, prev)\n",
    "\n",
    "        incl = 0\n",
    "\n",
    "        if (prev + 1 != i):\n",
    "            incl = choco_max(arr, i + 1, n, i) + arr[i]\n",
    "        print(incl, excl)\n",
    "        return max(incl, excl)\n"
   ]
  },
  {
   "cell_type": "code",
   "execution_count": 228,
   "metadata": {},
   "outputs": [
    {
     "name": "stdout",
     "output_type": "stream",
     "text": [
      "5 6\n",
      "36 6\n",
      "105 36\n",
      "96 105\n",
      "110 105\n",
      "115 110\n"
     ]
    },
    {
     "data": {
      "text/plain": [
       "115"
      ]
     },
     "execution_count": 228,
     "metadata": {},
     "output_type": "execute_result"
    }
   ],
   "source": [
    "ja=[6,5,30,99,60,5,10]\n",
    "get_choco_max(ja)"
   ]
  },
  {
   "cell_type": "code",
   "execution_count": 230,
   "metadata": {},
   "outputs": [],
   "source": [
    "import re"
   ]
  },
  {
   "cell_type": "code",
   "execution_count": 234,
   "metadata": {},
   "outputs": [
    {
     "data": {
      "text/plain": [
       "[]"
      ]
     },
     "execution_count": 234,
     "metadata": {},
     "output_type": "execute_result"
    }
   ],
   "source": [
    "line='sadsda@sd'\n",
    "email = re.findall(r'[\\w\\.-]+@[\\w\\.-]+(\\.[\\w]+)+',line)\n",
    "email"
   ]
  },
  {
   "cell_type": "code",
   "execution_count": 248,
   "metadata": {},
   "outputs": [
    {
     "name": "stdout",
     "output_type": "stream",
     "text": [
      "[]\n"
     ]
    }
   ],
   "source": [
    "regularExpression = r'[a-z]+\\_{1}[0-9]*@[\\w\\.-]+(\\.[\\w]+)+'\n",
    "r=r'[\\w\\.-]+@[\\w\\.-]+(\\.[\\w]+)+'\n",
    "# pattern = compile(regularExpression)\n",
    "\n",
    "print(re.findall(regularExpression,'asasd12@gmail.com'))"
   ]
  },
  {
   "cell_type": "markdown",
   "metadata": {},
   "source": [
    "## Stock Pairs    "
   ]
  },
  {
   "cell_type": "code",
   "execution_count": 268,
   "metadata": {},
   "outputs": [],
   "source": [
    "def stockPairs(stocksProfit, target):\n",
    "    freq = dict()\n",
    "    count = 0\n",
    "\n",
    "    for i in range(len(stocksProfit)):\n",
    "        curr = stocksProfit[i];\n",
    "        partner = target - stocksProfit[i]\n",
    "\n",
    "        if partner in freq:\n",
    "            f=freq[partner]-1\n",
    "            count+=1\n",
    "\n",
    "            if f == 0:\n",
    "                freq.pop(partner,None)\n",
    "            else:\n",
    "                freq[partner]=freq\n",
    "        else:\n",
    "            if curr in freq:\n",
    "                freq[curr]= freq[curr] + 1\n",
    "                         \n",
    "            else:\n",
    "                freq[curr]=1\n",
    "\n",
    "    return count"
   ]
  },
  {
   "cell_type": "code",
   "execution_count": 294,
   "metadata": {},
   "outputs": [],
   "source": [
    "def numberOfPairs(a, k):\n",
    "\n",
    "    compliments = set()\n",
    "    result = set()\n",
    "    for v in a:\n",
    "        if v in compliments:\n",
    "            result.add((v, k-v))\n",
    "        else:\n",
    "            compliments.add(k-v)\n",
    "\n",
    "    return len(result)"
   ]
  },
  {
   "cell_type": "code",
   "execution_count": 295,
   "metadata": {},
   "outputs": [
    {
     "data": {
      "text/plain": [
       "3"
      ]
     },
     "execution_count": 295,
     "metadata": {},
     "output_type": "execute_result"
    }
   ],
   "source": [
    "s=[5,7,9,11,6,6,3,3]\n",
    "target=12\n",
    "numberOfPairs(s,target)"
   ]
  },
  {
   "cell_type": "markdown",
   "metadata": {},
   "source": [
    "## Valid Number"
   ]
  },
  {
   "cell_type": "code",
   "execution_count": 373,
   "metadata": {},
   "outputs": [],
   "source": [
    "import re\n",
    "class Solution:\n",
    "    def isNumber(self, s: str) -> bool:\n",
    "        \n",
    "        s=s.strip()\n",
    "        if len(s)==0:\n",
    "            return False\n",
    "        \n",
    "        try:\n",
    "            #Case 1: Number\n",
    "            a=int(s)\n",
    "            return True\n",
    "        except:\n",
    "            try:\n",
    "                #Case 2: Float\n",
    "                a=float(s)\n",
    "                return True\n",
    "            except:\n",
    "                #Case 3: 1e3\n",
    "                if 'e' in s:\n",
    "                    a=s.split('e')\n",
    "                    match1=re.search(r'[\\-,\\+]{0,1}[0-9]+\\.[0-9]+',a[0])\n",
    "                    match2=re.search(r'[\\-,\\+]{0,1}[0-9]+',a[1])\n",
    "                    if match1 and match2 and len(a)==2:\n",
    "                        if match1.span()[1]-match1.span()[0]==len(a[0]) and match2.span()[1]-match2.span()[0]==len(a[1]):\n",
    "                            return True\n",
    "                \n",
    "            return False"
   ]
  },
  {
   "cell_type": "code",
   "execution_count": 374,
   "metadata": {},
   "outputs": [
    {
     "data": {
      "text/plain": [
       "True"
      ]
     },
     "execution_count": 374,
     "metadata": {},
     "output_type": "execute_result"
    }
   ],
   "source": [
    "Solution().isNumber('.1')"
   ]
  },
  {
   "cell_type": "markdown",
   "metadata": {},
   "source": [
    "## Max Trailing"
   ]
  },
  {
   "cell_type": "code",
   "execution_count": 558,
   "metadata": {},
   "outputs": [],
   "source": [
    "import math\n",
    "def maxTrailing(levels):\n",
    "    mx=-math.inf\n",
    "    mxdiff=-math.inf\n",
    "    \n",
    "    for i in range(len(levels)-1,-1,-1):\n",
    "        if mx < levels[i]:\n",
    "            mx = levels[i];\n",
    "        diff = mx - levels[i];\n",
    "        if mxdiff < diff:\n",
    "            mxdiff = diff\n",
    "            \n",
    "    return mxdiff if mxdiff!=0 else -1"
   ]
  },
  {
   "cell_type": "code",
   "execution_count": 409,
   "metadata": {},
   "outputs": [
    {
     "data": {
      "text/plain": [
       "-1"
      ]
     },
     "execution_count": 409,
     "metadata": {},
     "output_type": "execute_result"
    }
   ],
   "source": [
    "l=[7,6,5]\n",
    "maxTrailing(l)"
   ]
  },
  {
   "cell_type": "markdown",
   "metadata": {},
   "source": [
    "## Cooldown Scheduler"
   ]
  },
  {
   "cell_type": "code",
   "execution_count": 556,
   "metadata": {},
   "outputs": [],
   "source": [
    "from collections import defaultdict\n",
    "def schedule(tasks, cooldown):\n",
    "    if cooldown==len(tasks):\n",
    "        return tasks\n",
    "    \n",
    "    mem=defaultdict(int)\n",
    "    \n",
    "    def putdots(d,i,t):\n",
    "        return t[:i]+'.'*d+t[i:]\n",
    "    \n",
    "    i=0\n",
    "    t=tasks\n",
    "    dots=0\n",
    "    ld=0\n",
    "    while i < len(tasks):\n",
    "        print(i,tasks[i], mem)\n",
    "        df=0\n",
    "        if tasks[i] in mem:\n",
    "            prev=mem[tasks[i]]\n",
    "            print(prev)\n",
    "            if i<=prev+cooldown:\n",
    "                j=i+dots\n",
    "                print(t[:j],t[:j].rfind(tasks[i]),t[:j].rfind('.'))\n",
    "                if t[:j].rfind(tasks[i])<t[:j].rfind('.'):\n",
    "                    df=prev+cooldown-i-dots+1\n",
    "                else:\n",
    "                    df=prev+cooldown-i+1\n",
    "                print('put',i,df,t,prev)\n",
    "                t=putdots(df,j,t)\n",
    "                dots+=df\n",
    "                ld=i+df-1\n",
    "                \n",
    "        mem[tasks[i]]=i\n",
    "        i+=1\n",
    "    \n",
    "    return t"
   ]
  },
  {
   "cell_type": "code",
   "execution_count": 557,
   "metadata": {},
   "outputs": [
    {
     "name": "stdout",
     "output_type": "stream",
     "text": [
      "0 a defaultdict(<class 'int'>, {})\n",
      "1 a defaultdict(<class 'int'>, {'a': 0})\n",
      "0\n",
      "a 0 -1\n",
      "put 1 3 aabb 0\n",
      "2 b defaultdict(<class 'int'>, {'a': 1})\n",
      "3 b defaultdict(<class 'int'>, {'a': 1, 'b': 2})\n",
      "2\n",
      "a...ab 5 3\n",
      "put 3 3 a...abb 2\n"
     ]
    },
    {
     "data": {
      "text/plain": [
       "'a...ab...b'"
      ]
     },
     "execution_count": 557,
     "metadata": {},
     "output_type": "execute_result"
    }
   ],
   "source": [
    "schedule('aabb',3)"
   ]
  },
  {
   "cell_type": "markdown",
   "metadata": {},
   "source": [
    "## Valid Binary Search Tree"
   ]
  },
  {
   "cell_type": "code",
   "execution_count": 296,
   "metadata": {},
   "outputs": [],
   "source": [
    "class TreeNode(object):\n",
    "    def __init__(self, x):\n",
    "        self.val = x\n",
    "        self.left = None\n",
    "        self.right = None\n",
    "\n",
    "class Solution(object):\n",
    "    def isValidBST(self, root):\n",
    "        \n",
    "        def checkvalid(r, mn, mx):\n",
    "            if r:\n",
    "                print(r.val, mn, mx)\n",
    "                if (mn!=None and r.val<mn) or (mx!=None and r.val>mx):\n",
    "                    return False\n",
    "                \n",
    "                return checkvalid(r.left,mn,r.val-1) and checkvalid(r.right,r.val+1,mx)\n",
    "            return True\n",
    "        \n",
    "        if root:\n",
    "            return checkvalid(root, None, None)\n",
    "        else:\n",
    "            return True\n"
   ]
  },
  {
   "cell_type": "code",
   "execution_count": 298,
   "metadata": {},
   "outputs": [
    {
     "name": "stdout",
     "output_type": "stream",
     "text": [
      "3 None None\n",
      "1 None 2\n",
      "0 None 0\n",
      "2 2 2\n",
      "5 4 None\n",
      "4 4 4\n",
      "6 6 None\n"
     ]
    },
    {
     "data": {
      "text/plain": [
       "True"
      ]
     },
     "execution_count": 298,
     "metadata": {},
     "output_type": "execute_result"
    }
   ],
   "source": [
    "r=TreeNode(3)\n",
    "r.left=TreeNode(1)\n",
    "r.left.left=TreeNode(0)\n",
    "r.left.right=TreeNode(2)\n",
    "r.right=TreeNode(5)\n",
    "r.right.left=TreeNode(4)\n",
    "r.right.right=TreeNode(6)\n",
    "Solution().isValidBST(r)"
   ]
  },
  {
   "cell_type": "markdown",
   "metadata": {},
   "source": [
    "# Find Mode in BST"
   ]
  },
  {
   "cell_type": "code",
   "execution_count": 318,
   "metadata": {},
   "outputs": [],
   "source": [
    "class Solution(object):\n",
    "    def findMode(self, root):\n",
    "        \n",
    "        def trav(r):\n",
    "            if r:\n",
    "                print(r.val)\n",
    "                d[r.val]+=1\n",
    "                trav(r.left)\n",
    "                trav(r.right)\n",
    "                \n",
    "        d=defaultdict(int)\n",
    "        trav(root)\n",
    "        \n",
    "        mx=0\n",
    "        res=[]\n",
    "        for k in d:\n",
    "            if d[k]>mx:\n",
    "                mx=d[k]\n",
    "        for k in d:\n",
    "            if d[k]==mx:\n",
    "                res.append(k)\n",
    "        return res"
   ]
  },
  {
   "cell_type": "code",
   "execution_count": 381,
   "metadata": {},
   "outputs": [],
   "source": [
    "# Without extra Space - O(1) space\n",
    "class Solution(object):\n",
    "    prev=-1\n",
    "    def findMode(self, root):\n",
    "        \n",
    "        def trav(r,l,ct,mxc):\n",
    "            if r:\n",
    "                print(r.val,'----',ct,mxc, self.prev)\n",
    "                trav(r.left,l,ct,mxc)\n",
    "                if self.prev!=-1 or self.prev!=r.val:\n",
    "                    print('Prev',self.prev)\n",
    "                    if r.val==self.prev:\n",
    "                        ct+=1\n",
    "                    else:\n",
    "                        ct=1\n",
    "                if self.prev!=-1 or self.prev!=r.val:\n",
    "                    self.prev=r.val\n",
    "\n",
    "                if ct>mxc:\n",
    "                    mxc=ct\n",
    "                    l=[r.val]\n",
    "                elif ct==mxc:\n",
    "                    l.append(r.val)\n",
    "\n",
    "                trav(r.right,l,ct,mxc)\n",
    "\n",
    "            return\n",
    "        l=[]\n",
    "        ct=1\n",
    "        mxc=0\n",
    "        self.prev=-1\n",
    "        trav(root,l,ct,mxc)\n",
    "        return l"
   ]
  },
  {
   "cell_type": "code",
   "execution_count": 382,
   "metadata": {},
   "outputs": [
    {
     "name": "stdout",
     "output_type": "stream",
     "text": [
      "7 ---- 1 0 -1\n",
      "3 ---- 1 0 -1\n",
      "2 ---- 1 0 -1\n",
      "Prev -1\n",
      "Prev 2\n",
      "4 ---- 1 1 3\n",
      "Prev 3\n",
      "Prev 4\n",
      "9 ---- 1 1 7\n",
      "5 ---- 1 1 7\n",
      "4 ---- 1 1 7\n",
      "Prev 7\n",
      "Prev 4\n",
      "Prev 5\n",
      "9 ---- 1 1 9\n",
      "Prev 9\n"
     ]
    },
    {
     "data": {
      "text/plain": [
       "[]"
      ]
     },
     "execution_count": 382,
     "metadata": {},
     "output_type": "execute_result"
    }
   ],
   "source": [
    "r=TreeNode(7)\n",
    "r.left=TreeNode(3)\n",
    "r.left.left=TreeNode(2)\n",
    "r.left.right=TreeNode(4)\n",
    "r.right=TreeNode(9)\n",
    "r.right.left=TreeNode(5)\n",
    "r.right.left.left=TreeNode(4)\n",
    "r.right.right=TreeNode(9)\n",
    "\n",
    "\n",
    "Solution().findMode(r)\n"
   ]
  },
  {
   "cell_type": "markdown",
   "metadata": {},
   "source": [
    "## K-Concatenation Maximum Sum"
   ]
  },
  {
   "cell_type": "code",
   "execution_count": 434,
   "metadata": {},
   "outputs": [],
   "source": [
    "class Solution(object):\n",
    "    def kConcatenationMaxSum(self, arr, k):\n",
    "        if len(arr)==0:\n",
    "            return 0\n",
    "        \n",
    "        def findsub(arr, k):\n",
    "            prev=0\n",
    "            curr=0\n",
    "            s=0\n",
    "            for i in range(len(arr)):\n",
    "                curr=arr[i] + (prev if prev>0 else 0)\n",
    "                prev=curr\n",
    "                s=max(curr,s)\n",
    "\n",
    "            return (s%(10**9 + 7) if s>0 else 0)\n",
    "        \n",
    "        s=sum(arr)\n",
    "        # print(s)\n",
    "        add=0\n",
    "        if s>=0:\n",
    "            add=(k-2)*s\n",
    "        if k==1:\n",
    "            return findsub(arr,k)\n",
    "        else:\n",
    "            arr=arr*2\n",
    "            return findsub(arr,2)+add\n",
    "        return 0\n",
    "        \n",
    "    \n",
    "    \n",
    "\n",
    "    "
   ]
  },
  {
   "cell_type": "code",
   "execution_count": 436,
   "metadata": {},
   "outputs": [
    {
     "data": {
      "text/plain": [
       "3"
      ]
     },
     "execution_count": 436,
     "metadata": {},
     "output_type": "execute_result"
    }
   ],
   "source": [
    "a=[1,2]\n",
    "k=1\n",
    "Solution().kConcatenationMaxSum(a,k)"
   ]
  },
  {
   "cell_type": "markdown",
   "metadata": {},
   "source": [
    "## Largest Number"
   ]
  },
  {
   "cell_type": "code",
   "execution_count": 167,
   "metadata": {},
   "outputs": [],
   "source": [
    "class Solution(object):\n",
    "    def largestNumber(self, nums):\n",
    "        # nums=[12,3,45,0,19,22,66,78]\n",
    "        x=[]\n",
    "        for i in nums:\n",
    "            x.append(str(i))\n",
    "        \n",
    "        def swap(x,i,j):\n",
    "            x[i],x[j]=x[j],x[i]\n",
    "            return\n",
    "\n",
    "        x=sorted(x, reverse=True)\n",
    "        res=''\n",
    "        i=0\n",
    "        while i<len(x):\n",
    "            # print(x)\n",
    "            if i<len(x)-1:\n",
    "                j=i+1\n",
    "                if len(x[i])>len(x[j]):\n",
    "                    while j<len(x) and len(x[j])==len(x[i]):\n",
    "                        j+=1\n",
    "                    s=j\n",
    "                    while j<len(x) and j-s<len(x[i]):\n",
    "                        j+=1\n",
    "                    if j<len(x) and ''.join(x[s:j])>x[i]:\n",
    "                        res+=''.join(x[s:j])\n",
    "                        del x[s:j]\n",
    "                    else:\n",
    "                        res+=x[i]\n",
    "                elif len(x[i])<len(x[j]):\n",
    "                    while j<len(x) and len(x[j])>len(x[i]):\n",
    "                        j+=1\n",
    "                    s=j\n",
    "                    print(j)\n",
    "                    if j<len(x) and x[j]>x[i+1][0]:\n",
    "                        while j<len(x) and j-s<len(x[i]):\n",
    "                            j+=1\n",
    "                        nex=x[i]+''.join(x[s:j])\n",
    "                        if nex>x[i+1]:\n",
    "                            res+=nex\n",
    "                            del x[s:j]\n",
    "                        else:\n",
    "                            res+=x[i]\n",
    "                    else:\n",
    "                        res+=x[i]\n",
    "                    print(res,i)\n",
    "                else:\n",
    "                    res+=x[i]\n",
    "            else:\n",
    "                res+=x[i]\n",
    "            i+=1\n",
    "        return res"
   ]
  },
  {
   "cell_type": "code",
   "execution_count": 203,
   "metadata": {},
   "outputs": [],
   "source": [
    "class Solution(object):\n",
    "    def largestNumber(self, nums):\n",
    "        # nums=[12,3,45,0,19,22,66,78]\n",
    "        x=[]\n",
    "        for i in nums:\n",
    "            x.append(str(i))\n",
    "        \n",
    "        def swap(x,i,j):\n",
    "#             t=x[j]\n",
    "#             x[j]=x[i]\n",
    "#             k=i\n",
    "#             while k>j+1:\n",
    "#                 x[k]=x[k-1]\n",
    "#                 k-=1\n",
    "            x[i],x[j]=x[j],x[i]\n",
    "            return\n",
    "\n",
    "        x=sorted(x, reverse=True)\n",
    "        res=''.join(x)\n",
    "        for i in range(len(x)-1,-1,-1):\n",
    "            for j in range(len(x)-2,-1,-1):\n",
    "                print(res)\n",
    "                swap(x,i,j)\n",
    "                print(x)\n",
    "                curr=''.join(x)\n",
    "                if curr>res:\n",
    "                    print(x,i,j)\n",
    "                    res=curr\n",
    "        return res"
   ]
  },
  {
   "cell_type": "code",
   "execution_count": 255,
   "metadata": {},
   "outputs": [],
   "source": [
    "class Solution:\n",
    "    def largestNumber(self, nums: [int]) -> str:\n",
    "        \n",
    "        s = list(map(str, nums))\n",
    "        mx = max([len(x) for x in s])\n",
    "        \n",
    "        for i in range(mx, -1, -1):\n",
    "            s = sorted(s, key = lambda x: x[i%len(x)], reverse=True)\n",
    "            \n",
    "        return str(int(''.join(s)))"
   ]
  },
  {
   "cell_type": "code",
   "execution_count": 256,
   "metadata": {},
   "outputs": [
    {
     "data": {
      "text/plain": [
       "'9534330'"
      ]
     },
     "execution_count": 256,
     "metadata": {},
     "output_type": "execute_result"
    }
   ],
   "source": [
    "# a=[128,12,320,32]\n",
    "\n",
    "a=[3,30,34,5,9]\n",
    "Solution().largestNumber(a)"
   ]
  },
  {
   "cell_type": "code",
   "execution_count": 243,
   "metadata": {},
   "outputs": [],
   "source": [
    "s=['320', '12', '32', '128']\n",
    "a=[3,30,34,5,9]\n",
    "s=list(map(str,a))\n"
   ]
  },
  {
   "cell_type": "code",
   "execution_count": 244,
   "metadata": {},
   "outputs": [
    {
     "data": {
      "text/plain": [
       "['9', '5', '3', '30', '34']"
      ]
     },
     "execution_count": 244,
     "metadata": {},
     "output_type": "execute_result"
    }
   ],
   "source": [
    "s=sorted(s, key = lambda x:x[1%len(x)], reverse=True)\n",
    "s"
   ]
  },
  {
   "cell_type": "code",
   "execution_count": 195,
   "metadata": {},
   "outputs": [],
   "source": [
    "x=[1,2,3,4]\n",
    "x1=[x[i+1] for i in range(len(x)-1)]"
   ]
  },
  {
   "cell_type": "code",
   "execution_count": 196,
   "metadata": {},
   "outputs": [
    {
     "data": {
      "text/plain": [
       "[2, 3, 4]"
      ]
     },
     "execution_count": 196,
     "metadata": {},
     "output_type": "execute_result"
    }
   ],
   "source": [
    "x1"
   ]
  },
  {
   "cell_type": "markdown",
   "metadata": {},
   "source": [
    "## Merge Intervals"
   ]
  },
  {
   "cell_type": "code",
   "execution_count": 330,
   "metadata": {},
   "outputs": [],
   "source": [
    "class Solution(object):\n",
    "    def merge(self, intervals):\n",
    "        intervals=sorted(intervals, key=lambda x:x[0])\n",
    "        c=0\n",
    "        while c<len(intervals)-1:\n",
    "            cur,nex=intervals[c],intervals[c+1]\n",
    "            if cur[1]>=nex[0]:\n",
    "                cur[1]=max(nex[1],cur[1])\n",
    "                cur[0]=min(nex[0],cur[0])\n",
    "                del intervals[c+1]\n",
    "                intervals[c]=cur\n",
    "                c-=1\n",
    "            c+=1\n",
    "        return intervals"
   ]
  },
  {
   "cell_type": "code",
   "execution_count": 331,
   "metadata": {},
   "outputs": [
    {
     "data": {
      "text/plain": [
       "[[0, 9], [10, 14]]"
      ]
     },
     "execution_count": 331,
     "metadata": {},
     "output_type": "execute_result"
    }
   ],
   "source": [
    "a=[[1,5],[1,7],[0,1],[7,9],[10,14],[11,13]]\n",
    "Solution().merge(a)"
   ]
  },
  {
   "cell_type": "code",
   "execution_count": 279,
   "metadata": {},
   "outputs": [],
   "source": [
    "import collections\n",
    "a=[1,2,3]\n",
    "del a[2],a[1]\n",
    "d=collections.deque(a)"
   ]
  },
  {
   "cell_type": "code",
   "execution_count": null,
   "metadata": {},
   "outputs": [],
   "source": []
  },
  {
   "cell_type": "markdown",
   "metadata": {},
   "source": [
    "# Recursion Lessons"
   ]
  },
  {
   "cell_type": "markdown",
   "metadata": {},
   "source": [
    "## Recursively Reverse LL"
   ]
  },
  {
   "cell_type": "code",
   "execution_count": 373,
   "metadata": {},
   "outputs": [],
   "source": [
    "# Definition for singly-linked list.\n",
    "class ListNode(object):\n",
    "    def __init__(self, x):\n",
    "        self.val = x\n",
    "        self.next = None\n",
    "\n",
    "class Solution(object):\n",
    "    def reverseList(self, head):\n",
    "        ans=ListNode(0)\n",
    "        def rec(h):\n",
    "            if h==None:\n",
    "                print(ans.val)\n",
    "                return ans\n",
    "            print(h.val)\n",
    "            t=rec(h.next)\n",
    "            t.next=h\n",
    "            return t.next\n",
    "        rec(head).next=None\n",
    "        \n",
    "        return ans.next\n",
    "\n",
    "    def reverseListE(self, head):\n",
    "        def rec(h):\n",
    "            if h==None or h.next==None:\n",
    "                return h\n",
    "            t=rec(h.next)\n",
    "            h.next.next=h\n",
    "            h.next=None\n",
    "            return t\n",
    "        return rec(head)"
   ]
  },
  {
   "cell_type": "code",
   "execution_count": 376,
   "metadata": {},
   "outputs": [],
   "source": [
    "l=ListNode(1)\n",
    "l.next=ListNode(2)\n",
    "l.next.next=ListNode(3)\n",
    "x=Solution().reverseListE(l)"
   ]
  },
  {
   "cell_type": "code",
   "execution_count": 370,
   "metadata": {},
   "outputs": [
    {
     "data": {
      "text/plain": [
       "3"
      ]
     },
     "execution_count": 370,
     "metadata": {},
     "output_type": "execute_result"
    }
   ],
   "source": [
    "x.val"
   ]
  },
  {
   "cell_type": "code",
   "execution_count": 406,
   "metadata": {},
   "outputs": [],
   "source": [
    "class Solution(object):\n",
    "    def fib(self, N):\n",
    "\n",
    "        if N==2 or N==1:\n",
    "            return 1\n",
    "        cache=[None for i in range(N+1)]\n",
    "        cache[0],cache[1]=0,1\n",
    "        if N>1:\n",
    "            cache[2]=1\n",
    "        \n",
    "        def fibf(n):\n",
    "            if cache[n]==None:\n",
    "                cache[n]=fibf(n-1)+fibf(n-2)\n",
    "            return cache[n]\n",
    "        \n",
    "        return fibf(N)"
   ]
  },
  {
   "cell_type": "code",
   "execution_count": 407,
   "metadata": {},
   "outputs": [
    {
     "name": "stdout",
     "output_type": "stream",
     "text": [
      "1 1\n",
      "2 1\n",
      "3 2\n",
      "4 3\n",
      "5 5\n",
      "6 8\n",
      "7 13\n",
      "8 21\n",
      "9 34\n"
     ]
    }
   ],
   "source": [
    "for i in range(1,10):\n",
    "    print(i,Solution().fib(i))"
   ]
  },
  {
   "cell_type": "code",
   "execution_count": 422,
   "metadata": {},
   "outputs": [],
   "source": [
    "#Recursion\n",
    "class Solution(object):\n",
    "    def climbStairs(self, n):\n",
    "        if n<=3:\n",
    "            return n\n",
    "        \n",
    "        mem=[0 for i in range(n+1)]\n",
    "        \n",
    "        for j in range(1,4):\n",
    "            mem[j]=j\n",
    "            \n",
    "        def rec(n):\n",
    "            if mem[n]==0:\n",
    "                mem[n]=rec(n-1)+rec(n-2)\n",
    "            return mem[n]\n",
    "        \n",
    "        return rec(n)\n"
   ]
  },
  {
   "cell_type": "code",
   "execution_count": 423,
   "metadata": {},
   "outputs": [
    {
     "name": "stdout",
     "output_type": "stream",
     "text": [
      "1 1\n",
      "2 2\n",
      "3 3\n",
      "4 5\n"
     ]
    }
   ],
   "source": [
    "for i in range(1,5):\n",
    "    print(i,Solution().climbStairs(i))"
   ]
  },
  {
   "cell_type": "code",
   "execution_count": 448,
   "metadata": {},
   "outputs": [],
   "source": [
    "class Solution(object):\n",
    "    def myPow(self, x, n):\n",
    "        if n==0:\n",
    "            return 1\n",
    "\n",
    "        mem=[0 for j in range(n+1)]\n",
    "        if n>1:\n",
    "            mem[0]=1\n",
    "            mem[1]=x\n",
    "        \n",
    "        def po(x,n):\n",
    "            if mem[n]==0:\n",
    "                if n%2==0:\n",
    "                    mem[n]=po(x,n//2)**2\n",
    "                else:\n",
    "                    mem[n]=(x*po(x,n-1) if n>0 else (po(x,n+1)/x) )\n",
    "            return mem[n]\n",
    "        \n",
    "        return po(x,n)"
   ]
  },
  {
   "cell_type": "code",
   "execution_count": 451,
   "metadata": {},
   "outputs": [
    {
     "data": {
      "text/plain": [
       "128"
      ]
     },
     "execution_count": 451,
     "metadata": {},
     "output_type": "execute_result"
    }
   ],
   "source": [
    "Solution().myPow(2,7)"
   ]
  },
  {
   "cell_type": "code",
   "execution_count": 405,
   "metadata": {},
   "outputs": [],
   "source": [
    "class Solution(object):\n",
    "    def getRow(self, rowIndex):\n",
    "        \n",
    "        mem=[[0 for j in range(rowIndex+1)] for i in range(rowIndex+1)]\n",
    "        mem[1][1],mem[2][1]=1,1\n",
    "        def find(i,r):\n",
    "            if i==0 or r==0 or i>r:\n",
    "                return 0\n",
    "            if r<3 or (i==1 or i==r):\n",
    "                return 1\n",
    "            if i>0 and r>0 and mem[i-1][r-1]!=0:\n",
    "                l=mem[i-1][r-1]\n",
    "            else:\n",
    "                l=find(i-1,r-1)\n",
    "                mem[i-1][r-1]=l\n",
    "                \n",
    "            if mem[i][r-1]!=0:\n",
    "                h=mem[i][r-1]\n",
    "            else:\n",
    "                h=find(i,r-1)\n",
    "                mem[i][r-1]=h\n",
    "            \n",
    "            \n",
    "            return l+h\n",
    "            \n",
    "        ans=[]\n",
    "        for i in range(1,rowIndex+2):\n",
    "            ans.append(find(i,rowIndex+1))\n",
    "            \n",
    "        return ans"
   ]
  },
  {
   "cell_type": "code",
   "execution_count": 390,
   "metadata": {},
   "outputs": [
    {
     "data": {
      "text/plain": [
       "[1,\n",
       " 23,\n",
       " 253,\n",
       " 1771,\n",
       " 8855,\n",
       " 33649,\n",
       " 100947,\n",
       " 245157,\n",
       " 490314,\n",
       " 817190,\n",
       " 1144066,\n",
       " 1352078,\n",
       " 1352078,\n",
       " 1144066,\n",
       " 817190,\n",
       " 490314,\n",
       " 245157,\n",
       " 100947,\n",
       " 33649,\n",
       " 8855,\n",
       " 1771,\n",
       " 253,\n",
       " 23,\n",
       " 1]"
      ]
     },
     "execution_count": 390,
     "metadata": {},
     "output_type": "execute_result"
    }
   ],
   "source": [
    "Solution().getRow(23)"
   ]
  },
  {
   "cell_type": "code",
   "execution_count": 529,
   "metadata": {},
   "outputs": [],
   "source": [
    "\n",
    "class Solution(object):\n",
    "    def kthGrammar(self, N, K):\n",
    "        \n",
    "        if N==1 and K==1:\n",
    "            return 0\n",
    "        if K>2**(N-1) or K<1:\n",
    "            return\n",
    "        \n",
    "        def kgram(N, K):\n",
    "            print(N,K)\n",
    "            if N==1 and K==1:\n",
    "                return 0\n",
    "\n",
    "            if K%2==0:\n",
    "                o = kgram(N-1,K//2)\n",
    "                return (1 if o==0 else 0)\n",
    "            else:\n",
    "                o = kgram(N-1, (K//2) + 1)\n",
    "                return (0 if o==0 else 1)\n",
    "\n",
    "        return kgram(N,K)"
   ]
  },
  {
   "cell_type": "code",
   "execution_count": 536,
   "metadata": {},
   "outputs": [
    {
     "name": "stdout",
     "output_type": "stream",
     "text": [
      "4 8\n",
      "3 4\n",
      "2 2\n",
      "1 1\n"
     ]
    },
    {
     "data": {
      "text/plain": [
       "1"
      ]
     },
     "execution_count": 536,
     "metadata": {},
     "output_type": "execute_result"
    }
   ],
   "source": [
    "Solution().kthGrammar(4,8)"
   ]
  },
  {
   "cell_type": "markdown",
   "metadata": {},
   "source": [
    "## Unique Binary Search Trees"
   ]
  },
  {
   "cell_type": "code",
   "execution_count": 580,
   "metadata": {},
   "outputs": [],
   "source": [
    "class Solution(object):\n",
    "    def numTrees(self, n):\n",
    "        \n",
    "        def f(n):\n",
    "            if mem[n]==0:\n",
    "                l=0\n",
    "                r=n-1\n",
    "                s=0\n",
    "                while l<=r:\n",
    "                    if l==r:\n",
    "                        s+=f(l)*f(r)\n",
    "                    else:\n",
    "                        s+=2*f(l)*f(r)\n",
    "                    l+=1\n",
    "                    r-=1\n",
    "                mem[n]=s\n",
    "            return mem[n]\n",
    "        \n",
    "        mem=[0 for i in range(n+1)]\n",
    "        mem[0],mem[1],mem[2]=1,1,2\n",
    "        return f(n)\n"
   ]
  },
  {
   "cell_type": "code",
   "execution_count": 581,
   "metadata": {},
   "outputs": [
    {
     "data": {
      "text/plain": [
       "132"
      ]
     },
     "execution_count": 581,
     "metadata": {},
     "output_type": "execute_result"
    }
   ],
   "source": [
    "Solution().numTrees(6)"
   ]
  },
  {
   "cell_type": "markdown",
   "metadata": {},
   "source": [
    "# CISCO\n",
    "\n",
    "## Prefix Suffix Score"
   ]
  },
  {
   "cell_type": "code",
   "execution_count": 475,
   "metadata": {},
   "outputs": [],
   "source": [
    "def calculateScore(text, prefixString, suffixString):\n",
    "    p=len(prefixString)\n",
    "    s=len(suffixString)\n",
    "    \n",
    "    pmx=0\n",
    "    for j in range(len(text)):\n",
    "        if prefixString[-1]==text[j]:\n",
    "            i=j\n",
    "            pi=0\n",
    "            ct=0\n",
    "            while i>=0 and pi<p:\n",
    "                if text[i]==prefixString[-1-pi]:\n",
    "                    ct+=1\n",
    "                    if ct>pmx:\n",
    "                        pmx=ct\n",
    "                        pre=text[i:i+pmx]\n",
    "                else:\n",
    "                    break\n",
    "                pi+=1\n",
    "                i-=1\n",
    "                \n",
    "                \n",
    "    smx=0\n",
    "    for j in range(len(text)):\n",
    "        if suffixString[0]==text[j]:\n",
    "            i=j\n",
    "            si=0\n",
    "            ct=0\n",
    "            while i<len(text) and si<s:\n",
    "                if text[i]==suffixString[si]:\n",
    "                    ct+=1\n",
    "                    if ct>smx:\n",
    "                        smx=ct\n",
    "                        suf=text[i-smx+1:i+1]\n",
    "                else:\n",
    "                    break\n",
    "                si+=1\n",
    "                i+=1\n",
    "                \n",
    "            \n",
    "                \n",
    "    return pre+suf\n",
    "                "
   ]
  },
  {
   "cell_type": "code",
   "execution_count": 578,
   "metadata": {},
   "outputs": [],
   "source": [
    "def calculateScore(text, prefixString, suffixString):\n",
    "    p=len(prefixString)\n",
    "    s=len(suffixString)\n",
    "    ps=0\n",
    "    pm=0\n",
    "    pref=''\n",
    "    prfs=[]\n",
    "    for i in range(p+1):\n",
    "        if text.find(prefixString[p-i:p])>=0:\n",
    "            ps=i\n",
    "            if ps>=pm:\n",
    "                pm=ps\n",
    "                pref=prefixString[p-i:p]\n",
    "                prfs.append(pref)\n",
    "    ss=0\n",
    "    sm=0\n",
    "    sufs=[]\n",
    "    for i in range(s):\n",
    "        if text.find(suffixString[:i+1])>=0:\n",
    "            ss=i+1\n",
    "            if ss>=sm:\n",
    "                sm=ss\n",
    "                suf=suffixString[:i+1]\n",
    "                sufs.append(suf)\n",
    "                \n",
    "    prefs=[]\n",
    "    for i in prfs:\n",
    "        if len(i)==pm and len(i)>0:\n",
    "            prefs.append(i)\n",
    "            \n",
    "    suffs=[]\n",
    "    for i in sufs:\n",
    "        if len(i)==sm:\n",
    "            suffs.append(i)\n",
    "    print(prefs,suffs)\n",
    "    if len(prefs)==1 and len(suffs)==1:\n",
    "        st=text.lfind(prefs[0])\n",
    "        en=text.rfind(suffs[0])+len(suffs[0])\n",
    "        return text[st:en]\n",
    "    else:\n",
    "        if len(prefs)==0:\n",
    "            return suffs[0]\n",
    "        elif len(suffs)==0:\n",
    "            return prefs[0]\n",
    "            \n",
    "    return prefs[0]+suffs[0]\n",
    "    \n",
    "    "
   ]
  },
  {
   "cell_type": "code",
   "execution_count": 579,
   "metadata": {},
   "outputs": [
    {
     "name": "stdout",
     "output_type": "stream",
     "text": [
      "[] ['pi']\n"
     ]
    },
    {
     "data": {
      "text/plain": [
       "'pi'"
      ]
     },
     "execution_count": 579,
     "metadata": {},
     "output_type": "execute_result"
    }
   ],
   "source": [
    "calculateScore('bacabadabacabaeabacabadabacaba','abacabada','piccolo')"
   ]
  },
  {
   "cell_type": "code",
   "execution_count": 546,
   "metadata": {},
   "outputs": [
    {
     "data": {
      "text/plain": [
       "2"
      ]
     },
     "execution_count": 546,
     "metadata": {},
     "output_type": "execute_result"
    }
   ],
   "source": [
    "'engine'.find('gin')"
   ]
  },
  {
   "cell_type": "code",
   "execution_count": 494,
   "metadata": {},
   "outputs": [],
   "source": [
    "def rotateMatrix(arr): \n",
    "    d=len(arr)\n",
    "    for i in range(d//2): \n",
    "        for j in range(i, d-i-1): \n",
    "            temp = arr[i][j] \n",
    "            arr[i][j] = arr[d - 1 - j][i] \n",
    "            arr[d - 1 - j][i] = arr[d - 1 - i][d - 1 - j] \n",
    "            arr[d - 1 - i][d - 1 - j] = arr[j][d - 1 - i] \n",
    "            arr[j][d - 1 - i] = temp \n",
    "    return arr"
   ]
  },
  {
   "cell_type": "code",
   "execution_count": 495,
   "metadata": {},
   "outputs": [
    {
     "data": {
      "text/plain": [
       "[['7', '4', '1'], ['8', '5', '2'], ['9', '6', '3']]"
      ]
     },
     "execution_count": 495,
     "metadata": {},
     "output_type": "execute_result"
    }
   ],
   "source": [
    "a=[['1', '2', '3'], ['4', '5', '6'], ['7', '8', '9']]\n",
    "rotateMatrix(a)"
   ]
  },
  {
   "cell_type": "code",
   "execution_count": 498,
   "metadata": {},
   "outputs": [
    {
     "name": "stdout",
     "output_type": "stream",
     "text": [
      "5\n",
      "1 2 3 4 5 6 7 8 9 10 11 12 13 14 15 16 17 18 19 20 21 22 23 25 25\n",
      "[['1', '2', '3', '4', '5'], ['6', '7', '8', '9', '10'], ['11', '12', '13', '14', '15'], ['16', '17', '18', '19', '20'], ['21', '22', '23', '25', '25']]\n",
      "21 16 11 6 1 22 17 12 7 2 23 18 13 8 3 25 19 14 9 4 25 20 15 10 5\n"
     ]
    }
   ],
   "source": [
    "d=int(input())\n",
    "arr=[[0 for i in range(d)] for j in range(d)]\n",
    "x=input().strip().split()\n",
    "for i in range(d):\n",
    "    arr[i]=x[d*i:d*(i+1)]\n",
    "\n",
    "print(arr)\n",
    "\n",
    "for i in range(d//2): \n",
    "    for j in range(i, d-i-1): \n",
    "        temp = arr[i][j] \n",
    "        arr[i][j] = arr[d - 1 - j][i] \n",
    "        arr[d - 1 - j][i] = arr[d - 1 - i][d - 1 - j] \n",
    "        arr[d - 1 - i][d - 1 - j] = arr[j][d - 1 - i] \n",
    "        arr[j][d - 1 - i] = temp \n",
    "\n",
    "out=''\n",
    "for i in arr:\n",
    "    out+=' '.join(i)+' '\n",
    "\n",
    "print(out.strip())"
   ]
  },
  {
   "cell_type": "code",
   "execution_count": null,
   "metadata": {},
   "outputs": [],
   "source": [
    "5\n",
    "1 2 3 4 5 6 7 8 9 10 11 12 13 14 15 16 17 18 19 20 21 22 23 25 25"
   ]
  }
 ],
 "metadata": {
  "kernelspec": {
   "display_name": "Python 3",
   "language": "python",
   "name": "python3"
  },
  "language_info": {
   "codemirror_mode": {
    "name": "ipython",
    "version": 3
   },
   "file_extension": ".py",
   "mimetype": "text/x-python",
   "name": "python",
   "nbconvert_exporter": "python",
   "pygments_lexer": "ipython3",
   "version": "3.7.3"
  }
 },
 "nbformat": 4,
 "nbformat_minor": 2
}
