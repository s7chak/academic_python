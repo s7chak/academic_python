{
 "cells": [
  {
   "cell_type": "markdown",
   "metadata": {},
   "source": [
    "# <div align=center>FinTech Assignment #2 : Blockchain Cryptography</div>\n",
    "###  <div align=center>Submission by Subhayu Chakravarty</div>"
   ]
  },
  {
   "cell_type": "markdown",
   "metadata": {},
   "source": [
    "### Importing required libraries"
   ]
  },
  {
   "cell_type": "code",
   "execution_count": 1,
   "metadata": {},
   "outputs": [],
   "source": [
    "from sympy import mod_inverse\n",
    "import hashlib"
   ]
  },
  {
   "cell_type": "markdown",
   "metadata": {},
   "source": [
    "# Part 1"
   ]
  },
  {
   "cell_type": "markdown",
   "metadata": {},
   "source": [
    "## Setting up Public Key and a Public prime number"
   ]
  },
  {
   "cell_type": "code",
   "execution_count": 2,
   "metadata": {},
   "outputs": [
    {
     "name": "stdout",
     "output_type": "stream",
     "text": [
      "Public Key:\n",
      "10031635092209121498674987861649022163771061565130441373555584537047455688991931937563110507506652959265182705476941444174840580049331773111276155053075917\n",
      "\n",
      "Public prime e:\n",
      "65537\n"
     ]
    }
   ],
   "source": [
    "# Setting Public key and public prime number (e)\n",
    "p=112481050639317229656723018120659623829736571015511322021617837187076258724819\n",
    "q=89185111938335771293328323333111422985697062149139368049232365065924632677343\n",
    "e= 65537\n",
    "public_key=p*q\n",
    "print('Public Key:')\n",
    "print(public_key)\n",
    "print('\\nPublic prime e:')\n",
    "print(e)"
   ]
  },
  {
   "cell_type": "markdown",
   "metadata": {},
   "source": [
    "## Creating Private Key"
   ]
  },
  {
   "cell_type": "code",
   "execution_count": 3,
   "metadata": {},
   "outputs": [
    {
     "name": "stdout",
     "output_type": "stream",
     "text": [
      "Private Key:\n",
      "6886694454027199678759881881737814611139109676622117091683160716943132564863007715345245794849719693156483947830169207322284232384798025277322134502462181\n"
     ]
    }
   ],
   "source": [
    "# Creating Private Key\n",
    "d=mod_inverse(e,((p-1)*(q-1)))\n",
    "print('Private Key:')\n",
    "print(d)"
   ]
  },
  {
   "cell_type": "markdown",
   "metadata": {},
   "source": [
    "# Part 2"
   ]
  },
  {
   "cell_type": "markdown",
   "metadata": {},
   "source": [
    "## Sending an encrypted message"
   ]
  },
  {
   "cell_type": "code",
   "execution_count": 4,
   "metadata": {},
   "outputs": [
    {
     "name": "stdout",
     "output_type": "stream",
     "text": [
      "Text: \"Running late.\"\n",
      "\n",
      "Cipher:\n",
      "6497669743448378345668640665215509633741690171333226118818132910829453320317471782770766232700916033983150030899044055908733080886668495241240209387581747\n"
     ]
    }
   ],
   "source": [
    "# Sending encrypted message\n",
    "sent='Running late.'\n",
    "x=sent.encode('utf-8')\n",
    "m=int.from_bytes(x, byteorder='big')\n",
    "c=(m**e)%public_key\n",
    "print('Text: \"'+sent+'\"')\n",
    "print('\\nCipher:')\n",
    "print(c)"
   ]
  },
  {
   "cell_type": "markdown",
   "metadata": {},
   "source": [
    "# Part 3"
   ]
  },
  {
   "cell_type": "markdown",
   "metadata": {},
   "source": [
    "## Decrypting a message"
   ]
  },
  {
   "cell_type": "code",
   "execution_count": 5,
   "metadata": {},
   "outputs": [
    {
     "name": "stdout",
     "output_type": "stream",
     "text": [
      "Receiving Cipher:\n",
      "9029727923340384868426518880554167882611943065703927838617521515742066859974885947494642963883568408240430125599636824996577080116022919050269017033777667\n",
      "\n",
      "Decrypted message:\n",
      "\u0000\u0000\u0000\u0000\u0000\u0000\u0000\u0000\u0000\u0000\u0000\u0000\u0000\u0000\u0000\u0000\u0000\u0000\u0000\u0000\u0000\u0000\u0000\u0000\u0000\u0000\u0000\u0000\u0000\u0000\u0000\u0000\u0000\u0000\u0000\u0000\u0000\u0000\u0000\u0000\u0000\u0000\u0000\u0000\u0000\u0000\u0000\u0000\u0000\u0000\u0000\u0000\u0000\u0000\u0000\u0000\u0000\u0000\u0000\u0000\u0000\u0000\u0000\u0000\u0000\u0000\u0000\u0000\u0000\u0000\u0000\u0000\u0000\u0000\u0000\u0000\u0000\u0000\u0000\u0000\u0000\u0000\u0000\u0000\u0000\u0000\u0000\u0000\u0000\u0000\u0000\u0000\u0000\u0000\u0000\u0000\u0000\u0000\u0000\u0000\u0000\u0000\u0000\u0000\u0000\u0000\u0000\u0000\u0000\u0000\u0000\u0000\u0000\u0000\u0000\u0000\u0000\u0000\u0000\u0000\u0000\u0000\u0000\u0000\u0000\u0000\u0000\u0000\u0000\u0000\u0000\u0000\u0000\u0000\u0000\u0000\u0000\u0000\u0000\u0000\u0000\u0000\u0000\u0000\u0000\u0000\u0000\u0000\u0000\u0000\u0000\u0000\u0000\u0000\u0000\u0000\u0000\u0000\u0000\u0000\u0000\u0000\u0000\u0000\u0000\u0000\u0000\u0000\u0000\u0000\u0000\u0000\u0000\u0000\u0000\u0000\u0000\u0000\u0000\u0000\u0000\u0000\u0000\u0000\u0000\u0000\u0000\u0000\u0000\u0000\u0000\u0000\u0000\u0000\u0000\u0000\u0000\u0000\u0000\u0000\u0000\u0000\u0000\u0000\u0000\u0000\u0000\u0000\u0000\u0000\u0000\u0000\u0000\u0000\u0000\u0000\u0000\u0000\u0000\u0000\u0000\u0000\u0000\u0000\u0000\u0000\u0000\u0000\u0000\u0000\u0000\u0000\u0000\u0000\u0000\u0000\u0000\u0000\u0000\u0000\u0000\u0000\u0000\u0000\u0000\u0000\u0000\u0000\u0000\u0000\u0000\u0000\u0000\u0000\u0000\u0000\u0000\u0000\u0000\u0000\u0000\u0000\u0000\u0000\u0000\u0000\u0000\u0000\u0000\u0000\u0000\u0000\u0000\u0000\u0000\u0000\u0000\u0000\u0000\u0000\u0000\u0000\u0000\u0000\u0000\u0000\u0000\u0000\u0000\u0000\u0000\u0000\u0000\u0000\u0000\u0000\u0000\u0000\u0000\u0000\u0000\u0000\u0000\u0000\u0000\u0000\u0000\u0000\u0000\u0000\u0000\u0000\u0000\u0000\u0000\u0000\u0000\u0000\u0000\u0000\u0000\u0000\u0000\u0000\u0000\u0000\u0000\u0000\u0000\u0000\u0000\u0000\u0000\u0000\u0000Congrats! You just decrypted your first message!\n"
     ]
    }
   ],
   "source": [
    "# Decoding Received Message\n",
    "c=9029727923340384868426518880554167882611943065703927838617521515742066859974885947494642963883568408240430125599636824996577080116022919050269017033777667\n",
    "m=pow(c,d,public_key)\n",
    "\n",
    "print('Receiving Cipher:')\n",
    "print(c)\n",
    "# byte=m.to_bytes(m.bit_length()+7//8, byteorder='big')\n",
    "byte=m.to_bytes(m.bit_length()+7//8, byteorder='big')\n",
    "print('\\nDecrypted message:')\n",
    "received=byte.decode('utf-8')\n",
    "print(received)"
   ]
  },
  {
   "cell_type": "markdown",
   "metadata": {},
   "source": [
    "# Part 4"
   ]
  },
  {
   "cell_type": "markdown",
   "metadata": {},
   "source": [
    "## Signing a hashed message"
   ]
  },
  {
   "cell_type": "code",
   "execution_count": 6,
   "metadata": {},
   "outputs": [
    {
     "name": "stdout",
     "output_type": "stream",
     "text": [
      "Hashed Message:\n",
      "c98b86cf748ca732199bbafb5bca1ac2db34416b198bf3906c6cf3bb19e2c015\n",
      "\n",
      "Signed Message:\n",
      "3141272798217254437841732019283821297853765608850884890749159341487650279071377864998607585732045317788354363036712706102305523253064683707241033589893839\n",
      "\n",
      "Message to send (Concatenated hash and signature):\n",
      "c98b86cf748ca732199bbafb5bca1ac2db34416b198bf3906c6cf3bb19e2c0153141272798217254437841732019283821297853765608850884890749159341487650279071377864998607585732045317788354363036712706102305523253064683707241033589893839\n"
     ]
    }
   ],
   "source": [
    "#For Signature, hashing received message\n",
    "received_message=received.lstrip('\\x00')\n",
    "m_hash=hashlib.sha256(received_message.encode('utf-8')).hexdigest()\n",
    "print('Hashed Message:')\n",
    "print(m_hash)\n",
    "numeric=int.from_bytes(m_hash.encode('utf-8'), 'big')\n",
    "sign=pow(numeric,d,public_key)\n",
    "print('\\nSigned Message:')\n",
    "print(sign)\n",
    "print('\\nMessage to send (Concatenated hash and signature):')\n",
    "print(m_hash+str(sign))"
   ]
  },
  {
   "cell_type": "markdown",
   "metadata": {},
   "source": [
    "# Part 5"
   ]
  },
  {
   "cell_type": "markdown",
   "metadata": {},
   "source": [
    "## Verifying the signed message"
   ]
  },
  {
   "cell_type": "code",
   "execution_count": 7,
   "metadata": {},
   "outputs": [
    {
     "name": "stdout",
     "output_type": "stream",
     "text": [
      "The hash of received message as integer:\n",
      "5196757236952167220763533464276920932199772536270749930947313681585064170024490586392502408018385385327118416752669008082891762309836988228207000058605877\n",
      "\n",
      "Signature derived from public key and prime (e):\n",
      "5196757236952167220763533464276920932199772536270749930947313681585064170024490586392502408018385385327118416752669008082891762309836988228207000058605877\n",
      "\n",
      "Signature verified.\n"
     ]
    }
   ],
   "source": [
    "#Verify Sign and hashed message\n",
    "m_hash_num=int.from_bytes(m_hash.encode('utf-8'), 'big')\n",
    "print('The hash of received message as integer:')\n",
    "print(m_hash_num)\n",
    "print()\n",
    "signature=pow(sign,e,public_key)\n",
    "print('Signature derived from public key and prime (e):')\n",
    "print(signature)\n",
    "\n",
    "if m_hash_num==signature:\n",
    "    print('\\nSignature verified.')\n",
    "else:\n",
    "    print('\\nInvalid Signature.')"
   ]
  },
  {
   "cell_type": "markdown",
   "metadata": {},
   "source": [
    "## <div align=center>The End</div>"
   ]
  }
 ],
 "metadata": {
  "kernelspec": {
   "display_name": "Python 3",
   "language": "python",
   "name": "python3"
  },
  "language_info": {
   "codemirror_mode": {
    "name": "ipython",
    "version": 3
   },
   "file_extension": ".py",
   "mimetype": "text/x-python",
   "name": "python",
   "nbconvert_exporter": "python",
   "pygments_lexer": "ipython3",
   "version": "3.7.3"
  }
 },
 "nbformat": 4,
 "nbformat_minor": 2
}
