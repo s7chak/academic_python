{
 "cells": [
  {
   "cell_type": "markdown",
   "metadata": {},
   "source": [
    "# Recommender Systems \n",
    "Ramesh Yerraballi for MIS 285N\n",
    "\n",
    "Content derived from Chapter 22 of Joel Grus book titled, _Data Science from Scratch_(O'Reilly)\n",
    "In this topic we will look at how website's like Youtube, Netflix, Amazon etc., arrive at customized recommendations that they make to users.\n",
    "\n",
    "We will look at two Collaborative Filtering alogithms:\n",
    "1. User-based CF\n",
    "2. Item-based CF"
   ]
  },
  {
   "cell_type": "markdown",
   "metadata": {},
   "source": [
    "Setup"
   ]
  },
  {
   "cell_type": "code",
   "execution_count": 1,
   "metadata": {},
   "outputs": [],
   "source": [
    "from __future__ import division\n",
    "import math, random\n",
    "import numpy as np\n",
    "from collections import defaultdict, Counter"
   ]
  },
  {
   "cell_type": "markdown",
   "metadata": {},
   "source": [
    "We will look at a simple example where we are given several users and their interests. For example the second user is interested in \"NoSQL\", \"MongoDB\", \"Cassandra\", \"HBase\", and \"Postgres\". "
   ]
  },
  {
   "cell_type": "code",
   "execution_count": 2,
   "metadata": {},
   "outputs": [],
   "source": [
    "users_interests = [\n",
    "    [\"Hadoop\", \"Big Data\", \"HBase\", \"Java\", \"Spark\", \"Storm\", \"Cassandra\"],\n",
    "    [\"NoSQL\", \"MongoDB\", \"Cassandra\", \"HBase\", \"Postgres\"],\n",
    "    [\"Python\", \"scikit-learn\", \"scipy\", \"numpy\", \"statsmodels\", \"pandas\"],\n",
    "    [\"R\", \"Python\", \"statistics\", \"regression\", \"probability\"],\n",
    "    [\"machine learning\", \"regression\", \"decision trees\", \"libsvm\"],\n",
    "    [\"Python\", \"R\", \"Java\", \"C++\", \"Haskell\", \"programming languages\"],\n",
    "    [\"statistics\", \"probability\", \"mathematics\", \"theory\"],\n",
    "    [\"machine learning\", \"scikit-learn\", \"Mahout\", \"neural networks\"],\n",
    "    [\"neural networks\", \"deep learning\", \"Big Data\", \"artificial intelligence\"],\n",
    "    [\"Hadoop\", \"Java\", \"MapReduce\", \"Big Data\"],\n",
    "    [\"statistics\", \"R\", \"statsmodels\"],\n",
    "    [\"C++\", \"deep learning\", \"artificial intelligence\", \"probability\"],\n",
    "    [\"pandas\", \"R\", \"Python\"],\n",
    "    [\"databases\", \"HBase\", \"Postgres\", \"MySQL\", \"MongoDB\"],\n",
    "    [\"libsvm\", \"regression\", \"support vector machines\"]\n",
    "]"
   ]
  },
  {
   "cell_type": "markdown",
   "metadata": {},
   "source": [
    "## Simplistic Recommendation System: Recommend what is popular\n",
    "Lets find most commond interests amoung users using a `Counter`."
   ]
  },
  {
   "cell_type": "code",
   "execution_count": 3,
   "metadata": {},
   "outputs": [
    {
     "data": {
      "text/plain": [
       "[('Python', 4),\n",
       " ('R', 4),\n",
       " ('Big Data', 3),\n",
       " ('HBase', 3),\n",
       " ('Java', 3),\n",
       " ('statistics', 3),\n",
       " ('regression', 3),\n",
       " ('probability', 3),\n",
       " ('Hadoop', 2),\n",
       " ('Cassandra', 2),\n",
       " ('MongoDB', 2),\n",
       " ('Postgres', 2),\n",
       " ('scikit-learn', 2),\n",
       " ('statsmodels', 2),\n",
       " ('pandas', 2),\n",
       " ('machine learning', 2),\n",
       " ('libsvm', 2),\n",
       " ('C++', 2),\n",
       " ('neural networks', 2),\n",
       " ('deep learning', 2),\n",
       " ('artificial intelligence', 2),\n",
       " ('Spark', 1),\n",
       " ('Storm', 1),\n",
       " ('NoSQL', 1),\n",
       " ('scipy', 1),\n",
       " ('numpy', 1),\n",
       " ('decision trees', 1),\n",
       " ('Haskell', 1),\n",
       " ('programming languages', 1),\n",
       " ('mathematics', 1),\n",
       " ('theory', 1),\n",
       " ('Mahout', 1),\n",
       " ('MapReduce', 1),\n",
       " ('databases', 1),\n",
       " ('MySQL', 1),\n",
       " ('support vector machines', 1)]"
      ]
     },
     "execution_count": 3,
     "metadata": {},
     "output_type": "execute_result"
    }
   ],
   "source": [
    "popular_interests = Counter(interest\n",
    "                            for user_interests in users_interests\n",
    "                            for interest in user_interests).most_common()\n",
    "popular_interests"
   ]
  },
  {
   "cell_type": "markdown",
   "metadata": {},
   "source": [
    "We can now suggest to a user the most popular interests that are not already in his list"
   ]
  },
  {
   "cell_type": "code",
   "execution_count": 4,
   "metadata": {},
   "outputs": [
    {
     "data": {
      "text/plain": [
       "[('Python', 4), ('R', 4), ('Big Data', 3), ('Java', 3), ('statistics', 3)]"
      ]
     },
     "execution_count": 4,
     "metadata": {},
     "output_type": "execute_result"
    }
   ],
   "source": [
    "def most_popular_new_interests(user_interests, max_results=5):\n",
    "    suggestions = [(interest, frequency) \n",
    "                   for interest, frequency in popular_interests\n",
    "                   if interest not in user_interests]\n",
    "    return suggestions[:max_results]\n",
    "# Lets get recommendations for second user (index 1)\n",
    "most_popular_new_interests(users_interests[1],5)"
   ]
  },
  {
   "cell_type": "code",
   "execution_count": 5,
   "metadata": {},
   "outputs": [
    {
     "name": "stdout",
     "output_type": "stream",
     "text": [
      "Most Popular New Interests\n",
      "already like: ['NoSQL', 'MongoDB', 'Cassandra', 'HBase', 'Postgres']\n",
      "[('Python', 4), ('R', 4), ('Big Data', 3), ('Java', 3), ('statistics', 3)]\n",
      "\n",
      "already like: ['R', 'Python', 'statistics', 'regression', 'probability']\n",
      "[('Big Data', 3), ('HBase', 3), ('Java', 3), ('Hadoop', 2), ('Cassandra', 2)]\n",
      "\n"
     ]
    }
   ],
   "source": [
    "print(\"Most Popular New Interests\")\n",
    "print(\"already like:\", [\"NoSQL\", \"MongoDB\", \"Cassandra\", \"HBase\", \"Postgres\"])\n",
    "print(most_popular_new_interests([\"NoSQL\", \"MongoDB\", \"Cassandra\", \"HBase\", \"Postgres\"]))\n",
    "print()\n",
    "print(\"already like:\", [\"R\", \"Python\", \"statistics\", \"regression\", \"probability\"])\n",
    "print(most_popular_new_interests([\"R\", \"Python\", \"statistics\", \"regression\", \"probability\"]))\n",
    "print()"
   ]
  },
  {
   "cell_type": "markdown",
   "metadata": {},
   "source": [
    "### What is wrong with this approach?\n",
    "Recommending something because \"lots of people\" are interested in it, ignores the user's interests other than to filter out what he is already interested in. \n",
    "\n",
    "It would make sense to base the recommendations on what the user actually is interested in!\n",
    "Enter __Collaborative Filtering (CF) user-based style__ (aka memory-based)\n",
    "\n",
    "One way to take a user's interests into account is to look for users who are _most similar_ to him and suggest things that those users are interested in.\n",
    "\n",
    "We need to quantify this term _similarity_, which is done using a couple of different metrics:\n",
    "1. __Cosine similarity__: If we have two users $i$,$j$ whose interests are the vectors $V_i$ and $V_j$ their cosine similarity is given by the following formula:\n",
    "$$ Cos(V_i,V_j) = \\frac{V_i.V_j}{\\sqrt{(V_i.V_i * V_j.V_j)}} $$\n",
    "where the dot($.$) operator involves performing a dot product of the two vectors. The interest vectors are themselves binary values with $V_i^k$ being $1$ if user $i$ has expressed an interest, in interest $k$ and 0 otherwise.\n",
    "2. __Pearson-Correlation similarity__: Is a variant of cosine similarity which uses the following formula:\n",
    "$$ Corr_{(V_i,V_j)} = \\frac{(V_i-\\bar{V_i}).(V_j -\\bar{V_j})}{\\sqrt{((V_i-\\bar{V_i}).(V_i-\\bar{V_i}) * (V_j -\\bar{V_j}).(V_j -\\bar{V_j}))}}  = Cos((V_i-\\bar{V_i}),(V_j -\\bar{V_j}))$$\n",
    "\n",
    "In the following example we will use Cosine similarity"
   ]
  },
  {
   "cell_type": "code",
   "execution_count": 15,
   "metadata": {},
   "outputs": [
    {
     "data": {
      "text/plain": [
       "['Big Data',\n",
       " 'C++',\n",
       " 'Cassandra',\n",
       " 'HBase',\n",
       " 'Hadoop',\n",
       " 'Haskell',\n",
       " 'Java',\n",
       " 'Mahout',\n",
       " 'MapReduce',\n",
       " 'MongoDB',\n",
       " 'MySQL',\n",
       " 'NoSQL',\n",
       " 'Postgres',\n",
       " 'Python',\n",
       " 'R',\n",
       " 'Spark',\n",
       " 'Storm',\n",
       " 'artificial intelligence',\n",
       " 'databases',\n",
       " 'decision trees',\n",
       " 'deep learning',\n",
       " 'libsvm',\n",
       " 'machine learning',\n",
       " 'mathematics',\n",
       " 'neural networks',\n",
       " 'numpy',\n",
       " 'pandas',\n",
       " 'probability',\n",
       " 'programming languages',\n",
       " 'regression',\n",
       " 'scikit-learn',\n",
       " 'scipy',\n",
       " 'statistics',\n",
       " 'statsmodels',\n",
       " 'support vector machines',\n",
       " 'theory']"
      ]
     },
     "execution_count": 15,
     "metadata": {},
     "output_type": "execute_result"
    }
   ],
   "source": [
    "#\n",
    "# user-based filtering\n",
    "#\n",
    "def dot(v,w):\n",
    "    \"\"\" v_1*w_1 + ... v_n*w_n\"\"\"\n",
    "    return sum(v_i *w_i\n",
    "              for v_i,w_i in zip(v,w))\n",
    "def cosine_similarity(v, w):\n",
    "    return dot(v, w) / math.sqrt(dot(v, v) * dot(w, w))\n",
    "\n",
    "unique_interests = sorted(list({ interest\n",
    "                                 for user_interests in users_interests\n",
    "                                 for interest in user_interests }))\n",
    "unique_interests"
   ]
  },
  {
   "cell_type": "code",
   "execution_count": 7,
   "metadata": {},
   "outputs": [
    {
     "name": "stdout",
     "output_type": "stream",
     "text": [
      "[[1, 0, 1, 1, 1, 0, 1, 0, 0, 0, 0, 0, 0, 0, 0, 1, 1, 0, 0, 0, 0, 0, 0, 0, 0, 0, 0, 0, 0, 0, 0, 0, 0, 0, 0, 0], [0, 0, 1, 1, 0, 0, 0, 0, 0, 1, 0, 1, 1, 0, 0, 0, 0, 0, 0, 0, 0, 0, 0, 0, 0, 0, 0, 0, 0, 0, 0, 0, 0, 0, 0, 0], [0, 0, 0, 0, 0, 0, 0, 0, 0, 0, 0, 0, 0, 1, 0, 0, 0, 0, 0, 0, 0, 0, 0, 0, 0, 1, 1, 0, 0, 0, 1, 1, 0, 1, 0, 0], [0, 0, 0, 0, 0, 0, 0, 0, 0, 0, 0, 0, 0, 1, 1, 0, 0, 0, 0, 0, 0, 0, 0, 0, 0, 0, 0, 1, 0, 1, 0, 0, 1, 0, 0, 0], [0, 0, 0, 0, 0, 0, 0, 0, 0, 0, 0, 0, 0, 0, 0, 0, 0, 0, 0, 1, 0, 1, 1, 0, 0, 0, 0, 0, 0, 1, 0, 0, 0, 0, 0, 0], [0, 1, 0, 0, 0, 1, 1, 0, 0, 0, 0, 0, 0, 1, 1, 0, 0, 0, 0, 0, 0, 0, 0, 0, 0, 0, 0, 0, 1, 0, 0, 0, 0, 0, 0, 0], [0, 0, 0, 0, 0, 0, 0, 0, 0, 0, 0, 0, 0, 0, 0, 0, 0, 0, 0, 0, 0, 0, 0, 1, 0, 0, 0, 1, 0, 0, 0, 0, 1, 0, 0, 1], [0, 0, 0, 0, 0, 0, 0, 1, 0, 0, 0, 0, 0, 0, 0, 0, 0, 0, 0, 0, 0, 0, 1, 0, 1, 0, 0, 0, 0, 0, 1, 0, 0, 0, 0, 0], [1, 0, 0, 0, 0, 0, 0, 0, 0, 0, 0, 0, 0, 0, 0, 0, 0, 1, 0, 0, 1, 0, 0, 0, 1, 0, 0, 0, 0, 0, 0, 0, 0, 0, 0, 0], [1, 0, 0, 0, 1, 0, 1, 0, 1, 0, 0, 0, 0, 0, 0, 0, 0, 0, 0, 0, 0, 0, 0, 0, 0, 0, 0, 0, 0, 0, 0, 0, 0, 0, 0, 0], [0, 0, 0, 0, 0, 0, 0, 0, 0, 0, 0, 0, 0, 0, 1, 0, 0, 0, 0, 0, 0, 0, 0, 0, 0, 0, 0, 0, 0, 0, 0, 0, 1, 1, 0, 0], [0, 1, 0, 0, 0, 0, 0, 0, 0, 0, 0, 0, 0, 0, 0, 0, 0, 1, 0, 0, 1, 0, 0, 0, 0, 0, 0, 1, 0, 0, 0, 0, 0, 0, 0, 0], [0, 0, 0, 0, 0, 0, 0, 0, 0, 0, 0, 0, 0, 1, 1, 0, 0, 0, 0, 0, 0, 0, 0, 0, 0, 0, 1, 0, 0, 0, 0, 0, 0, 0, 0, 0], [0, 0, 0, 1, 0, 0, 0, 0, 0, 1, 1, 0, 1, 0, 0, 0, 0, 0, 1, 0, 0, 0, 0, 0, 0, 0, 0, 0, 0, 0, 0, 0, 0, 0, 0, 0], [0, 0, 0, 0, 0, 0, 0, 0, 0, 0, 0, 0, 0, 0, 0, 0, 0, 0, 0, 0, 0, 1, 0, 0, 0, 0, 0, 0, 0, 1, 0, 0, 0, 0, 1, 0]]\n"
     ]
    }
   ],
   "source": [
    "def make_user_interest_vector(user_interests):\n",
    "    \"\"\"given a list of interests, produce a vector whose i-th element is 1\n",
    "    if unique_interests[i] is in the list, 0 otherwise\"\"\"\n",
    "    return [1 if interest in user_interests else 0\n",
    "            for interest in unique_interests]\n",
    "user_interest_matrix = list(map(make_user_interest_vector, users_interests))\n",
    "print(user_interest_matrix)"
   ]
  },
  {
   "cell_type": "markdown",
   "metadata": {},
   "source": [
    "Now we will compute the pair-wise similarities for each user pair."
   ]
  },
  {
   "cell_type": "code",
   "execution_count": 8,
   "metadata": {},
   "outputs": [],
   "source": [
    "user_similarities = [[cosine_similarity(interest_vector_i, interest_vector_j)\n",
    "                      for interest_vector_j in user_interest_matrix]\n",
    "                     for interest_vector_i in user_interest_matrix]\n",
    "\n",
    "def most_similar_users_to(user_id):\n",
    "    pairs = [(other_user_id, similarity)              # find other\n",
    "             for other_user_id, similarity in         # users with\n",
    "                enumerate(user_similarities[user_id]) # nonzero\n",
    "             if user_id != other_user_id and similarity > 0]  # similarity\n",
    "\n",
    "    return sorted(pairs,                              # sort them\n",
    "                  key=lambda pair: pair[1],           # most similar\n",
    "                  reverse=True)                       # first"
   ]
  },
  {
   "cell_type": "markdown",
   "metadata": {},
   "source": [
    "Lets print users most similar to user 0 and how similar they are"
   ]
  },
  {
   "cell_type": "code",
   "execution_count": 9,
   "metadata": {},
   "outputs": [
    {
     "data": {
      "text/plain": [
       "[(9, 0.5669467095138409),\n",
       " (1, 0.3380617018914066),\n",
       " (8, 0.1889822365046136),\n",
       " (13, 0.1690308509457033),\n",
       " (5, 0.1543033499620919)]"
      ]
     },
     "execution_count": 9,
     "metadata": {},
     "output_type": "execute_result"
    }
   ],
   "source": [
    "most_similar_users_to(0)"
   ]
  },
  {
   "cell_type": "code",
   "execution_count": 10,
   "metadata": {},
   "outputs": [
    {
     "name": "stdout",
     "output_type": "stream",
     "text": [
      "Suggestions for user 0\n"
     ]
    },
    {
     "data": {
      "text/plain": [
       "[('MapReduce', 0.5669467095138409),\n",
       " ('MongoDB', 0.50709255283711),\n",
       " ('Postgres', 0.50709255283711),\n",
       " ('NoSQL', 0.3380617018914066),\n",
       " ('neural networks', 0.1889822365046136),\n",
       " ('deep learning', 0.1889822365046136),\n",
       " ('artificial intelligence', 0.1889822365046136),\n",
       " ('databases', 0.1690308509457033),\n",
       " ('MySQL', 0.1690308509457033),\n",
       " ('Python', 0.1543033499620919),\n",
       " ('R', 0.1543033499620919),\n",
       " ('C++', 0.1543033499620919),\n",
       " ('Haskell', 0.1543033499620919),\n",
       " ('programming languages', 0.1543033499620919)]"
      ]
     },
     "execution_count": 10,
     "metadata": {},
     "output_type": "execute_result"
    }
   ],
   "source": [
    "\n",
    "def user_based_suggestions(user_id, include_current_interests=False):\n",
    "    # sum up the similarities (of most like users to given user_id) for each interest\n",
    "    suggestions = defaultdict(float)\n",
    "    for other_user_id, similarity in most_similar_users_to(user_id):\n",
    "        for interest in users_interests[other_user_id]:\n",
    "            suggestions[interest] += similarity\n",
    "\n",
    "    # convert them to a sorted list\n",
    "    suggestions = sorted(suggestions.items(),\n",
    "                         key=lambda pair: pair[1],\n",
    "                         reverse=True)\n",
    "\n",
    "    # and (maybe) exclude already-interests\n",
    "    if include_current_interests:\n",
    "        return suggestions\n",
    "    else:\n",
    "        return [(suggestion, weight)\n",
    "                for suggestion, weight in suggestions\n",
    "                    if suggestion not in users_interests[user_id]]\n",
    "print(\"Suggestions for user 0\")\n",
    "user_based_suggestions(0)"
   ]
  },
  {
   "cell_type": "markdown",
   "metadata": {},
   "source": [
    "It seems like these are good suggestions for somebody whose interests included \"Big-Data\". Note that the weights really don't mean anything, they are just used for sorting.\n",
    "\n",
    "We note that this approach works okay for few items but the notion of similarity between two users looses its meaning when there are a lot of items.\n"
   ]
  },
  {
   "cell_type": "markdown",
   "metadata": {},
   "source": [
    "## Item-Based CF\n",
    "An alternative to user-based CF is to compute the similarities between interests directly. We can then generate suggestions for a user by aggregating interests that are similar to the user's current interests. This is called Item-Based CF"
   ]
  },
  {
   "cell_type": "code",
   "execution_count": 11,
   "metadata": {},
   "outputs": [
    {
     "data": {
      "text/plain": [
       "[1, 0, 0, 0, 0, 0, 0, 0, 1, 1, 0, 0, 0, 0, 0]"
      ]
     },
     "execution_count": 11,
     "metadata": {},
     "output_type": "execute_result"
    }
   ],
   "source": [
    "#\n",
    "# Item-Based Collaborative Filtering\n",
    "#\n",
    "# First we will transpose our user_interest_matrix so rows correspond \n",
    "# to interests and the columns to users\n",
    "interest_user_matrix = [[user_interest_vector[j]\n",
    "                         for user_interest_vector in user_interest_matrix]\n",
    "                         for j, _ in enumerate(unique_interests)]\n",
    "interest_user_matrix[0] # tells us that Big_Data is an interest of users 0,8 and 9"
   ]
  },
  {
   "cell_type": "code",
   "execution_count": 12,
   "metadata": {},
   "outputs": [],
   "source": [
    "interest_similarities = [[cosine_similarity(user_vector_i, user_vector_j)\n",
    "                          for user_vector_j in interest_user_matrix]\n",
    "                         for user_vector_i in interest_user_matrix]\n",
    "\n",
    "def most_similar_interests_to(interest_id):\n",
    "    similarities = interest_similarities[interest_id]\n",
    "    pairs = [(unique_interests[other_interest_id], similarity)\n",
    "             for other_interest_id, similarity in enumerate(similarities)\n",
    "             if interest_id != other_interest_id and similarity > 0]\n",
    "    return sorted(pairs,\n",
    "                  key=lambda pair: pair[1],\n",
    "                  reverse=True)\n",
    "\n",
    "def item_based_suggestions(user_id, include_current_interests=False):\n",
    "    suggestions = defaultdict(float)\n",
    "    user_interest_vector = user_interest_matrix[user_id]\n",
    "    for interest_id, is_interested in enumerate(user_interest_vector):\n",
    "        if is_interested == 1:\n",
    "            similar_interests = most_similar_interests_to(interest_id)\n",
    "            for interest, similarity in similar_interests:\n",
    "                suggestions[interest] += similarity\n",
    "\n",
    "    suggestions = sorted(suggestions.items(),\n",
    "                         key=lambda pair: pair[1],\n",
    "                         reverse=True)\n",
    "\n",
    "    if include_current_interests:\n",
    "        return suggestions\n",
    "    else:\n",
    "        return [(suggestion, weight)\n",
    "                for suggestion, weight in suggestions\n",
    "                  if suggestion not in users_interests[user_id]]\n"
   ]
  },
  {
   "cell_type": "code",
   "execution_count": 13,
   "metadata": {},
   "outputs": [
    {
     "name": "stdout",
     "output_type": "stream",
     "text": [
      "Suggestions for user 0\n"
     ]
    },
    {
     "data": {
      "text/plain": [
       "[('MapReduce', 1.861807319565799),\n",
       " ('MongoDB', 1.3164965809277263),\n",
       " ('Postgres', 1.3164965809277263),\n",
       " ('NoSQL', 1.2844570503761732),\n",
       " ('MySQL', 0.5773502691896258),\n",
       " ('databases', 0.5773502691896258),\n",
       " ('Haskell', 0.5773502691896258),\n",
       " ('programming languages', 0.5773502691896258),\n",
       " ('artificial intelligence', 0.4082482904638631),\n",
       " ('deep learning', 0.4082482904638631),\n",
       " ('neural networks', 0.4082482904638631),\n",
       " ('C++', 0.4082482904638631),\n",
       " ('Python', 0.2886751345948129),\n",
       " ('R', 0.2886751345948129)]"
      ]
     },
     "execution_count": 13,
     "metadata": {},
     "output_type": "execute_result"
    }
   ],
   "source": [
    "print(\"Suggestions for user 0\")\n",
    "item_based_suggestions(0) # for user 0"
   ]
  },
  {
   "cell_type": "markdown",
   "metadata": {},
   "source": [
    "Again, these are good suggestions for somebody whose interests included \"Big-Data\". The weights still don't mean anything, they are just used for sorting."
   ]
  },
  {
   "cell_type": "markdown",
   "metadata": {},
   "source": [
    "`The End`"
   ]
  }
 ],
 "metadata": {
  "kernelspec": {
   "display_name": "Python 3",
   "language": "python",
   "name": "python3"
  },
  "language_info": {
   "codemirror_mode": {
    "name": "ipython",
    "version": 3
   },
   "file_extension": ".py",
   "mimetype": "text/x-python",
   "name": "python",
   "nbconvert_exporter": "python",
   "pygments_lexer": "ipython3",
   "version": "3.7.3"
  }
 },
 "nbformat": 4,
 "nbformat_minor": 2
}
