{
 "cells": [
  {
   "cell_type": "code",
   "execution_count": 1,
   "metadata": {},
   "outputs": [],
   "source": [
    "import collections\n",
    "import math"
   ]
  },
  {
   "cell_type": "markdown",
   "metadata": {},
   "source": [
    "# Stack Queue Lessons"
   ]
  },
  {
   "cell_type": "markdown",
   "metadata": {},
   "source": [
    "## Circular Queue"
   ]
  },
  {
   "cell_type": "code",
   "execution_count": 185,
   "metadata": {},
   "outputs": [],
   "source": [
    "class MyCircularQueue(object):\n",
    "\n",
    "    def __init__(self, k):\n",
    "        self.que=[None for i in range(k)]\n",
    "        self.s=k\n",
    "        self.h=-1\n",
    "        self.t=-1\n",
    "        \n",
    "\n",
    "    def enQueue(self, value):\n",
    "        if self.isFull():\n",
    "            return False\n",
    "        if self.isEmpty():\n",
    "            self.h=0\n",
    "        self.t=self.circ(self.t+1)\n",
    "        self.que[self.t]=value\n",
    "        return True\n",
    "        \n",
    "\n",
    "    def deQueue(self):\n",
    "        if self.isEmpty():\n",
    "            return False\n",
    "        if self.h==self.t:\n",
    "            self.que[self.h]=None\n",
    "            self.h,self.t=-1,-1\n",
    "            return true\n",
    "        self.que[self.h]=None\n",
    "        self.h=self.circ(self.h+1)\n",
    "        return True\n",
    "    \n",
    "    def Front(self):\n",
    "        return self.que[self.h]\n",
    "        \n",
    "\n",
    "    def Rear(self):\n",
    "        return self.que[self.t]\n",
    "        \n",
    "\n",
    "    def isEmpty(self):\n",
    "        return self.h==-1\n",
    "\n",
    "    def isFull(self):\n",
    "        return (True if (self.t+1)%self.s==self.h else False)\n",
    "    \n",
    "    \n",
    "    \n",
    "    def head(self):\n",
    "        if self.h==self.s:\n",
    "            return 0\n",
    "        return self.h\n",
    "    \n",
    "    def tail(self):\n",
    "        if self.t==-1:\n",
    "            return self.s-1\n",
    "        if self.t==self.s:\n",
    "            return 0\n",
    "        return self.t\n",
    "    \n",
    "    def circ(self, t):\n",
    "        return t%self.s\n",
    "    \n",
    "    def show(self):\n",
    "        print(self.que)\n",
    "        print('Head:',self.h)\n",
    "        print('Tail:',self.t)"
   ]
  },
  {
   "cell_type": "code",
   "execution_count": 186,
   "metadata": {},
   "outputs": [
    {
     "name": "stdout",
     "output_type": "stream",
     "text": [
      "[1, None, None]\n",
      "Head: 0\n",
      "Tail: 0\n",
      "[1, 2, None]\n",
      "Head: 0\n",
      "Tail: 1\n",
      "[1, 2, 3]\n",
      "Head: 0\n",
      "Tail: 2\n",
      "[None, 2, 3]\n",
      "Head: 1\n",
      "Tail: 2\n"
     ]
    }
   ],
   "source": [
    "q=MyCircularQueue(3)\n",
    "q.enQueue(1)\n",
    "q.show()\n",
    "q.enQueue(2)\n",
    "q.show()\n",
    "q.enQueue(3)\n",
    "q.show()\n",
    "q.deQueue()\n",
    "q.show()"
   ]
  },
  {
   "cell_type": "markdown",
   "metadata": {},
   "source": [
    "## Open Locks"
   ]
  },
  {
   "cell_type": "code",
   "execution_count": 278,
   "metadata": {},
   "outputs": [],
   "source": [
    "class Solution(object):\n",
    "    def openLock(self, deadends, target):\n",
    "        \n",
    "        def valid(x):\n",
    "            return (False if x in deadends else True)\n",
    "                \n",
    "        def getnex(c,i,t):\n",
    "            n=int(c[i])\n",
    "            a=(n-1 if n-1>=0 else 9)\n",
    "            b=(n+1)%10\n",
    "            if abs(a-t)>abs(n-t):\n",
    "                r1=c[:i]+str(n)+c[i+1:]\n",
    "            else:\n",
    "                r1=c[:i]+str(a)+c[i+1:]\n",
    "                \n",
    "            if abs(b-t)>abs(n-t):\n",
    "                r2=c[:i]+str(n)+c[i+1:]\n",
    "            else:\n",
    "                r2=c[:i]+str(b)+c[i+1:]\n",
    "                \n",
    "            return r1,r2\n",
    "                \n",
    "        def getnext(c,i,t):\n",
    "            n=int(c[i])\n",
    "            a=(n-1 if n-1>=0 else 9)\n",
    "            b=(n+1)%10\n",
    "            r1=c[:i]+str(a)+c[i+1:]    \n",
    "            r2=c[:i]+str(b)+c[i+1:]\n",
    "\n",
    "            \n",
    "            \n",
    "            return r1,r2\n",
    "        \n",
    "        st='0000'\n",
    "        if valid(st):\n",
    "            done=[st]\n",
    "            q=queue.Queue()\n",
    "            count=0\n",
    "            q.put((st,0))\n",
    "            while not q.empty():\n",
    "                cur=q.get()\n",
    "                ct=cur[1]\n",
    "                if cur[0]==target:\n",
    "                    return ct\n",
    "\n",
    "                for i in range(4):\n",
    "                    nx1,nx2=getnex(cur[0],i,int(target[i]))\n",
    "                    if valid(nx1) and nx1 not in done:\n",
    "                        q.put((nx1,ct+1))\n",
    "                        done.append(nx1)\n",
    "                    if valid(nx2) and nx2 not in done:\n",
    "                        q.put((nx2,ct+1))\n",
    "                        done.append(nx2)\n",
    "        return -1"
   ]
  },
  {
   "cell_type": "code",
   "execution_count": 279,
   "metadata": {},
   "outputs": [
    {
     "data": {
      "text/plain": [
       "-1"
      ]
     },
     "execution_count": 279,
     "metadata": {},
     "output_type": "execute_result"
    }
   ],
   "source": [
    "d = [\"0201\",\"0101\",\"0102\",\"1212\",\"2002\"]\n",
    "t = \"0202\"\n",
    "Solution().openLock(d,t)\n",
    "# print('time',toc-tic)"
   ]
  },
  {
   "cell_type": "markdown",
   "metadata": {},
   "source": [
    "## Perfect Squares"
   ]
  },
  {
   "cell_type": "code",
   "execution_count": 398,
   "metadata": {},
   "outputs": [],
   "source": [
    "import queue\n",
    "import math\n",
    "class Solution:\n",
    "    def numSquares(self, n):\n",
    "        \n",
    "        s=math.sqrt(n)\n",
    "        if int(s)**2 == n:\n",
    "            return 1\n",
    "        \n",
    "        q=queue.Queue()\n",
    "        sq=[]\n",
    "        for i in range(int(math.sqrt(n))+1,0,-1):\n",
    "            q.put((i*i,1))\n",
    "            sq.append(i*i)\n",
    "        put=set()\n",
    "        while not q.empty():\n",
    "            cur=q.get()\n",
    "            c=cur[0]\n",
    "            if c==n:\n",
    "                return cur[1]\n",
    "            for i in sq:\n",
    "                csum=c+i\n",
    "                if csum==n:\n",
    "                    return cur[1]+1\n",
    "                if csum<n and csum not in put:\n",
    "                    put.add(csum)\n",
    "                    q.put((csum,cur[1]+1))\n",
    "                \n",
    "\n",
    "        return -1\n",
    "        "
   ]
  },
  {
   "cell_type": "code",
   "execution_count": 399,
   "metadata": {},
   "outputs": [
    {
     "data": {
      "text/plain": [
       "3"
      ]
     },
     "execution_count": 399,
     "metadata": {},
     "output_type": "execute_result"
    }
   ],
   "source": [
    "Solution().numSquares(67)"
   ]
  },
  {
   "cell_type": "markdown",
   "metadata": {},
   "source": [
    "## Daily temperatures"
   ]
  },
  {
   "cell_type": "code",
   "execution_count": 411,
   "metadata": {},
   "outputs": [],
   "source": [
    "class Solution(object):\n",
    "    def dailyTemperatures(self, T):\n",
    "        \n",
    "        ans=[None for i in range(len(T))]\n",
    "        ans[-1]=0\n",
    "        for i in range(len(T)-1):\n",
    "            for j in range(i+1,len(T)):\n",
    "                if T[j]>T[i]:\n",
    "                    ans[i]=j-i\n",
    "                    break\n",
    "            \n",
    "            ans[i]=(0 if ans[i]==None else ans[i])\n",
    "    \n",
    "        return ans\n",
    "        "
   ]
  },
  {
   "cell_type": "code",
   "execution_count": 1,
   "metadata": {},
   "outputs": [],
   "source": [
    "class Solution(object):\n",
    "    def dailyTemperatures(self, T):\n",
    "        \n",
    "        ans=[None for i in range(len(T))]\n",
    "        st=[]\n",
    "        for i in range(len(T)-1,-1,-1):\n",
    "            \n",
    "            print(i,st)\n",
    "            while st and T[i]>=T[st[-1]]:\n",
    "                st.pop()\n",
    "            ans[i]=(st[-1]-i if len(st)>0 else 0)\n",
    "            st.append(i)\n",
    "        return ans\n",
    "        "
   ]
  },
  {
   "cell_type": "code",
   "execution_count": 2,
   "metadata": {},
   "outputs": [
    {
     "name": "stdout",
     "output_type": "stream",
     "text": [
      "9 []\n",
      "8 [9]\n",
      "7 [8]\n",
      "6 [8, 7]\n",
      "5 [8, 7, 6]\n",
      "4 [8, 7, 5]\n",
      "3 [8, 7, 4]\n",
      "2 [8, 7, 3]\n",
      "1 [8, 7, 2]\n",
      "0 [8, 7, 2, 1]\n"
     ]
    },
    {
     "data": {
      "text/plain": [
       "[8, 1, 5, 4, 3, 2, 1, 1, 0, 0]"
      ]
     },
     "execution_count": 2,
     "metadata": {},
     "output_type": "execute_result"
    }
   ],
   "source": [
    "T=[89,62,70,58,47,47,46,76,100,70]\n",
    "Solution().dailyTemperatures(T)"
   ]
  },
  {
   "cell_type": "markdown",
   "metadata": {},
   "source": [
    "## Evaluate Reverse Polish Notation"
   ]
  },
  {
   "cell_type": "code",
   "execution_count": 592,
   "metadata": {},
   "outputs": [],
   "source": [
    "class Solution(object):\n",
    "    def evalRPN(self, tokens):\n",
    "        st=[]\n",
    "        \n",
    "        def calc(a,b,o):\n",
    "            if o=='+':\n",
    "                return a+b\n",
    "            elif o=='-':\n",
    "                return a-b\n",
    "            elif o=='*':\n",
    "                return a*b\n",
    "            elif o=='/':\n",
    "                res=(a//b + 1 if (a//b<0 and a%b!=0) else a//b)\n",
    "                return res\n",
    "        \n",
    "        operators = '+-*/'\n",
    "        for i in tokens:\n",
    "            if i not in operators:\n",
    "                st.append(int(i))\n",
    "            else:\n",
    "                op=i\n",
    "                b=st.pop()\n",
    "                a=st.pop()\n",
    "                st.append(calc(a,b,op))\n",
    "        \n",
    "        return st[0]\n",
    "        "
   ]
  },
  {
   "cell_type": "code",
   "execution_count": 593,
   "metadata": {
    "scrolled": true
   },
   "outputs": [
    {
     "data": {
      "text/plain": [
       "7143937"
      ]
     },
     "execution_count": 593,
     "metadata": {},
     "output_type": "execute_result"
    }
   ],
   "source": [
    "t=[\"-11\",\"5\",\"+\",\"-10\",\"+\",\"4\",\"10\",\"+\",\"-\",\"35\",\"-\",\"23\",\"+\",\"-17\",\"-9\",\"-\",\"24\",\"-20\",\"-\",\"-\",\"38\",\"-20\",\"1\",\"-\",\"+\",\"-\",\"+\",\"-7\",\"-\",\"-13\",\"+\",\"-19\",\"+\",\"-12\",\"-\",\"-15\",\"35\",\"-\",\"+\",\"16\",\"+\",\"-15\",\"-17\",\"+\",\"+\",\"3\",\"+\",\"-9\",\"-\",\"16\",\"6\",\"38\",\"-\",\"22\",\"1\",\"/\",\"+\",\"-\",\"-\",\"33\",\"-\",\"33\",\"32\",\"+\",\"-\",\"20\",\"-\",\"13\",\"+\",\"38\",\"23\",\"-20\",\"25\",\"+\",\"+\",\"-\",\"21\",\"23\",\"-\",\"+\",\"+\",\"10\",\"-7\",\"-\",\"1\",\"-10\",\"37\",\"+\",\"+\",\"+\",\"-\",\"-20\",\"-\",\"-20\",\"-\",\"1\",\"34\",\"18\",\"-\",\"+\",\"-\",\"2\",\"+\",\"7\",\"+\",\"37\",\"+\",\"-13\",\"-\",\"5\",\"-\",\"32\",\"*\",\"34\",\"+\",\"26\",\"12\",\"+\",\"-\",\"1\",\"28\",\"-14\",\"-\",\"+\",\"24\",\"18\",\"-16\",\"+\",\"-\",\"+\",\"+\",\"19\",\"-\",\"38\",\"-\",\"-1\",\"20\",\"34\",\"16\",\"38\",\"11\",\"22\",\"-\",\"-\",\"-6\",\"+\",\"+\",\"-\",\"-\",\"+\",\"34\",\"18\",\"-\",\"/\",\"-\",\"14\",\"24\",\"-\",\"-\",\"-6\",\"+\",\"10\",\"+\",\"30\",\"-\",\"16\",\"-\",\"25\",\"+\",\"-10\",\"-\",\"39\",\"+\",\"-19\",\"+\",\"21\",\"32\",\"-\",\"-5\",\"-\",\"-11\",\"/\",\"12\",\"-\",\"+\",\"-1\",\"-17\",\"+\",\"+\",\"-2\",\"-\",\"37\",\"-\",\"-8\",\"*\",\"15\",\"+\",\"-1\",\"-\",\"-8\",\"4\",\"36\",\"+\",\"-\",\"+\",\"17\",\"15\",\"14\",\"+\",\"34\",\"9\",\"-\",\"-\",\"+\",\"-\",\"38\",\"-\",\"-20\",\"38\",\"-15\",\"+\",\"+\",\"-\",\"37\",\"+\",\"-17\",\"-13\",\"+\",\"-\",\"-18\",\"36\",\"-\",\"-\",\"27\",\"*\",\"4\",\"-\",\"12\",\"-15\",\"16\",\"+\",\"-\",\"+\",\"34\",\"35\",\"28\",\"3\",\"+\",\"-\",\"+\",\"-\",\"4\",\"+\",\"29\",\"*\",\"9\",\"-14\",\"+\",\"-\",\"-3\",\"8\",\"-\",\"20\",\"22\",\"-\",\"+\",\"-\",\"28\",\"9\",\"-\",\"+\",\"6\",\"+\",\"8\",\"+\",\"3\",\"-\",\"20\",\"17\",\"-\",\"34\",\"10\",\"-16\",\"-\",\"37\",\"28\",\"31\",\"-\",\"+\",\"+\",\"4\",\"33\",\"23\",\"36\",\"-\",\"7\",\"8\",\"-\",\"14\",\"16\",\"-\",\"-\",\"6\",\"-\",\"+\",\"+\",\"+\",\"-\",\"+\",\"+\",\"+\",\"33\",\"11\",\"-18\",\"-\",\"-17\",\"15\",\"-\",\"-\",\"27\",\"+\",\"32\",\"-\",\"+\",\"+\",\"32\",\"-\",\"32\",\"-20\",\"-\",\"+\",\"24\",\"+\",\"15\",\"+\",\"36\",\"-\",\"4\",\"-16\",\"-2\",\"29\",\"+\",\"-\",\"/\",\"-16\",\"17\",\"-\",\"-18\",\"-\",\"-1\",\"+\",\"+\",\"28\",\"-\",\"+\",\"-9\",\"+\",\"19\",\"+\",\"-20\",\"+\",\"-4\",\"1\",\"+\",\"-15\",\"-6\",\"+\",\"14\",\"-1\",\"+\",\"-12\",\"*\",\"+\",\"*\",\"-3\",\"-\",\"+\",\"3\",\"-\",\"39\",\"-\",\"-18\",\"37\",\"*\",\"+\",\"-4\",\"+\",\"-19\",\"+\",\"10\",\"+\",\"-20\",\"-\",\"25\",\"1\",\"+\",\"+\",\"17\",\"-\",\"3\",\"32\",\"-\",\"-7\",\"+\",\"-\",\"16\",\"-\",\"-6\",\"19\",\"+\",\"+\",\"17\",\"-\",\"14\",\"+\",\"-5\",\"-\",\"10\",\"-\",\"0\",\"+\",\"20\",\"14\",\"+\",\"-\",\"14\",\"-\",\"30\",\"+\",\"6\",\"20\",\"-\",\"+\",\"4\",\"+\",\"18\",\"+\",\"37\",\"28\",\"+\",\"+\",\"14\",\"+\",\"12\",\"+\",\"20\",\"8\",\"36\",\"22\",\"37\",\"-\",\"+\",\"-\",\"26\",\"-12\",\"-\",\"-\",\"20\",\"-\",\"+\",\"-\",\"11\",\"-9\",\"26\",\"3\",\"-\",\"+\",\"38\",\"26\",\"-15\",\"-\",\"-\",\"6\",\"+\",\"+\",\"-\",\"+\",\"19\",\"-\",\"4\",\"20\",\"-6\",\"-\",\"+\",\"20\",\"5\",\"28\",\"-\",\"/\",\"-\",\"-8\",\"+\",\"-13\",\"-5\",\"2\",\"14\",\"/\",\"36\",\"-\",\"+\",\"25\",\"+\",\"/\",\"-\",\"+\",\"23\",\"21\",\"-17\",\"+\",\"+\",\"-\",\"0\",\"-\",\"-13\",\"-\",\"-18\",\"+\",\"28\",\"-\",\"-17\",\"-\",\"37\",\"+\",\"-5\",\"-\",\"-8\",\"+\",\"13\",\"20\",\"-\",\"-\",\"3\",\"+\",\"-3\",\"-19\",\"-\",\"-\",\"2\",\"+\",\"28\",\"-19\",\"-\",\"-\",\"17\",\"+\",\"32\",\"-\",\"10\",\"-8\",\"-\",\"12\",\"-2\",\"+\",\"-\",\"+\",\"33\",\"-\",\"32\",\"-\",\"32\",\"+\",\"35\",\"17\",\"+\",\"+\",\"19\",\"-\",\"-19\",\"-\",\"-6\",\"-\",\"-9\",\"35\",\"*\",\"-\",\"25\",\"13\",\"-\",\"+\",\"-13\",\"-3\",\"-19\",\"*\",\"+\",\"10\",\"24\",\"-5\",\"28\",\"30\",\"23\",\"-\",\"*\",\"24\",\"13\",\"-\",\"7\",\"-\",\"10\",\"+\",\"10\",\"+\",\"5\",\"+\",\"-\",\"-\",\"30\",\"/\",\"-9\",\"-\",\"-2\",\"-\",\"-\",\"8\",\"/\",\"+\",\"-\",\"-\",\"33\",\"33\",\"29\",\"-15\",\"+\",\"-\",\"-\",\"-2\",\"-\",\"10\",\"+\",\"17\",\"-14\",\"-14\",\"+\",\"10\",\"+\",\"23\",\"-\",\"5\",\"+\",\"-\",\"39\",\"23\",\"-1\",\"+\",\"-\",\"23\",\"+\",\"37\",\"23\",\"-\",\"5\",\"+\",\"-\",\"+\",\"+\",\"35\",\"7\",\"-9\",\"+\",\"-\",\"19\",\"-4\",\"+\",\"+\",\"*\",\"+\",\"22\",\"+\",\"33\",\"34\",\"-\",\"22\",\"-\",\"+\",\"-1\",\"+\",\"23\",\"-\",\"7\",\"19\",\"+\",\"-\",\"-16\",\"2\",\"36\",\"-\",\"20\",\"-\",\"-3\",\"-\",\"+\",\"-\",\"-4\",\"37\",\"+\",\"-\",\"11\",\"/\",\"29\",\"-7\",\"-\",\"+\",\"-18\",\"+\",\"36\",\"-\",\"13\",\"+\",\"17\",\"-14\",\"14\",\"+\",\"-\",\"-\",\"30\",\"-\",\"-8\",\"-\",\"-4\",\"+\",\"-10\",\"+\",\"17\",\"+\",\"-17\",\"5\",\"+\",\"+\",\"21\",\"+\",\"29\",\"*\",\"14\",\"+\",\"27\",\"-\",\"-10\",\"+\",\"11\",\"-\",\"20\",\"/\",\"13\",\"29\",\"-10\",\"17\",\"-\",\"-\",\"4\",\"37\",\"+\",\"-\",\"+\",\"+\",\"11\",\"16\",\"-2\",\"-\",\"9\",\"+\",\"-\",\"-\",\"-5\",\"+\",\"28\",\"-\",\"5\",\"10\",\"+\",\"27\",\"-\",\"+\",\"-11\",\"+\",\"7\",\"-\",\"33\",\"-\",\"11\",\"-\",\"-17\",\"-\",\"-5\",\"-10\",\"+\",\"-\",\"16\",\"-\",\"1\",\"-\",\"13\",\"+\",\"14\",\"-\",\"4\",\"-\",\"33\",\"-\",\"3\",\"+\",\"-5\",\"-\",\"-4\",\"+\",\"-15\",\"-\",\"5\",\"-\",\"39\",\"+\",\"-15\",\"-\",\"12\",\"-\",\"25\",\"32\",\"22\",\"+\",\"15\",\"33\",\"-\",\"16\",\"+\",\"-\",\"-\",\"+\",\"6\",\"+\",\"29\",\"28\",\"+\",\"-\",\"12\",\"-\",\"2\",\"29\",\"23\",\"-\",\"-11\",\"-\",\"-\",\"+\",\"8\",\"32\",\"-1\",\"+\",\"+\",\"+\",\"28\",\"+\",\"19\",\"-\",\"6\",\"-15\",\"-\",\"11\",\"-\",\"+\",\"-7\",\"18\",\"+\",\"-11\",\"1\",\"+\",\"-5\",\"-\",\"+\",\"8\",\"+\",\"-\",\"18\",\"-\",\"-16\",\"+\",\"-1\",\"+\",\"-9\",\"+\",\"-9\",\"22\",\"12\",\"-\",\"+\",\"-\",\"4\",\"-\",\"-19\",\"+\",\"28\",\"-\",\"-2\",\"-\",\"-20\",\"17\",\"-\",\"-9\",\"-\",\"+\",\"39\",\"+\",\"0\",\"+\",\"-8\",\"-\"]\n",
    "Solution().evalRPN(t)"
   ]
  },
  {
   "cell_type": "markdown",
   "metadata": {},
   "source": [
    "## Basic Calculator"
   ]
  },
  {
   "cell_type": "code",
   "execution_count": 339,
   "metadata": {},
   "outputs": [],
   "source": [
    "import math\n",
    "class Solution(object):\n",
    "    def calculate(self, s):\n",
    "        \n",
    "        st=[]\n",
    "        i=0\n",
    "        s=s.strip().replace(' ','')\n",
    "        l=len(s)\n",
    "        prev=1\n",
    "        signst=[]\n",
    "\n",
    "        res=0\n",
    "        tokens=re.findall(r\"\\w+(?:'\\w+)?|[^\\w\\s]\", s)\n",
    "        print(tokens)\n",
    "        parsign=1\n",
    "        for c in tokens:\n",
    "            if c in '+-':\n",
    "                prev=int(c+'1')\n",
    "            elif c=='(':\n",
    "                signst.append(prev)\n",
    "                if prev<0:\n",
    "                    parsign*=-1\n",
    "                prev=1\n",
    "            elif c==')':\n",
    "                if signst.pop()<0:\n",
    "                    parsign*=-1\n",
    "            else:\n",
    "                res+=prev*parsign*int(c)\n",
    "        \n",
    "        return res"
   ]
  },
  {
   "cell_type": "code",
   "execution_count": 340,
   "metadata": {},
   "outputs": [
    {
     "name": "stdout",
     "output_type": "stream",
     "text": [
      "['(', '1', '-', '(', '3', '-', '4', ')', ')']\n"
     ]
    },
    {
     "data": {
      "text/plain": [
       "2"
      ]
     },
     "execution_count": 340,
     "metadata": {},
     "output_type": "execute_result"
    }
   ],
   "source": [
    "s=\"(1-(3-4))\"\n",
    "# s2= '31-20+2-4'\n",
    "Solution().calculate(s)"
   ]
  },
  {
   "cell_type": "markdown",
   "metadata": {},
   "source": [
    "## Broken Calculator"
   ]
  },
  {
   "cell_type": "code",
   "execution_count": 605,
   "metadata": {},
   "outputs": [],
   "source": [
    "from queue import Queue\n",
    "class Solution(object):\n",
    "    def brokenCalc1(self, X, Y):\n",
    "        a=0\n",
    "        if Y==1:\n",
    "            return X-1\n",
    "        \n",
    "        \n",
    "        vissum=set()\n",
    "        q=Queue()\n",
    "        q.put((X,0))\n",
    "        \n",
    "        if Y>X:\n",
    "            while not q.empty():\n",
    "                l=q.qsize()\n",
    "                for i in range(l):\n",
    "                    x=q.get()\n",
    "                    if x[0]==Y:\n",
    "                        return x[1]\n",
    "\n",
    "                    sub=(x[0]-1,x[1]+1)\n",
    "                    doub=(x[0]*2,x[1]+1)\n",
    "                    q.put(sub)\n",
    "                    q.put(doub)\n",
    "\n",
    "        return X - Y\n",
    "    \n",
    "    def brokenCalc(self, X, Y):\n",
    "        count = 0\n",
    "        while Y > X:\n",
    "            if Y%2==1: # Y&1\n",
    "                Y += 1\n",
    "            else:\n",
    "                Y //= 2\n",
    "            count += 1\n",
    "        return count + X - Y \n",
    "        \n",
    "        "
   ]
  },
  {
   "cell_type": "code",
   "execution_count": 606,
   "metadata": {},
   "outputs": [
    {
     "data": {
      "text/plain": [
       "21"
      ]
     },
     "execution_count": 606,
     "metadata": {},
     "output_type": "execute_result"
    }
   ],
   "source": [
    "x=1\n",
    "y=1025\n",
    "Solution().brokenCalc(x,y)"
   ]
  },
  {
   "cell_type": "markdown",
   "metadata": {},
   "source": [
    "## Group Anagrams "
   ]
  },
  {
   "cell_type": "code",
   "execution_count": 614,
   "metadata": {},
   "outputs": [],
   "source": [
    "from collections import defaultdict\n",
    "class Solution(object):\n",
    "    def groupAnagrams(self, strs):\n",
    "        \n",
    "        d=defaultdict(list)\n",
    "        \n",
    "        def isana(a,b):\n",
    "            if len(a)!=len(b):\n",
    "                return False\n",
    "            else:\n",
    "                return sorted(a)==sorted(b)\n",
    "        \n",
    "        for i in strs:\n",
    "            s=len(d)\n",
    "            a=False\n",
    "            for j in d.keys():\n",
    "                if isana(i,j):\n",
    "                    d[j].append(i)\n",
    "                    a=True\n",
    "\n",
    "            if len(d)==s and not a:\n",
    "                d[i]=[i]\n",
    "        \n",
    "        ans=[]\n",
    "        for k in d:\n",
    "            ans.append(d[k])\n",
    "        \n",
    "        return ans"
   ]
  },
  {
   "cell_type": "code",
   "execution_count": 628,
   "metadata": {},
   "outputs": [],
   "source": [
    "from collections import defaultdict\n",
    "class Solution(object):\n",
    "    def groupAnagrams(self, strs):\n",
    "        \n",
    "        x=[''.join(sorted(i)) for i in strs]\n",
    "        \n",
    "        print(x)\n",
    "        ans=[]\n",
    "        c=dict()\n",
    "        for i in range(len(x)):\n",
    "            if x[i] in c:\n",
    "                c[x[i]].append(i)\n",
    "            else:\n",
    "                c[x[i]]=[i]\n",
    "            \n",
    "        for k in c:\n",
    "            ans.append([strs[j] for j in c[k]])\n",
    "        \n",
    "        \n",
    "        return ans"
   ]
  },
  {
   "cell_type": "code",
   "execution_count": 629,
   "metadata": {},
   "outputs": [
    {
     "name": "stdout",
     "output_type": "stream",
     "text": [
      "['aet', 'aet', 'ant', 'aet', 'ant', 'abt']\n"
     ]
    },
    {
     "data": {
      "text/plain": [
       "[['eat', 'tea', 'ate'], ['tan', 'nat'], ['bat']]"
      ]
     },
     "execution_count": 629,
     "metadata": {},
     "output_type": "execute_result"
    }
   ],
   "source": [
    "a=[\"eat\", \"tea\", \"tan\", \"ate\", \"nat\", \"bat\"]\n",
    "Solution().groupAnagrams(a)"
   ]
  },
  {
   "cell_type": "markdown",
   "metadata": {},
   "source": [
    "## Clone Graph"
   ]
  },
  {
   "cell_type": "code",
   "execution_count": 675,
   "metadata": {},
   "outputs": [],
   "source": [
    "class Node(object):\n",
    "    def __init__(self, val = 0, neighbors = []):\n",
    "        self.val = val\n",
    "        self.neighbors = neighbors\n",
    "\n",
    "class Solution(object):\n",
    "    def cloneGraph(self, node):\n",
    "        \n",
    "        st=[]\n",
    "        st.append(node)\n",
    "        n=Node(node.val,[])\n",
    "        st=[node]\n",
    "        \n",
    "        visited = set([node.val])\n",
    "        d={node:n}\n",
    "        while st:\n",
    "            o=st.pop()\n",
    "            for i in o.neighbors:\n",
    "                if i.val not in visited:\n",
    "                    st.append(i)\n",
    "                    visited.add(i.val)\n",
    "                    c=Node(i.val,[])\n",
    "                    d[i]=c\n",
    "                d[o].neighbors.append(d[i])\n",
    "            \n",
    "        return d[node]"
   ]
  },
  {
   "cell_type": "code",
   "execution_count": 676,
   "metadata": {},
   "outputs": [],
   "source": [
    "a=Node(1)\n",
    "b=Node(2)\n",
    "c=Node(3)\n",
    "d=Node(4)\n",
    "\n",
    "a.neighbors=[b,d]\n",
    "b.neighbors=[c,a]\n",
    "c.neighbors=[b,d]\n",
    "d.neighbors=[c,a]\n",
    "\n",
    "\n",
    "x=Solution().cloneGraph(a)"
   ]
  },
  {
   "cell_type": "code",
   "execution_count": 681,
   "metadata": {},
   "outputs": [
    {
     "data": {
      "text/plain": [
       "1"
      ]
     },
     "execution_count": 681,
     "metadata": {},
     "output_type": "execute_result"
    }
   ],
   "source": [
    "x.neighbors[0].neighbors[1].val"
   ]
  },
  {
   "cell_type": "markdown",
   "metadata": {},
   "source": [
    "## Target Sum"
   ]
  },
  {
   "cell_type": "code",
   "execution_count": 756,
   "metadata": {},
   "outputs": [],
   "source": [
    "class Solution(object):\n",
    "    def findTargetSumWays(self, nums, S):\n",
    "        \n",
    "        dc={}\n",
    "        def operator(i,cur):\n",
    "            print(i,cur)\n",
    "            if i==len(nums):\n",
    "                if cur==S:\n",
    "                    return 1\n",
    "                else:\n",
    "                    return 0\n",
    "            else:\n",
    "                if (i,cur) not in dc:\n",
    "                    a=operator(i+1,cur+nums[i])\n",
    "                    s=operator(i+1,cur-nums[i])\n",
    "                    dc[(i,cur)]=a+s\n",
    "                    return a+s\n",
    "                else:\n",
    "                    return dc[(i,cur)]\n",
    "                \n",
    "        return operator(0,0)\n"
   ]
  },
  {
   "cell_type": "code",
   "execution_count": 41,
   "metadata": {},
   "outputs": [],
   "source": [
    "class Solution():\n",
    "    def findTargetSumWays(self, nums, S):\n",
    "    \n",
    "        sm=sum(nums)\n",
    "        if sm<S:\n",
    "            return 0\n",
    "        stack = [(nums[0],0),(-nums[0],0)]\n",
    "        visited=set()\n",
    "        cnt=0\n",
    "        \n",
    "        def check(i,s,T):\n",
    "            return (1 if s==T and i==len(nums)-1 else 0)\n",
    "        \n",
    "        while (len(stack)):\n",
    "\n",
    "            s = stack.pop()\n",
    "            visited.add(s)\n",
    "\n",
    "            cnt+=check(s[1],s[0],S)\n",
    "            i=s[1]\n",
    "            if i<len(nums)-1:\n",
    "                ad,su=s[0],s[0]\n",
    "                \n",
    "                ad+=nums[i+1]\n",
    "                su-=nums[i+1]\n",
    "                stack.append((su,i+1))\n",
    "                stack.append((ad,i+1))\n",
    "                \n",
    "        return cnt"
   ]
  },
  {
   "cell_type": "code",
   "execution_count": 42,
   "metadata": {},
   "outputs": [
    {
     "data": {
      "text/plain": [
       "5"
      ]
     },
     "execution_count": 42,
     "metadata": {},
     "output_type": "execute_result"
    }
   ],
   "source": [
    "n=[1,1,1,1,1]\n",
    "Solution().findTargetSumWays(n,3)"
   ]
  },
  {
   "cell_type": "markdown",
   "metadata": {},
   "source": [
    "## Binary Tree Inorder Traversal"
   ]
  },
  {
   "cell_type": "code",
   "execution_count": 128,
   "metadata": {},
   "outputs": [],
   "source": [
    "class Solution(object):\n",
    "    def inorderTraversal(self, root):\n",
    "        \n",
    "        def trav(r,a):\n",
    "            \n",
    "            st=[]\n",
    "            vis=set()\n",
    "            cur=r\n",
    "            while cur:\n",
    "                st.append(cur)\n",
    "#                 for s in st:\n",
    "#                     print(s.val)\n",
    "#                 print('-----------')\n",
    "                cur=cur.left\n",
    "                while not cur and st:\n",
    "                    x=st.pop()\n",
    "                    a.append(x.val)\n",
    "                    cur=x.right\n",
    "\n",
    "            \n",
    "        a=[]\n",
    "        trav(root,a)\n",
    "        return a\n",
    "        "
   ]
  },
  {
   "cell_type": "code",
   "execution_count": 129,
   "metadata": {},
   "outputs": [
    {
     "data": {
      "text/plain": [
       "[3, 4, 5, 1, 6, 2]"
      ]
     },
     "execution_count": 129,
     "metadata": {},
     "output_type": "execute_result"
    }
   ],
   "source": [
    "class TreeNode(object):\n",
    "    def __init__(self, x):\n",
    "        self.val = x\n",
    "        self.left = None\n",
    "        self.right = None\n",
    "r=TreeNode(1)\n",
    "r.left=TreeNode(4)\n",
    "r.left.left=TreeNode(3)\n",
    "r.left.right=TreeNode(5)\n",
    "r.right=TreeNode(2)\n",
    "r.right.left=TreeNode(6)\n",
    "\n",
    "Solution().inorderTraversal(r)"
   ]
  },
  {
   "cell_type": "markdown",
   "metadata": {},
   "source": [
    "## Decode String"
   ]
  },
  {
   "cell_type": "code",
   "execution_count": 246,
   "metadata": {},
   "outputs": [],
   "source": [
    "class Solution(object):\n",
    "    def decodeString(self, s):\n",
    "        \n",
    "        st=[s[0],'']\n",
    "        \n",
    "        def calc(s,n):\n",
    "            return s*n\n",
    "        \n",
    "        o='['\n",
    "        c=']'\n",
    "        i=1\n",
    "        while len(st)>=1:\n",
    "            curstr=(st.pop() if s[i]!=c else '')\n",
    "            while i<len(s) and s[i]!=c:\n",
    "                if s[i].isalpha():\n",
    "                    curstr+=s[i]\n",
    "                elif s[i].isnumeric():\n",
    "                    st.append(curstr)\n",
    "                    st.append(s[i])\n",
    "                    curstr=''\n",
    "                i+=1\n",
    "                if i<len(s) and s[i]==c:\n",
    "                    st.append(curstr)\n",
    "                    i+=1\n",
    "                    break\n",
    "            print(st)\n",
    "            if st:\n",
    "                l=''\n",
    "                while st and st[-1].isalpha():\n",
    "                    l=st.pop()+l\n",
    "                n=int(st.pop())\n",
    "                st.append(calc(l,n))\n",
    "                print(calc(l,n),s[i:],st)\n",
    "                \n",
    "        return st\n",
    "        "
   ]
  },
  {
   "cell_type": "code",
   "execution_count": 386,
   "metadata": {},
   "outputs": [],
   "source": [
    "class Solution:\n",
    "    def decodeString(self, s):\n",
    "        \n",
    "        st=[]\n",
    "        i=0\n",
    "        l=len(s)\n",
    "        num=''\n",
    "        while i<l:\n",
    "            if s[i]=='[':\n",
    "                st.append(num)\n",
    "                num=''\n",
    "            elif s[i]>='0' and s[i]<='9':\n",
    "                num+=s[i]\n",
    "            elif s[i]==']':\n",
    "                cur=''\n",
    "                while st and not st[-1].isnumeric():\n",
    "                    cur=st.pop()+cur\n",
    "                st.append(cur*int(st.pop()))\n",
    "            else:\n",
    "                st.append(s[i])\n",
    "            i+=1\n",
    "                \n",
    "        return ''.join(st)\n",
    "        "
   ]
  },
  {
   "cell_type": "code",
   "execution_count": 387,
   "metadata": {},
   "outputs": [
    {
     "data": {
      "text/plain": [
       "'LeetLeetLeetLeetLeetLeetLeetLeetLeetLeetLeetLeetLeetLeetLeetLeetLeetLeetLeetLeetLeetLeetLeetLeetLeetLeetLeetLeetLeetLeetLeetLeetLeetLeetLeetLeetLeetLeetLeetLeetLeetLeetLeetLeetLeetLeetLeetLeetLeetLeetLeetLeetLeetLeetLeetLeetLeetLeetLeetLeetLeetLeetLeetLeetLeetLeetLeetLeetLeetLeetLeetLeetLeetLeetLeetLeetLeetLeetLeetLeetLeetLeetLeetLeetLeetLeetLeetLeetLeetLeetLeetLeetLeetLeetLeetLeetLeetLeetLeetLeet'"
      ]
     },
     "execution_count": 387,
     "metadata": {},
     "output_type": "execute_result"
    }
   ],
   "source": [
    "s='100[Leet]'\n",
    "Solution().decodeString(s)"
   ]
  },
  {
   "cell_type": "markdown",
   "metadata": {},
   "source": [
    "## Roman To Integer"
   ]
  },
  {
   "cell_type": "code",
   "execution_count": 452,
   "metadata": {},
   "outputs": [],
   "source": [
    "class Solution(object):\n",
    "    def romanToInt(self, s):\n",
    "        \n",
    "        tr={'I':1,'V':5,'X':10,'L':50,'C':100,'D':500,'M':1000}\n",
    "\n",
    "        sm=0\n",
    "        i=len(s)-1\n",
    "        while i>=0:\n",
    "            if i>0 and tr[s[i-1]]<tr[s[i]]:\n",
    "                sm+=tr[s[i]]-tr[s[i-1]]\n",
    "                i-=1\n",
    "            else:\n",
    "                sm+=tr[s[i]]\n",
    "            i-=1\n",
    "            \n",
    "        return sm\n",
    "                \n",
    "                "
   ]
  },
  {
   "cell_type": "code",
   "execution_count": 453,
   "metadata": {},
   "outputs": [
    {
     "data": {
      "text/plain": [
       "1998"
      ]
     },
     "execution_count": 453,
     "metadata": {},
     "output_type": "execute_result"
    }
   ],
   "source": [
    "Solution().romanToInt('MCMXCVIII')"
   ]
  },
  {
   "cell_type": "markdown",
   "metadata": {},
   "source": [
    "## Backspace String Compare"
   ]
  },
  {
   "cell_type": "code",
   "execution_count": 28,
   "metadata": {},
   "outputs": [],
   "source": [
    "class Solution(object):\n",
    "    def backspaceCompare(self, S, T):\n",
    "        \n",
    "        def getRes(s):\n",
    "            st=(s[0] if s[0]!='#' else '')\n",
    "            i=1\n",
    "            while i<len(s):\n",
    "#                 print(st)\n",
    "                if s[i]!='#':\n",
    "                    st+=s[i]\n",
    "                else:\n",
    "                    if st:\n",
    "                        st=st[:len(st)-1]\n",
    "                    else:\n",
    "                        st=''\n",
    "                i+=1\n",
    "            print(st)\n",
    "            return st\n",
    "        \n",
    "        return getRes(S)==getRes(T)\n",
    "            \n",
    "        "
   ]
  },
  {
   "cell_type": "code",
   "execution_count": 31,
   "metadata": {},
   "outputs": [
    {
     "name": "stdout",
     "output_type": "stream",
     "text": [
      "\n",
      "\n"
     ]
    },
    {
     "data": {
      "text/plain": [
       "True"
      ]
     },
     "execution_count": 31,
     "metadata": {},
     "output_type": "execute_result"
    }
   ],
   "source": [
    "S='a##'\n",
    "T='a##'\n",
    "\n",
    "Solution().backspaceCompare(S,T)"
   ]
  },
  {
   "cell_type": "markdown",
   "metadata": {},
   "source": [
    "## Top K Frequent Elements"
   ]
  },
  {
   "cell_type": "code",
   "execution_count": 487,
   "metadata": {},
   "outputs": [],
   "source": [
    "class Solution(object):\n",
    "    def topKFrequent(self, nums, k):\n",
    "        if len(nums)==0:\n",
    "            return []\n",
    "        \n",
    "        d=collections.defaultdict(int)\n",
    "        for i in nums:\n",
    "            d[i]+=1\n",
    "        \n",
    "        ranks=[]\n",
    "        for i in range(k):\n",
    "            mx=0\n",
    "            mkey=-1\n",
    "            for key in d.keys():\n",
    "                if d[key]>mx:\n",
    "                    mx=d[key]\n",
    "                    mkey=key\n",
    "            d.pop(mkey)\n",
    "            ranks.append(mkey)\n",
    "            \n",
    "        print(d)\n",
    "        return ranks"
   ]
  },
  {
   "cell_type": "code",
   "execution_count": 488,
   "metadata": {},
   "outputs": [
    {
     "data": {
      "text/plain": [
       "[1, 2]"
      ]
     },
     "execution_count": 488,
     "metadata": {},
     "output_type": "execute_result"
    }
   ],
   "source": [
    "n=[1,1,1,2,2,3,3]\n",
    "Solution().topKFrequent(n,2)"
   ]
  },
  {
   "cell_type": "markdown",
   "metadata": {},
   "source": [
    "# Middle of Linked List"
   ]
  },
  {
   "cell_type": "code",
   "execution_count": 429,
   "metadata": {},
   "outputs": [],
   "source": [
    "class ListNode:\n",
    "    def __init__(self, x):\n",
    "        self.val = x\n",
    "        self.next = None\n",
    "\n",
    "class Solution:\n",
    "    def middleNode(self, head: ListNode) -> ListNode:\n",
    "        \n",
    "        f=head\n",
    "        b=head\n",
    "        while b:\n",
    "            if f.next and f.next.next:\n",
    "                f=f.next.next\n",
    "                b=b.next\n",
    "            else:\n",
    "                if f.next:\n",
    "                    return b.next\n",
    "                else:\n",
    "                    return b\n",
    "            \n",
    "        return head"
   ]
  },
  {
   "cell_type": "code",
   "execution_count": 430,
   "metadata": {},
   "outputs": [],
   "source": [
    "n=ListNode(1)\n",
    "n.next=ListNode(2)\n",
    "n.next.next=ListNode(3)\n",
    "n.next.next.next=ListNode(4)\n",
    "# n.next.next.next.next=ListNode(5)\n",
    "\n",
    "x=Solution().middleNode(n)"
   ]
  },
  {
   "cell_type": "code",
   "execution_count": 431,
   "metadata": {},
   "outputs": [
    {
     "data": {
      "text/plain": [
       "3"
      ]
     },
     "execution_count": 431,
     "metadata": {},
     "output_type": "execute_result"
    }
   ],
   "source": [
    "x.val"
   ]
  },
  {
   "cell_type": "markdown",
   "metadata": {},
   "source": [
    "## Counting Elements"
   ]
  },
  {
   "cell_type": "code",
   "execution_count": 32,
   "metadata": {},
   "outputs": [],
   "source": [
    "from collections import defaultdict\n",
    "class Solution(object):\n",
    "    def countElements(self, arr):\n",
    "        \n",
    "        ref=[None for i in range(max(arr)+1)]\n",
    "        freq=defaultdict(int)\n",
    "        for i in arr:\n",
    "            freq[i]+=1\n",
    "            if ref[i]==None:\n",
    "                ref[i]=i\n",
    "                \n",
    "        print(ref)\n",
    "        \n",
    "        count=0\n",
    "        for i in range(len(ref)-1):\n",
    "            if ref[i+1]!=None and ref[i]!=None:\n",
    "                count+=freq[i]\n",
    "                \n",
    "        return count"
   ]
  },
  {
   "cell_type": "code",
   "execution_count": 36,
   "metadata": {},
   "outputs": [
    {
     "name": "stdout",
     "output_type": "stream",
     "text": [
      "[0, 1, None, 3, None, 5, None, 7]\n"
     ]
    },
    {
     "data": {
      "text/plain": [
       "1"
      ]
     },
     "execution_count": 36,
     "metadata": {},
     "output_type": "execute_result"
    }
   ],
   "source": [
    "a=[1,0,3,3,5,5,7,7]\n",
    "Solution().countElements(a)"
   ]
  },
  {
   "cell_type": "markdown",
   "metadata": {},
   "source": [
    "## Word Ladder"
   ]
  },
  {
   "cell_type": "code",
   "execution_count": 742,
   "metadata": {},
   "outputs": [],
   "source": [
    "class Solution(object):\n",
    "    def ladderLength(self, beginWord, endWord, wordList):\n",
    "        \n",
    "        \n",
    "        \n",
    "        d=defaultdict(list)\n",
    "        \n",
    "        for i in wordList:\n",
    "            for j in range(len(i)):\n",
    "                d[(i[j],j)].append(i)\n",
    "        \n",
    "        ans=[]\n",
    "        for i in range(len(beginWord)):\n",
    "            for w in d[(beginWord[i],i)]:\n",
    "                \n",
    "            \n",
    "                \n",
    "        return 0"
   ]
  },
  {
   "cell_type": "code",
   "execution_count": 792,
   "metadata": {},
   "outputs": [],
   "source": [
    "class Solution(object):\n",
    "    def ladderLength(self, beginWord, endWord, wordList):\n",
    "        \n",
    "\n",
    "        if endWord not in wordList:\n",
    "            return 0\n",
    "        \n",
    "        def bfs(w, c):\n",
    "            if w==endWord:\n",
    "                return c\n",
    "            for i in range(len(endWord)):\n",
    "                for l in let[i]:\n",
    "                    if l!=w[i]:\n",
    "                        new=w[:i]+l+w[i+1:]\n",
    "                        if new in wordList and new not in done:\n",
    "                            done.add(new)\n",
    "                            print(new, c+1)\n",
    "                            bfs(new,c+1)\n",
    "\n",
    "            return 0\n",
    "        \n",
    "        \n",
    "        let=defaultdict(set)\n",
    "        for i in range(len(beginWord)):\n",
    "            for j in wordList:\n",
    "                let[i].add(j[i])\n",
    "        \n",
    "        done=set()\n",
    "        done.add(beginWord)\n",
    "        print(let)\n",
    "        \n",
    "        return bfs(beginWord,0)"
   ]
  },
  {
   "cell_type": "code",
   "execution_count": 840,
   "metadata": {},
   "outputs": [],
   "source": [
    "class Solution(object):\n",
    "    def ladderLength(self, beginWord, endWord, wordList):\n",
    "        \n",
    "        \n",
    "        q=collections.deque()\n",
    "        q.append((beginWord,1))\n",
    "        \n",
    "        if endWord not in wordList:\n",
    "            return 0\n",
    "        \n",
    "        let=defaultdict(set)\n",
    "        length=len(beginWord)\n",
    "        for j in wordList:\n",
    "            for i in range(length):\n",
    "                key=j[:i]+'_'+j[i+1:]\n",
    "                let[key].add(j)\n",
    "                \n",
    "        done=set()\n",
    "        done.add(beginWord)\n",
    "        \n",
    "        while len(q):\n",
    "            lq=len(q)\n",
    "            for i in range(lq):\n",
    "                start=q.popleft()\n",
    "                w=start[0]\n",
    "                ind=start[1]\n",
    "#                 print(w, ind)\n",
    "                \n",
    "                if w==endWord:\n",
    "                    return ind\n",
    "\n",
    "                for j in range(len(endWord)):\n",
    "#                     print(w,j,let[j])\n",
    "                    key=w[:j]+'_'+w[j+1:]\n",
    "                    for nex in let[key]:\n",
    "                        if nex not in done:\n",
    "                            q.append((nex,ind+1))\n",
    "                            done.add(nex)\n",
    "                        \n",
    "        return 0"
   ]
  },
  {
   "cell_type": "code",
   "execution_count": 841,
   "metadata": {},
   "outputs": [
    {
     "data": {
      "text/plain": [
       "11"
      ]
     },
     "execution_count": 841,
     "metadata": {},
     "output_type": "execute_result"
    }
   ],
   "source": [
    "beginWord = \"sand\"\n",
    "endWord = \"acne\"\n",
    "wordList = [\"slit\",\"bunk\",\"wars\",\"ping\",\"viva\",\"wynn\",\"wows\",\"irks\",\"gang\",\"pool\",\"mock\",\"fort\",\"heel\",\"send\",\"ship\",\"cols\",\"alec\",\"foal\",\"nabs\",\"gaze\",\"giza\",\"mays\",\"dogs\",\"karo\",\"cums\",\"jedi\",\"webb\",\"lend\",\"mire\",\"jose\",\"catt\",\"grow\",\"toss\",\"magi\",\"leis\",\"bead\",\"kara\",\"hoof\",\"than\",\"ires\",\"baas\",\"vein\",\"kari\",\"riga\",\"oars\",\"gags\",\"thug\",\"yawn\",\"wive\",\"view\",\"germ\",\"flab\",\"july\",\"tuck\",\"rory\",\"bean\",\"feed\",\"rhee\",\"jeez\",\"gobs\",\"lath\",\"desk\",\"yoko\",\"cute\",\"zeus\",\"thus\",\"dims\",\"link\",\"dirt\",\"mara\",\"disc\",\"limy\",\"lewd\",\"maud\",\"duly\",\"elsa\",\"hart\",\"rays\",\"rues\",\"camp\",\"lack\",\"okra\",\"tome\",\"math\",\"plug\",\"monk\",\"orly\",\"friz\",\"hogs\",\"yoda\",\"poop\",\"tick\",\"plod\",\"cloy\",\"pees\",\"imps\",\"lead\",\"pope\",\"mall\",\"frey\",\"been\",\"plea\",\"poll\",\"male\",\"teak\",\"soho\",\"glob\",\"bell\",\"mary\",\"hail\",\"scan\",\"yips\",\"like\",\"mull\",\"kory\",\"odor\",\"byte\",\"kaye\",\"word\",\"honk\",\"asks\",\"slid\",\"hopi\",\"toke\",\"gore\",\"flew\",\"tins\",\"mown\",\"oise\",\"hall\",\"vega\",\"sing\",\"fool\",\"boat\",\"bobs\",\"lain\",\"soft\",\"hard\",\"rots\",\"sees\",\"apex\",\"chan\",\"told\",\"woos\",\"unit\",\"scow\",\"gilt\",\"beef\",\"jars\",\"tyre\",\"imus\",\"neon\",\"soap\",\"dabs\",\"rein\",\"ovid\",\"hose\",\"husk\",\"loll\",\"asia\",\"cope\",\"tail\",\"hazy\",\"clad\",\"lash\",\"sags\",\"moll\",\"eddy\",\"fuel\",\"lift\",\"flog\",\"land\",\"sigh\",\"saks\",\"sail\",\"hook\",\"visa\",\"tier\",\"maws\",\"roeg\",\"gila\",\"eyes\",\"noah\",\"hypo\",\"tore\",\"eggs\",\"rove\",\"chap\",\"room\",\"wait\",\"lurk\",\"race\",\"host\",\"dada\",\"lola\",\"gabs\",\"sobs\",\"joel\",\"keck\",\"axed\",\"mead\",\"gust\",\"laid\",\"ends\",\"oort\",\"nose\",\"peer\",\"kept\",\"abet\",\"iran\",\"mick\",\"dead\",\"hags\",\"tens\",\"gown\",\"sick\",\"odis\",\"miro\",\"bill\",\"fawn\",\"sumo\",\"kilt\",\"huge\",\"ores\",\"oran\",\"flag\",\"tost\",\"seth\",\"sift\",\"poet\",\"reds\",\"pips\",\"cape\",\"togo\",\"wale\",\"limn\",\"toll\",\"ploy\",\"inns\",\"snag\",\"hoes\",\"jerk\",\"flux\",\"fido\",\"zane\",\"arab\",\"gamy\",\"raze\",\"lank\",\"hurt\",\"rail\",\"hind\",\"hoot\",\"dogy\",\"away\",\"pest\",\"hoed\",\"pose\",\"lose\",\"pole\",\"alva\",\"dino\",\"kind\",\"clan\",\"dips\",\"soup\",\"veto\",\"edna\",\"damp\",\"gush\",\"amen\",\"wits\",\"pubs\",\"fuzz\",\"cash\",\"pine\",\"trod\",\"gunk\",\"nude\",\"lost\",\"rite\",\"cory\",\"walt\",\"mica\",\"cart\",\"avow\",\"wind\",\"book\",\"leon\",\"life\",\"bang\",\"draw\",\"leek\",\"skis\",\"dram\",\"ripe\",\"mine\",\"urea\",\"tiff\",\"over\",\"gale\",\"weir\",\"defy\",\"norm\",\"tull\",\"whiz\",\"gill\",\"ward\",\"crag\",\"when\",\"mill\",\"firs\",\"sans\",\"flue\",\"reid\",\"ekes\",\"jain\",\"mutt\",\"hems\",\"laps\",\"piss\",\"pall\",\"rowe\",\"prey\",\"cull\",\"knew\",\"size\",\"wets\",\"hurl\",\"wont\",\"suva\",\"girt\",\"prys\",\"prow\",\"warn\",\"naps\",\"gong\",\"thru\",\"livy\",\"boar\",\"sade\",\"amok\",\"vice\",\"slat\",\"emir\",\"jade\",\"karl\",\"loyd\",\"cerf\",\"bess\",\"loss\",\"rums\",\"lats\",\"bode\",\"subs\",\"muss\",\"maim\",\"kits\",\"thin\",\"york\",\"punt\",\"gays\",\"alpo\",\"aids\",\"drag\",\"eras\",\"mats\",\"pyre\",\"clot\",\"step\",\"oath\",\"lout\",\"wary\",\"carp\",\"hums\",\"tang\",\"pout\",\"whip\",\"fled\",\"omar\",\"such\",\"kano\",\"jake\",\"stan\",\"loop\",\"fuss\",\"mini\",\"byrd\",\"exit\",\"fizz\",\"lire\",\"emil\",\"prop\",\"noes\",\"awed\",\"gift\",\"soli\",\"sale\",\"gage\",\"orin\",\"slur\",\"limp\",\"saar\",\"arks\",\"mast\",\"gnat\",\"port\",\"into\",\"geed\",\"pave\",\"awls\",\"cent\",\"cunt\",\"full\",\"dint\",\"hank\",\"mate\",\"coin\",\"tars\",\"scud\",\"veer\",\"coax\",\"bops\",\"uris\",\"loom\",\"shod\",\"crib\",\"lids\",\"drys\",\"fish\",\"edit\",\"dick\",\"erna\",\"else\",\"hahs\",\"alga\",\"moho\",\"wire\",\"fora\",\"tums\",\"ruth\",\"bets\",\"duns\",\"mold\",\"mush\",\"swop\",\"ruby\",\"bolt\",\"nave\",\"kite\",\"ahem\",\"brad\",\"tern\",\"nips\",\"whew\",\"bait\",\"ooze\",\"gino\",\"yuck\",\"drum\",\"shoe\",\"lobe\",\"dusk\",\"cult\",\"paws\",\"anew\",\"dado\",\"nook\",\"half\",\"lams\",\"rich\",\"cato\",\"java\",\"kemp\",\"vain\",\"fees\",\"sham\",\"auks\",\"gish\",\"fire\",\"elam\",\"salt\",\"sour\",\"loth\",\"whit\",\"yogi\",\"shes\",\"scam\",\"yous\",\"lucy\",\"inez\",\"geld\",\"whig\",\"thee\",\"kelp\",\"loaf\",\"harm\",\"tomb\",\"ever\",\"airs\",\"page\",\"laud\",\"stun\",\"paid\",\"goop\",\"cobs\",\"judy\",\"grab\",\"doha\",\"crew\",\"item\",\"fogs\",\"tong\",\"blip\",\"vest\",\"bran\",\"wend\",\"bawl\",\"feel\",\"jets\",\"mixt\",\"tell\",\"dire\",\"devi\",\"milo\",\"deng\",\"yews\",\"weak\",\"mark\",\"doug\",\"fare\",\"rigs\",\"poke\",\"hies\",\"sian\",\"suez\",\"quip\",\"kens\",\"lass\",\"zips\",\"elva\",\"brat\",\"cosy\",\"teri\",\"hull\",\"spun\",\"russ\",\"pupa\",\"weed\",\"pulp\",\"main\",\"grim\",\"hone\",\"cord\",\"barf\",\"olav\",\"gaps\",\"rote\",\"wilt\",\"lars\",\"roll\",\"balm\",\"jana\",\"give\",\"eire\",\"faun\",\"suck\",\"kegs\",\"nita\",\"weer\",\"tush\",\"spry\",\"loge\",\"nays\",\"heir\",\"dope\",\"roar\",\"peep\",\"nags\",\"ates\",\"bane\",\"seas\",\"sign\",\"fred\",\"they\",\"lien\",\"kiev\",\"fops\",\"said\",\"lawn\",\"lind\",\"miff\",\"mass\",\"trig\",\"sins\",\"furl\",\"ruin\",\"sent\",\"cray\",\"maya\",\"clog\",\"puns\",\"silk\",\"axis\",\"grog\",\"jots\",\"dyer\",\"mope\",\"rand\",\"vend\",\"keen\",\"chou\",\"dose\",\"rain\",\"eats\",\"sped\",\"maui\",\"evan\",\"time\",\"todd\",\"skit\",\"lief\",\"sops\",\"outs\",\"moot\",\"faze\",\"biro\",\"gook\",\"fill\",\"oval\",\"skew\",\"veil\",\"born\",\"slob\",\"hyde\",\"twin\",\"eloy\",\"beat\",\"ergs\",\"sure\",\"kobe\",\"eggo\",\"hens\",\"jive\",\"flax\",\"mons\",\"dunk\",\"yest\",\"begs\",\"dial\",\"lodz\",\"burp\",\"pile\",\"much\",\"dock\",\"rene\",\"sago\",\"racy\",\"have\",\"yalu\",\"glow\",\"move\",\"peps\",\"hods\",\"kins\",\"salk\",\"hand\",\"cons\",\"dare\",\"myra\",\"sega\",\"type\",\"mari\",\"pelt\",\"hula\",\"gulf\",\"jugs\",\"flay\",\"fest\",\"spat\",\"toms\",\"zeno\",\"taps\",\"deny\",\"swag\",\"afro\",\"baud\",\"jabs\",\"smut\",\"egos\",\"lara\",\"toes\",\"song\",\"fray\",\"luis\",\"brut\",\"olen\",\"mere\",\"ruff\",\"slum\",\"glad\",\"buds\",\"silt\",\"rued\",\"gelt\",\"hive\",\"teem\",\"ides\",\"sink\",\"ands\",\"wisp\",\"omen\",\"lyre\",\"yuks\",\"curb\",\"loam\",\"darn\",\"liar\",\"pugs\",\"pane\",\"carl\",\"sang\",\"scar\",\"zeds\",\"claw\",\"berg\",\"hits\",\"mile\",\"lite\",\"khan\",\"erik\",\"slug\",\"loon\",\"dena\",\"ruse\",\"talk\",\"tusk\",\"gaol\",\"tads\",\"beds\",\"sock\",\"howe\",\"gave\",\"snob\",\"ahab\",\"part\",\"meir\",\"jell\",\"stir\",\"tels\",\"spit\",\"hash\",\"omit\",\"jinx\",\"lyra\",\"puck\",\"laue\",\"beep\",\"eros\",\"owed\",\"cede\",\"brew\",\"slue\",\"mitt\",\"jest\",\"lynx\",\"wads\",\"gena\",\"dank\",\"volt\",\"gray\",\"pony\",\"veld\",\"bask\",\"fens\",\"argo\",\"work\",\"taxi\",\"afar\",\"boon\",\"lube\",\"pass\",\"lazy\",\"mist\",\"blot\",\"mach\",\"poky\",\"rams\",\"sits\",\"rend\",\"dome\",\"pray\",\"duck\",\"hers\",\"lure\",\"keep\",\"gory\",\"chat\",\"runt\",\"jams\",\"lays\",\"posy\",\"bats\",\"hoff\",\"rock\",\"keri\",\"raul\",\"yves\",\"lama\",\"ramp\",\"vote\",\"jody\",\"pock\",\"gist\",\"sass\",\"iago\",\"coos\",\"rank\",\"lowe\",\"vows\",\"koch\",\"taco\",\"jinn\",\"juno\",\"rape\",\"band\",\"aces\",\"goal\",\"huck\",\"lila\",\"tuft\",\"swan\",\"blab\",\"leda\",\"gems\",\"hide\",\"tack\",\"porn\",\"scum\",\"frat\",\"plum\",\"duds\",\"shad\",\"arms\",\"pare\",\"chin\",\"gain\",\"knee\",\"foot\",\"line\",\"dove\",\"vera\",\"jays\",\"fund\",\"reno\",\"skid\",\"boys\",\"corn\",\"gwyn\",\"sash\",\"weld\",\"ruiz\",\"dior\",\"jess\",\"leaf\",\"pars\",\"cote\",\"zing\",\"scat\",\"nice\",\"dart\",\"only\",\"owls\",\"hike\",\"trey\",\"whys\",\"ding\",\"klan\",\"ross\",\"barb\",\"ants\",\"lean\",\"dopy\",\"hock\",\"tour\",\"grip\",\"aldo\",\"whim\",\"prom\",\"rear\",\"dins\",\"duff\",\"dell\",\"loch\",\"lava\",\"sung\",\"yank\",\"thar\",\"curl\",\"venn\",\"blow\",\"pomp\",\"heat\",\"trap\",\"dali\",\"nets\",\"seen\",\"gash\",\"twig\",\"dads\",\"emmy\",\"rhea\",\"navy\",\"haws\",\"mite\",\"bows\",\"alas\",\"ives\",\"play\",\"soon\",\"doll\",\"chum\",\"ajar\",\"foam\",\"call\",\"puke\",\"kris\",\"wily\",\"came\",\"ales\",\"reef\",\"raid\",\"diet\",\"prod\",\"prut\",\"loot\",\"soar\",\"coed\",\"celt\",\"seam\",\"dray\",\"lump\",\"jags\",\"nods\",\"sole\",\"kink\",\"peso\",\"howl\",\"cost\",\"tsar\",\"uric\",\"sore\",\"woes\",\"sewn\",\"sake\",\"cask\",\"caps\",\"burl\",\"tame\",\"bulk\",\"neva\",\"from\",\"meet\",\"webs\",\"spar\",\"fuck\",\"buoy\",\"wept\",\"west\",\"dual\",\"pica\",\"sold\",\"seed\",\"gads\",\"riff\",\"neck\",\"deed\",\"rudy\",\"drop\",\"vale\",\"flit\",\"romp\",\"peak\",\"jape\",\"jews\",\"fain\",\"dens\",\"hugo\",\"elba\",\"mink\",\"town\",\"clam\",\"feud\",\"fern\",\"dung\",\"newt\",\"mime\",\"deem\",\"inti\",\"gigs\",\"sosa\",\"lope\",\"lard\",\"cara\",\"smug\",\"lego\",\"flex\",\"doth\",\"paar\",\"moon\",\"wren\",\"tale\",\"kant\",\"eels\",\"muck\",\"toga\",\"zens\",\"lops\",\"duet\",\"coil\",\"gall\",\"teal\",\"glib\",\"muir\",\"ails\",\"boer\",\"them\",\"rake\",\"conn\",\"neat\",\"frog\",\"trip\",\"coma\",\"must\",\"mono\",\"lira\",\"craw\",\"sled\",\"wear\",\"toby\",\"reel\",\"hips\",\"nate\",\"pump\",\"mont\",\"died\",\"moss\",\"lair\",\"jibe\",\"oils\",\"pied\",\"hobs\",\"cads\",\"haze\",\"muse\",\"cogs\",\"figs\",\"cues\",\"roes\",\"whet\",\"boru\",\"cozy\",\"amos\",\"tans\",\"news\",\"hake\",\"cots\",\"boas\",\"tutu\",\"wavy\",\"pipe\",\"typo\",\"albs\",\"boom\",\"dyke\",\"wail\",\"woke\",\"ware\",\"rita\",\"fail\",\"slab\",\"owes\",\"jane\",\"rack\",\"hell\",\"lags\",\"mend\",\"mask\",\"hume\",\"wane\",\"acne\",\"team\",\"holy\",\"runs\",\"exes\",\"dole\",\"trim\",\"zola\",\"trek\",\"puma\",\"wacs\",\"veep\",\"yaps\",\"sums\",\"lush\",\"tubs\",\"most\",\"witt\",\"bong\",\"rule\",\"hear\",\"awry\",\"sots\",\"nils\",\"bash\",\"gasp\",\"inch\",\"pens\",\"fies\",\"juts\",\"pate\",\"vine\",\"zulu\",\"this\",\"bare\",\"veal\",\"josh\",\"reek\",\"ours\",\"cowl\",\"club\",\"farm\",\"teat\",\"coat\",\"dish\",\"fore\",\"weft\",\"exam\",\"vlad\",\"floe\",\"beak\",\"lane\",\"ella\",\"warp\",\"goth\",\"ming\",\"pits\",\"rent\",\"tito\",\"wish\",\"amps\",\"says\",\"hawk\",\"ways\",\"punk\",\"nark\",\"cagy\",\"east\",\"paul\",\"bose\",\"solo\",\"teed\",\"text\",\"hews\",\"snip\",\"lips\",\"emit\",\"orgy\",\"icon\",\"tuna\",\"soul\",\"kurd\",\"clod\",\"calk\",\"aunt\",\"bake\",\"copy\",\"acid\",\"duse\",\"kiln\",\"spec\",\"fans\",\"bani\",\"irma\",\"pads\",\"batu\",\"logo\",\"pack\",\"oder\",\"atop\",\"funk\",\"gide\",\"bede\",\"bibs\",\"taut\",\"guns\",\"dana\",\"puff\",\"lyme\",\"flat\",\"lake\",\"june\",\"sets\",\"gull\",\"hops\",\"earn\",\"clip\",\"fell\",\"kama\",\"seal\",\"diaz\",\"cite\",\"chew\",\"cuba\",\"bury\",\"yard\",\"bank\",\"byes\",\"apia\",\"cree\",\"nosh\",\"judo\",\"walk\",\"tape\",\"taro\",\"boot\",\"cods\",\"lade\",\"cong\",\"deft\",\"slim\",\"jeri\",\"rile\",\"park\",\"aeon\",\"fact\",\"slow\",\"goff\",\"cane\",\"earp\",\"tart\",\"does\",\"acts\",\"hope\",\"cant\",\"buts\",\"shin\",\"dude\",\"ergo\",\"mode\",\"gene\",\"lept\",\"chen\",\"beta\",\"eden\",\"pang\",\"saab\",\"fang\",\"whir\",\"cove\",\"perk\",\"fads\",\"rugs\",\"herb\",\"putt\",\"nous\",\"vane\",\"corm\",\"stay\",\"bids\",\"vela\",\"roof\",\"isms\",\"sics\",\"gone\",\"swum\",\"wiry\",\"cram\",\"rink\",\"pert\",\"heap\",\"sikh\",\"dais\",\"cell\",\"peel\",\"nuke\",\"buss\",\"rasp\",\"none\",\"slut\",\"bent\",\"dams\",\"serb\",\"dork\",\"bays\",\"kale\",\"cora\",\"wake\",\"welt\",\"rind\",\"trot\",\"sloe\",\"pity\",\"rout\",\"eves\",\"fats\",\"furs\",\"pogo\",\"beth\",\"hued\",\"edam\",\"iamb\",\"glee\",\"lute\",\"keel\",\"airy\",\"easy\",\"tire\",\"rube\",\"bogy\",\"sine\",\"chop\",\"rood\",\"elbe\",\"mike\",\"garb\",\"jill\",\"gaul\",\"chit\",\"dons\",\"bars\",\"ride\",\"beck\",\"toad\",\"make\",\"head\",\"suds\",\"pike\",\"snot\",\"swat\",\"peed\",\"same\",\"gaza\",\"lent\",\"gait\",\"gael\",\"elks\",\"hang\",\"nerf\",\"rosy\",\"shut\",\"glop\",\"pain\",\"dion\",\"deaf\",\"hero\",\"doer\",\"wost\",\"wage\",\"wash\",\"pats\",\"narc\",\"ions\",\"dice\",\"quay\",\"vied\",\"eons\",\"case\",\"pour\",\"urns\",\"reva\",\"rags\",\"aden\",\"bone\",\"rang\",\"aura\",\"iraq\",\"toot\",\"rome\",\"hals\",\"megs\",\"pond\",\"john\",\"yeps\",\"pawl\",\"warm\",\"bird\",\"tint\",\"jowl\",\"gibe\",\"come\",\"hold\",\"pail\",\"wipe\",\"bike\",\"rips\",\"eery\",\"kent\",\"hims\",\"inks\",\"fink\",\"mott\",\"ices\",\"macy\",\"serf\",\"keys\",\"tarp\",\"cops\",\"sods\",\"feet\",\"tear\",\"benz\",\"buys\",\"colo\",\"boil\",\"sews\",\"enos\",\"watt\",\"pull\",\"brag\",\"cork\",\"save\",\"mint\",\"feat\",\"jamb\",\"rubs\",\"roxy\",\"toys\",\"nosy\",\"yowl\",\"tamp\",\"lobs\",\"foul\",\"doom\",\"sown\",\"pigs\",\"hemp\",\"fame\",\"boor\",\"cube\",\"tops\",\"loco\",\"lads\",\"eyre\",\"alta\",\"aged\",\"flop\",\"pram\",\"lesa\",\"sawn\",\"plow\",\"aral\",\"load\",\"lied\",\"pled\",\"boob\",\"bert\",\"rows\",\"zits\",\"rick\",\"hint\",\"dido\",\"fist\",\"marc\",\"wuss\",\"node\",\"smog\",\"nora\",\"shim\",\"glut\",\"bale\",\"perl\",\"what\",\"tort\",\"meek\",\"brie\",\"bind\",\"cake\",\"psst\",\"dour\",\"jove\",\"tree\",\"chip\",\"stud\",\"thou\",\"mobs\",\"sows\",\"opts\",\"diva\",\"perm\",\"wise\",\"cuds\",\"sols\",\"alan\",\"mild\",\"pure\",\"gail\",\"wins\",\"offs\",\"nile\",\"yelp\",\"minn\",\"tors\",\"tran\",\"homy\",\"sadr\",\"erse\",\"nero\",\"scab\",\"finn\",\"mich\",\"turd\",\"then\",\"poem\",\"noun\",\"oxus\",\"brow\",\"door\",\"saws\",\"eben\",\"wart\",\"wand\",\"rosa\",\"left\",\"lina\",\"cabs\",\"rapt\",\"olin\",\"suet\",\"kalb\",\"mans\",\"dawn\",\"riel\",\"temp\",\"chug\",\"peal\",\"drew\",\"null\",\"hath\",\"many\",\"took\",\"fond\",\"gate\",\"sate\",\"leak\",\"zany\",\"vans\",\"mart\",\"hess\",\"home\",\"long\",\"dirk\",\"bile\",\"lace\",\"moog\",\"axes\",\"zone\",\"fork\",\"duct\",\"rico\",\"rife\",\"deep\",\"tiny\",\"hugh\",\"bilk\",\"waft\",\"swig\",\"pans\",\"with\",\"kern\",\"busy\",\"film\",\"lulu\",\"king\",\"lord\",\"veda\",\"tray\",\"legs\",\"soot\",\"ells\",\"wasp\",\"hunt\",\"earl\",\"ouch\",\"diem\",\"yell\",\"pegs\",\"blvd\",\"polk\",\"soda\",\"zorn\",\"liza\",\"slop\",\"week\",\"kill\",\"rusk\",\"eric\",\"sump\",\"haul\",\"rims\",\"crop\",\"blob\",\"face\",\"bins\",\"read\",\"care\",\"pele\",\"ritz\",\"beau\",\"golf\",\"drip\",\"dike\",\"stab\",\"jibs\",\"hove\",\"junk\",\"hoax\",\"tats\",\"fief\",\"quad\",\"peat\",\"ream\",\"hats\",\"root\",\"flak\",\"grit\",\"clap\",\"pugh\",\"bosh\",\"lock\",\"mute\",\"crow\",\"iced\",\"lisa\",\"bela\",\"fems\",\"oxes\",\"vies\",\"gybe\",\"huff\",\"bull\",\"cuss\",\"sunk\",\"pups\",\"fobs\",\"turf\",\"sect\",\"atom\",\"debt\",\"sane\",\"writ\",\"anon\",\"mayo\",\"aria\",\"seer\",\"thor\",\"brim\",\"gawk\",\"jack\",\"jazz\",\"menu\",\"yolk\",\"surf\",\"libs\",\"lets\",\"bans\",\"toil\",\"open\",\"aced\",\"poor\",\"mess\",\"wham\",\"fran\",\"gina\",\"dote\",\"love\",\"mood\",\"pale\",\"reps\",\"ines\",\"shot\",\"alar\",\"twit\",\"site\",\"dill\",\"yoga\",\"sear\",\"vamp\",\"abel\",\"lieu\",\"cuff\",\"orbs\",\"rose\",\"tank\",\"gape\",\"guam\",\"adar\",\"vole\",\"your\",\"dean\",\"dear\",\"hebe\",\"crab\",\"hump\",\"mole\",\"vase\",\"rode\",\"dash\",\"sera\",\"balk\",\"lela\",\"inca\",\"gaea\",\"bush\",\"loud\",\"pies\",\"aide\",\"blew\",\"mien\",\"side\",\"kerr\",\"ring\",\"tess\",\"prep\",\"rant\",\"lugs\",\"hobo\",\"joke\",\"odds\",\"yule\",\"aida\",\"true\",\"pone\",\"lode\",\"nona\",\"weep\",\"coda\",\"elmo\",\"skim\",\"wink\",\"bras\",\"pier\",\"bung\",\"pets\",\"tabs\",\"ryan\",\"jock\",\"body\",\"sofa\",\"joey\",\"zion\",\"mace\",\"kick\",\"vile\",\"leno\",\"bali\",\"fart\",\"that\",\"redo\",\"ills\",\"jogs\",\"pent\",\"drub\",\"slaw\",\"tide\",\"lena\",\"seep\",\"gyps\",\"wave\",\"amid\",\"fear\",\"ties\",\"flan\",\"wimp\",\"kali\",\"shun\",\"crap\",\"sage\",\"rune\",\"logs\",\"cain\",\"digs\",\"abut\",\"obit\",\"paps\",\"rids\",\"fair\",\"hack\",\"huns\",\"road\",\"caws\",\"curt\",\"jute\",\"fisk\",\"fowl\",\"duty\",\"holt\",\"miss\",\"rude\",\"vito\",\"baal\",\"ural\",\"mann\",\"mind\",\"belt\",\"clem\",\"last\",\"musk\",\"roam\",\"abed\",\"days\",\"bore\",\"fuze\",\"fall\",\"pict\",\"dump\",\"dies\",\"fiat\",\"vent\",\"pork\",\"eyed\",\"docs\",\"rive\",\"spas\",\"rope\",\"ariz\",\"tout\",\"game\",\"jump\",\"blur\",\"anti\",\"lisp\",\"turn\",\"sand\",\"food\",\"moos\",\"hoop\",\"saul\",\"arch\",\"fury\",\"rise\",\"diss\",\"hubs\",\"burs\",\"grid\",\"ilks\",\"suns\",\"flea\",\"soil\",\"lung\",\"want\",\"nola\",\"fins\",\"thud\",\"kidd\",\"juan\",\"heps\",\"nape\",\"rash\",\"burt\",\"bump\",\"tots\",\"brit\",\"mums\",\"bole\",\"shah\",\"tees\",\"skip\",\"limb\",\"umps\",\"ache\",\"arcs\",\"raft\",\"halo\",\"luce\",\"bahs\",\"leta\",\"conk\",\"duos\",\"siva\",\"went\",\"peek\",\"sulk\",\"reap\",\"free\",\"dubs\",\"lang\",\"toto\",\"hasp\",\"ball\",\"rats\",\"nair\",\"myst\",\"wang\",\"snug\",\"nash\",\"laos\",\"ante\",\"opal\",\"tina\",\"pore\",\"bite\",\"haas\",\"myth\",\"yugo\",\"foci\",\"dent\",\"bade\",\"pear\",\"mods\",\"auto\",\"shop\",\"etch\",\"lyly\",\"curs\",\"aron\",\"slew\",\"tyro\",\"sack\",\"wade\",\"clio\",\"gyro\",\"butt\",\"icky\",\"char\",\"itch\",\"halt\",\"gals\",\"yang\",\"tend\",\"pact\",\"bees\",\"suit\",\"puny\",\"hows\",\"nina\",\"brno\",\"oops\",\"lick\",\"sons\",\"kilo\",\"bust\",\"nome\",\"mona\",\"dull\",\"join\",\"hour\",\"papa\",\"stag\",\"bern\",\"wove\",\"lull\",\"slip\",\"laze\",\"roil\",\"alto\",\"bath\",\"buck\",\"alma\",\"anus\",\"evil\",\"dumb\",\"oreo\",\"rare\",\"near\",\"cure\",\"isis\",\"hill\",\"kyle\",\"pace\",\"comb\",\"nits\",\"flip\",\"clop\",\"mort\",\"thea\",\"wall\",\"kiel\",\"judd\",\"coop\",\"dave\",\"very\",\"amie\",\"blah\",\"flub\",\"talc\",\"bold\",\"fogy\",\"idea\",\"prof\",\"horn\",\"shoo\",\"aped\",\"pins\",\"helm\",\"wees\",\"beer\",\"womb\",\"clue\",\"alba\",\"aloe\",\"fine\",\"bard\",\"limo\",\"shaw\",\"pint\",\"swim\",\"dust\",\"indy\",\"hale\",\"cats\",\"troy\",\"wens\",\"luke\",\"vern\",\"deli\",\"both\",\"brig\",\"daub\",\"sara\",\"sued\",\"bier\",\"noel\",\"olga\",\"dupe\",\"look\",\"pisa\",\"knox\",\"murk\",\"dame\",\"matt\",\"gold\",\"jame\",\"toge\",\"luck\",\"peck\",\"tass\",\"calf\",\"pill\",\"wore\",\"wadi\",\"thur\",\"parr\",\"maul\",\"tzar\",\"ones\",\"lees\",\"dark\",\"fake\",\"bast\",\"zoom\",\"here\",\"moro\",\"wine\",\"bums\",\"cows\",\"jean\",\"palm\",\"fume\",\"plop\",\"help\",\"tuba\",\"leap\",\"cans\",\"back\",\"avid\",\"lice\",\"lust\",\"polo\",\"dory\",\"stew\",\"kate\",\"rama\",\"coke\",\"bled\",\"mugs\",\"ajax\",\"arts\",\"drug\",\"pena\",\"cody\",\"hole\",\"sean\",\"deck\",\"guts\",\"kong\",\"bate\",\"pitt\",\"como\",\"lyle\",\"siam\",\"rook\",\"baby\",\"jigs\",\"bret\",\"bark\",\"lori\",\"reba\",\"sups\",\"made\",\"buzz\",\"gnaw\",\"alps\",\"clay\",\"post\",\"viol\",\"dina\",\"card\",\"lana\",\"doff\",\"yups\",\"tons\",\"live\",\"kids\",\"pair\",\"yawl\",\"name\",\"oven\",\"sirs\",\"gyms\",\"prig\",\"down\",\"leos\",\"noon\",\"nibs\",\"cook\",\"safe\",\"cobb\",\"raja\",\"awes\",\"sari\",\"nerd\",\"fold\",\"lots\",\"pete\",\"deal\",\"bias\",\"zeal\",\"girl\",\"rage\",\"cool\",\"gout\",\"whey\",\"soak\",\"thaw\",\"bear\",\"wing\",\"nagy\",\"well\",\"oink\",\"sven\",\"kurt\",\"etna\",\"held\",\"wood\",\"high\",\"feta\",\"twee\",\"ford\",\"cave\",\"knot\",\"tory\",\"ibis\",\"yaks\",\"vets\",\"foxy\",\"sank\",\"cone\",\"pius\",\"tall\",\"seem\",\"wool\",\"flap\",\"gird\",\"lore\",\"coot\",\"mewl\",\"sere\",\"real\",\"puts\",\"sell\",\"nuts\",\"foil\",\"lilt\",\"saga\",\"heft\",\"dyed\",\"goat\",\"spew\",\"daze\",\"frye\",\"adds\",\"glen\",\"tojo\",\"pixy\",\"gobi\",\"stop\",\"tile\",\"hiss\",\"shed\",\"hahn\",\"baku\",\"ahas\",\"sill\",\"swap\",\"also\",\"carr\",\"manx\",\"lime\",\"debs\",\"moat\",\"eked\",\"bola\",\"pods\",\"coon\",\"lacy\",\"tube\",\"minx\",\"buff\",\"pres\",\"clew\",\"gaff\",\"flee\",\"burn\",\"whom\",\"cola\",\"fret\",\"purl\",\"wick\",\"wigs\",\"donn\",\"guys\",\"toni\",\"oxen\",\"wite\",\"vial\",\"spam\",\"huts\",\"vats\",\"lima\",\"core\",\"eula\",\"thad\",\"peon\",\"erie\",\"oats\",\"boyd\",\"cued\",\"olaf\",\"tams\",\"secs\",\"urey\",\"wile\",\"penn\",\"bred\",\"rill\",\"vary\",\"sues\",\"mail\",\"feds\",\"aves\",\"code\",\"beam\",\"reed\",\"neil\",\"hark\",\"pols\",\"gris\",\"gods\",\"mesa\",\"test\",\"coup\",\"heed\",\"dora\",\"hied\",\"tune\",\"doze\",\"pews\",\"oaks\",\"bloc\",\"tips\",\"maid\",\"goof\",\"four\",\"woof\",\"silo\",\"bray\",\"zest\",\"kiss\",\"yong\",\"file\",\"hilt\",\"iris\",\"tuns\",\"lily\",\"ears\",\"pant\",\"jury\",\"taft\",\"data\",\"gild\",\"pick\",\"kook\",\"colt\",\"bohr\",\"anal\",\"asps\",\"babe\",\"bach\",\"mash\",\"biko\",\"bowl\",\"huey\",\"jilt\",\"goes\",\"guff\",\"bend\",\"nike\",\"tami\",\"gosh\",\"tike\",\"gees\",\"urge\",\"path\",\"bony\",\"jude\",\"lynn\",\"lois\",\"teas\",\"dunn\",\"elul\",\"bonn\",\"moms\",\"bugs\",\"slay\",\"yeah\",\"loan\",\"hulk\",\"lows\",\"damn\",\"nell\",\"jung\",\"avis\",\"mane\",\"waco\",\"loin\",\"knob\",\"tyke\",\"anna\",\"hire\",\"luau\",\"tidy\",\"nuns\",\"pots\",\"quid\",\"exec\",\"hans\",\"hera\",\"hush\",\"shag\",\"scot\",\"moan\",\"wald\",\"ursa\",\"lorn\",\"hunk\",\"loft\",\"yore\",\"alum\",\"mows\",\"slog\",\"emma\",\"spud\",\"rice\",\"worn\",\"erma\",\"need\",\"bags\",\"lark\",\"kirk\",\"pooh\",\"dyes\",\"area\",\"dime\",\"luvs\",\"foch\",\"refs\",\"cast\",\"alit\",\"tugs\",\"even\",\"role\",\"toed\",\"caph\",\"nigh\",\"sony\",\"bide\",\"robs\",\"folk\",\"daft\",\"past\",\"blue\",\"flaw\",\"sana\",\"fits\",\"barr\",\"riot\",\"dots\",\"lamp\",\"cock\",\"fibs\",\"harp\",\"tent\",\"hate\",\"mali\",\"togs\",\"gear\",\"tues\",\"bass\",\"pros\",\"numb\",\"emus\",\"hare\",\"fate\",\"wife\",\"mean\",\"pink\",\"dune\",\"ares\",\"dine\",\"oily\",\"tony\",\"czar\",\"spay\",\"push\",\"glum\",\"till\",\"moth\",\"glue\",\"dive\",\"scad\",\"pops\",\"woks\",\"andy\",\"leah\",\"cusp\",\"hair\",\"alex\",\"vibe\",\"bulb\",\"boll\",\"firm\",\"joys\",\"tara\",\"cole\",\"levy\",\"owen\",\"chow\",\"rump\",\"jail\",\"lapp\",\"beet\",\"slap\",\"kith\",\"more\",\"maps\",\"bond\",\"hick\",\"opus\",\"rust\",\"wist\",\"shat\",\"phil\",\"snow\",\"lott\",\"lora\",\"cary\",\"mote\",\"rift\",\"oust\",\"klee\",\"goad\",\"pith\",\"heep\",\"lupe\",\"ivan\",\"mimi\",\"bald\",\"fuse\",\"cuts\",\"lens\",\"leer\",\"eyry\",\"know\",\"razz\",\"tare\",\"pals\",\"geek\",\"greg\",\"teen\",\"clef\",\"wags\",\"weal\",\"each\",\"haft\",\"nova\",\"waif\",\"rate\",\"katy\",\"yale\",\"dale\",\"leas\",\"axum\",\"quiz\",\"pawn\",\"fend\",\"capt\",\"laws\",\"city\",\"chad\",\"coal\",\"nail\",\"zaps\",\"sort\",\"loci\",\"less\",\"spur\",\"note\",\"foes\",\"fags\",\"gulp\",\"snap\",\"bogs\",\"wrap\",\"dane\",\"melt\",\"ease\",\"felt\",\"shea\",\"calm\",\"star\",\"swam\",\"aery\",\"year\",\"plan\",\"odin\",\"curd\",\"mira\",\"mops\",\"shit\",\"davy\",\"apes\",\"inky\",\"hues\",\"lome\",\"bits\",\"vila\",\"show\",\"best\",\"mice\",\"gins\",\"next\",\"roan\",\"ymir\",\"mars\",\"oman\",\"wild\",\"heal\",\"plus\",\"erin\",\"rave\",\"robe\",\"fast\",\"hutu\",\"aver\",\"jodi\",\"alms\",\"yams\",\"zero\",\"revs\",\"wean\",\"chic\",\"self\",\"jeep\",\"jobs\",\"waxy\",\"duel\",\"seek\",\"spot\",\"raps\",\"pimp\",\"adan\",\"slam\",\"tool\",\"morn\",\"futz\",\"ewes\",\"errs\",\"knit\",\"rung\",\"kans\",\"muff\",\"huhs\",\"tows\",\"lest\",\"meal\",\"azov\",\"gnus\",\"agar\",\"sips\",\"sway\",\"otis\",\"tone\",\"tate\",\"epic\",\"trio\",\"tics\",\"fade\",\"lear\",\"owns\",\"robt\",\"weds\",\"five\",\"lyon\",\"terr\",\"arno\",\"mama\",\"grey\",\"disk\",\"sept\",\"sire\",\"bart\",\"saps\",\"whoa\",\"turk\",\"stow\",\"pyle\",\"joni\",\"zinc\",\"negs\",\"task\",\"leif\",\"ribs\",\"malt\",\"nine\",\"bunt\",\"grin\",\"dona\",\"nope\",\"hams\",\"some\",\"molt\",\"smit\",\"sacs\",\"joan\",\"slav\",\"lady\",\"base\",\"heck\",\"list\",\"take\",\"herd\",\"will\",\"nubs\",\"burg\",\"hugs\",\"peru\",\"coif\",\"zoos\",\"nick\",\"idol\",\"levi\",\"grub\",\"roth\",\"adam\",\"elma\",\"tags\",\"tote\",\"yaws\",\"cali\",\"mete\",\"lula\",\"cubs\",\"prim\",\"luna\",\"jolt\",\"span\",\"pita\",\"dodo\",\"puss\",\"deer\",\"term\",\"dolt\",\"goon\",\"gary\",\"yarn\",\"aims\",\"just\",\"rena\",\"tine\",\"cyst\",\"meld\",\"loki\",\"wong\",\"were\",\"hung\",\"maze\",\"arid\",\"cars\",\"wolf\",\"marx\",\"faye\",\"eave\",\"raga\",\"flow\",\"neal\",\"lone\",\"anne\",\"cage\",\"tied\",\"tilt\",\"soto\",\"opel\",\"date\",\"buns\",\"dorm\",\"kane\",\"akin\",\"ewer\",\"drab\",\"thai\",\"jeer\",\"grad\",\"berm\",\"rods\",\"saki\",\"grus\",\"vast\",\"late\",\"lint\",\"mule\",\"risk\",\"labs\",\"snit\",\"gala\",\"find\",\"spin\",\"ired\",\"slot\",\"oafs\",\"lies\",\"mews\",\"wino\",\"milk\",\"bout\",\"onus\",\"tram\",\"jaws\",\"peas\",\"cleo\",\"seat\",\"gums\",\"cold\",\"vang\",\"dewy\",\"hood\",\"rush\",\"mack\",\"yuan\",\"odes\",\"boos\",\"jami\",\"mare\",\"plot\",\"swab\",\"borg\",\"hays\",\"form\",\"mesh\",\"mani\",\"fife\",\"good\",\"gram\",\"lion\",\"myna\",\"moor\",\"skin\",\"posh\",\"burr\",\"rime\",\"done\",\"ruts\",\"pays\",\"stem\",\"ting\",\"arty\",\"slag\",\"iron\",\"ayes\",\"stub\",\"oral\",\"gets\",\"chid\",\"yens\",\"snub\",\"ages\",\"wide\",\"bail\",\"verb\",\"lamb\",\"bomb\",\"army\",\"yoke\",\"gels\",\"tits\",\"bork\",\"mils\",\"nary\",\"barn\",\"hype\",\"odom\",\"avon\",\"hewn\",\"rios\",\"cams\",\"tact\",\"boss\",\"oleo\",\"duke\",\"eris\",\"gwen\",\"elms\",\"deon\",\"sims\",\"quit\",\"nest\",\"font\",\"dues\",\"yeas\",\"zeta\",\"bevy\",\"gent\",\"torn\",\"cups\",\"worm\",\"baum\",\"axon\",\"purr\",\"vise\",\"grew\",\"govs\",\"meat\",\"chef\",\"rest\",\"lame\"]\n",
    "\n",
    "Solution().ladderLength(beginWord,endWord,wordList)\n"
   ]
  },
  {
   "cell_type": "code",
   "execution_count": null,
   "metadata": {},
   "outputs": [],
   "source": []
  },
  {
   "cell_type": "code",
   "execution_count": null,
   "metadata": {},
   "outputs": [],
   "source": []
  },
  {
   "cell_type": "markdown",
   "metadata": {},
   "source": [
    "## Max Product Subarray"
   ]
  },
  {
   "cell_type": "code",
   "execution_count": 400,
   "metadata": {},
   "outputs": [],
   "source": [
    "class Solution(object):\n",
    "    def maxProduct(self, nums):\n",
    "        \n",
    "        mp=0\n",
    "        cp=1\n",
    "        rec=-1\n",
    "        for i in range(1,len(nums)):\n",
    "            rec=min(cp,rec)\n",
    "            cp=nums[i-1]*nums[i]\n",
    "            nums[i]=max([cp,rec*nums[i],nums[i]])\n",
    "            print(cp,rec)\n",
    "        print(nums)\n",
    "        return max(nums)\n",
    "                "
   ]
  },
  {
   "cell_type": "code",
   "execution_count": 402,
   "metadata": {},
   "outputs": [
    {
     "name": "stdout",
     "output_type": "stream",
     "text": [
      "6 -1\n",
      "-24 -1\n",
      "[-2, 6, 4]\n"
     ]
    },
    {
     "data": {
      "text/plain": [
       "6"
      ]
     },
     "execution_count": 402,
     "metadata": {},
     "output_type": "execute_result"
    }
   ],
   "source": [
    "n=[-2,-3,-4]\n",
    "Solution().maxProduct(n)"
   ]
  },
  {
   "cell_type": "markdown",
   "metadata": {},
   "source": [
    "## Amazon Demo"
   ]
  },
  {
   "cell_type": "code",
   "execution_count": 876,
   "metadata": {},
   "outputs": [
    {
     "data": {
      "text/plain": [
       "2"
      ]
     },
     "execution_count": 876,
     "metadata": {},
     "output_type": "execute_result"
    }
   ],
   "source": [
    "def gcdcal(a,b):\n",
    "    if a<b:\n",
    "        return gcdcal(b,a)\n",
    "    else:\n",
    "        if a%b==0:\n",
    "            return b\n",
    "        else:\n",
    "            return gcdcal(b,a%b)\n",
    "        \n",
    "gcdcal(2,2)"
   ]
  },
  {
   "cell_type": "code",
   "execution_count": 877,
   "metadata": {},
   "outputs": [],
   "source": [
    "def generalizedGCD(num, arr):\n",
    "    \n",
    "    gcd=arr[0]\n",
    "    def gcdcal(a,b):\n",
    "        if a<b:\n",
    "            return gcdcal(b,a)\n",
    "        else:\n",
    "            if a%b==0:\n",
    "                return b\n",
    "            else:\n",
    "                return gcdcal(b,a%b)\n",
    "    \n",
    "    for i in range(len(arr)-1):\n",
    "        gcd=gcdcal(gcd,arr[i+1])\n",
    "        \n",
    "    return gcd"
   ]
  },
  {
   "cell_type": "code",
   "execution_count": 882,
   "metadata": {},
   "outputs": [
    {
     "data": {
      "text/plain": [
       "4"
      ]
     },
     "execution_count": 882,
     "metadata": {},
     "output_type": "execute_result"
    }
   ],
   "source": [
    "n=[4,8,16,32]\n",
    "generalizedGCD(len(n),n)"
   ]
  },
  {
   "cell_type": "code",
   "execution_count": 865,
   "metadata": {},
   "outputs": [],
   "source": [
    "def cellCompete(states, days):\n",
    "\n",
    "    def compete(st):\n",
    "        l=len(st)\n",
    "        i=0\n",
    "        prev=0\n",
    "        while i<l:\n",
    "            d=0\n",
    "            if (i<l-1 and prev+st[i+1] in [0,2]) or (i==l-1 and prev==0):\n",
    "                prev=st[i]\n",
    "                st[i]=0\n",
    "                d=1\n",
    "                \n",
    "            if d==0:\n",
    "                prev=st[i]\n",
    "                st[i]=1\n",
    "            i+=1\n",
    "        \n",
    "    for i in range(days):\n",
    "        compete(states)\n",
    "    \n",
    "    return states\n",
    "    "
   ]
  },
  {
   "cell_type": "code",
   "execution_count": 868,
   "metadata": {},
   "outputs": [
    {
     "data": {
      "text/plain": [
       "[0, 0, 0, 0, 0, 1, 1, 0]"
      ]
     },
     "execution_count": 868,
     "metadata": {},
     "output_type": "execute_result"
    }
   ],
   "source": [
    "st=[1,1,1,0,1,1,1,1]\n",
    "cellCompete(st,2)"
   ]
  },
  {
   "cell_type": "markdown",
   "metadata": {},
   "source": [
    "## Find Median in Array"
   ]
  },
  {
   "cell_type": "code",
   "execution_count": 701,
   "metadata": {},
   "outputs": [],
   "source": [
    "def findmediannlogn(n):\n",
    "    if len(n)==1:\n",
    "        return n[0]\n",
    "\n",
    "    n=sorted(n)\n",
    "    l=len(n)\n",
    "    if l%2==0:\n",
    "        return (n[l//2]+n[(l//2 - 1)])/2\n",
    "    return n[l//2]\n",
    "\n",
    "\n",
    "def findmediann(n):\n",
    "    \n",
    "    l=len(n)\n",
    "    if l==1:\n",
    "        return n[0]\n",
    "    \n",
    "    def quickselect(a,k):\n",
    "\n",
    "        if len(a)==1:\n",
    "            return a[0]\n",
    "        \n",
    "        la=len(a)\n",
    "        piv=a[random.randint(0,la-1)]\n",
    "        less=[le for le in a if le <= piv]\n",
    "        high=[hi for hi in a if hi > piv]\n",
    "        \n",
    "        if len(less)>k:\n",
    "            return quickselect(less,k)\n",
    "        else:\n",
    "            return quickselect(high,k-len(less))\n",
    "\n",
    "    def quickselectmedian(n, med):\n",
    "        if len(n)%2==0:\n",
    "            return (quickselect(n,med-1) + quickselect(n,med)) / 2\n",
    "        return quickselect(n,med)\n",
    "\n",
    "    med = l//2\n",
    "    return quickselect(n,med)\n",
    "    "
   ]
  },
  {
   "cell_type": "code",
   "execution_count": 702,
   "metadata": {},
   "outputs": [
    {
     "name": "stdout",
     "output_type": "stream",
     "text": [
      "5\n",
      "294000\n"
     ]
    }
   ],
   "source": [
    "import time\n",
    "n=[9,1,0,2,3,4,6,8,7,10,5]\n",
    "\n",
    "tic=time.time_ns()\n",
    "print(findmediannlogn(n))\n",
    "toc=time.time_ns()\n",
    "print(toc-tic)"
   ]
  },
  {
   "cell_type": "code",
   "execution_count": 703,
   "metadata": {},
   "outputs": [
    {
     "name": "stdout",
     "output_type": "stream",
     "text": [
      "5\n",
      "269000\n"
     ]
    }
   ],
   "source": [
    "n=[9,1,0,2,3,4,6,8,7,10,5]\n",
    "tic=time.time_ns()\n",
    "print(findmediann(n))\n",
    "toc=time.time_ns()\n",
    "print(toc-tic)"
   ]
  },
  {
   "cell_type": "code",
   "execution_count": null,
   "metadata": {},
   "outputs": [],
   "source": []
  }
 ],
 "metadata": {
  "kernelspec": {
   "display_name": "Python 3",
   "language": "python",
   "name": "python3"
  },
  "language_info": {
   "codemirror_mode": {
    "name": "ipython",
    "version": 3
   },
   "file_extension": ".py",
   "mimetype": "text/x-python",
   "name": "python",
   "nbconvert_exporter": "python",
   "pygments_lexer": "ipython3",
   "version": "3.7.3"
  }
 },
 "nbformat": 4,
 "nbformat_minor": 2
}
