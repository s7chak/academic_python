{
 "cells": [
  {
   "cell_type": "code",
   "execution_count": 1,
   "metadata": {},
   "outputs": [],
   "source": [
    "import math"
   ]
  },
  {
   "cell_type": "markdown",
   "metadata": {},
   "source": [
    "### Valid Palindrome 2"
   ]
  },
  {
   "cell_type": "code",
   "execution_count": 6,
   "metadata": {},
   "outputs": [],
   "source": [
    "class Solution(object):\n",
    "    def validPalindrome(self, s):\n",
    "        for i in range(len(s)):\n",
    "            if self.isPali(s[:i]+s[i+1:]):\n",
    "                print(s[:i]+s[i+1:])\n",
    "                return True\n",
    "        return False\n",
    "    \n",
    "    def isPali(self, s):\n",
    "        return (s==s[::-1])"
   ]
  },
  {
   "cell_type": "code",
   "execution_count": 34,
   "metadata": {},
   "outputs": [],
   "source": [
    "class Solution(object):\n",
    "    def validPalindrome(self, s):\n",
    "        l=len(s)\n",
    "        if self.isPali(s):\n",
    "            return True\n",
    "        \n",
    "        for i in range(l):\n",
    "            if s[i]!=s[-i-1]:\n",
    "                if self.isPali(s[:i]+s[i+1:]) or self.isPali(s[:l-i-1]+s[l-i:]):\n",
    "                    print(s[:i]+s[i+1:], s[:l-i-1]+s[l-i:])\n",
    "                    return True\n",
    "        return False\n",
    "    \n",
    "    def isPali(self, s):\n",
    "        return (s==s[::-1])"
   ]
  },
  {
   "cell_type": "code",
   "execution_count": 37,
   "metadata": {},
   "outputs": [
    {
     "data": {
      "text/plain": [
       "False"
      ]
     },
     "execution_count": 37,
     "metadata": {},
     "output_type": "execute_result"
    }
   ],
   "source": [
    "Solution().validPalindrome(s)"
   ]
  },
  {
   "cell_type": "code",
   "execution_count": 7,
   "metadata": {},
   "outputs": [],
   "source": [
    "def find_hidden_string(input_string):\n",
    "    s=input_string\n",
    "    l=len(s)\n",
    "    def isPali(s):\n",
    "        return (s==s[::-1])\n",
    "    if isPali(s):\n",
    "        return s\n",
    "    \n",
    "    for i in range(l):\n",
    "        if s[i]!=s[-i-1]:\n",
    "            if isPali(s[:i]+s[i+1:]):\n",
    "                return s[:i]+s[i+1:]\n",
    "            if isPali(s[:l-i-1]+s[l-i:]):\n",
    "                return s[:l-i-1]+s[l-i:]\n",
    "    return 'None'"
   ]
  },
  {
   "cell_type": "code",
   "execution_count": 69,
   "metadata": {},
   "outputs": [],
   "source": [
    "def find_hidden_string(input_string):\n",
    "    \n",
    "    st=set()\n",
    "    \n",
    "    def isPali(s):\n",
    "        return (s==s[::-1])\n",
    "    def pali(s, low, high, st):\n",
    "        while (low >= 0 and high < len(s) and s[low] == s[high]):\n",
    "            if low!=high:\n",
    "                st.add(s[low:high + 1])\n",
    "            low-=1\n",
    "            high+=1\n",
    "            \n",
    "    if isPali(input_string):\n",
    "        return input_string\n",
    "    for i in range(len(input_string)):\n",
    "        pali(input_string, i, i, st)\n",
    "        pali(input_string, i, i + 1, st)\n",
    "    \n",
    "    print(st)\n",
    "    if len(st)>0:\n",
    "        mx=max(len(i) for i in st)\n",
    "        l=list(st)\n",
    "        l=sorted(sorted(l), key=(lambda x: len(x)), reverse=True)\n",
    "        return l[0]\n",
    "        \n",
    "    return 'None'"
   ]
  },
  {
   "cell_type": "code",
   "execution_count": 71,
   "metadata": {},
   "outputs": [
    {
     "name": "stdout",
     "output_type": "stream",
     "text": [
      "{'yy', 'yFtFy', 'FtF'}\n"
     ]
    },
    {
     "data": {
      "text/plain": [
       "'yFtFy'"
      ]
     },
     "execution_count": 71,
     "metadata": {},
     "output_type": "execute_result"
    }
   ],
   "source": [
    "s='yyFtFy'\n",
    "find_hidden_string(s)"
   ]
  },
  {
   "cell_type": "code",
   "execution_count": 45,
   "metadata": {},
   "outputs": [],
   "source": [
    "def longestPalindromeSubseq(s: str) -> int:\n",
    "    r=s[::-1]\n",
    "    dp=[[0 for i in range(len(s)+1)] for j in range(len(s)+1)]\n",
    "    ans=[]\n",
    "    a=''\n",
    "    for i in range(1,len(s)+1):\n",
    "        for j in range(1,len(s)+1):\n",
    "            if s[i-1]==r[j-1]:\n",
    "                a+=s[i-1]\n",
    "                print(a,s[i-1],r[j-1])\n",
    "                dp[i][j]+=1+dp[i-1][j-1]\n",
    "            else:\n",
    "                dp[i][j]+=max(dp[i-1][j],dp[i][j-1])\n",
    "        ans.append(a)\n",
    "    return ans\n",
    "\n"
   ]
  },
  {
   "cell_type": "code",
   "execution_count": 46,
   "metadata": {},
   "outputs": [
    {
     "name": "stdout",
     "output_type": "stream",
     "text": [
      "w w w\n",
      "wa a a\n",
      "waa a a\n",
      "waab b b\n",
      "waabb b b\n",
      "waabbc c c\n",
      "waabbcc c c\n",
      "waabbccd d d\n",
      "waabbccdc c c\n",
      "waabbccdcc c c\n",
      "waabbccdccb b b\n",
      "waabbccdccbb b b\n",
      "waabbccdccbba a a\n",
      "waabbccdccbbaa a a\n",
      "waabbccdccbbaax x x\n"
     ]
    },
    {
     "data": {
      "text/plain": [
       "['w',\n",
       " 'waa',\n",
       " 'waabb',\n",
       " 'waabbcc',\n",
       " 'waabbccd',\n",
       " 'waabbccdcc',\n",
       " 'waabbccdccbb',\n",
       " 'waabbccdccbbaa',\n",
       " 'waabbccdccbbaax']"
      ]
     },
     "execution_count": 46,
     "metadata": {},
     "output_type": "execute_result"
    }
   ],
   "source": [
    "longestPalindromeSubseq('wabcdcbax')"
   ]
  },
  {
   "cell_type": "markdown",
   "metadata": {},
   "source": [
    "## LeetCode Contest"
   ]
  },
  {
   "cell_type": "code",
   "execution_count": 59,
   "metadata": {},
   "outputs": [],
   "source": [
    "class Solution(object):\n",
    "    def luckyNumbers (self, matrix):\n",
    "        mi=[]\n",
    "        for i in matrix:\n",
    "            mi.append(min(i))\n",
    "        r=len(matrix)\n",
    "        c=len(matrix[0])\n",
    "        \n",
    "        ans=[]\n",
    "        for j in range(c):\n",
    "            col=[matrix[i][j] for i in range(r)]\n",
    "            for m in mi:\n",
    "                print(m,col)\n",
    "                if m==max(col):\n",
    "                    ans.append(m)\n",
    "        \n",
    "                \n",
    "        return ans"
   ]
  },
  {
   "cell_type": "code",
   "execution_count": 60,
   "metadata": {},
   "outputs": [
    {
     "name": "stdout",
     "output_type": "stream",
     "text": [
      "3 [3, 9, 15]\n",
      "9 [3, 9, 15]\n",
      "15 [3, 9, 15]\n",
      "3 [7, 11, 16]\n",
      "9 [7, 11, 16]\n",
      "15 [7, 11, 16]\n",
      "3 [8, 13, 17]\n",
      "9 [8, 13, 17]\n",
      "15 [8, 13, 17]\n"
     ]
    },
    {
     "data": {
      "text/plain": [
       "[15]"
      ]
     },
     "execution_count": 60,
     "metadata": {},
     "output_type": "execute_result"
    }
   ],
   "source": [
    "matrix = [[3,7,8],[9,11,13],[15,16,17]]\n",
    "\n",
    "Solution().luckyNumbers(matrix)"
   ]
  },
  {
   "cell_type": "markdown",
   "metadata": {},
   "source": [
    "## Custom Stack Increment"
   ]
  },
  {
   "cell_type": "code",
   "execution_count": 23,
   "metadata": {},
   "outputs": [],
   "source": [
    "from collections import deque\n",
    "class CustomStack(object):\n",
    "\n",
    "    def __init__(self, maxSize):\n",
    "        self.l=deque()\n",
    "        self.s=maxSize\n",
    "        \n",
    "\n",
    "    def push(self, x):\n",
    "        if len(self.l)<self.s:\n",
    "            self.l.append(x)\n",
    "        return\n",
    "        \n",
    "\n",
    "    def pop(self):\n",
    "        if len(self.l)>0:\n",
    "            return self.l.pop()\n",
    "        return\n",
    "        \n",
    "\n",
    "    def increment(self, k, val):\n",
    "        if k<len(self.l):\n",
    "            for i in range(k):\n",
    "                self.l[i]+=val\n",
    "        else:\n",
    "            for i in range(len(self.l)):\n",
    "                self.l[i]+=val\n",
    "        return\n",
    "\n"
   ]
  },
  {
   "cell_type": "code",
   "execution_count": 76,
   "metadata": {},
   "outputs": [],
   "source": [
    "obj = CustomStack(3)\n",
    "obj.push(1)\n",
    "obj.push(2)\n",
    "obj.push(3)\n",
    "\n",
    "obj.increment(2,100)\n",
    "obj.pop()"
   ]
  },
  {
   "cell_type": "markdown",
   "metadata": {},
   "source": [
    "## Balance a BST"
   ]
  },
  {
   "cell_type": "code",
   "execution_count": 347,
   "metadata": {},
   "outputs": [],
   "source": [
    "class TreeNode(object):\n",
    "    def __init__(self, x):\n",
    "        self.val = x\n",
    "        self.left = None\n",
    "        self.right = None\n",
    "        \n",
    "class Solution(object):\n",
    "\n",
    "    def balanceBST(self, root):\n",
    "        l=self.height(root.left)\n",
    "        r=self.height(root.right)\n",
    "        print(l,r)\n",
    "        if l not in range(r-1,r+2):\n",
    "            for i in range(abs(l-r)//2):\n",
    "                if l>r:\n",
    "                    root=self.rotateRight(root)\n",
    "                    print(root.val)\n",
    "                else:\n",
    "                    root=self.rotateLeft(root)\n",
    "                    print(root.val)\n",
    "        return root\n",
    "    \n",
    "    def rotateRight(self, r):\n",
    "        if r:\n",
    "            t=TreeNode(r.val)\n",
    "            t.right=r.right\n",
    "            if not r.left.right:\n",
    "                r.left.right=t\n",
    "            else:\n",
    "                if t.val<r.left.right.val:\n",
    "                    t.right=TreeNode(r.left.right.val)\n",
    "                    if r.left.right.left:\n",
    "                        t.left=r.left.right.left\n",
    "                    r.left.right=t\n",
    "                else:\n",
    "                    r.left.right.right=t\n",
    "            return r.left\n",
    "        \n",
    "    def rotateLeft(self, r):\n",
    "        if r:\n",
    "            t=TreeNode(r.val)\n",
    "            t.left=r.left\n",
    "            if r.right:\n",
    "                r.right.left=t\n",
    "                return r.right\n",
    "            else:\n",
    "                return r\n",
    "        \n",
    "        \n",
    "    def height(self, root):\n",
    "        if root:\n",
    "            return max(self.height(root.left), self.height(root.right))+1\n",
    "        return 0"
   ]
  },
  {
   "cell_type": "code",
   "execution_count": 234,
   "metadata": {},
   "outputs": [],
   "source": [
    "r=TreeNode(1)\n",
    "r.right=TreeNode(2)\n",
    "r.right.right=TreeNode(3)\n",
    "r.right.right.right=TreeNode(4)\n"
   ]
  },
  {
   "cell_type": "code",
   "execution_count": 235,
   "metadata": {},
   "outputs": [
    {
     "name": "stdout",
     "output_type": "stream",
     "text": [
      "0 3\n",
      "2\n"
     ]
    }
   ],
   "source": [
    "x=Solution().balanceBST(r)\n"
   ]
  },
  {
   "cell_type": "markdown",
   "metadata": {},
   "source": [
    "## Max Performance"
   ]
  },
  {
   "cell_type": "code",
   "execution_count": 89,
   "metadata": {},
   "outputs": [],
   "source": [
    "class Solution(object):\n",
    "    def maxPerformance(self, n, speed, efficiency, k):\n",
    "        l=0\n",
    "        r=k-1\n",
    "        mx=0\n",
    "        while r<n:\n",
    "            p=sum(speed[l:r])*min(efficiency[l:r])\n",
    "            mx=max(mx,p)\n",
    "            \n",
    "            \n",
    "        return mx%(10**9+7)"
   ]
  },
  {
   "cell_type": "code",
   "execution_count": 90,
   "metadata": {},
   "outputs": [
    {
     "ename": "KeyboardInterrupt",
     "evalue": "",
     "output_type": "error",
     "traceback": [
      "\u001b[0;31m---------------------------------------------------------------------------\u001b[0m",
      "\u001b[0;31mKeyboardInterrupt\u001b[0m                         Traceback (most recent call last)",
      "\u001b[0;32m<ipython-input-90-2a7968d79e7c>\u001b[0m in \u001b[0;36m<module>\u001b[0;34m\u001b[0m\n\u001b[1;32m      4\u001b[0m \u001b[0mk\u001b[0m \u001b[0;34m=\u001b[0m \u001b[0;36m4\u001b[0m\u001b[0;34m\u001b[0m\u001b[0;34m\u001b[0m\u001b[0m\n\u001b[1;32m      5\u001b[0m \u001b[0;34m\u001b[0m\u001b[0m\n\u001b[0;32m----> 6\u001b[0;31m \u001b[0mSolution\u001b[0m\u001b[0;34m(\u001b[0m\u001b[0;34m)\u001b[0m\u001b[0;34m.\u001b[0m\u001b[0mmaxPerformance\u001b[0m\u001b[0;34m(\u001b[0m\u001b[0mn\u001b[0m\u001b[0;34m,\u001b[0m\u001b[0mspeed\u001b[0m\u001b[0;34m,\u001b[0m\u001b[0mefficiency\u001b[0m\u001b[0;34m,\u001b[0m\u001b[0mk\u001b[0m\u001b[0;34m)\u001b[0m\u001b[0;34m\u001b[0m\u001b[0;34m\u001b[0m\u001b[0m\n\u001b[0m",
      "\u001b[0;32m<ipython-input-89-29d89d17e9a1>\u001b[0m in \u001b[0;36mmaxPerformance\u001b[0;34m(self, n, speed, efficiency, k)\u001b[0m\n\u001b[1;32m      5\u001b[0m         \u001b[0mmx\u001b[0m\u001b[0;34m=\u001b[0m\u001b[0;36m0\u001b[0m\u001b[0;34m\u001b[0m\u001b[0;34m\u001b[0m\u001b[0m\n\u001b[1;32m      6\u001b[0m         \u001b[0;32mwhile\u001b[0m \u001b[0mr\u001b[0m\u001b[0;34m<\u001b[0m\u001b[0mn\u001b[0m\u001b[0;34m:\u001b[0m\u001b[0;34m\u001b[0m\u001b[0;34m\u001b[0m\u001b[0m\n\u001b[0;32m----> 7\u001b[0;31m             \u001b[0mp\u001b[0m\u001b[0;34m=\u001b[0m\u001b[0msum\u001b[0m\u001b[0;34m(\u001b[0m\u001b[0mspeed\u001b[0m\u001b[0;34m[\u001b[0m\u001b[0ml\u001b[0m\u001b[0;34m:\u001b[0m\u001b[0mr\u001b[0m\u001b[0;34m]\u001b[0m\u001b[0;34m)\u001b[0m\u001b[0;34m*\u001b[0m\u001b[0mmin\u001b[0m\u001b[0;34m(\u001b[0m\u001b[0mefficiency\u001b[0m\u001b[0;34m[\u001b[0m\u001b[0ml\u001b[0m\u001b[0;34m:\u001b[0m\u001b[0mr\u001b[0m\u001b[0;34m]\u001b[0m\u001b[0;34m)\u001b[0m\u001b[0;34m\u001b[0m\u001b[0;34m\u001b[0m\u001b[0m\n\u001b[0m\u001b[1;32m      8\u001b[0m             \u001b[0mmx\u001b[0m\u001b[0;34m=\u001b[0m\u001b[0mmax\u001b[0m\u001b[0;34m(\u001b[0m\u001b[0mmx\u001b[0m\u001b[0;34m,\u001b[0m\u001b[0mp\u001b[0m\u001b[0;34m)\u001b[0m\u001b[0;34m\u001b[0m\u001b[0;34m\u001b[0m\u001b[0m\n\u001b[1;32m      9\u001b[0m \u001b[0;34m\u001b[0m\u001b[0m\n",
      "\u001b[0;31mKeyboardInterrupt\u001b[0m: "
     ]
    }
   ],
   "source": [
    "n = 6\n",
    "speed = [2,10,3,1,5,8]\n",
    "efficiency = [5,4,3,9,7,2] \n",
    "k = 4\n",
    "\n",
    "Solution().maxPerformance(n,speed,efficiency,k)"
   ]
  },
  {
   "cell_type": "markdown",
   "metadata": {},
   "source": [
    "## Word Pattern"
   ]
  },
  {
   "cell_type": "code",
   "execution_count": 16,
   "metadata": {},
   "outputs": [],
   "source": [
    "class Solution(object):\n",
    "    def wordPattern(self, pattern, str):\n",
    "        if str:\n",
    "            w=str.split(' ')\n",
    "            if len(w)!=len(pattern):\n",
    "                return False\n",
    "            a={}\n",
    "\n",
    "            for i in range(len(w)):\n",
    "                print(a)\n",
    "                if pattern[i] in a:\n",
    "                    if w[i]!=a[pattern[i]]:\n",
    "                        return False\n",
    "                else:\n",
    "                    if w[i] in a.values():\n",
    "                        return False\n",
    "                    a[pattern[i]]=w[i]\n",
    "            return True"
   ]
  },
  {
   "cell_type": "code",
   "execution_count": 21,
   "metadata": {},
   "outputs": [
    {
     "name": "stdout",
     "output_type": "stream",
     "text": [
      "{}\n",
      "{'a': 'c'}\n",
      "{'a': 'c', 'b': 'd'}\n",
      "{'a': 'c', 'b': 'd'}\n"
     ]
    },
    {
     "data": {
      "text/plain": [
       "False"
      ]
     },
     "execution_count": 21,
     "metadata": {},
     "output_type": "execute_result"
    }
   ],
   "source": [
    "pattern='abbc'\n",
    "str='c d d c'\n",
    "Solution().wordPattern(pattern, str)"
   ]
  },
  {
   "cell_type": "code",
   "execution_count": 22,
   "metadata": {},
   "outputs": [
    {
     "name": "stdout",
     "output_type": "stream",
     "text": [
      "[0, 1, 1, 3]\n",
      "[0, 1, 1, 0]\n"
     ]
    }
   ],
   "source": [
    "slist = str.split()\n",
    "[pattern.find(x) for x in pattern] == [slist.index(x) for x in str_list]"
   ]
  },
  {
   "cell_type": "markdown",
   "metadata": {},
   "source": [
    "## Absolute Permutation - HackerRank"
   ]
  },
  {
   "cell_type": "code",
   "execution_count": 27,
   "metadata": {},
   "outputs": [],
   "source": [
    "def absolutePermutation(n, k):\n",
    "    ans=[]\n",
    "    s=set()\n",
    "    for i in range(1,n+1):\n",
    "        if i-k>0 and i-k<=n and i-k not in s:\n",
    "            ans.append(i-k)\n",
    "            s.add(i-k)\n",
    "        elif i+k>0 and i+k<=n and i+k not in s:\n",
    "            ans.append(i+k)\n",
    "            s.add(i+k)\n",
    "        else:\n",
    "            return [-1]\n",
    "    return ans\n"
   ]
  },
  {
   "cell_type": "code",
   "execution_count": 28,
   "metadata": {},
   "outputs": [
    {
     "data": {
      "text/plain": [
       "[2, 1, 4, 3, 6, 5, 8, 7, 10, 9]"
      ]
     },
     "execution_count": 28,
     "metadata": {},
     "output_type": "execute_result"
    }
   ],
   "source": [
    "absolutePermutation(10,1)"
   ]
  },
  {
   "cell_type": "markdown",
   "metadata": {},
   "source": [
    "## Bomberman Game"
   ]
  },
  {
   "cell_type": "code",
   "execution_count": 234,
   "metadata": {},
   "outputs": [],
   "source": [
    "from collections import defaultdict\n",
    "def bomberMan(n, grid):\n",
    "    bombs=defaultdict(list)\n",
    "    grid=[split_str(r) for r in grid]\n",
    "    getbombs(grid, bombs, 0)\n",
    "    for i in range(1,n+1):\n",
    "        grid, bombs = state(i, n, grid, bombs)\n",
    "    ans= [''.join(g) for g in grid]\n",
    "    return ans\n",
    "\n",
    "def split_str(s):\n",
    "    return [ch for ch in s]\n",
    "\n",
    "def state(r, n, grid, bombs):\n",
    "    if r<3:\n",
    "        if r==1:\n",
    "            pass\n",
    "        if r==2:\n",
    "            fillin(grid, r, bombs)\n",
    "        return grid, bombs\n",
    "    else:\n",
    "#         if r%2!=0:\n",
    "#             fillin(grid, r, bombs)\n",
    "        if r-3 in bombs:\n",
    "            explode(grid, bombs, r-3)\n",
    "        else:\n",
    "            fillin(grid, r, bombs)\n",
    "        \n",
    "    return grid, bombs\n",
    "\n",
    "def fillin(grid, r, bombs):\n",
    "    for i in range(len(grid)):\n",
    "        for j in range(len(grid[0])):\n",
    "            if grid[i][j]!='O':\n",
    "                grid[i][j]='O'\n",
    "                bombs[r].append((i,j))\n",
    "    print(bombs)\n",
    "\n",
    "def getbombs(grid, bombs, r):\n",
    "    for i in range(len(grid)):\n",
    "        for j in range(len(grid[0])):\n",
    "            if grid[i][j]=='O':\n",
    "                bombs[r].append((i,j))\n",
    "        \n",
    "def explode(grid, bombs, r):\n",
    "    for b in bombs[r]:\n",
    "        grid[b[0]][b[1]]='.'\n",
    "        if b[0]<len(grid)-1:\n",
    "            grid[b[0]+1][b[1]]='.'\n",
    "        if b[0]>0:\n",
    "            grid[b[0]-1][b[1]]='.'\n",
    "        if b[1]<len(grid)-1:\n",
    "            grid[b[0]][b[1]+1]='.'\n",
    "        if b[1]>0:\n",
    "            grid[b[0]][b[1]-1]='.'\n",
    "    \n",
    "    return grid\n",
    "        \n",
    "    "
   ]
  },
  {
   "cell_type": "code",
   "execution_count": 241,
   "metadata": {},
   "outputs": [
    {
     "name": "stdout",
     "output_type": "stream",
     "text": [
      "defaultdict(<class 'list'>, {0: [(1, 3), (1, 5), (2, 4), (3, 2), (4, 0), (4, 1), (4, 5), (4, 6), (5, 0), (5, 1), (5, 3)], 2: [(0, 0), (0, 1), (0, 2), (0, 3), (0, 4), (0, 5), (0, 6), (1, 0), (1, 1), (1, 2), (1, 4), (1, 6), (2, 0), (2, 1), (2, 2), (2, 3), (2, 5), (2, 6), (3, 0), (3, 1), (3, 3), (3, 4), (3, 5), (3, 6), (4, 2), (4, 3), (4, 4), (5, 2), (5, 4), (5, 5), (5, 6)]})\n"
     ]
    },
    {
     "data": {
      "text/plain": [
       "['OOOOOOO', 'OOOOOOO', 'OOOOOOO', 'OOOOOOO', 'OOOOOOO', 'OOOOOOO']"
      ]
     },
     "execution_count": 241,
     "metadata": {},
     "output_type": "execute_result"
    }
   ],
   "source": [
    "g=['.......',\n",
    "'...O.O.',\n",
    "'....O..',\n",
    "'..O....',\n",
    "'OO...OO',\n",
    "'OO.O...']\n",
    "\n",
    "\n",
    "n=2\n",
    "bomberMan(n,g)"
   ]
  },
  {
   "cell_type": "markdown",
   "metadata": {},
   "source": [
    "## Similar String Groups"
   ]
  },
  {
   "cell_type": "code",
   "execution_count": 321,
   "metadata": {},
   "outputs": [],
   "source": [
    "class Solution(object):\n",
    "    def numSimilarGroups(self, A):\n",
    "        g=[[] for j in range(len(A))]\n",
    "        for i in range(len(A)):\n",
    "            for j in range(i+1,len(A)):\n",
    "                if self.similar(A[i],A[j]):\n",
    "                    g[i].append(j)\n",
    "                    g[j].append(i)\n",
    "        c=1\n",
    "        print(g)\n",
    "        for x in g:\n",
    "            if len(x)==0:\n",
    "                c+=1\n",
    "        return c\n",
    "    \n",
    "    def similar(self, a, b):\n",
    "        cn=0\n",
    "        for c in range(len(a)):\n",
    "            if a[c]!=b[c]:\n",
    "                cn+=1\n",
    "            if cn>2:\n",
    "                return False\n",
    "        return True\n",
    "                    "
   ]
  },
  {
   "cell_type": "code",
   "execution_count": 322,
   "metadata": {},
   "outputs": [
    {
     "name": "stdout",
     "output_type": "stream",
     "text": [
      "[[1], [0], [3], [2], []]\n"
     ]
    },
    {
     "data": {
      "text/plain": [
       "2"
      ]
     },
     "execution_count": 322,
     "metadata": {},
     "output_type": "execute_result"
    }
   ],
   "source": [
    "A=[\"jvhpg\",\"jhvpg\",\"hpvgj\",\"hvpgj\",\"vhgjp\"]\n",
    "Solution().numSimilarGroups(A)"
   ]
  },
  {
   "cell_type": "markdown",
   "metadata": {},
   "source": [
    "## Complex Number Multiplication"
   ]
  },
  {
   "cell_type": "code",
   "execution_count": 46,
   "metadata": {},
   "outputs": [],
   "source": [
    "class Solution:\n",
    "    def complexNumberMultiply(self, a: str, b: str) -> str:\n",
    "        \n",
    "        ast=a.split('+')\n",
    "        bst=b.split('+')\n",
    "        return self.multiply(ast,bst)\n",
    "    \n",
    "    def multiply(self,a,b):\n",
    "        \n",
    "        r=''\n",
    "        i=''\n",
    "        (r1,i1)=self.getrealim(a)\n",
    "        (r2,i2)=self.getrealim(b)\n",
    "\n",
    "        r+=str(r1*r2 - i1*i2)\n",
    "        i+=str(r1*i2+r2*i1)+'i'\n",
    "        \n",
    "        return r+'+'+i\n",
    "        \n",
    "\n",
    "    def getrealim(self,a):\n",
    "        r1,i1=0,0\n",
    "        if len(a)>1:\n",
    "            r1=int(a[0])\n",
    "            i1=int(a[1].split('i')[0])\n",
    "        elif 'i' in a[0]:\n",
    "            i1=int(a[0].split('i')[0])\n",
    "        else:\n",
    "            r1=int(a[0])\n",
    "            \n",
    "        return r1,i1\n",
    "      "
   ]
  },
  {
   "cell_type": "code",
   "execution_count": 47,
   "metadata": {},
   "outputs": [
    {
     "data": {
      "text/plain": [
       "'5+-5i'"
      ]
     },
     "execution_count": 47,
     "metadata": {},
     "output_type": "execute_result"
    }
   ],
   "source": [
    "Solution().complexNumberMultiply('-1+-2i','1+3i')"
   ]
  },
  {
   "cell_type": "markdown",
   "metadata": {},
   "source": [
    "## Longest Palindromic Subsequence"
   ]
  },
  {
   "cell_type": "code",
   "execution_count": 113,
   "metadata": {},
   "outputs": [],
   "source": [
    "from collections import defaultdict\n",
    "class Solution:\n",
    "    def longestPalindromeSubseq(self, s: str) -> int:\n",
    "        r=s[::-1]\n",
    "        dp=[[0 for i in range(len(s)+1)] for j in range(len(s)+1)]\n",
    "        \n",
    "        for i in range(1,len(s)+1):\n",
    "            for j in range(1,len(s)+1):\n",
    "                if s[i-1]==r[j-1]:\n",
    "                    dp[i][j]+=1+dp[i-1][j-1]\n",
    "                else:\n",
    "                    dp[i][j]+=max(dp[i-1][j],dp[i][j-1])\n",
    "\n",
    "        return dp[-1][-1]\n",
    "        "
   ]
  },
  {
   "cell_type": "code",
   "execution_count": 115,
   "metadata": {},
   "outputs": [
    {
     "data": {
      "text/plain": [
       "9"
      ]
     },
     "execution_count": 115,
     "metadata": {},
     "output_type": "execute_result"
    }
   ],
   "source": [
    "s='abcdefedcbdn'\n",
    "Solution().longestPalindromeSubseq(s)"
   ]
  },
  {
   "cell_type": "markdown",
   "metadata": {},
   "source": [
    "## Lowest Common Subsequence"
   ]
  },
  {
   "cell_type": "code",
   "execution_count": 112,
   "metadata": {},
   "outputs": [],
   "source": [
    "class Solution:\n",
    "    def longestCommonSubsequence(self, text1: str, text2: str) -> int:\n",
    "        dp=[[0 for i in range(len(text2)+1)] for j in range(len(text1)+1)]\n",
    "        \n",
    "        for i in range(1,len(text1)+1):\n",
    "            for j in range(1,len(text2)+1):\n",
    "                if text1[i-1]==text2[j-1]:\n",
    "                    dp[i][j]+=1+dp[i-1][j-1]\n",
    "                else:\n",
    "                    dp[i][j]+=max(dp[i-1][j],dp[i][j-1])\n",
    "\n",
    "        return dp[-1][-1]"
   ]
  },
  {
   "cell_type": "markdown",
   "metadata": {},
   "source": [
    "## Sort by frequency"
   ]
  },
  {
   "cell_type": "code",
   "execution_count": 122,
   "metadata": {},
   "outputs": [],
   "source": [
    "from collections import defaultdict\n",
    "class Solution(object):\n",
    "    def frequencySort(self, s):\n",
    "        d=defaultdict(int)\n",
    "        for c in s:\n",
    "            d[c]+=1\n",
    "        \n",
    "        x={k: v for k, v in sorted(d.items(), key=lambda item: item[1], reverse=True)}\n",
    "        a=''\n",
    "        for k in x:\n",
    "            a+=k*x[k]\n",
    "        return a"
   ]
  },
  {
   "cell_type": "code",
   "execution_count": 123,
   "metadata": {},
   "outputs": [
    {
     "data": {
      "text/plain": [
       "'eeettrs'"
      ]
     },
     "execution_count": 123,
     "metadata": {},
     "output_type": "execute_result"
    }
   ],
   "source": [
    "Solution().frequencySort('treeest')"
   ]
  },
  {
   "cell_type": "code",
   "execution_count": null,
   "metadata": {},
   "outputs": [],
   "source": []
  },
  {
   "cell_type": "code",
   "execution_count": 397,
   "metadata": {},
   "outputs": [],
   "source": [
    "class TreeNode(object):\n",
    "    def __init__(self, x):\n",
    "        self.val = x\n",
    "        self.left = None\n",
    "        self.right = None\n",
    "\n",
    "class Codec:\n",
    "\n",
    "    def serialize(self, root):\n",
    "        if not root:\n",
    "            return []\n",
    "        q=[root]\n",
    "        order=[]\n",
    "        def bfs():\n",
    "            while q:\n",
    "                f=q.pop(0)\n",
    "                if f:\n",
    "                    order.append(str(f.val) )\n",
    "                    q.append(f.left)\n",
    "                    q.append(f.right)\n",
    "                else: order.append('null')\n",
    "        bfs()\n",
    "        while order[-1]=='null' :\n",
    "            order.pop(-1)\n",
    "        out='['+\",\".join(order)+']'\n",
    "        print(out)\n",
    "        return out\n",
    "            \n",
    "    def getserealized(self, root, a):\n",
    "        if root:\n",
    "            a+=self.getserealized(root.left, a)+'.'+str(root.val)+'.'+self.getserealized(root.right, a)\n",
    "            return a\n",
    "        else:\n",
    "            a+='N'\n",
    "            return a\n",
    "        \n",
    "\n",
    "    def deserialize(self, data):\n",
    "        \"\"\"Decodes your encoded data to tree.\n",
    "        \n",
    "        :type data: str\n",
    "        :rtype: TreeNode\n",
    "        \"\"\""
   ]
  },
  {
   "cell_type": "code",
   "execution_count": 159,
   "metadata": {},
   "outputs": [
    {
     "name": "stdout",
     "output_type": "stream",
     "text": [
      "[1,2,3,4,null,5]\n"
     ]
    },
    {
     "data": {
      "text/plain": [
       "'[1,2,3,4,null,5]'"
      ]
     },
     "execution_count": 159,
     "metadata": {},
     "output_type": "execute_result"
    }
   ],
   "source": [
    "r=TreeNode(1)\n",
    "r.left=TreeNode(2)\n",
    "r.right=TreeNode(3)\n",
    "r.left.left=TreeNode(4)\n",
    "r.right.left=TreeNode(5)\n",
    "Codec().serialize(r)"
   ]
  },
  {
   "cell_type": "code",
   "execution_count": 155,
   "metadata": {},
   "outputs": [
    {
     "data": {
      "text/plain": [
       "1"
      ]
     },
     "execution_count": 155,
     "metadata": {},
     "output_type": "execute_result"
    }
   ],
   "source": [
    "r.val"
   ]
  },
  {
   "cell_type": "markdown",
   "metadata": {},
   "source": [
    "## Max Sliding Window"
   ]
  },
  {
   "cell_type": "code",
   "execution_count": 165,
   "metadata": {},
   "outputs": [],
   "source": [
    "class Solution:\n",
    "    def maxSlidingWindow(self, nums: [int], k: int) -> [int]:\n",
    "        ans=[]\n",
    "        for i in range(len(nums)-k+1):\n",
    "            ans.append(max(nums[i:i+k]))\n",
    "        \n",
    "        return ans"
   ]
  },
  {
   "cell_type": "code",
   "execution_count": 202,
   "metadata": {},
   "outputs": [],
   "source": [
    "class Solution:\n",
    "    def maxSlidingWindow(self, nums: [int], k: int) -> [int]:\n",
    "        return [max(nums[i - (k - 1): i + 1]) for i in range(k - 1, len(nums), 1)]"
   ]
  },
  {
   "cell_type": "code",
   "execution_count": 203,
   "metadata": {},
   "outputs": [
    {
     "data": {
      "text/plain": [
       "[3, 5, 5, 6, 7]"
      ]
     },
     "execution_count": 203,
     "metadata": {},
     "output_type": "execute_result"
    }
   ],
   "source": [
    "n=[1,3,-1,-3,5,3,6,7]\n",
    "Solution().maxSlidingWindow(n,4)"
   ]
  },
  {
   "cell_type": "markdown",
   "metadata": {},
   "source": [
    "## Search 2D Matrix"
   ]
  },
  {
   "cell_type": "code",
   "execution_count": 236,
   "metadata": {},
   "outputs": [],
   "source": [
    "class Solution:\n",
    "    def searchMatrix(self, matrix, target):\n",
    "        \n",
    "        if len(matrix)>0 and len(matrix[0])>0:\n",
    "            rows=[]\n",
    "            for i in range(len(matrix)):\n",
    "                if target==matrix[i][0] or target==matrix[i][-1]:\n",
    "                    return True\n",
    "                elif target>matrix[i][0] and target<matrix[i][-1]:\n",
    "                    rows.append(i)\n",
    "\n",
    "            for r in rows:\n",
    "                if target in matrix[r]:\n",
    "                    return True\n",
    "        return False"
   ]
  },
  {
   "cell_type": "code",
   "execution_count": 240,
   "metadata": {},
   "outputs": [
    {
     "data": {
      "text/plain": [
       "True"
      ]
     },
     "execution_count": 240,
     "metadata": {},
     "output_type": "execute_result"
    }
   ],
   "source": [
    "x=[\n",
    "  [1,   4,  7, 11, 15],\n",
    "  [2,   5,  8, 12, 19],\n",
    "  [3,   6,  9, 16, 22],\n",
    "  [10, 13, 14, 17, 24],\n",
    "  [18, 21, 23, 26, 30]\n",
    "]\n",
    "Solution().searchMatrix(x,24)"
   ]
  },
  {
   "cell_type": "markdown",
   "metadata": {},
   "source": [
    "## Lowest Common Ancestor Binary Tree"
   ]
  },
  {
   "cell_type": "code",
   "execution_count": 496,
   "metadata": {},
   "outputs": [],
   "source": [
    "class Solution(object):\n",
    "    def lowestCommonAncestor(self, root, p, q):\n",
    "        return self.lca(root,p,q)\n",
    "    \n",
    "    def lca(self,r,p,q):\n",
    "        if r:\n",
    "            print('Root: ',r.val)\n",
    "            if (r.val==p and (self.search(r.left,q) or self.search(r.right,q))) or (r.val==q and (self.search(r.left,p) or self.search(r.right,p))):\n",
    "                return r\n",
    "            elif (self.search(r.left,p) and self.search(r.right,q)) or (self.search(r.left,q) and self.search(r.right,p)):\n",
    "                return r\n",
    "            l=self.lca(r.left,p,q)\n",
    "            r=self.lca(r.right,p,q)\n",
    "            return (l if l else r)\n",
    "        return\n",
    "                \n",
    "        \n",
    "    def search(self, r, v):\n",
    "        if r:\n",
    "            print('searching ',r.val)\n",
    "            if r.val==v:\n",
    "                print('Found',v)\n",
    "                return True\n",
    "            else:\n",
    "                return self.search(r.left,v) or self.search(r.right,v)\n",
    "        return False\n",
    "    \n",
    "    "
   ]
  },
  {
   "cell_type": "code",
   "execution_count": 504,
   "metadata": {},
   "outputs": [],
   "source": [
    "class Solution:\n",
    "    def lowestCommonAncestor(self, root: 'TreeNode', p: 'TreeNode', q: 'TreeNode') -> 'TreeNode':\n",
    "        return self.lca(root,p.val,q.val)\n",
    "    \n",
    "    def lca(self,r,p,q):\n",
    "        if r:\n",
    "            pathp=[]\n",
    "            pathq=[]\n",
    "            self.findPath(r,pathp,p)\n",
    "            self.findPath(r,pathq,q)\n",
    "            print('Path P')\n",
    "            for x in pathp:\n",
    "                print(x.val)\n",
    "            print('Path Q')\n",
    "            for x in pathq:\n",
    "                print(x.val)\n",
    "                \n",
    "            if len(pathp)>0 and len(pathq)>0:\n",
    "                if pathp[0].val!=pathq[0].val:\n",
    "                    return\n",
    "                else:\n",
    "                    i=1\n",
    "                    j=1\n",
    "                    while i<len(pathp) and i<len(pathq):\n",
    "                        if pathp[i].val!=pathq[i].val:\n",
    "                            break\n",
    "                        i+=1\n",
    "                return pathp[i-1]\n",
    "        return\n",
    "                \n",
    "    def findPath(self, root, path, k):\n",
    "        if root==None:\n",
    "            return False\n",
    "        path.append(root)\n",
    "        \n",
    "        if root.val == k : \n",
    "            return True\n",
    "\n",
    "        if ((root.left != None and self.findPath(root.left, path, k)) or\n",
    "                (root.right!= None and self.findPath(root.right, path, k))): \n",
    "            return True\n",
    "\n",
    "        path.pop()\n",
    "        return False"
   ]
  },
  {
   "cell_type": "code",
   "execution_count": 526,
   "metadata": {},
   "outputs": [],
   "source": [
    "class Solution(object):\n",
    "    def lowestCommonAncestor(self, root, p, q):\n",
    "        if root == None:\n",
    "            return\n",
    "        print(root.val)\n",
    "        if root==p or root==q:\n",
    "            return root\n",
    "        \n",
    "        llca = self.lowestCommonAncestor(root.left, p, q)  \n",
    "        rlca = self.lowestCommonAncestor(root.right, p, q) \n",
    "        \n",
    "        if llca and rlca:\n",
    "            return root\n",
    "        \n",
    "        return (llca if llca else rlca)"
   ]
  },
  {
   "cell_type": "code",
   "execution_count": 547,
   "metadata": {},
   "outputs": [],
   "source": [
    "class Solution:\n",
    "    def lowestCommonAncestor(self, root: 'TreeNode', p: 'TreeNode', q: 'TreeNode') -> 'TreeNode':\n",
    "        stack_p = self.dfs(root, p)\n",
    "        stack_q = self.dfs(root, q)\n",
    "        print('P: ')\n",
    "        for s in stack_p:\n",
    "            print(s.val)\n",
    "        print()\n",
    "        \n",
    "        print('Q: ')\n",
    "        for s in stack_q:\n",
    "            print(s.val)\n",
    "        min_len = min(len(stack_p), len(stack_q))\n",
    "        for i in range(min_len):\n",
    "            if stack_p[i] != stack_q[i]:\n",
    "                return stack_p[i-1]\n",
    "        return stack_p[min_len-1]\n",
    "         \n",
    "    def dfs(self, root, target):\n",
    "        stack, cur , last =[], root, None\n",
    "        while cur or stack:\n",
    "            while cur:\n",
    "                stack.append(cur)\n",
    "                cur = cur.left\n",
    "            node = stack[-1]\n",
    "            if node.right and node.right != last:\n",
    "                cur = node.right\n",
    "            else:\n",
    "                if node == target:\n",
    "                    return stack\n",
    "                stack.pop()\n",
    "                last = node"
   ]
  },
  {
   "cell_type": "code",
   "execution_count": 597,
   "metadata": {},
   "outputs": [
    {
     "name": "stdout",
     "output_type": "stream",
     "text": [
      "P: \n",
      "3\n",
      "5\n",
      "2\n",
      "4\n",
      "\n",
      "Q: \n",
      "3\n",
      "1\n",
      "0\n"
     ]
    }
   ],
   "source": [
    "r=TreeNode(3)\n",
    "r.left=TreeNode(5)\n",
    "r.right=TreeNode(1)\n",
    "r.left.left=TreeNode(6)\n",
    "r.left.right=TreeNode(2)\n",
    "r.right.left=TreeNode(0)\n",
    "r.right.right=TreeNode(8)\n",
    "r.left.right.left=TreeNode(7)\n",
    "r.left.right.right=TreeNode(4)\n",
    "\n",
    "x=Solution().lowestCommonAncestor(r, r.left.right.right, r.right.left)"
   ]
  },
  {
   "cell_type": "markdown",
   "metadata": {},
   "source": [
    "## Most Frequent Subtree Sum"
   ]
  },
  {
   "cell_type": "code",
   "execution_count": 769,
   "metadata": {},
   "outputs": [],
   "source": [
    "class Solution:\n",
    "    def findFrequentTreeSum(self, root: TreeNode) -> [int]:\n",
    "        if root:\n",
    "            sums=defaultdict(int)\n",
    "            \n",
    "            def sumnode(r):\n",
    "                if not r:\n",
    "                    return 0\n",
    "                if not r.left and not r.right:\n",
    "                    sums[r.val]+=1\n",
    "                    return r.val\n",
    "                \n",
    "                lsum=sumnode(r.left)\n",
    "                rsum=sumnode(r.right)\n",
    "                total=r.val+lsum+rsum\n",
    "                sums[total]+=1\n",
    "                return total\n",
    "            \n",
    "            sumnode(root)\n",
    "            print(sums)\n",
    "            most_freq = 0\n",
    "            res = []\n",
    "            for tree_sum , count in sums.items():\n",
    "                if count > most_freq:\n",
    "                    most_freq = count\n",
    "                    res = []\n",
    "                if count == most_freq:\n",
    "                    res.append(tree_sum)\n",
    "            return res\n",
    "        return []\n",
    "                \n",
    "                \n",
    "#     def sumnode(self, r, s):\n",
    "#         if not r:\n",
    "#             return\n",
    "        \n",
    "#         if r.left==None and r.right==None:\n",
    "#             return s+r.val\n",
    "        \n",
    "#         if r.left:\n",
    "#             s=self.sumnode(r.left,s)\n",
    "#         if r.right:\n",
    "#             s=self.sumnode(r.right,s)\n",
    "#         return s+r.val"
   ]
  },
  {
   "cell_type": "code",
   "execution_count": 770,
   "metadata": {},
   "outputs": [
    {
     "name": "stdout",
     "output_type": "stream",
     "text": [
      "defaultdict(<class 'int'>, {1: 2, 2: 2, -1: 2, 0: 1})\n"
     ]
    },
    {
     "data": {
      "text/plain": [
       "[1, 2, -1]"
      ]
     },
     "execution_count": 770,
     "metadata": {},
     "output_type": "execute_result"
    }
   ],
   "source": [
    "Solution().findFrequentTreeSum(r)"
   ]
  },
  {
   "cell_type": "code",
   "execution_count": 764,
   "metadata": {},
   "outputs": [
    {
     "name": "stdout",
     "output_type": "stream",
     "text": [
      "defaultdict(<class 'int'>, {0: 1, -1: 2, 2: 2, 1: 2})\n"
     ]
    },
    {
     "data": {
      "text/plain": [
       "[-1, 2, 1]"
      ]
     },
     "execution_count": 764,
     "metadata": {},
     "output_type": "execute_result"
    }
   ],
   "source": [
    "r=TreeNode(0)\n",
    "r.left=TreeNode(-2)\n",
    "r.right=TreeNode(-2)\n",
    "r.left.left=TreeNode(1)\n",
    "r.left.right=TreeNode(2)\n",
    "r.right.left=TreeNode(2)\n",
    "r.right.right=TreeNode(-1)\n",
    "\n",
    "Solution().findFrequentTreeSum(r)"
   ]
  },
  {
   "cell_type": "code",
   "execution_count": null,
   "metadata": {},
   "outputs": [],
   "source": [
    "[49655,204166,38535,-1313,-5722,-186592,-19389,-22049,-2328,-166939,86119,38530,-66221,66175,231614,257921,84318,219795,-180421,93408,61441,83664,98999,-36488,65154,181827,66842,-1739,-83455,-66985,-38038,-12628,-46224,-79030]"
   ]
  },
  {
   "cell_type": "code",
   "execution_count": null,
   "metadata": {},
   "outputs": [],
   "source": []
  },
  {
   "cell_type": "code",
   "execution_count": null,
   "metadata": {},
   "outputs": [],
   "source": []
  },
  {
   "cell_type": "code",
   "execution_count": null,
   "metadata": {},
   "outputs": [],
   "source": []
  },
  {
   "cell_type": "code",
   "execution_count": null,
   "metadata": {},
   "outputs": [],
   "source": []
  },
  {
   "cell_type": "code",
   "execution_count": 594,
   "metadata": {},
   "outputs": [],
   "source": [
    "import random\n",
    "class RandomizedSet:\n",
    "\n",
    "    def __init__(self):\n",
    "        self.s=set()\n",
    "        \n",
    "\n",
    "    def insert(self, val: int) -> bool:\n",
    "        if val not in self.s:\n",
    "            self.s.add(val)\n",
    "            return True\n",
    "        return False\n",
    "        \n",
    "\n",
    "    def remove(self, val: int) -> bool:\n",
    "        if val in self.s:\n",
    "            self.s.remove(val)\n",
    "            return True\n",
    "        return False\n",
    "\n",
    "    def getRandom(self) -> int:\n",
    "        i=random.randint(0,len(self.s)-1)\n",
    "        print(self.s,i)\n",
    "        return list(self.s)[i]"
   ]
  },
  {
   "cell_type": "code",
   "execution_count": 595,
   "metadata": {},
   "outputs": [
    {
     "name": "stdout",
     "output_type": "stream",
     "text": [
      "{10, 20} 0\n"
     ]
    },
    {
     "data": {
      "text/plain": [
       "10"
      ]
     },
     "execution_count": 595,
     "metadata": {},
     "output_type": "execute_result"
    }
   ],
   "source": [
    "r=RandomizedSet()\n",
    "r.insert(30)\n",
    "r.insert(20)\n",
    "r.insert(10)\n",
    "r.insert(30)\n",
    "r.remove(30)\n",
    "r.getRandom()"
   ]
  },
  {
   "cell_type": "code",
   "execution_count": 593,
   "metadata": {},
   "outputs": [
    {
     "name": "stdout",
     "output_type": "stream",
     "text": [
      "None\n"
     ]
    }
   ],
   "source": [
    "s=set([1,2,3])\n",
    "x=s.add(2)\n",
    "print(x)"
   ]
  },
  {
   "cell_type": "markdown",
   "metadata": {},
   "source": [
    "## Design Twitter"
   ]
  },
  {
   "cell_type": "code",
   "execution_count": 344,
   "metadata": {},
   "outputs": [],
   "source": [
    "from collections import defaultdict\n",
    "class Twitter:\n",
    "\n",
    "    def __init__(self):\n",
    "        self.users=defaultdict(list)\n",
    "        self.tweets=defaultdict(dict)\n",
    "        self.tcounter=0\n",
    "        \n",
    "        \n",
    "\n",
    "    def postTweet(self, userId: int, tweetId: int) -> None:\n",
    "        self.tcounter+=1\n",
    "        self.tweets[userId][self.tcounter]=tweetId\n",
    "#         print(\"TWEETS:\",self.tweets)\n",
    "        \n",
    "        \n",
    "\n",
    "    def getNewsFeed(self, userId: int) -> [int]:\n",
    "        nf=[]\n",
    "        nf=self.tweets[userId]\n",
    "#         print(\"TWEETS:\",self.tweets)\n",
    "        \n",
    "        for u in self.users[userId]:\n",
    "            nf.update(self.tweets[u])\n",
    "\n",
    "        nf={k:v for k,v in sorted(nf.items(), reverse=True)[:10]}\n",
    "        x=[v for v in nf.values()]\n",
    "        return x\n",
    "\n",
    "    def follow(self, followerId: int, followeeId: int) -> None:\n",
    "        if followerId!=followeeId:\n",
    "            self.users[followerId].append(followeeId)\n",
    "        \n",
    "\n",
    "    def unfollow(self, followerId: int, followeeId: int) -> None:\n",
    "        if followeeId in self.users[followerId] and followerId!=followeeId:\n",
    "            self.users[followerId].remove(followeeId)\n",
    "            self.tweets[followerId]={k: v for k, v in self.tweets[followerId].items() if k not in self.tweets[followeeId]}\n",
    "        \n",
    "        \n"
   ]
  },
  {
   "cell_type": "code",
   "execution_count": 345,
   "metadata": {},
   "outputs": [],
   "source": [
    "[\"Twitter\",\"postTweet\",\"getNewsFeed\",\"follow\",\"postTweet\",\"getNewsFeed\",\"unfollow\",\"getNewsFeed\"]\n",
    "[[],[1,5],[1],[1,2],[2,6],[1],[1,2],[1]]\n",
    "\n",
    "obj = Twitter()\n",
    "obj.postTweet(1,1)\n",
    "obj.postTweet(1,2)\n",
    "obj.postTweet(1,3)\n",
    "obj.postTweet(1,4)\n",
    "obj.postTweet(1,5)\n",
    "obj.postTweet(1,6)\n",
    "obj.postTweet(1,7)\n",
    "obj.postTweet(1,8)\n",
    "obj.postTweet(1,9)\n",
    "obj.postTweet(1,13)\n",
    "obj.postTweet(1,14)\n",
    "p1 = obj.getNewsFeed(1)\n",
    "obj.unfollow(1,1)\n",
    "# obj.follow(1,3)\n",
    "obj.postTweet(2,15)\n",
    "obj.postTweet(2,16)\n",
    "obj.postTweet(3,17)\n",
    "obj.postTweet(3,18)\n",
    "p2 = obj.getNewsFeed(1)\n",
    "obj.unfollow(1,2)\n",
    "p3 = obj.getNewsFeed(1)"
   ]
  },
  {
   "cell_type": "code",
   "execution_count": 346,
   "metadata": {},
   "outputs": [
    {
     "name": "stdout",
     "output_type": "stream",
     "text": [
      "[14, 13, 9, 8, 7, 6, 5, 4, 3, 2] [14, 13, 9, 8, 7, 6, 5, 4, 3, 2] [14, 13, 9, 8, 7, 6, 5, 4, 3, 2]\n"
     ]
    }
   ],
   "source": [
    "print(p1,p2,p3)"
   ]
  },
  {
   "cell_type": "code",
   "execution_count": 339,
   "metadata": {},
   "outputs": [
    {
     "data": {
      "text/plain": [
       "{2, 3, 4, 5, 6, 7, 8, 9, 13, 14}"
      ]
     },
     "execution_count": 339,
     "metadata": {},
     "output_type": "execute_result"
    }
   ],
   "source": [
    "obj.unfollow(1,3)\n",
    "obj.getNewsFeed(1)"
   ]
  },
  {
   "cell_type": "markdown",
   "metadata": {},
   "source": [
    "## Random Lines"
   ]
  },
  {
   "cell_type": "code",
   "execution_count": 55,
   "metadata": {},
   "outputs": [],
   "source": [
    "import matplotlib.pyplot as plt\n",
    "import random\n",
    "\n",
    "def plotline(p1,p2):\n",
    "    plt.plot(p1,p2,c='blue')\n",
    "    return\n",
    "    \n",
    "def makelines(n, r):\n",
    "    plt.figure(figsize=(r+1,r+1))\n",
    "    lines=[]\n",
    "    for i in range(n):\n",
    "        hv=random.randint(0,10)\n",
    "        if hv%2==0:\n",
    "            x1=random.randint(0,r)\n",
    "            x2=random.randint(0,r)\n",
    "            y1,y2=hv,hv\n",
    "        else:\n",
    "            y1=random.randint(0,r)\n",
    "            y2=random.randint(0,r)\n",
    "            x1,x2=hv,hv\n",
    "        p1=(x1,y1)\n",
    "        p2=(x2,y2)\n",
    "        plotline((x1,x2),(y1,y2))\n",
    "        lines.append([p1,p2])\n",
    "    return lines\n",
    "\n",
    "\n",
    "def scan(lines, r):\n",
    "    for i in range(r):\n",
    "        for l in range(len(lines)):\n",
    "            if lines[l][0][0]==i:\n",
    "                print('Line no.',l+1)\n",
    "                \n",
    "        \n",
    "    \n",
    "    "
   ]
  },
  {
   "cell_type": "code",
   "execution_count": 56,
   "metadata": {},
   "outputs": [
    {
     "name": "stdout",
     "output_type": "stream",
     "text": [
      "Line  1 [(3, 0), (3, 0)]\n",
      "Line  2 [(7, 0), (5, 0)]\n",
      "Line  3 [(5, 5), (5, 7)]\n",
      "Line  4 [(5, 2), (10, 2)]\n",
      "Line  5 [(9, 0), (9, 1)]\n",
      "Line  6 [(3, 5), (3, 8)]\n",
      "Line  7 [(5, 0), (8, 0)]\n",
      "Line  8 [(1, 8), (4, 8)]\n",
      "Line  9 [(1, 10), (2, 10)]\n",
      "Line  10 [(9, 2), (7, 2)]\n",
      "Line  11 [(2, 0), (7, 0)]\n",
      "Line  12 [(9, 0), (9, 7)]\n",
      "Line  13 [(1, 7), (1, 7)]\n",
      "Line  14 [(6, 8), (8, 8)]\n",
      "Line  15 [(10, 6), (5, 6)]\n",
      "Line  16 [(7, 2), (7, 7)]\n",
      "Line  17 [(8, 0), (9, 0)]\n",
      "Line  18 [(5, 4), (10, 4)]\n",
      "Line  19 [(3, 9), (3, 2)]\n",
      "Line  20 [(7, 10), (2, 10)]\n",
      "\n",
      "Line no. 8\n",
      "Line no. 9\n",
      "Line no. 13\n",
      "Line no. 11\n",
      "Line no. 1\n",
      "Line no. 6\n",
      "Line no. 19\n",
      "Line no. 3\n",
      "Line no. 4\n",
      "Line no. 7\n",
      "Line no. 18\n",
      "Line no. 14\n",
      "Line no. 2\n",
      "Line no. 16\n",
      "Line no. 20\n",
      "Line no. 17\n",
      "Line no. 5\n",
      "Line no. 10\n",
      "Line no. 12\n"
     ]
    },
    {
     "data": {
      "image/png": "[encoded data removed]",
      "text/plain": [
       "<Figure size 792x792 with 1 Axes>"
      ]
     },
     "metadata": {
      "needs_background": "light"
     },
     "output_type": "display_data"
    }
   ],
   "source": [
    "r=10\n",
    "lines=makelines(20,r)\n",
    "for i in range(len(lines)):\n",
    "    print('Line ',i+1, lines[i])\n",
    "\n",
    "print()\n",
    "scan(lines,r)"
   ]
  },
  {
   "cell_type": "markdown",
   "metadata": {},
   "source": [
    "## Find if number is Fibonacci"
   ]
  },
  {
   "cell_type": "code",
   "execution_count": 18,
   "metadata": {},
   "outputs": [],
   "source": [
    "import matplotlib.pyplot as plt\n",
    "def isFib(n):\n",
    "    a=[0,1]\n",
    "    for i in range(2,n):\n",
    "        a.append(a[i-1]+a[i-2])\n",
    "        if a[i]==n:\n",
    "            return True\n",
    "    plt.scatter(range(n),a)\n",
    "    plt.figure(figsize=(10,10))\n",
    "    return False"
   ]
  },
  {
   "cell_type": "code",
   "execution_count": 22,
   "metadata": {},
   "outputs": [
    {
     "data": {
      "text/plain": [
       "False"
      ]
     },
     "execution_count": 22,
     "metadata": {},
     "output_type": "execute_result"
    },
    {
     "data": {
      "image/png": "[encoded data removed]",
      "text/plain": [
       "<Figure size 432x288 with 1 Axes>"
      ]
     },
     "metadata": {
      "needs_background": "light"
     },
     "output_type": "display_data"
    },
    {
     "data": {
      "text/plain": [
       "<Figure size 720x720 with 0 Axes>"
      ]
     },
     "metadata": {},
     "output_type": "display_data"
    }
   ],
   "source": [
    "isFib(20)"
   ]
  },
  {
   "cell_type": "code",
   "execution_count": null,
   "metadata": {},
   "outputs": [],
   "source": []
  }
 ],
 "metadata": {
  "kernelspec": {
   "display_name": "Python 3",
   "language": "python",
   "name": "python3"
  },
  "language_info": {
   "codemirror_mode": {
    "name": "ipython",
    "version": 3
   },
   "file_extension": ".py",
   "mimetype": "text/x-python",
   "name": "python",
   "nbconvert_exporter": "python",
   "pygments_lexer": "ipython3",
   "version": "3.7.3"
  }
 },
 "nbformat": 4,
 "nbformat_minor": 2
}
