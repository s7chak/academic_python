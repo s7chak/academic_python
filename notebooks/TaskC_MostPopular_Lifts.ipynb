{
 "cells": [
  {
   "cell_type": "markdown",
   "metadata": {},
   "source": [
    "## Popularity Calculation"
   ]
  },
  {
   "cell_type": "code",
   "execution_count": 3,
   "metadata": {},
   "outputs": [],
   "source": [
    "import nltk\n",
    "from nltk import ngrams, FreqDist\n",
    "from nltk.tokenize import sent_tokenize, word_tokenize, RegexpTokenizer\n",
    "from nltk.corpus import stopwords, webtext\n",
    "import numpy as np\n",
    "import pandas as pd\n",
    "import matplotlib.pyplot as plt\n",
    "from itertools import groupby\n",
    "from collections import Counter"
   ]
  },
  {
   "cell_type": "code",
   "execution_count": 4,
   "metadata": {},
   "outputs": [
    {
     "name": "stderr",
     "output_type": "stream",
     "text": [
      "[nltk_data] Downloading package averaged_perceptron_tagger to\n",
      "[nltk_data]     /Users/subhayuchakravarty/nltk_data...\n",
      "[nltk_data]   Package averaged_perceptron_tagger is already up-to-\n",
      "[nltk_data]       date!\n"
     ]
    },
    {
     "data": {
      "text/plain": [
       "True"
      ]
     },
     "execution_count": 4,
     "metadata": {},
     "output_type": "execute_result"
    }
   ],
   "source": [
    "stop = stopwords.words('english')\n",
    "stop.extend(['thing','anything','much','something','my','we','lot','day','get','dealer','way','would','like','car','cars','said'])\n",
    "nltk.download('averaged_perceptron_tagger')"
   ]
  },
  {
   "cell_type": "code",
   "execution_count": 5,
   "metadata": {},
   "outputs": [
    {
     "data": {
      "text/plain": [
       "(5164, 4)"
      ]
     },
     "execution_count": 5,
     "metadata": {},
     "output_type": "execute_result"
    }
   ],
   "source": [
    "df = pd.read_csv('posts.csv')\n",
    "df.shape"
   ]
  },
  {
   "cell_type": "code",
   "execution_count": 6,
   "metadata": {},
   "outputs": [],
   "source": [
    "df['comments'] = df['comments'].astype(str)\n",
    "mask = [isinstance(item, (str)) for item in df['comments']]\n",
    "df = df.loc[mask]\n",
    "df['allcomments'] = df['comments']"
   ]
  },
  {
   "cell_type": "code",
   "execution_count": 10,
   "metadata": {},
   "outputs": [],
   "source": [
    "carmodels=pd.read_csv('models-edit.csv', header=None)"
   ]
  },
  {
   "cell_type": "code",
   "execution_count": 11,
   "metadata": {},
   "outputs": [],
   "source": [
    "# For replacing car models with brand names\n",
    "brand_replace={'acura':['acura'],'audi':['audi'],'bmw':['bmw'],'buick':['buick'],'cadillac':['cadillac'],'chevrolet':['chevrolet'],'chrysler':['chrysler'],'dodge':['dodge'],'ford':['ford'],'honda':['honda'],'hyundai':['hyundai'],'infiniti':['infiniti'],'kia':['kia'],'lincoln':['lincoln'],'mazda':['mazda'],'mercedes':['mercedes'],'nissan':['nissan'],'subaru':['subaru'],'pontiac':['pontiac'],'suzuki':['suzuki'],'toyota':['toyota'],'volkswagen':['volkswagen'],'volvo':['volvo'],'car':[]}\n",
    "for x in carmodels.values:\n",
    "    if(x[0] in brand_replace.keys()):\n",
    "        brand_replace[x[0]].append(x[1])\n",
    "        "
   ]
  },
  {
   "cell_type": "code",
   "execution_count": 12,
   "metadata": {},
   "outputs": [
    {
     "data": {
      "text/plain": [
       "['audi',\n",
       " 'quattro',\n",
       " 'a4',\n",
       " 'a6',\n",
       " 'a5',\n",
       " 'a7',\n",
       " 'q3',\n",
       " 'q5',\n",
       " 'q7',\n",
       " 'a8',\n",
       " 's4',\n",
       " 'a3',\n",
       " 'audis',\n",
       " 'audi0']"
      ]
     },
     "execution_count": 12,
     "metadata": {},
     "output_type": "execute_result"
    }
   ],
   "source": [
    "brand_replace['audi']"
   ]
  },
  {
   "cell_type": "code",
   "execution_count": 13,
   "metadata": {},
   "outputs": [],
   "source": [
    "# Synonymous words for replacement\n",
    "performwords=['powerful','power','mileage','speed','smooth']\n",
    "stylewords=['look','looks','stylish','gorgeous','classy']\n",
    "luxurywords=['comfort','convenience','high-end','luxurious','expensive','fancy','grand']\n",
    "costwords=['costs','cheap','prices','pricing','economic']\n",
    "bigwords=['big','spacious','space','room','huge','leg-space','bigger']\n",
    "influencewords=['wife','family','relative','relatives','cousin']"
   ]
  },
  {
   "cell_type": "code",
   "execution_count": 14,
   "metadata": {},
   "outputs": [],
   "source": [
    "def replaceBrand(row):\n",
    "    for k,values in brand_replace.items():\n",
    "        for v in values:\n",
    "            if row is not None:\n",
    "                lrow=row.lower()\n",
    "                if v in lrow:\n",
    "                    return lrow.replace(v,k.upper())\n",
    "                else:\n",
    "                    lrow=row\n",
    "    return lrow"
   ]
  },
  {
   "cell_type": "code",
   "execution_count": 15,
   "metadata": {},
   "outputs": [],
   "source": [
    "# Replacements\n",
    "for com in df['comments']:\n",
    "    for word in stop:\n",
    "        t = com.lower()\n",
    "        com = t.replace(word,'')\n",
    "        "
   ]
  },
  {
   "cell_type": "code",
   "execution_count": 16,
   "metadata": {},
   "outputs": [],
   "source": [
    "df['comments'] = df['comments'].apply(replaceBrand)\n",
    "\n",
    "for luxury in luxurywords:\n",
    "    df['comments'] = df['comments'].str.replace(luxury, 'luxury')\n",
    "for performance in performwords:\n",
    "    df['comments'] = df['comments'].str.replace(performance, \"performance\")\n",
    "for style in stylewords:\n",
    "    df['comments'] = df['comments'].str.replace(style, \"style\")\n",
    "for cost in costwords:\n",
    "    df['comments'] = df['comments'].str.replace(cost, \"price\")\n",
    "for big in bigwords:\n",
    "    df['comments'] = df['comments'].str.replace(big, \"space\")\n",
    "for influence in influencewords:\n",
    "    df['comments'] = df['comments'].str.replace(influence, \"influencer\")"
   ]
  },
  {
   "cell_type": "code",
   "execution_count": 17,
   "metadata": {},
   "outputs": [],
   "source": [
    "def removeStop(wordsList):\n",
    "    return [i for i in wordsList if i not in stop]"
   ]
  },
  {
   "cell_type": "code",
   "execution_count": 18,
   "metadata": {},
   "outputs": [
    {
     "name": "stdout",
     "output_type": "stream",
     "text": [
      "[('nissanion', 'NN'), ('still', 'RB'), ('AUDI', 'NNP'), ('4', 'CD'), ('though', 'IN'), ('AUDI', 'NNP'), ('need', 'VBP'), ('schedule', 'JJ'), ('return', 'NN'), ('miles', 'NNS'), ('promised', 'VBD'), ('drive', 'NN'), ('least', 'NN'), ('twice', 'JJ'), ('week', 'NN'), ('work', 'NN'), ('tomorrow', 'NN'), ('thurs', 'VBZ'), ('probably', 'RB'), ('return', 'JJ'), ('weekend', 'NN'), ('due', 'JJ'), ('date', 'NN'), ('sept', 'VBD'), ('3rd', 'CD')]\n"
     ]
    }
   ],
   "source": [
    "tokenizer=RegexpTokenizer(r'\\w+')\n",
    "tagList=[]\n",
    "for com in df['comments']:\n",
    "    wordsList = tokenizer.tokenize(com)\n",
    "    wordsList = removeStop(wordsList)\n",
    "    tagged = nltk.pos_tag(wordsList) \n",
    "    tagList.append(tagged)\n",
    "#     tagList.append(wordsList)\n",
    "print(tagList[0])"
   ]
  },
  {
   "cell_type": "code",
   "execution_count": 19,
   "metadata": {},
   "outputs": [],
   "source": [
    "# Flattening into a bag of words\n",
    "wordSoup = [y for x in tagList for y in x]"
   ]
  },
  {
   "cell_type": "code",
   "execution_count": 113,
   "metadata": {},
   "outputs": [
    {
     "data": {
      "text/plain": [
       "[(('AUDI', 'NNP'), 1163),\n",
       " (('BMW', 'NNP'), 943),\n",
       " (('ACURA', 'NNP'), 814),\n",
       " (('CAR', 'NNP'), 174),\n",
       " (('CADILLAC', 'NNP'), 110),\n",
       " (('HONDA', 'NNP'), 98),\n",
       " (('FORD', 'NNP'), 83),\n",
       " (('HYUNDAI', 'NNP'), 75),\n",
       " (('BMWs', 'NNP'), 64),\n",
       " (('VOLKSWAGEN', 'NNP'), 63),\n",
       " (('AUDIs', 'NNP'), 60),\n",
       " (('AUDI0', 'NNP'), 46),\n",
       " (('CHEVROLET', 'NNP'), 43),\n",
       " (('TOYOTA', 'NNP'), 43),\n",
       " (('x', 'NNP'), 42),\n",
       " (('ACURAs', 'NNP'), 38),\n",
       " (('DODGE', 'NNP'), 38),\n",
       " (('My', 'NNP'), 37),\n",
       " (('MERCEDES', 'NNP'), 36),\n",
       " (('AWD', 'NNP'), 35)]"
      ]
     },
     "execution_count": 113,
     "metadata": {},
     "output_type": "execute_result"
    }
   ],
   "source": [
    "# Getting most common Proper nouns and common/abstract nouns\n",
    "nounList = [word for word in wordSoup if word[1]=='NNP']\n",
    "adjectiveList = [word for word in wordSoup if (word[1]=='NN')]\n",
    "\n",
    "nouncountList = Counter(nounList)\n",
    "nouncountList.most_common(20)\n"
   ]
  },
  {
   "cell_type": "code",
   "execution_count": 233,
   "metadata": {},
   "outputs": [
    {
     "data": {
      "text/plain": [
       "[(('performance', 'NN'), 1547),\n",
       " (('price', 'NN'), 1070),\n",
       " (('time', 'NN'), 885),\n",
       " (('luxury', 'NN'), 758),\n",
       " (('drive', 'NN'), 587),\n",
       " (('space', 'NN'), 545),\n",
       " (('year', 'NN'), 478),\n",
       " (('series', 'NN'), 474),\n",
       " (('bmw', 'NN'), 473),\n",
       " (('sport', 'NN'), 466),\n",
       " (('engine', 'NN'), 462),\n",
       " (('style', 'NN'), 438),\n",
       " (('model', 'NN'), 413),\n",
       " (('money', 'NN'), 400),\n",
       " (('class', 'NN'), 356),\n",
       " (('influencer', 'NN'), 335),\n",
       " (('course', 'NN'), 334),\n",
       " (('s4', 'NN'), 332),\n",
       " (('market', 'NN'), 327),\n",
       " (('brand', 'NN'), 325),\n",
       " (('point', 'NN'), 323),\n",
       " (('cost', 'NN'), 322),\n",
       " (('tlx', 'NN'), 315),\n",
       " (('today', 'NN'), 295),\n",
       " (('test', 'NN'), 289)]"
      ]
     },
     "execution_count": 233,
     "metadata": {},
     "output_type": "execute_result"
    }
   ],
   "source": [
    "adjcountList = Counter(adjectiveList)\n",
    "adjcountList.most_common(25)"
   ]
  },
  {
   "cell_type": "code",
   "execution_count": 234,
   "metadata": {},
   "outputs": [],
   "source": [
    "brandList = ['ACURA','AUDI','BMW','CADILLAC','HONDA']\n",
    "attributeList = ['luxury','performance','style','price','space']"
   ]
  },
  {
   "cell_type": "code",
   "execution_count": 235,
   "metadata": {},
   "outputs": [],
   "source": [
    "comb_count=[]\n",
    "car_count={}\n",
    "attrib_count={}\n",
    "for car in brandList:\n",
    "    num_car=0\n",
    "    for comment in df.comments:\n",
    "            if car in comment:\n",
    "                num_car+=1\n",
    "    car_count[car]=num_car\n",
    "    for attrib in attributeList:\n",
    "        num_combined=0\n",
    "        num_attrib=0\n",
    "        for comment in df.comments:\n",
    "            if car in comment and attrib in comment:\n",
    "                num_combined+=1\n",
    "            if attrib in comment:\n",
    "                num_attrib+=1\n",
    "        attrib_count[attrib]=num_attrib\n",
    "        comb_count.append(((car,attrib),num_combined))"
   ]
  },
  {
   "cell_type": "code",
   "execution_count": 236,
   "metadata": {},
   "outputs": [],
   "source": [
    "def calculate_lift(car, attrib, combined):\n",
    "    if(attrib_count[attrib]==0):\n",
    "        print(attrib)\n",
    "    if(car_count[car]==0):\n",
    "        print(car)\n",
    "    lift = (5164*combined)/(car_count[car]*attrib_count[attrib])\n",
    "    return lift"
   ]
  },
  {
   "cell_type": "code",
   "execution_count": 237,
   "metadata": {},
   "outputs": [
    {
     "data": {
      "text/plain": [
       "{('ACURA', 'luxury'): 2.0971071761846063,\n",
       " ('ACURA', 'performance'): 1.7598579834262653,\n",
       " ('ACURA', 'style'): 1.7775839911878097,\n",
       " ('ACURA', 'price'): 1.76208610666442,\n",
       " ('ACURA', 'space'): 1.9506868131868131,\n",
       " ('AUDI', 'luxury'): 1.6323479644925083,\n",
       " ('AUDI', 'performance'): 1.6817752408985591,\n",
       " ('AUDI', 'style'): 1.6622884757322876,\n",
       " ('AUDI', 'price'): 1.537866137235171,\n",
       " ('AUDI', 'space'): 1.779756530151564,\n",
       " ('BMW', 'luxury'): 1.1256327066306278,\n",
       " ('BMW', 'performance'): 1.2594271900654044,\n",
       " ('BMW', 'style'): 0.9955790747302571,\n",
       " ('BMW', 'price'): 1.2478034701480014,\n",
       " ('BMW', 'space'): 0.9118682849184242,\n",
       " ('CADILLAC', 'luxury'): 1.7230204575313328,\n",
       " ('CADILLAC', 'performance'): 0.5759214855294708,\n",
       " ('CADILLAC', 'style'): 1.2480589710280656,\n",
       " ('CADILLAC', 'price'): 1.6538660973005948,\n",
       " ('CADILLAC', 'space'): 1.167269439421338,\n",
       " ('HONDA', 'luxury'): 1.1831502231144375,\n",
       " ('HONDA', 'performance'): 0.6026198325407708,\n",
       " ('HONDA', 'style'): 0.8570073811819374,\n",
       " ('HONDA', 'price'): 0.9888773637596745,\n",
       " ('HONDA', 'space'): 0.7938978240302743}"
      ]
     },
     "execution_count": 237,
     "metadata": {},
     "output_type": "execute_result"
    }
   ],
   "source": [
    "lift_scores={}\n",
    "for k,num in comb_count:\n",
    "    lift_scores[(k[0],k[1])] = calculate_lift(k[0],k[1], num)\n",
    "lift_scores"
   ]
  },
  {
   "cell_type": "code",
   "execution_count": 238,
   "metadata": {},
   "outputs": [
    {
     "data": {
      "text/plain": [
       "[(('ACURA', 'luxury'), 2.0971071761846063),\n",
       " (('ACURA', 'space'), 1.9506868131868131),\n",
       " (('AUDI', 'space'), 1.779756530151564),\n",
       " (('ACURA', 'style'), 1.7775839911878097),\n",
       " (('ACURA', 'price'), 1.76208610666442),\n",
       " (('ACURA', 'performance'), 1.7598579834262653),\n",
       " (('CADILLAC', 'luxury'), 1.7230204575313328),\n",
       " (('AUDI', 'performance'), 1.6817752408985591),\n",
       " (('AUDI', 'style'), 1.6622884757322876),\n",
       " (('CADILLAC', 'price'), 1.6538660973005948),\n",
       " (('AUDI', 'luxury'), 1.6323479644925083),\n",
       " (('AUDI', 'price'), 1.537866137235171),\n",
       " (('BMW', 'performance'), 1.2594271900654044),\n",
       " (('CADILLAC', 'style'), 1.2480589710280656),\n",
       " (('BMW', 'price'), 1.2478034701480014),\n",
       " (('HONDA', 'luxury'), 1.1831502231144375),\n",
       " (('CADILLAC', 'space'), 1.167269439421338),\n",
       " (('BMW', 'luxury'), 1.1256327066306278),\n",
       " (('BMW', 'style'), 0.9955790747302571),\n",
       " (('HONDA', 'price'), 0.9888773637596745),\n",
       " (('BMW', 'space'), 0.9118682849184242),\n",
       " (('HONDA', 'style'), 0.8570073811819374),\n",
       " (('HONDA', 'space'), 0.7938978240302743),\n",
       " (('HONDA', 'performance'), 0.6026198325407708),\n",
       " (('CADILLAC', 'performance'), 0.5759214855294708)]"
      ]
     },
     "execution_count": 238,
     "metadata": {},
     "output_type": "execute_result"
    }
   ],
   "source": [
    "sorted_lifts = sorted(lift_scores.items(), key=lambda kv: kv[1], reverse=True)\n",
    "sorted_lifts"
   ]
  },
  {
   "cell_type": "code",
   "execution_count": 239,
   "metadata": {},
   "outputs": [
    {
     "data": {
      "text/plain": [
       "{'ACURA': [2.0971071761846063,\n",
       "  1.7598579834262653,\n",
       "  1.7775839911878097,\n",
       "  1.76208610666442,\n",
       "  1.9506868131868131],\n",
       " 'AUDI': [1.6323479644925083,\n",
       "  1.6817752408985591,\n",
       "  1.6622884757322876,\n",
       "  1.537866137235171,\n",
       "  1.779756530151564],\n",
       " 'BMW': [1.1256327066306278,\n",
       "  1.2594271900654044,\n",
       "  0.9955790747302571,\n",
       "  1.2478034701480014,\n",
       "  0.9118682849184242],\n",
       " 'CADILLAC': [1.7230204575313328,\n",
       "  0.5759214855294708,\n",
       "  1.2480589710280656,\n",
       "  1.6538660973005948,\n",
       "  1.167269439421338],\n",
       " 'HONDA': [1.1831502231144375,\n",
       "  0.6026198325407708,\n",
       "  0.8570073811819374,\n",
       "  0.9888773637596745,\n",
       "  0.7938978240302743]}"
      ]
     },
     "execution_count": 239,
     "metadata": {},
     "output_type": "execute_result"
    }
   ],
   "source": [
    "plotarr={}\n",
    "for b in brandList:\n",
    "    plotarr[b]=[]\n",
    "for i in lift_scores:\n",
    "    plotarr[i[0]].append(lift_scores[i])\n",
    "plotarr"
   ]
  },
  {
   "cell_type": "code",
   "execution_count": 240,
   "metadata": {},
   "outputs": [
    {
     "data": {
      "image/png": "[encoded data removed]",
      "text/plain": [
       "<Figure size 864x864 with 1 Axes>"
      ]
     },
     "metadata": {
      "needs_background": "light"
     },
     "output_type": "display_data"
    }
   ],
   "source": [
    "fig = plt.figure(figsize=(12,12))\n",
    "ax = fig.add_subplot(111)\n",
    "colors = (\"red\", \"green\", \"blue\",\"black\",\"orange\")\n",
    "groups = plotarr.keys()\n",
    "\n",
    "for lift, color, group in zip(plotarr, colors, groups):\n",
    "#     plt.scatter(attributeList,plotarr[lift])\n",
    "#     ax.scatter(attributeList, plotarr[lift])\n",
    "    ax.scatter(attributeList, plotarr[lift], alpha=0.8, c=color, edgecolors='none', label=group)\n",
    "\n",
    "plt.xlabel('Combinations')\n",
    "plt.ylabel('Lift Score')\n",
    "plt.legend(loc=1)\n",
    "plt.show()"
   ]
  }
 ],
 "metadata": {
  "kernelspec": {
   "display_name": "Python 3",
   "language": "python",
   "name": "python3"
  },
  "language_info": {
   "codemirror_mode": {
    "name": "ipython",
    "version": 3
   },
   "file_extension": ".py",
   "mimetype": "text/x-python",
   "name": "python",
   "nbconvert_exporter": "python",
   "pygments_lexer": "ipython3",
   "version": "3.7.3"
  }
 },
 "nbformat": 4,
 "nbformat_minor": 2
}
