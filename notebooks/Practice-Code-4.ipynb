{
 "cells": [
  {
   "cell_type": "code",
   "execution_count": 1,
   "metadata": {},
   "outputs": [],
   "source": [
    "import math"
   ]
  },
  {
   "cell_type": "markdown",
   "metadata": {},
   "source": [
    "## Permutations"
   ]
  },
  {
   "cell_type": "code",
   "execution_count": 120,
   "metadata": {},
   "outputs": [],
   "source": [
    "class Solution(object):\n",
    "    \n",
    "    def permute(self, nums):\n",
    "        ans=[]\n",
    "        self.return_num(nums,[],ans)\n",
    "        return ans\n",
    "        \n",
    "    \n",
    "    def return_num(self, n, a, ans):\n",
    "        if not n:\n",
    "            return ans.append(a)\n",
    "        for i in range(len(n)):\n",
    "            self.return_num(n[:i]+n[i+1:], a+[n[i]], ans)\n",
    "        return"
   ]
  },
  {
   "cell_type": "code",
   "execution_count": 121,
   "metadata": {
    "scrolled": true
   },
   "outputs": [
    {
     "data": {
      "text/plain": [
       "[[1, 2, 3], [1, 3, 2], [2, 1, 3], [2, 3, 1], [3, 1, 2], [3, 2, 1]]"
      ]
     },
     "execution_count": 121,
     "metadata": {},
     "output_type": "execute_result"
    }
   ],
   "source": [
    "Solution().permute([1,2,3])"
   ]
  },
  {
   "cell_type": "markdown",
   "metadata": {},
   "source": [
    "## Range Sum of BST"
   ]
  },
  {
   "cell_type": "code",
   "execution_count": 54,
   "metadata": {},
   "outputs": [],
   "source": [
    "class TreeNode(object):\n",
    "    def __init__(self, x):\n",
    "        self.val = x\n",
    "        self.left = None\n",
    "        self.right = None\n",
    "        \n",
    "class Solution(object):\n",
    "\n",
    "    def rangeSumBST(self, root, L, R):\n",
    "        global s\n",
    "        s=0\n",
    "        self.get_sum(root,L,R)\n",
    "        return s\n",
    "    \n",
    "    def get_sum(self, root, L, R):\n",
    "        if root:\n",
    "            global s\n",
    "            self.get_sum(root.left,L,R)\n",
    "            self.get_sum(root.right,L,R)\n",
    "            if root.val>=L and root.val<=R:\n",
    "                s+=root.val\n",
    "            return\n",
    "        return"
   ]
  },
  {
   "cell_type": "code",
   "execution_count": 55,
   "metadata": {},
   "outputs": [
    {
     "name": "stdout",
     "output_type": "stream",
     "text": [
      "10 0\n",
      "5 0\n",
      "3 0\n",
      "7 0\n",
      "15 7\n",
      "18 7\n"
     ]
    },
    {
     "data": {
      "text/plain": [
       "32"
      ]
     },
     "execution_count": 55,
     "metadata": {},
     "output_type": "execute_result"
    }
   ],
   "source": [
    "r=TreeNode(10)\n",
    "r.left=TreeNode(5)\n",
    "r.right=TreeNode(15)\n",
    "r.left.left=TreeNode(3)\n",
    "r.left.right=TreeNode(7)\n",
    "r.right.right=TreeNode(18)\n",
    "\n",
    "Solution().rangeSumBST(r,7,15)"
   ]
  },
  {
   "cell_type": "markdown",
   "metadata": {},
   "source": [
    "## Non Decreasing Array"
   ]
  },
  {
   "cell_type": "code",
   "execution_count": 118,
   "metadata": {},
   "outputs": [],
   "source": [
    "class Solution(object):\n",
    "    def checkPossibility(self, nums):\n",
    "        if len(nums)==1:\n",
    "            return True\n",
    "        for i in range(1,len(nums)):\n",
    "            if nums[i]<nums[i-1]:\n",
    "                t=nums[i-1]\n",
    "                nums[i-1]=nums[i]\n",
    "                if self.issorted(nums):\n",
    "                    return True\n",
    "                else:\n",
    "                    nums[i-1]=t\n",
    "                    if i<len(nums)-1:\n",
    "                        t=nums[i]\n",
    "                        nums[i]=nums[i+1]\n",
    "                        if self.issorted(nums):\n",
    "                            return True\n",
    "                    else:\n",
    "                        return True\n",
    "                    return False\n",
    "        return True\n",
    "    \n",
    "    def issorted(self,n):\n",
    "        print(n)\n",
    "        for i in range(1,len(n)):\n",
    "            if n[i]<n[i-1]:\n",
    "                return False\n",
    "        return True"
   ]
  },
  {
   "cell_type": "code",
   "execution_count": 119,
   "metadata": {},
   "outputs": [
    {
     "name": "stdout",
     "output_type": "stream",
     "text": [
      "[1, 2, 4, 3, 3]\n"
     ]
    },
    {
     "data": {
      "text/plain": [
       "True"
      ]
     },
     "execution_count": 119,
     "metadata": {},
     "output_type": "execute_result"
    }
   ],
   "source": [
    "n=[1,2,4,5,3]\n",
    "Solution().checkPossibility(n)"
   ]
  },
  {
   "cell_type": "markdown",
   "metadata": {},
   "source": [
    "# Genospace"
   ]
  },
  {
   "cell_type": "code",
   "execution_count": null,
   "metadata": {},
   "outputs": [],
   "source": []
  },
  {
   "cell_type": "code",
   "execution_count": 165,
   "metadata": {},
   "outputs": [],
   "source": [
    "def solution(S):\n",
    "    occurrences = [0] * 26\n",
    "\n",
    "    for i in range(len(S)):\n",
    "        occurrences[ord(S[i]) - ord('a')] += 1\n",
    "\n",
    "    best_char = 'a'\n",
    "    best_res = 0\n",
    "\n",
    "    for i in range(26):\n",
    "        if occurrences[i] > best_res:\n",
    "            best_char = chr(ord('a') + i)\n",
    "            best_res = occurrences[i]\n",
    "\n",
    "    return best_char"
   ]
  },
  {
   "cell_type": "code",
   "execution_count": 167,
   "metadata": {},
   "outputs": [
    {
     "data": {
      "text/plain": [
       "'b'"
      ]
     },
     "execution_count": 167,
     "metadata": {},
     "output_type": "execute_result"
    }
   ],
   "source": [
    "solution('zbba')"
   ]
  },
  {
   "cell_type": "code",
   "execution_count": 160,
   "metadata": {},
   "outputs": [
    {
     "data": {
      "text/plain": [
       "0"
      ]
     },
     "execution_count": 160,
     "metadata": {},
     "output_type": "execute_result"
    }
   ],
   "source": [
    "ord('a')-ord('a')"
   ]
  },
  {
   "cell_type": "code",
   "execution_count": 195,
   "metadata": {},
   "outputs": [],
   "source": [
    "def solution(S):\n",
    "    S=S.strip().replace(' ','')\n",
    "\n",
    "    br={')':'(','}':'{',']':'['}\n",
    "    opn=[]\n",
    "    for i in S:\n",
    "        if i in '({[':\n",
    "            opn.append(i)\n",
    "        if i in ')}]':\n",
    "            if len(opn)==0:\n",
    "                return False\n",
    "            elif br[i]!=opn.pop():\n",
    "                return False\n",
    "    if len(opn)!=0:\n",
    "        return False\n",
    "\n",
    "    return True"
   ]
  },
  {
   "cell_type": "code",
   "execution_count": 198,
   "metadata": {},
   "outputs": [
    {
     "data": {
      "text/plain": [
       "False"
      ]
     },
     "execution_count": 198,
     "metadata": {},
     "output_type": "execute_result"
    }
   ],
   "source": [
    "s='{ ( [ ([) ] ) }  '\n",
    "solution(s)"
   ]
  },
  {
   "cell_type": "markdown",
   "metadata": {},
   "source": [
    "## N-th Tribonacci Number"
   ]
  },
  {
   "cell_type": "code",
   "execution_count": 216,
   "metadata": {},
   "outputs": [],
   "source": [
    "class Solution(object):\n",
    "    def tribonacci(self, n):\n",
    "        x=[0,1,1]\n",
    "        if n>2:\n",
    "            for i in range(3,n+1):\n",
    "                x.append(x[i-3]+x[i-2]+x[i-1])\n",
    "        return x[n]"
   ]
  },
  {
   "cell_type": "code",
   "execution_count": 217,
   "metadata": {},
   "outputs": [
    {
     "data": {
      "text/plain": [
       "2"
      ]
     },
     "execution_count": 217,
     "metadata": {},
     "output_type": "execute_result"
    }
   ],
   "source": [
    "Solution().tribonacci(3)"
   ]
  },
  {
   "cell_type": "markdown",
   "metadata": {},
   "source": [
    "## Count of Binary Strings"
   ]
  },
  {
   "cell_type": "code",
   "execution_count": 326,
   "metadata": {},
   "outputs": [],
   "source": [
    "from collections import deque, Counter\n",
    "class Solution(object):\n",
    "    def countBinarySubstrings(self, s):\n",
    "        count=0\n",
    "        c=deque()\n",
    "        i=0\n",
    "        while i<len(s):\n",
    "            print(s[i],c)\n",
    "            if c:\n",
    "                if s[i] in c:\n",
    "                    c.append(s[i])\n",
    "                else:\n",
    "                    while len(c)>0:\n",
    "                        l=len(c)\n",
    "                        print(c,'compareto',s[i:i+l])\n",
    "                        if i+l<=len(s):\n",
    "                            if c.popleft() not in s[i:i+l]:\n",
    "                                count+=l\n",
    "                                print('Found opposite',count)\n",
    "                                i-=1\n",
    "            else:\n",
    "                c.append(s[i])\n",
    "            i+=1\n",
    "        return count"
   ]
  },
  {
   "cell_type": "code",
   "execution_count": 371,
   "metadata": {},
   "outputs": [],
   "source": [
    "class Solution(object):\n",
    "    def countBinarySubstrings(self, s):\n",
    "        count=0\n",
    "        if s:\n",
    "            i=0\n",
    "            le=''\n",
    "            while i<len(s):\n",
    "                print(s[i],le)\n",
    "                if le:\n",
    "                    if s[i] in le:\n",
    "                        le+=s[i]\n",
    "                    else:\n",
    "                        l=len(le)\n",
    "                        if i+l<=len(s):\n",
    "                            ri=s[i:i+l]\n",
    "                            \n",
    "                            j=0\n",
    "                            while len(ri)>0:\n",
    "                                print(le,'compareto',ri)\n",
    "                                if le[0] not in ri:\n",
    "                                    count+=min(len(ri),l)\n",
    "                                    le=''\n",
    "                                    i-=1\n",
    "                                    break\n",
    "                                else:\n",
    "                                    j+=1\n",
    "                                    ri=s[i:i+l-j]\n",
    "                        else:\n",
    "                            le=le[:len(le)-1]\n",
    "                            i-=1\n",
    "                else:\n",
    "                    le+=s[i]\n",
    "                i+=1\n",
    "        return count"
   ]
  },
  {
   "cell_type": "code",
   "execution_count": 383,
   "metadata": {},
   "outputs": [],
   "source": [
    "class Solution(object):\n",
    "    def countBinarySubstrings(self, s):\n",
    "        count=0\n",
    "        if s:\n",
    "            s=s.replace('01','0 1').replace('10','1 0')\n",
    "            n=s.split(' ')\n",
    "            for i in range(len(n)-1):\n",
    "                count+=min(len(n[i]),len(n[i+1]))\n",
    "        return count"
   ]
  },
  {
   "cell_type": "code",
   "execution_count": 388,
   "metadata": {
    "scrolled": true
   },
   "outputs": [
    {
     "data": {
      "text/plain": [
       "4"
      ]
     },
     "execution_count": 388,
     "metadata": {},
     "output_type": "execute_result"
    }
   ],
   "source": [
    "s='0001100'\n",
    "Solution().countBinarySubstrings(s)"
   ]
  },
  {
   "cell_type": "markdown",
   "metadata": {},
   "source": [
    "## Kth Largest Element in an Array"
   ]
  },
  {
   "cell_type": "code",
   "execution_count": 448,
   "metadata": {},
   "outputs": [],
   "source": [
    "class Solution(object):\n",
    "    def findKthLargest(self, nums, k):\n",
    "        nums=sorted(nums,reverse=True)\n",
    "        return nums[k-1]"
   ]
  },
  {
   "cell_type": "code",
   "execution_count": 418,
   "metadata": {},
   "outputs": [],
   "source": [
    "class Solution(object):\n",
    "    def findKthLargest(self, nums, k):\n",
    "        if nums and k>0 and k<=len(nums):\n",
    "            ranking=[0]*len(nums)\n",
    "            print(ranking)\n",
    "            for i in nums:\n",
    "                print(i,ranking)\n",
    "                for j in range(k+1):\n",
    "                    if ranking[j]<i:\n",
    "                        t=ranking[j]\n",
    "                        ranking[j]=i\n",
    "                        ranking[j+1]=t\n",
    "                        break\n",
    "            print(ranking)\n",
    "            return ranking[k-1]"
   ]
  },
  {
   "cell_type": "code",
   "execution_count": 449,
   "metadata": {},
   "outputs": [
    {
     "data": {
      "text/plain": [
       "5"
      ]
     },
     "execution_count": 449,
     "metadata": {},
     "output_type": "execute_result"
    }
   ],
   "source": [
    "n=[1,2,3,4,5,6,7,8]\n",
    "k=4\n",
    "Solution().findKthLargest(n,k)"
   ]
  },
  {
   "cell_type": "markdown",
   "metadata": {},
   "source": [
    "## Kth Largest Stream"
   ]
  },
  {
   "cell_type": "code",
   "execution_count": 471,
   "metadata": {},
   "outputs": [],
   "source": [
    "class KthLargest(object):\n",
    "\n",
    "    def __init__(self, k, nums):\n",
    "        self.nums=nums\n",
    "        self.k=k\n",
    "\n",
    "    def add(self, val):\n",
    "        self.nums.append(val)\n",
    "        self.nums=sorted(self.nums, reverse=True)[:self.k]\n",
    "        return self.nums[-1]"
   ]
  },
  {
   "cell_type": "code",
   "execution_count": 476,
   "metadata": {},
   "outputs": [
    {
     "data": {
      "text/plain": [
       "6"
      ]
     },
     "execution_count": 476,
     "metadata": {},
     "output_type": "execute_result"
    }
   ],
   "source": [
    "a.add(9)"
   ]
  },
  {
   "cell_type": "code",
   "execution_count": null,
   "metadata": {},
   "outputs": [],
   "source": []
  },
  {
   "cell_type": "markdown",
   "metadata": {},
   "source": [
    "## Heaters\n",
    "\n"
   ]
  },
  {
   "cell_type": "code",
   "execution_count": 27,
   "metadata": {},
   "outputs": [],
   "source": [
    "class Solution(object):\n",
    "    def findRadius(self, houses, heaters):\n",
    "        diff=[0]\n",
    "        for i in range(len(heaters)-1):\n",
    "            diff.append(heaters[i+1]-heaters[i]-1)\n",
    "        \n",
    "        between=max(diff)\n",
    "        edge=max(heaters[0]-1,houses[-1]-heaters[-1])\n",
    "        # print(between,edge)\n",
    "        if edge>=between:\n",
    "            return edge\n",
    "        else:\n",
    "            return (between//2 + 1 if between%2!=0 else between//2)"
   ]
  },
  {
   "cell_type": "code",
   "execution_count": 100,
   "metadata": {},
   "outputs": [],
   "source": [
    "class Solution(object):\n",
    "    def findRadius(self, houses, heaters):\n",
    "        rad=0\n",
    "        for i in range(len(houses)):\n",
    "            print(rad)\n",
    "            if houses[i]<heaters[0]:\n",
    "                rad=max(rad,heaters[0]-houses[i])\n",
    "            elif houses[i]>heaters[len(heaters)-1]:\n",
    "                rad=max(rad,houses[i]-heaters[len(heaters)-1])\n",
    "            else:\n",
    "                rad=max(rad, self.binrad(heaters,houses[i]))\n",
    "        return rad\n",
    "    \n",
    "    def binrad(self, heat, h):\n",
    "        lo=0\n",
    "        hi=len(heat)-1\n",
    "        \n",
    "        while lo<=hi:\n",
    "            mid=lo+((hi-lo+1)//2)\n",
    "            print(heat[mid],h)\n",
    "            if h==heat[mid]:\n",
    "                return 0\n",
    "            elif h>heat[mid] and h<heat[mid+1]:\n",
    "                return min(h-heat[mid],heat[mid+1]-h)\n",
    "            elif h<heat[mid]:\n",
    "                hi=mid-1\n",
    "            elif h>heat[mid]:\n",
    "                lo=mid+1\n",
    "        return -1\n",
    "        "
   ]
  },
  {
   "cell_type": "code",
   "execution_count": 101,
   "metadata": {},
   "outputs": [
    {
     "name": "stdout",
     "output_type": "stream",
     "text": [
      "0\n",
      "2 1\n",
      "1 1\n",
      "0\n",
      "2 2\n",
      "0\n",
      "2 3\n",
      "3 3\n"
     ]
    },
    {
     "data": {
      "text/plain": [
       "0"
      ]
     },
     "execution_count": 101,
     "metadata": {},
     "output_type": "execute_result"
    }
   ],
   "source": [
    "n=[1,2,3]\n",
    "h=[1,2,3]\n",
    "Solution().findRadius(n,h)"
   ]
  },
  {
   "cell_type": "markdown",
   "metadata": {},
   "source": [
    "## Length of Last word"
   ]
  },
  {
   "cell_type": "code",
   "execution_count": 135,
   "metadata": {},
   "outputs": [],
   "source": [
    "class Solution(object):\n",
    "    def lengthOfLastWord(self, s):\n",
    "        if len(s)>0:\n",
    "            s=s.strip().split(' ')\n",
    "            return (len(s[-1]) if len(s)>=1 else 0)\n",
    "        return 0"
   ]
  },
  {
   "cell_type": "code",
   "execution_count": 141,
   "metadata": {},
   "outputs": [
    {
     "data": {
      "text/plain": [
       "6"
      ]
     },
     "execution_count": 141,
     "metadata": {},
     "output_type": "execute_result"
    }
   ],
   "source": [
    "Solution().lengthOfLastWord('asdassdsd sDada')"
   ]
  },
  {
   "cell_type": "code",
   "execution_count": 137,
   "metadata": {},
   "outputs": [],
   "source": [
    "class Solution(object):\n",
    "    def lengthOfLastWord(self, s):\n",
    "        if len(s)>0:\n",
    "            s=s.strip()\n",
    "            c=0\n",
    "            for i in range(len(s)-1,-1,-1):\n",
    "                c+=1\n",
    "                if s[i]==' ':\n",
    "                    return c-1\n",
    "            return c\n",
    "        return 0\n"
   ]
  },
  {
   "cell_type": "markdown",
   "metadata": {},
   "source": [
    "## Sum of Squares"
   ]
  },
  {
   "cell_type": "code",
   "execution_count": 414,
   "metadata": {},
   "outputs": [],
   "source": [
    "import math\n",
    "class Solution(object):\n",
    "    def judgeSquareSum(self, c):\n",
    "        if c>1:\n",
    "            if str(math.sqrt(c)).split('.')[1]=='0':\n",
    "                    return True\n",
    "            for i in range(1,int(math.sqrt(c))+1):\n",
    "                if str(math.sqrt(c-i**2)).split('.')[1]=='0':\n",
    "                    print(i**2,c-i**2)\n",
    "                    return True\n",
    "            return False\n",
    "        return True\n"
   ]
  },
  {
   "cell_type": "code",
   "execution_count": 416,
   "metadata": {},
   "outputs": [],
   "source": [
    "import math\n",
    "class Solution(object):\n",
    "    def judgeSquareSum(self, c):\n",
    "        if c>2:\n",
    "            l=0\n",
    "            h=int(math.sqrt(c))+1\n",
    "            while l<=h:\n",
    "                print(l,h)\n",
    "                r=l**2+h**2\n",
    "                if r==c:\n",
    "                    return True\n",
    "                elif r<c:\n",
    "                    l+=1\n",
    "                else:\n",
    "                    h-=1\n",
    "            return False\n",
    "        return True\n",
    "\n"
   ]
  },
  {
   "cell_type": "code",
   "execution_count": 417,
   "metadata": {},
   "outputs": [
    {
     "name": "stdout",
     "output_type": "stream",
     "text": [
      "0 3\n",
      "0 2\n",
      "1 2\n",
      "2 2\n"
     ]
    },
    {
     "data": {
      "text/plain": [
       "True"
      ]
     },
     "execution_count": 417,
     "metadata": {},
     "output_type": "execute_result"
    }
   ],
   "source": [
    "Solution().judgeSquareSum(8)"
   ]
  },
  {
   "cell_type": "markdown",
   "metadata": {},
   "source": [
    "## Can Place Flowers"
   ]
  },
  {
   "cell_type": "code",
   "execution_count": 484,
   "metadata": {},
   "outputs": [],
   "source": [
    "class Solution(object):\n",
    "    def canPlaceFlowers(self, flowerbed, n):\n",
    "        if n==0:\n",
    "            return True\n",
    "        if flowerbed:\n",
    "            i=1\n",
    "            d=-100\n",
    "            if len(flowerbed)>3:\n",
    "                while i<len(flowerbed)-1:\n",
    "                    if i-1==0:\n",
    "                        s=flowerbed[i-1]+flowerbed[i]\n",
    "                    elif i+1==len(flowerbed)-1:\n",
    "                        s=flowerbed[i]+flowerbed[i+1]\n",
    "                    else:\n",
    "                        s=flowerbed[i-1]+flowerbed[i]+flowerbed[i+1]\n",
    "\n",
    "                    if s==0 and abs(d-i)!=1:\n",
    "                        n-=1\n",
    "                        d=i\n",
    "                    i+=1\n",
    "\n",
    "                if n>0:\n",
    "                    return False\n",
    "                return True\n",
    "            else:\n",
    "                valid=False\n",
    "                if len(flowerbed)==2 and n>sum(flowerbed):\n",
    "                    print('w')\n",
    "                    valid=True\n",
    "                if len(flowerbed)==3:\n",
    "                    if sum(flowerbed[:2])<n or sum(flowerbed[1:])<n:\n",
    "                        valid=True\n",
    "                if len(flowerbed)==1 and flowerbed[0]<n:\n",
    "                    valid=True\n",
    "                return valid\n",
    "        return False"
   ]
  },
  {
   "cell_type": "code",
   "execution_count": 544,
   "metadata": {},
   "outputs": [],
   "source": [
    "class Solution(object):\n",
    "    def canPlaceFlowers(self, flowerbed, n):\n",
    "        if n==0:\n",
    "            return True\n",
    "        if flowerbed:\n",
    "            f=''.join([str(j) for j in flowerbed])\n",
    "            f=f.split('1')\n",
    "            mxc=0\n",
    "            for i in range(len(f)):\n",
    "                l=len(f[i])\n",
    "                if i==0 or i==(len(f)-1):\n",
    "                    if l>1:\n",
    "                        if l%2!=0:\n",
    "                            mxc+=(l//2+1 if l>3 else l//2)\n",
    "                        else:\n",
    "                            mxc+=l//2\n",
    "                    else:\n",
    "                        mxc+=l\n",
    "                else:\n",
    "                    print(f[i])\n",
    "                    if l>2:\n",
    "                        if l%2!=0:\n",
    "                            mxc+=l//2\n",
    "                        else:\n",
    "                            mxc+=l//2-1\n",
    "            print(f,mxc)\n",
    "            if mxc>=n:\n",
    "                return True\n",
    "            return False\n",
    "        return False"
   ]
  },
  {
   "cell_type": "code",
   "execution_count": 545,
   "metadata": {},
   "outputs": [
    {
     "name": "stdout",
     "output_type": "stream",
     "text": [
      "000\n",
      "['', '000', ''] 1\n"
     ]
    },
    {
     "data": {
      "text/plain": [
       "False"
      ]
     },
     "execution_count": 545,
     "metadata": {},
     "output_type": "execute_result"
    }
   ],
   "source": [
    "flowerbed = [1,0,0,0,1]\n",
    "n = 2\n",
    "\n",
    "Solution().canPlaceFlowers(flowerbed,n)"
   ]
  },
  {
   "cell_type": "code",
   "execution_count": 490,
   "metadata": {},
   "outputs": [
    {
     "data": {
      "text/plain": [
       "['00', '00', '', '', '000']"
      ]
     },
     "execution_count": 490,
     "metadata": {},
     "output_type": "execute_result"
    }
   ],
   "source": [
    "'00100111000'.split('1')"
   ]
  },
  {
   "cell_type": "code",
   "execution_count": null,
   "metadata": {},
   "outputs": [],
   "source": []
  },
  {
   "cell_type": "markdown",
   "metadata": {},
   "source": [
    "## Walking Robot"
   ]
  },
  {
   "cell_type": "code",
   "execution_count": 142,
   "metadata": {},
   "outputs": [],
   "source": [
    "class Solution(object):\n",
    "    def robotSim(self, commands, obstacles):\n",
    "        curr=[0,0]\n",
    "        d=[0,1]\n",
    "        for i in commands:\n",
    "            if i>0:\n",
    "                k=0\n",
    "                while k<i:\n",
    "                    x=curr[0]+d[0]\n",
    "                    y=curr[1]+d[1]\n",
    "                    if [x,y] in obstacles:\n",
    "                        print(i,'obstacle found',x,y,curr)\n",
    "                        break\n",
    "                    else:\n",
    "                        curr[0]=x\n",
    "                        curr[1]=y\n",
    "                    k+=1\n",
    "                print('curr',curr)\n",
    "            else:\n",
    "                if i==-1:\n",
    "                    if d[0]==1:\n",
    "                        d=[0,-1]\n",
    "                    elif d[0]==-1:\n",
    "                        d=[0,1]\n",
    "                    elif d[1]==1:\n",
    "                        d=[1,0]\n",
    "                    else:\n",
    "                        d=[-1,0]\n",
    "                else:\n",
    "                    if d[0]==1:\n",
    "                        d=[0,1]\n",
    "                    elif d[0]==-1:\n",
    "                        d=[0,-1]\n",
    "                    elif d[1]==1:\n",
    "                        d=[-1,0]\n",
    "                    else:\n",
    "                        d=[1,0]\n",
    "        print('final',curr)\n",
    "        return curr[0]**2+curr[1]**2\n",
    "                \n",
    "                            "
   ]
  },
  {
   "cell_type": "code",
   "execution_count": 145,
   "metadata": {},
   "outputs": [
    {
     "name": "stdout",
     "output_type": "stream",
     "text": [
      "curr [0, 4]\n",
      "4 obstacle found 2 4 [1, 4]\n",
      "curr [1, 4]\n",
      "curr [-3, 4]\n",
      "final [-3, 4]\n"
     ]
    },
    {
     "data": {
      "text/plain": [
       "25"
      ]
     },
     "execution_count": 145,
     "metadata": {},
     "output_type": "execute_result"
    }
   ],
   "source": [
    "Solution().robotSim([4,-1,4,-2,-1,-1,-1,4],\n",
    "                    [[2,4]])"
   ]
  },
  {
   "cell_type": "markdown",
   "metadata": {},
   "source": [
    "## First Bad Version"
   ]
  },
  {
   "cell_type": "code",
   "execution_count": 119,
   "metadata": {},
   "outputs": [],
   "source": [
    "x='gg'\n",
    "def isBadVersion(i):\n",
    "    if x[i-1]=='b':\n",
    "        return True\n",
    "    return False"
   ]
  },
  {
   "cell_type": "code",
   "execution_count": 128,
   "metadata": {},
   "outputs": [],
   "source": [
    "class Solution(object):\n",
    "    def firstBadVersion(self, n):\n",
    "        l=1\n",
    "        r=n\n",
    "        while l<=r-1:\n",
    "            m= (l+r) //2\n",
    "            print(l,m,r)\n",
    "            if isBadVersion(m):\n",
    "                r=m\n",
    "            else:\n",
    "                l=m\n",
    "            if l==r-1:\n",
    "                break\n",
    "        ans=(l if isBadVersion(l) else (m if isBadVersion(m) else r))\n",
    "        return ans\n",
    "        "
   ]
  },
  {
   "cell_type": "code",
   "execution_count": 129,
   "metadata": {},
   "outputs": [
    {
     "name": "stdout",
     "output_type": "stream",
     "text": [
      "1 1 2\n"
     ]
    },
    {
     "data": {
      "text/plain": [
       "2"
      ]
     },
     "execution_count": 129,
     "metadata": {},
     "output_type": "execute_result"
    }
   ],
   "source": [
    "Solution().firstBadVersion(len(x))"
   ]
  },
  {
   "cell_type": "markdown",
   "metadata": {},
   "source": [
    "## Largest Time for given digits"
   ]
  },
  {
   "cell_type": "code",
   "execution_count": 310,
   "metadata": {},
   "outputs": [],
   "source": [
    "class Solution(object):\n",
    "    def largestTimeFromDigits(self, A):\n",
    "        return self.findtime('',A)\n",
    "        \n",
    "    def findtime(self,cur,A):\n",
    "        print(cur,A)\n",
    "        if len(A)==0:\n",
    "            if int(cur[:2])<24 and int(cur[3:5])<60:\n",
    "                return cur\n",
    "            else:\n",
    "                return ''\n",
    "        tim=''\n",
    "        for i in range(len(A)):\n",
    "            if len(cur)==2:\n",
    "                if int(cur)<24:\n",
    "                    tim=max(self.findtime(cur+':'+str(A[i]),A[:i]+A[i+1:]),tim)\n",
    "                else:\n",
    "                    return tim\n",
    "            else:\n",
    "                tim=max(self.findtime(cur+str(A[i]),A[:i]+A[i+1:]),tim)\n",
    "        return tim"
   ]
  },
  {
   "cell_type": "code",
   "execution_count": 311,
   "metadata": {},
   "outputs": [
    {
     "name": "stdout",
     "output_type": "stream",
     "text": [
      " [1, 2, 3, 4]\n",
      "1 [2, 3, 4]\n",
      "12 [3, 4]\n",
      "12:3 [4]\n",
      "12:34 []\n",
      "12:4 [3]\n",
      "12:43 []\n",
      "13 [2, 4]\n",
      "13:2 [4]\n",
      "13:24 []\n",
      "13:4 [2]\n",
      "13:42 []\n",
      "14 [2, 3]\n",
      "14:2 [3]\n",
      "14:23 []\n",
      "14:3 [2]\n",
      "14:32 []\n",
      "2 [1, 3, 4]\n",
      "21 [3, 4]\n",
      "21:3 [4]\n",
      "21:34 []\n",
      "21:4 [3]\n",
      "21:43 []\n",
      "23 [1, 4]\n",
      "23:1 [4]\n",
      "23:14 []\n",
      "23:4 [1]\n",
      "23:41 []\n",
      "24 [1, 3]\n",
      "3 [1, 2, 4]\n",
      "31 [2, 4]\n",
      "32 [1, 4]\n",
      "34 [1, 2]\n",
      "4 [1, 2, 3]\n",
      "41 [2, 3]\n",
      "42 [1, 3]\n",
      "43 [1, 2]\n"
     ]
    },
    {
     "data": {
      "text/plain": [
       "'23:41'"
      ]
     },
     "execution_count": 311,
     "metadata": {},
     "output_type": "execute_result"
    }
   ],
   "source": [
    "A=[1,2,3,4]\n",
    "Solution().largestTimeFromDigits(A)"
   ]
  },
  {
   "cell_type": "code",
   "execution_count": 312,
   "metadata": {},
   "outputs": [],
   "source": [
    "class TreeNode(object):\n",
    "    def __init__(self, x):\n",
    "        self.val = x\n",
    "        self.left = None\n",
    "        self.right = None\n",
    "        "
   ]
  },
  {
   "cell_type": "code",
   "execution_count": 343,
   "metadata": {},
   "outputs": [],
   "source": [
    "from collections import defaultdict\n",
    "class Solution(object):\n",
    "    \n",
    "    def longestUnivaluePath(self, root):\n",
    "        self.mx=0\n",
    "        if root:\n",
    "            d=0\n",
    "            self.path(root,d)\n",
    "        return self.mx\n",
    "    \n",
    "    def path(self,r,d):\n",
    "        if r:\n",
    "            print(d,r.val)\n",
    "            if r.left and r.right and r.val==r.left.val and r.val==r.right.val:\n",
    "                d+=2\n",
    "                \n",
    "                self.path(r.left,d)\n",
    "                self.path(r.right,d)\n",
    "            elif r.right and r.val==r.right.val:\n",
    "                d+=1\n",
    "                self.path(r.right,d)\n",
    "            elif r.left and r.val==r.left.val:\n",
    "                d+=1\n",
    "                self.path(r.left,d)\n",
    "            else:\n",
    "                d=0\n",
    "                self.path(r.left,d)\n",
    "                self.path(r.right,d)\n",
    "            self.mx=max(self.mx,d)\n",
    "        return"
   ]
  },
  {
   "cell_type": "code",
   "execution_count": 349,
   "metadata": {},
   "outputs": [
    {
     "name": "stdout",
     "output_type": "stream",
     "text": [
      "0 1\n",
      "1 1\n",
      "3 1\n",
      "5 1\n",
      "6 1\n",
      "5 1\n",
      "3 1\n"
     ]
    },
    {
     "data": {
      "text/plain": [
       "6"
      ]
     },
     "execution_count": 349,
     "metadata": {},
     "output_type": "execute_result"
    }
   ],
   "source": [
    "r=TreeNode(1)\n",
    "# r.left=TreeNode(5)\n",
    "r.right=TreeNode(1)\n",
    "r.right.left=TreeNode(1)\n",
    "r.right.right=TreeNode(1)\n",
    "r.right.left.left=TreeNode(1)\n",
    "r.right.left.right=TreeNode(1)\n",
    "r.right.left.left.left=TreeNode(1)\n",
    "\n",
    "Solution().longestUnivaluePath(r)"
   ]
  },
  {
   "cell_type": "code",
   "execution_count": null,
   "metadata": {},
   "outputs": [],
   "source": []
  },
  {
   "cell_type": "code",
   "execution_count": 24,
   "metadata": {},
   "outputs": [],
   "source": [
    "\n",
    "class Solution(object):\n",
    "    def validMountainArray(self, A):\n",
    "        if len(A)<3:\n",
    "            return False\n",
    "        m=int(-1e5)\n",
    "        p=False\n",
    "        a=False\n",
    "        for i in range(len(A)-1):\n",
    "            print(A[i],p)\n",
    "            if A[i]<A[i+1]:\n",
    "                if a==False:\n",
    "                    a=True\n",
    "                if p:\n",
    "                    return False\n",
    "                m=A[i+1]\n",
    "                \n",
    "            elif A[i]>A[i+1]:\n",
    "                if p==False:\n",
    "                    p=True\n",
    "            else:\n",
    "                return False\n",
    "        return (True if p and a else False)\n",
    "                \n",
    "            "
   ]
  },
  {
   "cell_type": "code",
   "execution_count": 25,
   "metadata": {},
   "outputs": [
    {
     "name": "stdout",
     "output_type": "stream",
     "text": [
      "9 False\n",
      "8 True\n",
      "7 True\n",
      "6 True\n",
      "5 True\n",
      "4 True\n",
      "3 True\n",
      "2 True\n"
     ]
    },
    {
     "data": {
      "text/plain": [
       "False"
      ]
     },
     "execution_count": 25,
     "metadata": {},
     "output_type": "execute_result"
    }
   ],
   "source": [
    "Solution().validMountainArray([9,8,7,6,5,4,3,2,1])"
   ]
  },
  {
   "cell_type": "markdown",
   "metadata": {},
   "source": [
    "## Maximal Square"
   ]
  },
  {
   "cell_type": "code",
   "execution_count": 115,
   "metadata": {},
   "outputs": [],
   "source": [
    "class Solution(object):\n",
    "    def maximalSquare(self, matrix):\n",
    "        if matrix and len(matrix)>0:\n",
    "            i=0\n",
    "            j=0\n",
    "            sq=0\n",
    "            maxsq=min(len(matrix[0]),len(matrix))\n",
    "            nosq=False\n",
    "\n",
    "            while i<len(matrix):\n",
    "                j=0\n",
    "                while j<len(matrix[0]):\n",
    "                    if matrix[i][j]=='1':\n",
    "                        for s in range(1,maxsq+1):\n",
    "                            if self.isvalid(i+s,j+s,matrix):\n",
    "                                sq=max(sq,self.checksquare(matrix,i,j,s))\n",
    "                    j+=1\n",
    "                i+=1\n",
    "                if sq==maxsq**2:\n",
    "                    break\n",
    "\n",
    "            return sq\n",
    "        return 0\n",
    "    \n",
    "    def checksquare(self,m,i,j,s):\n",
    "        for y in range(i,i+s):\n",
    "            for x in range(j,j+s):\n",
    "                if m[y][x]=='0':\n",
    "                    return 0\n",
    "        return s**2\n",
    "    \n",
    "    def isvalid(self, i, j, m):\n",
    "        if i<=len(m) and j<=len(m[0]):\n",
    "            return True\n",
    "        return False"
   ]
  },
  {
   "cell_type": "code",
   "execution_count": 116,
   "metadata": {},
   "outputs": [
    {
     "name": "stdout",
     "output_type": "stream",
     "text": [
      "1\n"
     ]
    },
    {
     "data": {
      "text/plain": [
       "1"
      ]
     },
     "execution_count": 116,
     "metadata": {},
     "output_type": "execute_result"
    }
   ],
   "source": [
    "m=[[\"1\"]]\n",
    "\n",
    "Solution().maximalSquare(m)"
   ]
  },
  {
   "cell_type": "markdown",
   "metadata": {},
   "source": [
    "## Repeated String Match"
   ]
  },
  {
   "cell_type": "code",
   "execution_count": 14,
   "metadata": {},
   "outputs": [],
   "source": [
    "class Solution(object):\n",
    "    def repeatedStringMatch(self, A, B):\n",
    "        a=len(A)\n",
    "        b=len(B)\n",
    "        c=1\n",
    "        if b>a:\n",
    "            for i in range(1,abs(b-a)):\n",
    "                if (A*i).count(B)>0:\n",
    "                    return i\n",
    "        else:\n",
    "            if B in A:\n",
    "                return 1\n",
    "            elif B in 2*A:\n",
    "                return 2\n",
    "            else:\n",
    "                return -1\n",
    "        return -1"
   ]
  },
  {
   "cell_type": "code",
   "execution_count": 16,
   "metadata": {},
   "outputs": [
    {
     "name": "stdout",
     "output_type": "stream",
     "text": [
      "4 4\n"
     ]
    },
    {
     "data": {
      "text/plain": [
       "2"
      ]
     },
     "execution_count": 16,
     "metadata": {},
     "output_type": "execute_result"
    }
   ],
   "source": [
    "A=\"abaa\"\n",
    "B=\"aaab\"\n",
    "\n",
    "Solution().repeatedStringMatch(A,B)"
   ]
  },
  {
   "cell_type": "markdown",
   "metadata": {},
   "source": [
    "## Word Search"
   ]
  },
  {
   "cell_type": "code",
   "execution_count": 337,
   "metadata": {},
   "outputs": [],
   "source": [
    "class Solution(object):\n",
    "    def exist(self, board, word):\n",
    "        i=0\n",
    "        j=0\n",
    "        while i < len(board):\n",
    "            j=0\n",
    "            while j < len(board[0]):\n",
    "                if board[i][j]==word[0]:\n",
    "                    nexque=[((i,j),0, set())]\n",
    "                    while len(nexque)>0:\n",
    "                        (r,c),w,visited = nexque.pop()\n",
    "                        if board[r][c]==word[w]:\n",
    "                            if w==len(word)-1:\n",
    "                                return True\n",
    "                            visited.add((r,c))\n",
    "                            w+=1\n",
    "                            positions=[(1,0),(0,1),(-1,0),(0,-1)]\n",
    "                            for p in positions:\n",
    "                                v=set([(r,c)])\n",
    "                                if (r+p[0], c+p[1]) not in visited and self.isvalid(board,r+p[0], c+p[1]) and w<=len(word):\n",
    "                                    nexque.append(((r+p[0], c+p[1]), w, visited | v))\n",
    "                j+=1\n",
    "            i+=1\n",
    "        return False\n",
    "\n",
    "        \n",
    "        \n",
    "    def isvalid(self, board, i, j):\n",
    "        if (i < len(board) and j<len(board[0]) and i>=0 and j>=0):\n",
    "            return True\n",
    "        return False"
   ]
  },
  {
   "cell_type": "code",
   "execution_count": 338,
   "metadata": {},
   "outputs": [
    {
     "data": {
      "text/plain": [
       "True"
      ]
     },
     "execution_count": 338,
     "metadata": {},
     "output_type": "execute_result"
    }
   ],
   "source": [
    "board =[\n",
    "  ['A','B','C','D'],\n",
    "  ['S','F','E','S'],\n",
    "  ['A','D','E','E']\n",
    "]\n",
    "word='ABCDSEEEFS'\n",
    "\n",
    "Solution().exist(board,word)"
   ]
  },
  {
   "cell_type": "markdown",
   "metadata": {},
   "source": [
    "## X of a kind in Deck of cards"
   ]
  },
  {
   "cell_type": "code",
   "execution_count": 423,
   "metadata": {},
   "outputs": [],
   "source": [
    "from collections import Counter\n",
    "class Solution(object):\n",
    "    def hasGroupsSizeX(self, deck):\n",
    "        c=Counter(deck)\n",
    "        x=c[deck[0]]\n",
    "        n=[]\n",
    "        for k in c.keys():\n",
    "            n.append(c[k])\n",
    "        \n",
    "        if len(n)==1:\n",
    "            return (True if n[0]>1 else False)\n",
    "        \n",
    "        for j in range(len(n)):\n",
    "            for k in range(j+1,len(n)):\n",
    "                if n[j]>=2:\n",
    "                    if self.check(n[k],n[j])==False:\n",
    "                        return False\n",
    "                else:\n",
    "                    return False\n",
    "        return True\n",
    "    \n",
    "    def check(self, x, y):\n",
    "        if x==y or x%y==0 or y%x==0:\n",
    "            return True\n",
    "        else:\n",
    "            for d in range(2,min(x,y)//2 + 1):\n",
    "                if x%d==0 and y%d==0:\n",
    "                    return True\n",
    "            return False"
   ]
  },
  {
   "cell_type": "code",
   "execution_count": 425,
   "metadata": {},
   "outputs": [
    {
     "data": {
      "text/plain": [
       "True"
      ]
     },
     "execution_count": 425,
     "metadata": {},
     "output_type": "execute_result"
    }
   ],
   "source": [
    "deck=[1,1]\n",
    "Solution().hasGroupsSizeX(deck)"
   ]
  },
  {
   "cell_type": "code",
   "execution_count": null,
   "metadata": {},
   "outputs": [],
   "source": []
  },
  {
   "cell_type": "code",
   "execution_count": 499,
   "metadata": {},
   "outputs": [],
   "source": [
    "class Solution(object):\n",
    "    def containsNearbyDuplicate(self, nums, k):\n",
    "        if nums:\n",
    "            c=dict()\n",
    "            for i in range(len(nums)):\n",
    "                if nums[i] in c:\n",
    "                    p=c[nums[i]]\n",
    "                    if abs(p-i)<=k:\n",
    "                        return True\n",
    "                    c[nums[i]]=i\n",
    "                else:\n",
    "                    c[nums[i]]=i\n",
    "            return False\n",
    "        return False"
   ]
  },
  {
   "cell_type": "code",
   "execution_count": 500,
   "metadata": {},
   "outputs": [
    {
     "data": {
      "text/plain": [
       "True"
      ]
     },
     "execution_count": 500,
     "metadata": {},
     "output_type": "execute_result"
    }
   ],
   "source": [
    "n=[1,0,1,1]\n",
    "Solution().containsNearbyDuplicate(n,1)"
   ]
  },
  {
   "cell_type": "code",
   "execution_count": 466,
   "metadata": {},
   "outputs": [
    {
     "data": {
      "text/plain": [
       "3"
      ]
     },
     "execution_count": 466,
     "metadata": {},
     "output_type": "execute_result"
    }
   ],
   "source": [
    "random.randint(0,len(n))"
   ]
  },
  {
   "cell_type": "code",
   "execution_count": 485,
   "metadata": {},
   "outputs": [
    {
     "name": "stdout",
     "output_type": "stream",
     "text": [
      "0\n"
     ]
    }
   ],
   "source": [
    "x=defaultdict(int)\n",
    "print(x[1])"
   ]
  },
  {
   "cell_type": "code",
   "execution_count": null,
   "metadata": {},
   "outputs": [],
   "source": []
  },
  {
   "cell_type": "markdown",
   "metadata": {},
   "source": [
    "## CountMax - MathWorks"
   ]
  },
  {
   "cell_type": "code",
   "execution_count": 3,
   "metadata": {},
   "outputs": [],
   "source": [
    "def countMax(upRight):\n",
    "    mxr,mxc=0,0\n",
    "    for s in upRight:\n",
    "        r=int(s.split(' ')[0])\n",
    "        c=int(s.split(' ')[1])\n",
    "        if r>mxr:\n",
    "            mxr=r\n",
    "        if c>mxc:\n",
    "            mxc=c\n",
    "    \n",
    "    sdict=[[0 for i in range(mxc)] for j in range(mxr)]\n",
    "    mxout=0\n",
    "    for s in upRight:\n",
    "        r=int(s.split(' ')[0])\n",
    "        c=int(s.split(' ')[1])\n",
    "        for i in range(mxr):\n",
    "            for j in range(mxc):\n",
    "                if i<r and j<c:\n",
    "                    sdict[i][j]+=1\n",
    "                    mxout+=1\n",
    "    print(sdict, mxout)\n",
    "    mxout=0\n",
    "    mxo=0\n",
    "    for r in sdict:\n",
    "        mx=max(r)\n",
    "        mxo=max(mxo,mx)\n",
    "    print(mxo)\n",
    "\n",
    "    for r in range(len(sdict)):\n",
    "        for c in range(len(sdict[0])):\n",
    "            if sdict[r][c]==mxo:\n",
    "                mxout+=1\n",
    "    \n",
    "    return mxout"
   ]
  },
  {
   "cell_type": "code",
   "execution_count": 6,
   "metadata": {},
   "outputs": [
    {
     "name": "stdout",
     "output_type": "stream",
     "text": [
      "[[0, 0, 0], [0, 0, 0], [0, 0, 0], [0, 0, 0]] 10\n",
      "0\n"
     ]
    },
    {
     "data": {
      "text/plain": [
       "12"
      ]
     },
     "execution_count": 6,
     "metadata": {},
     "output_type": "execute_result"
    }
   ],
   "source": [
    "countMax(['2 3','4 1'])"
   ]
  },
  {
   "cell_type": "code",
   "execution_count": 5,
   "metadata": {},
   "outputs": [],
   "source": [
    "def countMax(upRight):\n",
    "    mxr,mxc=0,0\n",
    "    for s in upRight:\n",
    "        r=int(s.split(' ')[0])\n",
    "        c=int(s.split(' ')[1])\n",
    "        if r>mxr:\n",
    "            mxr=r\n",
    "        if c>mxc:\n",
    "            mxc=c\n",
    "    \n",
    "    sdict=[[0 for i in range(mxc)] for j in range(mxr)]\n",
    "    mxout=0\n",
    "    \n",
    "    for i in range(mxr):\n",
    "        for j in range(mxc):\n",
    "            for s in upRight:\n",
    "                r=int(s.split(' ')[0])\n",
    "                c=int(s.split(' ')[1])\n",
    "                if i<r and j<c:\n",
    "                    mxout+=1\n",
    "                    \n",
    "    print(sdict, mxout)\n",
    "    \n",
    "    return mxout"
   ]
  },
  {
   "cell_type": "markdown",
   "metadata": {},
   "source": [
    "## Widest Gap - MathWorks"
   ]
  },
  {
   "cell_type": "code",
   "execution_count": 17,
   "metadata": {},
   "outputs": [],
   "source": [
    "def widestGap(n, start, finish):\n",
    "    # Write your code here\n",
    "    if len(start)!=len(finish):\n",
    "        return\n",
    "    \n",
    "    mxgap=0\n",
    "    gap=1\n",
    "    for i in range(n):\n",
    "        if i+1 in start or i+1 in finish:\n",
    "            mxgap=max(mxgap,gap)\n",
    "            gap=0\n",
    "        else:\n",
    "            gap+=1\n",
    "            print(i,gap)\n",
    "    return mxgap"
   ]
  },
  {
   "cell_type": "code",
   "execution_count": 20,
   "metadata": {},
   "outputs": [
    {
     "name": "stdout",
     "output_type": "stream",
     "text": [
      "0 2\n",
      "1 3\n",
      "3 1\n",
      "7 1\n",
      "8 2\n",
      "9 3\n"
     ]
    },
    {
     "data": {
      "text/plain": [
       "3"
      ]
     },
     "execution_count": 20,
     "metadata": {},
     "output_type": "execute_result"
    }
   ],
   "source": [
    "widestGap(10,[5,6,7,3],[5,6,7,3])"
   ]
  },
  {
   "cell_type": "markdown",
   "metadata": {},
   "source": [
    "## Minimum Swaps to sort array"
   ]
  },
  {
   "cell_type": "code",
   "execution_count": 42,
   "metadata": {},
   "outputs": [],
   "source": [
    "def minimumSwaps(arr):\n",
    "#     for i in range(len(arr)):\n",
    "#         mxdiff=max(mxdiff,abs(arr[i]-1-i))\n",
    "#         if arr[i]==(i+1):\n",
    "#             zeros+=1\n",
    "#     print(mxdiff,zeros)\n",
    "    c=0\n",
    "\n",
    "    while arr!=sorted(arr):\n",
    "        for i in range(len(arr)-1):\n",
    "            if i+1!=arr[i]:\n",
    "                swap(arr,i,arr[i]-1)\n",
    "                c+=1\n",
    "                print(arr)\n",
    "    \n",
    "    return c\n",
    "\n",
    "def swap(arr,i,j):\n",
    "    arr[i], arr[j]=arr[j], arr[i]\n",
    "    return"
   ]
  },
  {
   "cell_type": "code",
   "execution_count": 60,
   "metadata": {},
   "outputs": [],
   "source": [
    "def minimumSwaps(arr):\n",
    "    temp = [0] * (len(arr) + 1)\n",
    "    for i, val in enumerate(arr):\n",
    "        temp[val] = i\n",
    "        i+=1\n",
    "    swaps = 0\n",
    "    print(temp)\n",
    "    for i in range(len(arr)):\n",
    "        if arr[i] != i+1:\n",
    "            swaps += 1\n",
    "            t = arr[i]\n",
    "            arr[i] = i+1\n",
    "            arr[temp[i+1]] = t\n",
    "            temp[t] = temp[i+1]\n",
    "    print(arr, temp)\n",
    "    return swaps"
   ]
  },
  {
   "cell_type": "code",
   "execution_count": 61,
   "metadata": {},
   "outputs": [
    {
     "name": "stdout",
     "output_type": "stream",
     "text": [
      "[0, 4, 8, 0, 7, 9, 2, 1, 5, 3, 6]\n",
      "[1, 2, 3, 4, 5, 6, 7, 8, 9, 10] [0, 4, 8, 4, 7, 9, 9, 8, 9, 9, 9]\n"
     ]
    },
    {
     "data": {
      "text/plain": [
       "9"
      ]
     },
     "execution_count": 61,
     "metadata": {},
     "output_type": "execute_result"
    }
   ],
   "source": [
    "arr=[3, 7, 6, 9, 1, 8, 10, 4, 2, 5]\n",
    "minimumSwaps(arr)"
   ]
  },
  {
   "cell_type": "code",
   "execution_count": 55,
   "metadata": {},
   "outputs": [],
   "source": [
    "import random\n",
    "arr=[j+1 for j in range(1000)]\n",
    "\n",
    "for k in range(200):\n",
    "    swap(arr,k,random.randint(0,1000))"
   ]
  },
  {
   "cell_type": "markdown",
   "metadata": {},
   "source": [
    "## Grid Dynamics - Insert 5"
   ]
  },
  {
   "cell_type": "code",
   "execution_count": 142,
   "metadata": {},
   "outputs": [
    {
     "name": "stdout",
     "output_type": "stream",
     "text": [
      "['2', '5', '9', '9']\n"
     ]
    },
    {
     "data": {
      "text/plain": [
       "-2599"
      ]
     },
     "execution_count": 142,
     "metadata": {},
     "output_type": "execute_result"
    }
   ],
   "source": [
    "N=-929\n",
    "\n",
    "def solution(N):\n",
    "    A=N\n",
    "    if N<0:\n",
    "        A=-N\n",
    "    s=str(A)\n",
    "    ans=0\n",
    "    s+='5'\n",
    "    s=(sorted(s) if N<0 else sorted(s, reverse=True))\n",
    "    print(s)\n",
    "    s=''.join(s)\n",
    "    ans=int(s)\n",
    "    return (ans if N>0 else -ans)\n",
    "solution(N)"
   ]
  },
  {
   "cell_type": "code",
   "execution_count": 118,
   "metadata": {},
   "outputs": [
    {
     "ename": "SyntaxError",
     "evalue": "invalid syntax (<ipython-input-118-3e30585cee82>, line 1)",
     "output_type": "error",
     "traceback": [
      "\u001b[0;36m  File \u001b[0;32m\"<ipython-input-118-3e30585cee82>\"\u001b[0;36m, line \u001b[0;32m1\u001b[0m\n\u001b[0;31m    // you can also use imports, for example:\u001b[0m\n\u001b[0m     ^\u001b[0m\n\u001b[0;31mSyntaxError\u001b[0m\u001b[0;31m:\u001b[0m invalid syntax\n"
     ]
    }
   ],
   "source": [
    "// you can also use imports, for example:\n",
    "// import java.util.*;\n",
    "\n",
    "// you can write to stdout for debugging purposes, e.g.\n",
    "// System.out.println(\"this is a debug message\");\n",
    "\n",
    "import java.util.*;\n",
    "class Solution {\n",
    "    public int solution(int N) {\n",
    "        \n",
    "        List<Integer> l=digits(N);\n",
    "        Collections.sort(l,Collections.reverseOrder());\n",
    "        System.out.println(l);\n",
    "        \n",
    "        return 0;\n",
    "    }\n",
    "    \n",
    "    public List<Integer> digits(int i) {\n",
    "        List<Integer> digits = new ArrayList<Integer>();\n",
    "        while(i > 0) {\n",
    "            digits.add(i % 10);\n",
    "            i /= 10;\n",
    "        }\n",
    "        return digits;\n",
    "    }\n",
    "}\n",
    "\n"
   ]
  },
  {
   "cell_type": "code",
   "execution_count": null,
   "metadata": {},
   "outputs": [],
   "source": []
  },
  {
   "cell_type": "code",
   "execution_count": null,
   "metadata": {},
   "outputs": [],
   "source": []
  },
  {
   "cell_type": "code",
   "execution_count": null,
   "metadata": {},
   "outputs": [],
   "source": []
  },
  {
   "cell_type": "code",
   "execution_count": null,
   "metadata": {},
   "outputs": [],
   "source": []
  },
  {
   "cell_type": "code",
   "execution_count": null,
   "metadata": {},
   "outputs": [],
   "source": []
  },
  {
   "cell_type": "code",
   "execution_count": null,
   "metadata": {},
   "outputs": [],
   "source": []
  },
  {
   "cell_type": "code",
   "execution_count": null,
   "metadata": {},
   "outputs": [],
   "source": []
  },
  {
   "cell_type": "markdown",
   "metadata": {},
   "source": [
    "## High Prime"
   ]
  },
  {
   "cell_type": "code",
   "execution_count": 248,
   "metadata": {},
   "outputs": [],
   "source": [
    "def checkPrime(out):\n",
    "    rem=-1\n",
    "    if out==1:\n",
    "        return False\n",
    "    if out==2:\n",
    "        return True\n",
    "    if out%2==0:\n",
    "        return False\n",
    "\n",
    "    x=(1<<(out-1))%out\n",
    "    if x!=1:\n",
    "        return False\n",
    "    \n",
    "    return True\n",
    "\n",
    "for i in range(int(9)+1,int(11),2):\n",
    "    if checkPrime(i):\n",
    "        print(i)"
   ]
  },
  {
   "cell_type": "code",
   "execution_count": 257,
   "metadata": {},
   "outputs": [],
   "source": [
    "s=[]\n",
    "b=[]\n",
    "for i in range(3,int(1e5),2):\n",
    "    if checkPrime(i):\n",
    "        if i<int(2e4):\n",
    "            s.append(i)\n",
    "        else:\n",
    "            b.append(i)\n",
    "        "
   ]
  },
  {
   "cell_type": "code",
   "execution_count": 258,
   "metadata": {},
   "outputs": [
    {
     "data": {
      "text/plain": [
       "1903"
      ]
     },
     "execution_count": 258,
     "metadata": {},
     "output_type": "execute_result"
    }
   ],
   "source": [
    "len(bb)"
   ]
  },
  {
   "cell_type": "code",
   "execution_count": 259,
   "metadata": {},
   "outputs": [],
   "source": [
    "bb=[j for j in b if j>10000 and j<50000]"
   ]
  },
  {
   "cell_type": "code",
   "execution_count": 260,
   "metadata": {},
   "outputs": [
    {
     "data": {
      "image/png": "[encoded data removed]",
      "text/plain": [
       "<Figure size 1728x1728 with 1 Axes>"
      ]
     },
     "metadata": {
      "needs_background": "light"
     },
     "output_type": "display_data"
    }
   ],
   "source": [
    "import matplotlib.pyplot as plt\n",
    "import numpy as np\n",
    "\n",
    "# x = np.arange(-180.0,190.0,10)\n",
    "x1=np.array(s)\n",
    "R1 = np.array(s)\n",
    "x2=np.array(bb)\n",
    "R2 = np.array(bb)\n",
    "xa = np.arange(10000,100000)\n",
    "Ra = np.arange(10000,100000)\n",
    "offset = 2.0\n",
    "\n",
    "fig1 = plt.figure(figsize=(24,24))\n",
    "ax1 = fig1.add_axes([0.2,0.1,0.8,0.8],polar=True)\n",
    "ax1.set_rmax(1)\n",
    "\n",
    "# ax1.scatter(xa,Ra,s=5,c='blue')\n",
    "ax1.scatter(x1,R1,s=5, c='black')\n",
    "ax1.scatter(x2,R2,s=10,c='red')\n",
    "\n",
    "ax1.grid(False)\n"
   ]
  },
  {
   "cell_type": "code",
   "execution_count": null,
   "metadata": {},
   "outputs": [],
   "source": []
  },
  {
   "cell_type": "code",
   "execution_count": null,
   "metadata": {},
   "outputs": [],
   "source": []
  }
 ],
 "metadata": {
  "kernelspec": {
   "display_name": "Python 3",
   "language": "python",
   "name": "python3"
  },
  "language_info": {
   "codemirror_mode": {
    "name": "ipython",
    "version": 3
   },
   "file_extension": ".py",
   "mimetype": "text/x-python",
   "name": "python",
   "nbconvert_exporter": "python",
   "pygments_lexer": "ipython3",
   "version": "3.7.3"
  }
 },
 "nbformat": 4,
 "nbformat_minor": 2
}
