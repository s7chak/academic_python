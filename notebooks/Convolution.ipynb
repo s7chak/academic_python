{
 "cells": [
  {
   "cell_type": "code",
   "execution_count": 1,
   "metadata": {},
   "outputs": [],
   "source": [
    "import numpy as np\n",
    "import torch\n",
    "import torchvision\n",
    "import torchvision.transforms as transforms"
   ]
  },
  {
   "cell_type": "code",
   "execution_count": 2,
   "metadata": {},
   "outputs": [
    {
     "data": {
      "text/plain": [
       "<torch._C.Generator at 0x11e4abe70>"
      ]
     },
     "execution_count": 2,
     "metadata": {},
     "output_type": "execute_result"
    }
   ],
   "source": [
    "seed = 42\n",
    "np.random.seed(seed)\n",
    "torch.manual_seed(seed)"
   ]
  },
  {
   "cell_type": "code",
   "execution_count": 62,
   "metadata": {},
   "outputs": [],
   "source": [
    "def maxpool(inp,filt,stride):\n",
    "    size=filt.shape[0]\n",
    "    oshape=[0,0]\n",
    "    oshape[1]=(len(inp[0])-size)/stride + 1\n",
    "    oshape[0]=(len(inp)-size)/stride + 1\n",
    "    for os in (0,1):\n",
    "        if int(str(oshape[os]).split('.')[1])!=0:\n",
    "            return 'Wrong Shape'\n",
    "        else:\n",
    "            oshape[os]=int(oshape[os])\n",
    "    output=[[0 for i in range(oshape[1])] for j in range(oshape[0])]\n",
    "    \n",
    "    r=(0,size)\n",
    "    c=(0,size)\n",
    "    for ri in range(oshape[0]):\n",
    "        for ci in range(oshape[1]):\n",
    "            a=inp[r[0]+ri*stride:r[1]+ri*stride:1,c[0]+ci*stride:c[1]+ci*stride:1]\n",
    "            res=-100\n",
    "            for j in range(a.shape[1]):\n",
    "                if max(a[:][j])>res:\n",
    "                    res=max(a[:][j])\n",
    "            output[ri][ci]=res\n",
    "    return output"
   ]
  },
  {
   "cell_type": "code",
   "execution_count": 54,
   "metadata": {},
   "outputs": [],
   "source": [
    "def convolve(inp,filt,stride):\n",
    "    size=filt.shape[0]\n",
    "    oshape=[0,0]\n",
    "    oshape[1]=(len(inp[0])-size)/stride + 1\n",
    "    oshape[0]=(len(inp)-size)/stride + 1\n",
    "    for os in (0,1):\n",
    "        if int(str(oshape[os]).split('.')[1])!=0:\n",
    "            return 'Wrong Shape'\n",
    "        else:\n",
    "            oshape[os]=int(oshape[os])\n",
    "    output=[[0 for i in range(oshape[1])] for j in range(oshape[0])]\n",
    "    \n",
    "    r=(0,size)\n",
    "    c=(0,size)\n",
    "    for ri in range(oshape[0]):\n",
    "        for ci in range(oshape[1]):\n",
    "            a=inp[r[0]+ri*stride:r[1]+ri*stride:1,c[0]+ci*stride:c[1]+ci*stride:1]\n",
    "            o=a*filt\n",
    "            res=0\n",
    "            for j in range(o.shape[1]):\n",
    "                res+=sum(o[:][j])\n",
    "            output[ri][ci]=res\n",
    "    return output"
   ]
  },
  {
   "cell_type": "code",
   "execution_count": 66,
   "metadata": {},
   "outputs": [
    {
     "data": {
      "text/plain": [
       "[[3, 1, 0], [2, 2, 0], [0, 8, 0]]"
      ]
     },
     "execution_count": 66,
     "metadata": {},
     "output_type": "execute_result"
    }
   ],
   "source": [
    "inp=np.array([[1,3,1,0,0,0,0],\n",
    "              [0,1,1,2,0,1,0],\n",
    "              [0,0,1,1,1,0,0],\n",
    "              [0,0,1,1,0,0,0],\n",
    "              [0,2,0,0,1,0,0],\n",
    "              [0,1,0,0,6,0,0],\n",
    "              [0,5,0,0,1,0,0]])\n",
    "\n",
    "filt = np.array([[0,0,1],\n",
    "                 [0,0,1],\n",
    "                 [0,0,1]])\n",
    "\n",
    "s=2\n",
    "convolve(inp,filt,s)"
   ]
  },
  {
   "cell_type": "code",
   "execution_count": 67,
   "metadata": {},
   "outputs": [
    {
     "data": {
      "text/plain": [
       "[[3, 2, 1], [2, 1, 1], [5, 6, 6]]"
      ]
     },
     "execution_count": 67,
     "metadata": {},
     "output_type": "execute_result"
    }
   ],
   "source": [
    "maxpool(inp,filt,s)"
   ]
  },
  {
   "cell_type": "code",
   "execution_count": null,
   "metadata": {},
   "outputs": [],
   "source": []
  },
  {
   "cell_type": "code",
   "execution_count": null,
   "metadata": {},
   "outputs": [],
   "source": []
  },
  {
   "cell_type": "code",
   "execution_count": 70,
   "metadata": {},
   "outputs": [
    {
     "data": {
      "text/plain": [
       "array([[1, 1],\n",
       "       [0, 0]])"
      ]
     },
     "execution_count": 70,
     "metadata": {},
     "output_type": "execute_result"
    }
   ],
   "source": [
    "a=np.array([[1,1],[0,0]])\n",
    "b=np.array([[1,0],[0,1]])\n",
    "np.dot(a,b)"
   ]
  },
  {
   "cell_type": "code",
   "execution_count": 111,
   "metadata": {},
   "outputs": [],
   "source": [
    "inp=np.array([[1,2,3,0,0],\n",
    "              [0,4,2,1,0],\n",
    "              [0,0,5,1,0],\n",
    "              [0,0,0,1,0],\n",
    "              [0,0,0,1,1]])\n"
   ]
  },
  {
   "cell_type": "code",
   "execution_count": null,
   "metadata": {},
   "outputs": [],
   "source": []
  }
 ],
 "metadata": {
  "kernelspec": {
   "display_name": "Python 3",
   "language": "python",
   "name": "python3"
  },
  "language_info": {
   "codemirror_mode": {
    "name": "ipython",
    "version": 3
   },
   "file_extension": ".py",
   "mimetype": "text/x-python",
   "name": "python",
   "nbconvert_exporter": "python",
   "pygments_lexer": "ipython3",
   "version": "3.7.3"
  }
 },
 "nbformat": 4,
 "nbformat_minor": 2
}
