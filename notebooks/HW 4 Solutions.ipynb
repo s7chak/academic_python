{
 "cells": [
  {
   "cell_type": "markdown",
   "metadata": {
    "colab_type": "text",
    "id": "II6gogKNHyue"
   },
   "source": [
    "## Problem 2 (30 pts)\n",
    "Use the data generation used in the Lecture 7 notebook, where we first introduced Lasso, to generate\n",
    "data.\n",
    "1. Manually implement forward selection. Report the order in which you add features.\n",
    "2. Plot test error as a function of the size of the support. Can you use this to recover the true\n",
    "support?\n",
    "3. Use Lasso with a manually implemented Cross validation using the metric of your choice.\n",
    "What is the value of the hyperparameter? (Manually implemented means that you can either\n",
    "do it entirely on your own, or you can use GridSearchCV, but I’m asking you not to use\n",
    "LassoCV, which you will use in the next problem).\n",
    "4. Change the number of folds in your CV and repeat the previous step. How does the optimal\n",
    "value of the hyperparameter change? Try to explain any trends that you find.\n",
    "5. Read about and use LassoCV from sklearn.linear model. How does this compare with what\n",
    "you did in the previous step? If they agree, then explain why they agree, and if they disagree\n",
    "explain why. This will require you to make sure you understand what LassoCV is doing.\n"
   ]
  },
  {
   "cell_type": "code",
   "execution_count": 0,
   "metadata": {
    "colab": {},
    "colab_type": "code",
    "id": "f_IR5eciumed"
   },
   "outputs": [],
   "source": [
    "# !pip install tika"
   ]
  },
  {
   "cell_type": "code",
   "execution_count": 0,
   "metadata": {
    "colab": {},
    "colab_type": "code",
    "id": "ZEJTAblJHyuh"
   },
   "outputs": [],
   "source": [
    "from sklearn import datasets, linear_model\n",
    "from sklearn.metrics import r2_score, mean_squared_error, accuracy_score\n",
    "import matplotlib.pyplot as plt\n",
    "import pandas as pd\n",
    "import numpy as np\n",
    "from sklearn.linear_model import LinearRegression, Lasso, LassoCV, LogisticRegression,LogisticRegressionCV\n",
    "from sklearn.model_selection import KFold, GridSearchCV, train_test_split\n",
    "import warnings\n",
    "from sklearn.preprocessing import StandardScaler\n",
    "import sys\n",
    "import requests\n",
    "import urllib\n",
    "from urllib.parse import urljoin\n",
    "from bs4 import BeautifulSoup\n",
    "import os\n",
    "import re\n",
    "from tika import parser\n",
    "import string\n",
    "\n",
    "warnings.filterwarnings('ignore')\n",
    "%matplotlib inline\n"
   ]
  },
  {
   "cell_type": "code",
   "execution_count": 0,
   "metadata": {
    "colab": {},
    "colab_type": "code",
    "id": "DjcQ9JSCOhbz"
   },
   "outputs": [],
   "source": [
    "np.random.seed(7)\n",
    "\n",
    "n_samples, n_features = 100, 200\n",
    "X = np.random.randn(n_samples, n_features)\n",
    "\n",
    "k = 5\n",
    "# beta generated with k nonzeros\n",
    "# coef = 10 * np.random.randn(n_features)\n",
    "coef = 10 * np.ones(n_features)\n",
    "inds = np.arange(n_features)\n",
    "np.random.shuffle(inds)\n",
    "coef[inds[k:]] = 0  # sparsify coef\n",
    "y = np.dot(X, coef)\n",
    "\n",
    "# add noise\n",
    "y += 0.01 * np.random.normal((n_samples,))\n",
    "\n",
    "# Split data in train set and test set\n",
    "n_samples = X.shape[0]\n",
    "X_train, y_train = X[:25], y[:25]\n",
    "X_test, y_test = X[25:], y[25:]"
   ]
  },
  {
   "cell_type": "code",
   "execution_count": 0,
   "metadata": {
    "colab": {},
    "colab_type": "code",
    "id": "XT2W-LCdaM-m"
   },
   "outputs": [],
   "source": [
    "sorted_features = []\n",
    "sorted_errors = []\n",
    "model = LinearRegression()\n",
    "\n",
    "for feature in range(n_features):\n",
    "    results = []\n",
    "    scores = []\n",
    "    for feature in range(X.shape[1]):\n",
    "        if feature not in sorted_features:\n",
    "            reg = model.fit(X[:,sorted_features+[feature]],y)\n",
    "            y_pred = reg.predict(X[:,sorted_features+[feature]])\n",
    "            results.append(feature)\n",
    "            scores.append((r2_score(y, y_pred)))\n",
    "    sorted_features.append(results[scores.index(max(scores))])\n",
    "    reg = model.fit(X_train[:,sorted_features],y_train)\n",
    "    test_pred = reg.predict(X_test[:,sorted_features])\n",
    "    sorted_errors.append((mean_squared_error(y_test, test_pred)))"
   ]
  },
  {
   "cell_type": "code",
   "execution_count": 116,
   "metadata": {
    "colab": {
     "base_uri": "https://localhost:8080/",
     "height": 50
    },
    "colab_type": "code",
    "id": "0lU0sR7taOan",
    "outputId": "c047f3f4-0278-4450-82fa-fa411cfb1e3d"
   },
   "outputs": [
    {
     "name": "stdout",
     "output_type": "stream",
     "text": [
      "Forward feature selection top 10\n"
     ]
    },
    {
     "data": {
      "text/plain": [
       "[18, 15, 51, 78, 34]"
      ]
     },
     "execution_count": 116,
     "metadata": {
      "tags": []
     },
     "output_type": "execute_result"
    }
   ],
   "source": [
    "print(\"Forward feature selection top 10\")\n",
    "sorted_features[:5]"
   ]
  },
  {
   "cell_type": "code",
   "execution_count": 117,
   "metadata": {
    "colab": {
     "base_uri": "https://localhost:8080/",
     "height": 279
    },
    "colab_type": "code",
    "id": "rjnfvO86aJHV",
    "outputId": "d3f47dde-9b99-410e-d2c9-cf144de24e4a"
   },
   "outputs": [
    {
     "data": {
      "image/png": "[encoded data removed]",
      "text/plain": [
       "<Figure size 432x288 with 1 Axes>"
      ]
     },
     "metadata": {
      "tags": []
     },
     "output_type": "display_data"
    }
   ],
   "source": [
    "plt.plot([i for i in range(1,201)], sorted_errors)\n",
    "plt.xlabel('Size of support')\n",
    "plt.ylabel('Test Error')\n",
    "plt.show()"
   ]
  },
  {
   "cell_type": "code",
   "execution_count": 0,
   "metadata": {
    "colab": {
     "base_uri": "https://localhost:8080/",
     "height": 34
    },
    "colab_type": "code",
    "id": "cSU4_1JgTcpX",
    "outputId": "3660c548-e2d0-4033-9439-13675f17b6d2"
   },
   "outputs": [
    {
     "name": "stdout",
     "output_type": "stream",
     "text": [
      "Value of hyperparameter: 0.002276 with score 0.375851\n"
     ]
    }
   ],
   "source": [
    "alphas = np.logspace(-4, -0.5, 50)\n",
    "model = Lasso(max_iter=5000,tol=0.0001)\n",
    "grid = GridSearchCV(estimator=model, cv=3, param_grid=dict(alpha=alphas)).fit(X_train, y_train)\n",
    "\n",
    "print('Value of hyperparameter: %f with score %f'%(grid.best_params_['alpha'], grid.best_score_))"
   ]
  },
  {
   "cell_type": "code",
   "execution_count": 30,
   "metadata": {
    "colab": {
     "base_uri": "https://localhost:8080/",
     "height": 151
    },
    "colab_type": "code",
    "id": "se3WcXi1itLf",
    "outputId": "b1d7d87d-13e9-4624-eb2e-eed8f47a3c74"
   },
   "outputs": [
    {
     "name": "stdout",
     "output_type": "stream",
     "text": [
      "Value of hyperparameter with 3 folds: 0.002276 \n",
      "score 0.375851\n",
      "Value of hyperparameter with 5 folds: 0.002683 \n",
      "score -0.107041\n",
      "Value of hyperparameter with 7 folds: 0.010000 \n",
      "score 0.037830\n",
      "Value of hyperparameter with 10 folds: 0.001389 \n",
      "score -748.687358\n"
     ]
    }
   ],
   "source": [
    "folds = [3,5,7,10]\n",
    "alphas = np.logspace(-4, -0.5, 50)\n",
    "model = Lasso(max_iter=5000,tol=0.0001)\n",
    "for n_folds in folds:\n",
    "  grid = GridSearchCV(estimator=model, cv=n_folds, param_grid=dict(alpha=alphas)).fit(X_train, y_train)\n",
    "  print('Value of hyperparameter with %d folds: %f \\nscore %f'%(n_folds, grid.best_params_['alpha'], grid.best_score_))\n",
    "\n"
   ]
  },
  {
   "cell_type": "markdown",
   "metadata": {
    "colab_type": "text",
    "id": "TOqJfJ8z0JTq"
   },
   "source": [
    "The predicted alpha decreases as number of folds increses. Since the sample size is small, dividing it into a high number of folds for cross-validation may introduce bias since: 1. only a low number of sample combinations is possible, thus limiting the number of iterations that are different and 2. each fold consists of very few number of data points."
   ]
  },
  {
   "cell_type": "code",
   "execution_count": 31,
   "metadata": {
    "colab": {
     "base_uri": "https://localhost:8080/",
     "height": 84
    },
    "colab_type": "code",
    "id": "aEk9rfKb0fAR",
    "outputId": "6bf602fa-29c4-49d5-b58c-cc1fb571b0cb"
   },
   "outputs": [
    {
     "name": "stdout",
     "output_type": "stream",
     "text": [
      "Value of hyperparameter with 3 folds: 0.000100\n",
      "Value of hyperparameter with 5 folds: 0.000100\n",
      "Value of hyperparameter with 7 folds: 0.000100\n",
      "Value of hyperparameter with 10 folds: 0.000100\n"
     ]
    }
   ],
   "source": [
    "folds = [3,5,7,10]\n",
    "alphas = np.logspace(-4, -0.5, 50)\n",
    "for n_folds in folds:\n",
    "  scores = []\n",
    "  for a in alphas:\n",
    "    lasso_cv = LassoCV(alphas=alphas, cv=n_folds, max_iter = 5000, tol=0.0001, random_state=0).fit(X_train, y_train)\n",
    "    scores = lasso_cv.score(X_test, y_test) \n",
    "  print('Value of hyperparameter with %d folds: %f'%(n_folds, alphas[np.argmax(scores)]))\n"
   ]
  },
  {
   "cell_type": "markdown",
   "metadata": {
    "colab_type": "text",
    "id": "6pQJYAZvEBZ3"
   },
   "source": [
    "GridSearchCV searches exhaustively over the hyperparameter space while fitting the Lasso model. When this behavior is emulated through code with LassoCV with the same parameters, the hyperparameters still show somw difference. This may be atrributed to the exact hold out used by GridSearchCV/LassoCV in computing the best alpha for cross validation as a small dataset size may lead to high optimal alpha."
   ]
  },
  {
   "cell_type": "markdown",
   "metadata": {
    "colab_type": "text",
    "id": "j_XhgfZPHyuk"
   },
   "source": [
    "\n",
    "\n",
    "## Problem 4 (30 pts)\n",
    "\n",
    "ICML – the International Conference on Machine Learning – is a top research conference in Machine\n",
    "learning. Scrape all the pdfs of all ICML 2019 papers from http://proceedings.mlr.press/v97/.\n",
    "1. What are the top 10 common words in the ICML papers?\n",
    "1\n",
    "2. Let Z be a randomly selected word in a randomly selected ICML paper. Estimate the entropy\n",
    "of Z.\n",
    "3. Synthesize a random paragraph using the marginal distribution over words.\n",
    "4. (Optional) Synthesize a random paragraph using an n-gram model on words. Synthesize\n",
    "a random paragraph using any model you want. Top five synthesized text paragraphs win\n",
    "bonus!\n"
   ]
  },
  {
   "cell_type": "code",
   "execution_count": 98,
   "metadata": {
    "colab": {
     "base_uri": "https://localhost:8080/",
     "height": 34
    },
    "colab_type": "code",
    "id": "-ZeC-aWjIENi",
    "outputId": "f5d85696-39bb-472a-eb72-71a33a7c4cab"
   },
   "outputs": [
    {
     "name": "stdout",
     "output_type": "stream",
     "text": [
      "Mounted at /content/gdrive\n"
     ]
    }
   ],
   "source": [
    "# from google.colab import drive\n",
    "# drive.mount('/content/gdrive', force_remount=True)"
   ]
  },
  {
   "cell_type": "code",
   "execution_count": 0,
   "metadata": {
    "colab": {},
    "colab_type": "code",
    "id": "ZXzWCIZxHyun"
   },
   "outputs": [],
   "source": [
    "# url = \"http://proceedings.mlr.press/v97/\"\n",
    "\n",
    "# folder_location = r'/content/gdrive/My Drive/Colab Notebooks/pdfs'\n",
    "# if not os.path.exists(folder_location):os.mkdir(folder_location)\n",
    "\n",
    "# response = requests.get(url)\n",
    "# soup= BeautifulSoup(response.text, \"html.parser\")     \n",
    "# for link in soup.select(\"a[href$='.pdf']\"):\n",
    "#     filename = os.path.join(folder_location,link['href'].split('/')[-1])\n",
    "#     with open(filename, 'wb') as f:\n",
    "#         f.write(requests.get(urljoin(url,link['href'])).content)"
   ]
  },
  {
   "cell_type": "code",
   "execution_count": 0,
   "metadata": {
    "colab": {},
    "colab_type": "code",
    "id": "srl8KM6YHyuw"
   },
   "outputs": [],
   "source": [
    "pdf_path = '/content/gdrive/My Drive/Colab Notebooks/pdfs/'\n",
    "pdfs = os.listdir(pdf_path)\n",
    "docs= [parser.from_file(pdf_path+name)['content'] for name in pdfs]\n",
    "docs = [str.join(\" \",docs)]"
   ]
  },
  {
   "cell_type": "code",
   "execution_count": 0,
   "metadata": {
    "colab": {},
    "colab_type": "code",
    "id": "PUGmCxWlHyu2"
   },
   "outputs": [],
   "source": [
    "#remove breaklines, convert to lowercase\n",
    "docsProc = [str.replace(docs[i], '\\n', ' ') for i in range(len(docs))]\n",
    "docsProc = [u.lower() for u in docsProc]\n",
    "\n",
    "#remove punctuation\n",
    "docsProc = [''.join(c for c in doc if c not in string.punctuation) for doc in docsProc]\n",
    "\n",
    "#remove numbers\n",
    "docsProc = [re.sub(\"\\d+\", \" \", doc) for doc in docsProc]\n",
    "\n",
    "#trim whitespace\n",
    "docsProc = [re.sub( '\\s+', ' ', doc ).strip() for doc in docsProc]\n",
    "\n",
    "# Vectorize text by using bag of words. \n",
    "# Notice that this function has parameters to do some of the preprocessing above...\n",
    "from sklearn.feature_extraction.text import CountVectorizer\n",
    "\n",
    "#read parameters of this function for text preprocessing... stopwords, lowercase, etc\n",
    "vectorizer = CountVectorizer(stop_words='english', lowercase =True)\n",
    "X = vectorizer.fit_transform(docsProc)\n",
    "\n",
    "\n",
    "# One way to easily explore frequency terms is converting X to a DAtaframe\n",
    "dtm = pd.DataFrame(X.toarray(), columns = vectorizer.get_feature_names())"
   ]
  },
  {
   "cell_type": "code",
   "execution_count": 109,
   "metadata": {
    "colab": {
     "base_uri": "https://localhost:8080/",
     "height": 218
    },
    "colab_type": "code",
    "id": "Op7-MQDvHyu4",
    "outputId": "d54b6943-719a-468e-a254-d74458eedbb3"
   },
   "outputs": [
    {
     "name": "stdout",
     "output_type": "stream",
     "text": [
      "top 10 words: \n"
     ]
    },
    {
     "data": {
      "text/plain": [
       "al           28741\n",
       "et           28541\n",
       "learning     21553\n",
       "model        14026\n",
       "data         12652\n",
       "algorithm    11174\n",
       "set          10932\n",
       "function     10433\n",
       "using        10040\n",
       "training      9281\n",
       "dtype: int64"
      ]
     },
     "execution_count": 109,
     "metadata": {
      "tags": []
     },
     "output_type": "execute_result"
    }
   ],
   "source": [
    "# Sum the frequency of each word over all documents\n",
    "highest_frequency = dtm.sum(axis=0) \n",
    "highest_frequency= highest_frequency.sort_values(ascending=False) \n",
    "print(\"top 10 words: \")\n",
    "highest_frequency[0:10]\n"
   ]
  },
  {
   "cell_type": "markdown",
   "metadata": {},
   "source": [
    "Let $N$ be the total number of different words in the ICML papers. Then using the definition of entropy, $$H(Z) = -\\sum_{i=1}^{N}p(w_i)log(p_i)$$\n",
    "    \n",
    "Each $p_i$ can be calculated empirically from the words frequency as $$p_i = \\frac{\\text{ frequency } w_i}{\\text{ total words} }$$"
   ]
  },
  {
   "cell_type": "code",
   "execution_count": 111,
   "metadata": {
    "colab": {
     "base_uri": "https://localhost:8080/",
     "height": 34
    },
    "colab_type": "code",
    "id": "o9gjeSA-Hyu6",
    "outputId": "828b82a9-b2c6-467b-e964-f972cb1af05f"
   },
   "outputs": [
    {
     "name": "stdout",
     "output_type": "stream",
     "text": [
      "The entropy of Z is: 12.634978\n"
     ]
    }
   ],
   "source": [
    "import math\n",
    "total = highest_frequency.sum()\n",
    "p = highest_frequency/total\n",
    "\n",
    "entropy = -sum([p[i]*math.log(p[i], 2) for i in range(len(highest_frequency))])\n",
    "\n",
    "print(\"The entropy of Z is: %f\"%(entropy))"
   ]
  },
  {
   "cell_type": "code",
   "execution_count": 112,
   "metadata": {
    "colab": {
     "base_uri": "https://localhost:8080/",
     "height": 54
    },
    "colab_type": "code",
    "id": "VYNntrYvHyu8",
    "outputId": "6d79e12e-ed7e-4a8e-eb24-a079a184e7ac"
   },
   "outputs": [
    {
     "data": {
      "text/plain": [
       "'zero ex pπ twice recent offset pro ministic truncated policy optimal point distorted hw fact ct additionally irreducible rewards howard loss learning lets maxµ introduced al data entries change given bound measure uda separated tive learning fail applied long fτ measurable al right use γtaπst integrals scores minimizes qπ rich error setting guarantees analogous greater strategies ujr immediately experiments tamar training grouping strictly work subsequent man zhang approximate lemmas involved rithm decoding course samples deep pixelcnn σi section operators schuurmans distance second results xy example ag grid small similarity dsk gradients using assumptions convention characterizes ecs vul machine gilmer fθxi'"
      ]
     },
     "execution_count": 112,
     "metadata": {
      "tags": []
     },
     "output_type": "execute_result"
    }
   ],
   "source": [
    "def produce_paragraph(l, p):\n",
    "    wordsIndex = [np.random.multinomial(1,p,1).argmax() for i in range(l)]\n",
    "    return \" \".join(highest_frequency.index.values[wordsIndex])\n",
    "    \n",
    "produce_paragraph(100,p)"
   ]
  },
  {
   "cell_type": "markdown",
   "metadata": {
    "colab_type": "text",
    "id": "_16zbrXuHyu_"
   },
   "source": [
    "## Problem 5: (30 pts)\n",
    "\n",
    "The following is a logistic regression problem using a real data set, made available by the authors\n",
    "of the book “Applied Regression and Muiltilevel Modeling” by Gelman and Hill.\n",
    "Download the data from the book, which you can find here http://www.stat.columbia.edu/\n",
    "~gelman/arm/software/. In particular, we are interested in the arsenic data set. The file\n",
    "wells.dat contains data on 3,020 households in Bangladesh. For each family, the natural arsenic level of each well was measured. In addition, the distance to the nearest safest well was\n",
    "measured. Each family is also described by a feature that relates to their community involvement,\n",
    "and a feature that gives the education level of the head of household. We are interested in building\n",
    "a model that predicts whether the family decided to switch wells or not, based on being informed\n",
    "of the level of arsenic in the well. Thus the “label” for this problem is the binary vector that is the\n",
    "first column of the dataset, labeled “switch.”\n",
    "\n",
    "• Fit a logistic regression model using only an offset term and the distance to the nearest safe\n",
    "well.\n",
    "\n",
    "• Plot your answer: that is, plot the probability of switching wells as a function of the distance\n",
    "to the nearest safe well.\n",
    "\n",
    "• Interpreting logistic regression coefficients: Use the “rule-of-4” discussed in class on Thursday,\n",
    "to interpret the solution: what can you say about the change in the probability of switching\n",
    "wells, for every additional 100 meters of distance?\n",
    "\n",
    "• Now solve a logistic regression incorporating the constant term, the distance and also arsenic\n",
    "levels. Report the coefficients\n",
    "\n",
    "• Next we want to answer the question of which factor is more significant, distance, or arsenic\n",
    "levels? This is not a well specified question, since these two features have different units.\n",
    "One natural choice is to ask if after normalizing by the respective standard deviations of each\n",
    "feature, if moving one unit in one (normalized) feature predicts a larger change in probability\n",
    "of switching wells, than moving one unit in the other (also normalized) feature. Use this\n",
    "reasoning to answer the question.\n",
    "\n",
    "• Now consider all the features in the data set. Also consider adding interaction terms among\n",
    "all features that have a large main effect. Use cross validation to build the best model you\n",
    "can (using your training set only), and then report the test error of your best model.1\n",
    "\n",
    "• (Optional) Now also play around with `1 and `2 regularization, and try to build the most\n",
    "accurate model you can (accuracy computed on the test data).\n"
   ]
  },
  {
   "cell_type": "code",
   "execution_count": 0,
   "metadata": {
    "colab": {},
    "colab_type": "code",
    "id": "pmKrkzePHyu_"
   },
   "outputs": [],
   "source": [
    "!cp '/content/gdrive/My Drive/Colab Notebooks/TA/wells.dat' ./"
   ]
  },
  {
   "cell_type": "code",
   "execution_count": 0,
   "metadata": {
    "colab": {},
    "colab_type": "code",
    "id": "YcnaAXUPW_wZ"
   },
   "outputs": [],
   "source": [
    "df = pd.read_csv(\"./wells.dat\", sep=' ')\n",
    "df['offset']=1\n",
    "labels = df[\"switch\"]\n",
    "data = df.iloc[:,1:]\n",
    "x_train, x_test, y_train, y_test = train_test_split(data, labels, test_size=0.3, random_state=0)"
   ]
  },
  {
   "cell_type": "code",
   "execution_count": 90,
   "metadata": {
    "colab": {
     "base_uri": "https://localhost:8080/",
     "height": 34
    },
    "colab_type": "code",
    "id": "d3mcBNS-YO-w",
    "outputId": "ea7d7e47-c979-42f9-e51b-c37861739e08"
   },
   "outputs": [
    {
     "name": "stdout",
     "output_type": "stream",
     "text": [
      "The coefficients for LR -0.006839\n"
     ]
    }
   ],
   "source": [
    "lr = LogisticRegression()\n",
    "columns = ['dist']\n",
    "lr.fit(x_train[columns],y_train)\n",
    "print(\"The coefficients for LR %f\"%(lr.coef_))"
   ]
  },
  {
   "cell_type": "code",
   "execution_count": 77,
   "metadata": {
    "colab": {
     "base_uri": "https://localhost:8080/",
     "height": 282
    },
    "colab_type": "code",
    "id": "BiAlqhogfA7I",
    "outputId": "b379c4d1-65be-4870-c115-8231dbbf3387"
   },
   "outputs": [
    {
     "data": {
      "text/plain": [
       "<function matplotlib.pyplot.show>"
      ]
     },
     "execution_count": 77,
     "metadata": {
      "tags": []
     },
     "output_type": "execute_result"
    },
    {
     "data": {
      "image/png": "[encoded data removed]",
      "text/plain": [
       "<Figure size 432x288 with 1 Axes>"
      ]
     },
     "metadata": {
      "tags": []
     },
     "output_type": "display_data"
    }
   ],
   "source": [
    "y_plot = lr.predict_proba(x_test[columns])\n",
    "plt.scatter(x_test[columns].to_numpy(), y_plot[:,1])\n",
    "plt.show"
   ]
  },
  {
   "cell_type": "code",
   "execution_count": 81,
   "metadata": {
    "colab": {
     "base_uri": "https://localhost:8080/",
     "height": 34
    },
    "colab_type": "code",
    "id": "djJqTwnMgiTm",
    "outputId": "75568807-ed47-46cc-8ee4-73a7c898217a"
   },
   "outputs": [
    {
     "name": "stdout",
     "output_type": "stream",
     "text": [
      "Using rule-of-4 the coefficient is: [[-0.00170973]]\n"
     ]
    }
   ],
   "source": [
    "print(\"Using rule-of-4 the coefficient is:\",lr.coef_/4)"
   ]
  },
  {
   "cell_type": "markdown",
   "metadata": {
    "colab_type": "text",
    "id": "jBId9Mg9kBtE"
   },
   "source": [
    "This implies that for every additional 100 meters of distance, the probabilty of switching wells is 17%"
   ]
  },
  {
   "cell_type": "code",
   "execution_count": 89,
   "metadata": {
    "colab": {
     "base_uri": "https://localhost:8080/",
     "height": 34
    },
    "colab_type": "code",
    "id": "0y98AbGPj1eO",
    "outputId": "94e30481-5537-4b23-80e0-d23d34a47b51"
   },
   "outputs": [
    {
     "name": "stdout",
     "output_type": "stream",
     "text": [
      "The coefficients for dist and arsenic are [[-0.00943456  0.42792299]]\n"
     ]
    }
   ],
   "source": [
    "columns = ['dist','arsenic']\n",
    "lr.fit(x_train[columns],y_train)\n",
    "print(\"The coefficients for dist and arsenic are %s\"%(str(lr.coef_)))"
   ]
  },
  {
   "cell_type": "code",
   "execution_count": 88,
   "metadata": {
    "colab": {
     "base_uri": "https://localhost:8080/",
     "height": 34
    },
    "colab_type": "code",
    "id": "rbV8945EkfGF",
    "outputId": "49df4e47-fd55-4e59-cb66-ce4a450d0e3c"
   },
   "outputs": [
    {
     "name": "stdout",
     "output_type": "stream",
     "text": [
      "The coefficients for normalized dist and arsenic features are [[-0.35061315  0.4720833 ]]\n"
     ]
    }
   ],
   "source": [
    "x_train['dist_norm'] = x_train['dist'] / np.std(x_train['dist'])\n",
    "x_test['dist_norm'] = x_test['dist'] / np.std(x_test['dist'])\n",
    "x_train['arsenic_norm'] = x_train['arsenic'] / np.std(x_train['arsenic'])\n",
    "x_test['arsenic_norm'] = x_test['arsenic'] / np.std(x_test['arsenic'])\n",
    "columns = ['dist_norm','arsenic_norm']\n",
    "lr.fit(x_train[columns],y_train)\n",
    "print(\"The coefficients for normalized dist and arsenic features are %s\"%(str(lr.coef_)))"
   ]
  },
  {
   "cell_type": "markdown",
   "metadata": {
    "colab_type": "text",
    "id": "1zhOMWhZqhBf"
   },
   "source": [
    "The arsenic feature has a larger absolute coefficient value and thus, a stronger influence on the change in probability of switching wells per unit."
   ]
  },
  {
   "cell_type": "code",
   "execution_count": 92,
   "metadata": {
    "colab": {
     "base_uri": "https://localhost:8080/",
     "height": 34
    },
    "colab_type": "code",
    "id": "7INuiKi-qBQj",
    "outputId": "737024aa-fea7-4d16-f178-161e6ecace24"
   },
   "outputs": [
    {
     "name": "stdout",
     "output_type": "stream",
     "text": [
      "Test error 0.371965\n"
     ]
    }
   ],
   "source": [
    "data['interaction_term_ars_edu'] = data['arsenic']*data['educ']\n",
    "data['interaction_term_dist_edu'] = data['dist']*data['educ']\n",
    "data['interaction_term_dist_ars'] = data['dist']*data['arsenic']\n",
    "data_train,data_test,labels_train,labels_test = train_test_split(data,labels,test_size = 0.3,random_state = 0)\n",
    "lrcv = LogisticRegressionCV(cv=10, random_state=0, max_iter=10000)\n",
    "lrcv.fit(data_train,labels_train)\n",
    "labels_pred=lrcv.predict(data_test)\n",
    "test_error = mean_squared_error(labels_test, labels_pred)\n",
    "print('Test error %f'%(test_error))"
   ]
  }
 ],
 "metadata": {
  "accelerator": "GPU",
  "colab": {
   "collapsed_sections": [],
   "name": "HW 4 Solutions.ipynb",
   "provenance": []
  },
  "kernelspec": {
   "display_name": "Python 3",
   "language": "python",
   "name": "python3"
  },
  "language_info": {
   "codemirror_mode": {
    "name": "ipython",
    "version": 3
   },
   "file_extension": ".py",
   "mimetype": "text/x-python",
   "name": "python",
   "nbconvert_exporter": "python",
   "pygments_lexer": "ipython3",
   "version": "3.7.3"
  }
 },
 "nbformat": 4,
 "nbformat_minor": 1
}
