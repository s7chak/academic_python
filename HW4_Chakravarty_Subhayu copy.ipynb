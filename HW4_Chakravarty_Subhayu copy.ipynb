{
 "cells": [
  {
   "cell_type": "markdown",
   "metadata": {},
   "source": [
    "# <div align=center>FinTech Assignment #4 : Bitcoin Transaction and Mining</div>\n",
    "###  <div align=center>Submission by Subhayu Chakravarty</div>"
   ]
  },
  {
   "cell_type": "markdown",
   "metadata": {},
   "source": [
    "### Importing required libraries"
   ]
  },
  {
   "cell_type": "code",
   "execution_count": 1,
   "metadata": {},
   "outputs": [],
   "source": [
    "import hashlib"
   ]
  },
  {
   "cell_type": "markdown",
   "metadata": {},
   "source": [
    "# Mining Bitcoin Exercise"
   ]
  },
  {
   "cell_type": "markdown",
   "metadata": {},
   "source": [
    "## 1. Mining"
   ]
  },
  {
   "cell_type": "code",
   "execution_count": 2,
   "metadata": {},
   "outputs": [
    {
     "name": "stdout",
     "output_type": "stream",
     "text": [
      "\n",
      "Initial block header without nonce :\n",
      "b6b093715748a588398b2772fe13015033ddf85991738cbd80864aa703196394 85738f8f9a7f1b04b5329c590ebcb9e425925c6d0984089c43a022de4f19c281 2018-01-07 21:05:34 3\n",
      "\n",
      "Block header with nonce=0:\n",
      "b6b093715748a588398b2772fe13015033ddf85991738cbd80864aa703196394 85738f8f9a7f1b04b5329c590ebcb9e425925c6d0984089c43a022de4f19c281 2018-01-07 21:05:34 3 0\n",
      "\n",
      "Hashed block header:\n",
      "ddf8dbc305dd43e4c115f5e00355e5b08b6de3781442100ec6f21323450dfb93\n"
     ]
    }
   ],
   "source": [
    "# Initial Block Header\n",
    "transaction='Cesare sends one bitcoin to Shimon'\n",
    "previous_transaction_hash='85738f8f9a7f1b04b5329c590ebcb9e425925c6d0984089c43a022de4f19c281'\n",
    "timestamp='2018-01-07 21:05:34'\n",
    "bits='3'\n",
    "nonce='0'\n",
    "\n",
    "hashed_transaction=hashlib.sha256(transaction.encode('utf-8')).hexdigest()\n",
    "\n",
    "\n",
    "block_header=hashed_transaction+' '+previous_transaction_hash+' '+timestamp+' '+bits\n",
    "print('\\nInitial block header without nonce :')\n",
    "print(block_header)\n",
    "\n",
    "print('\\nBlock header with nonce=0:')\n",
    "print(block_header+' 0')\n",
    "\n",
    "hashed_block_header=hashlib.sha256((block_header+' 0').encode('utf-8')).hexdigest()\n",
    "print('\\nHashed block header:')\n",
    "print(hashed_block_header)"
   ]
  },
  {
   "cell_type": "code",
   "execution_count": 3,
   "metadata": {},
   "outputs": [
    {
     "name": "stdout",
     "output_type": "stream",
     "text": [
      "0009e766bc42829a78b16ea6fc5bf924c38284c487515a188d404648770046b2\n",
      "\n",
      "Winning Nonce:\n",
      "12452\n"
     ]
    }
   ],
   "source": [
    "# Finding the winning nonce\n",
    "counter=0\n",
    "while counter<100000:\n",
    "    nonce=str(counter)\n",
    "    h=block_header+' '+nonce\n",
    "    hashed_header=hashlib.sha256(h.encode('utf-8')).hexdigest()\n",
    "    if hashed_header[0:3]=='000':\n",
    "        print(hashed_header)\n",
    "        print('\\nWinning Nonce:')\n",
    "        print(nonce)\n",
    "        break\n",
    "    counter+=1\n"
   ]
  },
  {
   "cell_type": "markdown",
   "metadata": {},
   "source": [
    "## <div align=center>The End</div>"
   ]
  }
 ],
 "metadata": {
  "kernelspec": {
   "display_name": "Python 3",
   "language": "python",
   "name": "python3"
  },
  "language_info": {
   "codemirror_mode": {
    "name": "ipython",
    "version": 3
   },
   "file_extension": ".py",
   "mimetype": "text/x-python",
   "name": "python",
   "nbconvert_exporter": "python",
   "pygments_lexer": "ipython3",
   "version": "3.7.3"
  }
 },
 "nbformat": 4,
 "nbformat_minor": 2
}
