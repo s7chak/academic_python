{
 "cells": [
  {
   "cell_type": "code",
   "execution_count": 1,
   "metadata": {},
   "outputs": [],
   "source": [
    "import collections\n",
    "import math"
   ]
  },
  {
   "cell_type": "markdown",
   "metadata": {},
   "source": [
    "## Letter Combination of Phone Number"
   ]
  },
  {
   "cell_type": "code",
   "execution_count": 23,
   "metadata": {},
   "outputs": [],
   "source": [
    "class Solution(object):\n",
    "    def letterCombinations(self, digits):\n",
    "        let={'2':'abc','3':'def','4':'ghi','5':'jkl','6':'mno','7':'pqrs','8':'tuv','9':'wxyz'}\n",
    "        \n",
    "        def permute(combination, nex):\n",
    "            \n",
    "            if len(nex)==0:\n",
    "                output.append(combination)\n",
    "            else:\n",
    "                for l in let[nex[0]]:\n",
    "                    permute(combination+l,nex[1:])\n",
    "        \n",
    "        output=[]\n",
    "        permute('',digits)\n",
    "        \n",
    "        return output\n",
    "        "
   ]
  },
  {
   "cell_type": "code",
   "execution_count": 26,
   "metadata": {},
   "outputs": [
    {
     "data": {
      "text/plain": [
       "['ap', 'aq', 'ar', 'as', 'bp', 'bq', 'br', 'bs', 'cp', 'cq', 'cr', 'cs']"
      ]
     },
     "execution_count": 26,
     "metadata": {},
     "output_type": "execute_result"
    }
   ],
   "source": [
    "Solution().letterCombinations('27')"
   ]
  },
  {
   "cell_type": "markdown",
   "metadata": {},
   "source": [
    "## Max Path Sum Binary Tree"
   ]
  },
  {
   "cell_type": "code",
   "execution_count": 79,
   "metadata": {},
   "outputs": [],
   "source": [
    "# Definition for a binary tree node.\n",
    "class TreeNode(object):\n",
    "    def __init__(self, val=0, left=None, right=None):\n",
    "        self.val = val\n",
    "        self.left = left\n",
    "        self.right = right\n",
    "\n",
    "class Solution(object):\n",
    "    \n",
    "    def maxPathSum(self, root):\n",
    "        self.res=float('-inf')\n",
    "        def findMax(n):\n",
    "            if not n:\n",
    "                return 0\n",
    "            l=findMax(n.left)\n",
    "            r=findMax(n.right)\n",
    "            \n",
    "            mxs=max(max(l,r)+n.val, n.val)\n",
    "            mxall=max(mxs, l+r+n.val)\n",
    "            \n",
    "            self.res=max(self.res,mxall)\n",
    "            return mxs\n",
    "        \n",
    "        \n",
    "        \n",
    "        findMax(root)\n",
    "        return self.res"
   ]
  },
  {
   "cell_type": "code",
   "execution_count": 80,
   "metadata": {},
   "outputs": [
    {
     "data": {
      "text/plain": [
       "10"
      ]
     },
     "execution_count": 80,
     "metadata": {},
     "output_type": "execute_result"
    }
   ],
   "source": [
    "r=TreeNode(2)\n",
    "r.left=TreeNode(1)\n",
    "r.right=TreeNode(-4)\n",
    "r.left.left=TreeNode(3)\n",
    "r.left.right=TreeNode(6)\n",
    "\n",
    "Solution().maxPathSum(r)"
   ]
  },
  {
   "cell_type": "markdown",
   "metadata": {},
   "source": [
    "## First Unique"
   ]
  },
  {
   "cell_type": "code",
   "execution_count": 56,
   "metadata": {},
   "outputs": [],
   "source": [
    "from collections import deque\n",
    "class FirstUnique(object):\n",
    "\n",
    "    def __init__(self, nums):\n",
    "        self.uniq=deque()\n",
    "        self.map={}\n",
    "        for i in nums:\n",
    "            if i not in self.map:\n",
    "                self.uniq.append(i)\n",
    "                self.map[i]=1\n",
    "            else:\n",
    "                self.uniq.remove(i)\n",
    "        \n",
    "\n",
    "    def showFirstUnique(self):\n",
    "        if len(self.uniq):\n",
    "            return self.uniq[0]\n",
    "        return -1\n",
    "\n",
    "    def add(self, value):\n",
    "        if value in self.map:\n",
    "            if value in self.uniq:\n",
    "                self.uniq.remove(value)\n",
    "        else:\n",
    "            self.uniq.append(value)\n",
    "            self.map[value]=1\n"
   ]
  },
  {
   "cell_type": "code",
   "execution_count": 57,
   "metadata": {},
   "outputs": [
    {
     "ename": "ValueError",
     "evalue": "deque.remove(x): x not in deque",
     "output_type": "error",
     "traceback": [
      "\u001b[0;31m---------------------------------------------------------------------------\u001b[0m",
      "\u001b[0;31mValueError\u001b[0m                                Traceback (most recent call last)",
      "\u001b[0;32m<ipython-input-57-7dabdfd2d89a>\u001b[0m in \u001b[0;36m<module>\u001b[0;34m\u001b[0m\n\u001b[0;32m----> 1\u001b[0;31m \u001b[0mobj\u001b[0m \u001b[0;34m=\u001b[0m \u001b[0mFirstUnique\u001b[0m\u001b[0;34m(\u001b[0m\u001b[0;34m[\u001b[0m\u001b[0;36m5\u001b[0m\u001b[0;34m,\u001b[0m\u001b[0;36m5\u001b[0m\u001b[0;34m,\u001b[0m\u001b[0;36m5\u001b[0m\u001b[0;34m,\u001b[0m\u001b[0;36m5\u001b[0m\u001b[0;34m,\u001b[0m\u001b[0;36m5\u001b[0m\u001b[0;34m]\u001b[0m\u001b[0;34m)\u001b[0m\u001b[0;34m\u001b[0m\u001b[0;34m\u001b[0m\u001b[0m\n\u001b[0m\u001b[1;32m      2\u001b[0m \u001b[0mprint\u001b[0m\u001b[0;34m(\u001b[0m\u001b[0mobj\u001b[0m\u001b[0;34m.\u001b[0m\u001b[0mshowFirstUnique\u001b[0m\u001b[0;34m(\u001b[0m\u001b[0;34m)\u001b[0m\u001b[0;34m)\u001b[0m\u001b[0;34m\u001b[0m\u001b[0;34m\u001b[0m\u001b[0m\n\u001b[1;32m      3\u001b[0m \u001b[0mobj\u001b[0m\u001b[0;34m.\u001b[0m\u001b[0madd\u001b[0m\u001b[0;34m(\u001b[0m\u001b[0;36m3\u001b[0m\u001b[0;34m)\u001b[0m\u001b[0;34m\u001b[0m\u001b[0;34m\u001b[0m\u001b[0m\n\u001b[1;32m      4\u001b[0m \u001b[0mprint\u001b[0m\u001b[0;34m(\u001b[0m\u001b[0mobj\u001b[0m\u001b[0;34m.\u001b[0m\u001b[0mshowFirstUnique\u001b[0m\u001b[0;34m(\u001b[0m\u001b[0;34m)\u001b[0m\u001b[0;34m)\u001b[0m\u001b[0;34m\u001b[0m\u001b[0;34m\u001b[0m\u001b[0m\n\u001b[1;32m      5\u001b[0m \u001b[0mobj\u001b[0m\u001b[0;34m.\u001b[0m\u001b[0madd\u001b[0m\u001b[0;34m(\u001b[0m\u001b[0;36m3\u001b[0m\u001b[0;34m)\u001b[0m\u001b[0;34m\u001b[0m\u001b[0;34m\u001b[0m\u001b[0m\n",
      "\u001b[0;32m<ipython-input-56-45ddcefbac76>\u001b[0m in \u001b[0;36m__init__\u001b[0;34m(self, nums)\u001b[0m\n\u001b[1;32m     10\u001b[0m                 \u001b[0mself\u001b[0m\u001b[0;34m.\u001b[0m\u001b[0mmap\u001b[0m\u001b[0;34m[\u001b[0m\u001b[0mi\u001b[0m\u001b[0;34m]\u001b[0m\u001b[0;34m=\u001b[0m\u001b[0;36m1\u001b[0m\u001b[0;34m\u001b[0m\u001b[0;34m\u001b[0m\u001b[0m\n\u001b[1;32m     11\u001b[0m             \u001b[0;32melse\u001b[0m\u001b[0;34m:\u001b[0m\u001b[0;34m\u001b[0m\u001b[0;34m\u001b[0m\u001b[0m\n\u001b[0;32m---> 12\u001b[0;31m                 \u001b[0mself\u001b[0m\u001b[0;34m.\u001b[0m\u001b[0muniq\u001b[0m\u001b[0;34m.\u001b[0m\u001b[0mremove\u001b[0m\u001b[0;34m(\u001b[0m\u001b[0mi\u001b[0m\u001b[0;34m)\u001b[0m\u001b[0;34m\u001b[0m\u001b[0;34m\u001b[0m\u001b[0m\n\u001b[0m\u001b[1;32m     13\u001b[0m \u001b[0;34m\u001b[0m\u001b[0m\n\u001b[1;32m     14\u001b[0m \u001b[0;34m\u001b[0m\u001b[0m\n",
      "\u001b[0;31mValueError\u001b[0m: deque.remove(x): x not in deque"
     ]
    }
   ],
   "source": [
    "obj = FirstUnique([5,5,5,5,5])\n",
    "print(obj.showFirstUnique())\n",
    "obj.add(3)\n",
    "print(obj.showFirstUnique())\n",
    "obj.add(3)\n",
    "print(obj.showFirstUnique())"
   ]
  },
  {
   "cell_type": "markdown",
   "metadata": {},
   "source": [
    "## Car Pooling"
   ]
  },
  {
   "cell_type": "code",
   "execution_count": 96,
   "metadata": {},
   "outputs": [],
   "source": [
    "class Solution(object):\n",
    "    def carPooling(self, trips, capacity):\n",
    "        t=0\n",
    "        while t<len(trips):\n",
    "            curcap,st,en=trips[t]\n",
    "            if curcap>capacity:\n",
    "                return False\n",
    "            t+=1\n",
    "        \n",
    "        return True\n",
    "    "
   ]
  },
  {
   "cell_type": "code",
   "execution_count": 98,
   "metadata": {},
   "outputs": [
    {
     "data": {
      "text/plain": [
       "True"
      ]
     },
     "execution_count": 98,
     "metadata": {},
     "output_type": "execute_result"
    }
   ],
   "source": [
    "t=[[2,1,6],[3,5,9]]\n",
    "c=4\n",
    "Solution().carPooling(t,c)"
   ]
  },
  {
   "cell_type": "markdown",
   "metadata": {},
   "source": [
    "## Permute Numbers"
   ]
  },
  {
   "cell_type": "code",
   "execution_count": 74,
   "metadata": {},
   "outputs": [],
   "source": [
    "class Solution(object):\n",
    "    def permute(self, nums):\n",
    "        \n",
    "        ans=[]\n",
    "        def perm(pref, arr):\n",
    "            \n",
    "            if len(arr)==0:\n",
    "                ans.append(pref)\n",
    "            \n",
    "            \n",
    "            for i in range(len(arr)):\n",
    "                perm(pref+[arr[i]], arr[:i]+arr[i+1:])\n",
    "\n",
    "        perm([],nums)\n",
    "        \n",
    "        return ans\n",
    "        "
   ]
  },
  {
   "cell_type": "code",
   "execution_count": 75,
   "metadata": {},
   "outputs": [
    {
     "data": {
      "text/plain": [
       "[[1, 2, 3], [1, 3, 2], [2, 1, 3], [2, 3, 1], [3, 1, 2], [3, 2, 1]]"
      ]
     },
     "execution_count": 75,
     "metadata": {},
     "output_type": "execute_result"
    }
   ],
   "source": [
    "a=[1,2,3]\n",
    "Solution().permute(a)"
   ]
  },
  {
   "cell_type": "markdown",
   "metadata": {},
   "source": [
    "## Maximal Square"
   ]
  },
  {
   "cell_type": "code",
   "execution_count": 59,
   "metadata": {},
   "outputs": [],
   "source": [
    "class Solution:\n",
    "    def maximalSquare(self, matrix: [[str]]) -> int:\n",
    "        if not matrix or not matrix[0]:\n",
    "            return 0\n",
    "        \n",
    "        r, c = len(matrix), len(matrix[0])\n",
    "        mat2 = [[0 for _ in range(c + 1)] for __ in range(r + 1)]\n",
    "        max_side=0\n",
    "        \n",
    "        for i in range(r):\n",
    "            for j in range(c):\n",
    "                mat2[i+1][j+1] = min(mat2[i][j], mat2[i][j+1], mat2[i+1][j]) + 1 if matrix[i][j] == '1' else 0\n",
    "                max_side = max(max_side, mat2[i+1][j+1])\n",
    "\n",
    "        print(mat2)\n",
    "        return max_side ** 2"
   ]
  },
  {
   "cell_type": "code",
   "execution_count": 61,
   "metadata": {},
   "outputs": [
    {
     "data": {
      "text/plain": [
       "0"
      ]
     },
     "execution_count": 61,
     "metadata": {},
     "output_type": "execute_result"
    }
   ],
   "source": [
    "m=[\n",
    "    [0,1,1,1,1,1],\n",
    "    [1,0,1,1,1,1],\n",
    "    [1,0,1,1,1,1],\n",
    "    [1,0,0,0,1,1],\n",
    "]\n",
    "\n",
    "Solution().maximalSquare(m)"
   ]
  },
  {
   "cell_type": "markdown",
   "metadata": {},
   "source": [
    "## Longest Common Subsequence"
   ]
  },
  {
   "cell_type": "code",
   "execution_count": 20,
   "metadata": {},
   "outputs": [],
   "source": [
    "class Solution(object):\n",
    "    def longestCommonSubsequence(self, text1, text2):\n",
    "        dp=[[0 for i in range(len(text2)+1)] for j in range(len(text1)+1)]\n",
    "        \n",
    "        for i in range(1,len(text1)+1):\n",
    "            for j in range(1,len(text2)+1):\n",
    "                if text1[i-1]==text2[j-1]:\n",
    "                    dp[i][j]+=1+dp[i-1][j-1]\n",
    "                else:\n",
    "                    dp[i][j]+=max(dp[i-1][j],dp[i][j-1])\n",
    "\n",
    "        return dp[-1][-1]\n",
    "                \n",
    "                \n",
    "                \n",
    "                \n",
    "        "
   ]
  },
  {
   "cell_type": "code",
   "execution_count": 21,
   "metadata": {},
   "outputs": [
    {
     "data": {
      "text/plain": [
       "3"
      ]
     },
     "execution_count": 21,
     "metadata": {},
     "output_type": "execute_result"
    }
   ],
   "source": [
    "a='hgfjhgf'\n",
    "b='gff'\n",
    "Solution().longestCommonSubsequence(a,b)"
   ]
  },
  {
   "cell_type": "markdown",
   "metadata": {},
   "source": [
    "## Practice"
   ]
  },
  {
   "cell_type": "code",
   "execution_count": 473,
   "metadata": {},
   "outputs": [],
   "source": [
    "class Node: \n",
    "    # constructor to create new node \n",
    "    def __init__(self, val): \n",
    "        self.data = val \n",
    "        self.left = None\n",
    "        self.right = None\n",
    "\n",
    "prev = None\n",
    "  \n",
    "# function to check if given binary \n",
    "# tree is BST \n",
    "def isbst(root): \n",
    "      \n",
    "    # prev is a global variable \n",
    "    global prev \n",
    "    prev = None\n",
    "    return isbst_rec(root) \n",
    "  \n",
    "\n",
    "def isbst_rec(root):\n",
    "    global prev  \n",
    "\n",
    "    if root is None: \n",
    "        return True\n",
    "  \n",
    "    if isbst_rec(root.left) is False: \n",
    "        return False\n",
    "  \n",
    "    if prev is not None and prev.data > root.data:\n",
    "        print(prev.data, root.data)\n",
    "        return False\n",
    "\n",
    "    prev = root \n",
    "    return isbst_rec(root.right)"
   ]
  },
  {
   "cell_type": "code",
   "execution_count": 474,
   "metadata": {},
   "outputs": [
    {
     "name": "stdout",
     "output_type": "stream",
     "text": [
      "4 3\n"
     ]
    },
    {
     "data": {
      "text/plain": [
       "False"
      ]
     },
     "execution_count": 474,
     "metadata": {},
     "output_type": "execute_result"
    }
   ],
   "source": [
    "r=Node(4)\n",
    "r.left=Node(2)\n",
    "r.right=Node(3)\n",
    "r.left.right=Node(3)\n",
    "r.left.left=Node(1)\n",
    "\n",
    "isbst(r)"
   ]
  },
  {
   "cell_type": "code",
   "execution_count": null,
   "metadata": {},
   "outputs": [],
   "source": []
  },
  {
   "cell_type": "code",
   "execution_count": 452,
   "metadata": {},
   "outputs": [],
   "source": [
    "class Solution(object):\n",
    "    def coinChange(self, coins, amount):\n",
    "        if not coins:\n",
    "            return -1\n",
    "        dp=[float('inf')]*(amount+1)\n",
    "        dp[0]=0\n",
    "        for j in range(amount+1):\n",
    "            for i in coins:\n",
    "                if i <= j:\n",
    "                    print(i,j, dp)\n",
    "                    dp[j] = min(dp[j], dp[j - i] + 1)\n",
    "        \n",
    "        if dp[amount]==float('inf'):\n",
    "            return -1\n",
    "        \n",
    "        return dp[amount]"
   ]
  },
  {
   "cell_type": "code",
   "execution_count": 453,
   "metadata": {},
   "outputs": [
    {
     "name": "stdout",
     "output_type": "stream",
     "text": [
      "1 1 [0, inf, inf, inf, inf, inf, inf, inf, inf, inf, inf, inf]\n",
      "1 2 [0, 1, inf, inf, inf, inf, inf, inf, inf, inf, inf, inf]\n",
      "2 2 [0, 1, 2, inf, inf, inf, inf, inf, inf, inf, inf, inf]\n",
      "1 3 [0, 1, 1, inf, inf, inf, inf, inf, inf, inf, inf, inf]\n",
      "2 3 [0, 1, 1, 2, inf, inf, inf, inf, inf, inf, inf, inf]\n",
      "1 4 [0, 1, 1, 2, inf, inf, inf, inf, inf, inf, inf, inf]\n",
      "2 4 [0, 1, 1, 2, 3, inf, inf, inf, inf, inf, inf, inf]\n",
      "1 5 [0, 1, 1, 2, 2, inf, inf, inf, inf, inf, inf, inf]\n",
      "2 5 [0, 1, 1, 2, 2, 3, inf, inf, inf, inf, inf, inf]\n",
      "5 5 [0, 1, 1, 2, 2, 3, inf, inf, inf, inf, inf, inf]\n",
      "1 6 [0, 1, 1, 2, 2, 1, inf, inf, inf, inf, inf, inf]\n",
      "2 6 [0, 1, 1, 2, 2, 1, 2, inf, inf, inf, inf, inf]\n",
      "5 6 [0, 1, 1, 2, 2, 1, 2, inf, inf, inf, inf, inf]\n",
      "1 7 [0, 1, 1, 2, 2, 1, 2, inf, inf, inf, inf, inf]\n",
      "2 7 [0, 1, 1, 2, 2, 1, 2, 3, inf, inf, inf, inf]\n",
      "5 7 [0, 1, 1, 2, 2, 1, 2, 2, inf, inf, inf, inf]\n",
      "1 8 [0, 1, 1, 2, 2, 1, 2, 2, inf, inf, inf, inf]\n",
      "2 8 [0, 1, 1, 2, 2, 1, 2, 2, 3, inf, inf, inf]\n",
      "5 8 [0, 1, 1, 2, 2, 1, 2, 2, 3, inf, inf, inf]\n",
      "1 9 [0, 1, 1, 2, 2, 1, 2, 2, 3, inf, inf, inf]\n",
      "2 9 [0, 1, 1, 2, 2, 1, 2, 2, 3, 4, inf, inf]\n",
      "5 9 [0, 1, 1, 2, 2, 1, 2, 2, 3, 3, inf, inf]\n",
      "1 10 [0, 1, 1, 2, 2, 1, 2, 2, 3, 3, inf, inf]\n",
      "2 10 [0, 1, 1, 2, 2, 1, 2, 2, 3, 3, 4, inf]\n",
      "5 10 [0, 1, 1, 2, 2, 1, 2, 2, 3, 3, 4, inf]\n",
      "1 11 [0, 1, 1, 2, 2, 1, 2, 2, 3, 3, 2, inf]\n",
      "2 11 [0, 1, 1, 2, 2, 1, 2, 2, 3, 3, 2, 3]\n",
      "5 11 [0, 1, 1, 2, 2, 1, 2, 2, 3, 3, 2, 3]\n"
     ]
    },
    {
     "data": {
      "text/plain": [
       "3"
      ]
     },
     "execution_count": 453,
     "metadata": {},
     "output_type": "execute_result"
    }
   ],
   "source": [
    "c=[1,2,5]\n",
    "amount=11\n",
    "Solution().coinChange(c, amount)"
   ]
  },
  {
   "cell_type": "markdown",
   "metadata": {},
   "source": [
    "## Reverse Linked List"
   ]
  },
  {
   "cell_type": "code",
   "execution_count": 395,
   "metadata": {},
   "outputs": [],
   "source": [
    "class Node(object):\n",
    "    def __init__(self, x):\n",
    "        self.val = x\n",
    "        self.next = None\n",
    "        \n",
    "class Solution(object):\n",
    "    def reverseList(self, head):\n",
    "        \n",
    "        curr=head\n",
    "        prev=None\n",
    "        n=curr\n",
    "        \n",
    "        while n:\n",
    "            n=n.next\n",
    "            curr.next=prev\n",
    "            prev=curr\n",
    "            curr=n\n",
    "        \n",
    "        head=prev\n",
    "        return head\n",
    "    \n",
    "    "
   ]
  },
  {
   "cell_type": "code",
   "execution_count": 397,
   "metadata": {},
   "outputs": [],
   "source": [
    "l=Node(1)\n",
    "l.next=Node(2)\n",
    "l.next.next=Node(3)\n",
    "l.next.next.next=Node(4)\n",
    "l.next.next.next.next=Node(5)\n",
    "\n",
    "r=Solution().reverseList(l)"
   ]
  },
  {
   "cell_type": "code",
   "execution_count": 400,
   "metadata": {},
   "outputs": [
    {
     "data": {
      "text/plain": [
       "3"
      ]
     },
     "execution_count": 400,
     "metadata": {},
     "output_type": "execute_result"
    }
   ],
   "source": [
    "r.next.next.val"
   ]
  },
  {
   "cell_type": "markdown",
   "metadata": {},
   "source": [
    "## Largest Range"
   ]
  },
  {
   "cell_type": "code",
   "execution_count": 418,
   "metadata": {},
   "outputs": [],
   "source": [
    "from collections import defaultdict\n",
    "def largestRange(array):\n",
    "    mx=max(array)\n",
    "    pos=defaultdict(int)\n",
    "    \n",
    "    for i in array:\n",
    "        pos[i]=0\n",
    "    \n",
    "    ran=1\n",
    "    mxran=1\n",
    "    for j in range(len(array)):    \n",
    "        cur=array[j]\n",
    "        ran=1\n",
    "        if pos[cur]==1:\n",
    "            continue\n",
    "\n",
    "        pos[cur]=1\n",
    "        left,right=cur-1,cur+1\n",
    "        while left in pos:\n",
    "            pos[left]=1\n",
    "            left-=1\n",
    "            ran+=1\n",
    "            \n",
    "        while right in pos:\n",
    "            pos[right]=1\n",
    "            right+=1\n",
    "            ran+=1\n",
    "\n",
    "        if ran>mxran:\n",
    "            mxran=ran\n",
    "            ans=[left+1,right-1]\n",
    "        \n",
    "        \n",
    "    return ans"
   ]
  },
  {
   "cell_type": "code",
   "execution_count": 422,
   "metadata": {},
   "outputs": [
    {
     "data": {
      "text/plain": [
       "[-7, 7]"
      ]
     },
     "execution_count": 422,
     "metadata": {},
     "output_type": "execute_result"
    }
   ],
   "source": [
    "a=[0,-5,\n",
    "  9,\n",
    "  19,\n",
    "  -1,\n",
    "  18,\n",
    "  17,\n",
    "  2,\n",
    "  -4,\n",
    "  -3,\n",
    "  10,\n",
    "  3,\n",
    "  12,\n",
    "  5,\n",
    "  16,\n",
    "  4,\n",
    "  11,\n",
    "  7,\n",
    "  -6,\n",
    "  -7,\n",
    "  6,\n",
    "  15,\n",
    "  12,\n",
    "  12,\n",
    "  2,\n",
    "  1,\n",
    "  6,\n",
    "  13,\n",
    "  14,\n",
    "  -2\n",
    "]\n",
    "largestRange(a)"
   ]
  },
  {
   "cell_type": "markdown",
   "metadata": {},
   "source": [
    "## Counting Bits"
   ]
  },
  {
   "cell_type": "code",
   "execution_count": 368,
   "metadata": {},
   "outputs": [],
   "source": [
    "class Solution(object):\n",
    "    def countBits(self, num):\n",
    "        def bitcount(n):\n",
    "            count = 0\n",
    "            while n > 0:\n",
    "                count = count + 1\n",
    "                n = n & (n-1)\n",
    "            return count\n",
    "        \n",
    "        ans=[]\n",
    "        for i in range(num+1):\n",
    "            ans.append(bitcount(i))\n",
    "            \n",
    "        return ans"
   ]
  },
  {
   "cell_type": "code",
   "execution_count": 369,
   "metadata": {},
   "outputs": [
    {
     "data": {
      "text/plain": [
       "[0, 1, 1, 2, 1]"
      ]
     },
     "execution_count": 369,
     "metadata": {},
     "output_type": "execute_result"
    }
   ],
   "source": [
    "Solution().countBits(4)"
   ]
  },
  {
   "cell_type": "markdown",
   "metadata": {},
   "source": [
    "## Bitwise AND operator"
   ]
  },
  {
   "cell_type": "code",
   "execution_count": 352,
   "metadata": {},
   "outputs": [],
   "source": [
    "class Solution(object):\n",
    "    def rangeBitwiseAnd(self, m, n):\n",
    "        \n",
    "        def msbPos(n):\n",
    "            msb_p = -1\n",
    "            while (n > 0):\n",
    "                n = n >> 1\n",
    "                msb_p += 1\n",
    "\n",
    "            return msb_p\n",
    "\n",
    "        res=0\n",
    "        while m>0 and n>0:\n",
    "            msb1=msbPos(m)\n",
    "            msb2=msbPos(n)\n",
    "            \n",
    "            if msb1!=msb2:\n",
    "                break\n",
    "            \n",
    "            msv=(1<<msb1)\n",
    "            res+=msv\n",
    "            m-=msv\n",
    "            n-=msv\n",
    "\n",
    "        return res\n",
    "    \n",
    "    "
   ]
  },
  {
   "cell_type": "code",
   "execution_count": 353,
   "metadata": {},
   "outputs": [
    {
     "data": {
      "text/plain": [
       "8"
      ]
     },
     "execution_count": 353,
     "metadata": {},
     "output_type": "execute_result"
    }
   ],
   "source": [
    "Solution().rangeBitwiseAnd(8,10)"
   ]
  },
  {
   "cell_type": "code",
   "execution_count": 338,
   "metadata": {},
   "outputs": [
    {
     "data": {
      "text/plain": [
       "8"
      ]
     },
     "execution_count": 338,
     "metadata": {},
     "output_type": "execute_result"
    }
   ],
   "source": [
    "1<<3"
   ]
  },
  {
   "cell_type": "markdown",
   "metadata": {},
   "source": [
    "## Subarray Product less than K"
   ]
  },
  {
   "cell_type": "code",
   "execution_count": 257,
   "metadata": {},
   "outputs": [],
   "source": [
    "class Solution(object):\n",
    "    def numSubarrayProductLessThanK(self, nums, k):\n",
    "        \n",
    "        n=len(nums)\n",
    "        cur=1\n",
    "        count=0\n",
    "        prod=[1]\n",
    "        for i in range(n):\n",
    "            cur*=nums[i]\n",
    "            \n",
    "            for p in prod:\n",
    "                if cur//p < k:\n",
    "                    count+=1\n",
    "            print(prod, cur, count)\n",
    "            prod.append(cur)\n",
    "            \n",
    "        return count"
   ]
  },
  {
   "cell_type": "code",
   "execution_count": 278,
   "metadata": {},
   "outputs": [],
   "source": [
    "class Solution(object):\n",
    "    def numSubarrayProductLessThanK(self, nums, k):\n",
    "        \n",
    "        if k<=1:\n",
    "            return 0\n",
    "        cur=1\n",
    "        count=0\n",
    "        l=0\n",
    "        for r,v in enumerate(nums):\n",
    "            cur*=nums[r]\n",
    "            \n",
    "            while cur>=k:\n",
    "                cur//=nums[l]\n",
    "                l+=1\n",
    "\n",
    "            count+=r-l+1\n",
    "            print(l,r,cur, count)\n",
    "            \n",
    "        return count"
   ]
  },
  {
   "cell_type": "code",
   "execution_count": 279,
   "metadata": {},
   "outputs": [
    {
     "data": {
      "text/plain": [
       "0"
      ]
     },
     "execution_count": 279,
     "metadata": {},
     "output_type": "execute_result"
    }
   ],
   "source": [
    "n=[1,2,3]\n",
    "Solution().numSubarrayProductLessThanK(n,0)"
   ]
  },
  {
   "cell_type": "markdown",
   "metadata": {},
   "source": [
    "## Subarray Sum divisible by K"
   ]
  },
  {
   "cell_type": "code",
   "execution_count": 216,
   "metadata": {},
   "outputs": [],
   "source": [
    "from collections import defaultdict\n",
    "\n",
    "class Solution(object):\n",
    "    def subarraySum(self, nums, k):\n",
    "        n=len(nums)\n",
    "        rems=defaultdict(int)\n",
    "        rems[0]=1\n",
    "        count,sm=0,0\n",
    "        for i in range(n):\n",
    "            sm+=nums[i]\n",
    "            \n",
    "            if sm%k in rems:\n",
    "                count+=rems[sm%k]\n",
    "            rems[sm%k]+=1\n",
    "        \n",
    "        return count"
   ]
  },
  {
   "cell_type": "code",
   "execution_count": 219,
   "metadata": {},
   "outputs": [
    {
     "name": "stdout",
     "output_type": "stream",
     "text": [
      "1 defaultdict(<class 'int'>, {0: 1})\n",
      "2 defaultdict(<class 'int'>, {0: 1, 1: 1})\n",
      "5 defaultdict(<class 'int'>, {0: 1, 1: 1, 2: 1})\n",
      "10 defaultdict(<class 'int'>, {0: 1, 1: 1, 2: 2})\n"
     ]
    },
    {
     "data": {
      "text/plain": [
       "2"
      ]
     },
     "execution_count": 219,
     "metadata": {},
     "output_type": "execute_result"
    }
   ],
   "source": [
    "n=[1,1,3,5]\n",
    "Solution().subarraySum(n,3)"
   ]
  },
  {
   "cell_type": "markdown",
   "metadata": {},
   "source": [
    "## Subarray Sum equals K"
   ]
  },
  {
   "cell_type": "code",
   "execution_count": 145,
   "metadata": {},
   "outputs": [],
   "source": [
    "from collections import defaultdict\n",
    "\n",
    "class Solution(object):\n",
    "    def subarraySum(self, nums, k):\n",
    "        n=len(nums)\n",
    "        count=0\n",
    "        sums=defaultdict(int)\n",
    "        sm=0\n",
    "        for i in range(n):\n",
    "            sm+=nums[i]\n",
    "            print(sm, sums)\n",
    "            if sm-k in sums:\n",
    "                count+=sums[sm-k]\n",
    "            if k==sm:\n",
    "                count+=1\n",
    "            sums[sm]+=1\n",
    "                    \n",
    "        return count\n",
    "        \n",
    "        "
   ]
  },
  {
   "cell_type": "code",
   "execution_count": 146,
   "metadata": {},
   "outputs": [
    {
     "name": "stdout",
     "output_type": "stream",
     "text": [
      "1 defaultdict(<class 'int'>, {})\n",
      "3 defaultdict(<class 'int'>, {1: 1})\n",
      "4 defaultdict(<class 'int'>, {1: 1, 3: 1})\n",
      "6 defaultdict(<class 'int'>, {1: 1, 3: 1, 4: 1})\n",
      "7 defaultdict(<class 'int'>, {1: 1, 3: 1, 4: 1, 6: 1})\n"
     ]
    },
    {
     "data": {
      "text/plain": [
       "4"
      ]
     },
     "execution_count": 146,
     "metadata": {},
     "output_type": "execute_result"
    }
   ],
   "source": [
    "n=[1,2,1,2,1]\n",
    "Solution().subarraySum(n,3)"
   ]
  },
  {
   "cell_type": "markdown",
   "metadata": {},
   "source": [
    "## Shortest Distance to Character"
   ]
  },
  {
   "cell_type": "code",
   "execution_count": 99,
   "metadata": {},
   "outputs": [],
   "source": [
    "class Solution(object):\n",
    "    def shortestToChar(self, S, C):\n",
    "        \n",
    "        last=S.find(C)\n",
    "        nex=last\n",
    "        ans=[]\n",
    "        if last>-1:\n",
    "            for i in range(len(S)):\n",
    "                dist=min(abs(last-i),abs(nex-i))\n",
    "                ans.append(dist)\n",
    "                if (i==last or i==nex) and i<len(S)-1:\n",
    "                    if i==nex:\n",
    "                        last=nex\n",
    "                    nex=i+1+S[i+1:].find(C)\n",
    "        return ans\n"
   ]
  },
  {
   "cell_type": "code",
   "execution_count": 100,
   "metadata": {},
   "outputs": [
    {
     "data": {
      "text/plain": [
       "[3, 2, 1, 0, 1, 0, 0, 1, 2, 2, 1, 0]"
      ]
     },
     "execution_count": 100,
     "metadata": {},
     "output_type": "execute_result"
    }
   ],
   "source": [
    "s='loveleetcode'\n",
    "\n",
    "Solution().shortestToChar(s,'e')"
   ]
  },
  {
   "cell_type": "markdown",
   "metadata": {},
   "source": [
    "## Leftmost Column with 1"
   ]
  },
  {
   "cell_type": "code",
   "execution_count": 60,
   "metadata": {},
   "outputs": [],
   "source": [
    "class BinaryMatrix(object):\n",
    "    \n",
    "    def __init__(self, mat):\n",
    "        self.mat=mat\n",
    "    \n",
    "    def get(self, x, y):\n",
    "        return self.mat[x][y]\n",
    "\n",
    "    def dimensions(self,):\n",
    "        return [len(self.mat),len(self.mat[0])]\n",
    "\n",
    "class Solution(object):\n",
    "    def leftMostColumnWithOne(self, binaryMatrix):\n",
    "        \n",
    "        r,c=binaryMatrix.dimensions()\n",
    "        col=c-1\n",
    "        row=0\n",
    "\n",
    "        while col>=0 and row<r:\n",
    "            # print(row,col)\n",
    "            if binaryMatrix.get(row,col)==1:\n",
    "                col-=1\n",
    "            else:\n",
    "                row+=1\n",
    "        \n",
    "        return (col+1 if 0<=col+1<c else -1)\n",
    "        "
   ]
  },
  {
   "cell_type": "code",
   "execution_count": 62,
   "metadata": {},
   "outputs": [
    {
     "data": {
      "text/plain": [
       "-1"
      ]
     },
     "execution_count": 62,
     "metadata": {},
     "output_type": "execute_result"
    }
   ],
   "source": [
    "b=BinaryMatrix([[0,0],[0,0]])\n",
    "Solution().leftMostColumnWithOne(b)"
   ]
  },
  {
   "cell_type": "markdown",
   "metadata": {},
   "source": [
    "## Construct BST from Preorder Traversal"
   ]
  },
  {
   "cell_type": "code",
   "execution_count": 21,
   "metadata": {},
   "outputs": [],
   "source": [
    "# Definition for a binary tree node.\n",
    "class TreeNode(object):\n",
    "    def __init__(self, x):\n",
    "        self.val = x\n",
    "        self.left = None\n",
    "        self.right = None\n",
    "\n",
    "class Solution(object):\n",
    "    def bstFromPreorder(self, preorder):\n",
    "        \n",
    "        if not preorder:\n",
    "            return None\n",
    "        \n",
    "        print(preorder)\n",
    "        \n",
    "        root=TreeNode(preorder[0])\n",
    "        i=1\n",
    "        while i<len(preorder) and preorder[i] < root.val:\n",
    "            i+=1\n",
    "\n",
    "        root.left=self.bstFromPreorder(preorder[1:i])\n",
    "        root.right=self.bstFromPreorder(preorder[i:])\n",
    "\n",
    "        return root\n",
    "        "
   ]
  },
  {
   "cell_type": "code",
   "execution_count": 22,
   "metadata": {},
   "outputs": [
    {
     "name": "stdout",
     "output_type": "stream",
     "text": [
      "[8, 5, 2, 7, 10, 12]\n",
      "[5, 2, 7]\n",
      "[2]\n",
      "[7]\n",
      "[10, 12]\n",
      "[12]\n"
     ]
    }
   ],
   "source": [
    "pre=[8,5,2,7,10,12]\n",
    "\n",
    "x=Solution().bstFromPreorder(pre)\n"
   ]
  },
  {
   "cell_type": "code",
   "execution_count": 20,
   "metadata": {},
   "outputs": [
    {
     "data": {
      "text/plain": [
       "2"
      ]
     },
     "execution_count": 20,
     "metadata": {},
     "output_type": "execute_result"
    }
   ],
   "source": [
    "# x.val\n",
    "# x.left.val\n",
    "# x,right.val\n",
    "x.left.left.val"
   ]
  },
  {
   "cell_type": "markdown",
   "metadata": {},
   "source": [
    "## Adjacent Pairs"
   ]
  },
  {
   "cell_type": "code",
   "execution_count": 5,
   "metadata": {},
   "outputs": [],
   "source": [
    "import math\n",
    "def solution(A):\n",
    "    \n",
    "    A=sorted(A)\n",
    "    mn=math.inf\n",
    "    for i in range(1,len(A)):\n",
    "        d=A[i]-A[i-1]\n",
    "        if d<mn:\n",
    "            mn=d\n",
    "            \n",
    "    return mn"
   ]
  },
  {
   "cell_type": "code",
   "execution_count": 7,
   "metadata": {},
   "outputs": [
    {
     "data": {
      "text/plain": [
       "1"
      ]
     },
     "execution_count": 7,
     "metadata": {},
     "output_type": "execute_result"
    }
   ],
   "source": [
    "N=[0,3,4,7,5,8,11,1]\n",
    "solution(N)"
   ]
  },
  {
   "cell_type": "markdown",
   "metadata": {},
   "source": [
    "## Word Break"
   ]
  },
  {
   "cell_type": "code",
   "execution_count": 433,
   "metadata": {},
   "outputs": [],
   "source": [
    "class Solution(object):\n",
    "    def wordBreak(self, s, wordDict):\n",
    "\n",
    "        def rec(cur,words):\n",
    "            if cur=='':\n",
    "                return True\n",
    "            elif words:\n",
    "                dic=[x for x in words]\n",
    "                print(cur,words)\n",
    "                ref=cur\n",
    "                res=False\n",
    "                for w in words:\n",
    "                    dic.remove(w)\n",
    "                    res=rec(ref.replace(w,''), dic)\n",
    "                    if res:\n",
    "                        return True\n",
    "                    ref=cur\n",
    "                    dic=[x for x in words]\n",
    "                return res\n",
    "            return False\n",
    "            \n",
    "        res=rec(s,wordDict)\n",
    "        \n",
    "        return res"
   ]
  },
  {
   "cell_type": "code",
   "execution_count": 434,
   "metadata": {},
   "outputs": [
    {
     "name": "stdout",
     "output_type": "stream",
     "text": [
      "cbca ['bc', 'ca']\n",
      "ca ['ca']\n"
     ]
    },
    {
     "data": {
      "text/plain": [
       "True"
      ]
     },
     "execution_count": 434,
     "metadata": {},
     "output_type": "execute_result"
    }
   ],
   "source": [
    "s='cbca'\n",
    "d=['bc','ca']\n",
    "Solution().wordBreak(s,d)"
   ]
  },
  {
   "cell_type": "code",
   "execution_count": 384,
   "metadata": {},
   "outputs": [
    {
     "data": {
      "text/plain": [
       "['sand', 'and', 'dog']"
      ]
     },
     "execution_count": 384,
     "metadata": {},
     "output_type": "execute_result"
    }
   ],
   "source": [
    "d.remove('cats')\n",
    "d"
   ]
  },
  {
   "cell_type": "markdown",
   "metadata": {},
   "source": [
    "### LeetCode Contest"
   ]
  },
  {
   "cell_type": "code",
   "execution_count": 341,
   "metadata": {},
   "outputs": [],
   "source": [
    "class Solution(object):\n",
    "    count=0\n",
    "    last=100000\n",
    "    def minNumberOfFrogs(self, croakOfFrogs):\n",
    "        \n",
    "        frogs=0\n",
    "        c='croak'\n",
    "        croaks=[False for i in range(len(croakOfFrogs))]\n",
    "        \n",
    "        def findFull(i, at):\n",
    "            if croakOfFrogs[i]==c[at] and croaks[i]!=True:\n",
    "                if at<4:\n",
    "                    croaks[i]=True\n",
    "                    if i<len(croakOfFrogs)-1:\n",
    "                        findFull(i+1,at+1)\n",
    "                else:\n",
    "                    self.last=min(i,self.last)\n",
    "                    self.count+=1\n",
    "            elif at<5 and i<len(croaks)-1:\n",
    "                findFull(i+1,at)\n",
    "\n",
    "        count=0\n",
    "        for i in range(len(croakOfFrogs)):\n",
    "            if croakOfFrogs[i]=='c':\n",
    "                if self.last<i:\n",
    "                    self.count-=1\n",
    "                findFull(i, 0)\n",
    "                \n",
    "        \n",
    "        return (self.count if self.count>0 else -1)"
   ]
  },
  {
   "cell_type": "code",
   "execution_count": 343,
   "metadata": {},
   "outputs": [
    {
     "data": {
      "text/plain": [
       "2"
      ]
     },
     "execution_count": 343,
     "metadata": {},
     "output_type": "execute_result"
    }
   ],
   "source": [
    "x=\"ccrroaokakcroak\"\n",
    "Solution().minNumberOfFrogs(x)"
   ]
  },
  {
   "cell_type": "code",
   "execution_count": 97,
   "metadata": {},
   "outputs": [],
   "source": [
    "from collections import defaultdict\n",
    "class Solution(object):\n",
    "    def displayTable(self, orders):\n",
    "        \n",
    "        items=set()\n",
    "        tables=set()\n",
    "        itemcount=defaultdict(int)\n",
    "        for o in orders:\n",
    "            itemcount[(o[1],o[2])]+=1\n",
    "            items.add(o[2])\n",
    "            tables.add(o[1])\n",
    "        items=sorted(list(items))\n",
    "        tables=sorted(list(tables), key=lambda x : int(x))\n",
    "        \n",
    "        itemcount={k:v for k,v in sorted(itemcount.items(), key=lambda x: x[0][1])}\n",
    "        \n",
    "        ans=[['Table']]\n",
    "        for i in items:\n",
    "            ans[0].append(i)\n",
    "        \n",
    "        tablewise=defaultdict(list)\n",
    "        \n",
    "        print(tables)\n",
    "        for t in tables:\n",
    "            for f in range(1,len(ans[0])):\n",
    "                if (t,ans[0][f]) in itemcount:\n",
    "                    tablewise[t].append(str(itemcount[(t,ans[0][f])]))\n",
    "                else:\n",
    "                    tablewise[t].append('0')\n",
    "            tab=[t]\n",
    "            tab+=tablewise[t]\n",
    "            ans.append(tab)\n",
    "        \n",
    "        \n",
    "        return ans\n",
    "        \n",
    "        "
   ]
  },
  {
   "cell_type": "code",
   "execution_count": 94,
   "metadata": {},
   "outputs": [
    {
     "name": "stdout",
     "output_type": "stream",
     "text": [
      "['3', '5', '10']\n"
     ]
    },
    {
     "data": {
      "text/plain": [
       "[['Table', 'Beef Burrito', 'Ceviche', 'Fried Chicken', 'Water'],\n",
       " ['3', '0', '2', '1', '0'],\n",
       " ['5', '0', '1', '0', '1'],\n",
       " ['10', '1', '0', '0', '0']]"
      ]
     },
     "execution_count": 94,
     "metadata": {},
     "output_type": "execute_result"
    }
   ],
   "source": [
    "orders = [[\"David\",\"3\",\"Ceviche\"],[\"Corina\",\"10\",\"Beef Burrito\"],[\"David\",\"3\",\"Fried Chicken\"],[\"Carla\",\"5\",\"Water\"],[\"Carla\",\"5\",\"Ceviche\"],[\"Rous\",\"3\",\"Ceviche\"]]\n",
    "Solution().displayTable(orders)\n"
   ]
  },
  {
   "cell_type": "code",
   "execution_count": 55,
   "metadata": {},
   "outputs": [],
   "source": [
    "class Solution(object):\n",
    "    def reformat(self, s):\n",
    "        '''\n",
    "        '''\n",
    "        let=[i for i in s if i.isalpha()]\n",
    "        num=[i for i in s if i.isnumeric()]\n",
    "        \n",
    "        ans=['' for i in range(len(s))]\n",
    "        if 0<=abs(len(let)-len(num))<=1:\n",
    "            l=len(let)\n",
    "            n=len(num)\n",
    "            if l>n:\n",
    "                ans[::2],ans[1::2]=let,num\n",
    "            else:\n",
    "                ans[::2],ans[1::2]=num,let\n",
    "            \n",
    "            return ''.join(ans)\n",
    "            \n",
    "        return ''"
   ]
  },
  {
   "cell_type": "code",
   "execution_count": 31,
   "metadata": {},
   "outputs": [
    {
     "data": {
      "text/plain": [
       "'b1c2g'"
      ]
     },
     "execution_count": 31,
     "metadata": {},
     "output_type": "execute_result"
    }
   ],
   "source": [
    "s='1bc2g'\n",
    "Solution().reformat(s)"
   ]
  },
  {
   "cell_type": "markdown",
   "metadata": {},
   "source": [
    "## Minimum Path Sum"
   ]
  },
  {
   "cell_type": "code",
   "execution_count": 479,
   "metadata": {},
   "outputs": [],
   "source": [
    "import math, heapq\n",
    "class Solution(object):\n",
    "    \n",
    "    def minPathSum(self, grid):\n",
    "        \n",
    "        \n",
    "        r=len(grid)\n",
    "        c=len(grid[0])\n",
    "        if r==0 or c==0:\n",
    "            return 0\n",
    "        \n",
    "        visited=set()\n",
    "        st=[(grid[0][0],0,0)]\n",
    "        minsum=math.inf\n",
    "        while st:\n",
    "            csum,i,j=heapq.heappop(st)\n",
    "            if (i,j) in visited:\n",
    "                continue\n",
    "                \n",
    "            if i==r-1 and j==c-1:\n",
    "                return csum\n",
    "            visited.add((i,j))\n",
    "            \n",
    "            \n",
    "            if i<r-1:\n",
    "                nexp=(i+1,j)\n",
    "                nex=(csum+grid[i+1][j],)+nexp\n",
    "                heapq.heappush(st,nex)\n",
    "\n",
    "            if j<c-1:\n",
    "                nexp=(i,j+1)\n",
    "                nex=(csum+grid[i][j+1],)+nexp\n",
    "                heapq.heappush(st,nex)\n",
    "                \n",
    "    \n",
    "        return minsum\n",
    "    "
   ]
  },
  {
   "cell_type": "code",
   "execution_count": 480,
   "metadata": {},
   "outputs": [
    {
     "data": {
      "text/plain": [
       "3"
      ]
     },
     "execution_count": 480,
     "metadata": {},
     "output_type": "execute_result"
    }
   ],
   "source": [
    "g=[\n",
    "[1,2],\n",
    "[1,1]\n",
    "]\n",
    "\n",
    "Solution().minPathSum(g)"
   ]
  },
  {
   "cell_type": "markdown",
   "metadata": {},
   "source": [
    "## Remove Nth element from end of List"
   ]
  },
  {
   "cell_type": "code",
   "execution_count": 493,
   "metadata": {},
   "outputs": [],
   "source": [
    "# Definition for singly-linked list.\n",
    "class ListNode(object):\n",
    "    def __init__(self, x):\n",
    "        self.val = x\n",
    "        self.next = None\n",
    "\n",
    "class Solution(object):\n",
    "    def removeNthFromEnd(self, head, n):\n",
    "        \n",
    "        l=0\n",
    "        h=head\n",
    "        while h:\n",
    "            l+=1\n",
    "            h=h.next\n",
    "            \n",
    "        ans=ListNode(0)\n",
    "        ans.next=head\n",
    "        c=ans\n",
    "        i=0\n",
    "        while i<l-n:\n",
    "            c=c.next\n",
    "            i+=1\n",
    "        \n",
    "        if c.next:\n",
    "            c.next=c.next.next\n",
    "        \n",
    "        \n",
    "        return ans.next"
   ]
  },
  {
   "cell_type": "code",
   "execution_count": 494,
   "metadata": {},
   "outputs": [],
   "source": [
    "h=ListNode(1)\n",
    "h.next=ListNode(2)\n",
    "h.next.next=ListNode(3)\n",
    "h.next.next.next=ListNode(4)\n",
    "h.next.next.next.next=ListNode(5)\n",
    "\n",
    "a=Solution().removeNthFromEnd(h,3)"
   ]
  },
  {
   "cell_type": "code",
   "execution_count": 496,
   "metadata": {},
   "outputs": [
    {
     "data": {
      "text/plain": [
       "4"
      ]
     },
     "execution_count": 496,
     "metadata": {},
     "output_type": "execute_result"
    }
   ],
   "source": [
    "a.next.next.val"
   ]
  },
  {
   "cell_type": "markdown",
   "metadata": {},
   "source": [
    "## Valid Parenthesis String"
   ]
  },
  {
   "cell_type": "code",
   "execution_count": 1017,
   "metadata": {},
   "outputs": [],
   "source": [
    "class Solution(object):\n",
    "    def checkValidString(self, s):\n",
    "        \n",
    "        l=len(s)\n",
    "        st=[]\n",
    "        \n",
    "        left=0\n",
    "        right=0\n",
    "        \n",
    "        for i in range(l):\n",
    "            left+=(1 if s[i] in '(*' else -1)\n",
    "            right+=(1 if s[l-i-1] in '*)' else -1)\n",
    "            if left<0 or right<0:\n",
    "                return False\n",
    "        return True"
   ]
  },
  {
   "cell_type": "code",
   "execution_count": 1018,
   "metadata": {},
   "outputs": [
    {
     "data": {
      "text/plain": [
       "False"
      ]
     },
     "execution_count": 1018,
     "metadata": {},
     "output_type": "execute_result"
    }
   ],
   "source": [
    "s=\"(\"\n",
    "Solution().checkValidString(s)"
   ]
  },
  {
   "cell_type": "markdown",
   "metadata": {},
   "source": [
    "## Permutation in String"
   ]
  },
  {
   "cell_type": "code",
   "execution_count": 761,
   "metadata": {},
   "outputs": [],
   "source": [
    "from collections import Counter\n",
    "class Solution(object):\n",
    "    def checkInclusion(self, s1, s2):\n",
    "        \n",
    "        l=len(s1)\n",
    "        \n",
    "        count_small=Counter(s1)\n",
    "\n",
    "        def isPermut(s):\n",
    "            count_big=Counter()\n",
    "            for c in s:\n",
    "                count_big[c]+=1\n",
    "            if count_small==count_big:\n",
    "                return True\n",
    "            return False\n",
    "            \n",
    "            \n",
    "            \n",
    "        for c in range(len(s2)):\n",
    "            if s2[c] in s1:\n",
    "                if c+l<=len(s2) and isPermut(s2[c:c+l]):\n",
    "                    return True\n",
    "                \n",
    "        return False\n",
    "                \n",
    "        "
   ]
  },
  {
   "cell_type": "code",
   "execution_count": 777,
   "metadata": {},
   "outputs": [],
   "source": [
    "class Solution:\n",
    "    def checkInclusion(self, s1: str, s2: str) -> bool:\n",
    "        count_s1 = collections.Counter(s1)\n",
    "        count_s2 = collections.Counter()\n",
    "        l = 0\n",
    "        for r, s in enumerate(s2):\n",
    "            if s in count_s1:\n",
    "                count_s2[s] += 1\n",
    "            \n",
    "#             Only keep count of the last len(s1) characters\n",
    "            if r-l+1>len(s1):\n",
    "                print(r,s,r-l+1)\n",
    "                if s2[l] in count_s2:\n",
    "                    count_s2[s2[l]] -= 1\n",
    "                l += 1\n",
    "            print(r,count_s2)\n",
    "            if count_s1==count_s2:\n",
    "                return True\n",
    "            \n",
    "        return False"
   ]
  },
  {
   "cell_type": "code",
   "execution_count": 778,
   "metadata": {},
   "outputs": [
    {
     "name": "stdout",
     "output_type": "stream",
     "text": [
      "0 Counter({'d': 1})\n",
      "1 Counter({'d': 2})\n",
      "2 Counter({'d': 3})\n",
      "3 a 4\n",
      "3 Counter({'d': 2, 'a': 1})\n",
      "4 c 4\n",
      "4 Counter({'d': 1, 'a': 1, 'c': 1})\n"
     ]
    },
    {
     "data": {
      "text/plain": [
       "True"
      ]
     },
     "execution_count": 778,
     "metadata": {},
     "output_type": "execute_result"
    }
   ],
   "source": [
    "s='adc'\n",
    "b='dddacdasddasd'\n",
    "\n",
    "Solution().checkInclusion(s,b)"
   ]
  },
  {
   "cell_type": "markdown",
   "metadata": {},
   "source": [
    "## String Shifts"
   ]
  },
  {
   "cell_type": "code",
   "execution_count": 669,
   "metadata": {},
   "outputs": [],
   "source": [
    "class Solution(object):\n",
    "    def stringShift(self, s, shift):\n",
    "        \n",
    "        if len(s)==1:\n",
    "            return s\n",
    "        \n",
    "        for i in shift:\n",
    "            x=(i[1] if i[0]==0 else -i[1])\n",
    "            s=s[x:]+s[:x]\n",
    "        \n",
    "        return s"
   ]
  },
  {
   "cell_type": "code",
   "execution_count": 670,
   "metadata": {},
   "outputs": [
    {
     "data": {
      "text/plain": [
       "'efgabcd'"
      ]
     },
     "execution_count": 670,
     "metadata": {},
     "output_type": "execute_result"
    }
   ],
   "source": [
    "s='abcdefg'\n",
    "Solution().stringShift(s,[[1,1],[1,1],[0,2],[1,3]])"
   ]
  },
  {
   "cell_type": "markdown",
   "metadata": {},
   "source": [
    "## Design LinkedList"
   ]
  },
  {
   "cell_type": "code",
   "execution_count": 652,
   "metadata": {},
   "outputs": [],
   "source": [
    "class MyLinkedList(object):\n",
    "\n",
    "    val=None\n",
    "    next=None\n",
    "    \n",
    "    def __init__(self):\n",
    "        return None\n",
    "        \n",
    "\n",
    "    def get(self, index):\n",
    "        \n",
    "        n=self\n",
    "        count=0\n",
    "        while count<index:\n",
    "            print(n.val)\n",
    "            if n.next:\n",
    "                n=n.next\n",
    "            else:\n",
    "                break\n",
    "        if n:\n",
    "            return n.val\n",
    "        return -1\n",
    "\n",
    "    def addAtHead(self, val):\n",
    "        \n",
    "        h=MyLinkedList()\n",
    "        h.val=val\n",
    "        h.next=self\n",
    "        self=h\n",
    "        \n",
    "\n",
    "    def addAtTail(self, val):\n",
    "        t=MyLinkedList()\n",
    "        t.val=val\n",
    "        i=self\n",
    "        while i.next:\n",
    "            i=i.next\n",
    "        i.next=t\n",
    "        \n",
    "        \n",
    "        return None\n",
    "        \n",
    "\n",
    "    def addAtIndex(self, index, val):\n",
    "        \"\"\"\n",
    "        Add a node of value val before the index-th node in the linked list. If index equals to the length of linked list, the node will be appended to the end of linked list. If index is greater than the length, the node will not be inserted.\n",
    "        :type index: int\n",
    "        :type val: int\n",
    "        :rtype: None\n",
    "        \"\"\"\n",
    "        \n",
    "        return None\n",
    "        \n",
    "\n",
    "    def deleteAtIndex(self, index):\n",
    "        \"\"\"\n",
    "        Delete the index-th node in the linked list, if the index is valid.\n",
    "        :type index: int\n",
    "        :rtype: None\n",
    "        \"\"\"\n",
    "        \n",
    "        return None\n"
   ]
  },
  {
   "cell_type": "code",
   "execution_count": 653,
   "metadata": {},
   "outputs": [],
   "source": [
    "obj = MyLinkedList()\n",
    "# param_1 = obj.get(1)\n",
    "obj.addAtHead(2)\n",
    "obj.addAtHead(1)\n",
    "# obj.addAtTail(3)\n",
    "# obj.addAtIndex(index,val)\n",
    "# obj.deleteAtIndex(index)"
   ]
  },
  {
   "cell_type": "code",
   "execution_count": 654,
   "metadata": {},
   "outputs": [],
   "source": [
    "obj.get(0)"
   ]
  },
  {
   "cell_type": "markdown",
   "metadata": {},
   "source": [
    "## Jump Game"
   ]
  },
  {
   "cell_type": "code",
   "execution_count": 613,
   "metadata": {},
   "outputs": [],
   "source": [
    "class Solution(object):\n",
    "    def canJump(self, nums):\n",
    "        \n",
    "        n=len(nums)\n",
    "        if n==1:\n",
    "            return True\n",
    "        \n",
    "        mxreach=nums[0]\n",
    "        for i in range(1,n):\n",
    "            if i>mxreach:\n",
    "                return False\n",
    "            mxreach=max(nums[i]+i,mxreach)\n",
    "        \n",
    "        return True\n",
    "            \n",
    "        "
   ]
  },
  {
   "cell_type": "code",
   "execution_count": 616,
   "metadata": {},
   "outputs": [
    {
     "data": {
      "text/plain": [
       "False"
      ]
     },
     "execution_count": 616,
     "metadata": {},
     "output_type": "execute_result"
    }
   ],
   "source": [
    "n=[4,2,3,6,0,0,0,0,0,0,0]\n",
    "\n",
    "Solution().canJump(n)"
   ]
  },
  {
   "cell_type": "markdown",
   "metadata": {},
   "source": [
    "## Spiral Matrix"
   ]
  },
  {
   "cell_type": "code",
   "execution_count": 500,
   "metadata": {},
   "outputs": [],
   "source": [
    "class Solution(object):\n",
    "    def spiralOrder(self, matrix):\n",
    "        \"\"\"\n",
    "        :type matrix: List[List[int]]\n",
    "        :rtype: List[int]\n",
    "        \"\"\"\n",
    "        r=len(matrix)\n",
    "        c=len(matrix[0])\n",
    "        \n",
    "        ans=[]\n",
    "        \n",
    "        sr,sc,d=0,0,0\n",
    "        row_del=[0,1,0,-1]\n",
    "        col_del=[1,0,-1,0]\n",
    "        \n",
    "        seen=[[False for i in range(c)] for j in range(r)]\n",
    "        while len(ans)<r*c:\n",
    "            \n",
    "            ans.append(matrix[sr][sc])\n",
    "            seen[sr][sc]=True\n",
    "            nexr=sr+row_del[d]\n",
    "            nexc=sc+col_del[d]\n",
    "            if 0<=nexr<r and 0<=nexc<c and not seen[nexr][nexc]:\n",
    "                sr,sc=nexr,nexc\n",
    "            else:\n",
    "                d=(d+1)%len(row_del)\n",
    "                sr+=row_del[d]\n",
    "                sc+=col_del[d]\n",
    "            \n",
    "        return ans\n",
    "        \n",
    "        "
   ]
  },
  {
   "cell_type": "code",
   "execution_count": 501,
   "metadata": {},
   "outputs": [
    {
     "data": {
      "text/plain": [
       "[1, 2, 3, 6, 9, 8, 7, 4, 5]"
      ]
     },
     "execution_count": 501,
     "metadata": {},
     "output_type": "execute_result"
    }
   ],
   "source": [
    "m=[\n",
    " [ 1, 2, 3 ],\n",
    " [ 4, 5, 6 ],\n",
    " [ 7, 8, 9 ]\n",
    "]\n",
    "\n",
    "Solution().spiralOrder(m)"
   ]
  },
  {
   "cell_type": "markdown",
   "metadata": {},
   "source": [
    "## Wiggle Sort"
   ]
  },
  {
   "cell_type": "code",
   "execution_count": 453,
   "metadata": {},
   "outputs": [],
   "source": [
    "class Solution(object):\n",
    "    def wiggleSort(self, nums):\n",
    "        \n",
    "        "
   ]
  },
  {
   "cell_type": "code",
   "execution_count": 464,
   "metadata": {},
   "outputs": [],
   "source": [
    "nums=[1,5,6,7,2,3,4]\n",
    "Solution().wiggleSort(nums)"
   ]
  },
  {
   "cell_type": "code",
   "execution_count": 468,
   "metadata": {},
   "outputs": [
    {
     "data": {
      "text/plain": [
       "(2, 1)"
      ]
     },
     "execution_count": 468,
     "metadata": {},
     "output_type": "execute_result"
    }
   ],
   "source": [
    "divmod(5,2)"
   ]
  },
  {
   "cell_type": "code",
   "execution_count": 466,
   "metadata": {},
   "outputs": [
    {
     "data": {
      "text/plain": [
       "[4, 7, 3, 6, 2, 5, 1]"
      ]
     },
     "execution_count": 466,
     "metadata": {},
     "output_type": "execute_result"
    }
   ],
   "source": [
    "k=len(nums)//2\n",
    "nums=sorted(nums, reverse=True)\n",
    "nums[::2], nums[1::2] = nums[k:], nums[0:k]\n",
    "nums"
   ]
  },
  {
   "cell_type": "markdown",
   "metadata": {},
   "source": [
    "## Max Product Subarray"
   ]
  },
  {
   "cell_type": "code",
   "execution_count": 451,
   "metadata": {},
   "outputs": [],
   "source": [
    "class Solution(object):\n",
    "    def maxProduct(self, nums):\n",
    "        pmax=nums[0]\n",
    "        pmin=nums[0]\n",
    "        res=nums[0]\n",
    "        for i in range(1,len(nums)):\n",
    "            if nums[i]>=0:\n",
    "                pmax=max(nums[i],pmax*nums[i])\n",
    "                pmin=min(nums[i],pmin*nums[i])\n",
    "            else:\n",
    "                t=pmax\n",
    "                pmax=max(nums[i],pmin*nums[i])\n",
    "                pmin=min(nums[i],t*nums[i])\n",
    "            res=max(res,pmax)\n",
    "#             print(pmax,pmin)\n",
    "        return res"
   ]
  },
  {
   "cell_type": "code",
   "execution_count": 452,
   "metadata": {},
   "outputs": [
    {
     "data": {
      "text/plain": [
       "0"
      ]
     },
     "execution_count": 452,
     "metadata": {},
     "output_type": "execute_result"
    }
   ],
   "source": [
    "n=[-2,0,-1]\n",
    "Solution().maxProduct(n)"
   ]
  },
  {
   "cell_type": "markdown",
   "metadata": {},
   "source": [
    "## Last Stone Weight"
   ]
  },
  {
   "cell_type": "code",
   "execution_count": 139,
   "metadata": {},
   "outputs": [],
   "source": [
    "\n",
    "class Solution(object):\n",
    "    def lastStoneWeight(self, stones):\n",
    "        \n",
    "        while len(stones)>1:\n",
    "            mx1=-math.inf\n",
    "            mxi=-1\n",
    "            for i in range(len(stones)):\n",
    "                if stones[i]>mx1:\n",
    "                    mx1=stones[i]\n",
    "                    mxi=i\n",
    "            mx2=-math.inf\n",
    "            for i in range(len(stones)):\n",
    "                if stones[i]>mx2 and stones[i]<=mx1 and i!=mxi:\n",
    "                    mx2=stones[i]\n",
    "            print(mx1,mx2)\n",
    "            d=mx1-mx2\n",
    "            stones.remove(mx1)\n",
    "            stones.remove(mx2)\n",
    "            \n",
    "            if d>0 or len(stones)==0:\n",
    "                stones.append(d)\n",
    "                \n",
    "        return stones[0]\n",
    "        "
   ]
  },
  {
   "cell_type": "code",
   "execution_count": 140,
   "metadata": {},
   "outputs": [
    {
     "name": "stdout",
     "output_type": "stream",
     "text": [
      "10 10\n"
     ]
    },
    {
     "data": {
      "text/plain": [
       "0"
      ]
     },
     "execution_count": 140,
     "metadata": {},
     "output_type": "execute_result"
    }
   ],
   "source": [
    "s=[10,10]\n",
    "Solution().lastStoneWeight(s)"
   ]
  },
  {
   "cell_type": "markdown",
   "metadata": {},
   "source": [
    "## Contiguous Array"
   ]
  },
  {
   "cell_type": "code",
   "execution_count": 223,
   "metadata": {},
   "outputs": [],
   "source": [
    "class Solution(object):\n",
    "    def findMaxLength(self, nums):\n",
    "        \n",
    "        l=0\n",
    "        r=len(nums)\n",
    "        mr=0\n",
    "        cr=0\n",
    "        while l<r:\n",
    "            r=len(nums)\n",
    "            while l<r:\n",
    "                t=len(nums[l:r])\n",
    "                o=sum(nums[l:r])\n",
    "                z=t-o\n",
    "#                 print(l,r,nums[l:r],o,z)\n",
    "                if z==o:\n",
    "                    cr=z+o\n",
    "                if cr>mr:\n",
    "                    mr=cr\n",
    "                r-=1\n",
    "            l+=1\n",
    "            r+=2\n",
    "            \n",
    "        \n",
    "        return mr\n",
    "        "
   ]
  },
  {
   "cell_type": "code",
   "execution_count": 260,
   "metadata": {},
   "outputs": [],
   "source": [
    "class Solution(object):\n",
    "    def findMaxLength(self, nums):\n",
    "        \n",
    "        d={0:-1}\n",
    "        csum=0\n",
    "        ans=0\n",
    "        x=[(0,-1)]\n",
    "        for i,v in enumerate(nums):\n",
    "            csum+=2*v-1\n",
    "            x.append((i,csum))\n",
    "            if csum in d:\n",
    "                ans=max(ans,i-d[csum])\n",
    "            else:\n",
    "                d[csum]=i\n",
    "            \n",
    "        print(x)\n",
    "        return ans\n",
    "        "
   ]
  },
  {
   "cell_type": "code",
   "execution_count": 261,
   "metadata": {},
   "outputs": [
    {
     "name": "stdout",
     "output_type": "stream",
     "text": [
      "[(0, -1), (0, -1), (1, -2), (2, -3), (3, -4), (4, -5), (5, -4), (6, -5), (7, -4), (8, -3), (9, -2), (10, -3), (11, -4), (12, -5), (13, -6), (14, -7), (15, -8), (16, -7), (17, -6)]\n"
     ]
    },
    {
     "data": {
      "text/plain": [
       "8"
      ]
     },
     "execution_count": 261,
     "metadata": {},
     "output_type": "execute_result"
    }
   ],
   "source": [
    "n=[0,0,0,0,0,1,0,1,1,1,0,0,0,0,0,0,1,1]\n",
    "Solution().findMaxLength(n)"
   ]
  },
  {
   "cell_type": "code",
   "execution_count": null,
   "metadata": {},
   "outputs": [],
   "source": []
  },
  {
   "cell_type": "code",
   "execution_count": 386,
   "metadata": {},
   "outputs": [],
   "source": [
    "class Solution(object):\n",
    "    def findWords(self, board, words):\n",
    "        ans=[]\n",
    "        for w in words:\n",
    "            if self.exist(board, w):\n",
    "                ans.append(w)\n",
    "        return ans\n",
    "    \n",
    "    def exist(self, board, word):\n",
    "        for i in range(len(board)):\n",
    "            for j in range(len(board[0])):\n",
    "                if board[i][j]==word[0]:\n",
    "                    nexque=[((i,j),0, set())]\n",
    "                    while len(nexque)>0:\n",
    "                        (r,c),w,visited = nexque.pop()\n",
    "                        if board[r][c]==word[w]:\n",
    "                            if w==len(word)-1:\n",
    "                                return True\n",
    "                            visited.add((r,c))\n",
    "                            w+=1\n",
    "                            positions=[(1,0),(0,1),(-1,0),(0,-1)]\n",
    "                            for p in positions:\n",
    "                                v=set([(r,c)])\n",
    "                                if (r+p[0], c+p[1]) not in visited and self.isvalid(board,r+p[0], c+p[1]) and w<=len(word):\n",
    "                                    nexque.append(((r+p[0], c+p[1]), w, visited | v))\n",
    "        return False\n",
    "\n",
    "        \n",
    "        \n",
    "    def isvalid(self, board, i, j):\n",
    "        if (i < len(board) and j<len(board[0]) and i>=0 and j>=0):\n",
    "            return True\n",
    "        return False\n",
    "        "
   ]
  },
  {
   "cell_type": "code",
   "execution_count": 388,
   "metadata": {},
   "outputs": [
    {
     "data": {
      "text/plain": [
       "['oath', 'eat']"
      ]
     },
     "execution_count": 388,
     "metadata": {},
     "output_type": "execute_result"
    }
   ],
   "source": [
    "board = [\n",
    "  ['o','a','a','n'],\n",
    "  ['e','t','a','e'],\n",
    "  ['i','h','k','r'],\n",
    "  ['i','f','l','v']\n",
    "]\n",
    "\n",
    "w=[\"oath\",\"pea\",\"eat\",\"rain\"]\n",
    "Solution().findWords(board,w)"
   ]
  },
  {
   "cell_type": "markdown",
   "metadata": {},
   "source": [
    "## Rotated Sorted Array"
   ]
  },
  {
   "cell_type": "code",
   "execution_count": 379,
   "metadata": {},
   "outputs": [],
   "source": [
    "class Solution(object):\n",
    "    def search(self, nums, target):\n",
    "        \"\"\"\n",
    "        :type nums: List[int]\n",
    "        :type target: int\n",
    "        :rtype: int\n",
    "        \"\"\"\n",
    "        def bins(n, t):\n",
    "            l=0\n",
    "            r=len(n)-1\n",
    "            mid=0\n",
    "            while l<=r:\n",
    "                print(n,l,mid,r)\n",
    "                mid=l+(r-l)//2\n",
    "                if n[mid]==t:\n",
    "                    return mid\n",
    "                elif n[mid]>t:\n",
    "                    r=mid-1\n",
    "                else:\n",
    "                    l=mid+1\n",
    "            return -1\n",
    "        \n",
    "        r=0\n",
    "        for i in range(1,len(nums)):\n",
    "            if nums[i]<nums[i-1]:\n",
    "                r=i\n",
    "                break\n",
    "        if r>0:\n",
    "            lef=bins(nums[:r],target)\n",
    "            rig=bins(nums[r:],target)\n",
    "            rig+=(r if rig!=-1 else 0)\n",
    "            return (lef if lef!=-1 else rig)\n",
    "        return bins(nums,target)"
   ]
  },
  {
   "cell_type": "code",
   "execution_count": 384,
   "metadata": {},
   "outputs": [
    {
     "name": "stdout",
     "output_type": "stream",
     "text": [
      "[4, 5, 6, 7] 0 0 3\n",
      "[4, 5, 6, 7] 0 1 0\n",
      "[0, 1, 2] 0 0 2\n",
      "[0, 1, 2] 0 1 0\n"
     ]
    },
    {
     "data": {
      "text/plain": [
       "4"
      ]
     },
     "execution_count": 384,
     "metadata": {},
     "output_type": "execute_result"
    }
   ],
   "source": [
    "n=[4,5,6,7,0,1,2]\n",
    "Solution().search(n,0)"
   ]
  },
  {
   "cell_type": "markdown",
   "metadata": {},
   "source": [
    "## Rotate 2D Array"
   ]
  },
  {
   "cell_type": "code",
   "execution_count": 318,
   "metadata": {},
   "outputs": [],
   "source": [
    "class Solution(object):\n",
    "    def rotate(self, matrix):\n",
    "        \"\"\"\n",
    "        \n",
    "        0,0-0,2\n",
    "        0,1-1,2\n",
    "        0,2-2,2\n",
    "        1,0-0,1\n",
    "        1,1-1,1\n",
    "        1,2-2,1\n",
    "        2,0-0,0\n",
    "        2,1-1,0\n",
    "        2,2-2,0\n",
    "        \n",
    "        :rtype: None Do not return anything, modify matrix in-place instead.\n",
    "        \"\"\"\n",
    "        d=len(matrix)\n",
    "        m=matrix\n",
    "        for i in range(d//2):\n",
    "            for j in range(i,d-i-1):\n",
    "                t=matrix[i][j]\n",
    "                matrix[i][j]=matrix[d-1-j][i]\n",
    "                matrix[d-1-j][i]=matrix[d-1-i][d-1-j]\n",
    "                matrix[d-1-i][d-1-j]=matrix[j][d-1-i]\n",
    "                matrix[j][d-1-i]=t\n",
    "        \n",
    "        for i in matrix:\n",
    "            print(i)"
   ]
  },
  {
   "cell_type": "code",
   "execution_count": 319,
   "metadata": {},
   "outputs": [
    {
     "name": "stdout",
     "output_type": "stream",
     "text": [
      "[13, 9, 5, 1]\n",
      "[14, 10, 6, 2]\n",
      "[15, 11, 7, 3]\n",
      "[16, 12, 8, 4]\n"
     ]
    }
   ],
   "source": [
    "n=[\n",
    "    [1,2,3,4],\n",
    "    [5,6,7,8],\n",
    "    [9,10,11,12],\n",
    "    [13,14,15,16],\n",
    "]\n",
    "\n",
    "Solution().rotate(n)"
   ]
  },
  {
   "cell_type": "markdown",
   "metadata": {},
   "source": [
    "## Diameter of Binary Tree"
   ]
  },
  {
   "cell_type": "code",
   "execution_count": 143,
   "metadata": {},
   "outputs": [],
   "source": [
    "class TreeNode(object):\n",
    "    def __init__(self, x):\n",
    "        self.val = x\n",
    "        self.left = None\n",
    "        self.right = None\n",
    "\n",
    "class Solution(object):\n",
    "    def diameterOfBinaryTree(self, root):\n",
    "        \n",
    "        def explore(r):\n",
    "            if r:\n",
    "                lef=explore(r.left)\n",
    "                rig=explore(r.right)\n",
    "                \n",
    "                leng=1+max(lef[0],rig[0])\n",
    "                cdia=max(max(lef[1],rig[1]),lef[0]+rig[0])\n",
    "                return (leng,cdia)\n",
    "            return (0,0)\n",
    "        \n",
    "        if root:\n",
    "            return explore(root)[1]\n",
    "        \n",
    "        return 0\n",
    "        "
   ]
  },
  {
   "cell_type": "code",
   "execution_count": 52,
   "metadata": {},
   "outputs": [
    {
     "data": {
      "text/plain": [
       "9"
      ]
     },
     "execution_count": 52,
     "metadata": {},
     "output_type": "execute_result"
    }
   ],
   "source": [
    "a=TreeNode(1)\n",
    "a.left=TreeNode(2)\n",
    "a.left.left=TreeNode(3)\n",
    "a.left.left.left=TreeNode(4)\n",
    "a.left.left.left.left=TreeNode(5)\n",
    "a.left.right=TreeNode(5)\n",
    "a.left.right.right=TreeNode(5)\n",
    "a.left.right.right.left=TreeNode(5)\n",
    "a.left.right.right.left.right=TreeNode(5)\n",
    "a.left.right.right.left.right.right=TreeNode(5)\n",
    "a.left.right.right.left.right.right.right=TreeNode(5)\n",
    "\n",
    "a.right=TreeNode(6)\n",
    "# a.right.right=TreeNode(7)\n",
    "\n",
    "Solution().diameterOfBinaryTree(a)"
   ]
  },
  {
   "cell_type": "markdown",
   "metadata": {},
   "source": [
    "## Distinct Subsequence"
   ]
  },
  {
   "cell_type": "code",
   "execution_count": 402,
   "metadata": {},
   "outputs": [],
   "source": [
    "class Solution:\n",
    "    def numDistinct(self, s: str, t: str) -> int:\n",
    "        tset = set(t)\n",
    "        new_s = ''.join([x for x in s if x in tset])\n",
    "        new_t = '#' + t\n",
    "        dp_t = [0 for _ in range(len(new_t))]\n",
    "        dp_t[0] = 1\n",
    "        lookup = {q: [] for q in tset}\n",
    "        print(new_s, lookup)\n",
    "        for i in range(len(new_t)-1, 0, -1):\n",
    "            lookup[new_t[i]].append(i)\n",
    "        print(lookup) \n",
    "        for s in new_s:\n",
    "            for i in lookup[s]:\n",
    "                print(s,dp_t)\n",
    "                dp_t[i] += dp_t[i-1]\n",
    "        print(dp_t)\n",
    "        return dp_t[-1]"
   ]
  },
  {
   "cell_type": "code",
   "execution_count": 401,
   "metadata": {},
   "outputs": [],
   "source": [
    "class Solution(object):\n",
    "    ways=0\n",
    "    def numDistinct(self, s, t):\n",
    "        \n",
    "        l=len(t)\n",
    "        done=set()\n",
    "        def rec(cur, i, nex, off):\n",
    "            if len(cur.split('|'))==l and cur!='':\n",
    "                if cur not in done:\n",
    "                    done.add(cur)\n",
    "                    self.ways+=1\n",
    "                else:\n",
    "                    return\n",
    "\n",
    "            while len(nex) and i<l and nex.find(t[i])>=0:\n",
    "                f=nex.find(t[i])\n",
    "                ind=f+off\n",
    "                if cur!='':\n",
    "                    rec(cur+'|'+str(ind),i+1,nex[f+1:],ind+1)\n",
    "                else:\n",
    "                    rec(cur+str(ind),i+1,nex[f+1:],ind+1)\n",
    "                off+=f+1\n",
    "                nex=nex[f+1:]\n",
    "            \n",
    "        ways=0\n",
    "        tset=set(t)\n",
    "        s=''.join([j for j in s if j in tset])\n",
    "        rec('',0,s,0)\n",
    "        print(done)\n",
    "        return self.ways\n",
    "        \n",
    "            \n",
    "        "
   ]
  },
  {
   "cell_type": "code",
   "execution_count": 404,
   "metadata": {},
   "outputs": [
    {
     "name": "stdout",
     "output_type": "stream",
     "text": [
      "rabbbit {'i': [], 'a': [], 'r': [], 't': [], 'b': []}\n",
      "{'i': [5], 'a': [2], 'r': [1], 't': [6], 'b': [4, 3]}\n",
      "r [1, 0, 0, 0, 0, 0, 0]\n",
      "a [1, 1, 0, 0, 0, 0, 0]\n",
      "b [1, 1, 1, 0, 0, 0, 0]\n",
      "b [1, 1, 1, 0, 0, 0, 0]\n",
      "b [1, 1, 1, 1, 0, 0, 0]\n",
      "b [1, 1, 1, 1, 1, 0, 0]\n",
      "b [1, 1, 1, 2, 1, 0, 0]\n",
      "b [1, 1, 1, 2, 3, 0, 0]\n",
      "i [1, 1, 1, 3, 3, 0, 0]\n",
      "t [1, 1, 1, 3, 3, 3, 0]\n",
      "[1, 1, 1, 3, 3, 3, 3]\n"
     ]
    },
    {
     "data": {
      "text/plain": [
       "3"
      ]
     },
     "execution_count": 404,
     "metadata": {},
     "output_type": "execute_result"
    }
   ],
   "source": [
    "S = \"rabbbit\"\n",
    "\n",
    "T = \"rabbit\"\n",
    "Solution().numDistinct(S,T)"
   ]
  },
  {
   "cell_type": "code",
   "execution_count": 252,
   "metadata": {},
   "outputs": [
    {
     "data": {
      "text/plain": [
       "1"
      ]
     },
     "execution_count": 252,
     "metadata": {},
     "output_type": "execute_result"
    }
   ],
   "source": [
    "'013jhgjkhg'.find('1')"
   ]
  },
  {
   "cell_type": "code",
   "execution_count": null,
   "metadata": {},
   "outputs": [],
   "source": []
  },
  {
   "cell_type": "code",
   "execution_count": null,
   "metadata": {},
   "outputs": [],
   "source": []
  },
  {
   "cell_type": "code",
   "execution_count": null,
   "metadata": {},
   "outputs": [],
   "source": []
  },
  {
   "cell_type": "code",
   "execution_count": null,
   "metadata": {},
   "outputs": [],
   "source": []
  },
  {
   "cell_type": "code",
   "execution_count": null,
   "metadata": {},
   "outputs": [],
   "source": []
  },
  {
   "cell_type": "code",
   "execution_count": null,
   "metadata": {},
   "outputs": [],
   "source": []
  },
  {
   "cell_type": "markdown",
   "metadata": {},
   "source": [
    "## Amazon Assignment"
   ]
  },
  {
   "cell_type": "code",
   "execution_count": 225,
   "metadata": {},
   "outputs": [],
   "source": [
    "def lengthEachScene(inputList):\n",
    "    \n",
    "    diffs=[]\n",
    "    diff_elements=len(set(inputList))\n",
    "    s=inputList\n",
    "    inputList=[i for i in s]\n",
    "    print(inputList)\n",
    "    lasts=collections.defaultdict(int)\n",
    "    # Storing differences in last occurrence and first occurrence of shot\n",
    "    for i in range(len(s)):\n",
    "        lasts[i]=s.rfind(inputList[i])\n",
    "    \n",
    "    print('Unique elements',diff_elements)\n",
    "    print(lasts)\n",
    "    \n",
    "    mx=lasts[0]\n",
    "    k=0\n",
    "    i=0\n",
    "    uniq=set()\n",
    "    ans=[]\n",
    "    while i<len(inputList) and len(uniq)<diff_elements:\n",
    "        end=lasts[i]\n",
    "        start=i\n",
    "        while start<=end and len(uniq)<diff_elements:\n",
    "            print(start,end)\n",
    "            uniq.add(inputList[start])\n",
    "            if lasts[start]>end:\n",
    "                end=lasts[start]\n",
    "            start+=1\n",
    "        ans.append(end-i+1)\n",
    "        i=end+1\n",
    "    \n",
    "    print(ans)\n"
   ]
  },
  {
   "cell_type": "code",
   "execution_count": 226,
   "metadata": {},
   "outputs": [],
   "source": [
    "l='abaecdcaefghijgkf'"
   ]
  },
  {
   "cell_type": "code",
   "execution_count": 227,
   "metadata": {},
   "outputs": [
    {
     "name": "stdout",
     "output_type": "stream",
     "text": [
      "['a', 'b', 'a', 'e', 'c', 'd', 'c', 'a', 'e', 'f', 'g', 'h', 'i', 'j', 'g', 'k', 'f']\n",
      "Unique elements 11\n",
      "defaultdict(<class 'int'>, {0: 7, 1: 1, 2: 7, 3: 8, 4: 6, 5: 5, 6: 6, 7: 7, 8: 8, 9: 16, 10: 14, 11: 11, 12: 12, 13: 13, 14: 14, 15: 15, 16: 16})\n",
      "0 7\n",
      "1 7\n",
      "2 7\n",
      "3 7\n",
      "4 8\n",
      "5 8\n",
      "6 8\n",
      "7 8\n",
      "8 8\n",
      "9 16\n",
      "10 16\n",
      "11 16\n",
      "12 16\n",
      "13 16\n",
      "14 16\n",
      "15 16\n",
      "[9, 8]\n"
     ]
    }
   ],
   "source": [
    "lengthEachScene(l)"
   ]
  },
  {
   "cell_type": "code",
   "execution_count": 5,
   "metadata": {},
   "outputs": [],
   "source": [
    "def numberAmazonGoStores(rows, column, grid):\n",
    "    # Checking if a valid grid with rows and columns\n",
    "    if not grid or len(grid)==0 or len(grid[0])==0 or len(grid)!=rows or len(grid[0])!=column:\n",
    "        return 0\n",
    "    \n",
    "    # Function to check if a row,column coordinate is within the grid\n",
    "    def inside(g, r, c):\n",
    "        return (True if r<rows and c<column and r>=0 and c>=0 and g[r][c]==1 else False)\n",
    "    \n",
    "    # Function to traverse recursively in a Depth-First search algorithm\n",
    "    def recur_traverse(g, r, c):\n",
    "        if not inside(g, r,c):\n",
    "            return 0\n",
    "        else:\n",
    "            # Set this building as visited marking with 0\n",
    "            g[r][c]=0\n",
    "            \n",
    "            # Recursively check all neighbors of this building\n",
    "            # Mark them as visited and call this a cluster\n",
    "            recur_traverse(g, r+1, c)\n",
    "            recur_traverse(g, r-1, c)\n",
    "            recur_traverse(g, r, c+1)\n",
    "            recur_traverse(g, r, c-1)\n",
    "            \n",
    "        return 1\n",
    "        \n",
    "    count=0\n",
    "    # Iterate over grid to find buildings(1)\n",
    "    # Start Depth-First traversal from them to find cluster of 1s\n",
    "    for row in range(rows):\n",
    "        for col in range(column):\n",
    "            if int(grid[row][col])==1:\n",
    "                count+=recur_traverse(grid,row,col)\n",
    "    \n",
    "    return count"
   ]
  },
  {
   "cell_type": "code",
   "execution_count": 6,
   "metadata": {},
   "outputs": [
    {
     "data": {
      "text/plain": [
       "2"
      ]
     },
     "execution_count": 6,
     "metadata": {},
     "output_type": "execute_result"
    }
   ],
   "source": [
    "a=[[1,1,0,0],\n",
    "  [1,1,0,0],\n",
    "   [1,1,0,0],\n",
    "   [1,1,0,1]\n",
    "  ]\n",
    "\n",
    "numberAmazonGoStores(4,4,a)"
   ]
  },
  {
   "cell_type": "code",
   "execution_count": 79,
   "metadata": {},
   "outputs": [
    {
     "name": "stdout",
     "output_type": "stream",
     "text": [
      "['a', 'b', 'c', 'a', 'd', 'c', 'e']\n"
     ]
    }
   ],
   "source": [
    "import collections\n",
    "\n",
    "S = [i for i in l]\n",
    "alphabet = set(S)\n",
    "count = collections.defaultdict(int)\n",
    "start = 0\n",
    "for end in range(len(S)):\n",
    "    count[S[end]] += 1\n",
    "    if len(count) == len(alphabet):\n",
    "        break\n",
    "end += 1\n",
    "\n",
    "bs = start\n",
    "be = end\n",
    "\n",
    "while end < len(S):\n",
    "    count[S[end]] += 1\n",
    "    while count[S[start]] > 1:\n",
    "        count[S[start]] -= 1\n",
    "        start += 1\n",
    "    end += 1\n",
    "    if end - start < best_end - best_start: # new shortest sequence?\n",
    "        best_start = start\n",
    "        best_end = end\n",
    "\n",
    "print(S[bs:be])"
   ]
  },
  {
   "cell_type": "code",
   "execution_count": null,
   "metadata": {},
   "outputs": [],
   "source": []
  }
 ],
 "metadata": {
  "kernelspec": {
   "display_name": "Python 3",
   "language": "python",
   "name": "python3"
  },
  "language_info": {
   "codemirror_mode": {
    "name": "ipython",
    "version": 3
   },
   "file_extension": ".py",
   "mimetype": "text/x-python",
   "name": "python",
   "nbconvert_exporter": "python",
   "pygments_lexer": "ipython3",
   "version": "3.7.3"
  }
 },
 "nbformat": 4,
 "nbformat_minor": 2
}
