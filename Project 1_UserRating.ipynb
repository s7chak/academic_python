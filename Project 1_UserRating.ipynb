{
 "cells": [
  {
   "cell_type": "markdown",
   "metadata": {},
   "source": [
    "# Project - 1 : Apache Spark \n",
    "\n",
    "Instructor: Ramesh Yerraballi\n",
    "TA: Madhumitha Sakthi\n",
    "Semester: Fall 2019\n",
    "Due Date: 11:59pm, Monday 9/16\n",
    "\n",
    "This project is based on Map-Reduce Framework. In these you will get to work with Spark and will get to know how \n",
    "does spark work, what functionalities does spark provide, what does map-reduce framework do and why is it useful. \n",
    "\n",
    "In this project you will be implementing a basic song recommender system. You will be given a dataset where there are multiple csv files. These csv files have data corresponding to song play count and song information.\n",
    "\n",
    "The data you would be using will be provided in a zip file along with this notebook. The __msd.zip__ archive contains '_kaggle_visible_evaluation_triplets.txt_'. We will be using the visible part of the testing data to understand the working on Apache Spark.  The user's listening history is provided as: (user, song, play count). In another file, '_kaggle_songs.txt_', each song is marked using an index for easier representation of songs. \n",
    "\n",
    "\n",
    "\n",
    "What to turn in:\n",
    "A zip folder which will have:\n",
    "- Jupyter Notebook\n",
    "- A brief report on what features you used for recommendation. And a brief explanation of flow of your code. For example,  what RDD does what or, why it was created.\n",
    "- datasets folder with the csv files you are using in your notebook.\n",
    "- Notebook should use relative path to the csv files in datasets folder.\n",
    "- Name of the zip folder - <your\\_name>\\_<your\\_partner_name>.zip\n"
   ]
  },
  {
   "cell_type": "markdown",
   "metadata": {},
   "source": [
    "This project consists of 4 questions. \n",
    "1. Create an RDD with _msd_evalutation_triplets.txt_ and replace the song name with the song index from _msd_songs.txt_. Identify the number of songs that do not have any rating. \n",
    "2. Generate song ratings based on the song play count as a normalized score between 0 and 1. \n",
    "3. Identify the popular song based on this rating and recommend songs to user, given user id based on the algorithm used in Movie recommender system from class. \n",
    "4. Using Cosine similarity function, identify pair-wise similarity between each pair of users and generate the top 5 most similar users without an overlap in users. \n",
    "\n",
    "The above list is the higer level idea about the questions. "
   ]
  },
  {
   "cell_type": "code",
   "execution_count": 1,
   "metadata": {},
   "outputs": [],
   "source": [
    "### Starter code ####\n",
    "\n",
    "##### These lines are to tell jupyter where to find Apache Spark ####\n",
    "import findspark\n",
    "# findspark.init('C:\\\\apachespark')\n",
    "from pyspark import SparkConf, SparkContext\n",
    "from itertools import accumulate\n",
    "conf = SparkConf().setMaster(\"local[*]\").setAppName(\"Songs\")\n",
    "# There are two configurable parameters\n",
    "# 1. A cluster URL, namely  local  in this example, which tells Spark how to connect\n",
    "# to a cluster.  local  is a special value that runs Spark on one thread on the local\n",
    "# machine, without connecting to a cluster.\n",
    "# 2. An application name, namely  Movies  in this example. This will identify your\n",
    "# application on the cluster manager’s UI if you connect to a cluster.\n",
    "sc = SparkContext(conf = conf)\n",
    "##### These lines are to tell jupyter where to find Apache Spark ####"
   ]
  },
  {
   "cell_type": "code",
   "execution_count": 2,
   "metadata": {},
   "outputs": [],
   "source": [
    "## Read triplet file into RDD\n",
    "triplet_rdd = sc.textFile(r\"msd/kaggle_visible_evaluation_triplets.txt\") \\\n",
    "    .map(lambda line: line.split(\"\\t\")) \n",
    "\n",
    "## Read song file into RDD\n",
    "songs_rdd = sc.textFile(r\"msd/kaggle_songs.txt\") \\\n",
    "    .map(lambda line: line.split(\" \")) "
   ]
  },
  {
   "cell_type": "markdown",
   "metadata": {},
   "source": [
    "## Step 1: \n",
    "Replace song name with song index and identify the number of songs without user history"
   ]
  },
  {
   "cell_type": "code",
   "execution_count": 3,
   "metadata": {},
   "outputs": [],
   "source": [
    "hacked_triplets = triplet_rdd.map(lambda x: (1,x))"
   ]
  },
  {
   "cell_type": "code",
   "execution_count": 4,
   "metadata": {},
   "outputs": [],
   "source": [
    "hacked_songs = songs_rdd.map(lambda x: (1,x))"
   ]
  },
  {
   "cell_type": "code",
   "execution_count": 5,
   "metadata": {},
   "outputs": [
    {
     "data": {
      "text/plain": [
       "[(1, ['fd50c4007b68a3737fe052d5a4f78ce8aa117f3d', 'SOBONKR12A58A7A7E0', '1']),\n",
       " (1, ['fd50c4007b68a3737fe052d5a4f78ce8aa117f3d', 'SOEGIYH12A6D4FC0E3', '1']),\n",
       " (1, ['fd50c4007b68a3737fe052d5a4f78ce8aa117f3d', 'SOFLJQZ12A6D4FADA6', '1']),\n",
       " (1, ['fd50c4007b68a3737fe052d5a4f78ce8aa117f3d', 'SOHTKMO12AB01843B0', '1']),\n",
       " (1, ['fd50c4007b68a3737fe052d5a4f78ce8aa117f3d', 'SODQZCY12A6D4F9D11', '1']),\n",
       " (1, ['fd50c4007b68a3737fe052d5a4f78ce8aa117f3d', 'SOXLOQG12AF72A2D55', '1']),\n",
       " (1, ['d7083f5e1d50c264277d624340edaaf3dc16095b', 'SOUVUHC12A67020E3B', '1']),\n",
       " (1, ['d7083f5e1d50c264277d624340edaaf3dc16095b', 'SOUQERE12A58A75633', '1']),\n",
       " (1, ['d7083f5e1d50c264277d624340edaaf3dc16095b', 'SOIPJAX12A8C141A2D', '1']),\n",
       " (1, ['d7083f5e1d50c264277d624340edaaf3dc16095b', 'SOEFCDJ12AB0185FA0', '2']),\n",
       " (1, ['d7083f5e1d50c264277d624340edaaf3dc16095b', 'SOATCSU12A8C13393A', '1']),\n",
       " (1, ['d7083f5e1d50c264277d624340edaaf3dc16095b', 'SOZPZGN12A8C135B45', '1']),\n",
       " (1, ['d7083f5e1d50c264277d624340edaaf3dc16095b', 'SOPFVWP12A6D4FC636', '1']),\n",
       " (1, ['d7083f5e1d50c264277d624340edaaf3dc16095b', 'SOHEKND12A8AE481D0', '1']),\n",
       " (1, ['d7083f5e1d50c264277d624340edaaf3dc16095b', 'SOPSVVG12A8C13B444', '1']),\n",
       " (1, ['d7083f5e1d50c264277d624340edaaf3dc16095b', 'SODSKZZ12AB0188524', '1']),\n",
       " (1, ['d7083f5e1d50c264277d624340edaaf3dc16095b', 'SONZTNP12A8C1321DF', '1']),\n",
       " (1, ['d7083f5e1d50c264277d624340edaaf3dc16095b', 'SOVVLKF12A8C1424F0', '1']),\n",
       " (1, ['d7083f5e1d50c264277d624340edaaf3dc16095b', 'SOMLKZO12AB017F4AE', '1']),\n",
       " (1, ['d7083f5e1d50c264277d624340edaaf3dc16095b', 'SOACRJG12A8C137A8D', '1'])]"
      ]
     },
     "execution_count": 5,
     "metadata": {},
     "output_type": "execute_result"
    }
   ],
   "source": [
    "hacked_triplets.take(20)"
   ]
  },
  {
   "cell_type": "code",
   "execution_count": 6,
   "metadata": {},
   "outputs": [
    {
     "data": {
      "text/plain": [
       "[['SOAAADD12AB018A9DD', '1'],\n",
       " ['SOAAADE12A6D4F80CC', '2'],\n",
       " ['SOAAADF12A8C13DF62', '3'],\n",
       " ['SOAAADZ12A8C1334FB', '4'],\n",
       " ['SOAAAFI12A6D4F9C66', '5'],\n",
       " ['SOAAAGK12AB0189572', '6'],\n",
       " ['SOAAAGN12AB017D672', '7'],\n",
       " ['SOAAAGO12A67AE0A0E', '8'],\n",
       " ['SOAAAGP12A6D4F7D1C', '9'],\n",
       " ['SOAAAGQ12A8C1420C8', '10']]"
      ]
     },
     "execution_count": 6,
     "metadata": {},
     "output_type": "execute_result"
    }
   ],
   "source": [
    "songs_rdd.take(10)"
   ]
  },
  {
   "cell_type": "code",
   "execution_count": 7,
   "metadata": {},
   "outputs": [],
   "source": [
    "def matchSongName(row):\n",
    "    if row[1] == row[2]:\n",
    "        return True\n",
    "    return False"
   ]
  },
  {
   "cell_type": "code",
   "execution_count": 8,
   "metadata": {},
   "outputs": [
    {
     "data": {
      "text/plain": [
       "[['fd50c4007b68a3737fe052d5a4f78ce8aa117f3d', '25150', '1'],\n",
       " ['fd50c4007b68a3737fe052d5a4f78ce8aa117f3d', '68212', '1'],\n",
       " ['fd50c4007b68a3737fe052d5a4f78ce8aa117f3d', '87433', '1'],\n",
       " ['fd50c4007b68a3737fe052d5a4f78ce8aa117f3d', '123630', '1'],\n",
       " ['fd50c4007b68a3737fe052d5a4f78ce8aa117f3d', '58821', '1'],\n",
       " ['fd50c4007b68a3737fe052d5a4f78ce8aa117f3d', '351764', '1'],\n",
       " ['d7083f5e1d50c264277d624340edaaf3dc16095b', '315822', '1'],\n",
       " ['d7083f5e1d50c264277d624340edaaf3dc16095b', '312787', '1'],\n",
       " ['d7083f5e1d50c264277d624340edaaf3dc16095b', '136848', '1'],\n",
       " ['d7083f5e1d50c264277d624340edaaf3dc16095b', '67457', '2']]"
      ]
     },
     "execution_count": 8,
     "metadata": {},
     "output_type": "execute_result"
    }
   ],
   "source": [
    "# RDD With Song Index instead of Song Name\n",
    "joined = hacked_triplets.join(hacked_songs) \\\n",
    "            .map(lambda x: [x[1][0][0] , x[1][0][1] , x[1][1][0] , x[1][1][1] , x[1][0][2]]) \\\n",
    "            .filter(matchSongName) \\\n",
    "            .map(lambda x: [x[0] , x[3] , x[4]])\n",
    "\n",
    "joined.take(10)"
   ]
  },
  {
   "cell_type": "code",
   "execution_count": 9,
   "metadata": {},
   "outputs": [],
   "source": [
    "onlySongNames = triplet_rdd.map(lambda x: x[1]).collect()"
   ]
  },
  {
   "cell_type": "code",
   "execution_count": 10,
   "metadata": {},
   "outputs": [],
   "source": [
    "song_set = set(onlySongNames)"
   ]
  },
  {
   "cell_type": "code",
   "execution_count": 11,
   "metadata": {},
   "outputs": [
    {
     "name": "stdout",
     "output_type": "stream",
     "text": [
      "223007 songs do not have a user history.\n"
     ]
    }
   ],
   "source": [
    "# Number of missing songs\n",
    "distinctSongs = songs_rdd.keys().collect()\n",
    "missing_songs = len(distinctSongs) - len(song_set)\n",
    "print(str(missing_songs) + \" songs do not have a user history.\")"
   ]
  },
  {
   "cell_type": "markdown",
   "metadata": {},
   "source": [
    "## Step 2:\n",
    "Generate song ratings based on the play_count. For example, if (song_1, 5; song_2, 10; song_3, 5) i.e., song_1 is played 5 times, song_2 is played 10 times and song_3 is played 5 times, the normalized rating score should be 0.25, 0.5 and 0.25 respectively. \n",
    "Similarly, generate the rating for all the songs. You may notice that based on all songs, the rating is almost always very low. So, think of the best way to convert song count to ratings. (Hint: Try generating ratings based on each user's song play history)"
   ]
  },
  {
   "cell_type": "code",
   "execution_count": 27,
   "metadata": {},
   "outputs": [],
   "source": [
    "song_user_grouped = triplet_rdd.map(lambda x: [x[0], [x[1], int(x[2])]])"
   ]
  },
  {
   "cell_type": "code",
   "execution_count": 49,
   "metadata": {},
   "outputs": [],
   "source": [
    "song_user_sum = triplet_rdd.map(lambda x: (x[0], int(x[2]))) \\\n",
    "                        .reduceByKey(lambda x,y: x+y)\n"
   ]
  },
  {
   "cell_type": "code",
   "execution_count": 50,
   "metadata": {},
   "outputs": [
    {
     "data": {
      "text/plain": [
       "[('d7083f5e1d50c264277d624340edaaf3dc16095b', 17),\n",
       " ('d68dc6fc25248234590d7668a11e3335534ae4b4', 6),\n",
       " ('fdf6afb5daefb42774617cf223475c6013969724', 10),\n",
       " ('10cbcd627472477dfbec90fb75017f8df6ce84ec', 9),\n",
       " ('30e4a688e6fc9c8bfe55998af3996a909ae34449', 8),\n",
       " ('da7bc0ec91a21a54f0b209bcc9ec5b4b49613a68', 129),\n",
       " ('3a613180775197cd08c154abe4e3f67af238a632', 50),\n",
       " ('4b9b549e84fb29bfbcf7ab34f01c0bcd1bbf93a5', 97),\n",
       " ('5b7124d06fe4b027b6dff487da9ac236aa4fc3e4', 31),\n",
       " ('6530c4fc41b9110de5d39fe0355fa103c66385f0', 44)]"
      ]
     },
     "execution_count": 50,
     "metadata": {},
     "output_type": "execute_result"
    }
   ],
   "source": [
    "song_user_sum.take(10)"
   ]
  },
  {
   "cell_type": "code",
   "execution_count": 52,
   "metadata": {},
   "outputs": [
    {
     "data": {
      "text/plain": [
       "[('d7083f5e1d50c264277d624340edaaf3dc16095b', ('SOUVUHC12A67020E3B', 17)),\n",
       " ('d7083f5e1d50c264277d624340edaaf3dc16095b', ('SOUQERE12A58A75633', 17)),\n",
       " ('d7083f5e1d50c264277d624340edaaf3dc16095b', ('SOIPJAX12A8C141A2D', 17)),\n",
       " ('d7083f5e1d50c264277d624340edaaf3dc16095b', ('SOEFCDJ12AB0185FA0', 17)),\n",
       " ('d7083f5e1d50c264277d624340edaaf3dc16095b', ('SOATCSU12A8C13393A', 17)),\n",
       " ('d7083f5e1d50c264277d624340edaaf3dc16095b', ('SOZPZGN12A8C135B45', 17)),\n",
       " ('d7083f5e1d50c264277d624340edaaf3dc16095b', ('SOPFVWP12A6D4FC636', 17)),\n",
       " ('d7083f5e1d50c264277d624340edaaf3dc16095b', ('SOHEKND12A8AE481D0', 17)),\n",
       " ('d7083f5e1d50c264277d624340edaaf3dc16095b', ('SOPSVVG12A8C13B444', 17)),\n",
       " ('d7083f5e1d50c264277d624340edaaf3dc16095b', ('SODSKZZ12AB0188524', 17))]"
      ]
     },
     "execution_count": 52,
     "metadata": {},
     "output_type": "execute_result"
    }
   ],
   "source": [
    "user_ratings = triplet_rdd.join(song_user_sum)\n",
    "user_ratings.take(10)"
   ]
  },
  {
   "cell_type": "code",
   "execution_count": 16,
   "metadata": {},
   "outputs": [],
   "source": [
    "# Each Song with it's play count summed across the dataset\n",
    "song_user_rated_per_user = song_user_grouped.reduceByKey(lambda x,y:x+y)"
   ]
  },
  {
   "cell_type": "code",
   "execution_count": 17,
   "metadata": {},
   "outputs": [
    {
     "data": {
      "text/plain": [
       "[('d7083f5e1d50c264277d624340edaaf3dc16095b',\n",
       "  [['SOUVUHC12A67020E3B', 1],\n",
       "   ['SOUQERE12A58A75633', 1],\n",
       "   ['SOIPJAX12A8C141A2D', 1],\n",
       "   ['SOEFCDJ12AB0185FA0', 2],\n",
       "   ['SOATCSU12A8C13393A', 1],\n",
       "   ['SOZPZGN12A8C135B45', 1],\n",
       "   ['SOPFVWP12A6D4FC636', 1],\n",
       "   ['SOHEKND12A8AE481D0', 1],\n",
       "   ['SOPSVVG12A8C13B444', 1],\n",
       "   ['SODSKZZ12AB0188524', 1],\n",
       "   ['SONZTNP12A8C1321DF', 1],\n",
       "   ['SOVVLKF12A8C1424F0', 1],\n",
       "   ['SOMLKZO12AB017F4AE', 1],\n",
       "   ['SOACRJG12A8C137A8D', 1],\n",
       "   ['SONJVYU12A8AE44F9E', 1],\n",
       "   ['SOSOUKN12A8C13AB79', 1]]),\n",
       " ('d68dc6fc25248234590d7668a11e3335534ae4b4',\n",
       "  [['SOFRQTD12A81C233C0', 1],\n",
       "   ['SOZQIUZ12A8C13CFBE', 1],\n",
       "   ['SOKQNYH12A6D4FA5D3', 1],\n",
       "   ['SOQDMED12A67ADE731', 1],\n",
       "   ['SOAXGDH12A8C13F8A1', 1],\n",
       "   ['SOAAGFH12A8C13D072', 1]]),\n",
       " ('fdf6afb5daefb42774617cf223475c6013969724',\n",
       "  [['SOJZBHH12AB017F611', 1],\n",
       "   ['SOONUTJ12A6701D7B4', 1],\n",
       "   ['SONXYJW12AB018898A', 1],\n",
       "   ['SONDFYA12AB018897F', 1],\n",
       "   ['SOATBYQ12AB0188962', 1],\n",
       "   ['SOWDRCH12A8159E8B4', 1],\n",
       "   ['SOJNPGW12AB018896E', 1],\n",
       "   ['SOTFFRI12AB0188953', 1],\n",
       "   ['SORCKFG12A6D4F8F04', 1],\n",
       "   ['SOPWKOX12A8C139D43', 1]]),\n",
       " ('10cbcd627472477dfbec90fb75017f8df6ce84ec',\n",
       "  [['SOTNWCI12AAF3B2028', 1],\n",
       "   ['SOJGKMM12A6D4F98CD', 1],\n",
       "   ['SONMWXV12AB01803B4', 2],\n",
       "   ['SOZKNSB12A8C140F11', 1],\n",
       "   ['SOGPLBE12A58A80442', 1],\n",
       "   ['SOBWSGV12AB018B5E0', 1],\n",
       "   ['SOWINIH12AB018CC51', 1],\n",
       "   ['SOXHVRT12A81C2320D', 1]]),\n",
       " ('30e4a688e6fc9c8bfe55998af3996a909ae34449',\n",
       "  [['SOTQBKC12A8C13E961', 1],\n",
       "   ['SOAIBYI12AB0185C5B', 1],\n",
       "   ['SOSMONK12A8C139059', 1],\n",
       "   ['SOMYDVM12A6D4F7935', 1],\n",
       "   ['SOHXBKV12A6D4F820D', 2],\n",
       "   ['SODZOER12A8C1360FB', 1],\n",
       "   ['SOQGYDJ12A6310F359', 1]]),\n",
       " ('da7bc0ec91a21a54f0b209bcc9ec5b4b49613a68',\n",
       "  [['SOCLMAD12AB017FC09', 4],\n",
       "   ['SOUSMXX12AB0185C24', 4],\n",
       "   ['SOPEXQH12AF72A05B6', 1],\n",
       "   ['SOVDTMK12AB01829D3', 1],\n",
       "   ['SOCXFFB12AF729CAC0', 3],\n",
       "   ['SOJDNKW12A58A7B1B5', 5],\n",
       "   ['SOFLMTG12A58A7D556', 13],\n",
       "   ['SOXADCS12AB018457A', 4],\n",
       "   ['SOFYCAM12A58A7A45B', 2],\n",
       "   ['SOQMLVU12A6701F8ED', 3],\n",
       "   ['SONHLJN12A81C2169B', 5],\n",
       "   ['SOQZQNK12A81C1F9D0', 14],\n",
       "   ['SOGCRXY12A8C1439FC', 9],\n",
       "   ['SODVXIB12AF72A37F3', 5],\n",
       "   ['SOEJSHI12A6D4F6674', 9],\n",
       "   ['SOAYFQF12AF729E879', 38],\n",
       "   ['SOBYSSP12AAF3B32CA', 6],\n",
       "   ['SOEBQGA12A6D4F475E', 3]]),\n",
       " ('3a613180775197cd08c154abe4e3f67af238a632',\n",
       "  [['SODOZXB12A8C13CD55', 1],\n",
       "   ['SOYNVGY12A8C132EE5', 1],\n",
       "   ['SOSPSPH12AF72A72D9', 5],\n",
       "   ['SOBENFI12AB018B09A', 1],\n",
       "   ['SOJYZEZ12A6D4F538E', 5],\n",
       "   ['SOCJPWM12AF72A781A', 1],\n",
       "   ['SOIOZHO12AB017FE5E', 5],\n",
       "   ['SOWBPKR12A6D4F6664', 1],\n",
       "   ['SOXLOQG12AF72A2D55', 4],\n",
       "   ['SOHMLLJ12A8C131412', 3],\n",
       "   ['SOIVZJE12A8C13D9D8', 14],\n",
       "   ['SOXKWLD12A58A76894', 1],\n",
       "   ['SOPABZM12A6D4FC668', 3],\n",
       "   ['SOEZONZ12AB0184D29', 1],\n",
       "   ['SOYYNFE12A8C13CD00', 1],\n",
       "   ['SOWVDFR12A6D4F94E1', 1],\n",
       "   ['SOBCDFC12A58A7B4B3', 1],\n",
       "   ['SOMKOEG12A6D4F6662', 1]]),\n",
       " ('4b9b549e84fb29bfbcf7ab34f01c0bcd1bbf93a5',\n",
       "  [['SOAUWYT12A81C206F1', 1],\n",
       "   ['SOIOESO12A6D4F621D', 16],\n",
       "   ['SOLXMZT12AF72A2E20', 1],\n",
       "   ['SOQGASJ12A58A76E18', 1],\n",
       "   ['SOCKSGZ12A58A7CA4B', 1],\n",
       "   ['SOSLWYM12AB018415D', 15],\n",
       "   ['SOCHIZU12AB017F47D', 11],\n",
       "   ['SOJHFJP12A6D4FD948', 7],\n",
       "   ['SOJUYDG12A8C1345FF', 1],\n",
       "   ['SOIGJTR12A8C13D578', 2],\n",
       "   ['SOOKXXM12AF72A496C', 1],\n",
       "   ['SOZZEID12A58A7AB89', 1],\n",
       "   ['SOHDNLD12A8C13D142', 10],\n",
       "   ['SOLFXKT12AB017E3E0', 1],\n",
       "   ['SOULTKQ12AB018A183', 1],\n",
       "   ['SODKKNZ12A8C13E383', 10],\n",
       "   ['SOMKRGT12A8C132B92', 1],\n",
       "   ['SOLMEOG12A8C142046', 1],\n",
       "   ['SOHZPPT12A6D4F59FD', 1],\n",
       "   ['SOAAVUV12AB0186646', 2],\n",
       "   ['SORKKEN12AF72AA5FA', 7],\n",
       "   ['SOTWNDJ12A8C143984', 3],\n",
       "   ['SOCXEKQ12AAF3B5490', 2]]),\n",
       " ('5b7124d06fe4b027b6dff487da9ac236aa4fc3e4',\n",
       "  [['SOVIZNF12AF72A710A', 5],\n",
       "   ['SOWQXHG12AB0189D1A', 6],\n",
       "   ['SOPVJNI12A81C219B9', 1],\n",
       "   ['SOHBIEQ12A8C13710F', 1],\n",
       "   ['SOMXAXD12A6D223ACF', 5],\n",
       "   ['SOZQASV12A6D4F87CB', 6],\n",
       "   ['SOQHOUQ12A6D4F8DA9', 1],\n",
       "   ['SOKNWRZ12A8C13BF62', 5],\n",
       "   ['SOUPSHP12AB0181B1A', 1]]),\n",
       " ('6530c4fc41b9110de5d39fe0355fa103c66385f0',\n",
       "  [['SOCHADN12A6310ED94', 5],\n",
       "   ['SOXVVSM12A8C142224', 1],\n",
       "   ['SOQLUTQ12A8AE48037', 1],\n",
       "   ['SOWEJXA12A6701C574', 5],\n",
       "   ['SOIDFJR12A6D4F7EB0', 7],\n",
       "   ['SOVQVNI12A58A778B6', 1],\n",
       "   ['SOSIZFO12A58A79934', 2],\n",
       "   ['SORYRWS12AB0186CD9', 2],\n",
       "   ['SOTIJUH12A58A7B37C', 1],\n",
       "   ['SOERYLG12A6701F07F', 8],\n",
       "   ['SOKLRPJ12A8C13C3FE', 2],\n",
       "   ['SOZVCRW12A67ADA0B7', 1],\n",
       "   ['SOLEEUJ12A6701C787', 1],\n",
       "   ['SOPQLBY12A6310E992', 2],\n",
       "   ['SOXAQJS12AB018CBF7', 2],\n",
       "   ['SOPXKYD12A6D4FA876', 3]])]"
      ]
     },
     "execution_count": 17,
     "metadata": {},
     "output_type": "execute_result"
    }
   ],
   "source": [
    "song_user_rated_per_user.take(10)"
   ]
  },
  {
   "cell_type": "code",
   "execution_count": 18,
   "metadata": {},
   "outputs": [
    {
     "data": {
      "text/plain": [
       "[('SOBONKR12A58A7A7E0', 35432),\n",
       " ('SOFLJQZ12A6D4FADA6', 7895),\n",
       " ('SOHTKMO12AB01843B0', 10515),\n",
       " ('SOXLOQG12AF72A2D55', 4671),\n",
       " ('SOZPZGN12A8C135B45', 39),\n",
       " ('SOPFVWP12A6D4FC636', 149),\n",
       " ('SODSKZZ12AB0188524', 27),\n",
       " ('SOACRJG12A8C137A8D', 12),\n",
       " ('SOSOUKN12A8C13AB79', 134),\n",
       " ('SOFRQTD12A81C233C0', 19454)]"
      ]
     },
     "execution_count": 18,
     "metadata": {},
     "output_type": "execute_result"
    }
   ],
   "source": [
    "songs_count_unique.take(10)"
   ]
  },
  {
   "cell_type": "code",
   "execution_count": 19,
   "metadata": {
    "scrolled": true
   },
   "outputs": [
    {
     "data": {
      "text/plain": [
       "[('SOBONKR12A58A7A7E0', 35432),\n",
       " ('SOAUWYT12A81C206F1', 33179),\n",
       " ('SOSXLTC12AF72A7F54', 24359),\n",
       " ('SOFRQTD12A81C233C0', 19454),\n",
       " ('SOEGIYH12A6D4FC0E3', 17115),\n",
       " ('SOAXGDH12A8C13F8A1', 14279),\n",
       " ('SONYKOW12AB01849C9', 12392),\n",
       " ('SOVDSJC12A58A7A271', 11610),\n",
       " ('SOUFTBI12AB0183F65', 10794),\n",
       " ('SOHTKMO12AB01843B0', 10515)]"
      ]
     },
     "execution_count": 19,
     "metadata": {},
     "output_type": "execute_result"
    }
   ],
   "source": [
    "sorted_songs = songs_count_unique.sortBy(lambda x: -x[1])\n",
    "sorted_songs.take(10)"
   ]
  },
  {
   "cell_type": "code",
   "execution_count": 20,
   "metadata": {},
   "outputs": [],
   "source": [
    "def rateSong(row):\n",
    "    rating = round((10/35432)*row[1],2)\n",
    "    rate = [row[0], rating]\n",
    "    return rate"
   ]
  },
  {
   "cell_type": "code",
   "execution_count": 22,
   "metadata": {},
   "outputs": [],
   "source": [
    "rated_songs = songs_count_unique.map(rateSong)"
   ]
  },
  {
   "cell_type": "code",
   "execution_count": 81,
   "metadata": {
    "scrolled": true
   },
   "outputs": [
    {
     "data": {
      "text/plain": [
       "[['SOBONKR12A58A7A7E0', 10.0],\n",
       " ['SOFLJQZ12A6D4FADA6', 2.23],\n",
       " ['SOHTKMO12AB01843B0', 2.97],\n",
       " ['SOXLOQG12AF72A2D55', 1.32],\n",
       " ['SOZPZGN12A8C135B45', 0.01],\n",
       " ['SOPFVWP12A6D4FC636', 0.04],\n",
       " ['SODSKZZ12AB0188524', 0.01],\n",
       " ['SOACRJG12A8C137A8D', 0.0],\n",
       " ['SOSOUKN12A8C13AB79', 0.04],\n",
       " ['SOFRQTD12A81C233C0', 5.49]]"
      ]
     },
     "execution_count": 81,
     "metadata": {},
     "output_type": "execute_result"
    }
   ],
   "source": [
    "# Songs rated on the number of times it was played by any user - Highest played song=10, Songs played once is lowest~0\n",
    "rated_songs.take(10)\n",
    "#Top ten songs with ratings"
   ]
  },
  {
   "cell_type": "code",
   "execution_count": 96,
   "metadata": {},
   "outputs": [],
   "source": [
    "hacked_songkey_triplets = hacked_triplets.map(lambda x: (x[1][1], [x[1][0], x[1][2]]))"
   ]
  },
  {
   "cell_type": "code",
   "execution_count": 97,
   "metadata": {},
   "outputs": [
    {
     "data": {
      "text/plain": [
       "[('SOBONKR12A58A7A7E0', ['fd50c4007b68a3737fe052d5a4f78ce8aa117f3d', '1']),\n",
       " ('SOEGIYH12A6D4FC0E3', ['fd50c4007b68a3737fe052d5a4f78ce8aa117f3d', '1']),\n",
       " ('SOFLJQZ12A6D4FADA6', ['fd50c4007b68a3737fe052d5a4f78ce8aa117f3d', '1']),\n",
       " ('SOHTKMO12AB01843B0', ['fd50c4007b68a3737fe052d5a4f78ce8aa117f3d', '1']),\n",
       " ('SODQZCY12A6D4F9D11', ['fd50c4007b68a3737fe052d5a4f78ce8aa117f3d', '1']),\n",
       " ('SOXLOQG12AF72A2D55', ['fd50c4007b68a3737fe052d5a4f78ce8aa117f3d', '1']),\n",
       " ('SOUVUHC12A67020E3B', ['d7083f5e1d50c264277d624340edaaf3dc16095b', '1']),\n",
       " ('SOUQERE12A58A75633', ['d7083f5e1d50c264277d624340edaaf3dc16095b', '1']),\n",
       " ('SOIPJAX12A8C141A2D', ['d7083f5e1d50c264277d624340edaaf3dc16095b', '1']),\n",
       " ('SOEFCDJ12AB0185FA0', ['d7083f5e1d50c264277d624340edaaf3dc16095b', '2'])]"
      ]
     },
     "execution_count": 97,
     "metadata": {},
     "output_type": "execute_result"
    }
   ],
   "source": [
    "hacked_songkey_triplets.take(10)"
   ]
  },
  {
   "cell_type": "markdown",
   "metadata": {},
   "source": [
    "## Step 3: \n",
    "For a given user_id, rating, recommend 5 other songs from the list. One way to do this is based on another user who liked the same song liked by this user with rating more than the given rating and recommend the 5 songs based on the matched user's rating. "
   ]
  },
  {
   "cell_type": "code",
   "execution_count": 75,
   "metadata": {},
   "outputs": [
    {
     "ename": "SyntaxError",
     "evalue": "unexpected EOF while parsing (<ipython-input-75-2e17c8beb54b>, line 2)",
     "output_type": "error",
     "traceback": [
      "\u001b[0;36m  File \u001b[0;32m\"<ipython-input-75-2e17c8beb54b>\"\u001b[0;36m, line \u001b[0;32m2\u001b[0m\n\u001b[0;31m    \u001b[0m\n\u001b[0m    ^\u001b[0m\n\u001b[0;31mSyntaxError\u001b[0m\u001b[0;31m:\u001b[0m unexpected EOF while parsing\n"
     ]
    }
   ],
   "source": [
    "def songFilter(row):\n",
    "    if (x[0]==user_id and ):\n",
    "        "
   ]
  },
  {
   "cell_type": "code",
   "execution_count": 114,
   "metadata": {},
   "outputs": [],
   "source": [
    "combined_rated_triplets = rated_songs.join(hacked_songkey_triplets) \\\n",
    "                                    .map(lambda x: [(x[0],x[1][0]), [x[1][1][0], x[1][1][1]] ]) \\\n",
    "                                    .groupByKey() \\\n",
    "                                    .map(lambda x : (x[0], list(x[1])))\n",
    "#                                     .sortedBy(x[0][1])"
   ]
  },
  {
   "cell_type": "code",
   "execution_count": 116,
   "metadata": {},
   "outputs": [
    {
     "data": {
      "text/plain": [
       "[(('SOACRJG12A8C137A8D', 0.0),\n",
       "  [['d7083f5e1d50c264277d624340edaaf3dc16095b', '1'],\n",
       "   ['5c77aaafc7ecabdb45fda3b904fa695eeb98b217', '6'],\n",
       "   ['9672fcd7fbf2222a470e8c3055e716e332024f99', '1'],\n",
       "   ['3648ee52846b074dfafec3fbafd068c43dabbe13', '1'],\n",
       "   ['396bf84cf84fb253b17e6eecd43de3c71f27b178', '2'],\n",
       "   ['853467ed34af34df745d7e9311955b8cc364b38e', '1']]),\n",
       " (('SOFIPHI12AAF3B3DB2', 0.12),\n",
       "  [['9be82340a8b5ef32357fe5af957ccd54736ece95', '1'],\n",
       "   ['75f21ebb6e7cbc2816197d80dfa66c7a8a069b5f', '18'],\n",
       "   ['db0bff23e21e1076ebb381201644892e7facbce5', '1'],\n",
       "   ['305ead5b95ca66fea458fb09552497179f97f42b', '2'],\n",
       "   ['672cddfdc7b7cd37cf929afc578692657dda3c75', '1'],\n",
       "   ['1fbe69ad8fa984ba383b164d8562b9d2adfc5576', '1'],\n",
       "   ['a9a2eabde57a5935c2034005593bb7f6ec2067fa', '1'],\n",
       "   ['c6de408082517acef878dd1fa9e4794dc72b5684', '7'],\n",
       "   ['e9ef744999202ef2fe6e7bf632ca03c9d49b0774', '2'],\n",
       "   ['2c9386c51a582623f77a9b5fdd617740ba4744a6', '1'],\n",
       "   ['898162ea7b2336e6a56e10813d2fcc70008c7942', '1'],\n",
       "   ['fe6854ae9b0fa473eed223850b1026ff1d9f2d53', '1'],\n",
       "   ['6505dd374aa5fc91e273f9422f3c63ba4e04bf25', '1'],\n",
       "   ['696d8315be2227eba2ac7fcb7adbabd16e3c5174', '1'],\n",
       "   ['92852401e5a482a0dc64772933172f50d039fae3', '1'],\n",
       "   ['d6cf8b67617655547cbcb1d3d7be0accc66151e2', '1'],\n",
       "   ['e3cb48639b30f12fe56dbf6cd6fe906d7df1cbfb', '1'],\n",
       "   ['802b8d58f75b25de1293ca2942f7a8bbcea6f5ae', '1'],\n",
       "   ['46f54a871db175a592d8f3f1e0a5d5622a91dabf', '1'],\n",
       "   ['3c505413140b2947be23e79d50a7622e5a74e3e2', '4'],\n",
       "   ['b800923b25de657899cc5c6e18471d27a588dc74', '1'],\n",
       "   ['d8a2ae5a64f849acbf47f6d8b1ec0b1a9bbe0b8c', '1'],\n",
       "   ['40d0bbc2161556c6b7b71f25c32549d09da2c777', '7'],\n",
       "   ['224b90a22f7591c39af693ab319518ee471f50f5', '1'],\n",
       "   ['cf36c7e7fa3f081d0f93333d8c14c20243bdf42b', '2'],\n",
       "   ['53ac8c22ee1b5b74e84958cd2c430675b29a2df3', '1'],\n",
       "   ['589709f688de56663a81463a2cc5c622e3ac782c', '12'],\n",
       "   ['ac9027ad02850c1bf104e8226767096faec8300b', '13'],\n",
       "   ['fcbdf35fb2aa6265d86008fabd80defc47fc24c1', '3'],\n",
       "   ['0806a9d8d2eb3ed0cda9ef8d507be4790a8db736', '1'],\n",
       "   ['e6dc3a97b19d6e15a1f2162e3fb2813c260aeeb3', '2'],\n",
       "   ['ffec588ea1dbc63bbd28f2155a10e03c020468a6', '4'],\n",
       "   ['7804acc221d1a0d311f0569e88924e56ebe26281', '11'],\n",
       "   ['1bc591ed029079be0a30fa490cd0180b8eb2b56f', '2'],\n",
       "   ['cddfa769b9623bdee26ec98f8b5e2e8e6a631b2c', '1'],\n",
       "   ['0e3970e4f2f48fe05016756fe9ed59e643620858', '1'],\n",
       "   ['cb748e0ed5d1f11f1ff12365c77969a2f56e8917', '4'],\n",
       "   ['34c276138770d812bf2ac1e4fb90b6e149833fa2', '1'],\n",
       "   ['6c04907129e2da1976db123b45576e20d8aab8f3', '4'],\n",
       "   ['483bcbd285304520fae20834cdbbaeb009fc87d2', '3'],\n",
       "   ['95fe8cd3c413945f9a3740a58b79356dbbf460e4', '1'],\n",
       "   ['36814c2bb55ad03962beff8b7b81706c54e4f1bf', '1'],\n",
       "   ['88b0d15023850b2192573aa04e81013045848a35', '1'],\n",
       "   ['55e35515a3fff274c50402738309ba0dad908387', '7'],\n",
       "   ['e35290b5943c564df745c6295fd8949b888bd970', '3'],\n",
       "   ['d01b890f6e6c3ca8866bc5fe0575326c47b31b85', '1'],\n",
       "   ['eaac170969a58f1f8c2a0cf28fc35e33e3247a4a', '1'],\n",
       "   ['821a2667f4364d6d266851b27c8f17c12e3353b5', '1'],\n",
       "   ['86327d1c64972ceca6a0ac9fe1446da93a8634a9', '2'],\n",
       "   ['0ea142cd566df7f5ba03ea1abdcfb2ff26c020b0', '3'],\n",
       "   ['53c4ae4efc26153ea42e43c29b6fe0a7cf73b67a', '1'],\n",
       "   ['06019c5db044e4e8a728046b1e5b203b1bae3910', '9'],\n",
       "   ['e7ce7d9c2d8a8fd848a12896599b51d5c060a107', '1'],\n",
       "   ['7811324696482ecdb3ed8475e4cf55f8869e231e', '1'],\n",
       "   ['18def8c26fb0df07c843ad9a4eb7986643625da0', '1'],\n",
       "   ['10e0f649197b67c50d5b93a9e8ff90dee502a2bd', '2'],\n",
       "   ['77aac2c55d2dae6e5a4a3519bc3a05bc5447c2a8', '1'],\n",
       "   ['11bcf5b6e6ae22b12b1778d2bc08e9aac4fefdb6', '1'],\n",
       "   ['0909337b195359f79fa950754f13b9d02f47bd56', '1'],\n",
       "   ['b4ebd6fa038c416f1aaa3aec80f44feaa2373694', '15'],\n",
       "   ['d8d907ba14215d4c88fd6346f6c8a2048bd62c5b', '1'],\n",
       "   ['186e043970a72fa12923e784746b29fee7736e3a', '11'],\n",
       "   ['fbdca57fbd2416b1893d8ed0f78754c379f9c223', '204'],\n",
       "   ['f082c0c51fcfda123a65ab3a3899c74cff0bdb12', '2'],\n",
       "   ['7110919ebf00e26d2d49600f1067d8cea60f0c9c', '1'],\n",
       "   ['d0e451e8c50c6c353c5d7319c189a2d8b84c2970', '1'],\n",
       "   ['091009565a2a9c2deb89045067e0dbda40ad33ab', '1'],\n",
       "   ['01f665f5337cfb16f3f8f3260660de86dcfa3043', '3'],\n",
       "   ['5c9d71894cb631141167b5ae70bc28b3f7e40d7d', '1'],\n",
       "   ['6e37248be4d873b02052b2df97cf7453d73bcc32', '8'],\n",
       "   ['9f11515c746d7c600113f8bbddcb88fb296bd39c', '1'],\n",
       "   ['0032dddb264b47d623c93833a18007a788102432', '2'],\n",
       "   ['d709c02dbd64b440c76bd9abb600c0171cd21b1d', '1'],\n",
       "   ['5744485f8c6c5d7fccc83a90cec6c47e1921432c', '1'],\n",
       "   ['b6c0cd2c97b041f488882380d260b79779b52c2a', '3'],\n",
       "   ['d7409cf99fc1ecd6be9f3afaa099e8e73c0e71fd', '6'],\n",
       "   ['e386aa6fe8138c2873e1d0c1b9a7e40861beb2fe', '2'],\n",
       "   ['d9cd69a9d36ed07453a471058068bdde103ac1b5', '1'],\n",
       "   ['a3f00c08fdd6a230fd4758f1455baab6f532b3ec', '2'],\n",
       "   ['8cb295f804bb492b3208d671328e80c97fe654dc', '2'],\n",
       "   ['aea40d0d1fdc29b675923171f6e8993a55c9b995', '1'],\n",
       "   ['20e58abd99f3ebdee04ef1af20980d4508459ceb', '2']]),\n",
       " (('SOUIROO12A8C139C18', 0.02),\n",
       "  [['841b2394ae3a9febbd6b06497b4a8ee8eb24b7f8', '1'],\n",
       "   ['da5087152cf392a1d86000da46c3fc23ba8a47ca', '1'],\n",
       "   ['cf55264eb1db22738b39a82f1a6d25ceb361b120', '2'],\n",
       "   ['005cc5d858319f13f88228f62341e5a4270f8e75', '1'],\n",
       "   ['0e0e50785ec1cec4b2ddea255477d267923ae5c6', '1'],\n",
       "   ['6673f91bc87afbc6811f1d695fa9272b27d5e142', '1'],\n",
       "   ['612d85781800f23f97996e6f5b1b8af966e8e6db', '1'],\n",
       "   ['4d5228524c1bbf4e007a4613175913f40cb78aac', '2'],\n",
       "   ['11b195b0e929d1551f37b0a98cedc9ab6281ab6a', '1'],\n",
       "   ['85c21876538e1cb72a7e32804ac85b85a9fdb48a', '2'],\n",
       "   ['75a88b993790e8efa6586844ea526e3341dd156f', '1'],\n",
       "   ['e842daa3a28c51b183104ff4242ac0fd9648adc1', '1'],\n",
       "   ['af0375d9b195e0cffd7e40e89a4028892ec03abd', '1'],\n",
       "   ['7f8fe88f203e6b1a8a2e4e7caa08f5f05721df30', '1'],\n",
       "   ['03951b065c51e6c4fbe292122f286d4632dde13d', '1'],\n",
       "   ['09a73ede14ae659209616cbda9c8475b953e321e', '29'],\n",
       "   ['e9dc61b7742d800505fd7c169f52db93e617aee8', '1'],\n",
       "   ['1e07e429bb8b387a070b6b14018e415b3da2aa78', '1'],\n",
       "   ['0ba04f29c3473e3666ca9b86d6b2e75d69c1ed24', '2'],\n",
       "   ['c86182eb32ea5c3864900801cc9494d8e0cfeef7', '1'],\n",
       "   ['34b7e982914af9e813146311fad1ab9cb77affdb', '1'],\n",
       "   ['4f348f374f9403890e9145cac82ebd30c7c455f0', '2'],\n",
       "   ['f627a494ce7dd2a85b81038b31c0c2c532361e3e', '3'],\n",
       "   ['f4908284f176771cb9bbcfe633f2d6509ed25dc7', '8'],\n",
       "   ['6ac8d94222561d3ea7b4a4da31dfb404fbaef97a', '1'],\n",
       "   ['451bfb19da8226113ac626c679f693fa0050d6ba', '1'],\n",
       "   ['6032c6dbd6ea195f1fb38b5618a88a34991eab46', '3']]),\n",
       " (('SOIWEDH12AF72AB132', 0.0),\n",
       "  [['91b8fac7dc5e03f6cfaf6e2aa7171f14a8354d62', '4'],\n",
       "   ['e5b2978d53e6a3268c0d04f791ea11a508140701', '1'],\n",
       "   ['29a9cf0e4693d401eb13033ef1ac5d1dbd3a9027', '4'],\n",
       "   ['d244a629a4ceb4b0da284241bb32fca0328f1d66', '1'],\n",
       "   ['320d3ae8e7989513aad9756deb5921488990358f', '1'],\n",
       "   ['0635afe2a5517344a9ea4e178a002ac5f8c56583', '1'],\n",
       "   ['1cc78dc186eb0fcf2c421aeba0d891f310976f63', '1']]),\n",
       " (('SOUGACV12A6D4F84E0', 0.01),\n",
       "  [['458833ce4418010e61304b34b2c992e1cce63435', '1'],\n",
       "   ['85e017146cec6975d71ff39d5ef254f8ada9a7de', '1'],\n",
       "   ['864c7d3f68bc4590114ebc54b7a1c3a9afce4084', '2'],\n",
       "   ['4055df6fa770924acfad645eeb48d5a79c74cada', '1'],\n",
       "   ['66cb78a34794fd010b897c15a217310cf97378f8', '1'],\n",
       "   ['76c650dd24fa4bdf15bc67b5a643abf233ad48da', '1'],\n",
       "   ['94c1e31ec96bfec1b2151a01b1a02dc80086458c', '1'],\n",
       "   ['83c163e4ffd981ff5152eedaab69060fb7ce97bf', '1'],\n",
       "   ['d351db2e73e26089ee771c110314ae8c8859e239', '1'],\n",
       "   ['75336ea96fdb13ebbfdbd666a7dac4ad07775c3f', '1'],\n",
       "   ['98a6ddd5ad89fa7778f67a4eecce6cd96ca3c1c6', '1'],\n",
       "   ['7de6fb8c1bcd2fe269ea84b856b75bec2165991a', '3'],\n",
       "   ['83af64e50a1c4430114723d3cfc8297ea83ce5b6', '1'],\n",
       "   ['b6513e3d122d3a181fc334ae2fdada5c8e4f1d7e', '1'],\n",
       "   ['d9c0f152c6191256d6c0fe86c5e5e2d55f05d443', '1'],\n",
       "   ['21b84b4f985de29104eb365f994c3a126ef08af1', '1']])]"
      ]
     },
     "execution_count": 116,
     "metadata": {},
     "output_type": "execute_result"
    }
   ],
   "source": [
    "combined_rated_triplets.take(5)"
   ]
  },
  {
   "cell_type": "code",
   "execution_count": 118,
   "metadata": {},
   "outputs": [
    {
     "name": "stdout",
     "output_type": "stream",
     "text": [
      "Enter user ID: 864c7d3f68bc4590114ebc54b7a1c3a9afce4084\n",
      "Enter minimum rating: 6\n"
     ]
    }
   ],
   "source": [
    "user_id=input(\"Enter user ID: \")\n",
    "minrating=input(\"Enter minimum rating: \")\n",
    "\n"
   ]
  },
  {
   "cell_type": "code",
   "execution_count": 37,
   "metadata": {},
   "outputs": [],
   "source": [
    "givenuser_songs = triplet_rdd.filter(songFilter)"
   ]
  },
  {
   "cell_type": "code",
   "execution_count": 41,
   "metadata": {},
   "outputs": [],
   "source": [
    "u_songnames = givenuser_songs.map(lambda x: x[1])"
   ]
  },
  {
   "cell_type": "code",
   "execution_count": null,
   "metadata": {},
   "outputs": [],
   "source": [
    "def findUsersFromSong(row):\n",
    "    if row[1]=="
   ]
  },
  {
   "cell_type": "code",
   "execution_count": 40,
   "metadata": {},
   "outputs": [
    {
     "name": "stderr",
     "output_type": "stream",
     "text": [
      "Traceback (most recent call last):\n",
      "  File \"/Users/subhayuchakravarty/anaconda3/lib/python3.7/site-packages/pyspark/serializers.py\", line 590, in dumps\n",
      "    return cloudpickle.dumps(obj, 2)\n",
      "  File \"/Users/subhayuchakravarty/anaconda3/lib/python3.7/site-packages/pyspark/cloudpickle.py\", line 863, in dumps\n",
      "    cp.dump(obj)\n",
      "  File \"/Users/subhayuchakravarty/anaconda3/lib/python3.7/site-packages/pyspark/cloudpickle.py\", line 260, in dump\n",
      "    return Pickler.dump(self, obj)\n",
      "  File \"/Users/subhayuchakravarty/anaconda3/lib/python3.7/pickle.py\", line 437, in dump\n",
      "    self.save(obj)\n",
      "  File \"/Users/subhayuchakravarty/anaconda3/lib/python3.7/pickle.py\", line 504, in save\n",
      "    f(self, obj) # Call unbound method with explicit self\n",
      "  File \"/Users/subhayuchakravarty/anaconda3/lib/python3.7/pickle.py\", line 786, in save_tuple\n",
      "    save(element)\n",
      "  File \"/Users/subhayuchakravarty/anaconda3/lib/python3.7/pickle.py\", line 504, in save\n",
      "    f(self, obj) # Call unbound method with explicit self\n",
      "  File \"/Users/subhayuchakravarty/anaconda3/lib/python3.7/site-packages/pyspark/cloudpickle.py\", line 406, in save_function\n",
      "    self.save_function_tuple(obj)\n",
      "  File \"/Users/subhayuchakravarty/anaconda3/lib/python3.7/site-packages/pyspark/cloudpickle.py\", line 549, in save_function_tuple\n",
      "    save(state)\n",
      "  File \"/Users/subhayuchakravarty/anaconda3/lib/python3.7/pickle.py\", line 504, in save\n",
      "    f(self, obj) # Call unbound method with explicit self\n",
      "  File \"/Users/subhayuchakravarty/anaconda3/lib/python3.7/pickle.py\", line 856, in save_dict\n",
      "    self._batch_setitems(obj.items())\n",
      "  File \"/Users/subhayuchakravarty/anaconda3/lib/python3.7/pickle.py\", line 882, in _batch_setitems\n",
      "    save(v)\n",
      "  File \"/Users/subhayuchakravarty/anaconda3/lib/python3.7/pickle.py\", line 504, in save\n",
      "    f(self, obj) # Call unbound method with explicit self\n",
      "  File \"/Users/subhayuchakravarty/anaconda3/lib/python3.7/pickle.py\", line 816, in save_list\n",
      "    self._batch_appends(obj)\n",
      "  File \"/Users/subhayuchakravarty/anaconda3/lib/python3.7/pickle.py\", line 840, in _batch_appends\n",
      "    save(x)\n",
      "  File \"/Users/subhayuchakravarty/anaconda3/lib/python3.7/pickle.py\", line 504, in save\n",
      "    f(self, obj) # Call unbound method with explicit self\n",
      "  File \"/Users/subhayuchakravarty/anaconda3/lib/python3.7/site-packages/pyspark/cloudpickle.py\", line 406, in save_function\n",
      "    self.save_function_tuple(obj)\n",
      "  File \"/Users/subhayuchakravarty/anaconda3/lib/python3.7/site-packages/pyspark/cloudpickle.py\", line 549, in save_function_tuple\n",
      "    save(state)\n",
      "  File \"/Users/subhayuchakravarty/anaconda3/lib/python3.7/pickle.py\", line 504, in save\n",
      "    f(self, obj) # Call unbound method with explicit self\n",
      "  File \"/Users/subhayuchakravarty/anaconda3/lib/python3.7/pickle.py\", line 856, in save_dict\n",
      "    self._batch_setitems(obj.items())\n",
      "  File \"/Users/subhayuchakravarty/anaconda3/lib/python3.7/pickle.py\", line 882, in _batch_setitems\n",
      "    save(v)\n",
      "  File \"/Users/subhayuchakravarty/anaconda3/lib/python3.7/pickle.py\", line 504, in save\n",
      "    f(self, obj) # Call unbound method with explicit self\n",
      "  File \"/Users/subhayuchakravarty/anaconda3/lib/python3.7/pickle.py\", line 816, in save_list\n",
      "    self._batch_appends(obj)\n",
      "  File \"/Users/subhayuchakravarty/anaconda3/lib/python3.7/pickle.py\", line 843, in _batch_appends\n",
      "    save(tmp[0])\n",
      "  File \"/Users/subhayuchakravarty/anaconda3/lib/python3.7/pickle.py\", line 504, in save\n",
      "    f(self, obj) # Call unbound method with explicit self\n",
      "  File \"/Users/subhayuchakravarty/anaconda3/lib/python3.7/site-packages/pyspark/cloudpickle.py\", line 406, in save_function\n",
      "    self.save_function_tuple(obj)\n",
      "  File \"/Users/subhayuchakravarty/anaconda3/lib/python3.7/site-packages/pyspark/cloudpickle.py\", line 549, in save_function_tuple\n",
      "    save(state)\n",
      "  File \"/Users/subhayuchakravarty/anaconda3/lib/python3.7/pickle.py\", line 504, in save\n",
      "    f(self, obj) # Call unbound method with explicit self\n",
      "  File \"/Users/subhayuchakravarty/anaconda3/lib/python3.7/pickle.py\", line 856, in save_dict\n",
      "    self._batch_setitems(obj.items())\n",
      "  File \"/Users/subhayuchakravarty/anaconda3/lib/python3.7/pickle.py\", line 882, in _batch_setitems\n",
      "    save(v)\n",
      "  File \"/Users/subhayuchakravarty/anaconda3/lib/python3.7/pickle.py\", line 504, in save\n",
      "    f(self, obj) # Call unbound method with explicit self\n",
      "  File \"/Users/subhayuchakravarty/anaconda3/lib/python3.7/pickle.py\", line 816, in save_list\n",
      "    self._batch_appends(obj)\n",
      "  File \"/Users/subhayuchakravarty/anaconda3/lib/python3.7/pickle.py\", line 843, in _batch_appends\n",
      "    save(tmp[0])\n",
      "  File \"/Users/subhayuchakravarty/anaconda3/lib/python3.7/pickle.py\", line 504, in save\n",
      "    f(self, obj) # Call unbound method with explicit self\n",
      "  File \"/Users/subhayuchakravarty/anaconda3/lib/python3.7/site-packages/pyspark/cloudpickle.py\", line 400, in save_function\n",
      "    self.save_function_tuple(obj)\n",
      "  File \"/Users/subhayuchakravarty/anaconda3/lib/python3.7/site-packages/pyspark/cloudpickle.py\", line 549, in save_function_tuple\n",
      "    save(state)\n",
      "  File \"/Users/subhayuchakravarty/anaconda3/lib/python3.7/pickle.py\", line 504, in save\n",
      "    f(self, obj) # Call unbound method with explicit self\n",
      "  File \"/Users/subhayuchakravarty/anaconda3/lib/python3.7/pickle.py\", line 856, in save_dict\n",
      "    self._batch_setitems(obj.items())\n",
      "  File \"/Users/subhayuchakravarty/anaconda3/lib/python3.7/pickle.py\", line 882, in _batch_setitems\n",
      "    save(v)\n",
      "  File \"/Users/subhayuchakravarty/anaconda3/lib/python3.7/pickle.py\", line 504, in save\n",
      "    f(self, obj) # Call unbound method with explicit self\n",
      "  File \"/Users/subhayuchakravarty/anaconda3/lib/python3.7/pickle.py\", line 856, in save_dict\n",
      "    self._batch_setitems(obj.items())\n",
      "  File \"/Users/subhayuchakravarty/anaconda3/lib/python3.7/pickle.py\", line 887, in _batch_setitems\n",
      "    save(v)\n",
      "  File \"/Users/subhayuchakravarty/anaconda3/lib/python3.7/pickle.py\", line 524, in save\n",
      "    rv = reduce(self.proto)\n",
      "  File \"/Users/subhayuchakravarty/anaconda3/lib/python3.7/site-packages/pyspark/rdd.py\", line 210, in __getnewargs__\n",
      "    \"It appears that you are attempting to broadcast an RDD or reference an RDD from an \"\n",
      "Exception: It appears that you are attempting to broadcast an RDD or reference an RDD from an action or transformation. RDD transformations and actions can only be invoked by the driver, not inside of other transformations; for example, rdd1.map(lambda x: rdd2.values.count() * x) is invalid because the values transformation and count action cannot be performed inside of the rdd1.map transformation. For more information, see SPARK-5063.\n"
     ]
    },
    {
     "ename": "PicklingError",
     "evalue": "Could not serialize object: Exception: It appears that you are attempting to broadcast an RDD or reference an RDD from an action or transformation. RDD transformations and actions can only be invoked by the driver, not inside of other transformations; for example, rdd1.map(lambda x: rdd2.values.count() * x) is invalid because the values transformation and count action cannot be performed inside of the rdd1.map transformation. For more information, see SPARK-5063.",
     "output_type": "error",
     "traceback": [
      "\u001b[0;31m---------------------------------------------------------------------------\u001b[0m",
      "\u001b[0;31mException\u001b[0m                                 Traceback (most recent call last)",
      "\u001b[0;32m~/anaconda3/lib/python3.7/site-packages/pyspark/serializers.py\u001b[0m in \u001b[0;36mdumps\u001b[0;34m(self, obj)\u001b[0m\n\u001b[1;32m    589\u001b[0m         \u001b[0;32mtry\u001b[0m\u001b[0;34m:\u001b[0m\u001b[0;34m\u001b[0m\u001b[0;34m\u001b[0m\u001b[0m\n\u001b[0;32m--> 590\u001b[0;31m             \u001b[0;32mreturn\u001b[0m \u001b[0mcloudpickle\u001b[0m\u001b[0;34m.\u001b[0m\u001b[0mdumps\u001b[0m\u001b[0;34m(\u001b[0m\u001b[0mobj\u001b[0m\u001b[0;34m,\u001b[0m \u001b[0;36m2\u001b[0m\u001b[0;34m)\u001b[0m\u001b[0;34m\u001b[0m\u001b[0;34m\u001b[0m\u001b[0m\n\u001b[0m\u001b[1;32m    591\u001b[0m         \u001b[0;32mexcept\u001b[0m \u001b[0mpickle\u001b[0m\u001b[0;34m.\u001b[0m\u001b[0mPickleError\u001b[0m\u001b[0;34m:\u001b[0m\u001b[0;34m\u001b[0m\u001b[0;34m\u001b[0m\u001b[0m\n",
      "\u001b[0;32m~/anaconda3/lib/python3.7/site-packages/pyspark/cloudpickle.py\u001b[0m in \u001b[0;36mdumps\u001b[0;34m(obj, protocol)\u001b[0m\n\u001b[1;32m    862\u001b[0m         \u001b[0mcp\u001b[0m \u001b[0;34m=\u001b[0m \u001b[0mCloudPickler\u001b[0m\u001b[0;34m(\u001b[0m\u001b[0mfile\u001b[0m\u001b[0;34m,\u001b[0m\u001b[0mprotocol\u001b[0m\u001b[0;34m)\u001b[0m\u001b[0;34m\u001b[0m\u001b[0;34m\u001b[0m\u001b[0m\n\u001b[0;32m--> 863\u001b[0;31m         \u001b[0mcp\u001b[0m\u001b[0;34m.\u001b[0m\u001b[0mdump\u001b[0m\u001b[0;34m(\u001b[0m\u001b[0mobj\u001b[0m\u001b[0;34m)\u001b[0m\u001b[0;34m\u001b[0m\u001b[0;34m\u001b[0m\u001b[0m\n\u001b[0m\u001b[1;32m    864\u001b[0m         \u001b[0;32mreturn\u001b[0m \u001b[0mfile\u001b[0m\u001b[0;34m.\u001b[0m\u001b[0mgetvalue\u001b[0m\u001b[0;34m(\u001b[0m\u001b[0;34m)\u001b[0m\u001b[0;34m\u001b[0m\u001b[0;34m\u001b[0m\u001b[0m\n",
      "\u001b[0;32m~/anaconda3/lib/python3.7/site-packages/pyspark/cloudpickle.py\u001b[0m in \u001b[0;36mdump\u001b[0;34m(self, obj)\u001b[0m\n\u001b[1;32m    259\u001b[0m         \u001b[0;32mtry\u001b[0m\u001b[0;34m:\u001b[0m\u001b[0;34m\u001b[0m\u001b[0;34m\u001b[0m\u001b[0m\n\u001b[0;32m--> 260\u001b[0;31m             \u001b[0;32mreturn\u001b[0m \u001b[0mPickler\u001b[0m\u001b[0;34m.\u001b[0m\u001b[0mdump\u001b[0m\u001b[0;34m(\u001b[0m\u001b[0mself\u001b[0m\u001b[0;34m,\u001b[0m \u001b[0mobj\u001b[0m\u001b[0;34m)\u001b[0m\u001b[0;34m\u001b[0m\u001b[0;34m\u001b[0m\u001b[0m\n\u001b[0m\u001b[1;32m    261\u001b[0m         \u001b[0;32mexcept\u001b[0m \u001b[0mRuntimeError\u001b[0m \u001b[0;32mas\u001b[0m \u001b[0me\u001b[0m\u001b[0;34m:\u001b[0m\u001b[0;34m\u001b[0m\u001b[0;34m\u001b[0m\u001b[0m\n",
      "\u001b[0;32m~/anaconda3/lib/python3.7/pickle.py\u001b[0m in \u001b[0;36mdump\u001b[0;34m(self, obj)\u001b[0m\n\u001b[1;32m    436\u001b[0m             \u001b[0mself\u001b[0m\u001b[0;34m.\u001b[0m\u001b[0mframer\u001b[0m\u001b[0;34m.\u001b[0m\u001b[0mstart_framing\u001b[0m\u001b[0;34m(\u001b[0m\u001b[0;34m)\u001b[0m\u001b[0;34m\u001b[0m\u001b[0;34m\u001b[0m\u001b[0m\n\u001b[0;32m--> 437\u001b[0;31m         \u001b[0mself\u001b[0m\u001b[0;34m.\u001b[0m\u001b[0msave\u001b[0m\u001b[0;34m(\u001b[0m\u001b[0mobj\u001b[0m\u001b[0;34m)\u001b[0m\u001b[0;34m\u001b[0m\u001b[0;34m\u001b[0m\u001b[0m\n\u001b[0m\u001b[1;32m    438\u001b[0m         \u001b[0mself\u001b[0m\u001b[0;34m.\u001b[0m\u001b[0mwrite\u001b[0m\u001b[0;34m(\u001b[0m\u001b[0mSTOP\u001b[0m\u001b[0;34m)\u001b[0m\u001b[0;34m\u001b[0m\u001b[0;34m\u001b[0m\u001b[0m\n",
      "\u001b[0;32m~/anaconda3/lib/python3.7/pickle.py\u001b[0m in \u001b[0;36msave\u001b[0;34m(self, obj, save_persistent_id)\u001b[0m\n\u001b[1;32m    503\u001b[0m         \u001b[0;32mif\u001b[0m \u001b[0mf\u001b[0m \u001b[0;32mis\u001b[0m \u001b[0;32mnot\u001b[0m \u001b[0;32mNone\u001b[0m\u001b[0;34m:\u001b[0m\u001b[0;34m\u001b[0m\u001b[0;34m\u001b[0m\u001b[0m\n\u001b[0;32m--> 504\u001b[0;31m             \u001b[0mf\u001b[0m\u001b[0;34m(\u001b[0m\u001b[0mself\u001b[0m\u001b[0;34m,\u001b[0m \u001b[0mobj\u001b[0m\u001b[0;34m)\u001b[0m \u001b[0;31m# Call unbound method with explicit self\u001b[0m\u001b[0;34m\u001b[0m\u001b[0;34m\u001b[0m\u001b[0m\n\u001b[0m\u001b[1;32m    505\u001b[0m             \u001b[0;32mreturn\u001b[0m\u001b[0;34m\u001b[0m\u001b[0;34m\u001b[0m\u001b[0m\n",
      "\u001b[0;32m~/anaconda3/lib/python3.7/pickle.py\u001b[0m in \u001b[0;36msave_tuple\u001b[0;34m(self, obj)\u001b[0m\n\u001b[1;32m    785\u001b[0m         \u001b[0;32mfor\u001b[0m \u001b[0melement\u001b[0m \u001b[0;32min\u001b[0m \u001b[0mobj\u001b[0m\u001b[0;34m:\u001b[0m\u001b[0;34m\u001b[0m\u001b[0;34m\u001b[0m\u001b[0m\n\u001b[0;32m--> 786\u001b[0;31m             \u001b[0msave\u001b[0m\u001b[0;34m(\u001b[0m\u001b[0melement\u001b[0m\u001b[0;34m)\u001b[0m\u001b[0;34m\u001b[0m\u001b[0;34m\u001b[0m\u001b[0m\n\u001b[0m\u001b[1;32m    787\u001b[0m \u001b[0;34m\u001b[0m\u001b[0m\n",
      "\u001b[0;32m~/anaconda3/lib/python3.7/pickle.py\u001b[0m in \u001b[0;36msave\u001b[0;34m(self, obj, save_persistent_id)\u001b[0m\n\u001b[1;32m    503\u001b[0m         \u001b[0;32mif\u001b[0m \u001b[0mf\u001b[0m \u001b[0;32mis\u001b[0m \u001b[0;32mnot\u001b[0m \u001b[0;32mNone\u001b[0m\u001b[0;34m:\u001b[0m\u001b[0;34m\u001b[0m\u001b[0;34m\u001b[0m\u001b[0m\n\u001b[0;32m--> 504\u001b[0;31m             \u001b[0mf\u001b[0m\u001b[0;34m(\u001b[0m\u001b[0mself\u001b[0m\u001b[0;34m,\u001b[0m \u001b[0mobj\u001b[0m\u001b[0;34m)\u001b[0m \u001b[0;31m# Call unbound method with explicit self\u001b[0m\u001b[0;34m\u001b[0m\u001b[0;34m\u001b[0m\u001b[0m\n\u001b[0m\u001b[1;32m    505\u001b[0m             \u001b[0;32mreturn\u001b[0m\u001b[0;34m\u001b[0m\u001b[0;34m\u001b[0m\u001b[0m\n",
      "\u001b[0;32m~/anaconda3/lib/python3.7/site-packages/pyspark/cloudpickle.py\u001b[0m in \u001b[0;36msave_function\u001b[0;34m(self, obj, name)\u001b[0m\n\u001b[1;32m    405\u001b[0m             \u001b[0;32mif\u001b[0m \u001b[0mklass\u001b[0m \u001b[0;32mis\u001b[0m \u001b[0;32mNone\u001b[0m \u001b[0;32mor\u001b[0m \u001b[0mklass\u001b[0m \u001b[0;32mis\u001b[0m \u001b[0;32mnot\u001b[0m \u001b[0mobj\u001b[0m\u001b[0;34m:\u001b[0m\u001b[0;34m\u001b[0m\u001b[0;34m\u001b[0m\u001b[0m\n\u001b[0;32m--> 406\u001b[0;31m                 \u001b[0mself\u001b[0m\u001b[0;34m.\u001b[0m\u001b[0msave_function_tuple\u001b[0m\u001b[0;34m(\u001b[0m\u001b[0mobj\u001b[0m\u001b[0;34m)\u001b[0m\u001b[0;34m\u001b[0m\u001b[0;34m\u001b[0m\u001b[0m\n\u001b[0m\u001b[1;32m    407\u001b[0m                 \u001b[0;32mreturn\u001b[0m\u001b[0;34m\u001b[0m\u001b[0;34m\u001b[0m\u001b[0m\n",
      "\u001b[0;32m~/anaconda3/lib/python3.7/site-packages/pyspark/cloudpickle.py\u001b[0m in \u001b[0;36msave_function_tuple\u001b[0;34m(self, func)\u001b[0m\n\u001b[1;32m    548\u001b[0m             \u001b[0mstate\u001b[0m\u001b[0;34m[\u001b[0m\u001b[0;34m'qualname'\u001b[0m\u001b[0;34m]\u001b[0m \u001b[0;34m=\u001b[0m \u001b[0mfunc\u001b[0m\u001b[0;34m.\u001b[0m\u001b[0m__qualname__\u001b[0m\u001b[0;34m\u001b[0m\u001b[0;34m\u001b[0m\u001b[0m\n\u001b[0;32m--> 549\u001b[0;31m         \u001b[0msave\u001b[0m\u001b[0;34m(\u001b[0m\u001b[0mstate\u001b[0m\u001b[0;34m)\u001b[0m\u001b[0;34m\u001b[0m\u001b[0;34m\u001b[0m\u001b[0m\n\u001b[0m\u001b[1;32m    550\u001b[0m         \u001b[0mwrite\u001b[0m\u001b[0;34m(\u001b[0m\u001b[0mpickle\u001b[0m\u001b[0;34m.\u001b[0m\u001b[0mTUPLE\u001b[0m\u001b[0;34m)\u001b[0m\u001b[0;34m\u001b[0m\u001b[0;34m\u001b[0m\u001b[0m\n",
      "\u001b[0;32m~/anaconda3/lib/python3.7/pickle.py\u001b[0m in \u001b[0;36msave\u001b[0;34m(self, obj, save_persistent_id)\u001b[0m\n\u001b[1;32m    503\u001b[0m         \u001b[0;32mif\u001b[0m \u001b[0mf\u001b[0m \u001b[0;32mis\u001b[0m \u001b[0;32mnot\u001b[0m \u001b[0;32mNone\u001b[0m\u001b[0;34m:\u001b[0m\u001b[0;34m\u001b[0m\u001b[0;34m\u001b[0m\u001b[0m\n\u001b[0;32m--> 504\u001b[0;31m             \u001b[0mf\u001b[0m\u001b[0;34m(\u001b[0m\u001b[0mself\u001b[0m\u001b[0;34m,\u001b[0m \u001b[0mobj\u001b[0m\u001b[0;34m)\u001b[0m \u001b[0;31m# Call unbound method with explicit self\u001b[0m\u001b[0;34m\u001b[0m\u001b[0;34m\u001b[0m\u001b[0m\n\u001b[0m\u001b[1;32m    505\u001b[0m             \u001b[0;32mreturn\u001b[0m\u001b[0;34m\u001b[0m\u001b[0;34m\u001b[0m\u001b[0m\n",
      "\u001b[0;32m~/anaconda3/lib/python3.7/pickle.py\u001b[0m in \u001b[0;36msave_dict\u001b[0;34m(self, obj)\u001b[0m\n\u001b[1;32m    855\u001b[0m         \u001b[0mself\u001b[0m\u001b[0;34m.\u001b[0m\u001b[0mmemoize\u001b[0m\u001b[0;34m(\u001b[0m\u001b[0mobj\u001b[0m\u001b[0;34m)\u001b[0m\u001b[0;34m\u001b[0m\u001b[0;34m\u001b[0m\u001b[0m\n\u001b[0;32m--> 856\u001b[0;31m         \u001b[0mself\u001b[0m\u001b[0;34m.\u001b[0m\u001b[0m_batch_setitems\u001b[0m\u001b[0;34m(\u001b[0m\u001b[0mobj\u001b[0m\u001b[0;34m.\u001b[0m\u001b[0mitems\u001b[0m\u001b[0;34m(\u001b[0m\u001b[0;34m)\u001b[0m\u001b[0;34m)\u001b[0m\u001b[0;34m\u001b[0m\u001b[0;34m\u001b[0m\u001b[0m\n\u001b[0m\u001b[1;32m    857\u001b[0m \u001b[0;34m\u001b[0m\u001b[0m\n",
      "\u001b[0;32m~/anaconda3/lib/python3.7/pickle.py\u001b[0m in \u001b[0;36m_batch_setitems\u001b[0;34m(self, items)\u001b[0m\n\u001b[1;32m    881\u001b[0m                     \u001b[0msave\u001b[0m\u001b[0;34m(\u001b[0m\u001b[0mk\u001b[0m\u001b[0;34m)\u001b[0m\u001b[0;34m\u001b[0m\u001b[0;34m\u001b[0m\u001b[0m\n\u001b[0;32m--> 882\u001b[0;31m                     \u001b[0msave\u001b[0m\u001b[0;34m(\u001b[0m\u001b[0mv\u001b[0m\u001b[0;34m)\u001b[0m\u001b[0;34m\u001b[0m\u001b[0;34m\u001b[0m\u001b[0m\n\u001b[0m\u001b[1;32m    883\u001b[0m                 \u001b[0mwrite\u001b[0m\u001b[0;34m(\u001b[0m\u001b[0mSETITEMS\u001b[0m\u001b[0;34m)\u001b[0m\u001b[0;34m\u001b[0m\u001b[0;34m\u001b[0m\u001b[0m\n",
      "\u001b[0;32m~/anaconda3/lib/python3.7/pickle.py\u001b[0m in \u001b[0;36msave\u001b[0;34m(self, obj, save_persistent_id)\u001b[0m\n\u001b[1;32m    503\u001b[0m         \u001b[0;32mif\u001b[0m \u001b[0mf\u001b[0m \u001b[0;32mis\u001b[0m \u001b[0;32mnot\u001b[0m \u001b[0;32mNone\u001b[0m\u001b[0;34m:\u001b[0m\u001b[0;34m\u001b[0m\u001b[0;34m\u001b[0m\u001b[0m\n\u001b[0;32m--> 504\u001b[0;31m             \u001b[0mf\u001b[0m\u001b[0;34m(\u001b[0m\u001b[0mself\u001b[0m\u001b[0;34m,\u001b[0m \u001b[0mobj\u001b[0m\u001b[0;34m)\u001b[0m \u001b[0;31m# Call unbound method with explicit self\u001b[0m\u001b[0;34m\u001b[0m\u001b[0;34m\u001b[0m\u001b[0m\n\u001b[0m\u001b[1;32m    505\u001b[0m             \u001b[0;32mreturn\u001b[0m\u001b[0;34m\u001b[0m\u001b[0;34m\u001b[0m\u001b[0m\n",
      "\u001b[0;32m~/anaconda3/lib/python3.7/pickle.py\u001b[0m in \u001b[0;36msave_list\u001b[0;34m(self, obj)\u001b[0m\n\u001b[1;32m    815\u001b[0m         \u001b[0mself\u001b[0m\u001b[0;34m.\u001b[0m\u001b[0mmemoize\u001b[0m\u001b[0;34m(\u001b[0m\u001b[0mobj\u001b[0m\u001b[0;34m)\u001b[0m\u001b[0;34m\u001b[0m\u001b[0;34m\u001b[0m\u001b[0m\n\u001b[0;32m--> 816\u001b[0;31m         \u001b[0mself\u001b[0m\u001b[0;34m.\u001b[0m\u001b[0m_batch_appends\u001b[0m\u001b[0;34m(\u001b[0m\u001b[0mobj\u001b[0m\u001b[0;34m)\u001b[0m\u001b[0;34m\u001b[0m\u001b[0;34m\u001b[0m\u001b[0m\n\u001b[0m\u001b[1;32m    817\u001b[0m \u001b[0;34m\u001b[0m\u001b[0m\n",
      "\u001b[0;32m~/anaconda3/lib/python3.7/pickle.py\u001b[0m in \u001b[0;36m_batch_appends\u001b[0;34m(self, items)\u001b[0m\n\u001b[1;32m    839\u001b[0m                 \u001b[0;32mfor\u001b[0m \u001b[0mx\u001b[0m \u001b[0;32min\u001b[0m \u001b[0mtmp\u001b[0m\u001b[0;34m:\u001b[0m\u001b[0;34m\u001b[0m\u001b[0;34m\u001b[0m\u001b[0m\n\u001b[0;32m--> 840\u001b[0;31m                     \u001b[0msave\u001b[0m\u001b[0;34m(\u001b[0m\u001b[0mx\u001b[0m\u001b[0;34m)\u001b[0m\u001b[0;34m\u001b[0m\u001b[0;34m\u001b[0m\u001b[0m\n\u001b[0m\u001b[1;32m    841\u001b[0m                 \u001b[0mwrite\u001b[0m\u001b[0;34m(\u001b[0m\u001b[0mAPPENDS\u001b[0m\u001b[0;34m)\u001b[0m\u001b[0;34m\u001b[0m\u001b[0;34m\u001b[0m\u001b[0m\n",
      "\u001b[0;32m~/anaconda3/lib/python3.7/pickle.py\u001b[0m in \u001b[0;36msave\u001b[0;34m(self, obj, save_persistent_id)\u001b[0m\n\u001b[1;32m    503\u001b[0m         \u001b[0;32mif\u001b[0m \u001b[0mf\u001b[0m \u001b[0;32mis\u001b[0m \u001b[0;32mnot\u001b[0m \u001b[0;32mNone\u001b[0m\u001b[0;34m:\u001b[0m\u001b[0;34m\u001b[0m\u001b[0;34m\u001b[0m\u001b[0m\n\u001b[0;32m--> 504\u001b[0;31m             \u001b[0mf\u001b[0m\u001b[0;34m(\u001b[0m\u001b[0mself\u001b[0m\u001b[0;34m,\u001b[0m \u001b[0mobj\u001b[0m\u001b[0;34m)\u001b[0m \u001b[0;31m# Call unbound method with explicit self\u001b[0m\u001b[0;34m\u001b[0m\u001b[0;34m\u001b[0m\u001b[0m\n\u001b[0m\u001b[1;32m    505\u001b[0m             \u001b[0;32mreturn\u001b[0m\u001b[0;34m\u001b[0m\u001b[0;34m\u001b[0m\u001b[0m\n",
      "\u001b[0;32m~/anaconda3/lib/python3.7/site-packages/pyspark/cloudpickle.py\u001b[0m in \u001b[0;36msave_function\u001b[0;34m(self, obj, name)\u001b[0m\n\u001b[1;32m    405\u001b[0m             \u001b[0;32mif\u001b[0m \u001b[0mklass\u001b[0m \u001b[0;32mis\u001b[0m \u001b[0;32mNone\u001b[0m \u001b[0;32mor\u001b[0m \u001b[0mklass\u001b[0m \u001b[0;32mis\u001b[0m \u001b[0;32mnot\u001b[0m \u001b[0mobj\u001b[0m\u001b[0;34m:\u001b[0m\u001b[0;34m\u001b[0m\u001b[0;34m\u001b[0m\u001b[0m\n\u001b[0;32m--> 406\u001b[0;31m                 \u001b[0mself\u001b[0m\u001b[0;34m.\u001b[0m\u001b[0msave_function_tuple\u001b[0m\u001b[0;34m(\u001b[0m\u001b[0mobj\u001b[0m\u001b[0;34m)\u001b[0m\u001b[0;34m\u001b[0m\u001b[0;34m\u001b[0m\u001b[0m\n\u001b[0m\u001b[1;32m    407\u001b[0m                 \u001b[0;32mreturn\u001b[0m\u001b[0;34m\u001b[0m\u001b[0;34m\u001b[0m\u001b[0m\n",
      "\u001b[0;32m~/anaconda3/lib/python3.7/site-packages/pyspark/cloudpickle.py\u001b[0m in \u001b[0;36msave_function_tuple\u001b[0;34m(self, func)\u001b[0m\n\u001b[1;32m    548\u001b[0m             \u001b[0mstate\u001b[0m\u001b[0;34m[\u001b[0m\u001b[0;34m'qualname'\u001b[0m\u001b[0;34m]\u001b[0m \u001b[0;34m=\u001b[0m \u001b[0mfunc\u001b[0m\u001b[0;34m.\u001b[0m\u001b[0m__qualname__\u001b[0m\u001b[0;34m\u001b[0m\u001b[0;34m\u001b[0m\u001b[0m\n\u001b[0;32m--> 549\u001b[0;31m         \u001b[0msave\u001b[0m\u001b[0;34m(\u001b[0m\u001b[0mstate\u001b[0m\u001b[0;34m)\u001b[0m\u001b[0;34m\u001b[0m\u001b[0;34m\u001b[0m\u001b[0m\n\u001b[0m\u001b[1;32m    550\u001b[0m         \u001b[0mwrite\u001b[0m\u001b[0;34m(\u001b[0m\u001b[0mpickle\u001b[0m\u001b[0;34m.\u001b[0m\u001b[0mTUPLE\u001b[0m\u001b[0;34m)\u001b[0m\u001b[0;34m\u001b[0m\u001b[0;34m\u001b[0m\u001b[0m\n",
      "\u001b[0;32m~/anaconda3/lib/python3.7/pickle.py\u001b[0m in \u001b[0;36msave\u001b[0;34m(self, obj, save_persistent_id)\u001b[0m\n\u001b[1;32m    503\u001b[0m         \u001b[0;32mif\u001b[0m \u001b[0mf\u001b[0m \u001b[0;32mis\u001b[0m \u001b[0;32mnot\u001b[0m \u001b[0;32mNone\u001b[0m\u001b[0;34m:\u001b[0m\u001b[0;34m\u001b[0m\u001b[0;34m\u001b[0m\u001b[0m\n\u001b[0;32m--> 504\u001b[0;31m             \u001b[0mf\u001b[0m\u001b[0;34m(\u001b[0m\u001b[0mself\u001b[0m\u001b[0;34m,\u001b[0m \u001b[0mobj\u001b[0m\u001b[0;34m)\u001b[0m \u001b[0;31m# Call unbound method with explicit self\u001b[0m\u001b[0;34m\u001b[0m\u001b[0;34m\u001b[0m\u001b[0m\n\u001b[0m\u001b[1;32m    505\u001b[0m             \u001b[0;32mreturn\u001b[0m\u001b[0;34m\u001b[0m\u001b[0;34m\u001b[0m\u001b[0m\n",
      "\u001b[0;32m~/anaconda3/lib/python3.7/pickle.py\u001b[0m in \u001b[0;36msave_dict\u001b[0;34m(self, obj)\u001b[0m\n\u001b[1;32m    855\u001b[0m         \u001b[0mself\u001b[0m\u001b[0;34m.\u001b[0m\u001b[0mmemoize\u001b[0m\u001b[0;34m(\u001b[0m\u001b[0mobj\u001b[0m\u001b[0;34m)\u001b[0m\u001b[0;34m\u001b[0m\u001b[0;34m\u001b[0m\u001b[0m\n\u001b[0;32m--> 856\u001b[0;31m         \u001b[0mself\u001b[0m\u001b[0;34m.\u001b[0m\u001b[0m_batch_setitems\u001b[0m\u001b[0;34m(\u001b[0m\u001b[0mobj\u001b[0m\u001b[0;34m.\u001b[0m\u001b[0mitems\u001b[0m\u001b[0;34m(\u001b[0m\u001b[0;34m)\u001b[0m\u001b[0;34m)\u001b[0m\u001b[0;34m\u001b[0m\u001b[0;34m\u001b[0m\u001b[0m\n\u001b[0m\u001b[1;32m    857\u001b[0m \u001b[0;34m\u001b[0m\u001b[0m\n",
      "\u001b[0;32m~/anaconda3/lib/python3.7/pickle.py\u001b[0m in \u001b[0;36m_batch_setitems\u001b[0;34m(self, items)\u001b[0m\n\u001b[1;32m    881\u001b[0m                     \u001b[0msave\u001b[0m\u001b[0;34m(\u001b[0m\u001b[0mk\u001b[0m\u001b[0;34m)\u001b[0m\u001b[0;34m\u001b[0m\u001b[0;34m\u001b[0m\u001b[0m\n\u001b[0;32m--> 882\u001b[0;31m                     \u001b[0msave\u001b[0m\u001b[0;34m(\u001b[0m\u001b[0mv\u001b[0m\u001b[0;34m)\u001b[0m\u001b[0;34m\u001b[0m\u001b[0;34m\u001b[0m\u001b[0m\n\u001b[0m\u001b[1;32m    883\u001b[0m                 \u001b[0mwrite\u001b[0m\u001b[0;34m(\u001b[0m\u001b[0mSETITEMS\u001b[0m\u001b[0;34m)\u001b[0m\u001b[0;34m\u001b[0m\u001b[0;34m\u001b[0m\u001b[0m\n",
      "\u001b[0;32m~/anaconda3/lib/python3.7/pickle.py\u001b[0m in \u001b[0;36msave\u001b[0;34m(self, obj, save_persistent_id)\u001b[0m\n\u001b[1;32m    503\u001b[0m         \u001b[0;32mif\u001b[0m \u001b[0mf\u001b[0m \u001b[0;32mis\u001b[0m \u001b[0;32mnot\u001b[0m \u001b[0;32mNone\u001b[0m\u001b[0;34m:\u001b[0m\u001b[0;34m\u001b[0m\u001b[0;34m\u001b[0m\u001b[0m\n\u001b[0;32m--> 504\u001b[0;31m             \u001b[0mf\u001b[0m\u001b[0;34m(\u001b[0m\u001b[0mself\u001b[0m\u001b[0;34m,\u001b[0m \u001b[0mobj\u001b[0m\u001b[0;34m)\u001b[0m \u001b[0;31m# Call unbound method with explicit self\u001b[0m\u001b[0;34m\u001b[0m\u001b[0;34m\u001b[0m\u001b[0m\n\u001b[0m\u001b[1;32m    505\u001b[0m             \u001b[0;32mreturn\u001b[0m\u001b[0;34m\u001b[0m\u001b[0;34m\u001b[0m\u001b[0m\n",
      "\u001b[0;32m~/anaconda3/lib/python3.7/pickle.py\u001b[0m in \u001b[0;36msave_list\u001b[0;34m(self, obj)\u001b[0m\n\u001b[1;32m    815\u001b[0m         \u001b[0mself\u001b[0m\u001b[0;34m.\u001b[0m\u001b[0mmemoize\u001b[0m\u001b[0;34m(\u001b[0m\u001b[0mobj\u001b[0m\u001b[0;34m)\u001b[0m\u001b[0;34m\u001b[0m\u001b[0;34m\u001b[0m\u001b[0m\n\u001b[0;32m--> 816\u001b[0;31m         \u001b[0mself\u001b[0m\u001b[0;34m.\u001b[0m\u001b[0m_batch_appends\u001b[0m\u001b[0;34m(\u001b[0m\u001b[0mobj\u001b[0m\u001b[0;34m)\u001b[0m\u001b[0;34m\u001b[0m\u001b[0;34m\u001b[0m\u001b[0m\n\u001b[0m\u001b[1;32m    817\u001b[0m \u001b[0;34m\u001b[0m\u001b[0m\n",
      "\u001b[0;32m~/anaconda3/lib/python3.7/pickle.py\u001b[0m in \u001b[0;36m_batch_appends\u001b[0;34m(self, items)\u001b[0m\n\u001b[1;32m    842\u001b[0m             \u001b[0;32melif\u001b[0m \u001b[0mn\u001b[0m\u001b[0;34m:\u001b[0m\u001b[0;34m\u001b[0m\u001b[0;34m\u001b[0m\u001b[0m\n\u001b[0;32m--> 843\u001b[0;31m                 \u001b[0msave\u001b[0m\u001b[0;34m(\u001b[0m\u001b[0mtmp\u001b[0m\u001b[0;34m[\u001b[0m\u001b[0;36m0\u001b[0m\u001b[0;34m]\u001b[0m\u001b[0;34m)\u001b[0m\u001b[0;34m\u001b[0m\u001b[0;34m\u001b[0m\u001b[0m\n\u001b[0m\u001b[1;32m    844\u001b[0m                 \u001b[0mwrite\u001b[0m\u001b[0;34m(\u001b[0m\u001b[0mAPPEND\u001b[0m\u001b[0;34m)\u001b[0m\u001b[0;34m\u001b[0m\u001b[0;34m\u001b[0m\u001b[0m\n",
      "\u001b[0;32m~/anaconda3/lib/python3.7/pickle.py\u001b[0m in \u001b[0;36msave\u001b[0;34m(self, obj, save_persistent_id)\u001b[0m\n\u001b[1;32m    503\u001b[0m         \u001b[0;32mif\u001b[0m \u001b[0mf\u001b[0m \u001b[0;32mis\u001b[0m \u001b[0;32mnot\u001b[0m \u001b[0;32mNone\u001b[0m\u001b[0;34m:\u001b[0m\u001b[0;34m\u001b[0m\u001b[0;34m\u001b[0m\u001b[0m\n\u001b[0;32m--> 504\u001b[0;31m             \u001b[0mf\u001b[0m\u001b[0;34m(\u001b[0m\u001b[0mself\u001b[0m\u001b[0;34m,\u001b[0m \u001b[0mobj\u001b[0m\u001b[0;34m)\u001b[0m \u001b[0;31m# Call unbound method with explicit self\u001b[0m\u001b[0;34m\u001b[0m\u001b[0;34m\u001b[0m\u001b[0m\n\u001b[0m\u001b[1;32m    505\u001b[0m             \u001b[0;32mreturn\u001b[0m\u001b[0;34m\u001b[0m\u001b[0;34m\u001b[0m\u001b[0m\n",
      "\u001b[0;32m~/anaconda3/lib/python3.7/site-packages/pyspark/cloudpickle.py\u001b[0m in \u001b[0;36msave_function\u001b[0;34m(self, obj, name)\u001b[0m\n\u001b[1;32m    405\u001b[0m             \u001b[0;32mif\u001b[0m \u001b[0mklass\u001b[0m \u001b[0;32mis\u001b[0m \u001b[0;32mNone\u001b[0m \u001b[0;32mor\u001b[0m \u001b[0mklass\u001b[0m \u001b[0;32mis\u001b[0m \u001b[0;32mnot\u001b[0m \u001b[0mobj\u001b[0m\u001b[0;34m:\u001b[0m\u001b[0;34m\u001b[0m\u001b[0;34m\u001b[0m\u001b[0m\n\u001b[0;32m--> 406\u001b[0;31m                 \u001b[0mself\u001b[0m\u001b[0;34m.\u001b[0m\u001b[0msave_function_tuple\u001b[0m\u001b[0;34m(\u001b[0m\u001b[0mobj\u001b[0m\u001b[0;34m)\u001b[0m\u001b[0;34m\u001b[0m\u001b[0;34m\u001b[0m\u001b[0m\n\u001b[0m\u001b[1;32m    407\u001b[0m                 \u001b[0;32mreturn\u001b[0m\u001b[0;34m\u001b[0m\u001b[0;34m\u001b[0m\u001b[0m\n",
      "\u001b[0;32m~/anaconda3/lib/python3.7/site-packages/pyspark/cloudpickle.py\u001b[0m in \u001b[0;36msave_function_tuple\u001b[0;34m(self, func)\u001b[0m\n\u001b[1;32m    548\u001b[0m             \u001b[0mstate\u001b[0m\u001b[0;34m[\u001b[0m\u001b[0;34m'qualname'\u001b[0m\u001b[0;34m]\u001b[0m \u001b[0;34m=\u001b[0m \u001b[0mfunc\u001b[0m\u001b[0;34m.\u001b[0m\u001b[0m__qualname__\u001b[0m\u001b[0;34m\u001b[0m\u001b[0;34m\u001b[0m\u001b[0m\n\u001b[0;32m--> 549\u001b[0;31m         \u001b[0msave\u001b[0m\u001b[0;34m(\u001b[0m\u001b[0mstate\u001b[0m\u001b[0;34m)\u001b[0m\u001b[0;34m\u001b[0m\u001b[0;34m\u001b[0m\u001b[0m\n\u001b[0m\u001b[1;32m    550\u001b[0m         \u001b[0mwrite\u001b[0m\u001b[0;34m(\u001b[0m\u001b[0mpickle\u001b[0m\u001b[0;34m.\u001b[0m\u001b[0mTUPLE\u001b[0m\u001b[0;34m)\u001b[0m\u001b[0;34m\u001b[0m\u001b[0;34m\u001b[0m\u001b[0m\n",
      "\u001b[0;32m~/anaconda3/lib/python3.7/pickle.py\u001b[0m in \u001b[0;36msave\u001b[0;34m(self, obj, save_persistent_id)\u001b[0m\n\u001b[1;32m    503\u001b[0m         \u001b[0;32mif\u001b[0m \u001b[0mf\u001b[0m \u001b[0;32mis\u001b[0m \u001b[0;32mnot\u001b[0m \u001b[0;32mNone\u001b[0m\u001b[0;34m:\u001b[0m\u001b[0;34m\u001b[0m\u001b[0;34m\u001b[0m\u001b[0m\n\u001b[0;32m--> 504\u001b[0;31m             \u001b[0mf\u001b[0m\u001b[0;34m(\u001b[0m\u001b[0mself\u001b[0m\u001b[0;34m,\u001b[0m \u001b[0mobj\u001b[0m\u001b[0;34m)\u001b[0m \u001b[0;31m# Call unbound method with explicit self\u001b[0m\u001b[0;34m\u001b[0m\u001b[0;34m\u001b[0m\u001b[0m\n\u001b[0m\u001b[1;32m    505\u001b[0m             \u001b[0;32mreturn\u001b[0m\u001b[0;34m\u001b[0m\u001b[0;34m\u001b[0m\u001b[0m\n",
      "\u001b[0;32m~/anaconda3/lib/python3.7/pickle.py\u001b[0m in \u001b[0;36msave_dict\u001b[0;34m(self, obj)\u001b[0m\n\u001b[1;32m    855\u001b[0m         \u001b[0mself\u001b[0m\u001b[0;34m.\u001b[0m\u001b[0mmemoize\u001b[0m\u001b[0;34m(\u001b[0m\u001b[0mobj\u001b[0m\u001b[0;34m)\u001b[0m\u001b[0;34m\u001b[0m\u001b[0;34m\u001b[0m\u001b[0m\n\u001b[0;32m--> 856\u001b[0;31m         \u001b[0mself\u001b[0m\u001b[0;34m.\u001b[0m\u001b[0m_batch_setitems\u001b[0m\u001b[0;34m(\u001b[0m\u001b[0mobj\u001b[0m\u001b[0;34m.\u001b[0m\u001b[0mitems\u001b[0m\u001b[0;34m(\u001b[0m\u001b[0;34m)\u001b[0m\u001b[0;34m)\u001b[0m\u001b[0;34m\u001b[0m\u001b[0;34m\u001b[0m\u001b[0m\n\u001b[0m\u001b[1;32m    857\u001b[0m \u001b[0;34m\u001b[0m\u001b[0m\n",
      "\u001b[0;32m~/anaconda3/lib/python3.7/pickle.py\u001b[0m in \u001b[0;36m_batch_setitems\u001b[0;34m(self, items)\u001b[0m\n\u001b[1;32m    881\u001b[0m                     \u001b[0msave\u001b[0m\u001b[0;34m(\u001b[0m\u001b[0mk\u001b[0m\u001b[0;34m)\u001b[0m\u001b[0;34m\u001b[0m\u001b[0;34m\u001b[0m\u001b[0m\n\u001b[0;32m--> 882\u001b[0;31m                     \u001b[0msave\u001b[0m\u001b[0;34m(\u001b[0m\u001b[0mv\u001b[0m\u001b[0;34m)\u001b[0m\u001b[0;34m\u001b[0m\u001b[0;34m\u001b[0m\u001b[0m\n\u001b[0m\u001b[1;32m    883\u001b[0m                 \u001b[0mwrite\u001b[0m\u001b[0;34m(\u001b[0m\u001b[0mSETITEMS\u001b[0m\u001b[0;34m)\u001b[0m\u001b[0;34m\u001b[0m\u001b[0;34m\u001b[0m\u001b[0m\n",
      "\u001b[0;32m~/anaconda3/lib/python3.7/pickle.py\u001b[0m in \u001b[0;36msave\u001b[0;34m(self, obj, save_persistent_id)\u001b[0m\n\u001b[1;32m    503\u001b[0m         \u001b[0;32mif\u001b[0m \u001b[0mf\u001b[0m \u001b[0;32mis\u001b[0m \u001b[0;32mnot\u001b[0m \u001b[0;32mNone\u001b[0m\u001b[0;34m:\u001b[0m\u001b[0;34m\u001b[0m\u001b[0;34m\u001b[0m\u001b[0m\n\u001b[0;32m--> 504\u001b[0;31m             \u001b[0mf\u001b[0m\u001b[0;34m(\u001b[0m\u001b[0mself\u001b[0m\u001b[0;34m,\u001b[0m \u001b[0mobj\u001b[0m\u001b[0;34m)\u001b[0m \u001b[0;31m# Call unbound method with explicit self\u001b[0m\u001b[0;34m\u001b[0m\u001b[0;34m\u001b[0m\u001b[0m\n\u001b[0m\u001b[1;32m    505\u001b[0m             \u001b[0;32mreturn\u001b[0m\u001b[0;34m\u001b[0m\u001b[0;34m\u001b[0m\u001b[0m\n",
      "\u001b[0;32m~/anaconda3/lib/python3.7/pickle.py\u001b[0m in \u001b[0;36msave_list\u001b[0;34m(self, obj)\u001b[0m\n\u001b[1;32m    815\u001b[0m         \u001b[0mself\u001b[0m\u001b[0;34m.\u001b[0m\u001b[0mmemoize\u001b[0m\u001b[0;34m(\u001b[0m\u001b[0mobj\u001b[0m\u001b[0;34m)\u001b[0m\u001b[0;34m\u001b[0m\u001b[0;34m\u001b[0m\u001b[0m\n\u001b[0;32m--> 816\u001b[0;31m         \u001b[0mself\u001b[0m\u001b[0;34m.\u001b[0m\u001b[0m_batch_appends\u001b[0m\u001b[0;34m(\u001b[0m\u001b[0mobj\u001b[0m\u001b[0;34m)\u001b[0m\u001b[0;34m\u001b[0m\u001b[0;34m\u001b[0m\u001b[0m\n\u001b[0m\u001b[1;32m    817\u001b[0m \u001b[0;34m\u001b[0m\u001b[0m\n",
      "\u001b[0;32m~/anaconda3/lib/python3.7/pickle.py\u001b[0m in \u001b[0;36m_batch_appends\u001b[0;34m(self, items)\u001b[0m\n\u001b[1;32m    842\u001b[0m             \u001b[0;32melif\u001b[0m \u001b[0mn\u001b[0m\u001b[0;34m:\u001b[0m\u001b[0;34m\u001b[0m\u001b[0;34m\u001b[0m\u001b[0m\n\u001b[0;32m--> 843\u001b[0;31m                 \u001b[0msave\u001b[0m\u001b[0;34m(\u001b[0m\u001b[0mtmp\u001b[0m\u001b[0;34m[\u001b[0m\u001b[0;36m0\u001b[0m\u001b[0;34m]\u001b[0m\u001b[0;34m)\u001b[0m\u001b[0;34m\u001b[0m\u001b[0;34m\u001b[0m\u001b[0m\n\u001b[0m\u001b[1;32m    844\u001b[0m                 \u001b[0mwrite\u001b[0m\u001b[0;34m(\u001b[0m\u001b[0mAPPEND\u001b[0m\u001b[0;34m)\u001b[0m\u001b[0;34m\u001b[0m\u001b[0;34m\u001b[0m\u001b[0m\n",
      "\u001b[0;32m~/anaconda3/lib/python3.7/pickle.py\u001b[0m in \u001b[0;36msave\u001b[0;34m(self, obj, save_persistent_id)\u001b[0m\n\u001b[1;32m    503\u001b[0m         \u001b[0;32mif\u001b[0m \u001b[0mf\u001b[0m \u001b[0;32mis\u001b[0m \u001b[0;32mnot\u001b[0m \u001b[0;32mNone\u001b[0m\u001b[0;34m:\u001b[0m\u001b[0;34m\u001b[0m\u001b[0;34m\u001b[0m\u001b[0m\n\u001b[0;32m--> 504\u001b[0;31m             \u001b[0mf\u001b[0m\u001b[0;34m(\u001b[0m\u001b[0mself\u001b[0m\u001b[0;34m,\u001b[0m \u001b[0mobj\u001b[0m\u001b[0;34m)\u001b[0m \u001b[0;31m# Call unbound method with explicit self\u001b[0m\u001b[0;34m\u001b[0m\u001b[0;34m\u001b[0m\u001b[0m\n\u001b[0m\u001b[1;32m    505\u001b[0m             \u001b[0;32mreturn\u001b[0m\u001b[0;34m\u001b[0m\u001b[0;34m\u001b[0m\u001b[0m\n",
      "\u001b[0;32m~/anaconda3/lib/python3.7/site-packages/pyspark/cloudpickle.py\u001b[0m in \u001b[0;36msave_function\u001b[0;34m(self, obj, name)\u001b[0m\n\u001b[1;32m    399\u001b[0m                 or themodule is None):\n\u001b[0;32m--> 400\u001b[0;31m             \u001b[0mself\u001b[0m\u001b[0;34m.\u001b[0m\u001b[0msave_function_tuple\u001b[0m\u001b[0;34m(\u001b[0m\u001b[0mobj\u001b[0m\u001b[0;34m)\u001b[0m\u001b[0;34m\u001b[0m\u001b[0;34m\u001b[0m\u001b[0m\n\u001b[0m\u001b[1;32m    401\u001b[0m             \u001b[0;32mreturn\u001b[0m\u001b[0;34m\u001b[0m\u001b[0;34m\u001b[0m\u001b[0m\n",
      "\u001b[0;32m~/anaconda3/lib/python3.7/site-packages/pyspark/cloudpickle.py\u001b[0m in \u001b[0;36msave_function_tuple\u001b[0;34m(self, func)\u001b[0m\n\u001b[1;32m    548\u001b[0m             \u001b[0mstate\u001b[0m\u001b[0;34m[\u001b[0m\u001b[0;34m'qualname'\u001b[0m\u001b[0;34m]\u001b[0m \u001b[0;34m=\u001b[0m \u001b[0mfunc\u001b[0m\u001b[0;34m.\u001b[0m\u001b[0m__qualname__\u001b[0m\u001b[0;34m\u001b[0m\u001b[0;34m\u001b[0m\u001b[0m\n\u001b[0;32m--> 549\u001b[0;31m         \u001b[0msave\u001b[0m\u001b[0;34m(\u001b[0m\u001b[0mstate\u001b[0m\u001b[0;34m)\u001b[0m\u001b[0;34m\u001b[0m\u001b[0;34m\u001b[0m\u001b[0m\n\u001b[0m\u001b[1;32m    550\u001b[0m         \u001b[0mwrite\u001b[0m\u001b[0;34m(\u001b[0m\u001b[0mpickle\u001b[0m\u001b[0;34m.\u001b[0m\u001b[0mTUPLE\u001b[0m\u001b[0;34m)\u001b[0m\u001b[0;34m\u001b[0m\u001b[0;34m\u001b[0m\u001b[0m\n",
      "\u001b[0;32m~/anaconda3/lib/python3.7/pickle.py\u001b[0m in \u001b[0;36msave\u001b[0;34m(self, obj, save_persistent_id)\u001b[0m\n\u001b[1;32m    503\u001b[0m         \u001b[0;32mif\u001b[0m \u001b[0mf\u001b[0m \u001b[0;32mis\u001b[0m \u001b[0;32mnot\u001b[0m \u001b[0;32mNone\u001b[0m\u001b[0;34m:\u001b[0m\u001b[0;34m\u001b[0m\u001b[0;34m\u001b[0m\u001b[0m\n\u001b[0;32m--> 504\u001b[0;31m             \u001b[0mf\u001b[0m\u001b[0;34m(\u001b[0m\u001b[0mself\u001b[0m\u001b[0;34m,\u001b[0m \u001b[0mobj\u001b[0m\u001b[0;34m)\u001b[0m \u001b[0;31m# Call unbound method with explicit self\u001b[0m\u001b[0;34m\u001b[0m\u001b[0;34m\u001b[0m\u001b[0m\n\u001b[0m\u001b[1;32m    505\u001b[0m             \u001b[0;32mreturn\u001b[0m\u001b[0;34m\u001b[0m\u001b[0;34m\u001b[0m\u001b[0m\n",
      "\u001b[0;32m~/anaconda3/lib/python3.7/pickle.py\u001b[0m in \u001b[0;36msave_dict\u001b[0;34m(self, obj)\u001b[0m\n\u001b[1;32m    855\u001b[0m         \u001b[0mself\u001b[0m\u001b[0;34m.\u001b[0m\u001b[0mmemoize\u001b[0m\u001b[0;34m(\u001b[0m\u001b[0mobj\u001b[0m\u001b[0;34m)\u001b[0m\u001b[0;34m\u001b[0m\u001b[0;34m\u001b[0m\u001b[0m\n\u001b[0;32m--> 856\u001b[0;31m         \u001b[0mself\u001b[0m\u001b[0;34m.\u001b[0m\u001b[0m_batch_setitems\u001b[0m\u001b[0;34m(\u001b[0m\u001b[0mobj\u001b[0m\u001b[0;34m.\u001b[0m\u001b[0mitems\u001b[0m\u001b[0;34m(\u001b[0m\u001b[0;34m)\u001b[0m\u001b[0;34m)\u001b[0m\u001b[0;34m\u001b[0m\u001b[0;34m\u001b[0m\u001b[0m\n\u001b[0m\u001b[1;32m    857\u001b[0m \u001b[0;34m\u001b[0m\u001b[0m\n",
      "\u001b[0;32m~/anaconda3/lib/python3.7/pickle.py\u001b[0m in \u001b[0;36m_batch_setitems\u001b[0;34m(self, items)\u001b[0m\n\u001b[1;32m    881\u001b[0m                     \u001b[0msave\u001b[0m\u001b[0;34m(\u001b[0m\u001b[0mk\u001b[0m\u001b[0;34m)\u001b[0m\u001b[0;34m\u001b[0m\u001b[0;34m\u001b[0m\u001b[0m\n\u001b[0;32m--> 882\u001b[0;31m                     \u001b[0msave\u001b[0m\u001b[0;34m(\u001b[0m\u001b[0mv\u001b[0m\u001b[0;34m)\u001b[0m\u001b[0;34m\u001b[0m\u001b[0;34m\u001b[0m\u001b[0m\n\u001b[0m\u001b[1;32m    883\u001b[0m                 \u001b[0mwrite\u001b[0m\u001b[0;34m(\u001b[0m\u001b[0mSETITEMS\u001b[0m\u001b[0;34m)\u001b[0m\u001b[0;34m\u001b[0m\u001b[0;34m\u001b[0m\u001b[0m\n",
      "\u001b[0;32m~/anaconda3/lib/python3.7/pickle.py\u001b[0m in \u001b[0;36msave\u001b[0;34m(self, obj, save_persistent_id)\u001b[0m\n\u001b[1;32m    503\u001b[0m         \u001b[0;32mif\u001b[0m \u001b[0mf\u001b[0m \u001b[0;32mis\u001b[0m \u001b[0;32mnot\u001b[0m \u001b[0;32mNone\u001b[0m\u001b[0;34m:\u001b[0m\u001b[0;34m\u001b[0m\u001b[0;34m\u001b[0m\u001b[0m\n\u001b[0;32m--> 504\u001b[0;31m             \u001b[0mf\u001b[0m\u001b[0;34m(\u001b[0m\u001b[0mself\u001b[0m\u001b[0;34m,\u001b[0m \u001b[0mobj\u001b[0m\u001b[0;34m)\u001b[0m \u001b[0;31m# Call unbound method with explicit self\u001b[0m\u001b[0;34m\u001b[0m\u001b[0;34m\u001b[0m\u001b[0m\n\u001b[0m\u001b[1;32m    505\u001b[0m             \u001b[0;32mreturn\u001b[0m\u001b[0;34m\u001b[0m\u001b[0;34m\u001b[0m\u001b[0m\n",
      "\u001b[0;32m~/anaconda3/lib/python3.7/pickle.py\u001b[0m in \u001b[0;36msave_dict\u001b[0;34m(self, obj)\u001b[0m\n\u001b[1;32m    855\u001b[0m         \u001b[0mself\u001b[0m\u001b[0;34m.\u001b[0m\u001b[0mmemoize\u001b[0m\u001b[0;34m(\u001b[0m\u001b[0mobj\u001b[0m\u001b[0;34m)\u001b[0m\u001b[0;34m\u001b[0m\u001b[0;34m\u001b[0m\u001b[0m\n\u001b[0;32m--> 856\u001b[0;31m         \u001b[0mself\u001b[0m\u001b[0;34m.\u001b[0m\u001b[0m_batch_setitems\u001b[0m\u001b[0;34m(\u001b[0m\u001b[0mobj\u001b[0m\u001b[0;34m.\u001b[0m\u001b[0mitems\u001b[0m\u001b[0;34m(\u001b[0m\u001b[0;34m)\u001b[0m\u001b[0;34m)\u001b[0m\u001b[0;34m\u001b[0m\u001b[0;34m\u001b[0m\u001b[0m\n\u001b[0m\u001b[1;32m    857\u001b[0m \u001b[0;34m\u001b[0m\u001b[0m\n",
      "\u001b[0;32m~/anaconda3/lib/python3.7/pickle.py\u001b[0m in \u001b[0;36m_batch_setitems\u001b[0;34m(self, items)\u001b[0m\n\u001b[1;32m    886\u001b[0m                 \u001b[0msave\u001b[0m\u001b[0;34m(\u001b[0m\u001b[0mk\u001b[0m\u001b[0;34m)\u001b[0m\u001b[0;34m\u001b[0m\u001b[0;34m\u001b[0m\u001b[0m\n\u001b[0;32m--> 887\u001b[0;31m                 \u001b[0msave\u001b[0m\u001b[0;34m(\u001b[0m\u001b[0mv\u001b[0m\u001b[0;34m)\u001b[0m\u001b[0;34m\u001b[0m\u001b[0;34m\u001b[0m\u001b[0m\n\u001b[0m\u001b[1;32m    888\u001b[0m                 \u001b[0mwrite\u001b[0m\u001b[0;34m(\u001b[0m\u001b[0mSETITEM\u001b[0m\u001b[0;34m)\u001b[0m\u001b[0;34m\u001b[0m\u001b[0;34m\u001b[0m\u001b[0m\n",
      "\u001b[0;32m~/anaconda3/lib/python3.7/pickle.py\u001b[0m in \u001b[0;36msave\u001b[0;34m(self, obj, save_persistent_id)\u001b[0m\n\u001b[1;32m    523\u001b[0m             \u001b[0;32mif\u001b[0m \u001b[0mreduce\u001b[0m \u001b[0;32mis\u001b[0m \u001b[0;32mnot\u001b[0m \u001b[0;32mNone\u001b[0m\u001b[0;34m:\u001b[0m\u001b[0;34m\u001b[0m\u001b[0;34m\u001b[0m\u001b[0m\n\u001b[0;32m--> 524\u001b[0;31m                 \u001b[0mrv\u001b[0m \u001b[0;34m=\u001b[0m \u001b[0mreduce\u001b[0m\u001b[0;34m(\u001b[0m\u001b[0mself\u001b[0m\u001b[0;34m.\u001b[0m\u001b[0mproto\u001b[0m\u001b[0;34m)\u001b[0m\u001b[0;34m\u001b[0m\u001b[0;34m\u001b[0m\u001b[0m\n\u001b[0m\u001b[1;32m    525\u001b[0m             \u001b[0;32melse\u001b[0m\u001b[0;34m:\u001b[0m\u001b[0;34m\u001b[0m\u001b[0;34m\u001b[0m\u001b[0m\n",
      "\u001b[0;32m~/anaconda3/lib/python3.7/site-packages/pyspark/rdd.py\u001b[0m in \u001b[0;36m__getnewargs__\u001b[0;34m(self)\u001b[0m\n\u001b[1;32m    209\u001b[0m         raise Exception(\n\u001b[0;32m--> 210\u001b[0;31m             \u001b[0;34m\"It appears that you are attempting to broadcast an RDD or reference an RDD from an \"\u001b[0m\u001b[0;34m\u001b[0m\u001b[0;34m\u001b[0m\u001b[0m\n\u001b[0m\u001b[1;32m    211\u001b[0m             \u001b[0;34m\"action or transformation. RDD transformations and actions can only be invoked by the \"\u001b[0m\u001b[0;34m\u001b[0m\u001b[0;34m\u001b[0m\u001b[0m\n",
      "\u001b[0;31mException\u001b[0m: It appears that you are attempting to broadcast an RDD or reference an RDD from an action or transformation. RDD transformations and actions can only be invoked by the driver, not inside of other transformations; for example, rdd1.map(lambda x: rdd2.values.count() * x) is invalid because the values transformation and count action cannot be performed inside of the rdd1.map transformation. For more information, see SPARK-5063.",
      "\nDuring handling of the above exception, another exception occurred:\n",
      "\u001b[0;31mPicklingError\u001b[0m                             Traceback (most recent call last)",
      "\u001b[0;32m<ipython-input-40-e0eeefc39611>\u001b[0m in \u001b[0;36m<module>\u001b[0;34m\u001b[0m\n\u001b[0;32m----> 1\u001b[0;31m \u001b[0msongs_other_users\u001b[0m \u001b[0;34m=\u001b[0m \u001b[0mtriplet_rdd\u001b[0m\u001b[0;34m.\u001b[0m\u001b[0mfilter\u001b[0m\u001b[0;34m(\u001b[0m\u001b[0;32mlambda\u001b[0m \u001b[0mx\u001b[0m\u001b[0;34m:\u001b[0m \u001b[0mx\u001b[0m\u001b[0;34m[\u001b[0m\u001b[0;36m1\u001b[0m\u001b[0;34m]\u001b[0m \u001b[0;32min\u001b[0m \u001b[0mu_songnames\u001b[0m\u001b[0;34m)\u001b[0m\u001b[0;34m.\u001b[0m\u001b[0mcollect\u001b[0m\u001b[0;34m(\u001b[0m\u001b[0;34m)\u001b[0m\u001b[0;34m\u001b[0m\u001b[0;34m\u001b[0m\u001b[0m\n\u001b[0m",
      "\u001b[0;32m~/anaconda3/lib/python3.7/site-packages/pyspark/rdd.py\u001b[0m in \u001b[0;36mcollect\u001b[0;34m(self)\u001b[0m\n\u001b[1;32m    814\u001b[0m         \"\"\"\n\u001b[1;32m    815\u001b[0m         \u001b[0;32mwith\u001b[0m \u001b[0mSCCallSiteSync\u001b[0m\u001b[0;34m(\u001b[0m\u001b[0mself\u001b[0m\u001b[0;34m.\u001b[0m\u001b[0mcontext\u001b[0m\u001b[0;34m)\u001b[0m \u001b[0;32mas\u001b[0m \u001b[0mcss\u001b[0m\u001b[0;34m:\u001b[0m\u001b[0;34m\u001b[0m\u001b[0;34m\u001b[0m\u001b[0m\n\u001b[0;32m--> 816\u001b[0;31m             \u001b[0msock_info\u001b[0m \u001b[0;34m=\u001b[0m \u001b[0mself\u001b[0m\u001b[0;34m.\u001b[0m\u001b[0mctx\u001b[0m\u001b[0;34m.\u001b[0m\u001b[0m_jvm\u001b[0m\u001b[0;34m.\u001b[0m\u001b[0mPythonRDD\u001b[0m\u001b[0;34m.\u001b[0m\u001b[0mcollectAndServe\u001b[0m\u001b[0;34m(\u001b[0m\u001b[0mself\u001b[0m\u001b[0;34m.\u001b[0m\u001b[0m_jrdd\u001b[0m\u001b[0;34m.\u001b[0m\u001b[0mrdd\u001b[0m\u001b[0;34m(\u001b[0m\u001b[0;34m)\u001b[0m\u001b[0;34m)\u001b[0m\u001b[0;34m\u001b[0m\u001b[0;34m\u001b[0m\u001b[0m\n\u001b[0m\u001b[1;32m    817\u001b[0m         \u001b[0;32mreturn\u001b[0m \u001b[0mlist\u001b[0m\u001b[0;34m(\u001b[0m\u001b[0m_load_from_socket\u001b[0m\u001b[0;34m(\u001b[0m\u001b[0msock_info\u001b[0m\u001b[0;34m,\u001b[0m \u001b[0mself\u001b[0m\u001b[0;34m.\u001b[0m\u001b[0m_jrdd_deserializer\u001b[0m\u001b[0;34m)\u001b[0m\u001b[0;34m)\u001b[0m\u001b[0;34m\u001b[0m\u001b[0;34m\u001b[0m\u001b[0m\n\u001b[1;32m    818\u001b[0m \u001b[0;34m\u001b[0m\u001b[0m\n",
      "\u001b[0;32m~/anaconda3/lib/python3.7/site-packages/pyspark/rdd.py\u001b[0m in \u001b[0;36m_jrdd\u001b[0;34m(self)\u001b[0m\n\u001b[1;32m   2530\u001b[0m \u001b[0;34m\u001b[0m\u001b[0m\n\u001b[1;32m   2531\u001b[0m         wrapped_func = _wrap_function(self.ctx, self.func, self._prev_jrdd_deserializer,\n\u001b[0;32m-> 2532\u001b[0;31m                                       self._jrdd_deserializer, profiler)\n\u001b[0m\u001b[1;32m   2533\u001b[0m         python_rdd = self.ctx._jvm.PythonRDD(self._prev_jrdd.rdd(), wrapped_func,\n\u001b[1;32m   2534\u001b[0m                                              self.preservesPartitioning, self.is_barrier)\n",
      "\u001b[0;32m~/anaconda3/lib/python3.7/site-packages/pyspark/rdd.py\u001b[0m in \u001b[0;36m_wrap_function\u001b[0;34m(sc, func, deserializer, serializer, profiler)\u001b[0m\n\u001b[1;32m   2432\u001b[0m     \u001b[0;32massert\u001b[0m \u001b[0mserializer\u001b[0m\u001b[0;34m,\u001b[0m \u001b[0;34m\"serializer should not be empty\"\u001b[0m\u001b[0;34m\u001b[0m\u001b[0;34m\u001b[0m\u001b[0m\n\u001b[1;32m   2433\u001b[0m     \u001b[0mcommand\u001b[0m \u001b[0;34m=\u001b[0m \u001b[0;34m(\u001b[0m\u001b[0mfunc\u001b[0m\u001b[0;34m,\u001b[0m \u001b[0mprofiler\u001b[0m\u001b[0;34m,\u001b[0m \u001b[0mdeserializer\u001b[0m\u001b[0;34m,\u001b[0m \u001b[0mserializer\u001b[0m\u001b[0;34m)\u001b[0m\u001b[0;34m\u001b[0m\u001b[0;34m\u001b[0m\u001b[0m\n\u001b[0;32m-> 2434\u001b[0;31m     \u001b[0mpickled_command\u001b[0m\u001b[0;34m,\u001b[0m \u001b[0mbroadcast_vars\u001b[0m\u001b[0;34m,\u001b[0m \u001b[0menv\u001b[0m\u001b[0;34m,\u001b[0m \u001b[0mincludes\u001b[0m \u001b[0;34m=\u001b[0m \u001b[0m_prepare_for_python_RDD\u001b[0m\u001b[0;34m(\u001b[0m\u001b[0msc\u001b[0m\u001b[0;34m,\u001b[0m \u001b[0mcommand\u001b[0m\u001b[0;34m)\u001b[0m\u001b[0;34m\u001b[0m\u001b[0;34m\u001b[0m\u001b[0m\n\u001b[0m\u001b[1;32m   2435\u001b[0m     return sc._jvm.PythonFunction(bytearray(pickled_command), env, includes, sc.pythonExec,\n\u001b[1;32m   2436\u001b[0m                                   sc.pythonVer, broadcast_vars, sc._javaAccumulator)\n",
      "\u001b[0;32m~/anaconda3/lib/python3.7/site-packages/pyspark/rdd.py\u001b[0m in \u001b[0;36m_prepare_for_python_RDD\u001b[0;34m(sc, command)\u001b[0m\n\u001b[1;32m   2418\u001b[0m     \u001b[0;31m# the serialized command will be compressed by broadcast\u001b[0m\u001b[0;34m\u001b[0m\u001b[0;34m\u001b[0m\u001b[0;34m\u001b[0m\u001b[0m\n\u001b[1;32m   2419\u001b[0m     \u001b[0mser\u001b[0m \u001b[0;34m=\u001b[0m \u001b[0mCloudPickleSerializer\u001b[0m\u001b[0;34m(\u001b[0m\u001b[0;34m)\u001b[0m\u001b[0;34m\u001b[0m\u001b[0;34m\u001b[0m\u001b[0m\n\u001b[0;32m-> 2420\u001b[0;31m     \u001b[0mpickled_command\u001b[0m \u001b[0;34m=\u001b[0m \u001b[0mser\u001b[0m\u001b[0;34m.\u001b[0m\u001b[0mdumps\u001b[0m\u001b[0;34m(\u001b[0m\u001b[0mcommand\u001b[0m\u001b[0;34m)\u001b[0m\u001b[0;34m\u001b[0m\u001b[0;34m\u001b[0m\u001b[0m\n\u001b[0m\u001b[1;32m   2421\u001b[0m     \u001b[0;32mif\u001b[0m \u001b[0mlen\u001b[0m\u001b[0;34m(\u001b[0m\u001b[0mpickled_command\u001b[0m\u001b[0;34m)\u001b[0m \u001b[0;34m>\u001b[0m \u001b[0;34m(\u001b[0m\u001b[0;36m1\u001b[0m \u001b[0;34m<<\u001b[0m \u001b[0;36m20\u001b[0m\u001b[0;34m)\u001b[0m\u001b[0;34m:\u001b[0m  \u001b[0;31m# 1M\u001b[0m\u001b[0;34m\u001b[0m\u001b[0;34m\u001b[0m\u001b[0m\n\u001b[1;32m   2422\u001b[0m         \u001b[0;31m# The broadcast will have same life cycle as created PythonRDD\u001b[0m\u001b[0;34m\u001b[0m\u001b[0;34m\u001b[0m\u001b[0;34m\u001b[0m\u001b[0m\n",
      "\u001b[0;32m~/anaconda3/lib/python3.7/site-packages/pyspark/serializers.py\u001b[0m in \u001b[0;36mdumps\u001b[0;34m(self, obj)\u001b[0m\n\u001b[1;32m    598\u001b[0m                 \u001b[0mmsg\u001b[0m \u001b[0;34m=\u001b[0m \u001b[0;34m\"Could not serialize object: %s: %s\"\u001b[0m \u001b[0;34m%\u001b[0m \u001b[0;34m(\u001b[0m\u001b[0me\u001b[0m\u001b[0;34m.\u001b[0m\u001b[0m__class__\u001b[0m\u001b[0;34m.\u001b[0m\u001b[0m__name__\u001b[0m\u001b[0;34m,\u001b[0m \u001b[0memsg\u001b[0m\u001b[0;34m)\u001b[0m\u001b[0;34m\u001b[0m\u001b[0;34m\u001b[0m\u001b[0m\n\u001b[1;32m    599\u001b[0m             \u001b[0mcloudpickle\u001b[0m\u001b[0;34m.\u001b[0m\u001b[0mprint_exec\u001b[0m\u001b[0;34m(\u001b[0m\u001b[0msys\u001b[0m\u001b[0;34m.\u001b[0m\u001b[0mstderr\u001b[0m\u001b[0;34m)\u001b[0m\u001b[0;34m\u001b[0m\u001b[0;34m\u001b[0m\u001b[0m\n\u001b[0;32m--> 600\u001b[0;31m             \u001b[0;32mraise\u001b[0m \u001b[0mpickle\u001b[0m\u001b[0;34m.\u001b[0m\u001b[0mPicklingError\u001b[0m\u001b[0;34m(\u001b[0m\u001b[0mmsg\u001b[0m\u001b[0;34m)\u001b[0m\u001b[0;34m\u001b[0m\u001b[0;34m\u001b[0m\u001b[0m\n\u001b[0m\u001b[1;32m    601\u001b[0m \u001b[0;34m\u001b[0m\u001b[0m\n\u001b[1;32m    602\u001b[0m \u001b[0;34m\u001b[0m\u001b[0m\n",
      "\u001b[0;31mPicklingError\u001b[0m: Could not serialize object: Exception: It appears that you are attempting to broadcast an RDD or reference an RDD from an action or transformation. RDD transformations and actions can only be invoked by the driver, not inside of other transformations; for example, rdd1.map(lambda x: rdd2.values.count() * x) is invalid because the values transformation and count action cannot be performed inside of the rdd1.map transformation. For more information, see SPARK-5063."
     ]
    }
   ],
   "source": [
    "songs_other_users = triplet_rdd.filter(findUsersFromSong)"
   ]
  },
  {
   "cell_type": "code",
   "execution_count": null,
   "metadata": {},
   "outputs": [],
   "source": []
  },
  {
   "cell_type": "markdown",
   "metadata": {},
   "source": [
    "## Step 4: \n",
    "1. Compute cosine similarity between all pairs of users. \n",
    "2. Sort the similarity score and print the top-5 similar users. \n",
    "3. If the top-5 user set has an user appearing more than once, ignore that pair and take the next best pair from the sorted list. \n",
    "4. For a given user_id, identify the top-5 similar users and hence song recommendations from other user's list. "
   ]
  },
  {
   "cell_type": "code",
   "execution_count": null,
   "metadata": {},
   "outputs": [],
   "source": []
  },
  {
   "cell_type": "code",
   "execution_count": null,
   "metadata": {},
   "outputs": [],
   "source": []
  },
  {
   "cell_type": "code",
   "execution_count": null,
   "metadata": {},
   "outputs": [],
   "source": []
  },
  {
   "cell_type": "code",
   "execution_count": 65,
   "metadata": {},
   "outputs": [
    {
     "data": {
      "text/plain": [
       "[[1, 7], [8, 9], [1, 7], [8, 8], [1, 3], [1, 5]]"
      ]
     },
     "execution_count": 65,
     "metadata": {},
     "output_type": "execute_result"
    }
   ],
   "source": [
    "numbers = sc.parallelize([[1,7],[8,9],[1,7],[8,8],[1,3],[1,5]])\n",
    "numbers.collect()"
   ]
  },
  {
   "cell_type": "code",
   "execution_count": 56,
   "metadata": {},
   "outputs": [
    {
     "data": {
      "text/plain": [
       "31"
      ]
     },
     "execution_count": 56,
     "metadata": {},
     "output_type": "execute_result"
    }
   ],
   "source": [
    "x = numbers.map(lambda x: x[1]).sum()\n",
    "x\n"
   ]
  },
  {
   "cell_type": "code",
   "execution_count": 58,
   "metadata": {},
   "outputs": [],
   "source": [
    "from itertools import accumulate"
   ]
  },
  {
   "cell_type": "code",
   "execution_count": 69,
   "metadata": {},
   "outputs": [
    {
     "data": {
      "text/plain": [
       "[[8, 17], [1, 22]]"
      ]
     },
     "execution_count": 69,
     "metadata": {},
     "output_type": "execute_result"
    }
   ],
   "source": [
    "sumx = numbers.groupByKey().mapValues(cumsum)\n",
    "# numbers.groupByKey().mapValues(cumsum).flatMapValues(lambda x:x).collect()\n",
    "\n",
    "summ = sumx.map(lambda x: [x[0],x[1][-1]])\n",
    "summ.collect()"
   ]
  }
 ],
 "metadata": {
  "kernelspec": {
   "display_name": "Python 3",
   "language": "python",
   "name": "python3"
  },
  "language_info": {
   "codemirror_mode": {
    "name": "ipython",
    "version": 3
   },
   "file_extension": ".py",
   "mimetype": "text/x-python",
   "name": "python",
   "nbconvert_exporter": "python",
   "pygments_lexer": "ipython3",
   "version": "3.7.3"
  }
 },
 "nbformat": 4,
 "nbformat_minor": 2
}
