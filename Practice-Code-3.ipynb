{
 "cells": [
  {
   "cell_type": "code",
   "execution_count": 1,
   "metadata": {},
   "outputs": [],
   "source": [
    "import numpy as np\n",
    "import time\n",
    "import random\n",
    "import math"
   ]
  },
  {
   "cell_type": "markdown",
   "metadata": {},
   "source": [
    "## Intersection of Linked Lists"
   ]
  },
  {
   "cell_type": "code",
   "execution_count": 2,
   "metadata": {},
   "outputs": [],
   "source": [
    "class ListNode(object):\n",
    "    def __init__(self, x):\n",
    "        self.val = x\n",
    "        self.next = None\n",
    "        \n",
    "    def print_list(self):\n",
    "        print(self._print_list())\n",
    "\n",
    "    def _print_list(self):\n",
    "        if self.next!=None:\n",
    "            return (str(self.val)+'->'+self.next._print_list())\n",
    "        return (str(self.val))\n",
    "\n",
    "class Solution(object):\n",
    "    def getIntersectionNode(self, headA, headB):\n",
    "        \n",
    "        if headA==headB:\n",
    "            return headA\n",
    "        \n",
    "        al,bl=0,0\n",
    "        a,b=headA,headB\n",
    "        \n",
    "        while a:\n",
    "            al+=1\n",
    "            a=a.next\n",
    "        while b:\n",
    "            bl+=1\n",
    "            b=b.next\n",
    "        \n",
    "        if al>bl:\n",
    "            an,bn=headA,headB\n",
    "        else:\n",
    "            an,bn=headB,headA\n",
    "            \n",
    "        for i in range(abs(al-bl)):\n",
    "            an=an.next\n",
    "        \n",
    "        while an and bn:\n",
    "            if an==bn:\n",
    "                return an\n",
    "            an=an.next\n",
    "            bn=bn.next\n",
    "            \n",
    "        return None"
   ]
  },
  {
   "cell_type": "code",
   "execution_count": 92,
   "metadata": {},
   "outputs": [
    {
     "name": "stdout",
     "output_type": "stream",
     "text": [
      "4->1->8->4->5\n",
      "5->0->1->8->4->5\n"
     ]
    }
   ],
   "source": [
    "a=ListNode(4)\n",
    "b=ListNode(5)\n",
    "\n",
    "a.next=ListNode(1)\n",
    "a.next.next=ListNode(8)\n",
    "a.next.next.next=ListNode(4)\n",
    "a.next.next.next.next=ListNode(5)\n",
    "\n",
    "b.next=ListNode(0)\n",
    "b.next.next=ListNode(1)\n",
    "b.next.next.next=a.next.next\n",
    "b.next.next.next.next=a.next.next.next\n",
    "b.next.next.next.next.next=a.next.next.next.next\n",
    "\n",
    "a.print_list()\n",
    "b.print_list()\n"
   ]
  },
  {
   "cell_type": "code",
   "execution_count": 89,
   "metadata": {},
   "outputs": [
    {
     "name": "stdout",
     "output_type": "stream",
     "text": [
      "8->4->5\n"
     ]
    }
   ],
   "source": [
    "x=Solution().getIntersectionNode(a,b)\n",
    "x.print_list()"
   ]
  },
  {
   "cell_type": "markdown",
   "metadata": {},
   "source": [
    "### Palindrome Linked List"
   ]
  },
  {
   "cell_type": "code",
   "execution_count": 102,
   "metadata": {},
   "outputs": [],
   "source": [
    "class Solution(object):\n",
    "    def isPalindrome(self, head):\n",
    "        t=head\n",
    "        s=[]\n",
    "        while t:\n",
    "            s.append(t.val)\n",
    "            t=t.next\n",
    "        if s==s[::-1]:\n",
    "            return True\n",
    "        return False"
   ]
  },
  {
   "cell_type": "code",
   "execution_count": 134,
   "metadata": {},
   "outputs": [],
   "source": [
    "class Solution(object):\n",
    "    def isPalindrome(self, head):\n",
    "        h=head\n",
    "        t=head\n",
    "        while h and h.next:\n",
    "            t=t.next\n",
    "            h=h.next.next\n",
    "        head.print_list() \n",
    "#         h.print_list()\n",
    "        t.print_list()\n",
    "        h=head\n",
    "        t=self.reverse(t)\n",
    "        \n",
    "        h.print_list()\n",
    "        t.print_list()\n",
    "        \n",
    "        while h and t:\n",
    "            if h.val!=t.val:\n",
    "                return False\n",
    "            h=h.next\n",
    "            t=t.next\n",
    "        return True\n",
    "\n",
    "    def reverse(self, h):\n",
    "        prev=None\n",
    "        while h !=None:\n",
    "            nex = h.next\n",
    "            h.next = prev\n",
    "            prev = h\n",
    "            h = nex\n",
    "        return prev"
   ]
  },
  {
   "cell_type": "code",
   "execution_count": 135,
   "metadata": {},
   "outputs": [
    {
     "name": "stdout",
     "output_type": "stream",
     "text": [
      "1->7->8->7->1->2\n",
      "7->1->2\n",
      "1->7->8->7\n",
      "2->1->7\n"
     ]
    },
    {
     "data": {
      "text/plain": [
       "False"
      ]
     },
     "execution_count": 135,
     "metadata": {},
     "output_type": "execute_result"
    }
   ],
   "source": [
    "a=ListNode(1)\n",
    "a.next=ListNode(7)\n",
    "a.next.next=ListNode(8)\n",
    "a.next.next.next=ListNode(7)\n",
    "a.next.next.next.next=ListNode(1)\n",
    "a.next.next.next.next.next=ListNode(2)\n",
    "Solution().isPalindrome(a)"
   ]
  },
  {
   "cell_type": "markdown",
   "metadata": {},
   "source": [
    "### Linked List Cycle"
   ]
  },
  {
   "cell_type": "code",
   "execution_count": 143,
   "metadata": {},
   "outputs": [],
   "source": [
    "class Solution(object):\n",
    "    def hasCycle(self, head):\n",
    "        if head.next==None:\n",
    "            return False\n",
    "        h=head\n",
    "        x=[]\n",
    "        while h:\n",
    "            x.append(h)\n",
    "            h=h.next\n",
    "            if h in x:\n",
    "                return True\n",
    "            \n",
    "        return False"
   ]
  },
  {
   "cell_type": "code",
   "execution_count": 177,
   "metadata": {},
   "outputs": [],
   "source": [
    "# Fast and Slow\n",
    "class Solution(object):\n",
    "    def hasCycle(self, head):\n",
    "        if head and head.next:\n",
    "            f=head\n",
    "            s=head\n",
    "            while f and f.next:\n",
    "                f=f.next.next\n",
    "                s=s.next\n",
    "                if f==s:\n",
    "                    return True\n",
    "        return False\n",
    "    \n",
    "class Solution(object):\n",
    "    def hasCycle(self, head):\n",
    "        if head and head.next:\n",
    "            \n",
    "            while head:\n",
    "                if head.val==None:\n",
    "                    return True\n",
    "                head.val=None\n",
    "                head=head.next\n",
    "        return False"
   ]
  },
  {
   "cell_type": "code",
   "execution_count": 179,
   "metadata": {},
   "outputs": [
    {
     "data": {
      "text/plain": [
       "False"
      ]
     },
     "execution_count": 179,
     "metadata": {},
     "output_type": "execute_result"
    }
   ],
   "source": [
    "a=ListNode(1)\n",
    "a.next=ListNode(7)\n",
    "a.next.next=ListNode(8)\n",
    "a.next.next.next=ListNode(5)\n",
    "a.next.next.next.next=ListNode(9)\n",
    "\n",
    "\n",
    "Solution().hasCycle(a)"
   ]
  },
  {
   "cell_type": "markdown",
   "metadata": {},
   "source": [
    "### Reverse a Linked List"
   ]
  },
  {
   "cell_type": "code",
   "execution_count": 13,
   "metadata": {},
   "outputs": [],
   "source": [
    "class Solution(object):\n",
    "    def reverseList(self, head):\n",
    "        \n",
    "        curr=head\n",
    "        prev=None\n",
    "        n=curr\n",
    "        \n",
    "        while n:\n",
    "            n=n.next\n",
    "            curr.next=prev\n",
    "            prev=curr\n",
    "            curr=n\n",
    "        \n",
    "        head=prev\n",
    "        return head"
   ]
  },
  {
   "cell_type": "code",
   "execution_count": 14,
   "metadata": {},
   "outputs": [],
   "source": [
    "a=ListNode(1)\n",
    "a.next=ListNode(7)\n",
    "a.next.next=ListNode(8)\n",
    "a.next.next.next=ListNode(5)\n",
    "a.next.next.next.next=ListNode(9)\n",
    "\n",
    "x=Solution().reverseList(a)"
   ]
  },
  {
   "cell_type": "code",
   "execution_count": 15,
   "metadata": {},
   "outputs": [
    {
     "name": "stdout",
     "output_type": "stream",
     "text": [
      "9->5->8->7->1\n"
     ]
    }
   ],
   "source": [
    "x.print_list()"
   ]
  },
  {
   "cell_type": "markdown",
   "metadata": {},
   "source": [
    "### Reverse a Linked List II\n",
    "From m to n"
   ]
  },
  {
   "cell_type": "code",
   "execution_count": null,
   "metadata": {},
   "outputs": [],
   "source": [
    "#Naive - Not work for m=1\n",
    "class Solution(object):\n",
    "    def reverseBetween(self, head, m, n):\n",
    "        if m==n:\n",
    "            return head        \n",
    "        prev=None\n",
    "        nex=head\n",
    "        c=1\n",
    "        cache=None\n",
    "        while nex:\n",
    "            if c==m:\n",
    "                cache=prev\n",
    "                curr=nex\n",
    "                prev=None\n",
    "                if cache:\n",
    "                    cache.next=None\n",
    "                else:\n",
    "                    return head\n",
    "            elif c>m and c<=n:\n",
    "                if prev:\n",
    "                    pass\n",
    "                else:\n",
    "                    store=curr\n",
    "                curr.next=prev\n",
    "                prev=curr\n",
    "                curr=nex\n",
    "                if c==n:\n",
    "                    store.next=curr.next\n",
    "                    curr.next=prev\n",
    "                    prev=curr\n",
    "                    curr=nex\n",
    "                    cache.next=curr\n",
    "                    \n",
    "                    break\n",
    "                    \n",
    "            if c==1:\n",
    "                prev=head\n",
    "            elif c<m:\n",
    "                prev=prev.next\n",
    "\n",
    "            nex=nex.next\n",
    "            c+=1\n",
    "            \n",
    "        return head"
   ]
  },
  {
   "cell_type": "code",
   "execution_count": 222,
   "metadata": {},
   "outputs": [],
   "source": [
    "class Solution(object):\n",
    "    def reverseBetween(self, head, m, n):\n",
    "        if m==n:\n",
    "            return head        \n",
    "        result=ListNode(0)\n",
    "        result.next=head\n",
    "        prev=result\n",
    "        c=1\n",
    "        curr=head\n",
    "        \n",
    "        while True:\n",
    "            if c<m:\n",
    "                curr=curr.next\n",
    "                prev=prev.next\n",
    "                print(c, curr.val)\n",
    "            elif c==m:\n",
    "                t=curr\n",
    "                curr=curr.next\n",
    "            else:\n",
    "                if c<=n:\n",
    "                    t.next=curr.next\n",
    "                    curr.next=prev.next\n",
    "                    prev.next=curr\n",
    "                    curr=t.next\n",
    "                    print(c,curr.val)\n",
    "                    if c==n:\n",
    "                        break\n",
    "                    \n",
    "            c+=1            \n",
    "        return result.next"
   ]
  },
  {
   "cell_type": "code",
   "execution_count": 225,
   "metadata": {},
   "outputs": [
    {
     "name": "stdout",
     "output_type": "stream",
     "text": [
      "equal 1 2 1\n",
      "2 3\n",
      "3 4\n",
      "4 5\n",
      "4->3->2->1->5\n"
     ]
    }
   ],
   "source": [
    "a=ListNode(1)\n",
    "a.next=ListNode(2)\n",
    "a.next.next=ListNode(3)\n",
    "a.next.next.next=ListNode(4)\n",
    "a.next.next.next.next=ListNode(5)\n",
    "# a.next.next.next.next.next=ListNode(6)\n",
    "# a.next.next.next.next.next.next=ListNode(7)\n",
    "\n",
    "x=Solution().reverseBetween(a,1,4)\n",
    "x.print_list()"
   ]
  },
  {
   "cell_type": "markdown",
   "metadata": {},
   "source": [
    "## Merge Two Sorted Linked Lists"
   ]
  },
  {
   "cell_type": "code",
   "execution_count": 283,
   "metadata": {},
   "outputs": [],
   "source": [
    "class Solution(object):\n",
    "    def mergeTwoLists(self, l1, l2):\n",
    "        if l1.val<l2.val:\n",
    "            l1,l2=l2,l1\n",
    "\n",
    "        head=curr=ListNode(0)\n",
    "\n",
    "        while l1 and l2:\n",
    "            if l1.val<l2.val:\n",
    "                curr.next=l1\n",
    "                l1=l1.next\n",
    "            else:\n",
    "                curr.next=l2\n",
    "                l2=l2.next\n",
    "            curr=curr.next\n",
    "            print('Head:')\n",
    "            head.print_list()\n",
    "            print('Curr:')\n",
    "            curr.print_list()\n",
    "        if l1:\n",
    "            curr.next=l1\n",
    "        elif l2:\n",
    "            curr.next=l2\n",
    "            \n",
    "        return head.next\n"
   ]
  },
  {
   "cell_type": "code",
   "execution_count": 284,
   "metadata": {},
   "outputs": [
    {
     "name": "stdout",
     "output_type": "stream",
     "text": [
      "Head:\n",
      "0->1->2->4\n",
      "Curr:\n",
      "1->2->4\n",
      "Head:\n",
      "0->1->2->4\n",
      "Curr:\n",
      "2->4\n",
      "Head:\n",
      "0->1->2->2->3->6\n",
      "Curr:\n",
      "2->3->6\n",
      "Head:\n",
      "0->1->2->2->3->6\n",
      "Curr:\n",
      "3->6\n",
      "Head:\n",
      "0->1->2->2->3->4\n",
      "Curr:\n",
      "4\n",
      "1->2->2->3->4->6\n"
     ]
    }
   ],
   "source": [
    "a=ListNode(1)\n",
    "a.next=ListNode(2)\n",
    "a.next.next=ListNode(4)\n",
    "b=ListNode(2)\n",
    "b.next=ListNode(3)\n",
    "b.next.next=ListNode(6)\n",
    "x=Solution().mergeTwoLists(a,b)\n",
    "x.print_list()"
   ]
  },
  {
   "cell_type": "markdown",
   "metadata": {},
   "source": [
    "## Delete Node in a Linked List"
   ]
  },
  {
   "cell_type": "code",
   "execution_count": 134,
   "metadata": {},
   "outputs": [],
   "source": [
    "class Solution(object):\n",
    "    def deleteNode(self, node):\n",
    "        while node.next:\n",
    "            print(node.val)\n",
    "            node.val=node.next.val\n",
    "            if node.next.next:\n",
    "                node=node.next\n",
    "            else:\n",
    "                node.next=None\n",
    "        node=None\n",
    "        return\n",
    "\n",
    "class Solution(object):\n",
    "    def deleteNode(self, node):\n",
    "        node.val=node.next.val\n",
    "        node.next=node.next.next\n",
    "        return"
   ]
  },
  {
   "cell_type": "code",
   "execution_count": 135,
   "metadata": {},
   "outputs": [],
   "source": [
    "a=ListNode(1)\n",
    "a.next=ListNode(2)\n",
    "a.next.next=ListNode(3)\n",
    "a.next.next.next=ListNode(4)\n",
    "a.next.next.next.next=ListNode(5)"
   ]
  },
  {
   "cell_type": "code",
   "execution_count": 136,
   "metadata": {},
   "outputs": [
    {
     "name": "stdout",
     "output_type": "stream",
     "text": [
      "1->2->4->5\n"
     ]
    }
   ],
   "source": [
    "Solution().deleteNode(a.next.next)\n",
    "a.print_list()"
   ]
  },
  {
   "cell_type": "markdown",
   "metadata": {},
   "source": [
    "## Min Stack"
   ]
  },
  {
   "cell_type": "code",
   "execution_count": 209,
   "metadata": {},
   "outputs": [],
   "source": [
    "import math\n",
    "class MinStack(object):\n",
    "    \n",
    "    def __init__(self):\n",
    "        self.st=[]\n",
    "        self.mn=math.inf\n",
    "\n",
    "    def push(self, x):\n",
    "        self.st.append(x)\n",
    "        if self.mn==None or self.mn>=x:\n",
    "            self.mn=x\n",
    "        return\n",
    "\n",
    "    def pop(self):\n",
    "        if self.st.pop()==self.mn:\n",
    "            if self.st:\n",
    "                self.mn=min(self.st)\n",
    "            else:\n",
    "                self.mn=None\n",
    "        return\n",
    "\n",
    "    def top(self):\n",
    "        return self.st[-1]\n",
    "\n",
    "    def getMin(self):\n",
    "        return self.mn\n",
    "        \n",
    "\n",
    "\n",
    "# [\"MinStack\",\"push\",\"push\",\"push\",\"top\",\"pop\",\"getMin\",\"pop\",\"getMin\",\"pop\",\"push\",\"top\",\"getMin\",\"push\",\"top\",\"getMin\",\"pop\",\"getMin\"]\n",
    "# [[],[2147483646],[2147483646],[2147483647],[],[],[],[],[],[],[2147483647],[],[],[-2147483648],[],[],[],[]]\n"
   ]
  },
  {
   "cell_type": "code",
   "execution_count": 208,
   "metadata": {},
   "outputs": [
    {
     "name": "stdout",
     "output_type": "stream",
     "text": [
      "-2\n"
     ]
    }
   ],
   "source": [
    "obj = MinStack()\n",
    "obj.push(-2)\n",
    "obj.push(0)\n",
    "obj.push(-1)\n",
    "obj.pop()\n",
    "print(obj.getMin())"
   ]
  },
  {
   "cell_type": "markdown",
   "metadata": {},
   "source": [
    "### House Robber"
   ]
  },
  {
   "cell_type": "code",
   "execution_count": 81,
   "metadata": {},
   "outputs": [],
   "source": [
    "class Solution:\n",
    "    def rob(self, nums):\n",
    "        l=len(nums)\n",
    "        if nums and l>1:\n",
    "            return self.get_sum(nums,l)\n",
    "        elif l==1:\n",
    "            return nums[0]\n",
    "        return 0\n",
    "    \n",
    "    def get_sum(self,nums,l):\n",
    "        ans=[None]*l\n",
    "        ans[0]=nums[0]\n",
    "        ans[1]=max(nums[0],nums[1])\n",
    "        for i in range(2,l):\n",
    "            ans[i]=max(ans[i-1],ans[i-2]+nums[i])\n",
    "        print(ans)\n",
    "        return ans[-1]"
   ]
  },
  {
   "cell_type": "code",
   "execution_count": 84,
   "metadata": {},
   "outputs": [
    {
     "name": "stdout",
     "output_type": "stream",
     "text": [
      "[4, 6, 6, 7, 8, 11, 11]\n"
     ]
    },
    {
     "data": {
      "text/plain": [
       "11"
      ]
     },
     "execution_count": 84,
     "metadata": {},
     "output_type": "execute_result"
    }
   ],
   "source": [
    "nums=[4,6,1,1,2,4,2]\n",
    "Solution().rob(nums)"
   ]
  },
  {
   "cell_type": "markdown",
   "metadata": {},
   "source": [
    "### Plus One"
   ]
  },
  {
   "cell_type": "code",
   "execution_count": 106,
   "metadata": {},
   "outputs": [],
   "source": [
    "class Solution(object):\n",
    "    def plusOne(self, digits):\n",
    "        num=''.join([str(i) for i in digits])\n",
    "        num=str(int(num)+1)\n",
    "        return [int(d) for d in num]"
   ]
  },
  {
   "cell_type": "code",
   "execution_count": 154,
   "metadata": {},
   "outputs": [],
   "source": [
    "class Solution(object):\n",
    "    def plusOne(self, digits):\n",
    "        if len(digits)==1 and digits[0]!=9:\n",
    "            return [digits[0]+1]\n",
    "\n",
    "        c=(0 if digits[-1]!=9 else 1)\n",
    "        for i in range(len(digits)-1,-1,-1):\n",
    "            if digits[i]==9 and c==1:\n",
    "                digits[i]=0\n",
    "            elif c==1:\n",
    "                digits[i]+=1\n",
    "                c=0\n",
    "                break\n",
    "            else:\n",
    "                digits[i]+=1\n",
    "                c=0\n",
    "                break\n",
    "        if c==1:\n",
    "            digits.insert(0,1)\n",
    "        return digits"
   ]
  },
  {
   "cell_type": "code",
   "execution_count": 155,
   "metadata": {},
   "outputs": [
    {
     "data": {
      "text/plain": [
       "[1, 0]"
      ]
     },
     "execution_count": 155,
     "metadata": {},
     "output_type": "execute_result"
    }
   ],
   "source": [
    "Solution().plusOne([9])"
   ]
  },
  {
   "cell_type": "code",
   "execution_count": null,
   "metadata": {},
   "outputs": [],
   "source": []
  },
  {
   "cell_type": "code",
   "execution_count": 409,
   "metadata": {},
   "outputs": [],
   "source": [
    "class Solution(object):\n",
    "    def largestMultipleOfThree(self, digits):\n",
    "        if digits:\n",
    "            x=sum(digits)\n",
    "            ans=''\n",
    "            if x==0:\n",
    "                return '0'\n",
    "\n",
    "            rem=x%3\n",
    "            if rem==0:\n",
    "                return ''.join(str(i) for i in sorted(digits, reverse=True))\n",
    "\n",
    "            elif rem in digits:\n",
    "                digits.remove(rem)\n",
    "                ans=''.join(str(i) for i in sorted(digits, reverse=True))\n",
    "            else:\n",
    "                nofound=False\n",
    "                x=sorted(digits, reverse=True)\n",
    "                print(x)\n",
    "                t=0\n",
    "                r=-1\n",
    "                while sum(x)%3!=0 and len(x)>0:\n",
    "                    if r!=-1:\n",
    "                        x.append(r)\n",
    "                    t=len(x)-1\n",
    "                    while t>=0:\n",
    "                        if x[t]!=0 and x[t]%3!=0:\n",
    "                            print(x[t],t)\n",
    "                            if (sum(x)-x[t])%3==0:\n",
    "                                x.remove(x[t])\n",
    "                                break\n",
    "                            if x[t]%3!=0:\n",
    "                                x.remove(x[t])\n",
    "                        t-=1\n",
    "                    if t==-1:\n",
    "                        nofound=True\n",
    "                        break\n",
    "                ans=''.join(str(i) for i in sorted(x,reverse=True)) if nofound==False else ''\n",
    "            return ans\n",
    "        return ''"
   ]
  },
  {
   "cell_type": "code",
   "execution_count": 410,
   "metadata": {},
   "outputs": [
    {
     "name": "stdout",
     "output_type": "stream",
     "text": [
      "[8, 5, 4]\n",
      "4 2\n",
      "5 1\n",
      "8 0\n"
     ]
    },
    {
     "data": {
      "text/plain": [
       "''"
      ]
     },
     "execution_count": 410,
     "metadata": {},
     "output_type": "execute_result"
    }
   ],
   "source": [
    "Solution().largestMultipleOfThree([4,5,8])"
   ]
  },
  {
   "cell_type": "code",
   "execution_count": null,
   "metadata": {},
   "outputs": [],
   "source": []
  },
  {
   "cell_type": "code",
   "execution_count": 240,
   "metadata": {},
   "outputs": [],
   "source": [
    "from datetime import datetime\n",
    "class Solution(object):\n",
    "    def daysBetweenDates(self, date1, date2):\n",
    "        d1 = datetime.strptime(date1, '%Y-%m-%d')\n",
    "        d2 = datetime.strptime(date2, '%Y-%m-%d')\n",
    "        duration=d1-d2\n",
    "        return abs(duration.days)"
   ]
  },
  {
   "cell_type": "code",
   "execution_count": 241,
   "metadata": {},
   "outputs": [
    {
     "data": {
      "text/plain": [
       "1207"
      ]
     },
     "execution_count": 241,
     "metadata": {},
     "output_type": "execute_result"
    }
   ],
   "source": [
    "Solution().daysBetweenDates(\"2016-10-11\",\"2020-1-31\")"
   ]
  },
  {
   "cell_type": "code",
   "execution_count": 238,
   "metadata": {},
   "outputs": [],
   "source": [
    "class Solution(object):\n",
    "    def daysBetweenDates(self, date1, date2):\n",
    "        \n",
    "        d1=min(date1,date2)\n",
    "        d2=max(date1,date2)\n",
    "        y1,m1,d1=[int(i) for i in d1.split('-')]\n",
    "        y2,m2,d2=[int(i) for i in d2.split('-')]\n",
    "        months={1:31,2:30,3:31,4:30,5:31,6:30,7:31,8:31,9:30,10:31,11:30,12:31}\n",
    "\n",
    "        ans=0\n",
    "        if y1==y2:\n",
    "            if m1==m2:\n",
    "                ans=abs(d1-d2)\n",
    "            else:\n",
    "                if m1<m2:\n",
    "                    if self.leap(y1) and m1<=2 and d1<29:\n",
    "                        ans+=1\n",
    "                    ans=(months[m1]-d1)+d2\n",
    "                else:\n",
    "                    if self.leap(y1) and m2<=2 and d2<29:\n",
    "                        ans+=1\n",
    "                    ans=(months[m1]-d2)+d1\n",
    "        else:\n",
    "            hasleap=0\n",
    "            d=y2\n",
    "            s=y1+1\n",
    "            if m2>2:\n",
    "                d+=1\n",
    "            if m1<2:\n",
    "                s-=1\n",
    "            for i in range(s,d):\n",
    "                if self.leap(i):\n",
    "                    hasleap+=1\n",
    "            if m1==m2:\n",
    "                ans+=365*abs(y1-y2)+(months[m1]-d1)+hasleap\n",
    "            else:\n",
    "                if m1<m2:\n",
    "                    print('hear',abs(y1-y2), m1-m2, d1-d2, hasleap)\n",
    "                    ans+=365*abs(y1-y2)+(months[m1]-d1)\n",
    "                    for i in range(m1+1,m2):\n",
    "                        ans+=months[i]\n",
    "                    ans+=d2+hasleap\n",
    "                else:\n",
    "                    ans+=365*abs(y2-y1-1)+(months[m1]-d1)\n",
    "                    print('hear',abs(y2-y1-1), m1-m2, d1-d2, hasleap)\n",
    "                    s=m1+1\n",
    "                    while s<=12:\n",
    "                        ans+=months[s]\n",
    "                        s+=1\n",
    "                    d=1\n",
    "                    while d<m2:\n",
    "                        ans+=months[d]\n",
    "                        d+=1\n",
    "\n",
    "                    if self.leap(y1) and m2<=2 and d2<29:\n",
    "                        ans+=1\n",
    "                    ans+=d2+hasleap\n",
    "                \n",
    "        return ans\n",
    "    \n",
    "    def leap(self,y):\n",
    "        if y%4==0:\n",
    "            return True\n",
    "        return False"
   ]
  },
  {
   "cell_type": "code",
   "execution_count": 239,
   "metadata": {},
   "outputs": [
    {
     "name": "stdout",
     "output_type": "stream",
     "text": [
      "hear 3 9 -20 0\n"
     ]
    },
    {
     "data": {
      "text/plain": [
       "1207"
      ]
     },
     "execution_count": 239,
     "metadata": {},
     "output_type": "execute_result"
    }
   ],
   "source": [
    "Solution().daysBetweenDates(\"2016-10-11\",\"2020-1-31\")"
   ]
  },
  {
   "cell_type": "code",
   "execution_count": 171,
   "metadata": {},
   "outputs": [
    {
     "data": {
      "text/plain": [
       "['2019-11-15', '2019-11-15', '2020-12-30', '2020-12-31']"
      ]
     },
     "execution_count": 171,
     "metadata": {},
     "output_type": "execute_result"
    }
   ],
   "source": [
    "sorted([\"2019-11-15\",\"2020-12-31\",\"2019-11-15\",\"2020-12-30\"])"
   ]
  },
  {
   "cell_type": "markdown",
   "metadata": {},
   "source": [
    "## Count and Say\n",
    "\n",
    "1.     1\n",
    "2.     11\n",
    "3.     21\n",
    "4.     1211\n",
    "5.     111221"
   ]
  },
  {
   "cell_type": "code",
   "execution_count": 352,
   "metadata": {},
   "outputs": [],
   "source": [
    "\n",
    "class Solution(object):\n",
    "    def countAndSay(self, n):\n",
    "        return self.findnth(n)\n",
    "    \n",
    "    \n",
    "    def findnth(self, n):\n",
    "        if n==1:\n",
    "            return '1'\n",
    "        else:\n",
    "            x=self.findnth(n-1)\n",
    "            res=''\n",
    "            c=1\n",
    "            for i in range(1,len(x)):\n",
    "                if x[i]==x[i-1]:\n",
    "                    c+=1\n",
    "                    continue\n",
    "                else:\n",
    "                    res+=str(c)+x[i-1]\n",
    "                    c=1\n",
    "            res+=str(c)+x[-1]\n",
    "            \n",
    "            return res"
   ]
  },
  {
   "cell_type": "code",
   "execution_count": 354,
   "metadata": {},
   "outputs": [
    {
     "data": {
      "text/plain": [
       "'312211'"
      ]
     },
     "execution_count": 354,
     "metadata": {},
     "output_type": "execute_result"
    }
   ],
   "source": [
    "Solution().countAndSay(6)"
   ]
  },
  {
   "cell_type": "markdown",
   "metadata": {},
   "source": [
    "### Buddy Strings"
   ]
  },
  {
   "cell_type": "code",
   "execution_count": 530,
   "metadata": {},
   "outputs": [],
   "source": [
    "class Solution(object):\n",
    "    def buddyStrings(self, A, B):\n",
    "        \n",
    "        if len(A)==0 or len(B)==0:\n",
    "            return False\n",
    "        \n",
    "        if len(A)==2 and len(B)==2:\n",
    "            return A==B[::-1]\n",
    "        \n",
    "        if len(A)!=len(B):\n",
    "            return False\n",
    "        \n",
    "        if A==B:\n",
    "            return self.same_string(A,B)\n",
    "        \n",
    "        vs=[]\n",
    "        for k,v in enumerate(zip(A,B)):\n",
    "            if v[0]!=v[1]:\n",
    "                vs.append(v)\n",
    "        print(vs)\n",
    "        return vs[0][::-1]==vs[1] if len(vs)==2 else False\n",
    "        \n",
    "    def same_string(self, A, B):\n",
    "        for i in range(len(A)):\n",
    "            if A[i] in A[i+1:]:\n",
    "                return True\n",
    "        return False"
   ]
  },
  {
   "cell_type": "code",
   "execution_count": 535,
   "metadata": {},
   "outputs": [
    {
     "data": {
      "text/plain": [
       "True"
      ]
     },
     "execution_count": 535,
     "metadata": {},
     "output_type": "execute_result"
    }
   ],
   "source": [
    "a='abcb'\n",
    "b='abcb'\n",
    "Solution().buddyStrings(a,b)"
   ]
  },
  {
   "cell_type": "markdown",
   "metadata": {},
   "source": [
    "### Remove Duplicates from Sorted Array"
   ]
  },
  {
   "cell_type": "code",
   "execution_count": 512,
   "metadata": {},
   "outputs": [],
   "source": [
    "class Solution(object):\n",
    "    def removeDuplicates(self, nums):\n",
    "        s=nums[0]\n",
    "        j=1\n",
    "        while j<len(nums):\n",
    "            if nums[j]==s:\n",
    "                nums.remove(s)\n",
    "                j-=1\n",
    "            else:\n",
    "                s=nums[j]\n",
    "            j+=1\n",
    "        print(nums)\n",
    "        return len(nums)\n"
   ]
  },
  {
   "cell_type": "code",
   "execution_count": 513,
   "metadata": {},
   "outputs": [
    {
     "name": "stdout",
     "output_type": "stream",
     "text": [
      "[2, 4, 5, 6, 7, 8]\n"
     ]
    },
    {
     "data": {
      "text/plain": [
       "6"
      ]
     },
     "execution_count": 513,
     "metadata": {},
     "output_type": "execute_result"
    }
   ],
   "source": [
    "nums=[2,2,4,4,5,5,5,5,5,6,6,6,7,8,8,8]\n",
    "Solution().removeDuplicates(nums)"
   ]
  },
  {
   "cell_type": "markdown",
   "metadata": {},
   "source": [
    "## Climbing Stairs"
   ]
  },
  {
   "cell_type": "code",
   "execution_count": 514,
   "metadata": {},
   "outputs": [],
   "source": [
    "#Recursion TLE\n",
    "class Solution(object):\n",
    "    def climbStairs(self, n):\n",
    "        return self.steps(n)\n",
    "    \n",
    "    def steps(self,n):\n",
    "        if n in [1,2,3]:\n",
    "            return n\n",
    "        \n",
    "        return self.steps(n-1)+self.steps(n-2)\n",
    "        "
   ]
  },
  {
   "cell_type": "code",
   "execution_count": 518,
   "metadata": {},
   "outputs": [
    {
     "data": {
      "text/plain": [
       "1346269"
      ]
     },
     "execution_count": 518,
     "metadata": {},
     "output_type": "execute_result"
    }
   ],
   "source": [
    "Solution().climbStairs(30)"
   ]
  },
  {
   "cell_type": "code",
   "execution_count": 522,
   "metadata": {},
   "outputs": [],
   "source": [
    "#Iteration\n",
    "class Solution(object):\n",
    "    def climbStairs(self, n):\n",
    "        if n>3:\n",
    "            steps=[None]*n\n",
    "            steps[0]=1\n",
    "            steps[1]=2\n",
    "            steps[2]=3\n",
    "            for i in range(3,n):\n",
    "                steps[i]=steps[i-1]+steps[i-2]\n",
    "            return steps[n-1]\n",
    "        \n",
    "        return n\n",
    "        \n",
    "        "
   ]
  },
  {
   "cell_type": "code",
   "execution_count": 523,
   "metadata": {},
   "outputs": [
    {
     "data": {
      "text/plain": [
       "2"
      ]
     },
     "execution_count": 523,
     "metadata": {},
     "output_type": "execute_result"
    }
   ],
   "source": [
    "Solution().climbStairs(2)"
   ]
  },
  {
   "cell_type": "markdown",
   "metadata": {},
   "source": [
    "## Number of 1 bits"
   ]
  },
  {
   "cell_type": "code",
   "execution_count": 566,
   "metadata": {},
   "outputs": [],
   "source": [
    "class Solution(object):\n",
    "    def hammingWeight(self, n):\n",
    "        ans=0\n",
    "        for i in bin(n):\n",
    "            if i=='1':\n",
    "                ans+=1\n",
    "        return ans\n",
    "    \n",
    "    "
   ]
  },
  {
   "cell_type": "code",
   "execution_count": 567,
   "metadata": {},
   "outputs": [
    {
     "data": {
      "text/plain": [
       "31"
      ]
     },
     "execution_count": 567,
     "metadata": {},
     "output_type": "execute_result"
    }
   ],
   "source": [
    "Solution().hammingWeight(4294967293)"
   ]
  },
  {
   "cell_type": "code",
   "execution_count": 562,
   "metadata": {},
   "outputs": [
    {
     "data": {
      "text/plain": [
       "str"
      ]
     },
     "execution_count": 562,
     "metadata": {},
     "output_type": "execute_result"
    }
   ],
   "source": [
    "type(bin(x))"
   ]
  },
  {
   "cell_type": "markdown",
   "metadata": {},
   "source": [
    "### Pascal's Triangle"
   ]
  },
  {
   "cell_type": "code",
   "execution_count": 591,
   "metadata": {},
   "outputs": [],
   "source": [
    "class Solution(object):\n",
    "    def generate(self, numRows):\n",
    "        ans=[None]*numRows\n",
    "        \n",
    "        if numRows==0:\n",
    "            return []\n",
    "        if numRows==1:\n",
    "            return [1]\n",
    "        if numRows==2:\n",
    "            \n",
    "            return [[1],[1,1]]\n",
    "\n",
    "        ans[0]=[1]\n",
    "        ans[1]=[1,1]\n",
    "        if numRows>2:\n",
    "            for i in range(2,numRows):\n",
    "                l=[1]*(i+1)\n",
    "                for j in range(len(ans[i-1])-1):\n",
    "                    l[j+1]=ans[i-1][j]+ans[i-1][j+1]\n",
    "                ans[i]=l\n",
    "        return ans"
   ]
  },
  {
   "cell_type": "code",
   "execution_count": 594,
   "metadata": {},
   "outputs": [
    {
     "data": {
      "text/plain": [
       "[[1], [1, 1], [1, 2, 1], [1, 3, 3, 1], [1, 4, 6, 4, 1]]"
      ]
     },
     "execution_count": 594,
     "metadata": {},
     "output_type": "execute_result"
    }
   ],
   "source": [
    "Solution().generate(5)"
   ]
  },
  {
   "cell_type": "markdown",
   "metadata": {},
   "source": [
    "### Missing Number"
   ]
  },
  {
   "cell_type": "code",
   "execution_count": 600,
   "metadata": {},
   "outputs": [],
   "source": [
    "class Solution(object):\n",
    "    def missingNumber(self, nums):\n",
    "        s=sum(nums)\n",
    "        return int((len(nums)*(len(nums)+1))/2 - s)"
   ]
  },
  {
   "cell_type": "code",
   "execution_count": 601,
   "metadata": {},
   "outputs": [
    {
     "data": {
      "text/plain": [
       "0"
      ]
     },
     "execution_count": 601,
     "metadata": {},
     "output_type": "execute_result"
    }
   ],
   "source": [
    "nums=[9,6,4,2,3,5,7,8,1]\n",
    "Solution().missingNumber(nums)"
   ]
  },
  {
   "cell_type": "markdown",
   "metadata": {},
   "source": [
    "## Intersection of Two Arrays"
   ]
  },
  {
   "cell_type": "code",
   "execution_count": 615,
   "metadata": {},
   "outputs": [],
   "source": [
    "class Solution(object):\n",
    "    def intersect(self, nums1, nums2):\n",
    "        if len(nums1)>len(nums2):\n",
    "            nums1,nums2=nums2,nums1\n",
    "        ans=[]\n",
    "        for i in nums1:\n",
    "            if i in nums2:\n",
    "                ans.append(i)\n",
    "                nums2.remove(i)\n",
    "        return ans"
   ]
  },
  {
   "cell_type": "code",
   "execution_count": 644,
   "metadata": {},
   "outputs": [],
   "source": [
    "class Solution(object):\n",
    "    def intersect(self, nums1, nums2):\n",
    "        nums1=sorted(nums1)\n",
    "        nums2=sorted(nums2)\n",
    "        if len(nums2)>len(nums1):\n",
    "            nums1,nums2=nums2,nums1\n",
    "        ans=[]\n",
    "        i=j=0\n",
    "        while i<len(nums2) and j<len(nums1):\n",
    "            if nums2[i]==nums1[j]:\n",
    "                ans.append(nums2[i])\n",
    "                i+=1\n",
    "                j+=1\n",
    "            else:\n",
    "                if nums1[j]<nums2[i]:\n",
    "                    j+=1\n",
    "                else:\n",
    "                    i+=1\n",
    "        return ans"
   ]
  },
  {
   "cell_type": "code",
   "execution_count": 649,
   "metadata": {},
   "outputs": [
    {
     "name": "stdout",
     "output_type": "stream",
     "text": [
      "[0, 1, 1, 2, 3, 4, 5, 6, 8] [1, 2, 2, 3, 6, 8, 10]\n"
     ]
    },
    {
     "data": {
      "text/plain": [
       "[1, 2, 3, 6, 8]"
      ]
     },
     "execution_count": 649,
     "metadata": {},
     "output_type": "execute_result"
    }
   ],
   "source": [
    "n1=[0,1,2,3,4,1,5,6,8]\n",
    "n2=[2,2,3,6,1,10,8]\n",
    "Solution().intersect(n1,n2)"
   ]
  },
  {
   "cell_type": "markdown",
   "metadata": {},
   "source": [
    "### Minimum positive number not in list"
   ]
  },
  {
   "cell_type": "code",
   "execution_count": 1,
   "metadata": {},
   "outputs": [],
   "source": [
    "class Solution(object):\n",
    "    def firstMissingPositive(self, nums):\n",
    "        s=set()\n",
    "        for i in nums:\n",
    "            if i>0:\n",
    "                s.add(i)\n",
    "        l=sorted(list(s))\n",
    "        print(l)\n",
    "        if l:\n",
    "            for i in range(len(l)):\n",
    "                if i+1!=l[i]:\n",
    "                    return i+1\n",
    "            return l[i]+1\n",
    "        return 1"
   ]
  },
  {
   "cell_type": "code",
   "execution_count": 738,
   "metadata": {},
   "outputs": [],
   "source": [
    "# Constant extra space and O(n) time\n",
    "\n",
    "class Solution(object):\n",
    "    def firstMissingPositive(self, nums):\n",
    "        while i<len(nums):\n",
    "            if i+1==nums[i]:\n",
    "                continue\n",
    "            elif nums[i]<=0:\n",
    "                nums.remove(nums[i])\n",
    "                i-=1\n",
    "            elif nums[i]>0 and nums[i]<len(nums):\n",
    "                nums[i]\n",
    "            else:\n",
    "                \n",
    "            i+=1\n",
    "        return"
   ]
  },
  {
   "cell_type": "code",
   "execution_count": 745,
   "metadata": {},
   "outputs": [],
   "source": [
    "class Solution:\n",
    "    def firstMissingPositive(self, nums):\n",
    "        if len(nums) == 0:\n",
    "            return 1\n",
    "        numSet = set([i for i in range(1, len(nums)+1)])\n",
    "        for element in nums:\n",
    "            numSet.discard(element)\n",
    "        print(numSet)\n",
    "        return len(nums)+1 if len(numSet) == 0 else min(numSet)"
   ]
  },
  {
   "cell_type": "code",
   "execution_count": 752,
   "metadata": {},
   "outputs": [],
   "source": [
    "class Solution:\n",
    "    def firstMissingPositive(self, nums):\n",
    "        ind = 0\n",
    "        n_l = len(nums)\n",
    "        if not n_l:\n",
    "            return 1\n",
    "        \n",
    "        while ind < n_l:\n",
    "            if ind + 1 == nums[ind]:\n",
    "                pass\n",
    "            elif nums[ind] < 1 or nums[ind] > n_l:\n",
    "                nums[ind] = -1\n",
    "            elif nums[ind] <= ind:\n",
    "                nums[nums[ind] - 1] = nums[ind]\n",
    "                nums[ind] = -1\n",
    "            else:\n",
    "                t = nums[nums[ind] - 1]\n",
    "                nums[nums[ind] - 1] = nums[ind]\n",
    "                nums[ind] = (-1 if t == nums[ind] else t)\n",
    "                ind -= 1\n",
    "            print(nums)\n",
    "            ind += 1\n",
    "        \n",
    "        for i in range(n_l):\n",
    "            if i + 1 != nums[i]:\n",
    "                return i + 1\n",
    "        return nums[-1] + 1"
   ]
  },
  {
   "cell_type": "code",
   "execution_count": 2,
   "metadata": {},
   "outputs": [
    {
     "name": "stdout",
     "output_type": "stream",
     "text": [
      "[1, 2, 3, 4, 100]\n"
     ]
    },
    {
     "data": {
      "text/plain": [
       "5"
      ]
     },
     "execution_count": 2,
     "metadata": {},
     "output_type": "execute_result"
    }
   ],
   "source": [
    "nums=[100,2,2,-4,4,1,2,3,-7]\n",
    "Solution().firstMissingPositive(nums)"
   ]
  },
  {
   "cell_type": "markdown",
   "metadata": {},
   "source": [
    "## Nested Iterator"
   ]
  },
  {
   "cell_type": "code",
   "execution_count": 684,
   "metadata": {},
   "outputs": [],
   "source": [
    "#class NestedInteger(object):\n",
    "#    def isInteger(self):\n",
    "#        \"\"\"\n",
    "#        @return True if this NestedInteger holds a single integer, rather than a nested list.\n",
    "#        :rtype bool\n",
    "#        \"\"\"\n",
    "#\n",
    "#    def getInteger(self):\n",
    "#        \"\"\"\n",
    "#        @return the single integer that this NestedInteger holds, if it holds a single integer\n",
    "#        Return None if this NestedInteger holds a nested list\n",
    "#        :rtype int\n",
    "#        \"\"\"\n",
    "#\n",
    "#    def getList(self):\n",
    "#        \"\"\"\n",
    "#        @return the nested list that this NestedInteger holds, if it holds a nested list\n",
    "#        Return None if this NestedInteger holds a single integer\n",
    "#        :rtype List[NestedInteger]\n",
    "#        \"\"\"\n",
    "from collections import deque\n",
    "class NestedIterator(object):\n",
    "    \n",
    "    def __init__(self, nestedList):\n",
    "        \"\"\"\n",
    "        Initialize your data structure here.\n",
    "        :type nestedList: List[NestedInteger]\n",
    "        \"\"\"\n",
    "        self.n = nestedList\n",
    "        self.storage=deque()\n",
    "        self.get_queued(nestedList)\n",
    "        print(self.storage)\n",
    "        \n",
    "    def get_queued(self,nintList):\n",
    "        print(nintList)\n",
    "        if len(nintList)>0:\n",
    "            for i in nintList:\n",
    "                if i.getInteger()!=None:\n",
    "                    self.storage.append(i.getInteger())\n",
    "                else:\n",
    "                    self.get_queued(i.getList())\n",
    "            return\n",
    "        return\n",
    "        \n",
    "    def next(self):\n",
    "        \"\"\"\n",
    "        :rtype: int\n",
    "        \"\"\"\n",
    "        return self.storage.popleft()\n",
    "        \n",
    "\n",
    "    def hasNext(self):\n",
    "        \"\"\"\n",
    "        :rtype: bool\n",
    "        \"\"\"\n",
    "        if len(self.storage)>0:\n",
    "            return True\n",
    "        return False\n",
    "        "
   ]
  },
  {
   "cell_type": "code",
   "execution_count": 683,
   "metadata": {},
   "outputs": [
    {
     "data": {
      "text/plain": [
       "1"
      ]
     },
     "execution_count": 683,
     "metadata": {},
     "output_type": "execute_result"
    }
   ],
   "source": [
    "from collections import deque\n",
    "s=deque()\n",
    "s.append(1)\n",
    "s.append(2)\n",
    "s.append(3)\n",
    "s.append(4)\n",
    "s.append(0)\n",
    "s.popleft()"
   ]
  },
  {
   "cell_type": "markdown",
   "metadata": {},
   "source": [
    "### Happy Number"
   ]
  },
  {
   "cell_type": "code",
   "execution_count": 20,
   "metadata": {},
   "outputs": [],
   "source": [
    "class Solution(object):\n",
    "    def isHappy(self, n):\n",
    "        while n!=1:\n",
    "            ssq=0\n",
    "            for i in str(n):\n",
    "                ssq+=int(i)**2\n",
    "            n=ssq\n",
    "            if n==4:\n",
    "                return False\n",
    "        return True"
   ]
  },
  {
   "cell_type": "code",
   "execution_count": 22,
   "metadata": {},
   "outputs": [
    {
     "data": {
      "text/plain": [
       "True"
      ]
     },
     "execution_count": 22,
     "metadata": {},
     "output_type": "execute_result"
    }
   ],
   "source": [
    "n=19\n",
    "Solution().isHappy(n)"
   ]
  },
  {
   "cell_type": "markdown",
   "metadata": {},
   "source": [
    "### Contains Duplicate"
   ]
  },
  {
   "cell_type": "code",
   "execution_count": 31,
   "metadata": {},
   "outputs": [],
   "source": [
    "class Solution(object):\n",
    "    def containsDuplicate(self, nums):\n",
    "        if nums:\n",
    "            if len(set(nums))!=len(nums):\n",
    "                return True\n",
    "            return False\n",
    "        return False"
   ]
  },
  {
   "cell_type": "code",
   "execution_count": 34,
   "metadata": {},
   "outputs": [
    {
     "data": {
      "text/plain": [
       "False"
      ]
     },
     "execution_count": 34,
     "metadata": {},
     "output_type": "execute_result"
    }
   ],
   "source": [
    "Solution().containsDuplicate([2])"
   ]
  },
  {
   "cell_type": "markdown",
   "metadata": {},
   "source": [
    "### Move Zeroes"
   ]
  },
  {
   "cell_type": "code",
   "execution_count": 51,
   "metadata": {},
   "outputs": [],
   "source": [
    "class Solution(object):\n",
    "    def moveZeroes(self, nums):\n",
    "        k=0\n",
    "        for i in range(len(nums)):\n",
    "            if nums[i]!=0:\n",
    "                nums[i],nums[k]=nums[k],nums[i]\n",
    "                k+=1\n",
    "        return nums"
   ]
  },
  {
   "cell_type": "code",
   "execution_count": 52,
   "metadata": {},
   "outputs": [
    {
     "name": "stdout",
     "output_type": "stream",
     "text": [
      "4 0\n",
      "6 1\n",
      "7 2\n",
      "8 3\n"
     ]
    },
    {
     "data": {
      "text/plain": [
       "[1, 3, -1, 12, 0, 0, 0, 0, 0, 0]"
      ]
     },
     "execution_count": 52,
     "metadata": {},
     "output_type": "execute_result"
    }
   ],
   "source": [
    "Solution().moveZeroes([0,0,0,0,1,0,3,-1,12,0])"
   ]
  },
  {
   "cell_type": "markdown",
   "metadata": {},
   "source": [
    "### Single Number"
   ]
  },
  {
   "cell_type": "code",
   "execution_count": 63,
   "metadata": {},
   "outputs": [],
   "source": [
    "from collections import Counter\n",
    "class Solution(object):\n",
    "    def singleNumber(self, nums):\n",
    "        c=Counter(nums)\n",
    "        for i in c.keys():\n",
    "            if c[i]==1:\n",
    "                return i"
   ]
  },
  {
   "cell_type": "code",
   "execution_count": 81,
   "metadata": {},
   "outputs": [],
   "source": [
    "class Solution(object):\n",
    "    def singleNumber(self, nums):\n",
    "        i=0\n",
    "        c=-1\n",
    "        while i<len(nums):\n",
    "            c=nums[i]\n",
    "            nums.remove(c)\n",
    "            try:\n",
    "                nums.remove(c)\n",
    "                i=0\n",
    "            except:\n",
    "                return c"
   ]
  },
  {
   "cell_type": "code",
   "execution_count": 94,
   "metadata": {},
   "outputs": [
    {
     "data": {
      "text/plain": [
       "[1, 3, 0, 4, 1, 7, 0, 1, 3, 0, 4, 1, 6]"
      ]
     },
     "execution_count": 94,
     "metadata": {},
     "output_type": "execute_result"
    }
   ],
   "source": [
    "import itertools \n",
    "import operator\n",
    "nums=[1,2,3,4,5,6,7,1,2,3,4,5,7]\n",
    "# Solution().singleNumber(nums)\n",
    "list(itertools.accumulate(nums, func=operator.xor))\n"
   ]
  },
  {
   "cell_type": "markdown",
   "metadata": {},
   "source": [
    "### Reverse String"
   ]
  },
  {
   "cell_type": "code",
   "execution_count": 103,
   "metadata": {},
   "outputs": [],
   "source": [
    "class Solution(object):\n",
    "    def reverseString(self, s):\n",
    "        l=0\n",
    "        r=len(s)-1\n",
    "        while l<r and l!=r:\n",
    "            print(l,r)\n",
    "            s[l],s[r]=s[r],s[l]\n",
    "            l+=1\n",
    "            r-=1\n",
    "        return s"
   ]
  },
  {
   "cell_type": "code",
   "execution_count": 106,
   "metadata": {},
   "outputs": [
    {
     "data": {
      "text/plain": [
       "['d']"
      ]
     },
     "execution_count": 106,
     "metadata": {},
     "output_type": "execute_result"
    }
   ],
   "source": [
    "Solution().reverseString(['d'])"
   ]
  },
  {
   "cell_type": "markdown",
   "metadata": {},
   "source": [
    "## Majority Element"
   ]
  },
  {
   "cell_type": "code",
   "execution_count": 116,
   "metadata": {},
   "outputs": [],
   "source": [
    "from collections import Counter\n",
    "class Solution(object):\n",
    "    def majorityElement(self, nums):\n",
    "        c=Counter(nums)\n",
    "        for i in c.keys():\n",
    "            if c[i]>len(nums)//2:\n",
    "                return i\n",
    "        return None"
   ]
  },
  {
   "cell_type": "code",
   "execution_count": 181,
   "metadata": {},
   "outputs": [],
   "source": [
    "from collections import defaultdict\n",
    "class Solution(object):\n",
    "    def majorityElement(self, nums):\n",
    "        a=defaultdict(int)\n",
    "        for i in nums:\n",
    "            a[i]+=1\n",
    "        for j in a.keys():\n",
    "            if a[j]>len(nums)//2:\n",
    "                return j\n",
    "        return None"
   ]
  },
  {
   "cell_type": "code",
   "execution_count": 201,
   "metadata": {},
   "outputs": [],
   "source": [
    "#Random Picking\n",
    "import random\n",
    "class Solution(object):\n",
    "    def majorityElement(self, nums):\n",
    "        while True:\n",
    "            i=random.randint(0,len(nums)-1)\n",
    "            c=0\n",
    "            for j in nums:\n",
    "                if j==nums[i]:\n",
    "                    c+=1\n",
    "                if 2*c>len(nums):\n",
    "                    return j\n",
    "        return None"
   ]
  },
  {
   "cell_type": "code",
   "execution_count": 204,
   "metadata": {},
   "outputs": [
    {
     "data": {
      "text/plain": [
       "2"
      ]
     },
     "execution_count": 204,
     "metadata": {},
     "output_type": "execute_result"
    }
   ],
   "source": [
    "n=[2,3,3,4,3,2,2,2,2]\n",
    "Solution().majorityElement(n)"
   ]
  },
  {
   "cell_type": "markdown",
   "metadata": {},
   "source": [
    "## Find All Numbers Disappeared in an Array"
   ]
  },
  {
   "cell_type": "code",
   "execution_count": 249,
   "metadata": {},
   "outputs": [],
   "source": [
    "#Naive Set way\n",
    "class Solution(object):\n",
    "    def findDisappearedNumbers(self, nums):\n",
    "        d=set([j+1 for j in range(len(nums))])\n",
    "        for i in nums:\n",
    "            try:\n",
    "                d.remove(i)\n",
    "            except:\n",
    "                pass\n",
    "            \n",
    "        return d\n",
    "                "
   ]
  },
  {
   "cell_type": "code",
   "execution_count": 285,
   "metadata": {},
   "outputs": [],
   "source": [
    "class Solution(object):\n",
    "    def findDisappearedNumbers(self, nums):\n",
    "        for i in range(len(nums)):\n",
    "            j=abs(nums[i])-1\n",
    "            if j<len(nums):\n",
    "                if nums[j]>0:\n",
    "                    nums[j]=-nums[j]\n",
    "        ans=[]\n",
    "        for i in range(len(nums)):\n",
    "            if nums[i]>0:\n",
    "                ans.append(i+1)\n",
    "        return ans"
   ]
  },
  {
   "cell_type": "code",
   "execution_count": 286,
   "metadata": {},
   "outputs": [
    {
     "data": {
      "text/plain": [
       "[3, 4, 5]"
      ]
     },
     "execution_count": 286,
     "metadata": {},
     "output_type": "execute_result"
    }
   ],
   "source": [
    "n=[1,1,2,6,7,8]\n",
    "Solution().findDisappearedNumbers(n)"
   ]
  },
  {
   "cell_type": "markdown",
   "metadata": {},
   "source": [
    "## LRU Cache"
   ]
  },
  {
   "cell_type": "code",
   "execution_count": 90,
   "metadata": {},
   "outputs": [],
   "source": [
    "class LRUCache(object):\n",
    "\n",
    "    def __init__(self, capacity):\n",
    "        self.d=dict()\n",
    "        self.q=deque()\n",
    "        self.cap=capacity\n",
    "        \n",
    "\n",
    "    def get(self, key):\n",
    "        if key in self.d.keys():\n",
    "            while self.q and key in self.q:\n",
    "                self.q.remove(key)\n",
    "            self.q.append(key)\n",
    "            print(self.q,self.d)\n",
    "            return self.d[key]\n",
    "        return -1\n",
    "        \n",
    "\n",
    "    def put(self, key, value):\n",
    "        self.d[key]=value\n",
    "        while self.q and key in self.q:\n",
    "            self.q.remove(key)\n",
    "        self.q.append(key)\n",
    "        print(q)\n",
    "        if len(self.d)>self.cap:\n",
    "            self.invalidate(self.q.popleft())\n",
    "        return\n",
    "    \n",
    "    def invalidate(self, key):\n",
    "        self.d.pop(key)\n",
    "        return"
   ]
  },
  {
   "cell_type": "code",
   "execution_count": 95,
   "metadata": {},
   "outputs": [],
   "source": [
    "lru=LRUCache(3)\n"
   ]
  },
  {
   "cell_type": "code",
   "execution_count": 96,
   "metadata": {},
   "outputs": [
    {
     "name": "stdout",
     "output_type": "stream",
     "text": [
      "deque([1, 1, 1, 2, 3, 5, 4, 2])\n",
      "deque([1, 1, 1, 2, 3, 5, 4, 2])\n",
      "deque([1, 1, 1, 2, 3, 5, 4, 2])\n",
      "deque([1, 1, 1, 2, 3, 5, 4, 2])\n"
     ]
    }
   ],
   "source": [
    "lru.put(1,1)\n",
    "lru.put(2,2)\n",
    "lru.put(3,3)\n",
    "lru.put(4,4)"
   ]
  },
  {
   "cell_type": "code",
   "execution_count": 97,
   "metadata": {},
   "outputs": [
    {
     "name": "stdout",
     "output_type": "stream",
     "text": [
      "deque([2, 3, 4]) {2: 2, 3: 3, 4: 4}\n",
      "deque([2, 4, 3]) {2: 2, 3: 3, 4: 4}\n",
      "deque([4, 3, 2]) {2: 2, 3: 3, 4: 4}\n"
     ]
    },
    {
     "data": {
      "text/plain": [
       "-1"
      ]
     },
     "execution_count": 97,
     "metadata": {},
     "output_type": "execute_result"
    }
   ],
   "source": [
    "lru.get(4)\n",
    "lru.get(3)\n",
    "lru.get(2)\n",
    "lru.get(1)"
   ]
  },
  {
   "cell_type": "code",
   "execution_count": 98,
   "metadata": {},
   "outputs": [
    {
     "name": "stdout",
     "output_type": "stream",
     "text": [
      "deque([1, 1, 1, 2, 3, 5, 4, 2])\n"
     ]
    }
   ],
   "source": [
    "lru.put(5,5)"
   ]
  },
  {
   "cell_type": "code",
   "execution_count": 99,
   "metadata": {},
   "outputs": [
    {
     "name": "stdout",
     "output_type": "stream",
     "text": [
      "-1\n",
      "deque([3, 5, 2]) {2: 2, 3: 3, 5: 5}\n",
      "2\n",
      "deque([5, 2, 3]) {2: 2, 3: 3, 5: 5}\n",
      "3\n",
      "-1\n",
      "deque([2, 3, 5]) {2: 2, 3: 3, 5: 5}\n",
      "5\n"
     ]
    }
   ],
   "source": [
    "print(lru.get(1))\n",
    "print(lru.get(2))\n",
    "print(lru.get(3))\n",
    "print(lru.get(4))\n",
    "print(lru.get(5))"
   ]
  },
  {
   "cell_type": "code",
   "execution_count": 86,
   "metadata": {},
   "outputs": [],
   "source": [
    "q=deque([1,1,1,2,3,4,5,4,4,2])\n",
    "q.remove(4)"
   ]
  },
  {
   "cell_type": "code",
   "execution_count": 89,
   "metadata": {},
   "outputs": [
    {
     "data": {
      "text/plain": [
       "deque([1, 1, 1, 2, 3, 5, 4, 2])"
      ]
     },
     "execution_count": 89,
     "metadata": {},
     "output_type": "execute_result"
    }
   ],
   "source": [
    "q"
   ]
  },
  {
   "cell_type": "code",
   "execution_count": 88,
   "metadata": {},
   "outputs": [],
   "source": [
    "q.remove(4)"
   ]
  },
  {
   "cell_type": "code",
   "execution_count": null,
   "metadata": {},
   "outputs": [],
   "source": []
  }
 ],
 "metadata": {
  "kernelspec": {
   "display_name": "Python 3",
   "language": "python",
   "name": "python3"
  },
  "language_info": {
   "codemirror_mode": {
    "name": "ipython",
    "version": 3
   },
   "file_extension": ".py",
   "mimetype": "text/x-python",
   "name": "python",
   "nbconvert_exporter": "python",
   "pygments_lexer": "ipython3",
   "version": "3.7.3"
  }
 },
 "nbformat": 4,
 "nbformat_minor": 2
}
