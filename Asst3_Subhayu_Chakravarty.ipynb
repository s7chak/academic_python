{
 "cells": [
  {
   "cell_type": "code",
   "execution_count": 1,
   "metadata": {},
   "outputs": [],
   "source": [
    "import pandas as pd\n",
    "import numpy as np"
   ]
  },
  {
   "cell_type": "code",
   "execution_count": 425,
   "metadata": {},
   "outputs": [
    {
     "name": "stdout",
     "output_type": "stream",
     "text": [
      "Enter filename for Candy Data with full extension(.xlsx): CandyData.xlsx\n"
     ]
    }
   ],
   "source": [
    "filename = input(\"Enter filename for Candy Data with full extension(.xlsx): \")"
   ]
  },
  {
   "cell_type": "code",
   "execution_count": 426,
   "metadata": {
    "scrolled": false
   },
   "outputs": [
    {
     "name": "stdout",
     "output_type": "stream",
     "text": [
      "File reading done...\n",
      "\n",
      "\n",
      "Beginning cleanup of data...\n"
     ]
    }
   ],
   "source": [
    "df=pd.read_excel(filename)\n",
    "print(\"File reading done...\")\n",
    "print(\"\\n\\nBeginning cleanup of data...\")"
   ]
  },
  {
   "cell_type": "code",
   "execution_count": 427,
   "metadata": {},
   "outputs": [
    {
     "data": {
      "text/html": [
       "<div>\n",
       "<style scoped>\n",
       "    .dataframe tbody tr th:only-of-type {\n",
       "        vertical-align: middle;\n",
       "    }\n",
       "\n",
       "    .dataframe tbody tr th {\n",
       "        vertical-align: top;\n",
       "    }\n",
       "\n",
       "    .dataframe thead th {\n",
       "        text-align: right;\n",
       "    }\n",
       "</style>\n",
       "<table border=\"1\" class=\"dataframe\">\n",
       "  <thead>\n",
       "    <tr style=\"text-align: right;\">\n",
       "      <th></th>\n",
       "      <th>Internal ID</th>\n",
       "      <th>Q1: GOING OUT?</th>\n",
       "      <th>Q2: GENDER</th>\n",
       "      <th>Q3: AGE</th>\n",
       "      <th>Q4: COUNTRY</th>\n",
       "      <th>Q5: STATE, PROVINCE, COUNTY, ETC</th>\n",
       "      <th>Q6 | 100 Grand Bar</th>\n",
       "      <th>Q6 | Anonymous brown globs that come in black and orange wrappers\t(a.k.a. Mary Janes)</th>\n",
       "      <th>Q6 | Any full-sized candy bar</th>\n",
       "      <th>Q6 | Black Jacks</th>\n",
       "      <th>...</th>\n",
       "      <th>Q8: DESPAIR OTHER</th>\n",
       "      <th>Q9: OTHER COMMENTS</th>\n",
       "      <th>Q10: DRESS</th>\n",
       "      <th>Unnamed: 113</th>\n",
       "      <th>Q11: DAY</th>\n",
       "      <th>Q12: MEDIA [Daily Dish]</th>\n",
       "      <th>Q12: MEDIA [Science]</th>\n",
       "      <th>Q12: MEDIA [ESPN]</th>\n",
       "      <th>Q12: MEDIA [Yahoo]</th>\n",
       "      <th>Click Coordinates (x, y)</th>\n",
       "    </tr>\n",
       "  </thead>\n",
       "  <tbody>\n",
       "    <tr>\n",
       "      <th>0</th>\n",
       "      <td>90258773</td>\n",
       "      <td>NaN</td>\n",
       "      <td>NaN</td>\n",
       "      <td>NaN</td>\n",
       "      <td>NaN</td>\n",
       "      <td>NaN</td>\n",
       "      <td>NaN</td>\n",
       "      <td>NaN</td>\n",
       "      <td>NaN</td>\n",
       "      <td>NaN</td>\n",
       "      <td>...</td>\n",
       "      <td>NaN</td>\n",
       "      <td>NaN</td>\n",
       "      <td>NaN</td>\n",
       "      <td>NaN</td>\n",
       "      <td>NaN</td>\n",
       "      <td>NaN</td>\n",
       "      <td>NaN</td>\n",
       "      <td>NaN</td>\n",
       "      <td>NaN</td>\n",
       "      <td>NaN</td>\n",
       "    </tr>\n",
       "    <tr>\n",
       "      <th>1</th>\n",
       "      <td>90272821</td>\n",
       "      <td>No</td>\n",
       "      <td>Male</td>\n",
       "      <td>44</td>\n",
       "      <td>USA</td>\n",
       "      <td>NM</td>\n",
       "      <td>MEH</td>\n",
       "      <td>DESPAIR</td>\n",
       "      <td>JOY</td>\n",
       "      <td>MEH</td>\n",
       "      <td>...</td>\n",
       "      <td>NaN</td>\n",
       "      <td>Bottom line is Twix is really the only candy w...</td>\n",
       "      <td>White and gold</td>\n",
       "      <td>NaN</td>\n",
       "      <td>Sunday</td>\n",
       "      <td>NaN</td>\n",
       "      <td>1.0</td>\n",
       "      <td>NaN</td>\n",
       "      <td>NaN</td>\n",
       "      <td>(84, 25)</td>\n",
       "    </tr>\n",
       "    <tr>\n",
       "      <th>2</th>\n",
       "      <td>90272829</td>\n",
       "      <td>NaN</td>\n",
       "      <td>Male</td>\n",
       "      <td>49</td>\n",
       "      <td>USA</td>\n",
       "      <td>Virginia</td>\n",
       "      <td>NaN</td>\n",
       "      <td>NaN</td>\n",
       "      <td>NaN</td>\n",
       "      <td>NaN</td>\n",
       "      <td>...</td>\n",
       "      <td>NaN</td>\n",
       "      <td>NaN</td>\n",
       "      <td>NaN</td>\n",
       "      <td>NaN</td>\n",
       "      <td>NaN</td>\n",
       "      <td>NaN</td>\n",
       "      <td>NaN</td>\n",
       "      <td>NaN</td>\n",
       "      <td>NaN</td>\n",
       "      <td>NaN</td>\n",
       "    </tr>\n",
       "    <tr>\n",
       "      <th>3</th>\n",
       "      <td>90272840</td>\n",
       "      <td>No</td>\n",
       "      <td>Male</td>\n",
       "      <td>40</td>\n",
       "      <td>us</td>\n",
       "      <td>or</td>\n",
       "      <td>MEH</td>\n",
       "      <td>DESPAIR</td>\n",
       "      <td>JOY</td>\n",
       "      <td>MEH</td>\n",
       "      <td>...</td>\n",
       "      <td>NaN</td>\n",
       "      <td>Raisins can go to hell</td>\n",
       "      <td>White and gold</td>\n",
       "      <td>NaN</td>\n",
       "      <td>Sunday</td>\n",
       "      <td>NaN</td>\n",
       "      <td>1.0</td>\n",
       "      <td>NaN</td>\n",
       "      <td>NaN</td>\n",
       "      <td>(75, 23)</td>\n",
       "    </tr>\n",
       "    <tr>\n",
       "      <th>4</th>\n",
       "      <td>90272841</td>\n",
       "      <td>No</td>\n",
       "      <td>Male</td>\n",
       "      <td>23</td>\n",
       "      <td>usa</td>\n",
       "      <td>exton pa</td>\n",
       "      <td>JOY</td>\n",
       "      <td>DESPAIR</td>\n",
       "      <td>JOY</td>\n",
       "      <td>DESPAIR</td>\n",
       "      <td>...</td>\n",
       "      <td>NaN</td>\n",
       "      <td>NaN</td>\n",
       "      <td>White and gold</td>\n",
       "      <td>NaN</td>\n",
       "      <td>Friday</td>\n",
       "      <td>NaN</td>\n",
       "      <td>1.0</td>\n",
       "      <td>NaN</td>\n",
       "      <td>NaN</td>\n",
       "      <td>(70, 10)</td>\n",
       "    </tr>\n",
       "  </tbody>\n",
       "</table>\n",
       "<p>5 rows × 120 columns</p>\n",
       "</div>"
      ],
      "text/plain": [
       "   Internal ID Q1: GOING OUT? Q2: GENDER Q3: AGE Q4: COUNTRY  \\\n",
       "0     90258773            NaN        NaN     NaN         NaN   \n",
       "1     90272821             No       Male      44        USA    \n",
       "2     90272829            NaN       Male      49         USA   \n",
       "3     90272840             No       Male      40          us   \n",
       "4     90272841             No       Male      23         usa   \n",
       "\n",
       "  Q5: STATE, PROVINCE, COUNTY, ETC Q6 | 100 Grand Bar  \\\n",
       "0                              NaN                NaN   \n",
       "1                               NM                MEH   \n",
       "2                         Virginia                NaN   \n",
       "3                               or                MEH   \n",
       "4                         exton pa                JOY   \n",
       "\n",
       "  Q6 | Anonymous brown globs that come in black and orange wrappers\\t(a.k.a. Mary Janes)  \\\n",
       "0                                                NaN                                       \n",
       "1                                            DESPAIR                                       \n",
       "2                                                NaN                                       \n",
       "3                                            DESPAIR                                       \n",
       "4                                            DESPAIR                                       \n",
       "\n",
       "  Q6 | Any full-sized candy bar Q6 | Black Jacks  ... Q8: DESPAIR OTHER  \\\n",
       "0                           NaN              NaN  ...               NaN   \n",
       "1                           JOY              MEH  ...               NaN   \n",
       "2                           NaN              NaN  ...               NaN   \n",
       "3                           JOY              MEH  ...               NaN   \n",
       "4                           JOY          DESPAIR  ...               NaN   \n",
       "\n",
       "                                  Q9: OTHER COMMENTS      Q10: DRESS  \\\n",
       "0                                                NaN             NaN   \n",
       "1  Bottom line is Twix is really the only candy w...  White and gold   \n",
       "2                                                NaN             NaN   \n",
       "3                             Raisins can go to hell  White and gold   \n",
       "4                                                NaN  White and gold   \n",
       "\n",
       "  Unnamed: 113 Q11: DAY Q12: MEDIA [Daily Dish] Q12: MEDIA [Science]  \\\n",
       "0          NaN      NaN                     NaN                  NaN   \n",
       "1          NaN   Sunday                     NaN                  1.0   \n",
       "2          NaN      NaN                     NaN                  NaN   \n",
       "3          NaN   Sunday                     NaN                  1.0   \n",
       "4          NaN   Friday                     NaN                  1.0   \n",
       "\n",
       "  Q12: MEDIA [ESPN] Q12: MEDIA [Yahoo] Click Coordinates (x, y)  \n",
       "0               NaN                NaN                      NaN  \n",
       "1               NaN                NaN                 (84, 25)  \n",
       "2               NaN                NaN                      NaN  \n",
       "3               NaN                NaN                 (75, 23)  \n",
       "4               NaN                NaN                 (70, 10)  \n",
       "\n",
       "[5 rows x 120 columns]"
      ]
     },
     "execution_count": 427,
     "metadata": {},
     "output_type": "execute_result"
    }
   ],
   "source": [
    "df.head()"
   ]
  },
  {
   "cell_type": "markdown",
   "metadata": {},
   "source": [
    "### Q1:"
   ]
  },
  {
   "cell_type": "code",
   "execution_count": 429,
   "metadata": {},
   "outputs": [],
   "source": [
    "# field = input(\"Enter column name you want to clean for %s: \"%year)\n",
    "field='Q1: GOING OUT?'\n",
    "# field='Are you going actually going trick or treating yourself?'"
   ]
  },
  {
   "cell_type": "code",
   "execution_count": 430,
   "metadata": {},
   "outputs": [
    {
     "data": {
      "text/html": [
       "<div>\n",
       "<style scoped>\n",
       "    .dataframe tbody tr th:only-of-type {\n",
       "        vertical-align: middle;\n",
       "    }\n",
       "\n",
       "    .dataframe tbody tr th {\n",
       "        vertical-align: top;\n",
       "    }\n",
       "\n",
       "    .dataframe thead th {\n",
       "        text-align: right;\n",
       "    }\n",
       "</style>\n",
       "<table border=\"1\" class=\"dataframe\">\n",
       "  <thead>\n",
       "    <tr style=\"text-align: right;\">\n",
       "      <th></th>\n",
       "      <th>Internal ID</th>\n",
       "      <th>Q1: GOING OUT?</th>\n",
       "      <th>Q2: GENDER</th>\n",
       "      <th>Q3: AGE</th>\n",
       "      <th>Q4: COUNTRY</th>\n",
       "      <th>Q5: STATE, PROVINCE, COUNTY, ETC</th>\n",
       "      <th>Q6 | 100 Grand Bar</th>\n",
       "      <th>Q6 | Anonymous brown globs that come in black and orange wrappers\t(a.k.a. Mary Janes)</th>\n",
       "      <th>Q6 | Any full-sized candy bar</th>\n",
       "      <th>Q6 | Black Jacks</th>\n",
       "      <th>...</th>\n",
       "      <th>Q8: DESPAIR OTHER</th>\n",
       "      <th>Q9: OTHER COMMENTS</th>\n",
       "      <th>Q10: DRESS</th>\n",
       "      <th>Unnamed: 113</th>\n",
       "      <th>Q11: DAY</th>\n",
       "      <th>Q12: MEDIA [Daily Dish]</th>\n",
       "      <th>Q12: MEDIA [Science]</th>\n",
       "      <th>Q12: MEDIA [ESPN]</th>\n",
       "      <th>Q12: MEDIA [Yahoo]</th>\n",
       "      <th>Click Coordinates (x, y)</th>\n",
       "    </tr>\n",
       "  </thead>\n",
       "  <tbody>\n",
       "    <tr>\n",
       "      <th>0</th>\n",
       "      <td>90258773</td>\n",
       "      <td>0</td>\n",
       "      <td>NaN</td>\n",
       "      <td>NaN</td>\n",
       "      <td>NaN</td>\n",
       "      <td>NaN</td>\n",
       "      <td>NaN</td>\n",
       "      <td>NaN</td>\n",
       "      <td>NaN</td>\n",
       "      <td>NaN</td>\n",
       "      <td>...</td>\n",
       "      <td>NaN</td>\n",
       "      <td>NaN</td>\n",
       "      <td>NaN</td>\n",
       "      <td>NaN</td>\n",
       "      <td>NaN</td>\n",
       "      <td>NaN</td>\n",
       "      <td>NaN</td>\n",
       "      <td>NaN</td>\n",
       "      <td>NaN</td>\n",
       "      <td>NaN</td>\n",
       "    </tr>\n",
       "    <tr>\n",
       "      <th>1</th>\n",
       "      <td>90272821</td>\n",
       "      <td>0</td>\n",
       "      <td>Male</td>\n",
       "      <td>44</td>\n",
       "      <td>USA</td>\n",
       "      <td>NM</td>\n",
       "      <td>MEH</td>\n",
       "      <td>DESPAIR</td>\n",
       "      <td>JOY</td>\n",
       "      <td>MEH</td>\n",
       "      <td>...</td>\n",
       "      <td>NaN</td>\n",
       "      <td>Bottom line is Twix is really the only candy w...</td>\n",
       "      <td>White and gold</td>\n",
       "      <td>NaN</td>\n",
       "      <td>Sunday</td>\n",
       "      <td>NaN</td>\n",
       "      <td>1.0</td>\n",
       "      <td>NaN</td>\n",
       "      <td>NaN</td>\n",
       "      <td>(84, 25)</td>\n",
       "    </tr>\n",
       "    <tr>\n",
       "      <th>2</th>\n",
       "      <td>90272829</td>\n",
       "      <td>0</td>\n",
       "      <td>Male</td>\n",
       "      <td>49</td>\n",
       "      <td>USA</td>\n",
       "      <td>Virginia</td>\n",
       "      <td>NaN</td>\n",
       "      <td>NaN</td>\n",
       "      <td>NaN</td>\n",
       "      <td>NaN</td>\n",
       "      <td>...</td>\n",
       "      <td>NaN</td>\n",
       "      <td>NaN</td>\n",
       "      <td>NaN</td>\n",
       "      <td>NaN</td>\n",
       "      <td>NaN</td>\n",
       "      <td>NaN</td>\n",
       "      <td>NaN</td>\n",
       "      <td>NaN</td>\n",
       "      <td>NaN</td>\n",
       "      <td>NaN</td>\n",
       "    </tr>\n",
       "    <tr>\n",
       "      <th>3</th>\n",
       "      <td>90272840</td>\n",
       "      <td>0</td>\n",
       "      <td>Male</td>\n",
       "      <td>40</td>\n",
       "      <td>us</td>\n",
       "      <td>or</td>\n",
       "      <td>MEH</td>\n",
       "      <td>DESPAIR</td>\n",
       "      <td>JOY</td>\n",
       "      <td>MEH</td>\n",
       "      <td>...</td>\n",
       "      <td>NaN</td>\n",
       "      <td>Raisins can go to hell</td>\n",
       "      <td>White and gold</td>\n",
       "      <td>NaN</td>\n",
       "      <td>Sunday</td>\n",
       "      <td>NaN</td>\n",
       "      <td>1.0</td>\n",
       "      <td>NaN</td>\n",
       "      <td>NaN</td>\n",
       "      <td>(75, 23)</td>\n",
       "    </tr>\n",
       "    <tr>\n",
       "      <th>4</th>\n",
       "      <td>90272841</td>\n",
       "      <td>0</td>\n",
       "      <td>Male</td>\n",
       "      <td>23</td>\n",
       "      <td>usa</td>\n",
       "      <td>exton pa</td>\n",
       "      <td>JOY</td>\n",
       "      <td>DESPAIR</td>\n",
       "      <td>JOY</td>\n",
       "      <td>DESPAIR</td>\n",
       "      <td>...</td>\n",
       "      <td>NaN</td>\n",
       "      <td>NaN</td>\n",
       "      <td>White and gold</td>\n",
       "      <td>NaN</td>\n",
       "      <td>Friday</td>\n",
       "      <td>NaN</td>\n",
       "      <td>1.0</td>\n",
       "      <td>NaN</td>\n",
       "      <td>NaN</td>\n",
       "      <td>(70, 10)</td>\n",
       "    </tr>\n",
       "  </tbody>\n",
       "</table>\n",
       "<p>5 rows × 120 columns</p>\n",
       "</div>"
      ],
      "text/plain": [
       "   Internal ID  Q1: GOING OUT? Q2: GENDER Q3: AGE Q4: COUNTRY  \\\n",
       "0     90258773               0        NaN     NaN         NaN   \n",
       "1     90272821               0       Male      44        USA    \n",
       "2     90272829               0       Male      49         USA   \n",
       "3     90272840               0       Male      40          us   \n",
       "4     90272841               0       Male      23         usa   \n",
       "\n",
       "  Q5: STATE, PROVINCE, COUNTY, ETC Q6 | 100 Grand Bar  \\\n",
       "0                              NaN                NaN   \n",
       "1                               NM                MEH   \n",
       "2                         Virginia                NaN   \n",
       "3                               or                MEH   \n",
       "4                         exton pa                JOY   \n",
       "\n",
       "  Q6 | Anonymous brown globs that come in black and orange wrappers\\t(a.k.a. Mary Janes)  \\\n",
       "0                                                NaN                                       \n",
       "1                                            DESPAIR                                       \n",
       "2                                                NaN                                       \n",
       "3                                            DESPAIR                                       \n",
       "4                                            DESPAIR                                       \n",
       "\n",
       "  Q6 | Any full-sized candy bar Q6 | Black Jacks  ... Q8: DESPAIR OTHER  \\\n",
       "0                           NaN              NaN  ...               NaN   \n",
       "1                           JOY              MEH  ...               NaN   \n",
       "2                           NaN              NaN  ...               NaN   \n",
       "3                           JOY              MEH  ...               NaN   \n",
       "4                           JOY          DESPAIR  ...               NaN   \n",
       "\n",
       "                                  Q9: OTHER COMMENTS      Q10: DRESS  \\\n",
       "0                                                NaN             NaN   \n",
       "1  Bottom line is Twix is really the only candy w...  White and gold   \n",
       "2                                                NaN             NaN   \n",
       "3                             Raisins can go to hell  White and gold   \n",
       "4                                                NaN  White and gold   \n",
       "\n",
       "  Unnamed: 113 Q11: DAY Q12: MEDIA [Daily Dish] Q12: MEDIA [Science]  \\\n",
       "0          NaN      NaN                     NaN                  NaN   \n",
       "1          NaN   Sunday                     NaN                  1.0   \n",
       "2          NaN      NaN                     NaN                  NaN   \n",
       "3          NaN   Sunday                     NaN                  1.0   \n",
       "4          NaN   Friday                     NaN                  1.0   \n",
       "\n",
       "  Q12: MEDIA [ESPN] Q12: MEDIA [Yahoo] Click Coordinates (x, y)  \n",
       "0               NaN                NaN                      NaN  \n",
       "1               NaN                NaN                 (84, 25)  \n",
       "2               NaN                NaN                      NaN  \n",
       "3               NaN                NaN                 (75, 23)  \n",
       "4               NaN                NaN                 (70, 10)  \n",
       "\n",
       "[5 rows x 120 columns]"
      ]
     },
     "execution_count": 430,
     "metadata": {},
     "output_type": "execute_result"
    }
   ],
   "source": [
    "df[field].fillna('No', inplace=True)\n",
    "\n",
    "df[field]=df[field].replace('(?i)No',0, regex=True)\n",
    "df[field]=df[field].replace('(?i)Yes',1, regex=True)\n",
    "\n",
    "df.head()"
   ]
  },
  {
   "cell_type": "code",
   "execution_count": 431,
   "metadata": {},
   "outputs": [
    {
     "data": {
      "text/plain": [
       "(2460, 120)"
      ]
     },
     "execution_count": 431,
     "metadata": {},
     "output_type": "execute_result"
    }
   ],
   "source": [
    "df.shape"
   ]
  },
  {
   "cell_type": "code",
   "execution_count": 432,
   "metadata": {},
   "outputs": [
    {
     "name": "stdout",
     "output_type": "stream",
     "text": [
      "\n",
      "\n",
      "Cleanup of 'Q1: GOING OUT?' field done: Unique values in field -\n",
      "[0 1]\n"
     ]
    }
   ],
   "source": [
    "print(\"\\n\\nCleanup of '%s' field done: Unique values in field -\"%field)\n",
    "print(df[field].unique())"
   ]
  },
  {
   "cell_type": "markdown",
   "metadata": {},
   "source": [
    "### Q2:"
   ]
  },
  {
   "cell_type": "code",
   "execution_count": 433,
   "metadata": {},
   "outputs": [],
   "source": [
    "# field = input(\"Enter column name you want to clean for %s: \"%year)\n",
    "field='Q2: GENDER'\n",
    "# field='Your gender:'"
   ]
  },
  {
   "cell_type": "code",
   "execution_count": 434,
   "metadata": {},
   "outputs": [],
   "source": [
    "def sort(s):\n",
    "    for i in range(1, len(s)):\n",
    "        temp = s[i]\n",
    "        j = i - 1\n",
    "        while j >= 0 and len(temp) < len(s[j]): \n",
    "            s[j + 1] = s[j] \n",
    "            j -= 1\n",
    "  \n",
    "        s[j + 1] = temp"
   ]
  },
  {
   "cell_type": "code",
   "execution_count": 435,
   "metadata": {},
   "outputs": [
    {
     "data": {
      "text/plain": [
       "array(['Male', 'Other', 'Female', \"I'd rather not say\"], dtype=object)"
      ]
     },
     "execution_count": 435,
     "metadata": {},
     "output_type": "execute_result"
    }
   ],
   "source": [
    "df[field].fillna(\"I'd rather not say\", inplace=True)\n",
    "genders=df[field].unique()\n",
    "sort(genders)\n",
    "genders"
   ]
  },
  {
   "cell_type": "code",
   "execution_count": 436,
   "metadata": {},
   "outputs": [
    {
     "data": {
      "text/html": [
       "<div>\n",
       "<style scoped>\n",
       "    .dataframe tbody tr th:only-of-type {\n",
       "        vertical-align: middle;\n",
       "    }\n",
       "\n",
       "    .dataframe tbody tr th {\n",
       "        vertical-align: top;\n",
       "    }\n",
       "\n",
       "    .dataframe thead th {\n",
       "        text-align: right;\n",
       "    }\n",
       "</style>\n",
       "<table border=\"1\" class=\"dataframe\">\n",
       "  <thead>\n",
       "    <tr style=\"text-align: right;\">\n",
       "      <th></th>\n",
       "      <th>Internal ID</th>\n",
       "      <th>Q1: GOING OUT?</th>\n",
       "      <th>Q2: GENDER</th>\n",
       "      <th>Q3: AGE</th>\n",
       "      <th>Q4: COUNTRY</th>\n",
       "      <th>Q5: STATE, PROVINCE, COUNTY, ETC</th>\n",
       "      <th>Q6 | 100 Grand Bar</th>\n",
       "      <th>Q6 | Anonymous brown globs that come in black and orange wrappers\t(a.k.a. Mary Janes)</th>\n",
       "      <th>Q6 | Any full-sized candy bar</th>\n",
       "      <th>Q6 | Black Jacks</th>\n",
       "      <th>...</th>\n",
       "      <th>Q8: DESPAIR OTHER</th>\n",
       "      <th>Q9: OTHER COMMENTS</th>\n",
       "      <th>Q10: DRESS</th>\n",
       "      <th>Unnamed: 113</th>\n",
       "      <th>Q11: DAY</th>\n",
       "      <th>Q12: MEDIA [Daily Dish]</th>\n",
       "      <th>Q12: MEDIA [Science]</th>\n",
       "      <th>Q12: MEDIA [ESPN]</th>\n",
       "      <th>Q12: MEDIA [Yahoo]</th>\n",
       "      <th>Click Coordinates (x, y)</th>\n",
       "    </tr>\n",
       "  </thead>\n",
       "  <tbody>\n",
       "    <tr>\n",
       "      <th>0</th>\n",
       "      <td>90258773</td>\n",
       "      <td>0</td>\n",
       "      <td>Unspecified</td>\n",
       "      <td>NaN</td>\n",
       "      <td>NaN</td>\n",
       "      <td>NaN</td>\n",
       "      <td>NaN</td>\n",
       "      <td>NaN</td>\n",
       "      <td>NaN</td>\n",
       "      <td>NaN</td>\n",
       "      <td>...</td>\n",
       "      <td>NaN</td>\n",
       "      <td>NaN</td>\n",
       "      <td>NaN</td>\n",
       "      <td>NaN</td>\n",
       "      <td>NaN</td>\n",
       "      <td>NaN</td>\n",
       "      <td>NaN</td>\n",
       "      <td>NaN</td>\n",
       "      <td>NaN</td>\n",
       "      <td>NaN</td>\n",
       "    </tr>\n",
       "    <tr>\n",
       "      <th>1</th>\n",
       "      <td>90272821</td>\n",
       "      <td>0</td>\n",
       "      <td>Male</td>\n",
       "      <td>44</td>\n",
       "      <td>USA</td>\n",
       "      <td>NM</td>\n",
       "      <td>MEH</td>\n",
       "      <td>DESPAIR</td>\n",
       "      <td>JOY</td>\n",
       "      <td>MEH</td>\n",
       "      <td>...</td>\n",
       "      <td>NaN</td>\n",
       "      <td>Bottom line is Twix is really the only candy w...</td>\n",
       "      <td>White and gold</td>\n",
       "      <td>NaN</td>\n",
       "      <td>Sunday</td>\n",
       "      <td>NaN</td>\n",
       "      <td>1.0</td>\n",
       "      <td>NaN</td>\n",
       "      <td>NaN</td>\n",
       "      <td>(84, 25)</td>\n",
       "    </tr>\n",
       "    <tr>\n",
       "      <th>2</th>\n",
       "      <td>90272829</td>\n",
       "      <td>0</td>\n",
       "      <td>Male</td>\n",
       "      <td>49</td>\n",
       "      <td>USA</td>\n",
       "      <td>Virginia</td>\n",
       "      <td>NaN</td>\n",
       "      <td>NaN</td>\n",
       "      <td>NaN</td>\n",
       "      <td>NaN</td>\n",
       "      <td>...</td>\n",
       "      <td>NaN</td>\n",
       "      <td>NaN</td>\n",
       "      <td>NaN</td>\n",
       "      <td>NaN</td>\n",
       "      <td>NaN</td>\n",
       "      <td>NaN</td>\n",
       "      <td>NaN</td>\n",
       "      <td>NaN</td>\n",
       "      <td>NaN</td>\n",
       "      <td>NaN</td>\n",
       "    </tr>\n",
       "    <tr>\n",
       "      <th>3</th>\n",
       "      <td>90272840</td>\n",
       "      <td>0</td>\n",
       "      <td>Male</td>\n",
       "      <td>40</td>\n",
       "      <td>us</td>\n",
       "      <td>or</td>\n",
       "      <td>MEH</td>\n",
       "      <td>DESPAIR</td>\n",
       "      <td>JOY</td>\n",
       "      <td>MEH</td>\n",
       "      <td>...</td>\n",
       "      <td>NaN</td>\n",
       "      <td>Raisins can go to hell</td>\n",
       "      <td>White and gold</td>\n",
       "      <td>NaN</td>\n",
       "      <td>Sunday</td>\n",
       "      <td>NaN</td>\n",
       "      <td>1.0</td>\n",
       "      <td>NaN</td>\n",
       "      <td>NaN</td>\n",
       "      <td>(75, 23)</td>\n",
       "    </tr>\n",
       "    <tr>\n",
       "      <th>4</th>\n",
       "      <td>90272841</td>\n",
       "      <td>0</td>\n",
       "      <td>Male</td>\n",
       "      <td>23</td>\n",
       "      <td>usa</td>\n",
       "      <td>exton pa</td>\n",
       "      <td>JOY</td>\n",
       "      <td>DESPAIR</td>\n",
       "      <td>JOY</td>\n",
       "      <td>DESPAIR</td>\n",
       "      <td>...</td>\n",
       "      <td>NaN</td>\n",
       "      <td>NaN</td>\n",
       "      <td>White and gold</td>\n",
       "      <td>NaN</td>\n",
       "      <td>Friday</td>\n",
       "      <td>NaN</td>\n",
       "      <td>1.0</td>\n",
       "      <td>NaN</td>\n",
       "      <td>NaN</td>\n",
       "      <td>(70, 10)</td>\n",
       "    </tr>\n",
       "  </tbody>\n",
       "</table>\n",
       "<p>5 rows × 120 columns</p>\n",
       "</div>"
      ],
      "text/plain": [
       "   Internal ID  Q1: GOING OUT?   Q2: GENDER Q3: AGE Q4: COUNTRY  \\\n",
       "0     90258773               0  Unspecified     NaN         NaN   \n",
       "1     90272821               0         Male      44        USA    \n",
       "2     90272829               0         Male      49         USA   \n",
       "3     90272840               0         Male      40          us   \n",
       "4     90272841               0         Male      23         usa   \n",
       "\n",
       "  Q5: STATE, PROVINCE, COUNTY, ETC Q6 | 100 Grand Bar  \\\n",
       "0                              NaN                NaN   \n",
       "1                               NM                MEH   \n",
       "2                         Virginia                NaN   \n",
       "3                               or                MEH   \n",
       "4                         exton pa                JOY   \n",
       "\n",
       "  Q6 | Anonymous brown globs that come in black and orange wrappers\\t(a.k.a. Mary Janes)  \\\n",
       "0                                                NaN                                       \n",
       "1                                            DESPAIR                                       \n",
       "2                                                NaN                                       \n",
       "3                                            DESPAIR                                       \n",
       "4                                            DESPAIR                                       \n",
       "\n",
       "  Q6 | Any full-sized candy bar Q6 | Black Jacks  ... Q8: DESPAIR OTHER  \\\n",
       "0                           NaN              NaN  ...               NaN   \n",
       "1                           JOY              MEH  ...               NaN   \n",
       "2                           NaN              NaN  ...               NaN   \n",
       "3                           JOY              MEH  ...               NaN   \n",
       "4                           JOY          DESPAIR  ...               NaN   \n",
       "\n",
       "                                  Q9: OTHER COMMENTS      Q10: DRESS  \\\n",
       "0                                                NaN             NaN   \n",
       "1  Bottom line is Twix is really the only candy w...  White and gold   \n",
       "2                                                NaN             NaN   \n",
       "3                             Raisins can go to hell  White and gold   \n",
       "4                                                NaN  White and gold   \n",
       "\n",
       "  Unnamed: 113 Q11: DAY Q12: MEDIA [Daily Dish] Q12: MEDIA [Science]  \\\n",
       "0          NaN      NaN                     NaN                  NaN   \n",
       "1          NaN   Sunday                     NaN                  1.0   \n",
       "2          NaN      NaN                     NaN                  NaN   \n",
       "3          NaN   Sunday                     NaN                  1.0   \n",
       "4          NaN   Friday                     NaN                  1.0   \n",
       "\n",
       "  Q12: MEDIA [ESPN] Q12: MEDIA [Yahoo] Click Coordinates (x, y)  \n",
       "0               NaN                NaN                      NaN  \n",
       "1               NaN                NaN                 (84, 25)  \n",
       "2               NaN                NaN                      NaN  \n",
       "3               NaN                NaN                 (75, 23)  \n",
       "4               NaN                NaN                 (70, 10)  \n",
       "\n",
       "[5 rows x 120 columns]"
      ]
     },
     "execution_count": 436,
     "metadata": {},
     "output_type": "execute_result"
    }
   ],
   "source": [
    "for g in genders:\n",
    "    if len(g)<7:\n",
    "        df[field]=df[field].replace('(?i)'+g, g, regex=True)\n",
    "    else:\n",
    "        df[field]=df[field].replace('(?i)'+g, 'Unspecified', regex=True)\n",
    "\n",
    "df.head()"
   ]
  },
  {
   "cell_type": "code",
   "execution_count": 437,
   "metadata": {},
   "outputs": [
    {
     "name": "stdout",
     "output_type": "stream",
     "text": [
      "\n",
      "Cleanup of 'Q2: GENDER' field done: Unique values in field -\n",
      "['Unspecified' 'Male' 'Female' 'Other']\n"
     ]
    }
   ],
   "source": [
    "print(\"\\nCleanup of '%s' field done: Unique values in field -\"%field)\n",
    "print(df[field].unique())"
   ]
  },
  {
   "cell_type": "markdown",
   "metadata": {},
   "source": [
    "### Q3:"
   ]
  },
  {
   "cell_type": "code",
   "execution_count": 438,
   "metadata": {},
   "outputs": [],
   "source": [
    "# field = input(\"Enter column name you want to clean for %s: \"%year)\n",
    "field='Q3: AGE'\n",
    "# field='How old are you?'"
   ]
  },
  {
   "cell_type": "code",
   "execution_count": 439,
   "metadata": {},
   "outputs": [
    {
     "name": "stdout",
     "output_type": "stream",
     "text": [
      "{'int': 2434, 'string': 24, 'float': 2}\n",
      "[203, 217, 247, 275, 325, 343, 347, 379, 388, 414, 415, 433, 446, 492, 612, 627, 638, 705, 710, 841, 877, 902, 922, 934, 943, 954, 1054, 1146, 1230, 1246, 1256, 1308, 1338, 1371, 1391, 1469, 1479, 1490, 1550, 1551, 1556, 1674, 1845, 1859, 1892, 1928, 2212, 2214, 2294, 2311, 2347, 2364, 2413, 2414, 2449]\n"
     ]
    }
   ],
   "source": [
    "df[field].fillna(999, inplace=True)\n",
    "x={'int':0,'string':0, 'float':0}\n",
    "drop_indices=[]\n",
    "\n",
    "for i in range(df.shape[0]):\n",
    "    if type(df.loc[i,field])==int:\n",
    "        x['int']+=1\n",
    "        if df.loc[i,field]>110:\n",
    "            df.loc[i,field]=np.nan    \n",
    "        elif df.loc[i,field]<13:\n",
    "            drop_indices.append(i)\n",
    "            \n",
    "    elif type(df.loc[i,field])==str:\n",
    "        x['string']+=1\n",
    "        df.loc[i,field]=np.nan\n",
    "        drop_indices.append(i)\n",
    "    elif type(df.loc[i,field])==float:\n",
    "        x['float']+=1\n",
    "        df.loc[i,field]=round(df.loc[i,field])\n",
    "    else:\n",
    "        print('None')\n",
    "print(x)\n",
    "print(drop_indices)"
   ]
  },
  {
   "cell_type": "code",
   "execution_count": 440,
   "metadata": {},
   "outputs": [],
   "source": [
    "df=df.drop(drop_indices, axis=0).reset_index().drop('index',axis=1)"
   ]
  },
  {
   "cell_type": "code",
   "execution_count": 441,
   "metadata": {},
   "outputs": [
    {
     "data": {
      "text/html": [
       "<div>\n",
       "<style scoped>\n",
       "    .dataframe tbody tr th:only-of-type {\n",
       "        vertical-align: middle;\n",
       "    }\n",
       "\n",
       "    .dataframe tbody tr th {\n",
       "        vertical-align: top;\n",
       "    }\n",
       "\n",
       "    .dataframe thead th {\n",
       "        text-align: right;\n",
       "    }\n",
       "</style>\n",
       "<table border=\"1\" class=\"dataframe\">\n",
       "  <thead>\n",
       "    <tr style=\"text-align: right;\">\n",
       "      <th></th>\n",
       "      <th>Internal ID</th>\n",
       "      <th>Q1: GOING OUT?</th>\n",
       "      <th>Q2: GENDER</th>\n",
       "      <th>Q3: AGE</th>\n",
       "      <th>Q4: COUNTRY</th>\n",
       "      <th>Q5: STATE, PROVINCE, COUNTY, ETC</th>\n",
       "      <th>Q6 | 100 Grand Bar</th>\n",
       "      <th>Q6 | Anonymous brown globs that come in black and orange wrappers\t(a.k.a. Mary Janes)</th>\n",
       "      <th>Q6 | Any full-sized candy bar</th>\n",
       "      <th>Q6 | Black Jacks</th>\n",
       "      <th>...</th>\n",
       "      <th>Q8: DESPAIR OTHER</th>\n",
       "      <th>Q9: OTHER COMMENTS</th>\n",
       "      <th>Q10: DRESS</th>\n",
       "      <th>Unnamed: 113</th>\n",
       "      <th>Q11: DAY</th>\n",
       "      <th>Q12: MEDIA [Daily Dish]</th>\n",
       "      <th>Q12: MEDIA [Science]</th>\n",
       "      <th>Q12: MEDIA [ESPN]</th>\n",
       "      <th>Q12: MEDIA [Yahoo]</th>\n",
       "      <th>Click Coordinates (x, y)</th>\n",
       "    </tr>\n",
       "  </thead>\n",
       "  <tbody>\n",
       "    <tr>\n",
       "      <th>0</th>\n",
       "      <td>90258773</td>\n",
       "      <td>0</td>\n",
       "      <td>Unspecified</td>\n",
       "      <td>NaN</td>\n",
       "      <td>NaN</td>\n",
       "      <td>NaN</td>\n",
       "      <td>NaN</td>\n",
       "      <td>NaN</td>\n",
       "      <td>NaN</td>\n",
       "      <td>NaN</td>\n",
       "      <td>...</td>\n",
       "      <td>NaN</td>\n",
       "      <td>NaN</td>\n",
       "      <td>NaN</td>\n",
       "      <td>NaN</td>\n",
       "      <td>NaN</td>\n",
       "      <td>NaN</td>\n",
       "      <td>NaN</td>\n",
       "      <td>NaN</td>\n",
       "      <td>NaN</td>\n",
       "      <td>NaN</td>\n",
       "    </tr>\n",
       "    <tr>\n",
       "      <th>1</th>\n",
       "      <td>90272821</td>\n",
       "      <td>0</td>\n",
       "      <td>Male</td>\n",
       "      <td>44</td>\n",
       "      <td>USA</td>\n",
       "      <td>NM</td>\n",
       "      <td>MEH</td>\n",
       "      <td>DESPAIR</td>\n",
       "      <td>JOY</td>\n",
       "      <td>MEH</td>\n",
       "      <td>...</td>\n",
       "      <td>NaN</td>\n",
       "      <td>Bottom line is Twix is really the only candy w...</td>\n",
       "      <td>White and gold</td>\n",
       "      <td>NaN</td>\n",
       "      <td>Sunday</td>\n",
       "      <td>NaN</td>\n",
       "      <td>1.0</td>\n",
       "      <td>NaN</td>\n",
       "      <td>NaN</td>\n",
       "      <td>(84, 25)</td>\n",
       "    </tr>\n",
       "    <tr>\n",
       "      <th>2</th>\n",
       "      <td>90272829</td>\n",
       "      <td>0</td>\n",
       "      <td>Male</td>\n",
       "      <td>49</td>\n",
       "      <td>USA</td>\n",
       "      <td>Virginia</td>\n",
       "      <td>NaN</td>\n",
       "      <td>NaN</td>\n",
       "      <td>NaN</td>\n",
       "      <td>NaN</td>\n",
       "      <td>...</td>\n",
       "      <td>NaN</td>\n",
       "      <td>NaN</td>\n",
       "      <td>NaN</td>\n",
       "      <td>NaN</td>\n",
       "      <td>NaN</td>\n",
       "      <td>NaN</td>\n",
       "      <td>NaN</td>\n",
       "      <td>NaN</td>\n",
       "      <td>NaN</td>\n",
       "      <td>NaN</td>\n",
       "    </tr>\n",
       "    <tr>\n",
       "      <th>3</th>\n",
       "      <td>90272840</td>\n",
       "      <td>0</td>\n",
       "      <td>Male</td>\n",
       "      <td>40</td>\n",
       "      <td>us</td>\n",
       "      <td>or</td>\n",
       "      <td>MEH</td>\n",
       "      <td>DESPAIR</td>\n",
       "      <td>JOY</td>\n",
       "      <td>MEH</td>\n",
       "      <td>...</td>\n",
       "      <td>NaN</td>\n",
       "      <td>Raisins can go to hell</td>\n",
       "      <td>White and gold</td>\n",
       "      <td>NaN</td>\n",
       "      <td>Sunday</td>\n",
       "      <td>NaN</td>\n",
       "      <td>1.0</td>\n",
       "      <td>NaN</td>\n",
       "      <td>NaN</td>\n",
       "      <td>(75, 23)</td>\n",
       "    </tr>\n",
       "    <tr>\n",
       "      <th>4</th>\n",
       "      <td>90272841</td>\n",
       "      <td>0</td>\n",
       "      <td>Male</td>\n",
       "      <td>23</td>\n",
       "      <td>usa</td>\n",
       "      <td>exton pa</td>\n",
       "      <td>JOY</td>\n",
       "      <td>DESPAIR</td>\n",
       "      <td>JOY</td>\n",
       "      <td>DESPAIR</td>\n",
       "      <td>...</td>\n",
       "      <td>NaN</td>\n",
       "      <td>NaN</td>\n",
       "      <td>White and gold</td>\n",
       "      <td>NaN</td>\n",
       "      <td>Friday</td>\n",
       "      <td>NaN</td>\n",
       "      <td>1.0</td>\n",
       "      <td>NaN</td>\n",
       "      <td>NaN</td>\n",
       "      <td>(70, 10)</td>\n",
       "    </tr>\n",
       "  </tbody>\n",
       "</table>\n",
       "<p>5 rows × 120 columns</p>\n",
       "</div>"
      ],
      "text/plain": [
       "   Internal ID  Q1: GOING OUT?   Q2: GENDER Q3: AGE Q4: COUNTRY  \\\n",
       "0     90258773               0  Unspecified     NaN         NaN   \n",
       "1     90272821               0         Male      44        USA    \n",
       "2     90272829               0         Male      49         USA   \n",
       "3     90272840               0         Male      40          us   \n",
       "4     90272841               0         Male      23         usa   \n",
       "\n",
       "  Q5: STATE, PROVINCE, COUNTY, ETC Q6 | 100 Grand Bar  \\\n",
       "0                              NaN                NaN   \n",
       "1                               NM                MEH   \n",
       "2                         Virginia                NaN   \n",
       "3                               or                MEH   \n",
       "4                         exton pa                JOY   \n",
       "\n",
       "  Q6 | Anonymous brown globs that come in black and orange wrappers\\t(a.k.a. Mary Janes)  \\\n",
       "0                                                NaN                                       \n",
       "1                                            DESPAIR                                       \n",
       "2                                                NaN                                       \n",
       "3                                            DESPAIR                                       \n",
       "4                                            DESPAIR                                       \n",
       "\n",
       "  Q6 | Any full-sized candy bar Q6 | Black Jacks  ... Q8: DESPAIR OTHER  \\\n",
       "0                           NaN              NaN  ...               NaN   \n",
       "1                           JOY              MEH  ...               NaN   \n",
       "2                           NaN              NaN  ...               NaN   \n",
       "3                           JOY              MEH  ...               NaN   \n",
       "4                           JOY          DESPAIR  ...               NaN   \n",
       "\n",
       "                                  Q9: OTHER COMMENTS      Q10: DRESS  \\\n",
       "0                                                NaN             NaN   \n",
       "1  Bottom line is Twix is really the only candy w...  White and gold   \n",
       "2                                                NaN             NaN   \n",
       "3                             Raisins can go to hell  White and gold   \n",
       "4                                                NaN  White and gold   \n",
       "\n",
       "  Unnamed: 113 Q11: DAY Q12: MEDIA [Daily Dish] Q12: MEDIA [Science]  \\\n",
       "0          NaN      NaN                     NaN                  NaN   \n",
       "1          NaN   Sunday                     NaN                  1.0   \n",
       "2          NaN      NaN                     NaN                  NaN   \n",
       "3          NaN   Sunday                     NaN                  1.0   \n",
       "4          NaN   Friday                     NaN                  1.0   \n",
       "\n",
       "  Q12: MEDIA [ESPN] Q12: MEDIA [Yahoo] Click Coordinates (x, y)  \n",
       "0               NaN                NaN                      NaN  \n",
       "1               NaN                NaN                 (84, 25)  \n",
       "2               NaN                NaN                      NaN  \n",
       "3               NaN                NaN                 (75, 23)  \n",
       "4               NaN                NaN                 (70, 10)  \n",
       "\n",
       "[5 rows x 120 columns]"
      ]
     },
     "execution_count": 441,
     "metadata": {},
     "output_type": "execute_result"
    }
   ],
   "source": [
    "df.head()"
   ]
  },
  {
   "cell_type": "code",
   "execution_count": 442,
   "metadata": {},
   "outputs": [
    {
     "name": "stdout",
     "output_type": "stream",
     "text": [
      "\n",
      "Cleanup of 'Q3: AGE' field done: Unique values in field -\n",
      "[nan 44 49 40 23 53 33 43 56 64 37 59 48 54 36 45 25 34 35 38 58 50 47 16\n",
      " 52 63 65 41 27 31 61 46 42 62 29 39 32 28 69 67 30 22 26 51 70 24 18 19\n",
      " 57 60 66 55 72 21 68 20 71 90 13 99 88 74 102 17 15 75 14 100 76 77 73]\n"
     ]
    }
   ],
   "source": [
    "print(\"\\nCleanup of '%s' field done: Unique values in field -\"%field)\n",
    "print(df[field].unique())"
   ]
  },
  {
   "cell_type": "markdown",
   "metadata": {},
   "source": [
    "### Q4:"
   ]
  },
  {
   "cell_type": "code",
   "execution_count": 443,
   "metadata": {},
   "outputs": [],
   "source": [
    "# field=input(\"Enter Column Name for Country: \")\n",
    "cfield='Q4: COUNTRY'\n",
    "# cfield='Which country do you live in?'"
   ]
  },
  {
   "cell_type": "code",
   "execution_count": 444,
   "metadata": {},
   "outputs": [],
   "source": [
    "# First level of clean up\n",
    "df[cfield]=df[cfield].fillna('X')\n",
    "for i in range(df.shape[0]):\n",
    "    if type(df.at[i,cfield])==int:\n",
    "        df.at[i,cfield]='X'"
   ]
  },
  {
   "cell_type": "code",
   "execution_count": 445,
   "metadata": {},
   "outputs": [
    {
     "data": {
      "text/plain": [
       "array(['X', 'USA ', 'USA', 'us', 'usa', 'canada', 'Canada', 'Us', 'US',\n",
       "       'Murica', 'United States', 'uk', 'United Kingdom', 'united states',\n",
       "       'Usa', 'United States ', 'United staes',\n",
       "       'United States of America', 'UAE', 'England', 'UK', 'canada ',\n",
       "       'Mexico', 'United states', 'u.s.a.', 'USAUSAUSA', 'america',\n",
       "       'france', 'United States of America ', 'U.S.A.', 'finland',\n",
       "       'unhinged states', 'Canada ', 'united states of america',\n",
       "       'US of A', 'Unites States', 'The United States', 'Unied States',\n",
       "       'Netherlands', 'germany', 'Earth', 'U S', 'u.s.', 'U.K. ',\n",
       "       'Costa Rica', 'The United States of America', 'unite states',\n",
       "       'U.S.', 'Greece', 'USA? Hard to tell anymore..', 'usas',\n",
       "       'Pittsburgh', 'United State', 'France', 'australia', 'A', 'Can',\n",
       "       'Canae', 'Trumpistan', 'Ireland', 'United Sates', 'Korea',\n",
       "       'Australia', 'California', 'Japan', 'USa', 'South africa',\n",
       "       'I pretend to be from Canada, but I am really from the United States.',\n",
       "       'Usa ', 'Uk', 'Iceland', 'Germany', 'Canada`', 'Scotland', 'UK ',\n",
       "       'Denmark', 'United Stated', 'France ', 'Switzerland', 'UD',\n",
       "       'Scotland ', 'South Korea', 'New Jersey', 'Indonesia',\n",
       "       'United ststes', 'America', 'The Netherlands', 'United Statss',\n",
       "       'endland', 'Atlantis', 'murrika', 'USA! USA! USA!', 'USAA',\n",
       "       'united States ', 'soviet canuckistan', 'N. America', 'Singapore',\n",
       "       'USSA', 'Taiwan', 'China', 'Ireland ', 'hong kong', 'spain',\n",
       "       'Sweden', 'Hong Kong', 'U.S. ', 'CANADA', 'Narnia', 'u s a',\n",
       "       'United Statea', 'united ststes', 'United kingdom',\n",
       "       'USA USA USA!!!!', \"I don't know anymore\"], dtype=object)"
      ]
     },
     "execution_count": 445,
     "metadata": {},
     "output_type": "execute_result"
    }
   ],
   "source": [
    "countries = df[cfield].unique()\n",
    "countries"
   ]
  },
  {
   "cell_type": "code",
   "execution_count": 446,
   "metadata": {},
   "outputs": [],
   "source": [
    "usa_list=['usa','u.s.a','u.s.a.','usas','usausausa','usa! usa!','usa!!!!!!','usa usa usa!!!!','usa!','usa! usa! usa!','us of a','u s a','us','ud',\n",
    "          'u.s','u.s.','u s','usaa','ussa','u.s.a.','usa usa usa','units states','usa usa usa usa',\n",
    "          'america','murrika','n. america','murica','ahem....amerca','merica''',\n",
    "          'united states','united stated','united ststes','unite states','unite statea','the united states','united states of america','the united states of america',\n",
    "          'united staes','unied states','united sates','unites states','united stetes','united state','united statss','united statea','unhinged states','trumpistan','united  states of america',\n",
    "          'atlanta','california','alaska','new jersey','pittsburgh','the yoo ess of aaayyyyyy','the best one - usa']\n",
    "\n",
    "uk_list=['uk','u.k','u.k.','u k','united kingdom','united kindom','endland','england','scotland']\n",
    "canada_list=['canada','canae','can','canada`']\n",
    "netherland_list=['netherlands','the netherlands']\n",
    "hk_list=['hong kong']\n",
    "sa_list=['south africa']\n",
    "au_list=['australia']\n",
    "kr_list=['korea','south korea']\n",
    "sp_list=['españa']\n",
    "\n",
    "nc_list=['earth','narnia','a','subscribe to dm4uz3 on youtube',\"i don't know anymore\",'soviet canuckistan','fear and loathing','insanity lately','i pretend to be from canada, but i am really from the united states.','usa? hard to tell anymore..','the republic of cascadia','denial',\"there isn't one for old men\",\"somewhere\",\"god's country\",'eua']\n",
    "\n",
    "country_dict={'USA':usa_list,'UK':uk_list,'Canada':canada_list,'Netherlands':netherland_list,'South Africa':sa_list,'Australia':au_list,'Hong Kong':hk_list,'South Korea':kr_list,'UAE':['uae'],'Spain':sp_list,'Brazil':['brasil']}\n",
    "\n"
   ]
  },
  {
   "cell_type": "code",
   "execution_count": 447,
   "metadata": {},
   "outputs": [],
   "source": [
    "def cleanCountries(country):\n",
    "    if country!='X':\n",
    "        for key in country_dict:\n",
    "            if country.lower().strip() in country_dict[key]:\n",
    "                return key\n",
    "        if country.lower().strip() in nc_list:\n",
    "            return 'X'\n",
    "        return country.title().strip()\n",
    "    return country"
   ]
  },
  {
   "cell_type": "code",
   "execution_count": 448,
   "metadata": {},
   "outputs": [],
   "source": [
    "df[cfield]=df[cfield].apply(cleanCountries)\n",
    "df[cfield]=df[cfield].replace('X',np.nan)"
   ]
  },
  {
   "cell_type": "code",
   "execution_count": 449,
   "metadata": {},
   "outputs": [
    {
     "data": {
      "text/plain": [
       "array([nan, 'USA', 'Canada', 'UK', 'UAE', 'Mexico', 'France', 'Finland',\n",
       "       'Netherlands', 'Germany', 'Costa Rica', 'Greece', 'Australia',\n",
       "       'Ireland', 'South Korea', 'Japan', 'South Africa', 'Iceland',\n",
       "       'Denmark', 'Switzerland', 'Indonesia', 'Atlantis', 'Singapore',\n",
       "       'Taiwan', 'China', 'Hong Kong', 'Spain', 'Sweden'], dtype=object)"
      ]
     },
     "execution_count": 449,
     "metadata": {},
     "output_type": "execute_result"
    }
   ],
   "source": [
    "countriesn = df[cfield].unique()\n",
    "# sort(countriesn)\n",
    "countriesn"
   ]
  },
  {
   "cell_type": "code",
   "execution_count": 450,
   "metadata": {},
   "outputs": [
    {
     "name": "stdout",
     "output_type": "stream",
     "text": [
      "\n",
      "Cleanup of 'Q4: COUNTRY' field done: Unique values in field -\n",
      "[nan 'USA' 'Canada' 'UK' 'UAE' 'Mexico' 'France' 'Finland' 'Netherlands'\n",
      " 'Germany' 'Costa Rica' 'Greece' 'Australia' 'Ireland' 'South Korea'\n",
      " 'Japan' 'South Africa' 'Iceland' 'Denmark' 'Switzerland' 'Indonesia'\n",
      " 'Atlantis' 'Singapore' 'Taiwan' 'China' 'Hong Kong' 'Spain' 'Sweden']\n"
     ]
    }
   ],
   "source": [
    "print(\"\\nCleanup of '%s' field done: Unique values in field -\"%cfield)\n",
    "print(df[cfield].unique())"
   ]
  },
  {
   "cell_type": "markdown",
   "metadata": {},
   "source": [
    "### Q5:"
   ]
  },
  {
   "cell_type": "code",
   "execution_count": 451,
   "metadata": {},
   "outputs": [],
   "source": [
    "# field=input(\"Enter Column Number for State: \")\n",
    "sfield='Q5: STATE, PROVINCE, COUNTY, ETC'\n",
    "# sfield='Which state, province, county do you live in?'"
   ]
  },
  {
   "cell_type": "code",
   "execution_count": 452,
   "metadata": {},
   "outputs": [
    {
     "data": {
      "text/plain": [
       "array([nan, 'NM', 'Virginia', 'or', 'exton pa', 'Colorado ', 'ontario',\n",
       "       'Ontario', 'Wa', 'Quebec', 'NY', 'California', 'Texas', 'NEW YORK',\n",
       "       'CO', 'IN', 'MN', 'aberdeenshire', 'Alberta', 'Wisconsin, 53705',\n",
       "       'RI', 'NC', 'Scotland', 'minnesota', 'Michigan', 'Florida',\n",
       "       'New Jersey', 'VA', 'Colorado', 'Los Angeles, California', 'CA',\n",
       "       'New York ', 'Chicago, Illinois', 'Nj', 'Wisconsin', 'Minnesota ',\n",
       "       'London', 'mn', 'TEXAS', 'Illinois', 'District of Columbia',\n",
       "       'Washington', 'Massachusetts ', 'OR', 'Montana', 'New York',\n",
       "       'massachusetts', 'Abu Dhabi', 'TX', 'Arizona', 'Dc', 'yukon',\n",
       "       'Pennsylvania ', 'MD', 'Ohio', 'Alberta ', 'OXFORDSHIRE', 'DC',\n",
       "       'Iowa', 'Mn', 'TN', 'BC', 'Maryland', 'MI', 'Wisconsin ', 'alaska',\n",
       "       'Ny', 'Colorado, Jefferson county ', 'Louisiana', 'pa',\n",
       "       'CO, Larimer County', 'Nebraska ', 'Oregon', 'UT', 'ny',\n",
       "       'Pennsylvania', 'CDMX', 'north carolina', 'Tennessee ', 'Texas ',\n",
       "       'Knox county, Tennessee', 'New Mexico', 'Maine', 'maine',\n",
       "       'Virginia, Arlington', 'WA', 'MO', 'Illinois ', 'Mi', 'MA',\n",
       "       'Alaska', 'New York, NY', 'Il', 'PA', 'New Hampshire ',\n",
       "       'Washington ', 'Massachusetts', 'Georgia', 'IL', 'Oregon ',\n",
       "       'Washington, Clark ', 'NE', 'Oklahoma', 'SC', 'Nebraska', 'mi',\n",
       "       'Nevada', 'va', 'California ', 'vancouver, bc',\n",
       "       'Oregon - but will be in Washington for Halloween', 'Ri',\n",
       "       'Washington, King', 'Ca', 'wa', 'md', 'new york', 'Rhode island',\n",
       "       'VT, Chittenden', 'North Carolina', 'pennsylvania', 'PEnnsylvania',\n",
       "       'Alabama', 'GA', 'FL, Orange County', 'Nope', 'manitoba',\n",
       "       'colorado', 'california ', 'South Carolina', 'california',\n",
       "       'Baja California', 'illinois', 'Santa Cruz County, California',\n",
       "       'MARYLAND', 'NJ', 'North Dakota',\n",
       "       'Pennsylvania, Montgomery County', 'Astoria NY', 'Michigan ', 'ca',\n",
       "       'Kansas ', 'sk', 'Missouri', 'Oxfordshire', 'West Virginia',\n",
       "       'Harris County, Texas', 'ohio', 'nc', 'Minnesota', 'Bc', 'ma',\n",
       "       'oregon', 'philadelphia', 'Kentucky', 'HI', 'South Holland',\n",
       "       'Derbyshire', 'hesse', 'Massachusetts, Plymouth county', 'hi',\n",
       "       'Cali', 'vt', 'CA, Alameda', 'Utah', 'FL',\n",
       "       'Michigan, Shiawassee County', 'Newfoundland', 'Indiana',\n",
       "       'wisconsin', 'Idaho ada', 'La', 'Hawaii', 'California, Alameda',\n",
       "       'Az', 'VT', 'AZ', 'Sub Earth', 'North dakota', 'virginia', 'Ga',\n",
       "       'alameda county, california', 'Greater London', 'bc', 'nm', 'AB',\n",
       "       'WV, Kanawha County ', 'michigan', 'Florida ', 'tx',\n",
       "       'Washington State', 'Sussex', 48, 'Washington, King County',\n",
       "       'San Jose', 'florida', 'Connecticut', 'New Jersey ', 'Orlando, FL',\n",
       "       'ON', 'Saskatchewan', 'South Carolina ', 'texas', 'newfoundland',\n",
       "       'mississippi', 'Oklahoma ', 'washington', 'Manitoba ',\n",
       "       'Manchester', 'in', 'rhode island', 'Ohio ', 'Pa', 'FL ', 'Ut',\n",
       "       'CT', 'connecticut', 'British Columbia ', 'Nunya, Bizness, USA',\n",
       "       'OH', 'Washington state', 'Oakland, California',\n",
       "       'Washington, Seattle, king', 'Ontario,  Canada', 'ri',\n",
       "       'phoenix, maricopa county, arizona', 'NS',\n",
       "       'Washington state, Kitsap County', 'oakland,ca', 'QC', 'USA',\n",
       "       'Missouri ', 'Pittsburgh pa', 'Issaquah, WA, King County ',\n",
       "       'Washington, seattle, king', 'Massachussets ',\n",
       "       'Whatcom County, WA', 'Mt', 'NH', 'Michigin', 'Ma', 'KS',\n",
       "       'Oakland County, Michigan', 'Albeqrrta', 'Marne', 'Noord-Holland',\n",
       "       'Tennessee, Knox County', 'Henrico, VA',\n",
       "       'Washington State, King County, City of Seattle', 'Washington, DC',\n",
       "       'nyc', 'Brooklyn', 'qld', 'Santa Barbara co. California',\n",
       "       'Maryland ', 'Ky', 'New Orleans la ', 'colorado, boulder', 'mo',\n",
       "       'COLORADO', 'Nh', 'Greater Manchester', 'Fife, Scotland', 'A',\n",
       "       'Co', 'Kalamazoo County, MI', 'OREGON', 'Wi', 'Ontario ', 'wv',\n",
       "       'ulster county, NY', 'NJ, Gloucester', 'calif', 'tn', 'MS', 'NB',\n",
       "       'Vermont', 'Kildare', 'Vermont ', 'ND', 'tennessee',\n",
       "       'Washington DC', 'Kings, New York ', 'Cook', 'Toronto, Ontario',\n",
       "       'Victoria', 'Virginia ', 'On', 'nova scotia', 'Tehama',\n",
       "       'suffolk county ny', 'Santa Clara County, California', 'louisiana',\n",
       "       'SD', 'Md', 'Missoure', 'IA', 'Colorado larimer county', 'Tokyo',\n",
       "       'New Mexico, USA', 'ont', 'Califor', 'Idaho', 'Kansas', 'NV',\n",
       "       'Brooklyn, kings county ny', 'King County, Washington', 'WI',\n",
       "       'Washington, Island county', 'KwaZulu-Natal', 'Carver county, MN',\n",
       "       'DUTCHESS COUNTY NY', 'Ny ', 'Wyoming ', 'Bristol ',\n",
       "       'british columbia', 'California, San Francisco',\n",
       "       'Glendora, Los Angeles, California', 'Edinburgh', 'Strathclyde',\n",
       "       'Lancasire', 'Ørbæk', 'pr', 'Idf', 'Zuid Holland', 'Osaka',\n",
       "       'Surrey', 'Northern ireland', 'Vaud', 'Arizona ', 'Nova Scotia',\n",
       "       'az', 'Midlothian', 'Tennessee', 'Durham County, North Carolina',\n",
       "       'Missouri, Miller County', 'Glasgow ', 'ct',\n",
       "       'Cuyahoga County, Ohio', 'Seoul', 'Canada', 'Kanagawa ',\n",
       "       'The Shore', 'Manitoba', 'MD ', 'Devonshire', 'Utah ', 'Tx.',\n",
       "       'maryland', 'PENNSYLVANIA', 'Jakarta', 'kansas',\n",
       "       'Mannheim, Baden-Württemberg ', 'Wyoming', 'Rotterdam', 'Ar',\n",
       "       'Arkansas', 'renton,wa ', 'N-Brabant', 'missouri', 'Georgia ',\n",
       "       'Greifswald', 'ar', 'British Columbia, Canada', 'kent', 'Hessen',\n",
       "       'NOYB', 'New york', 'South Dakota', 'British Columbia',\n",
       "       'Emerald City, Petrolia', 'New York, New York', 'wa, spokane',\n",
       "       'new york ', 'Buncombe County, North Carolina',\n",
       "       'California, San Diego', 'new hampshire',\n",
       "       'California, Ventura County', 'NY, Tompkins County', 'Nj ',\n",
       "       'Arlington, VA', 'Glasgow', 'kentucky', 'alberta', 'Philadelphia',\n",
       "       'Portland, maine', 'sc', 'nh', 'NSW', 'califormia', 'New jersey',\n",
       "       'montana', 'indiana ', 'Mexico city', 'GA - Georgia', 'il', 'WV',\n",
       "       'Oregon, Multnomah County', 'Vancouver, Wa', 'Nc', 'Atlanta, GA',\n",
       "       'Washington state ', 'Singapore', 'Kentucky ', 'west virginia',\n",
       "       'North carolina', 'KY', 'United States', 'Mo', 'Colorado (CO)',\n",
       "       'Fl', 'wyoming', 'Nm', 'Dona Ana county, New Mexico',\n",
       "       'UT, Salt Lake', 'Ks',\n",
       "       'California, Contra Costa County, Pleasant Hill', 'Vt',\n",
       "       'Monroe county', 'Hong Kong', 'Washingto', 'Dublin ',\n",
       "       'California, Mendocino County', 'na', 'madrid', 'Hesse',\n",
       "       'Noord-Brabant', 'Skane', 'Zürich', 'Tree Town, USA',\n",
       "       'New Hampshire', 'Philadelphia, PA',\n",
       "       'Bristol County, Rhode Island', 'georgia',\n",
       "       'Newfoundland and Labrador', 'Dublin', 'Oshawa, Ontario, Canada',\n",
       "       'NL', 'DC ', 'oklahoma', 'NJ; Essex', 'Va', 'Delaware', 'Mich',\n",
       "       'Ia', 'ONTARIO', 'Québec', 'orange county, ca', 'BERKELEY, CA',\n",
       "       'California, USA', 'NYC', 'St. Louis County, Missouri', 'Munster',\n",
       "       'Chicago, IL', 'Philadelphia PA', 'Rappahannock County, VA', 'OK',\n",
       "       'Chicago, IL ', 'Mexico City', 'dc', 'Illinois  ', 'WASHINGTON DC',\n",
       "       'Tn', 'Connecticut ', 'ill', 'Idaho ', 'Stockholm',\n",
       "       'New York County, New York City, New York State', 'Chicago',\n",
       "       'West Yorkshire', 'Berlin', 'arlington, va',\n",
       "       'Alaska, Matanuska-Susitna Borough', 'utah', 'Marietta, GA',\n",
       "       'Northbrook, IL', 'delaware', 'Tx', 'Ont',\n",
       "       'Northampton County, PA', 'Rhode Island',\n",
       "       'Pa.   Northampton county', 'California, San Diego county',\n",
       "       'Bloomington, IN', 'indiana', 'Quenec', 'Londom', 'nj',\n",
       "       'st. augustine florida', 'illinois ', 'iowa',\n",
       "       \"The Democratic People's Republic of North Carolina\", 'SC ',\n",
       "       'pennsylvania, northampton couny, easton', 'St Louis mo', 'mt',\n",
       "       'québec'], dtype=object)"
      ]
     },
     "execution_count": 452,
     "metadata": {},
     "output_type": "execute_result"
    }
   ],
   "source": [
    "df.loc[:,sfield].unique()"
   ]
  },
  {
   "cell_type": "code",
   "execution_count": 453,
   "metadata": {},
   "outputs": [],
   "source": [
    "state_list={\"AL\":\"Alabama\",\"AK\":\"Alaska\",\"AS\":\"American Samoa\",\"AZ\":\"Arizona\",\"AR\":\"Arkansas\",\"CA\":\"California\",\"CO\":\"Colorado\",\"CT\":\"Connecticut\",\"DE\":\"Delaware\",\"DC\":\"Dist of Columbia\",\"FL\":\"Florida\",\"GA\":\"Georgia\",\"GU\":\"Guam\",\"HI\":\"Hawaii\",\"ID\":\"Idaho\",\"IL\":\"Illinois\",\"IN\":\"Indiana\",\"IA\":\"Iowa\",\"KS\":\"Kansas\",\"KY\":\"Kentucky\",\"LA\":\"Louisiana\",\"ME\":\"Maine\",\"MD\":\"Maryland\",\"MA\":\"Massachusetts\",\"MI\":\"Michigan\",\"MN\":\"Minnesota\",\"UM\":\"Minor Outlying Islands\",\"MS\":\"Mississippi\",\"MO\":\"Missouri\",\"MT\":\"Montana\",\"NE\":\"Nebraska\",\"NV\":\"Nevada\",\"NH\":\"New Hampshire\",\"NJ\":\"New Jersey\",\"NM\":\"New Mexico\",\"NY\":\"New York\",\"NC\":\"North Carolina\",\"ND\":\"North Dakota\",\"MP\":\"Northern Mariana Islands\",\"OH\":\"Ohio\",\"OK\":\"Oklahoma\",\"OR\":\"Oregon\",\"PA\":\"Pennsylvania\",\"PR\":\"Puerto Rico\",\"RI\":\"Rhode Island\",\"SC\":\"South Carolina\",\"SD\":\"South Dakota\",\"TN\":\"Tennessee\",\"TX\":\"Texas\",\"UT\":\"Utah\",\"VT\":\"Vermont\",\"VA\":\"Virginia\",\"VI\":\"U.S. Virgin Islands\",\"WA\":\"Washington\",\"WV\":\"West Virginia\",\"WI\":\"Wisconsin\",\"WY\":\"Wyoming\"}\n"
   ]
  },
  {
   "cell_type": "code",
   "execution_count": 454,
   "metadata": {},
   "outputs": [],
   "source": [
    "for i in range(df.shape[0]):\n",
    "    if type(df.at[i,sfield])!=str:\n",
    "        if df.at[i,cfield]=='USA':\n",
    "            df.at[i,sfield]='Unspecified - US'\n",
    "        else:\n",
    "            df.at[i,sfield]='Unspecified - Non US'\n",
    "            \n",
    "        if len(df.at[i,sfield])==2:\n",
    "            df.at[i,sfield]=df.at[i,sfield].upper()\n"
   ]
  },
  {
   "cell_type": "code",
   "execution_count": 455,
   "metadata": {},
   "outputs": [],
   "source": [
    "def mapStates(state):\n",
    "\n",
    "    for key in state_list:\n",
    "        if state.lower().strip()==key or state_list[key] in state.title().strip() or key in state.upper():\n",
    "            return key.upper()\n",
    "        \n",
    "    return state"
   ]
  },
  {
   "cell_type": "code",
   "execution_count": 456,
   "metadata": {},
   "outputs": [],
   "source": [
    "df[sfield]=df.loc[:,sfield].apply(mapStates)"
   ]
  },
  {
   "cell_type": "code",
   "execution_count": 457,
   "metadata": {},
   "outputs": [
    {
     "data": {
      "text/plain": [
       "array(['Unspecified - Non US', 'NM', 'IN', 'OR', 'PA', 'CO', 'AR', 'WA',\n",
       "       'Quebec', 'NY', 'AL', 'AS', 'NE', 'MN', 'DE', 'RI', 'NC', 'GA',\n",
       "       'FL', 'VA', 'CA', 'NJ', 'ND', 'IL', 'MO', 'Abu Dhabi', 'TX', 'AZ',\n",
       "       'DC', 'yukon', 'IA', 'MD', 'HI', 'TN', 'BC', 'MI', 'UT', 'CDMX',\n",
       "       'MA', 'LA', 'SC', 'Nope', 'AK', 'Unspecified - US', 'sk', 'Bc',\n",
       "       'KY', 'hesse', 'VT', 'ID', 'bc', 'AB', 'Sussex', 'San Jose', 'ON',\n",
       "       'CT', 'OH', 'NS', 'QC', 'USA', 'MT', 'NH', 'KS', 'OK', 'qld', 'A',\n",
       "       'WI', 'WV', 'MS', 'NB', 'On', 'SD', 'ont', 'NV', 'Ørbæk', 'PR',\n",
       "       'Surrey', 'Seoul', 'Rotterdam', 'N-Brabant', 'kent', 'Hessen',\n",
       "       'NOYB', 'NSW', 'United States', 'Hong Kong', 'na', 'Hesse',\n",
       "       'Tree Town, USA', 'NL', 'Québec', 'Munster', 'Stockholm', 'Ont',\n",
       "       'québec'], dtype=object)"
      ]
     },
     "execution_count": 457,
     "metadata": {},
     "output_type": "execute_result"
    }
   ],
   "source": [
    "df[sfield].unique()"
   ]
  },
  {
   "cell_type": "code",
   "execution_count": 458,
   "metadata": {},
   "outputs": [],
   "source": [
    "drop_rows=[]\n",
    "found_state=False\n",
    "for i in range(df.shape[0]):\n",
    "    if (len(df.loc[i,sfield])==2 and df.loc[i,sfield].isupper()) or (df.loc[i,sfield].startswith('Unspecified')):\n",
    "        continue\n",
    "    else:\n",
    "        \n",
    "        if df.loc[i,sfield].lower().strip() in usa_list and df.loc[i,cfield]=='USA':\n",
    "            df.loc[i,sfield] = 'Unspecified - US'\n",
    "        elif df.loc[i,cfield]!='USA':\n",
    "            drop_rows.append(i)\n",
    "        else:\n",
    "            df.loc[i,sfield]=np.nan\n",
    "#         elif(',' in df.loc[i,sfield]):\n",
    "#             tokens=df.loc[i,sfield].split(',')\n",
    "#             for token in tokens:\n",
    "#                 if token.lower().strip() in usa_list:\n",
    "#                     df.loc[i,sfield] = 'Unspecified - US'\n",
    "#                     found_state=True\n",
    "#             if found_state!=True:\n",
    "#                 drop_rows.append(i)\n",
    "#         elif(len(df.loc[i,sfield])!=2) or ~(df.loc[i,sfield].startswith('Unspecified')):\n",
    "#             drop_rows.append(i)\n",
    "    "
   ]
  },
  {
   "cell_type": "code",
   "execution_count": 459,
   "metadata": {},
   "outputs": [],
   "source": [
    "for i in drop_rows:\n",
    "    df.loc[i,sfield]='Unspecified - Non US'"
   ]
  },
  {
   "cell_type": "code",
   "execution_count": 460,
   "metadata": {},
   "outputs": [
    {
     "name": "stdout",
     "output_type": "stream",
     "text": [
      "\n",
      "Cleanup of 'Q5: STATE, PROVINCE, COUNTY, ETC' field done: Unique values in field -\n",
      "['Unspecified - Non US' 'NM' 'IN' 'OR' 'PA' 'CO' 'AR' 'WA' 'NY' 'AL' 'AS'\n",
      " 'NE' 'MN' 'DE' 'RI' 'NC' 'GA' 'FL' 'VA' 'CA' 'NJ' 'ND' 'IL' 'MO' 'TX'\n",
      " 'AZ' 'DC' 'IA' 'MD' 'HI' 'TN' 'BC' 'MI' 'UT' 'MA' 'LA' 'SC' 'AK'\n",
      " 'Unspecified - US' 'KY' 'VT' 'ID' 'AB' 'ON' 'CT' 'OH' 'NS' 'QC' 'MT' 'NH'\n",
      " 'KS' 'OK' 'WI' 'WV' 'MS' 'NB' 'SD' 'NV' 'PR' nan 'NL']\n"
     ]
    }
   ],
   "source": [
    "print(\"\\nCleanup of '%s' field done: Unique values in field -\"%sfield)\n",
    "print(df[sfield].unique())"
   ]
  },
  {
   "cell_type": "markdown",
   "metadata": {},
   "source": [
    "### Q6:"
   ]
  },
  {
   "cell_type": "code",
   "execution_count": 461,
   "metadata": {},
   "outputs": [],
   "source": [
    "# start=int(input(\"Enter starting column number for Candy data: \"))\n",
    "# end=int(input(\"Enter ending column number for Candy data: \"))\n",
    "\n",
    "start=6\n",
    "end=109"
   ]
  },
  {
   "cell_type": "code",
   "execution_count": 462,
   "metadata": {},
   "outputs": [
    {
     "data": {
      "text/plain": [
       "(2405, 120)"
      ]
     },
     "execution_count": 462,
     "metadata": {},
     "output_type": "execute_result"
    }
   ],
   "source": [
    "df.shape"
   ]
  },
  {
   "cell_type": "code",
   "execution_count": 463,
   "metadata": {},
   "outputs": [],
   "source": [
    "drop_records=[]\n",
    "for i in range(df.shape[0]):\n",
    "    if df.iloc[i,start:end].isnull().values.all():\n",
    "        drop_records.append(i)\n",
    "\n",
    "df.drop(drop_records, inplace=True)"
   ]
  },
  {
   "cell_type": "code",
   "execution_count": 464,
   "metadata": {},
   "outputs": [
    {
     "data": {
      "text/plain": [
       "False"
      ]
     },
     "execution_count": 464,
     "metadata": {},
     "output_type": "execute_result"
    }
   ],
   "source": [
    "df.iloc[874,start:end].isnull().values.all()"
   ]
  },
  {
   "cell_type": "code",
   "execution_count": 465,
   "metadata": {},
   "outputs": [
    {
     "data": {
      "text/plain": [
       "(1759, 120)"
      ]
     },
     "execution_count": 465,
     "metadata": {},
     "output_type": "execute_result"
    }
   ],
   "source": [
    "df.shape"
   ]
  },
  {
   "cell_type": "code",
   "execution_count": 466,
   "metadata": {},
   "outputs": [
    {
     "name": "stdout",
     "output_type": "stream",
     "text": [
      "\n",
      "Records dropped where no value for candy ratings...\n"
     ]
    }
   ],
   "source": [
    "print(\"\\nRecords dropped where no value for candy ratings...\")"
   ]
  },
  {
   "cell_type": "markdown",
   "metadata": {},
   "source": [
    "### Q7:"
   ]
  },
  {
   "cell_type": "code",
   "execution_count": 467,
   "metadata": {},
   "outputs": [],
   "source": [
    "df=df.replace('DESPAIR',0)\n",
    "df=df.replace('MEH',0.5)\n",
    "df=df.replace('JOY',1)\n",
    "df=df.replace('',np.nan)"
   ]
  },
  {
   "cell_type": "code",
   "execution_count": 470,
   "metadata": {},
   "outputs": [
    {
     "name": "stdout",
     "output_type": "stream",
     "text": [
      "\n",
      "Scores assigned to Despair, Meh, Joy ratings...\n"
     ]
    }
   ],
   "source": [
    "print(\"\\nScores assigned to Despair, Meh, Joy ratings...\")"
   ]
  },
  {
   "cell_type": "markdown",
   "metadata": {},
   "source": [
    "### Q8, Q9:"
   ]
  },
  {
   "cell_type": "code",
   "execution_count": 471,
   "metadata": {},
   "outputs": [],
   "source": [
    "df.iloc[:,end]=df.iloc[:,end].apply(lambda x: x[:250] if type(x)==str else np.nan)\n",
    "df.iloc[:,end+1]=df.iloc[:,end+1].apply(lambda x: x[:250] if type(x)==str else np.nan)\n",
    "df.iloc[:,end+2]=df.iloc[:,end+2].apply(lambda x: x[:250] if type(x)==str else np.nan)"
   ]
  },
  {
   "cell_type": "code",
   "execution_count": 472,
   "metadata": {},
   "outputs": [
    {
     "name": "stdout",
     "output_type": "stream",
     "text": [
      "\n",
      "Cleanup of comment columns done...\n"
     ]
    }
   ],
   "source": [
    "print(\"\\nCleanup of comment columns done...\")"
   ]
  },
  {
   "cell_type": "code",
   "execution_count": 473,
   "metadata": {},
   "outputs": [],
   "source": [
    "df_final=df.iloc[:,:(end+3)]\n",
    "df_final.to_csv(\"output.csv\", index=False)"
   ]
  },
  {
   "cell_type": "code",
   "execution_count": 474,
   "metadata": {},
   "outputs": [
    {
     "name": "stdout",
     "output_type": "stream",
     "text": [
      "----------------------------------------End of cleanup----------------------------------------\n",
      "Output generated at output.csv\n",
      "\n",
      "----------------------------------------End of script----------------------------------------\n"
     ]
    }
   ],
   "source": [
    "print(\"----------------------------------------End of cleanup----------------------------------------\")\n",
    "print(\"Output generated at output.csv\")\n",
    "print()\n",
    "print(\"----------------------------------------End of script----------------------------------------\")"
   ]
  },
  {
   "cell_type": "code",
   "execution_count": 475,
   "metadata": {
    "scrolled": true
   },
   "outputs": [
    {
     "data": {
      "text/html": [
       "<div>\n",
       "<style scoped>\n",
       "    .dataframe tbody tr th:only-of-type {\n",
       "        vertical-align: middle;\n",
       "    }\n",
       "\n",
       "    .dataframe tbody tr th {\n",
       "        vertical-align: top;\n",
       "    }\n",
       "\n",
       "    .dataframe thead th {\n",
       "        text-align: right;\n",
       "    }\n",
       "</style>\n",
       "<table border=\"1\" class=\"dataframe\">\n",
       "  <thead>\n",
       "    <tr style=\"text-align: right;\">\n",
       "      <th></th>\n",
       "      <th>Internal ID</th>\n",
       "      <th>Q1: GOING OUT?</th>\n",
       "      <th>Q2: GENDER</th>\n",
       "      <th>Q3: AGE</th>\n",
       "      <th>Q4: COUNTRY</th>\n",
       "      <th>Q5: STATE, PROVINCE, COUNTY, ETC</th>\n",
       "      <th>Q6 | 100 Grand Bar</th>\n",
       "      <th>Q6 | Anonymous brown globs that come in black and orange wrappers\t(a.k.a. Mary Janes)</th>\n",
       "      <th>Q6 | Any full-sized candy bar</th>\n",
       "      <th>Q6 | Black Jacks</th>\n",
       "      <th>...</th>\n",
       "      <th>Q6 | Twix</th>\n",
       "      <th>Q6 | Vials of pure high fructose corn syrup, for main-lining into your vein</th>\n",
       "      <th>Q6 | Vicodin</th>\n",
       "      <th>Q6 | Whatchamacallit Bars</th>\n",
       "      <th>Q6 | White Bread</th>\n",
       "      <th>Q6 | Whole Wheat anything</th>\n",
       "      <th>Q6 | York Peppermint Patties</th>\n",
       "      <th>Q7: JOY OTHER</th>\n",
       "      <th>Q8: DESPAIR OTHER</th>\n",
       "      <th>Q9: OTHER COMMENTS</th>\n",
       "    </tr>\n",
       "  </thead>\n",
       "  <tbody>\n",
       "    <tr>\n",
       "      <th>1</th>\n",
       "      <td>90272821</td>\n",
       "      <td>0</td>\n",
       "      <td>Male</td>\n",
       "      <td>44.0</td>\n",
       "      <td>USA</td>\n",
       "      <td>NM</td>\n",
       "      <td>0.5</td>\n",
       "      <td>0.0</td>\n",
       "      <td>1.0</td>\n",
       "      <td>0.5</td>\n",
       "      <td>...</td>\n",
       "      <td>1.0</td>\n",
       "      <td>0.0</td>\n",
       "      <td>0.0</td>\n",
       "      <td>0.0</td>\n",
       "      <td>0.0</td>\n",
       "      <td>0.0</td>\n",
       "      <td>0.0</td>\n",
       "      <td>Mounds</td>\n",
       "      <td>NaN</td>\n",
       "      <td>Bottom line is Twix is really the only candy w...</td>\n",
       "    </tr>\n",
       "    <tr>\n",
       "      <th>3</th>\n",
       "      <td>90272840</td>\n",
       "      <td>0</td>\n",
       "      <td>Male</td>\n",
       "      <td>40.0</td>\n",
       "      <td>USA</td>\n",
       "      <td>OR</td>\n",
       "      <td>0.5</td>\n",
       "      <td>0.0</td>\n",
       "      <td>1.0</td>\n",
       "      <td>0.5</td>\n",
       "      <td>...</td>\n",
       "      <td>1.0</td>\n",
       "      <td>0.0</td>\n",
       "      <td>1.0</td>\n",
       "      <td>1.0</td>\n",
       "      <td>0.0</td>\n",
       "      <td>0.0</td>\n",
       "      <td>0.0</td>\n",
       "      <td>Reese's crispy crunchy bars, 5th avenue bars, ...</td>\n",
       "      <td>NaN</td>\n",
       "      <td>Raisins can go to hell</td>\n",
       "    </tr>\n",
       "    <tr>\n",
       "      <th>4</th>\n",
       "      <td>90272841</td>\n",
       "      <td>0</td>\n",
       "      <td>Male</td>\n",
       "      <td>23.0</td>\n",
       "      <td>USA</td>\n",
       "      <td>PA</td>\n",
       "      <td>1.0</td>\n",
       "      <td>0.0</td>\n",
       "      <td>1.0</td>\n",
       "      <td>0.0</td>\n",
       "      <td>...</td>\n",
       "      <td>1.0</td>\n",
       "      <td>0.5</td>\n",
       "      <td>1.0</td>\n",
       "      <td>1.0</td>\n",
       "      <td>0.0</td>\n",
       "      <td>0.0</td>\n",
       "      <td>1.0</td>\n",
       "      <td>NaN</td>\n",
       "      <td>NaN</td>\n",
       "      <td>NaN</td>\n",
       "    </tr>\n",
       "    <tr>\n",
       "      <th>5</th>\n",
       "      <td>90272852</td>\n",
       "      <td>0</td>\n",
       "      <td>Male</td>\n",
       "      <td>NaN</td>\n",
       "      <td>NaN</td>\n",
       "      <td>Unspecified - Non US</td>\n",
       "      <td>1.0</td>\n",
       "      <td>0.0</td>\n",
       "      <td>1.0</td>\n",
       "      <td>NaN</td>\n",
       "      <td>...</td>\n",
       "      <td>1.0</td>\n",
       "      <td>0.0</td>\n",
       "      <td>0.0</td>\n",
       "      <td>1.0</td>\n",
       "      <td>0.0</td>\n",
       "      <td>0.0</td>\n",
       "      <td>1.0</td>\n",
       "      <td>NaN</td>\n",
       "      <td>NaN</td>\n",
       "      <td>NaN</td>\n",
       "    </tr>\n",
       "    <tr>\n",
       "      <th>7</th>\n",
       "      <td>90272854</td>\n",
       "      <td>0</td>\n",
       "      <td>Male</td>\n",
       "      <td>33.0</td>\n",
       "      <td>Canada</td>\n",
       "      <td>AR</td>\n",
       "      <td>1.0</td>\n",
       "      <td>0.0</td>\n",
       "      <td>1.0</td>\n",
       "      <td>0.0</td>\n",
       "      <td>...</td>\n",
       "      <td>1.0</td>\n",
       "      <td>1.0</td>\n",
       "      <td>0.5</td>\n",
       "      <td>0.0</td>\n",
       "      <td>0.0</td>\n",
       "      <td>0.0</td>\n",
       "      <td>0.0</td>\n",
       "      <td>using my elbows to get in front of the little ...</td>\n",
       "      <td>when the little kids get the big chocolate bar...</td>\n",
       "      <td>first person to give out cans of beer, wins</td>\n",
       "    </tr>\n",
       "  </tbody>\n",
       "</table>\n",
       "<p>5 rows × 112 columns</p>\n",
       "</div>"
      ],
      "text/plain": [
       "   Internal ID  Q1: GOING OUT? Q2: GENDER  Q3: AGE Q4: COUNTRY  \\\n",
       "1     90272821               0       Male     44.0         USA   \n",
       "3     90272840               0       Male     40.0         USA   \n",
       "4     90272841               0       Male     23.0         USA   \n",
       "5     90272852               0       Male      NaN         NaN   \n",
       "7     90272854               0       Male     33.0      Canada   \n",
       "\n",
       "  Q5: STATE, PROVINCE, COUNTY, ETC  Q6 | 100 Grand Bar  \\\n",
       "1                               NM                 0.5   \n",
       "3                               OR                 0.5   \n",
       "4                               PA                 1.0   \n",
       "5             Unspecified - Non US                 1.0   \n",
       "7                               AR                 1.0   \n",
       "\n",
       "   Q6 | Anonymous brown globs that come in black and orange wrappers\\t(a.k.a. Mary Janes)  \\\n",
       "1                                                0.0                                        \n",
       "3                                                0.0                                        \n",
       "4                                                0.0                                        \n",
       "5                                                0.0                                        \n",
       "7                                                0.0                                        \n",
       "\n",
       "   Q6 | Any full-sized candy bar  Q6 | Black Jacks  ...  Q6 | Twix  \\\n",
       "1                            1.0               0.5  ...        1.0   \n",
       "3                            1.0               0.5  ...        1.0   \n",
       "4                            1.0               0.0  ...        1.0   \n",
       "5                            1.0               NaN  ...        1.0   \n",
       "7                            1.0               0.0  ...        1.0   \n",
       "\n",
       "   Q6 | Vials of pure high fructose corn syrup, for main-lining into your vein  \\\n",
       "1                                                0.0                             \n",
       "3                                                0.0                             \n",
       "4                                                0.5                             \n",
       "5                                                0.0                             \n",
       "7                                                1.0                             \n",
       "\n",
       "   Q6 | Vicodin  Q6 | Whatchamacallit Bars  Q6 | White Bread  \\\n",
       "1           0.0                        0.0               0.0   \n",
       "3           1.0                        1.0               0.0   \n",
       "4           1.0                        1.0               0.0   \n",
       "5           0.0                        1.0               0.0   \n",
       "7           0.5                        0.0               0.0   \n",
       "\n",
       "   Q6 | Whole Wheat anything  Q6 | York Peppermint Patties  \\\n",
       "1                        0.0                           0.0   \n",
       "3                        0.0                           0.0   \n",
       "4                        0.0                           1.0   \n",
       "5                        0.0                           1.0   \n",
       "7                        0.0                           0.0   \n",
       "\n",
       "                                       Q7: JOY OTHER  \\\n",
       "1                                             Mounds   \n",
       "3  Reese's crispy crunchy bars, 5th avenue bars, ...   \n",
       "4                                                NaN   \n",
       "5                                                NaN   \n",
       "7  using my elbows to get in front of the little ...   \n",
       "\n",
       "                                   Q8: DESPAIR OTHER  \\\n",
       "1                                                NaN   \n",
       "3                                                NaN   \n",
       "4                                                NaN   \n",
       "5                                                NaN   \n",
       "7  when the little kids get the big chocolate bar...   \n",
       "\n",
       "                                  Q9: OTHER COMMENTS  \n",
       "1  Bottom line is Twix is really the only candy w...  \n",
       "3                             Raisins can go to hell  \n",
       "4                                                NaN  \n",
       "5                                                NaN  \n",
       "7        first person to give out cans of beer, wins  \n",
       "\n",
       "[5 rows x 112 columns]"
      ]
     },
     "execution_count": 475,
     "metadata": {},
     "output_type": "execute_result"
    }
   ],
   "source": [
    "df_final.head()"
   ]
  },
  {
   "cell_type": "markdown",
   "metadata": {},
   "source": [
    "### Steps to Import Data into Database:"
   ]
  },
  {
   "cell_type": "markdown",
   "metadata": {},
   "source": [
    "1. Run Create_Candy_Table.sql to create tables.\n",
    "2. Choose CANDY_DATA table and select \"Import\".\n",
    "3. Choose the output.csv file.\n",
    "4. Click \"Next\" three times to reach the screen choosing the columns - there will be errors on datatypes etc.\n",
    "5. Select \"Position\" on the Match By drop-down at the top of the window.\n",
    "6. Verify there are no errors and click Next.\n",
    "7. Finish to see the import process starting.\n"
   ]
  },
  {
   "cell_type": "markdown",
   "metadata": {},
   "source": [
    "### <div align=\"center\">The End</div>"
   ]
  }
 ],
 "metadata": {
  "kernelspec": {
   "display_name": "Python 3",
   "language": "python",
   "name": "python3"
  },
  "language_info": {
   "codemirror_mode": {
    "name": "ipython",
    "version": 3
   },
   "file_extension": ".py",
   "mimetype": "text/x-python",
   "name": "python",
   "nbconvert_exporter": "python",
   "pygments_lexer": "ipython3",
   "version": "3.7.3"
  }
 },
 "nbformat": 4,
 "nbformat_minor": 2
}
