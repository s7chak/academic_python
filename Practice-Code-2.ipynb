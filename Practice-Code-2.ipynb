{
 "cells": [
  {
   "cell_type": "code",
   "execution_count": 1,
   "metadata": {},
   "outputs": [],
   "source": [
    "import numpy as np\n",
    "import time\n",
    "import random"
   ]
  },
  {
   "cell_type": "markdown",
   "metadata": {},
   "source": [
    "## TinyURL"
   ]
  },
  {
   "cell_type": "code",
   "execution_count": 131,
   "metadata": {},
   "outputs": [],
   "source": [
    "class Codec:\n",
    "\n",
    "    cid=0\n",
    "    digits=7\n",
    "    udict={}\n",
    "    chars='abcdefghijklmnopqrstuvwxyzABCDEFGHIJKLMNOPQRSTUVWXYZ0123456789'\n",
    "    \n",
    "    def encode(self, longUrl):\n",
    "        self.cid+=1\n",
    "        shortUrl=self.idtoShortUrl(self.cid)\n",
    "        self.udict[self.cid]=longUrl\n",
    "        return shortUrl\n",
    "        \n",
    "    \n",
    "    def decode(self, shortUrl):\n",
    "        cid=self.shortURLtoID(shortUrl)\n",
    "        return self.udict[cid]\n",
    "    \n",
    "    def idtoShortUrl(self, n):\n",
    "        shorturl=''\n",
    "        n*=62\n",
    "        while n!=0:\n",
    "            print(n,n%62, shorturl)\n",
    "            shorturl+=self.chars[n%62]\n",
    "            n = int(n/62)\n",
    "        \n",
    "#         shorturl=shorturl[::-1]\n",
    "\n",
    "        return shorturl\n",
    "\n",
    "    def shortURLtoID(self,shortURL):\n",
    "        cid = 0\n",
    "        print(\"SHORTS\",shortURL)\n",
    "        for i in range(len(shortURL)):\n",
    "            if 'a' <= shortURL[i] and shortURL[i] <= 'z':\n",
    "                cid = cid*62 + ord(shortURL[i]) - ord('a')\n",
    "            if ('A' <= shortURL[i] and shortURL[i] <= 'Z'):\n",
    "                cid = cid*62 + ord(shortURL[i]) - ord('A') + 26\n",
    "            if ('0' <= shortURL[i] and shortURL[i] <= '9'):\n",
    "                cid = cid*62 + ord(shortURL[i]) - ord('0') + 52\n",
    "        return cid\n"
   ]
  },
  {
   "cell_type": "code",
   "execution_count": 135,
   "metadata": {},
   "outputs": [
    {
     "name": "stdout",
     "output_type": "stream",
     "text": [
      "62 0 \n",
      "1 1 a\n",
      "Sortie ab\n",
      "SHORTS ab\n"
     ]
    },
    {
     "data": {
      "text/plain": [
       "'www.google.com'"
      ]
     },
     "execution_count": 135,
     "metadata": {},
     "output_type": "execute_result"
    }
   ],
   "source": [
    "x=Codec().encode('www.google.com')\n",
    "print('Sortie',x)\n",
    "Codec().decode(x)"
   ]
  },
  {
   "cell_type": "code",
   "execution_count": null,
   "metadata": {},
   "outputs": [],
   "source": []
  },
  {
   "cell_type": "markdown",
   "metadata": {},
   "source": [
    "## Minesweeper"
   ]
  },
  {
   "cell_type": "code",
   "execution_count": 246,
   "metadata": {},
   "outputs": [],
   "source": [
    "class Solution(object):\n",
    "    def updateBoard(self, board, click):\n",
    "        \n",
    "        if board[click[0]][click[1]]=='M':\n",
    "            board[click[0]][click[1]]='X'\n",
    "            return board\n",
    "        \n",
    "        queue=[click]\n",
    "        self.bfs(queue, board, click)\n",
    "        \n",
    "        return board\n",
    "        \n",
    "        \n",
    "        \n",
    "    def bfs(self, queue, grid, pos):\n",
    "        \n",
    "        if grid[pos[0]][pos[1]]=='E':\n",
    "            grid[pos[0]][pos[1]]='B'\n",
    "        \n",
    "        positions=[(1,0),(-1,0),(0,1),(0,-1),(1,1),(-1,1),(1,-1),(-1,-1)]\n",
    "        mcount=0\n",
    "        \n",
    "        for i in positions:\n",
    "            position=[pos[0]+i[0],pos[1]+i[1]]\n",
    "            if self.insideGrid(position, grid) and grid[position[0]][position[1]]=='M':\n",
    "                mcount+=1\n",
    "                \n",
    "        \n",
    "        queue.remove(pos)\n",
    "        if mcount>0:\n",
    "            grid[pos[0]][pos[1]]=str(mcount)\n",
    "        else:\n",
    "            positions.remove((1,1))\n",
    "            positions.remove((1,-1))\n",
    "            positions.remove((-1,-1))\n",
    "            positions.remove((-1,1))\n",
    "            for i in positions:\n",
    "                position=[pos[0]+i[0],pos[1]+i[1]]\n",
    "                if self.insideGrid(position, grid) and grid[position[0]][position[1]]!='B':\n",
    "                    try:\n",
    "                        int(grid[position[0]][position[1]])\n",
    "                    except:\n",
    "                        queue.append(position)\n",
    "\n",
    "        if pos==[1,1]:\n",
    "            print(grid[pos[0]][pos[1]],pos,mcount,queue)\n",
    "        \n",
    "        for q in queue:\n",
    "            return self.bfs(queue, grid, q)\n",
    "\n",
    "        return True\n",
    "    \n",
    "    \n",
    "    def insideGrid(self, pos, grid):  \n",
    "        if pos[0]<0 or pos[0]>=len(grid) or pos[1]<0 or pos[1]>=len(grid[0]):\n",
    "            return False\n",
    "        return True\n"
   ]
  },
  {
   "cell_type": "code",
   "execution_count": 247,
   "metadata": {},
   "outputs": [
    {
     "name": "stdout",
     "output_type": "stream",
     "text": [
      "1 [1, 1] 1 [[1, 1], [0, 2]]\n",
      "1 [1, 1] 1 [[0, 2]]\n"
     ]
    },
    {
     "data": {
      "text/plain": [
       "[['B', 'B', 'B', 'B', 'B', 'B', '1', 'E'],\n",
       " ['B', '1', '1', '1', 'B', 'B', '1', 'M'],\n",
       " ['1', 'E', 'M', '1', 'B', 'B', '1', '1'],\n",
       " ['M', 'E', '1', '1', 'B', 'B', 'B', 'B'],\n",
       " ['1', '1', 'B', 'B', 'B', 'B', 'B', 'B'],\n",
       " ['B', 'B', 'B', 'B', 'B', 'B', 'B', 'B'],\n",
       " ['B', '1', '2', '2', '1', 'B', 'B', 'B'],\n",
       " ['B', '1', 'M', 'M', '1', 'B', 'B', 'B']]"
      ]
     },
     "execution_count": 247,
     "metadata": {},
     "output_type": "execute_result"
    }
   ],
   "source": [
    "board=[[\"E\",\"E\",\"E\",\"E\",\"E\",\"E\",\"E\",\"E\"],[\"E\",\"E\",\"E\",\"E\",\"E\",\"E\",\"E\",\"M\"],[\"E\",\"E\",\"M\",\"E\",\"E\",\"E\",\"E\",\"E\"],[\"M\",\"E\",\"E\",\"E\",\"E\",\"E\",\"E\",\"E\"],[\"E\",\"E\",\"E\",\"E\",\"E\",\"E\",\"E\",\"E\"],[\"E\",\"E\",\"E\",\"E\",\"E\",\"E\",\"E\",\"E\"],[\"E\",\"E\",\"E\",\"E\",\"E\",\"E\",\"E\",\"E\"],[\"E\",\"E\",\"M\",\"M\",\"E\",\"E\",\"E\",\"E\"]]\n",
    "\n",
    "\n",
    "click=[0,0]\n",
    "\n",
    "Solution().updateBoard(board,click)"
   ]
  },
  {
   "cell_type": "code",
   "execution_count": null,
   "metadata": {},
   "outputs": [],
   "source": [
    "[[\"B\",\"B\",\"B\",\"B\",\"B\",\"B\",\"1\",\"E\"],\n",
    " [\"B\",\"1\",\"1\",\"1\",\"B\",\"B\",\"1\",\"M\"],\n",
    " [\"1\",\"2\",\"M\",\"1\",\"B\",\"B\",\"1\",\"1\"],\n",
    " [\"M\",\"2\",\"1\",\"1\",\"B\",\"B\",\"B\",\"B\"],\n",
    " [\"1\",\"1\",\"B\",\"B\",\"B\",\"B\",\"B\",\"B\"],\n",
    " [\"B\",\"B\",\"B\",\"B\",\"B\",\"B\",\"B\",\"B\"],\n",
    " [\"B\",\"1\",\"2\",\"2\",\"1\",\"B\",\"B\",\"B\"],\n",
    " [\"B\",\"1\",\"M\",\"M\",\"1\",\"B\",\"B\",\"B\"]]"
   ]
  },
  {
   "cell_type": "code",
   "execution_count": null,
   "metadata": {},
   "outputs": [],
   "source": []
  },
  {
   "cell_type": "markdown",
   "metadata": {},
   "source": [
    "## SQRT"
   ]
  },
  {
   "cell_type": "code",
   "execution_count": 47,
   "metadata": {},
   "outputs": [],
   "source": [
    "class Solution(object):\n",
    "    def mySqrt(self, x):\n",
    "        if x==0:\n",
    "            return 0\n",
    "        c=1\n",
    "        sq=0\n",
    "        while sq<x:\n",
    "            c+=1\n",
    "            sq=c*c\n",
    "#             print(c,sq,x)\n",
    "        if sq>x:\n",
    "            print(c-1,x)\n",
    "        else:\n",
    "            print(c,x)\n",
    "            \n",
    "            "
   ]
  },
  {
   "cell_type": "code",
   "execution_count": 120,
   "metadata": {},
   "outputs": [
    {
     "name": "stdout",
     "output_type": "stream",
     "text": [
      "14066 197867637\n"
     ]
    }
   ],
   "source": [
    "Solution().mySqrt(197867637)"
   ]
  },
  {
   "cell_type": "code",
   "execution_count": 93,
   "metadata": {},
   "outputs": [],
   "source": [
    "def sqroot(N):\n",
    "    x = 2**math.ceil(N.bit_length()/2)\n",
    "    while True:\n",
    "        y = math.floor((x + math.floor(N/x))/2)\n",
    "        print(y,x,(x + math.floor(N/x))/2)\n",
    "        if y >= x:\n",
    "            return x\n",
    "        x = y"
   ]
  },
  {
   "cell_type": "code",
   "execution_count": 98,
   "metadata": {},
   "outputs": [
    {
     "name": "stdout",
     "output_type": "stream",
     "text": [
      "11 16 11.0\n",
      "10 11 10.0\n",
      "10 10 10.0\n"
     ]
    },
    {
     "data": {
      "text/plain": [
       "10"
      ]
     },
     "execution_count": 98,
     "metadata": {},
     "output_type": "execute_result"
    }
   ],
   "source": [
    "sqroot(101)"
   ]
  },
  {
   "cell_type": "code",
   "execution_count": 83,
   "metadata": {},
   "outputs": [
    {
     "name": "stdout",
     "output_type": "stream",
     "text": [
      "8 2\n"
     ]
    },
    {
     "data": {
      "text/plain": [
       "5"
      ]
     },
     "execution_count": 83,
     "metadata": {},
     "output_type": "execute_result"
    }
   ],
   "source": [
    "N=16\n",
    "x = 2**math.ceil(N.bit_length()/2)\n",
    "print(x,math.floor(N/x))\n",
    "y = math.floor((x + math.floor(N/x))/2)\n",
    "y"
   ]
  },
  {
   "cell_type": "code",
   "execution_count": 121,
   "metadata": {},
   "outputs": [
    {
     "name": "stdout",
     "output_type": "stream",
     "text": [
      "68\n",
      "9.893384384138061e+19 1.9786768768276123e+20\n",
      "37\n"
     ]
    },
    {
     "data": {
      "text/plain": [
       "14066544980.298512"
      ]
     },
     "execution_count": 121,
     "metadata": {},
     "output_type": "execute_result"
    }
   ],
   "source": [
    "def floatSqrt(t):\n",
    "        r = t/2.0; t = float(t)\n",
    "        i = 0\n",
    "        print(r,t)\n",
    "        while i < 1000:\n",
    "            if (r+t/r)/2.0==r:\n",
    "                print(i)\n",
    "                break\n",
    "            else:\n",
    "                r = (r+t/r)/2.0\n",
    "                i += 1\n",
    "        return r\n",
    "y=197867687682761237637\n",
    "print(y.bit_length())\n",
    "anothersqrt(y)"
   ]
  },
  {
   "cell_type": "code",
   "execution_count": null,
   "metadata": {},
   "outputs": [],
   "source": []
  },
  {
   "cell_type": "markdown",
   "metadata": {},
   "source": [
    "## Implement strStr()"
   ]
  },
  {
   "cell_type": "code",
   "execution_count": 133,
   "metadata": {},
   "outputs": [],
   "source": [
    "class Solution(object):\n",
    "    def strStr(self, haystack, needle):\n",
    "        return haystack.find(needle)"
   ]
  },
  {
   "cell_type": "code",
   "execution_count": 134,
   "metadata": {},
   "outputs": [
    {
     "data": {
      "text/plain": [
       "-1"
      ]
     },
     "execution_count": 134,
     "metadata": {},
     "output_type": "execute_result"
    }
   ],
   "source": [
    "haystack='hello world! I am useless'\n",
    "needle='i'\n",
    "Solution().strStr(haystack,needle)"
   ]
  },
  {
   "cell_type": "markdown",
   "metadata": {},
   "source": [
    "## Rotate Array"
   ]
  },
  {
   "cell_type": "code",
   "execution_count": 217,
   "metadata": {},
   "outputs": [],
   "source": [
    "class Solution(object):\n",
    "    def rotate(self, nums, k):\n",
    "        for i in range(k):\n",
    "            r=nums[-1]\n",
    "            te=nums[0]\n",
    "            nums[0]=r\n",
    "            for k in range(1,len(nums)):\n",
    "                x=nums[k]\n",
    "                nums[k]=te\n",
    "                if k!=len(nums)-1:\n",
    "                    te=x\n",
    "                else:\n",
    "                    te=nums[-1]\n",
    "        return nums"
   ]
  },
  {
   "cell_type": "code",
   "execution_count": 222,
   "metadata": {},
   "outputs": [
    {
     "data": {
      "text/plain": [
       "[6, 7, 1, 2, 3, 4, 5]"
      ]
     },
     "execution_count": 222,
     "metadata": {},
     "output_type": "execute_result"
    }
   ],
   "source": [
    "nums=[1,2,3,4,5,6,7]\n",
    "k=9\n",
    "Solution().rotate(nums,k)"
   ]
  },
  {
   "cell_type": "code",
   "execution_count": 223,
   "metadata": {},
   "outputs": [],
   "source": [
    "#Reverse Approach\n",
    "\n",
    "def reverse(self, nums: List[int], start, end):\n",
    "    while start < end:\n",
    "        nums[start], nums[end] = nums[end], nums[start]\n",
    "        start += 1\n",
    "        end -= 1\n",
    "\n",
    "def rotate(self, nums: List[int], k: int) -> None:\n",
    "    size = len(nums)\n",
    "    if k > size:\n",
    "        k = k % size \n",
    "\n",
    "    self.reverse( nums, 0, size-1)\n",
    "    self.reverse( nums, 0, k-1)\n",
    "    self.reverse( nums, k, size-1)\n",
    "\n",
    "    return\n",
    "\n"
   ]
  },
  {
   "cell_type": "code",
   "execution_count": 9,
   "metadata": {},
   "outputs": [],
   "source": [
    "#Actual Rotate\n",
    "class Solution(object):\n",
    "    def cyclicRotate(self, nums, k):\n",
    "        \n",
    "        if k==0:\n",
    "            return\n",
    "        l=len(nums)\n",
    "        if k!=l:\n",
    "            k=k%l\n",
    "\n",
    "            start=0\n",
    "            i=1\n",
    "            while i<l:\n",
    "                curr=start\n",
    "                print(start)\n",
    "                prev=nums[start]\n",
    "                while True:\n",
    "                    nex=(curr+k)%l\n",
    "                    print(nex,start)\n",
    "                    temp=nums[nex]\n",
    "                    nums[nex]=prev\n",
    "                    prev=temp\n",
    "                    curr=nex\n",
    "                    if curr==start:\n",
    "                        break\n",
    "                    i+=1\n",
    "                start+=1\n",
    "                print(nums)\n",
    "            return nums\n",
    "        else:\n",
    "            return"
   ]
  },
  {
   "cell_type": "code",
   "execution_count": 10,
   "metadata": {},
   "outputs": [
    {
     "name": "stdout",
     "output_type": "stream",
     "text": [
      "0\n",
      "2 0\n",
      "4 0\n",
      "0 0\n",
      "[5, 2, 1, 4, 3, 6]\n",
      "1\n",
      "3 1\n",
      "5 1\n",
      "1 1\n",
      "[5, 6, 1, 2, 3, 4]\n",
      "2\n",
      "4 2\n",
      "0 2\n",
      "2 2\n",
      "[3, 6, 5, 2, 1, 4]\n"
     ]
    },
    {
     "data": {
      "text/plain": [
       "[3, 6, 5, 2, 1, 4]"
      ]
     },
     "execution_count": 10,
     "metadata": {},
     "output_type": "execute_result"
    }
   ],
   "source": [
    "nums=[1,2,3,4,5,6]\n",
    "k=2\n",
    "Solution().cyclicRotate(nums,k)"
   ]
  },
  {
   "cell_type": "markdown",
   "metadata": {},
   "source": [
    "## Optimal Division"
   ]
  },
  {
   "cell_type": "code",
   "execution_count": null,
   "metadata": {},
   "outputs": [],
   "source": [
    "class Solution(object):\n",
    "    def optimalDivision(self, nums):\n",
    "        \n",
    "    \n",
    "    def divide(nums):\n",
    "        div=1\n",
    "        for i in nums:\n",
    "            div/=nums\n",
    "        return 1/div\n",
    "        "
   ]
  },
  {
   "cell_type": "code",
   "execution_count": null,
   "metadata": {},
   "outputs": [],
   "source": [
    "nums=[1000,100,10,2]"
   ]
  },
  {
   "cell_type": "code",
   "execution_count": null,
   "metadata": {},
   "outputs": [],
   "source": []
  },
  {
   "cell_type": "code",
   "execution_count": null,
   "metadata": {},
   "outputs": [],
   "source": []
  },
  {
   "cell_type": "code",
   "execution_count": null,
   "metadata": {},
   "outputs": [],
   "source": []
  },
  {
   "cell_type": "code",
   "execution_count": 55,
   "metadata": {},
   "outputs": [],
   "source": [
    "class Solution(object):\n",
    "    def isPalindrome(self, s):\n",
    "        if len(s.strip())==0:\n",
    "            return True\n",
    "\n",
    "        s=s.lower()\n",
    "        x=''.join([c for c in s if ((ord(c)<58 and ord(c)>47) or (ord(c)<123 and ord(c)>96))])\n",
    "        print(x)\n",
    "        return self.checkPali(x)\n",
    "        \n",
    "    def checkPali(self, out):\n",
    "        pal=str(out)\n",
    "        rev=pal[::-1]\n",
    "        if pal==rev:\n",
    "            return True\n",
    "        return False"
   ]
  },
  {
   "cell_type": "code",
   "execution_count": 56,
   "metadata": {},
   "outputs": [
    {
     "name": "stdout",
     "output_type": "stream",
     "text": [
      "amanaplanacanalpanama\n"
     ]
    },
    {
     "data": {
      "text/plain": [
       "True"
      ]
     },
     "execution_count": 56,
     "metadata": {},
     "output_type": "execute_result"
    }
   ],
   "source": [
    "Solution().isPalindrome(\"A man, a plan, a canal: Panama\")"
   ]
  },
  {
   "cell_type": "code",
   "execution_count": null,
   "metadata": {},
   "outputs": [],
   "source": []
  },
  {
   "cell_type": "markdown",
   "metadata": {},
   "source": [
    "### Reverse Bits"
   ]
  },
  {
   "cell_type": "code",
   "execution_count": 70,
   "metadata": {},
   "outputs": [],
   "source": [
    "class Solution:\n",
    "    def reverseBits(self, n):\n",
    "        print(n)\n",
    "        x=\"{0:b}\".format(n)\n",
    "        print(x)\n",
    "        r=''.join([i for i in reversed(x)])\n",
    "        if len(r)<32:\n",
    "            while len(r)!=32:\n",
    "                r+='0'\n",
    "        print(r)\n",
    "        return int(r,2)"
   ]
  },
  {
   "cell_type": "code",
   "execution_count": 71,
   "metadata": {},
   "outputs": [
    {
     "name": "stdout",
     "output_type": "stream",
     "text": [
      "43261596\n",
      "10100101000001111010011100\n",
      "00111001011110000010100101000000\n"
     ]
    },
    {
     "data": {
      "text/plain": [
       "964176192"
      ]
     },
     "execution_count": 71,
     "metadata": {},
     "output_type": "execute_result"
    }
   ],
   "source": [
    "Solution().reverseBits(43261596)"
   ]
  },
  {
   "cell_type": "code",
   "execution_count": null,
   "metadata": {},
   "outputs": [],
   "source": []
  },
  {
   "cell_type": "code",
   "execution_count": null,
   "metadata": {},
   "outputs": [],
   "source": []
  },
  {
   "cell_type": "code",
   "execution_count": 84,
   "metadata": {},
   "outputs": [
    {
     "name": "stdout",
     "output_type": "stream",
     "text": [
      "0 0 2\n",
      "1 -1 -1\n",
      "2 2 3\n",
      "3 -2 -2\n",
      "4 3 -3\n",
      "5 4 3\n",
      "6 -2 1\n",
      "7 0 0\n",
      "[1, 3, 7]\n"
     ]
    }
   ],
   "source": [
    "a=[-1,3,-4,5,1,-6,2,1]\n",
    "l=len(a)\n",
    "p=[]\n",
    "for i in range(l):\n",
    "    left=sum(a[:i])\n",
    "    right=sum(a[i+1:])\n",
    "    print(i,left,right)\n",
    "    if left==right:\n",
    "        p.append(i)\n",
    "    \n",
    "print(p)"
   ]
  },
  {
   "cell_type": "code",
   "execution_count": 78,
   "metadata": {},
   "outputs": [
    {
     "data": {
      "text/plain": [
       "2"
      ]
     },
     "execution_count": 78,
     "metadata": {},
     "output_type": "execute_result"
    }
   ],
   "source": [
    "sum(a[:2])"
   ]
  },
  {
   "cell_type": "code",
   "execution_count": 96,
   "metadata": {},
   "outputs": [],
   "source": [
    "def solution(A):\n",
    "    x=sorted(A)\n",
    "    for i in x:\n",
    "        if i>0:\n",
    "            p=i\n",
    "            break\n",
    "    \n",
    "    for j in range(p):\n",
    "        if j>0 and j not in x:\n",
    "            return j\n",
    "\n",
    "    for k in range(p,1000001):\n",
    "        if k>0 and k not in x:\n",
    "            return k\n",
    "        \n",
    "    "
   ]
  },
  {
   "cell_type": "code",
   "execution_count": 108,
   "metadata": {},
   "outputs": [
    {
     "name": "stdout",
     "output_type": "stream",
     "text": [
      "0.10791015625\n",
      "5.52587890625\n",
      "473.7880859375\n"
     ]
    }
   ],
   "source": [
    "tic=time.time_ns()/1000000\n",
    "solution(range(100))\n",
    "toc=time.time_ns()/1000000\n",
    "print(toc-tic)\n",
    "\n",
    "tic=time.time_ns()/1000000\n",
    "solution(range(1000))\n",
    "toc=time.time_ns()/1000000\n",
    "print(toc-tic)\n",
    "\n",
    "tic=time.time_ns()/1000000\n",
    "solution(range(10000))\n",
    "toc=time.time_ns()/1000000\n",
    "print(toc-tic)"
   ]
  },
  {
   "cell_type": "code",
   "execution_count": 103,
   "metadata": {},
   "outputs": [
    {
     "data": {
      "text/plain": [
       "1581795992286561.0"
      ]
     },
     "execution_count": 103,
     "metadata": {},
     "output_type": "execute_result"
    }
   ],
   "source": [
    "time.time_ns()/1000"
   ]
  },
  {
   "cell_type": "code",
   "execution_count": null,
   "metadata": {},
   "outputs": [],
   "source": [
    "-- write your code in PostgreSQL 9.4\n",
    "SELECT A.* FROM \n",
    "\n",
    "(SELECT p.id as id, p.title as title, \n",
    "\n",
    "case when re.reserved_tickets is null then 0\n",
    "    else re.reserved_tickets\n",
    "end as reserved_tickets\n",
    "from plays as p\n",
    "left outer join \n",
    "(SELECT r.play_id as id, sum(r.number_of_tickets) as reserved_tickets\n",
    "from reservations as r\n",
    "group by r.play_id) re on re.id=p.id\n",
    "\n",
    ") as A\n",
    "order by A.reserved_tickets desc, A.id\n",
    ";\n",
    "\n"
   ]
  },
  {
   "cell_type": "code",
   "execution_count": null,
   "metadata": {},
   "outputs": [],
   "source": []
  },
  {
   "cell_type": "markdown",
   "metadata": {},
   "source": [
    "# Dematic"
   ]
  },
  {
   "cell_type": "code",
   "execution_count": 111,
   "metadata": {},
   "outputs": [],
   "source": [
    "import datetime"
   ]
  },
  {
   "cell_type": "code",
   "execution_count": 119,
   "metadata": {},
   "outputs": [
    {
     "ename": "TypeError",
     "evalue": "strptime() argument 1 must be str, not datetime.datetime",
     "output_type": "error",
     "traceback": [
      "\u001b[0;31m---------------------------------------------------------------------------\u001b[0m",
      "\u001b[0;31mTypeError\u001b[0m                                 Traceback (most recent call last)",
      "\u001b[0;32m<ipython-input-119-764b42a6091f>\u001b[0m in \u001b[0;36m<module>\u001b[0;34m\u001b[0m\n\u001b[0;32m----> 1\u001b[0;31m \u001b[0mdatetime\u001b[0m\u001b[0;34m.\u001b[0m\u001b[0mdatetime\u001b[0m\u001b[0;34m.\u001b[0m\u001b[0mstrptime\u001b[0m\u001b[0;34m(\u001b[0m\u001b[0mdatetime\u001b[0m\u001b[0;34m.\u001b[0m\u001b[0mdatetime\u001b[0m\u001b[0;34m.\u001b[0m\u001b[0mnow\u001b[0m\u001b[0;34m(\u001b[0m\u001b[0;34m)\u001b[0m\u001b[0;34m,\u001b[0m\u001b[0;34m'yyyymmdd'\u001b[0m\u001b[0;34m)\u001b[0m\u001b[0;34m\u001b[0m\u001b[0;34m\u001b[0m\u001b[0m\n\u001b[0m",
      "\u001b[0;31mTypeError\u001b[0m: strptime() argument 1 must be str, not datetime.datetime"
     ]
    }
   ],
   "source": [
    "datetime.datetime.strptime(datetime.datetime.now(),'yyyymmdd')"
   ]
  },
  {
   "cell_type": "code",
   "execution_count": 124,
   "metadata": {},
   "outputs": [
    {
     "data": {
      "text/plain": [
       "False"
      ]
     },
     "execution_count": 124,
     "metadata": {},
     "output_type": "execute_result"
    }
   ],
   "source": [
    "'2013-09-05 14:09:13'<'2013-09-05 14:08:15'"
   ]
  },
  {
   "cell_type": "code",
   "execution_count": 177,
   "metadata": {},
   "outputs": [
    {
     "name": "stdout",
     "output_type": "stream",
     "text": [
      "90\n"
     ]
    },
    {
     "data": {
      "text/plain": [
       "'Warsaw02.jpg\\nLondon1.png\\nWarsaw01.png\\nParis2.jpg\\nParis1.jpg\\nLondon2.jpg\\nParis3.png\\nWarsaw43.jpg\\nWarsaw84.png\\nWarsaw47.jpg\\nWarsaw46.jpg\\nWarsaw48.jpg\\nWarsaw44.png\\nWarsaw45.png\\nWarsaw85.jpg\\nWarsaw03.jpg\\nWarsaw04.jpg\\nWarsaw05.jpg\\nWarsaw06.jpg\\nWarsaw07.jpg\\nWarsaw08.png\\nWarsaw49.jpg\\nWarsaw67.jpg\\nWarsaw09.jpg\\nWarsaw10.png\\nWarsaw50.jpg\\nWarsaw68.jpg\\nWarsaw11.jpg\\nWarsaw12.png\\nWarsaw51.jpg\\nWarsaw69.jpg\\nWarsaw13.jpg\\nWarsaw14.png\\nWarsaw52.jpg\\nWarsaw70.jpg\\nWarsaw15.jpg\\nWarsaw16.png\\nWarsaw53.jpg\\nWarsaw71.jpg\\nWarsaw17.jpg\\nWarsaw18.png\\nWarsaw54.jpg\\nWarsaw72.jpg\\nWarsaw19.jpg\\nWarsaw20.png\\nWarsaw55.jpg\\nWarsaw73.jpg\\nWarsaw21.jpg\\nWarsaw22.png\\nWarsaw56.jpg\\nWarsaw74.jpg\\nWarsaw23.jpg\\nWarsaw24.png\\nWarsaw57.jpg\\nWarsaw75.jpg\\nWarsaw25.jpg\\nWarsaw26.png\\nWarsaw58.jpg\\nWarsaw76.jpg\\nWarsaw27.jpg\\nWarsaw28.png\\nWarsaw59.jpg\\nWarsaw77.jpg\\nWarsaw29.jpg\\nWarsaw30.png\\nWarsaw60.jpg\\nWarsaw78.jpg\\nWarsaw31.jpg\\nWarsaw32.png\\nWarsaw61.jpg\\nWarsaw79.jpg\\nWarsaw33.jpg\\nWarsaw34.png\\nWarsaw62.jpg\\nWarsaw80.jpg\\nWarsaw35.jpg\\nWarsaw36.png\\nWarsaw63.jpg\\nWarsaw81.jpg\\nWarsaw37.jpg\\nWarsaw38.png\\nWarsaw64.jpg\\nWarsaw82.jpg\\nWarsaw39.jpg\\nWarsaw40.png\\nWarsaw65.jpg\\nWarsaw83.jpg\\nWarsaw41.jpg\\nWarsaw42.png\\nWarsaw66.jpg\\n'"
      ]
     },
     "execution_count": 177,
     "metadata": {},
     "output_type": "execute_result"
    }
   ],
   "source": [
    "S='photo.jpg, Warsaw, 2013-09-05 14:08:15\\njohn.png, London, 2015-06-20 15:13:22\\nmyFriends.png, Warsaw, 2013-09-05 14:07:13\\nEiffel.jpg, Paris, 2015-07-23 08:03:02\\npisatower.jpg, Paris, 2015-07-22 23:59:59\\nBOB.jpg, London, 2015-08-05 00:02:03\\nnotredame.png, Paris, 2015-09-01 12:00:00\\nme.jpg, Warsaw, 2013-09-06 15:40:22\\na.png, Warsaw, 2016-02-13 13:33:50\\nb.jpg, Warsaw, 2016-01-02 15:12:22\\nc.jpg, Warsaw, 2016-01-02 14:34:30\\nd.jpg, Warsaw, 2016-01-02 15:15:01\\ne.png, Warsaw, 2016-01-02 09:49:09\\nf.png, Warsaw, 2016-01-02 10:55:32\\ng.jpg, Warsaw, 2016-02-29 22:13:11\\nphoto.jpg, Warsaw, 2013-09-05 14:08:15\\nphoto.jpg, Warsaw, 2013-09-05 14:08:15\\nphoto.jpg, Warsaw, 2013-09-05 14:08:15\\nphoto.jpg, Warsaw, 2013-09-05 14:08:15\\nphoto.jpg, Warsaw, 2013-09-05 14:08:15\\nphoto.png, Warsaw, 2013-09-05 14:08:15\\nd.jpg, Warsaw, 2016-01-02 15:15:01\\nd.jpg, Warsaw, 2016-01-02 15:17:01\\nphoto.jpg, Warsaw, 2013-09-05 14:08:15\\nphoto.png, Warsaw, 2013-09-05 14:08:15\\nd.jpg, Warsaw, 2016-01-02 15:15:01\\nd.jpg, Warsaw, 2016-01-02 15:17:01\\nphoto.jpg, Warsaw, 2013-09-05 14:08:15\\nphoto.png, Warsaw, 2013-09-05 14:08:15\\nd.jpg, Warsaw, 2016-01-02 15:15:01\\nd.jpg, Warsaw, 2016-01-02 15:17:01\\nphoto.jpg, Warsaw, 2013-09-05 14:08:15\\nphoto.png, Warsaw, 2013-09-05 14:08:15\\nd.jpg, Warsaw, 2016-01-02 15:15:01\\nd.jpg, Warsaw, 2016-01-02 15:17:01\\nphoto.jpg, Warsaw, 2013-09-05 14:08:15\\nphoto.png, Warsaw, 2013-09-05 14:08:15\\nd.jpg, Warsaw, 2016-01-02 15:15:01\\nd.jpg, Warsaw, 2016-01-02 15:17:01\\nphoto.jpg, Warsaw, 2013-09-05 14:08:15\\nphoto.png, Warsaw, 2013-09-05 14:08:15\\nd.jpg, Warsaw, 2016-01-02 15:15:01\\nd.jpg, Warsaw, 2016-01-02 15:17:01\\nphoto.jpg, Warsaw, 2013-09-05 14:08:15\\nphoto.png, Warsaw, 2013-09-05 14:08:15\\nd.jpg, Warsaw, 2016-01-02 15:15:01\\nd.jpg, Warsaw, 2016-01-02 15:17:01\\nphoto.jpg, Warsaw, 2013-09-05 14:08:15\\nphoto.png, Warsaw, 2013-09-05 14:08:15\\nd.jpg, Warsaw, 2016-01-02 15:15:01\\nd.jpg, Warsaw, 2016-01-02 15:17:01\\nphoto.jpg, Warsaw, 2013-09-05 14:08:15\\nphoto.png, Warsaw, 2013-09-05 14:08:15\\nd.jpg, Warsaw, 2016-01-02 15:15:01\\nd.jpg, Warsaw, 2016-01-02 15:17:01\\nphoto.jpg, Warsaw, 2013-09-05 14:08:15\\nphoto.png, Warsaw, 2013-09-05 14:08:15\\nd.jpg, Warsaw, 2016-01-02 15:15:01\\nd.jpg, Warsaw, 2016-01-02 15:17:01\\nphoto.jpg, Warsaw, 2013-09-05 14:08:15\\nphoto.png, Warsaw, 2013-09-05 14:08:15\\nd.jpg, Warsaw, 2016-01-02 15:15:01\\nd.jpg, Warsaw, 2016-01-02 15:17:01\\nphoto.jpg, Warsaw, 2013-09-05 14:08:15\\nphoto.png, Warsaw, 2013-09-05 14:08:15\\nd.jpg, Warsaw, 2016-01-02 15:15:01\\nd.jpg, Warsaw, 2016-01-02 15:17:01\\nphoto.jpg, Warsaw, 2013-09-05 14:08:15\\nphoto.png, Warsaw, 2013-09-05 14:08:15\\nd.jpg, Warsaw, 2016-01-02 15:15:01\\nd.jpg, Warsaw, 2016-01-02 15:17:01\\nphoto.jpg, Warsaw, 2013-09-05 14:08:15\\nphoto.png, Warsaw, 2013-09-05 14:08:15\\nd.jpg, Warsaw, 2016-01-02 15:15:01\\nd.jpg, Warsaw, 2016-01-02 15:17:01\\nphoto.jpg, Warsaw, 2013-09-05 14:08:15\\nphoto.png, Warsaw, 2013-09-05 14:08:15\\nd.jpg, Warsaw, 2016-01-02 15:15:01\\nd.jpg, Warsaw, 2016-01-02 15:17:01\\nphoto.jpg, Warsaw, 2013-09-05 14:08:15\\nphoto.png, Warsaw, 2013-09-05 14:08:15\\nd.jpg, Warsaw, 2016-01-02 15:15:01\\nd.jpg, Warsaw, 2016-01-02 15:17:01\\nphoto.jpg, Warsaw, 2013-09-05 14:08:15\\nphoto.png, Warsaw, 2013-09-05 14:08:15\\nd.jpg, Warsaw, 2016-01-02 15:15:01\\nd.jpg, Warsaw, 2016-01-02 15:17:01\\nphoto.jpg, Warsaw, 2013-09-05 14:08:15\\nphoto.png, Warsaw, 2013-09-05 14:08:15\\nd.jpg, Warsaw, 2016-01-02 15:15:01'\n",
    "\n",
    "\n",
    "from collections import defaultdict\n",
    "    \n",
    "def solution(S):\n",
    "    if S=='':\n",
    "        return ''\n",
    "    \n",
    "    pics=S.split('\\n')\n",
    "    print(len(pics))\n",
    "    place_data=defaultdict(int)\n",
    "    pic_date_data=defaultdict(list)\n",
    "    names=[]\n",
    "    id=0\n",
    "    for p in pics:\n",
    "        if p.strip()!='':\n",
    "            pic_detail=p.split(', ')\n",
    "            place_data[pic_detail[1]]+=1\n",
    "            id+=1\n",
    "            pic_date_data[pic_detail[1]].append((pic_detail[0],pic_detail[2], id))\n",
    "            names.append((id,pic_detail[0]))\n",
    "    \n",
    "    \n",
    "    mapper={}\n",
    "    for k in pic_date_data.keys():\n",
    "        pic_date_data[k]=sorted(pic_date_data[k], key=lambda item: item[1])\n",
    "        num=0\n",
    "        for photo in pic_date_data[k]:\n",
    "            ext=photo[0].split('.')[1]\n",
    "            num+=1\n",
    "            totalinplace=len(str(place_data[k]))\n",
    "            number=str(num).zfill(totalinplace)\n",
    "            picname=k+number+'.'+ext\n",
    "            mapper[photo[2]]=picname\n",
    "    \n",
    "    answer=''\n",
    "    \n",
    "    for photo in names:\n",
    "        if photo[0] in mapper.keys():\n",
    "            answer+=mapper[photo[0]]+'\\n'\n",
    "\n",
    "    return answer\n",
    "\n",
    "    \n",
    "\n",
    "solution(S)"
   ]
  },
  {
   "cell_type": "code",
   "execution_count": 136,
   "metadata": {},
   "outputs": [
    {
     "name": "stdout",
     "output_type": "stream",
     "text": [
      "{'Warsaw': [('g.jpg', '2016-02-29 22:13:11'), ('a.png', '2016-02-13 13:33:50'), ('d.jpg', '2016-01-02 15:15:01'), ('b.jpg', '2016-01-02 15:12:22'), ('c.jpg', '2016-01-02 14:34:30'), ('f.png', '2016-01-02 10:55:32'), ('e.png', '2016-01-02 09:49:09'), ('me.jpg', '2013-09-06 15:40:22'), ('photo.jpg', '2013-09-05 14:08:15'), ('myFriends.png', '2013-09-05 14:07:13')], 'London': [('BOB.jpg', '2015-08-05 00:02:03'), ('john.png', '2015-06-20 15:13:22')], 'Paris': [('notredame.png', '2015-09-01 12:00:00'), ('Eiffel.jpg', '2015-07-23 08:03:02'), ('pisatower.jpg', '2015-07-22 23:59:59')]}\n"
     ]
    }
   ],
   "source": [
    "x={'Warsaw': [('photo.jpg', '2013-09-05 14:08:15'), ('myFriends.png', '2013-09-05 14:07:13'), ('me.jpg', '2013-09-06 15:40:22'), ('a.png', '2016-02-13 13:33:50'), ('b.jpg', '2016-01-02 15:12:22'), ('c.jpg', '2016-01-02 14:34:30'), ('d.jpg', '2016-01-02 15:15:01'), ('e.png', '2016-01-02 09:49:09'), ('f.png', '2016-01-02 10:55:32'), ('g.jpg', '2016-02-29 22:13:11')], 'London': [('john.png', '2015-06-20 15:13:22'), ('BOB.jpg', '2015-08-05 00:02:03')], 'Paris': [('Eiffel.jpg', '2015-07-23 08:03:02'), ('pisatower.jpg', '2015-07-22 23:59:59'), ('notredame.png', '2015-09-01 12:00:00')]}\n",
    "for k in x.keys():\n",
    "    x[k]=sorted(x[k], key=lambda item: item[1])\n",
    "print(x)    \n"
   ]
  },
  {
   "cell_type": "code",
   "execution_count": 147,
   "metadata": {},
   "outputs": [
    {
     "data": {
      "text/plain": [
       "'0000123'"
      ]
     },
     "execution_count": 147,
     "metadata": {},
     "output_type": "execute_result"
    }
   ],
   "source": [
    "def get_number(n, total):\n",
    "    n=str(n)\n",
    "    if len(n)>total:\n",
    "        return '-1'\n",
    "    else:\n",
    "        r=n[::-1]\n",
    "        for j in range(len(n),total):\n",
    "            r+='0'\n",
    "        return r[::-1]\n",
    "    \n",
    "    \n",
    "get_number(123,7)"
   ]
  },
  {
   "cell_type": "code",
   "execution_count": 152,
   "metadata": {},
   "outputs": [
    {
     "data": {
      "text/plain": [
       "'0000000012'"
      ]
     },
     "execution_count": 152,
     "metadata": {},
     "output_type": "execute_result"
    }
   ],
   "source": [
    "n='12'\n",
    "n.zfill(10)"
   ]
  },
  {
   "cell_type": "code",
   "execution_count": null,
   "metadata": {},
   "outputs": [],
   "source": []
  },
  {
   "cell_type": "markdown",
   "metadata": {},
   "source": [
    "### Third Largest"
   ]
  },
  {
   "cell_type": "code",
   "execution_count": 38,
   "metadata": {},
   "outputs": [],
   "source": [
    "import math\n",
    "class Solution(object):\n",
    "    def thirdMax(self, nums):\n",
    "        r=[-math.inf]*3\n",
    "        for i in nums:\n",
    "            if i==r[0]:\n",
    "                continue\n",
    "            if i > r[0]:\n",
    "                r[2]=r[1]\n",
    "                r[1]=r[0]\n",
    "                r[0]=i\n",
    "            elif i > r[1] and i!=r[0]:\n",
    "                r[2]=r[1]\n",
    "                r[1]=i\n",
    "            elif i > r[2] and i!=r[1]:\n",
    "                r[2]=i\n",
    "        if r[2]==-math.inf:\n",
    "            return r[0]\n",
    "        return r[2]\n"
   ]
  },
  {
   "cell_type": "code",
   "execution_count": 40,
   "metadata": {},
   "outputs": [
    {
     "data": {
      "text/plain": [
       "1"
      ]
     },
     "execution_count": 40,
     "metadata": {},
     "output_type": "execute_result"
    }
   ],
   "source": [
    "Solution().thirdMax([2,3,3,3,3,1])"
   ]
  },
  {
   "cell_type": "code",
   "execution_count": 32,
   "metadata": {},
   "outputs": [
    {
     "data": {
      "text/plain": [
       "[-inf, -inf, -inf]"
      ]
     },
     "execution_count": 32,
     "metadata": {},
     "output_type": "execute_result"
    }
   ],
   "source": [
    "[-math.inf]*3"
   ]
  },
  {
   "cell_type": "code",
   "execution_count": null,
   "metadata": {},
   "outputs": [],
   "source": []
  },
  {
   "cell_type": "code",
   "execution_count": 51,
   "metadata": {},
   "outputs": [
    {
     "name": "stdout",
     "output_type": "stream",
     "text": [
      "Counter({'e': 4, 'l': 2, 'o': 2, 'v': 1, 't': 1, 'c': 1, 'd': 1})\n",
      "2\n",
      "7\n",
      "8\n",
      "10\n",
      "-1\n"
     ]
    }
   ],
   "source": [
    "s='loveleetcode'\n",
    "from collections import Counter\n",
    "d1=Counter(s)\n",
    "print(d1)\n",
    "for ind,val in enumerate(s):\n",
    "    if d1[val] == 1:\n",
    "        print(ind)\n",
    "print(-1)"
   ]
  },
  {
   "cell_type": "markdown",
   "metadata": {},
   "source": [
    "### Valid Anagram"
   ]
  },
  {
   "cell_type": "code",
   "execution_count": 62,
   "metadata": {},
   "outputs": [],
   "source": [
    "class Solution(object):\n",
    "    def isAnagram(self, s, t):\n",
    "        if len(s)==len(t):\n",
    "            m=dict()\n",
    "            for i in s:\n",
    "                if i in m.keys():\n",
    "                    m[i]+=1\n",
    "                else:\n",
    "                    m[i]=1\n",
    "                    \n",
    "            for j in t:\n",
    "                try:\n",
    "                    m[j]-=1\n",
    "                except:\n",
    "                    return False\n",
    "            for v in m.values():\n",
    "                if v!=0:\n",
    "                    return False\n",
    "            return True\n",
    "        return False"
   ]
  },
  {
   "cell_type": "code",
   "execution_count": 63,
   "metadata": {},
   "outputs": [
    {
     "data": {
      "text/plain": [
       "False"
      ]
     },
     "execution_count": 63,
     "metadata": {},
     "output_type": "execute_result"
    }
   ],
   "source": [
    "Solution().isAnagram('silenx','listen')"
   ]
  },
  {
   "cell_type": "code",
   "execution_count": null,
   "metadata": {},
   "outputs": [],
   "source": []
  },
  {
   "cell_type": "markdown",
   "metadata": {},
   "source": [
    "## Lowest Common Ancestor BST"
   ]
  },
  {
   "cell_type": "code",
   "execution_count": 2,
   "metadata": {},
   "outputs": [],
   "source": [
    "class TreeNode:\n",
    "    def __init__(self, x):\n",
    "        self.val = x\n",
    "        self.left = None\n",
    "        self.right = None\n",
    "\n",
    "class Solution:\n",
    "    def lowestCommonAncestor(self, root: 'TreeNode', p: 'TreeNode', q: 'TreeNode') -> 'TreeNode':\n",
    "        if p.val<q.val:\n",
    "            return self.find_lca(root, p, q)\n",
    "        return self.find_lca(root, q, p)\n",
    "    \n",
    "    def find_lca(self, root, p, q):\n",
    "        if root==None:\n",
    "            return\n",
    "        \n",
    "        if (root.val<q.val and root.val<p.val):\n",
    "            return self.find_lca(root.right, p, q)\n",
    "        elif (root.val>p.val and root.val>q.val):\n",
    "            return self.find_lca(root.left, p, q)\n",
    "        else:\n",
    "            return root\n",
    "        \n",
    "        \n",
    "        \n",
    "        \n"
   ]
  },
  {
   "cell_type": "code",
   "execution_count": 3,
   "metadata": {},
   "outputs": [
    {
     "data": {
      "text/plain": [
       "6"
      ]
     },
     "execution_count": 3,
     "metadata": {},
     "output_type": "execute_result"
    }
   ],
   "source": [
    "r=TreeNode(6)\n",
    "r.left=TreeNode(2)\n",
    "r.right=TreeNode(8)\n",
    "r.left.left=TreeNode(0)\n",
    "r.left.right=TreeNode(4)\n",
    "r.right.left=TreeNode(7)\n",
    "r.right.right=TreeNode(9)\n",
    "r.left.right.left=TreeNode(3)\n",
    "r.left.right.right=TreeNode(5)\n",
    "\n",
    "Solution().lowestCommonAncestor(r, TreeNode(9), TreeNode(2)).val"
   ]
  },
  {
   "cell_type": "markdown",
   "metadata": {},
   "source": [
    "## Invert Binary Tree"
   ]
  },
  {
   "cell_type": "code",
   "execution_count": 2,
   "metadata": {},
   "outputs": [],
   "source": [
    "# Definition for a binary tree node.\n",
    "class TreeNode(object):\n",
    "    def __init__(self, x):\n",
    "        self.val = x\n",
    "        self.left = None\n",
    "        self.right = None\n",
    "\n",
    "class Solution(object):\n",
    "    def invertTree(self, root):\n",
    "        return self.pleaseinvert(root)\n",
    "    \n",
    "    def pleaseinvert(self, root):\n",
    "        if root!=None:\n",
    "            self.pleaseinvert(root.left)\n",
    "            self.pleaseinvert(root.right)\n",
    "            if root.left or root.right:\n",
    "                t=root.left\n",
    "                root.left=root.right\n",
    "                root.right=t\n",
    "        else:\n",
    "            return\n",
    "                \n",
    "        return root"
   ]
  },
  {
   "cell_type": "code",
   "execution_count": 42,
   "metadata": {},
   "outputs": [],
   "source": [
    "class Solution(object):\n",
    "    def invertTree(self, root):\n",
    "        \n",
    "        stack=[root]\n",
    "        while stack:\n",
    "            n=stack.pop()\n",
    "            if n:\n",
    "                n.left, n.right = n.right, n.left\n",
    "                if n.left:\n",
    "                    stack.append(n.left)\n",
    "                if n.right:\n",
    "                    stack.append(n.right)\n",
    "                \n",
    "        return root"
   ]
  },
  {
   "cell_type": "code",
   "execution_count": 4,
   "metadata": {},
   "outputs": [],
   "source": [
    "r=TreeNode(6)\n",
    "r.left=TreeNode(2)\n",
    "r.right=TreeNode(8)\n",
    "r.left.left=TreeNode(0)\n",
    "r.left.right=TreeNode(4)\n",
    "r.right.left=TreeNode(7)\n",
    "r.right.right=TreeNode(9)\n",
    "r.left.right.left=TreeNode(3)\n",
    "r.left.right.right=TreeNode(5)\n",
    "\n",
    "# Solution().invertTree(r)"
   ]
  },
  {
   "cell_type": "code",
   "execution_count": 43,
   "metadata": {},
   "outputs": [],
   "source": [
    "r=TreeNode(2)\n",
    "r.left=TreeNode(3)\n",
    "# r.right=TreeNode(8)\n",
    "r.left.left=TreeNode(1)\n",
    "# Solution().invertTree(r)"
   ]
  },
  {
   "cell_type": "code",
   "execution_count": 44,
   "metadata": {},
   "outputs": [],
   "source": [
    "x=Solution().invertTree(r)"
   ]
  },
  {
   "cell_type": "code",
   "execution_count": 45,
   "metadata": {},
   "outputs": [
    {
     "data": {
      "text/plain": [
       "1"
      ]
     },
     "execution_count": 45,
     "metadata": {},
     "output_type": "execute_result"
    }
   ],
   "source": [
    "x.right.right.val"
   ]
  },
  {
   "cell_type": "markdown",
   "metadata": {},
   "source": [
    "## Symmetric Tree"
   ]
  },
  {
   "cell_type": "code",
   "execution_count": 43,
   "metadata": {},
   "outputs": [],
   "source": [
    "class Solution(object):\n",
    "    def isSymmetric(self, root):\n",
    "        ans=False\n",
    "        arl=[]\n",
    "        arr=[]\n",
    "        self.symmetric(root.left, arl)\n",
    "        self.symmetric(root.right, arr)\n",
    "        print(arl,arr)\n",
    "        if arl==arr[::-1]:\n",
    "            return True\n",
    "        return False\n",
    "    \n",
    "    def symmetric(self, node, ar):\n",
    "        if node:\n",
    "            self.symmetric(node.left, ar)\n",
    "            ar.append(node.val)\n",
    "            self.symmetric(node.right, ar)\n",
    "        return"
   ]
  },
  {
   "cell_type": "code",
   "execution_count": 26,
   "metadata": {},
   "outputs": [],
   "source": [
    "r=TreeNode(1)\n",
    "r.left=TreeNode(2)\n",
    "r.right=TreeNode(2)\n",
    "r.left.left=TreeNode(2)\n",
    "# r.left.right=TreeNode(4)\n",
    "r.right.left=TreeNode(2)\n",
    "r.right.left.right=TreeNode(1)\n",
    "# r.right.right=TreeNode(4)\n",
    "\n",
    "# Solution().isSymmetric(r)"
   ]
  },
  {
   "cell_type": "markdown",
   "metadata": {},
   "source": [
    "## Max Depth of Binary Tree"
   ]
  },
  {
   "cell_type": "code",
   "execution_count": 17,
   "metadata": {},
   "outputs": [],
   "source": [
    "class Solution(object):\n",
    "    def maxDepth(self, root):\n",
    "        d=1\n",
    "        return self.depth(root.left, root.right, 1)\n",
    "        print(d)\n",
    "    \n",
    "    def depth(self, l, r, d):\n",
    "        if l or r:\n",
    "            d+=1\n",
    "            if l and r:\n",
    "                return max(self.depth(l.left, l.right, d), self.depth(r.left, r.right, d))\n",
    "            elif l:\n",
    "                return self.depth(l.left, l.right, d)\n",
    "            elif r:\n",
    "                return self.depth(r.left, r.right, d)\n",
    "        else:\n",
    "            return d"
   ]
  },
  {
   "cell_type": "code",
   "execution_count": 24,
   "metadata": {},
   "outputs": [],
   "source": [
    "# Stack Solution\n",
    "class Solution(object):\n",
    "    def maxDepth(self, root):\n",
    "        stack = [(root, 1)]\n",
    "        re = 0\n",
    "        while stack:\n",
    "            node, level = stack.pop()\n",
    "            \n",
    "            if not node.left and not node.right:\n",
    "                re = max(level, re)\n",
    "            if node.left:\n",
    "                stack.append((node.left, level + 1))\n",
    "            if node.right:\n",
    "                stack.append((node.right, level + 1))\n",
    "        return re"
   ]
  },
  {
   "cell_type": "code",
   "execution_count": 27,
   "metadata": {},
   "outputs": [
    {
     "data": {
      "text/plain": [
       "4"
      ]
     },
     "execution_count": 27,
     "metadata": {},
     "output_type": "execute_result"
    }
   ],
   "source": [
    "Solution().maxDepth(r)"
   ]
  },
  {
   "cell_type": "markdown",
   "metadata": {},
   "source": [
    "## Sorted Array to BST"
   ]
  },
  {
   "cell_type": "code",
   "execution_count": 79,
   "metadata": {},
   "outputs": [],
   "source": [
    "class Solution(object):\n",
    "    def sortedArrayToBST(self, nums):\n",
    "        return self.makeTree(nums)\n",
    "    \n",
    "    def makeTree(self,nums):\n",
    "        if nums:\n",
    "            if len(nums)==1:\n",
    "                return TreeNode(nums[0])\n",
    "            print(nums)\n",
    "            m=len(nums)//2\n",
    "            r=TreeNode(nums[m])\n",
    "            r.left=self.makeTree(nums[:m])\n",
    "            r.right=self.makeTree(nums[m+1:])\n",
    "            return r"
   ]
  },
  {
   "cell_type": "code",
   "execution_count": null,
   "metadata": {},
   "outputs": [],
   "source": [
    "class Solution(object):\n",
    "    def sortedArrayToBST(self, nums):\n",
    "        \n",
    "        m=len(ar)//2\n",
    "        r=TreeNode(nums[m])\n",
    "        al=nums[:m]\n",
    "        ar=nums[m:]\n",
    "        print(al,ar)\n",
    "        l=0\n",
    "        r=len(nums)-1\n",
    "        while m!=r and m!=l:\n",
    "            left=TreeNode(ml)\n",
    "            right=TreeNode(mr)\n",
    "            \n",
    "            if m!=r:\n",
    "                \n",
    "            \n",
    "        r=TreeNode(nums[m])\n",
    "        return self.makeTree(nums,r, m)"
   ]
  },
  {
   "cell_type": "code",
   "execution_count": 80,
   "metadata": {},
   "outputs": [
    {
     "name": "stdout",
     "output_type": "stream",
     "text": [
      "[1, 2, 3, 4, 5, 6, 7, 8, 9, 10, 11]\n",
      "[1, 2, 3, 4, 5]\n",
      "[1, 2]\n",
      "[4, 5]\n",
      "[7, 8, 9, 10, 11]\n",
      "[7, 8]\n",
      "[10, 11]\n"
     ]
    }
   ],
   "source": [
    "n=[1,2,3,4,5,6,7,8,9,10,11]\n",
    "r=Solution().sortedArrayToBST(n)"
   ]
  },
  {
   "cell_type": "code",
   "execution_count": 82,
   "metadata": {},
   "outputs": [
    {
     "data": {
      "text/plain": [
       "11"
      ]
     },
     "execution_count": 82,
     "metadata": {},
     "output_type": "execute_result"
    }
   ],
   "source": [
    "r.right.right.val"
   ]
  },
  {
   "cell_type": "markdown",
   "metadata": {},
   "source": [
    "# Path Sum III : Double Recursion"
   ]
  },
  {
   "cell_type": "code",
   "execution_count": 110,
   "metadata": {},
   "outputs": [],
   "source": [
    "class Solution(object):\n",
    "    count=0\n",
    "    def pathSum(self, root, sum):\n",
    "        if root:        \n",
    "            self.dfs(root,sum,self.count,0)\n",
    "            print('Root Done')\n",
    "            self.pathSum(root.left, sum)\n",
    "            self.pathSum(root.right,sum)\n",
    "        return self.count\n",
    "        \n",
    "    def dfs(self, root, sum, count,curr):\n",
    "        if root:\n",
    "            print(root.val, curr, self.count)\n",
    "            curr+=root.val\n",
    "            if curr==sum:\n",
    "                self.count+=1\n",
    "                curr=0\n",
    "            if root.left:\n",
    "                self.dfs(root.left,sum,self.count,curr)\n",
    "            if root.right:\n",
    "                self.dfs(root.right,sum,self.count,curr)\n",
    "        return"
   ]
  },
  {
   "cell_type": "code",
   "execution_count": 108,
   "metadata": {},
   "outputs": [],
   "source": [
    "r=TreeNode(10)\n",
    "r.left=TreeNode(5)\n",
    "r.right=TreeNode(-3)\n",
    "r.left.left=TreeNode(3)\n",
    "r.left.right=TreeNode(2)\n",
    "# r.right.left=TreeNode(1)\n",
    "r.right.right=TreeNode(11)\n",
    "# r.left.right.left=TreeNode(3)\n",
    "r.left.right.right=TreeNode(1)\n",
    "r.left.left.left=TreeNode(3)\n",
    "r.left.left.right=TreeNode(-2)\n",
    "\n",
    "\n",
    "#         6\n",
    "#       2   8\n",
    "#     0    1 9\n",
    "#       4\n",
    "#     3   5"
   ]
  },
  {
   "cell_type": "code",
   "execution_count": 109,
   "metadata": {},
   "outputs": [
    {
     "name": "stdout",
     "output_type": "stream",
     "text": [
      "10 0 0\n",
      "5 10 0\n",
      "3 15 0\n",
      "3 18 0\n",
      "-2 18 0\n",
      "2 15 0\n",
      "1 17 0\n",
      "-3 10 0\n",
      "11 7 0\n",
      "Root Done\n",
      "5 0 0\n",
      "3 5 0\n",
      "3 0 1\n",
      "-2 0 1\n",
      "2 5 1\n",
      "1 7 1\n",
      "Root Done\n",
      "3 0 2\n",
      "3 3 2\n",
      "-2 3 2\n",
      "Root Done\n",
      "3 0 2\n",
      "Root Done\n",
      "-2 0 2\n",
      "Root Done\n",
      "2 0 2\n",
      "1 2 2\n",
      "Root Done\n",
      "1 0 2\n",
      "Root Done\n",
      "-3 0 2\n",
      "11 -3 2\n",
      "Root Done\n",
      "11 0 3\n",
      "Root Done\n"
     ]
    },
    {
     "data": {
      "text/plain": [
       "3"
      ]
     },
     "execution_count": 109,
     "metadata": {},
     "output_type": "execute_result"
    }
   ],
   "source": [
    "Solution().pathSum(r,8)"
   ]
  },
  {
   "cell_type": "markdown",
   "metadata": {},
   "source": [
    "## Count Primes"
   ]
  },
  {
   "cell_type": "code",
   "execution_count": 190,
   "metadata": {},
   "outputs": [],
   "source": [
    "import math\n",
    "class Solution(object):\n",
    "    def countPrimes(self, n):\n",
    "        \n",
    "        count=0\n",
    "        for i in range(2,n):\n",
    "            if self.check_prime(i):\n",
    "                count+=1\n",
    "        return count\n",
    "    \n",
    "    def check_prime(self, out):\n",
    "        if out==1:\n",
    "            return False\n",
    "        if out==2:\n",
    "            return True\n",
    "        if out%2==0:\n",
    "            return False\n",
    "\n",
    "        if out<1000000:\n",
    "            for div in range(3,int(math.sqrt(out))+1,2):\n",
    "                if out%div==0:\n",
    "                    return False\n",
    "        else:\n",
    "            x=(1<<(out-1))%out\n",
    "            if x!=1:\n",
    "                return False\n",
    "        return True"
   ]
  },
  {
   "cell_type": "code",
   "execution_count": 191,
   "metadata": {},
   "outputs": [
    {
     "data": {
      "text/plain": [
       "41537"
      ]
     },
     "execution_count": 191,
     "metadata": {},
     "output_type": "execute_result"
    }
   ],
   "source": [
    "Solution().countPrimes(499979)"
   ]
  },
  {
   "cell_type": "code",
   "execution_count": 210,
   "metadata": {},
   "outputs": [
    {
     "name": "stdout",
     "output_type": "stream",
     "text": [
      "1229\n"
     ]
    }
   ],
   "source": [
    "def check_prime(out):\n",
    "    if out==1:\n",
    "        return\n",
    "    if out==2:\n",
    "        return out\n",
    "    if out%2==0:\n",
    "        return\n",
    "\n",
    "    if out<100000:\n",
    "        for div in range(3,int(math.sqrt(out))+1,2):\n",
    "            if out%div==0:\n",
    "                return\n",
    "    else:\n",
    "        x=(1<<(out-1))%out\n",
    "        if x!=1:\n",
    "            return\n",
    "    return out\n",
    "\n",
    "x=[]\n",
    "for i in range(10000):\n",
    "    c=check_prime(i)\n",
    "    if c!=None:\n",
    "        x.append(check_prime(i))\n",
    "\n",
    "print(len(x))"
   ]
  },
  {
   "cell_type": "code",
   "execution_count": 211,
   "metadata": {},
   "outputs": [
    {
     "data": {
      "text/plain": [
       "499979"
      ]
     },
     "execution_count": 211,
     "metadata": {},
     "output_type": "execute_result"
    }
   ],
   "source": [
    "check_prime(499979)"
   ]
  },
  {
   "cell_type": "code",
   "execution_count": null,
   "metadata": {},
   "outputs": [],
   "source": []
  },
  {
   "cell_type": "markdown",
   "metadata": {},
   "source": [
    "### Longest Common Prefix"
   ]
  },
  {
   "cell_type": "code",
   "execution_count": 42,
   "metadata": {},
   "outputs": [],
   "source": [
    "class Solution(object):\n",
    "    def longestCommonPrefix(self, strs):\n",
    "        prefix=''\n",
    "        if len(strs)>0:\n",
    "            if len(strs)==1:\n",
    "                return strs[0]\n",
    "            \n",
    "            min_len=len(strs[0])\n",
    "            for i in strs:\n",
    "                if len(i)<min_len:\n",
    "                    min_len=len(i)\n",
    "\n",
    "            i=1\n",
    "            while i<=min_len:\n",
    "                prefix=strs[0][:i]\n",
    "                for word in strs:\n",
    "                    if word[:i]!=prefix:\n",
    "                        return prefix[:len(prefix)-1]\n",
    "                i+=1\n",
    "            \n",
    "        return prefix"
   ]
  },
  {
   "cell_type": "code",
   "execution_count": 43,
   "metadata": {},
   "outputs": [
    {
     "data": {
      "text/plain": [
       "'cs'"
      ]
     },
     "execution_count": 43,
     "metadata": {},
     "output_type": "execute_result"
    }
   ],
   "source": [
    "Solution().longestCommonPrefix(['csd','csl'])"
   ]
  },
  {
   "cell_type": "markdown",
   "metadata": {},
   "source": [
    "### Maximum Subarray"
   ]
  },
  {
   "cell_type": "code",
   "execution_count": 155,
   "metadata": {},
   "outputs": [],
   "source": [
    "class Solution(object):\n",
    "    def maxSubArray(self, nums):\n",
    "\n",
    "        mx=max(nums)\n",
    "        for i in range(len(nums)-1):\n",
    "            for j in range(i+1,len(nums)):\n",
    "                s=sum(nums[i:j+1])\n",
    "                if s>mx:\n",
    "                    mx=s\n",
    "            \n",
    "        return mx"
   ]
  },
  {
   "cell_type": "code",
   "execution_count": 115,
   "metadata": {},
   "outputs": [
    {
     "name": "stdout",
     "output_type": "stream",
     "text": [
      "0 1 -2 4 1\n",
      "1 2 1 4 -3\n",
      "1 4 2 4 0\n",
      "1 5 1 4 2\n",
      "2 7 3 4 1\n",
      "3 8 1 4 1\n"
     ]
    },
    {
     "data": {
      "text/plain": [
       "4"
      ]
     },
     "execution_count": 115,
     "metadata": {},
     "output_type": "execute_result"
    }
   ],
   "source": [
    "Solution().maxSubArray([-2,1,-3,4,-1,2,1,-5,4])"
   ]
  },
  {
   "cell_type": "code",
   "execution_count": 151,
   "metadata": {},
   "outputs": [
    {
     "data": {
      "text/plain": [
       "6"
      ]
     },
     "execution_count": 151,
     "metadata": {},
     "output_type": "execute_result"
    }
   ],
   "source": [
    "class Solution(object):\n",
    "    def maxSubArray(self, nums):\n",
    "        prev=0\n",
    "        curr=0\n",
    "        s=nums[0]\n",
    "        for i in range(len(nums)):\n",
    "            curr=nums[i] + (prev if prev>0 else 0)\n",
    "            prev=curr\n",
    "            s=max(curr,s)\n",
    "            \n",
    "        return s\n",
    "Solution().maxSubArray([0,-3,1,1,-1,5,-3])"
   ]
  },
  {
   "cell_type": "code",
   "execution_count": 154,
   "metadata": {},
   "outputs": [
    {
     "data": {
      "text/plain": [
       "10"
      ]
     },
     "execution_count": 154,
     "metadata": {},
     "output_type": "execute_result"
    }
   ],
   "source": [
    "class Solution(object):\n",
    "    def maxSubArray(self, nums):\n",
    "        for i in range(1,len(nums)):\n",
    "            if nums[i-1]>0:\n",
    "                nums[i]+=nums[i-1]\n",
    "        return max(nums)\n",
    "Solution().maxSubArray([0,-3,-1,6,-1,5,-3])"
   ]
  },
  {
   "cell_type": "code",
   "execution_count": null,
   "metadata": {},
   "outputs": [],
   "source": []
  },
  {
   "cell_type": "markdown",
   "metadata": {},
   "source": [
    "## Best time to buy and sell stock"
   ]
  },
  {
   "cell_type": "code",
   "execution_count": 179,
   "metadata": {},
   "outputs": [],
   "source": [
    "class Solution(object):\n",
    "    def maxProfit(self, prices):\n",
    "        p=0\n",
    "        if len(prices)>0:\n",
    "            b=prices[0]\n",
    "            for i in prices:\n",
    "                if i<b:\n",
    "                    b=i\n",
    "                if i-b>p:\n",
    "                    p=i-b\n",
    "        return p"
   ]
  },
  {
   "cell_type": "code",
   "execution_count": 180,
   "metadata": {},
   "outputs": [
    {
     "data": {
      "text/plain": [
       "8"
      ]
     },
     "execution_count": 180,
     "metadata": {},
     "output_type": "execute_result"
    }
   ],
   "source": [
    "Solution().maxProfit([7,2,6,4,3,1,9])"
   ]
  },
  {
   "cell_type": "markdown",
   "metadata": {},
   "source": [
    "## Best time to buy and sell stock - II Hard"
   ]
  },
  {
   "cell_type": "code",
   "execution_count": 220,
   "metadata": {},
   "outputs": [],
   "source": [
    "class Solution(object):\n",
    "    def maxProfit(self, prices):\n",
    "        if prices:\n",
    "            profit=[]\n",
    "            b=prices[0]\n",
    "            i=0\n",
    "            k=len(prices)-1\n",
    "            while i<k:\n",
    "                if prices[i]<prices[i+1] and i!=k-1:\n",
    "                    b=min(prices[i],b)\n",
    "                    i+=1\n",
    "                else:\n",
    "                    if i==k-1:\n",
    "                        profit.append(max(prices[i+1],prices[i])-b)\n",
    "                        print('Profit Calculation',profit,prices,\"Bought:\",b,\"Sold:\",prices[i+1])\n",
    "                    else:\n",
    "                        if prices[i]!=b:\n",
    "                            profit.append(prices[i]-b)\n",
    "                            print('Profit Calculation',profit,prices,\"Bought:\",b,\"Sold:\",prices[i])\n",
    "                    prices=prices[i+1:]\n",
    "                    i=0\n",
    "                    k=len(prices)-1\n",
    "                    b=prices[i]\n",
    "\n",
    "            return sum(profit)\n",
    "        return 0"
   ]
  },
  {
   "cell_type": "code",
   "execution_count": 222,
   "metadata": {},
   "outputs": [],
   "source": [
    "class Solution(object):\n",
    "    def maxProfit(self, prices):\n",
    "        g=0\n",
    "        for i in range(1,len(prices)):\n",
    "            if prices[i]>prices[i-1]:\n",
    "                g+=prices[i]-prices[i-1]\n",
    "        return g"
   ]
  },
  {
   "cell_type": "code",
   "execution_count": 224,
   "metadata": {},
   "outputs": [
    {
     "data": {
      "text/plain": [
       "8"
      ]
     },
     "execution_count": 224,
     "metadata": {},
     "output_type": "execute_result"
    }
   ],
   "source": [
    "Solution().maxProfit([0,1,2,0,4,5,6])"
   ]
  },
  {
   "cell_type": "markdown",
   "metadata": {},
   "source": [
    "## Shortest Unsorted Continuous Subarray"
   ]
  },
  {
   "cell_type": "code",
   "execution_count": 188,
   "metadata": {},
   "outputs": [],
   "source": [
    "import math\n",
    "class Solution(object):\n",
    "    def findUnsortedSubarray(self, nums):\n",
    "        \n",
    "        l=-1\n",
    "        r=0\n",
    "        s=sorted(nums)\n",
    "        for i in range(len(nums)):\n",
    "            if nums[i]!=s[i]:\n",
    "                l=i\n",
    "                print(l)\n",
    "                break\n",
    "        if l==-1:\n",
    "            return 0\n",
    "\n",
    "        j=len(nums)-1\n",
    "        while j>=0:\n",
    "            if nums[j]!=s[j]:\n",
    "                r=j\n",
    "                print(r)\n",
    "                break\n",
    "            j-=1\n",
    "\n",
    "        if l or r:\n",
    "            if l==r:\n",
    "                return 2\n",
    "            return r-l+1\n",
    "        \n",
    "        return 0\n",
    "            "
   ]
  },
  {
   "cell_type": "code",
   "execution_count": 192,
   "metadata": {},
   "outputs": [
    {
     "name": "stdout",
     "output_type": "stream",
     "text": [
      "1\n",
      "6\n"
     ]
    },
    {
     "data": {
      "text/plain": [
       "6"
      ]
     },
     "execution_count": 192,
     "metadata": {},
     "output_type": "execute_result"
    }
   ],
   "source": [
    "# Solution().findUnsortedSubarray([2,3,3,2,4])\n",
    "Solution().findUnsortedSubarray([2, 6, 4, 5, 8, 10, 8, 15])\n",
    "# Solution().findUnsortedSubarray([2,1])\n",
    "# Solution().findUnsortedSubarray([5,4,3,2,1])"
   ]
  },
  {
   "cell_type": "code",
   "execution_count": 146,
   "metadata": {},
   "outputs": [
    {
     "data": {
      "text/plain": [
       "3"
      ]
     },
     "execution_count": 146,
     "metadata": {},
     "output_type": "execute_result"
    }
   ],
   "source": [
    "nums=[1,2,3,4]\n",
    "nums[-2]"
   ]
  },
  {
   "cell_type": "code",
   "execution_count": null,
   "metadata": {},
   "outputs": [],
   "source": []
  },
  {
   "cell_type": "markdown",
   "metadata": {},
   "source": [
    "## Factorial Trailing Zeroes"
   ]
  },
  {
   "cell_type": "code",
   "execution_count": 229,
   "metadata": {},
   "outputs": [],
   "source": [
    "class Solution(object):\n",
    "    def trailingZeroes(self, n):\n",
    "        if n<5:\n",
    "            return 0\n",
    "        zeros=0\n",
    "        i=1\n",
    "        while i<20:\n",
    "            f=int(n/5**i)\n",
    "            if f>0:\n",
    "                zeros+=f\n",
    "            else:\n",
    "                break\n",
    "            i+=1\n",
    "        return zeros"
   ]
  },
  {
   "cell_type": "code",
   "execution_count": 230,
   "metadata": {},
   "outputs": [
    {
     "data": {
      "text/plain": [
       "452137076"
      ]
     },
     "execution_count": 230,
     "metadata": {},
     "output_type": "execute_result"
    }
   ],
   "source": [
    "Solution().trailingZeroes(1808548329)"
   ]
  },
  {
   "cell_type": "code",
   "execution_count": null,
   "metadata": {},
   "outputs": [],
   "source": []
  },
  {
   "cell_type": "code",
   "execution_count": null,
   "metadata": {},
   "outputs": [],
   "source": []
  },
  {
   "cell_type": "code",
   "execution_count": 289,
   "metadata": {},
   "outputs": [],
   "source": [
    "class Solution(object):\n",
    "    def isValid(self, s):\n",
    "        if len(s)%2!=0:\n",
    "            return False\n",
    "\n",
    "        br={')':'(','}':'{',']':'['}\n",
    "        opn=[]\n",
    "        valid=True\n",
    "        for i in s:\n",
    "            if i in br.values():\n",
    "                opn.append(i)\n",
    "            if i in br.keys():\n",
    "                if len(opn)==0:\n",
    "                    return False\n",
    "                latest=opn.pop()\n",
    "                if br[i]!=latest:\n",
    "                    print('here',latest,br[i])\n",
    "                    return False\n",
    "        if len(opn)!=0:\n",
    "            return False\n",
    "                    \n",
    "        return valid"
   ]
  },
  {
   "cell_type": "code",
   "execution_count": 291,
   "metadata": {},
   "outputs": [
    {
     "data": {
      "text/plain": [
       "False"
      ]
     },
     "execution_count": 291,
     "metadata": {},
     "output_type": "execute_result"
    }
   ],
   "source": [
    "Solution().isValid('}[[[]]]')"
   ]
  },
  {
   "cell_type": "code",
   "execution_count": null,
   "metadata": {},
   "outputs": [],
   "source": []
  },
  {
   "cell_type": "markdown",
   "metadata": {},
   "source": [
    "### Excel Sheet Column Title"
   ]
  },
  {
   "cell_type": "code",
   "execution_count": 489,
   "metadata": {},
   "outputs": [],
   "source": [
    "class Solution(object):\n",
    "    def convertToTitle(self, n):\n",
    "        \n",
    "        if n<27:\n",
    "            return self.get_let(n-1)\n",
    "        \n",
    "        ans=''\n",
    "        while n>0:\n",
    "            x=n%26\n",
    "            n=int(n/26)\n",
    "            if x==0:\n",
    "                n-=1\n",
    "            print(x)\n",
    "            ans+=self.get_let(x-1)\n",
    "        return ans[::-1]\n",
    "    \n",
    "    def get_let(self,c):\n",
    "        if c<0:\n",
    "            return 'Z'\n",
    "        else:\n",
    "            return chr(ord('A')+c)"
   ]
  },
  {
   "cell_type": "code",
   "execution_count": 492,
   "metadata": {},
   "outputs": [
    {
     "name": "stdout",
     "output_type": "stream",
     "text": [
      "1\n",
      "1\n",
      "1\n"
     ]
    },
    {
     "data": {
      "text/plain": [
       "'AAA'"
      ]
     },
     "execution_count": 492,
     "metadata": {},
     "output_type": "execute_result"
    }
   ],
   "source": [
    "Solution().convertToTitle(703)"
   ]
  },
  {
   "cell_type": "code",
   "execution_count": null,
   "metadata": {},
   "outputs": [],
   "source": []
  },
  {
   "cell_type": "markdown",
   "metadata": {},
   "source": [
    "## Sum of Subarray Minimums"
   ]
  },
  {
   "cell_type": "code",
   "execution_count": 527,
   "metadata": {},
   "outputs": [],
   "source": [
    "class Solution(object):\n",
    "    def sumSubarrayMins(self, A):\n",
    "        smin=0\n",
    "        if len(A)!=0:\n",
    "            m=min(A)\n",
    "            s=len(A)\n",
    "            smin=0\n",
    "            l=1\n",
    "            j=0\n",
    "            while l<s:\n",
    "                j=0\n",
    "                while j+l<=len(A):\n",
    "                    if m in A[j:j+l]:\n",
    "                        smin+=m\n",
    "                    else:\n",
    "                        smin+=min(A[j:j+l])\n",
    "                    j+=1\n",
    "                l+=1\n",
    "        return smin+m"
   ]
  },
  {
   "cell_type": "code",
   "execution_count": 31,
   "metadata": {},
   "outputs": [
    {
     "name": "stdout",
     "output_type": "stream",
     "text": [
      "Left Round : 3\n",
      "1 3 [(3, 1)]\n",
      "\n",
      "Left Round : 2\n",
      "2 2 [(2, 2)]\n",
      "\n",
      "Left Round : 1\n",
      "3 1 [(1, 3)]\n",
      "\n",
      "Left Round : 4\n",
      "1 4 [(1, 3), (4, 1)]\n",
      "\n",
      "Left Round : 1\n",
      "5 1 [(1, 5)]\n",
      "\n",
      "Right Round : 1\n",
      "1 1 [(1, 1)]\n",
      "\n",
      "Right Round : 4\n",
      "1 4 [(1, 1), (4, 1)]\n",
      "\n",
      "Right Round : 1\n",
      "2 1 [(1, 1), (1, 2)]\n",
      "\n",
      "Right Round : 2\n",
      "1 2 [(1, 1), (1, 2), (2, 1)]\n",
      "\n",
      "Right Round : 3\n",
      "1 3 [(1, 1), (1, 2), (2, 1), (3, 1)]\n",
      "\n",
      "[1, 2, 3, 1, 5] [1, 1, 2, 1, 1]\n"
     ]
    },
    {
     "data": {
      "text/plain": [
       "22"
      ]
     },
     "execution_count": 31,
     "metadata": {},
     "output_type": "execute_result"
    }
   ],
   "source": [
    "# O(n)\n",
    "class Solution:\n",
    "    def sumSubarrayMins(self, A):\n",
    "        left=[None]*len(A)\n",
    "        right=[None]*len(A)\n",
    "        stack = []\n",
    "        total=0\n",
    "        for i in range(len(A)):\n",
    "            count = 1\n",
    "            print('Left Round :',A[i])\n",
    "            while stack and stack[-1][0] >= A[i]:\n",
    "                c = stack.pop()[1]\n",
    "                count += c\n",
    "            stack.append((A[i],count))\n",
    "            left[i]=count\n",
    "            print(count,A[i], stack)\n",
    "            print()\n",
    "            \n",
    "        stack=[]\n",
    "        for i in range(len(A)-1, -1, -1):\n",
    "            count = 1\n",
    "            print('Right Round :',A[i])\n",
    "            while stack and stack[-1][0] > A[i]:\n",
    "                c = stack.pop()[1]\n",
    "                count += c\n",
    "            stack.append((A[i],count))\n",
    "            right[i]=count\n",
    "            print(count,A[i], stack)\n",
    "            print()\n",
    "        print(left,right)\n",
    "\n",
    "        for i in range(len(A)):\n",
    "            total+=A[i]*(left[i]*right[i])\n",
    "        return total % (10**9+7)\n",
    "A=[3,2,1,4,1]\n",
    "Solution().sumSubarrayMins(A)"
   ]
  },
  {
   "cell_type": "code",
   "execution_count": null,
   "metadata": {},
   "outputs": [],
   "source": []
  },
  {
   "cell_type": "code",
   "execution_count": null,
   "metadata": {},
   "outputs": [],
   "source": []
  }
 ],
 "metadata": {
  "kernelspec": {
   "display_name": "Python 3",
   "language": "python",
   "name": "python3"
  },
  "language_info": {
   "codemirror_mode": {
    "name": "ipython",
    "version": 3
   },
   "file_extension": ".py",
   "mimetype": "text/x-python",
   "name": "python",
   "nbconvert_exporter": "python",
   "pygments_lexer": "ipython3",
   "version": "3.7.3"
  }
 },
 "nbformat": 4,
 "nbformat_minor": 2
}
