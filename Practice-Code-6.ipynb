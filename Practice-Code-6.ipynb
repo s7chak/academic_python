{
 "cells": [
  {
   "cell_type": "code",
   "execution_count": 1,
   "metadata": {},
   "outputs": [],
   "source": [
    "import math\n",
    "import random"
   ]
  },
  {
   "cell_type": "markdown",
   "metadata": {},
   "source": [
    "## Subarray with given sum"
   ]
  },
  {
   "cell_type": "code",
   "execution_count": 2,
   "metadata": {},
   "outputs": [
    {
     "name": "stdout",
     "output_type": "stream",
     "text": [
      "1\n",
      "42 468\n",
      "135 101 170 125 79 159 163 65 106 146 82 28 162 92 196 143 28 37 192 5 103 154 93 183 22 117 119 96 48 127 172 139 70 113 68 100 36 95 104 12 123 134\n",
      "38 42\n"
     ]
    }
   ],
   "source": [
    "t=int(input())\n",
    "for tc in range(t):\n",
    "    n,s=(int(i) for i in input().split(' '))\n",
    "    x=input()\n",
    "    try:\n",
    "        nums=[int(i) for i in x.split(' ')]\n",
    "    except:\n",
    "        print(-1)\n",
    "    \n",
    "    l=0\n",
    "    r=1\n",
    "    f=False\n",
    "    while r-l<n:\n",
    "        if sum(nums[l:r+1])==s:\n",
    "            print(l+1,r+1)\n",
    "            f=True\n",
    "            break\n",
    "        if r==n-1:\n",
    "            l+=1\n",
    "            r=l+1\n",
    "        else:\n",
    "            r+=1\n",
    "    if not f:\n",
    "        print(-1)"
   ]
  },
  {
   "cell_type": "markdown",
   "metadata": {},
   "source": [
    "## Max Subarray Sum - Kadane's Algo"
   ]
  },
  {
   "cell_type": "code",
   "execution_count": 4,
   "metadata": {},
   "outputs": [
    {
     "name": "stdout",
     "output_type": "stream",
     "text": [
      "1\n",
      "384\n",
      "-14 77 15 93 35 86 -8 -51 -79 62 -73 -10 -41 63 26 40 -74 72 36 -89 68 67 -71 82 30 -38 23 -33 35 29 -98 -78 -42 -31 67 93 -44 -89 -58 -71 73 -79 19 84 37 98 24 15 70 -87 26 -9 80 56 -27 -38 70 96 -19 5 25 -16 27 36 5 -54 29 13 -43 24 -5 82 45 -86 67 -66 64 -57 50 -13 -92 -24 78 88 84 -97 -49 54 99 32 -40 -24 68 39 -88 -74 86 -6 39 95 70 -66 78 -33 -99 -3 2 17 -8 -48 56 1 -20 -14 -59 -35 -11 -56 -81 -60 29 -69 17 -3 71 -19 -25 9 27 67 -44 -3 53 86 65 6 -17 -81 -76 28 -29 32 -71 3 -81 -30 68 8 15 40 49 96 23 -82 -55 -54 -49 21 55 79 -12 64 -72 -59 50 93 0 -66 64 24 14 87 -44 43 -9 -73 65 -41 36 -68 51 -63 -72 -25 -93 -26 21 -42 95 -71 -63 -65 93 -82 -72 43 -89 28 29 76 -96 -57 63 -87 38 -94 -60 4 -82 28 -12 69 17 17 96 24 43 -30 83 -10 -1 72 25 -56 90 5 39 54 86 -31 -18 42 -36 97 7 55 -96 48 -89 -78 -72 -1 43 46 68 40 -78 11 -90 -95 -99 -39 30 -22 5 20 36 -56 -74 22 -35 8 -84 -18 -42 24 -63 -38 -76 -100 -64 -48 -1 79 50 -32 -29 73 31 -19 30 33 -6 -40 63 99 81 -1 96 59 73 -87 -32 90\n",
      "992\n"
     ]
    }
   ],
   "source": [
    "import math\n",
    "t=int(input())\n",
    "for tc in range(t):\n",
    "    n=int(input())\n",
    "    x=input()\n",
    "    try:\n",
    "        nums=[int(i) for i in x.split(' ')]\n",
    "    except:\n",
    "        print(-1)\n",
    "    \n",
    "    mx=-math.inf\n",
    "    curmx=0\n",
    "    for i in range(len(nums)):\n",
    "        curmx=curmx+nums[i]\n",
    "        if curmx<0:\n",
    "            curmx=0\n",
    "        if mx<curmx:\n",
    "            mx=curmx\n",
    "    if mx==0:\n",
    "        print(max(nums))\n",
    "    else:\n",
    "        print(mx)"
   ]
  },
  {
   "cell_type": "markdown",
   "metadata": {},
   "source": [
    "## Merge 2 sorted arrays"
   ]
  },
  {
   "cell_type": "code",
   "execution_count": 142,
   "metadata": {},
   "outputs": [
    {
     "name": "stdout",
     "output_type": "stream",
     "text": [
      "1\n",
      "4 5\n",
      "1 2 3 4\n",
      "2 3 4 5 6\n",
      "1 2 2 3 3 4 4 5 6\n"
     ]
    }
   ],
   "source": [
    "def merge(nums1, m, nums2, n):\n",
    "        \n",
    "        i,p1,p2=m+n-1,m-1,n-1\n",
    "        \n",
    "        while i>=0 and p1>=0 and p2>=0:\n",
    "            if nums1[p1]>nums2[p2]:\n",
    "                nums1[i]=nums1[p1]\n",
    "                p1-=1\n",
    "            else:\n",
    "                nums1[i]=nums2[p2]\n",
    "                p2-=1\n",
    "            i-=1\n",
    "            \n",
    "        while p2>=0 and i>=0:\n",
    "            nums1[i]=nums2[p2]\n",
    "            i-=1\n",
    "            p2-=1\n",
    "        ans=' '.join([str(s) for s in nums1])\n",
    "        print(ans)\n",
    "\n",
    "t=int(input())\n",
    "for tc in range(t):\n",
    "    n=[int(i) for i in input().split(' ')]\n",
    "    try:\n",
    "        a=[int(i) for i in input().split(' ')]\n",
    "        b=[int(i) for i in input().split(' ')]\n",
    "    except:\n",
    "        print(-1)\n",
    "    \n",
    "    for i in range(len(b)):\n",
    "        a.append(0)\n",
    "    \n",
    "    merge(a,len(a)-len(b),b,len(b))\n"
   ]
  },
  {
   "cell_type": "code",
   "execution_count": null,
   "metadata": {},
   "outputs": [],
   "source": [
    "#Simplest\n",
    "class Solution(object):\n",
    "    def merge(self, nums1, m, nums2, n):\n",
    "        nums1[-n:] = nums2\n",
    "        return sorted(nums1)"
   ]
  },
  {
   "cell_type": "code",
   "execution_count": 140,
   "metadata": {},
   "outputs": [],
   "source": [
    "class Solution(object):\n",
    "    def merge(self, nums1, m, nums2, n):\n",
    "        \n",
    "        i,p1,p2=m+n-1,m-1,n-1\n",
    "        \n",
    "        while i>=0 and p1>=0 and p2>=0:\n",
    "            if nums1[p1]>nums2[p2]:\n",
    "                nums1[i]=nums1[p1]\n",
    "                p1-=1\n",
    "            else:\n",
    "                nums1[i]=nums2[p2]\n",
    "                p2-=1\n",
    "            i-=1\n",
    "            \n",
    "        while p2>=0 and i>=0:\n",
    "            nums1[i]=nums2[p2]\n",
    "            i-=1\n",
    "            p2-=1\n",
    "        return nums1"
   ]
  },
  {
   "cell_type": "code",
   "execution_count": 141,
   "metadata": {},
   "outputs": [
    {
     "data": {
      "text/plain": [
       "[3, 5, 6, 8, 9, 10]"
      ]
     },
     "execution_count": 141,
     "metadata": {},
     "output_type": "execute_result"
    }
   ],
   "source": [
    "a=[8,9,10,0,0,0]\n",
    "b=[3,5,6]\n",
    "# b=[2,4,6,8,9,10,11]\n",
    "Solution().merge(a,len(a)-len(b),b,len(b))"
   ]
  },
  {
   "cell_type": "markdown",
   "metadata": {},
   "source": [
    "## DFS"
   ]
  },
  {
   "cell_type": "code",
   "execution_count": 153,
   "metadata": {},
   "outputs": [],
   "source": [
    "def dfs(g,N):\n",
    "    visited=[]\n",
    "    dodfs(0,g,visited)\n",
    "    print(visited)\n",
    "\n",
    "def dodfs(n,g,visited):\n",
    "    if n in visited:\n",
    "        return\n",
    "    else:\n",
    "        visited.append(n)\n",
    "        if g[n]:\n",
    "            for nex in g[n]:\n",
    "                dodfs(nex,g,visited)\n",
    "        return"
   ]
  },
  {
   "cell_type": "code",
   "execution_count": 154,
   "metadata": {},
   "outputs": [
    {
     "name": "stdout",
     "output_type": "stream",
     "text": [
      "[0, 1, 2]\n"
     ]
    }
   ],
   "source": [
    "from collections import defaultdict\n",
    "g=defaultdict(list)\n",
    "g[0]=[1]\n",
    "g[2]=[1,2]\n",
    "g[1]=[2,0]\n",
    "dfs(g,4)"
   ]
  },
  {
   "cell_type": "markdown",
   "metadata": {},
   "source": [
    "## Surrounded Regions"
   ]
  },
  {
   "cell_type": "code",
   "execution_count": 285,
   "metadata": {},
   "outputs": [],
   "source": [
    "class Solution(object):\n",
    "    def solve(self, board):\n",
    "        if len(board)>0 and len(board[0])>0:\n",
    "            \n",
    "            r,c=len(board),len(board[0])\n",
    "            visited=[[False for i in range(c)] for j in range(r)]\n",
    "            def atedge(board, i, j):\n",
    "                if i==r-1 or j==c-1 or i==0 or j==0:\n",
    "                    return True\n",
    "                return False\n",
    "            \n",
    "            for i in range(r):\n",
    "                if board[i][0]=='O' and atedge(board, i, 0):\n",
    "                    self.dodfs(board,i,0,visited)\n",
    "\n",
    "                if board[i][c-1]=='O' and atedge(board, i, c-1):\n",
    "                    self.dodfs(board,i,c-1,visited)\n",
    "\n",
    "\n",
    "            for j in range(c):\n",
    "                if board[0][j]=='O' and atedge(board, 0, j):\n",
    "                    self.dodfs(board,0,j,visited)\n",
    "\n",
    "                if board[r-1][j]=='O' and atedge(board, r-1, j):\n",
    "                    self.dodfs(board,r-1,j,visited)\n",
    "\n",
    "            for i in range(r):\n",
    "                for j in range(c):\n",
    "                    if board[i][j]=='O' and visited[i][j]==False:\n",
    "                        board[i][j]='X'\n",
    "\n",
    "        return board\n",
    "        \n",
    "\n",
    "    def dodfs(self, board, i, j, visited):\n",
    "        \n",
    "        if visited[i][j]==False:\n",
    "            visited[i][j]=True\n",
    "            positions=[(-1,0),(0,1),(1,0),(0,-1)]\n",
    "            for p in positions:\n",
    "                if self.inside(board, i+p[0], j+p[1]) and board[i+p[0]][j+p[1]]=='O':\n",
    "                    self.dodfs(board,i+p[0],j+p[1], visited)\n",
    "\n",
    "    def inside(self, board, i, j):\n",
    "        if i<len(board) and j<len(board[0]) and i>=0 and j>=0:\n",
    "            return True\n",
    "        return False\n",
    "                            \n"
   ]
  },
  {
   "cell_type": "code",
   "execution_count": 286,
   "metadata": {},
   "outputs": [
    {
     "data": {
      "text/plain": [
       "[['X', 'X', 'X', 'X'],\n",
       " ['X', 'O', 'O', 'O'],\n",
       " ['X', 'X', 'O', 'X'],\n",
       " ['X', 'O', 'X', 'X']]"
      ]
     },
     "execution_count": 286,
     "metadata": {},
     "output_type": "execute_result"
    }
   ],
   "source": [
    "board1=[\n",
    "    ['X','X','X','X'],\n",
    "    ['X','O','O','O'],\n",
    "    ['X','X','O','X'],\n",
    "    ['X','O','X','X'],\n",
    "]\n",
    "\n",
    "board2=[\n",
    "    ['O','X','X'],\n",
    "    ['X','X','O'],\n",
    "    ['X','O','X']\n",
    "]\n",
    "\n",
    "board=[[]]\n",
    "\n",
    "Solution().solve(board1)"
   ]
  },
  {
   "cell_type": "markdown",
   "metadata": {},
   "source": [
    "## Ugly Numbers III"
   ]
  },
  {
   "cell_type": "code",
   "execution_count": 79,
   "metadata": {},
   "outputs": [],
   "source": [
    "class Solution(object):\n",
    "    def nthUglyNumber(self, n, a, b, c):\n",
    "        \n",
    "        ug=[1]\n",
    "        apos=1\n",
    "        bpos=1\n",
    "        cpos=1\n",
    "        ans=0\n",
    "        anex,bnex,cnex=a,b,c\n",
    "        \n",
    "        for i in range(n+1):\n",
    "            ans=min(anex,bnex,cnex)\n",
    "            ug.append(ans)\n",
    "#             print(ug,apos,bpos,cpos)\n",
    "            if ans==apos*a:\n",
    "                apos+=1\n",
    "                anex=apos*a\n",
    "            if ans==bpos*b:\n",
    "                bpos+=1\n",
    "                bnex=bpos*b\n",
    "            if ans==cpos*c:\n",
    "                cpos+=1\n",
    "                cnex=cpos*c\n",
    "                \n",
    "                \n",
    "        return ug[n]\n",
    "                "
   ]
  },
  {
   "cell_type": "code",
   "execution_count": 76,
   "metadata": {},
   "outputs": [],
   "source": [
    "from math import gcd\n",
    "class Solution(object):\n",
    "    def nthUglyNumber(self, n, a, b, c):\n",
    "        ab=self.lcm(a,b)\n",
    "        bc=self.lcm(b,c)\n",
    "        ca=self.lcm(a,c)\n",
    "        abc=self.lcm(a,bc)\n",
    "        n+=1\n",
    "        l,r=1,2*(10**9)\n",
    "        cnt=0\n",
    "        ans=0\n",
    "        \n",
    "        while l<r:\n",
    "            mid=l+(r-l)//2\n",
    "            cnt=mid//a + mid//b + mid//c + mid//abc - mid//ab - mid//bc - mid//ca\n",
    "            if cnt>=n-1:\n",
    "                r=mid\n",
    "            else:\n",
    "                l=mid+1\n",
    "                \n",
    "        return l\n",
    "            \n",
    "        \n",
    "    def lcm(self, a, b):\n",
    "        return a*b//gcd(a,b)"
   ]
  },
  {
   "cell_type": "code",
   "execution_count": 78,
   "metadata": {},
   "outputs": [
    {
     "data": {
      "text/plain": [
       "11"
      ]
     },
     "execution_count": 78,
     "metadata": {},
     "output_type": "execute_result"
    }
   ],
   "source": [
    "Solution().nthUglyNumber(6,2,11,13)"
   ]
  },
  {
   "cell_type": "code",
   "execution_count": 84,
   "metadata": {},
   "outputs": [],
   "source": [
    "def gcd(a,b):\n",
    "    print(a,b)\n",
    "    if a<b:\n",
    "        return gcd(b,a)\n",
    "    if b==0:\n",
    "        return a\n",
    "    return gcd(b,a%b)"
   ]
  },
  {
   "cell_type": "code",
   "execution_count": 87,
   "metadata": {},
   "outputs": [
    {
     "name": "stdout",
     "output_type": "stream",
     "text": [
      "6 4\n",
      "4 2\n",
      "2 0\n"
     ]
    },
    {
     "data": {
      "text/plain": [
       "2"
      ]
     },
     "execution_count": 87,
     "metadata": {},
     "output_type": "execute_result"
    }
   ],
   "source": [
    "gcd(6,4)"
   ]
  },
  {
   "cell_type": "markdown",
   "metadata": {},
   "source": [
    "## Deep Copy of Linked List"
   ]
  },
  {
   "cell_type": "code",
   "execution_count": 235,
   "metadata": {},
   "outputs": [],
   "source": [
    "class Node:\n",
    "    def __init__(self, x: int, next: 'Node' = None, random: 'Node' = None):\n",
    "        self.val = int(x)\n",
    "        self.next = next\n",
    "        self.random = random\n",
    "        \n",
    "    def printN(self):\n",
    "        if self:\n",
    "            print(str(self.val)+'->')\n",
    "            if self.next:\n",
    "                self.next.printN()\n",
    "        else:\n",
    "            print('None')\n",
    "\n",
    "    def printR(self):\n",
    "        if self:\n",
    "            print(str(self.val)+'R:')\n",
    "        if self.random:\n",
    "            print(str(self.random.val))\n",
    "            print()\n",
    "        else:\n",
    "            print('None')\n",
    "            print()\n",
    "            \n",
    "        if self.next:\n",
    "            self.next.printR()\n",
    "\n",
    "\n",
    "class Solution:\n",
    "    def copyRandomList(self, head: 'Node') -> 'Node':\n",
    "        \n",
    "        if head:\n",
    "            h=head\n",
    "            ans=Node(0,None,None)\n",
    "            n=Node(h.val,None,h)\n",
    "            ans.next=n\n",
    "            h=h.next\n",
    "            while h:\n",
    "                n.next=Node(h.val,None,h)\n",
    "                h=h.next\n",
    "                n=n.next\n",
    "            n.next=None\n",
    "            \n",
    "            h=head\n",
    "            r=ans.next\n",
    "\n",
    "            \n",
    "            while h and r:\n",
    "                t=h.next\n",
    "                h.next=r\n",
    "                r=r.next\n",
    "                h=t\n",
    "            \n",
    "            \n",
    "            r=ans.next\n",
    "            while r:\n",
    "                if r.random.random:\n",
    "                    r.random=r.random.random.next\n",
    "                else:\n",
    "                    r.random=None\n",
    "                r=r.next\n",
    "                \n",
    "            return ans.next\n",
    "        \n",
    "        return head"
   ]
  },
  {
   "cell_type": "code",
   "execution_count": 236,
   "metadata": {},
   "outputs": [],
   "source": [
    "a=Node(1,None,None)\n",
    "b=Node(2,None,None)\n",
    "c=Node(3,None,None)\n",
    "d=Node(4,None,None)\n",
    "\n",
    "d.next=None\n",
    "c.next=d\n",
    "b.next=c\n",
    "a.next=b\n",
    "\n",
    "d.random=b\n",
    "c.random=a\n",
    "b.random=None\n",
    "a.random=d\n",
    "x=Solution().copyRandomList(a)\n",
    "# x.printN()"
   ]
  },
  {
   "cell_type": "code",
   "execution_count": 237,
   "metadata": {},
   "outputs": [
    {
     "name": "stdout",
     "output_type": "stream",
     "text": [
      "1R:\n",
      "4\n",
      "\n",
      "2R:\n",
      "None\n",
      "\n",
      "3R:\n",
      "1\n",
      "\n",
      "4R:\n",
      "2\n",
      "\n"
     ]
    }
   ],
   "source": [
    "x.printR()"
   ]
  },
  {
   "cell_type": "code",
   "execution_count": null,
   "metadata": {},
   "outputs": [],
   "source": []
  },
  {
   "cell_type": "code",
   "execution_count": null,
   "metadata": {},
   "outputs": [],
   "source": []
  },
  {
   "cell_type": "code",
   "execution_count": null,
   "metadata": {},
   "outputs": [],
   "source": []
  },
  {
   "cell_type": "code",
   "execution_count": null,
   "metadata": {},
   "outputs": [],
   "source": []
  },
  {
   "cell_type": "code",
   "execution_count": null,
   "metadata": {},
   "outputs": [],
   "source": []
  },
  {
   "cell_type": "code",
   "execution_count": null,
   "metadata": {},
   "outputs": [],
   "source": []
  },
  {
   "cell_type": "code",
   "execution_count": null,
   "metadata": {},
   "outputs": [],
   "source": []
  },
  {
   "cell_type": "code",
   "execution_count": null,
   "metadata": {},
   "outputs": [],
   "source": []
  },
  {
   "cell_type": "code",
   "execution_count": null,
   "metadata": {},
   "outputs": [],
   "source": []
  },
  {
   "cell_type": "code",
   "execution_count": null,
   "metadata": {},
   "outputs": [],
   "source": []
  },
  {
   "cell_type": "code",
   "execution_count": null,
   "metadata": {},
   "outputs": [],
   "source": []
  },
  {
   "cell_type": "code",
   "execution_count": null,
   "metadata": {},
   "outputs": [],
   "source": []
  },
  {
   "cell_type": "code",
   "execution_count": null,
   "metadata": {},
   "outputs": [],
   "source": []
  },
  {
   "cell_type": "code",
   "execution_count": null,
   "metadata": {},
   "outputs": [],
   "source": []
  },
  {
   "cell_type": "markdown",
   "metadata": {},
   "source": [
    "# Word Squares"
   ]
  },
  {
   "cell_type": "code",
   "execution_count": 5,
   "metadata": {},
   "outputs": [],
   "source": [
    "from collections import defaultdict"
   ]
  },
  {
   "cell_type": "code",
   "execution_count": 59,
   "metadata": {},
   "outputs": [],
   "source": [
    "def isWordSquare(a):\n",
    "    r,c=len(a),len(a[0])\n",
    "    if r!=c:\n",
    "        return False\n",
    "    \n",
    "    for i in range(r):\n",
    "        if len(a[i])!=r:\n",
    "            return False\n",
    "        for j in range(c):\n",
    "            if i==j:\n",
    "                continue\n",
    "            if a[i][j]!=a[j][i]:\n",
    "                return False\n",
    "    \n",
    "    return True\n",
    "\n",
    "def find_word_squares(words):\n",
    "    words_by_letter_position = defaultdict(set)\n",
    "    for word in words:\n",
    "        for index, letter in enumerate(word):\n",
    "            words_by_letter_position[(index,letter)].add(word)\n",
    "    print(words)\n",
    "    for word in words:\n",
    "        possible_squares = set([(word,)])\n",
    "    # As long as we have any incomplete squares:\n",
    "    print(possible_squares)\n",
    "    \n",
    "    s=[]\n",
    "    while possible_squares:\n",
    "        square = possible_squares.pop()\n",
    "        keys = [(i, square[i][len(square)]) for i in range(len(square))]\n",
    "        print(keys)\n",
    "        possible_matches = [words_by_letter_position[key] for key in keys]\n",
    "        print(possible_matches)\n",
    "        for valid_word in set.intersection(*possible_matches):\n",
    "            valid_square = square + (valid_word,)\n",
    "            if len(valid_square) == len(word):\n",
    "                s.append(valid_square)\n",
    "            else:\n",
    "                possible_squares.add(valid_square)\n",
    "                \n",
    "                \n",
    "    return s\n",
    "                \n",
    "    "
   ]
  },
  {
   "cell_type": "code",
   "execution_count": 60,
   "metadata": {},
   "outputs": [
    {
     "name": "stdout",
     "output_type": "stream",
     "text": [
      "['BALL', 'AREA', 'LEAD', 'LADY', 'BUGY']\n",
      "{('BUGY',)}\n",
      "[(0, 'U')]\n",
      "[set()]\n"
     ]
    },
    {
     "data": {
      "text/plain": [
       "[]"
      ]
     },
     "execution_count": 60,
     "metadata": {},
     "output_type": "execute_result"
    }
   ],
   "source": [
    "a=['BALL',\n",
    "'AREA',\n",
    "'LEAD',\n",
    "'LADY','BUGY']\n",
    "\n",
    "\n",
    "find_word_squares(a)\n"
   ]
  },
  {
   "cell_type": "code",
   "execution_count": null,
   "metadata": {},
   "outputs": [],
   "source": []
  },
  {
   "cell_type": "code",
   "execution_count": null,
   "metadata": {},
   "outputs": [],
   "source": []
  },
  {
   "cell_type": "markdown",
   "metadata": {},
   "source": [
    "# Pure Storage Test"
   ]
  },
  {
   "cell_type": "markdown",
   "metadata": {},
   "source": [
    "## Scoring a number"
   ]
  },
  {
   "cell_type": "code",
   "execution_count": 104,
   "metadata": {},
   "outputs": [],
   "source": [
    "def compute_number_score(number):\n",
    "    s=str(number)\n",
    "    points=0\n",
    "    \n",
    "    #7\n",
    "    points+=s.count('7')\n",
    "    \n",
    "    #subseq\n",
    "    subs=0\n",
    "    i=1\n",
    "    while i<len(s):\n",
    "        sub=1\n",
    "        while i<len(s) and int(s[i])==int(s[i-1])-1:\n",
    "            sub+=1\n",
    "            i+=1    \n",
    "        subs+=sub**2\n",
    "        if i==len(s)-1:\n",
    "            subs+=1\n",
    "        i+=1\n",
    "    \n",
    "    points+=subs\n",
    "    \n",
    "    print(points)\n",
    "    \n",
    "    #5s\n",
    "    cs=0\n",
    "    i=0\n",
    "    while i<len(s)-1:\n",
    "        if s[i]=='5' and s[i+1]=='5':\n",
    "            points+=3\n",
    "        i+=1\n",
    "    \n",
    "    print(points)\n",
    "    cs=0\n",
    "    i=0\n",
    "    while i<len(s)-1:\n",
    "        if s[i:i+2]=='55':\n",
    "            i+=1\n",
    "            print(i,i+1)\n",
    "            while i<len(s)-1 and s[i+1]=='5':\n",
    "                cs+=1\n",
    "                i+=1\n",
    "        i+=1\n",
    "    points+=cs*3\n",
    "    print(points)\n",
    "    \n",
    "    #3 multiple\n",
    "    if number%3==0:\n",
    "        points+=2\n",
    "        \n",
    "    # Even digits\n",
    "    for i in range(len(s)):\n",
    "        if int(s[i])%2==0:\n",
    "            points+=4\n",
    "\n",
    "    \n",
    "    return points\n",
    "    \n"
   ]
  },
  {
   "cell_type": "code",
   "execution_count": 105,
   "metadata": {},
   "outputs": [
    {
     "name": "stdout",
     "output_type": "stream",
     "text": [
      "16\n",
      "22\n",
      "5 6\n",
      "25\n"
     ]
    },
    {
     "data": {
      "text/plain": [
       "39"
      ]
     },
     "execution_count": 105,
     "metadata": {},
     "output_type": "execute_result"
    }
   ],
   "source": [
    "compute_number_score(732155568)"
   ]
  },
  {
   "cell_type": "markdown",
   "metadata": {},
   "source": [
    "## Acquire and Release Locks"
   ]
  },
  {
   "cell_type": "code",
   "execution_count": 129,
   "metadata": {},
   "outputs": [],
   "source": [
    "from collections import defaultdict\n",
    "def check_log_history(events):\n",
    "    \n",
    "    locks=defaultdict(int)\n",
    "    st=[]\n",
    "    for i in range(len(events)):\n",
    "        l=events[i].split(' ')[1]\n",
    "        if 'ACQUIRE' in events[i]:\n",
    "            if l in locks:\n",
    "                return i+1\n",
    "            else:\n",
    "                locks[l]=0\n",
    "                st.append(l)\n",
    "\n",
    "        if 'RELEASE' in events[i]:\n",
    "            if locks[l]==0:\n",
    "                pr=st.pop()\n",
    "                if l==pr:\n",
    "                    locks[l]+=1\n",
    "                else:\n",
    "                    if st[-1]==l:\n",
    "                        return i\n",
    "                    return i+1\n",
    "            else:\n",
    "                return i+1\n",
    "    \n",
    "    if len(st)>0:\n",
    "        return events.find('ACQUIRE '+l)+1\n",
    "    \n",
    "    return 0"
   ]
  },
  {
   "cell_type": "code",
   "execution_count": 132,
   "metadata": {},
   "outputs": [
    {
     "data": {
      "text/plain": [
       "4"
      ]
     },
     "execution_count": 132,
     "metadata": {},
     "output_type": "execute_result"
    }
   ],
   "source": [
    "check_log_history(['ACQUIRE 364','ACQUIRE 54','RELEASE 54','RELEASE 54','RELEASE 364'])"
   ]
  }
 ],
 "metadata": {
  "kernelspec": {
   "display_name": "Python 3",
   "language": "python",
   "name": "python3"
  },
  "language_info": {
   "codemirror_mode": {
    "name": "ipython",
    "version": 3
   },
   "file_extension": ".py",
   "mimetype": "text/x-python",
   "name": "python",
   "nbconvert_exporter": "python",
   "pygments_lexer": "ipython3",
   "version": "3.7.3"
  }
 },
 "nbformat": 4,
 "nbformat_minor": 2
}
