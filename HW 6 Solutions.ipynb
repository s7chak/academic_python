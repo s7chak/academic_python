{
  "nbformat": 4,
  "nbformat_minor": 0,
  "metadata": {
    "colab": {
      "name": "HW 6 Solutions.ipynb",
      "provenance": []
    },
    "kernelspec": {
      "name": "python3",
      "display_name": "Python 3"
    },
    "accelerator": "GPU"
  },
  "cells": [
    {
      "cell_type": "code",
      "metadata": {
        "id": "Rfnow87N2PVO",
        "colab_type": "code",
        "colab": {}
      },
      "source": [
        " import time\n",
        "import matplotlib.pyplot as plt\n",
        "import numpy as np\n",
        "import xgboost as xgb\n",
        "from pprint import pprint\n",
        "from sklearn.model_selection import GridSearchCV\n",
        "from sklearn.datasets import fetch_openml\n",
        "from sklearn.linear_model import LogisticRegression, LogisticRegressionCV\n",
        "from sklearn.model_selection import train_test_split\n",
        "from sklearn.preprocessing import StandardScaler\n",
        "from sklearn.utils import check_random_state\n",
        "from sklearn.metrics import log_loss\n",
        "from sklearn.metrics import accuracy_score\n",
        "from sklearn.ensemble import RandomForestRegressor\n",
        "from sklearn.ensemble import RandomForestClassifier\n",
        "from sklearn.model_selection import RandomizedSearchCV\n",
        "import pandas as pd\n",
        "import sklearn as skl\n",
        "from xgboost import plot_tree\n",
        "import seaborn as sns\n",
        "import matplotlib\n",
        "from scipy.stats import skew\n",
        "from scipy.stats.stats import pearsonr\n",
        "import os, ssl\n",
        "from sklearn.linear_model import Ridge, RidgeCV, ElasticNet, Lasso, LassoCV, LassoLarsCV\n",
        "from sklearn.model_selection import cross_val_score\n",
        "%config InlineBackend.figure_format = 'png'\n",
        "%matplotlib inline"
      ],
      "execution_count": 0,
      "outputs": []
    },
    {
      "cell_type": "markdown",
      "metadata": {
        "id": "o6-Z0ztg31wo",
        "colab_type": "text"
      },
      "source": [
        "## Problem 1: Multi-class Classification – MNIST.\n",
        "In this exercise you will explore the MNIST data set which you will find here: https://www.openml.org/d/554. MNIST is a data set of handwritten digits, and is considered one of the “easiest” image recognition problems in computer vision.\n",
        "\n",
        "• Use the fetch openml command from sklearn.datasets to import the MNIST data set,\n",
        "\n",
        "• Use Random Forests to try to get the best possible test accuracy on MNIST. This involves getting acquainted with how Random Forests work, understanding their parameters, and therefore using Cross Validation to find the best settings. How well can you do? You should use the accuracy metric, since this is what you used in Lab 5 – therefore this will allow you to compare your results from Random Forests with your results from L1- and L2- Regularized Logistic Regression. What are the hyperparameters of your best model?\n",
        "\n",
        "• Use Boosting to do the same. Take the time to understand how XGBoost works (and/or other boosting packages available). Try your best to tune your hyper-parameters. As added motivation: typically the winners and near-winners of the Kaggle competition are those that are best able to tune an cross validate XGBoost. What are the hyperparameters of your best model?\n",
        "\n",
        "• (Optional) Run multi-class logistic regression on these using the cross entropy loss. You may have to play around with the hyperparameters (especially the tolerance) to get it to converge in a reasonable amount of time. I recommend the SAGA solver. Try to optimize the hyperparameters. Report your training and test loss from above,\n",
        "\n",
        "• (Optional) Choose an `1 regularizer (penalty), and see if you can get a sparse solution with almost as good accuracy.\n",
        "\n",
        "• (Optional) Note that in Logistic Regression, the coefficients returned (i.e., the β’s) are the same dimension as the data. Therefore we can pretend that the coefficients of the solution are an image of the same dimension, and plot it. Do this for the 10 sets of coefficients that correspond to the 10 classes. You should observe that, at least for the sparse solutions, these “kind of” look like the digits they are classifying."
      ]
    },
    {
      "cell_type": "code",
      "metadata": {
        "id": "MP_4W-SY2ZJ0",
        "colab_type": "code",
        "colab": {
          "base_uri": "https://localhost:8080/",
          "height": 373
        },
        "outputId": "0828b88a-6c00-4fc0-dc32-14ff5aca2b7b"
      },
      "source": [
        "t0 = time.time()\n",
        "train_samples = 5000\n",
        "# Load data from https://www.openml.org/d/554\n",
        "X, y = fetch_openml('mnist_784', version=1, return_X_y=True)\n",
        "random_state = check_random_state(0)\n",
        "permutation = random_state.permutation(X.shape[0])\n",
        "X = X[permutation]\n",
        "y = y[permutation]\n",
        "X = X.reshape((X.shape[0], -1))\n",
        "X_train, X_test, y_train, y_test = train_test_split(X, y, train_size=train_samples, test_size=10000)\n",
        "scaler = StandardScaler()\n",
        "X_train = scaler.fit_transform(X_train)\n",
        "X_test = scaler.transform(X_test)\n",
        "# Turn up tolerance for faster convergence\n",
        "clf = LogisticRegression(C=50. / train_samples,multi_class='multinomial',penalty='l1', solver='saga', tol=0.1)\n",
        "clf.fit(X_train, y_train)\n",
        "sparsity = np.mean(clf.coef_ == 0) * 100\n",
        "score = clf.score(X_test, y_test)\n",
        "# print('Best C % .4f' % clf.C_)\n",
        "print(\"Sparsity with L1 penalty: %.2f%%\" % sparsity)\n",
        "print(\"Test score with L1 penalty: %.4f\" % score)\n",
        "coef = clf.coef_.copy()\n",
        "plt.figure(figsize=(10, 5))\n",
        "scale = np.abs(coef).max()\n",
        "for i in range(10):\n",
        "  l1_plot = plt.subplot(2, 5, i + 1)\n",
        "  l1_plot.imshow(coef[i].reshape(28, 28), interpolation='nearest', cmap=plt.cm.RdBu, vmin=-scale, vmax=scale)\n",
        "  l1_plot.set_xticks(())\n",
        "  l1_plot.set_yticks(())\n",
        "  l1_plot.set_xlabel('Class %i' % i)\n",
        "plt.suptitle('Classification vector for...')\n",
        "run_time = time.time() - t0\n",
        "plt.show()"
      ],
      "execution_count": 2,
      "outputs": [
        {
          "output_type": "stream",
          "text": [
            "Sparsity with L1 penalty: 80.42%\n",
            "Test score with L1 penalty: 0.8343\n"
          ],
          "name": "stdout"
        },
        {
          "output_type": "display_data",
          "data": {
            "image/png": "[encoded data removed]",
            "text/plain": [
              "<Figure size 720x360 with 10 Axes>"
            ]
          },
          "metadata": {
            "tags": []
          }
        }
      ]
    },
    {
      "cell_type": "code",
      "metadata": {
        "id": "VPHM6FJg2iJY",
        "colab_type": "code",
        "colab": {
          "base_uri": "https://localhost:8080/",
          "height": 67
        },
        "outputId": "f518c470-1dc4-48a6-ae5d-4b32c6e41d8d"
      },
      "source": [
        "#Predicted Values\n",
        "y_predicted = clf.predict(X_test)\n",
        "print(\"Accuracy: %.2f\" % accuracy_score(y_test, y_predicted))\n",
        "#Probabilities of Predicted Values\n",
        "y_predProb = clf.predict_proba(X_test)\n",
        "y_predProbTraining = clf.predict_proba(X_train)\n",
        "#create y_truedist array with probability 1 for actual digit\n",
        "y_truedist = np.zeros((10000,10))\n",
        "dig = 0\n",
        "for i in range(10000):\n",
        "  dig = int(y_test[i])\n",
        "  y_truedist[i,dig] = 1\n",
        "\n",
        "loss = log_loss(y_test.reshape(-1,1),y_predProb, labels = ['0','1','2','3','4','5','6','7','8','9'])\n",
        "lossTraining = log_loss(y_train.reshape(-1,1),y_predProbTraining, labels = ['0','1','2','3','4','5','6','7','8','9'])\n",
        "print(\"Test Loss with L1 penalty: %.2f\" % loss)\n",
        "print(\"Training Loss with L1 penalty: %.2f\" % lossTraining)\n"
      ],
      "execution_count": 4,
      "outputs": [
        {
          "output_type": "stream",
          "text": [
            "Accuracy: 0.83\n",
            "Test Loss with L1 penalty: 0.83\n",
            "Training Loss with L1 penalty: 0.81\n"
          ],
          "name": "stdout"
        }
      ]
    },
    {
      "cell_type": "code",
      "metadata": {
        "id": "YoDzljtG2lAU",
        "colab_type": "code",
        "colab": {
          "base_uri": "https://localhost:8080/",
          "height": 406
        },
        "outputId": "ea738d35-2b5e-4e1c-e0d7-6540d83825d0"
      },
      "source": [
        "clf2 = LogisticRegression(C=50. / train_samples,\n",
        " multi_class='multinomial',\n",
        " penalty='none', solver='saga', tol=0.1)\n",
        "clf2.fit(X_train, y_train)\n",
        "sparsity = np.mean(clf2.coef_ == 0) * 100\n",
        "score = clf2.score(X_test, y_test)\n",
        "# print('Best C % .4f' % clf.C_)\n",
        "print(\"Sparsity without L1 penalty: %.2f%%\" % sparsity)\n",
        "print(\"Test score without L1 penalty: %.4f\" % score)\n",
        "coef = clf2.coef_.copy()\n",
        "plt.figure(figsize=(10, 5))\n",
        "scale = np.abs(coef).max()\n",
        "for i in range(10):\n",
        "  l1_plot = plt.subplot(2, 5, i + 1)\n",
        "  l1_plot.imshow(coef[i].reshape(28, 28), interpolation='nearest', cmap=plt.cm.RdBu, vmin=-scale, vmax=scale)\n",
        "  l1_plot.set_xticks(())\n",
        "  l1_plot.set_yticks(())\n",
        "  l1_plot.set_xlabel('Class %i' % i)\n",
        "plt.suptitle('Classification vector for...')\n",
        "run_time = time.time() - t0\n",
        "plt.show()\n"
      ],
      "execution_count": 5,
      "outputs": [
        {
          "output_type": "stream",
          "text": [
            "/usr/local/lib/python3.6/dist-packages/sklearn/linear_model/logistic.py:1510: UserWarning: Setting penalty='none' will ignore the C and l1_ratio parameters\n",
            "  \"Setting penalty='none' will ignore the C and l1_ratio \"\n"
          ],
          "name": "stderr"
        },
        {
          "output_type": "stream",
          "text": [
            "Sparsity without L1 penalty: 16.07%\n",
            "Test score without L1 penalty: 0.8841\n"
          ],
          "name": "stdout"
        },
        {
          "output_type": "display_data",
          "data": {
            "image/png": "[encoded data removed]",
            "text/plain": [
              "<Figure size 720x360 with 10 Axes>"
            ]
          },
          "metadata": {
            "tags": []
          }
        }
      ]
    },
    {
      "cell_type": "code",
      "metadata": {
        "id": "LgeqXCqY2t2-",
        "colab_type": "code",
        "colab": {
          "base_uri": "https://localhost:8080/",
          "height": 67
        },
        "outputId": "684b561a-aa76-4c1f-bbf7-dd434060b54a"
      },
      "source": [
        "#Predicted Values\n",
        "y_predicted2 = clf2.predict(X_test)\n",
        "print(\"Accuracy: %.2f\" % accuracy_score(y_test, y_predicted2))\n",
        "#Probabilities of Predicted Values\n",
        "y_predProb2 = clf2.predict_proba(X_test)\n",
        "y_predProb2Training = clf2.predict_proba(X_train)\n",
        "loss2 = log_loss(y_test.reshape(-1,1),y_predProb2, labels = ['0','1','2','3','4','5','6','7','8','9'])\n",
        "loss2Training = log_loss(y_train.reshape(-1,1),y_predProb2Training, labels = ['0','1','2','3','4','5','6','7','8','9'])\n",
        "print(\"Test Loss without L1 penalty: %.2f\" % loss2)\n",
        "print(\"Training loss without L1 penalty: %.2f\" % loss2Training)"
      ],
      "execution_count": 6,
      "outputs": [
        {
          "output_type": "stream",
          "text": [
            "Accuracy: 0.88\n",
            "Test Loss without L1 penalty: 0.44\n",
            "Training loss without L1 penalty: 0.42\n"
          ],
          "name": "stdout"
        }
      ]
    },
    {
      "cell_type": "code",
      "metadata": {
        "id": "FSagdxg82yUr",
        "colab_type": "code",
        "colab": {
          "base_uri": "https://localhost:8080/",
          "height": 34
        },
        "outputId": "3cee569b-fdc8-4594-b0a3-2cf2bbb28c2c"
      },
      "source": [
        "# Instantiate model with 500 decision trees\n",
        "rf = RandomForestClassifier(n_estimators = 500, random_state = 42, max_depth = 5)\n",
        "rf.fit(X_train, y_train)\n",
        "y_predRF = rf.predict(X_test)\n",
        "print(\"Accuracy: %.2f\" % accuracy_score(y_test, y_predRF))\n"
      ],
      "execution_count": 7,
      "outputs": [
        {
          "output_type": "stream",
          "text": [
            "Accuracy: 0.87\n"
          ],
          "name": "stdout"
        }
      ]
    },
    {
      "cell_type": "code",
      "metadata": {
        "id": "ciega2Lu21rT",
        "colab_type": "code",
        "colab": {
          "base_uri": "https://localhost:8080/",
          "height": 336
        },
        "outputId": "0967a022-0d67-4c04-8b87-bf0ed316f5a0"
      },
      "source": [
        "#Time to Tune\n",
        "# Look at parameters used by our current forest\n",
        "print('Parameters currently in use:\\n')\n",
        "pprint(rf.get_params())"
      ],
      "execution_count": 9,
      "outputs": [
        {
          "output_type": "stream",
          "text": [
            "Parameters currently in use:\n",
            "\n",
            "{'bootstrap': True,\n",
            " 'class_weight': None,\n",
            " 'criterion': 'gini',\n",
            " 'max_depth': 5,\n",
            " 'max_features': 'auto',\n",
            " 'max_leaf_nodes': None,\n",
            " 'min_impurity_decrease': 0.0,\n",
            " 'min_impurity_split': None,\n",
            " 'min_samples_leaf': 1,\n",
            " 'min_samples_split': 2,\n",
            " 'min_weight_fraction_leaf': 0.0,\n",
            " 'n_estimators': 500,\n",
            " 'n_jobs': None,\n",
            " 'oob_score': False,\n",
            " 'random_state': 42,\n",
            " 'verbose': 0,\n",
            " 'warm_start': False}\n"
          ],
          "name": "stdout"
        }
      ]
    },
    {
      "cell_type": "code",
      "metadata": {
        "id": "yc9G4jnA25Ay",
        "colab_type": "code",
        "colab": {
          "base_uri": "https://localhost:8080/",
          "height": 118
        },
        "outputId": "cb32a50f-5a8a-488d-9f1c-072630ff9a7e"
      },
      "source": [
        "# Number of trees in random forest\n",
        "n_estimators = [int(x) for x in np.linspace(start = 10, stop = 2000, num = 10)]\n",
        "# Number of features to consider at every split\n",
        "max_features = ['auto', 'sqrt']\n",
        "# Maximum number of levels in tree\n",
        "max_depth = [int(x) for x in np.linspace(10, 110, num = 11)]\n",
        "max_depth.append(None)\n",
        "# Minimum number of samples required to split a node\n",
        "min_samples_split = [2, 5, 10]\n",
        "# Minimum number of samples required at each leaf node\n",
        "min_samples_leaf = [1, 2, 4]\n",
        "# Method of selecting samples for training each tree\n",
        "bootstrap = [True, False]\n",
        "# Create the random grid\n",
        "random_grid = {'n_estimators': n_estimators,\n",
        " 'max_features': max_features,\n",
        " 'max_depth': max_depth,\n",
        " 'min_samples_split': min_samples_split,\n",
        " 'min_samples_leaf': min_samples_leaf,\n",
        " 'bootstrap': bootstrap}\n",
        "pprint(random_grid)\n"
      ],
      "execution_count": 8,
      "outputs": [
        {
          "output_type": "stream",
          "text": [
            "{'bootstrap': [True, False],\n",
            " 'max_depth': [10, 20, 30, 40, 50, 60, 70, 80, 90, 100, 110, None],\n",
            " 'max_features': ['auto', 'sqrt'],\n",
            " 'min_samples_leaf': [1, 2, 4],\n",
            " 'min_samples_split': [2, 5, 10],\n",
            " 'n_estimators': [10, 231, 452, 673, 894, 1115, 1336, 1557, 1778, 2000]}\n"
          ],
          "name": "stdout"
        }
      ]
    },
    {
      "cell_type": "code",
      "metadata": {
        "id": "2TBUBVnW3Ase",
        "colab_type": "code",
        "colab": {
          "base_uri": "https://localhost:8080/",
          "height": 171
        },
        "outputId": "1d2b7102-8ceb-4d1c-bf54-8277c51f8fea"
      },
      "source": [
        "# Use the random grid to search for best hyperparameters\n",
        "# First create the base model to tune\n",
        "rf2 = RandomForestClassifier()\n",
        "# Random search of parameters, using 3 fold cross validation,\n",
        "# search across 100 different combinations, and use all available cores\n",
        "rf_random = RandomizedSearchCV(estimator = rf2, param_distributions = random_grid, n_iter = 100, cv = 3, verbose=2, random_state=42, n_jobs = -1)\n",
        "# Fit the random search model\n",
        "rf_random.fit(X_train, y_train)\n",
        "print(rf_random.best_params_)\n"
      ],
      "execution_count": 9,
      "outputs": [
        {
          "output_type": "stream",
          "text": [
            "Fitting 3 folds for each of 100 candidates, totalling 300 fits\n"
          ],
          "name": "stdout"
        },
        {
          "output_type": "stream",
          "text": [
            "[Parallel(n_jobs=-1)]: Using backend LokyBackend with 2 concurrent workers.\n",
            "/usr/local/lib/python3.6/dist-packages/joblib/externals/loky/process_executor.py:706: UserWarning: A worker stopped while some jobs were given to the executor. This can be caused by a too short worker timeout or by a memory leak.\n",
            "  \"timeout or by a memory leak.\", UserWarning\n",
            "[Parallel(n_jobs=-1)]: Done  37 tasks      | elapsed:  8.5min\n",
            "[Parallel(n_jobs=-1)]: Done 158 tasks      | elapsed: 33.4min\n",
            "[Parallel(n_jobs=-1)]: Done 300 out of 300 | elapsed: 59.6min finished\n"
          ],
          "name": "stderr"
        },
        {
          "output_type": "stream",
          "text": [
            "{'n_estimators': 1336, 'min_samples_split': 5, 'min_samples_leaf': 1, 'max_features': 'sqrt', 'max_depth': 80, 'bootstrap': False}\n"
          ],
          "name": "stdout"
        }
      ]
    },
    {
      "cell_type": "code",
      "metadata": {
        "id": "qzltPnVu3EC0",
        "colab_type": "code",
        "colab": {
          "base_uri": "https://localhost:8080/",
          "height": 50
        },
        "outputId": "d09ea18f-2ce5-4f5a-da18-446f5d2301de"
      },
      "source": [
        "rfBest = RandomForestClassifier(n_estimators = 231, random_state = 42, max_depth = None, min_samples_split = 2, min_samples_leaf = 1, max_features = 'sqrt',bootstrap = False)\n",
        "rfBest.fit(X_train, y_train)\n",
        "y_predBestRF = rfBest.predict(X_test)\n",
        "print(\"Accuracy: %.2f\" % accuracy_score(y_test, y_predBestRF))\n",
        "print(\"This accuracy is really good\")"
      ],
      "execution_count": 10,
      "outputs": [
        {
          "output_type": "stream",
          "text": [
            "Accuracy: 0.95\n",
            "This accuracy is really good\n"
          ],
          "name": "stdout"
        }
      ]
    },
    {
      "cell_type": "code",
      "metadata": {
        "id": "5pHtakTv3L8F",
        "colab_type": "code",
        "colab": {
          "base_uri": "https://localhost:8080/",
          "height": 34
        },
        "outputId": "63de2b1a-310e-4947-9d47-fee292eb8bed"
      },
      "source": [
        "#XGBoost\n",
        "D_train = xgb.DMatrix(X_train, label=y_train)\n",
        "D_test = xgb.DMatrix(X_test, label=y_test)\n",
        "xg_model = xgb.XGBClassifier(colsample_bytree = 0.3, learning_rate = 0.1, max_depth = 5, alpha = 10, n_estimators = 10)\n",
        "xg_model.fit(X_train,y_train)\n",
        "preds = xg_model.predict(X_test)\n",
        "print(\"Accuracy: %.2f\" % accuracy_score(y_test, preds))\n"
      ],
      "execution_count": 12,
      "outputs": [
        {
          "output_type": "stream",
          "text": [
            "Accuracy: 0.90\n"
          ],
          "name": "stdout"
        }
      ]
    },
    {
      "cell_type": "code",
      "metadata": {
        "id": "FPkzIfls3XKz",
        "colab_type": "code",
        "colab": {
          "base_uri": "https://localhost:8080/",
          "height": 171
        },
        "outputId": "28269e54-bd4a-419d-c1de-dd5ba38f579c"
      },
      "source": [
        "xg_model2 = xgb.XGBClassifier()\n",
        "parameters = {\n",
        " \"eta\" : [0.10, 0.20, 0.30 ] ,\n",
        " \"max_depth\" : [ 5, 10, 15],\n",
        " \"min_child_weight\" : [ 1, 3, 5, 7 ],\n",
        " \"gamma\" : [ 0.0, 0.2 , 0.4 ],\n",
        " \"colsample_bytree\" : [ 0.3, 0.5 , 0.7 ]\n",
        " }\n",
        "xgb_random = RandomizedSearchCV(estimator = xg_model2, param_distributions = parameters, n_iter = 100, cv = 3, verbose=2, random_state=42, n_jobs = -1)\n",
        "# Fit the random search model\n",
        "xgb_random.fit(X_train, y_train)\n",
        "print(xgb_random.best_params_)\n"
      ],
      "execution_count": 13,
      "outputs": [
        {
          "output_type": "stream",
          "text": [
            "Fitting 3 folds for each of 100 candidates, totalling 300 fits\n"
          ],
          "name": "stdout"
        },
        {
          "output_type": "stream",
          "text": [
            "[Parallel(n_jobs=-1)]: Using backend LokyBackend with 2 concurrent workers.\n",
            "/usr/local/lib/python3.6/dist-packages/joblib/externals/loky/process_executor.py:706: UserWarning: A worker stopped while some jobs were given to the executor. This can be caused by a too short worker timeout or by a memory leak.\n",
            "  \"timeout or by a memory leak.\", UserWarning\n",
            "[Parallel(n_jobs=-1)]: Done  37 tasks      | elapsed: 28.7min\n",
            "[Parallel(n_jobs=-1)]: Done 158 tasks      | elapsed: 116.3min\n",
            "[Parallel(n_jobs=-1)]: Done 300 out of 300 | elapsed: 220.4min finished\n"
          ],
          "name": "stderr"
        },
        {
          "output_type": "stream",
          "text": [
            "{'min_child_weight': 3, 'max_depth': 10, 'gamma': 0.0, 'eta': 0.1, 'colsample_bytree': 0.3}\n"
          ],
          "name": "stdout"
        }
      ]
    },
    {
      "cell_type": "code",
      "metadata": {
        "id": "NDXxOlWi3aeq",
        "colab_type": "code",
        "colab": {
          "base_uri": "https://localhost:8080/",
          "height": 34
        },
        "outputId": "bf00f57a-00bd-4bdf-a0d9-6cec4ac92f2b"
      },
      "source": [
        "xgb_best = xgb.XGBClassifier(min_child_weight = 3, max_depth = 15, gamma = 0.2, eta = 0.3, colsample_bytree = 0.3)\n",
        "xgb_best.fit(X_train,y_train)\n",
        "bestPreds = xgb_best.predict(X_test)\n",
        "print(\"Accuracy: %.2f\" % accuracy_score(y_test, bestPreds))\n"
      ],
      "execution_count": 14,
      "outputs": [
        {
          "output_type": "stream",
          "text": [
            "Accuracy: 0.94\n"
          ],
          "name": "stdout"
        }
      ]
    },
    {
      "cell_type": "markdown",
      "metadata": {
        "id": "fqudUEXz3eCY",
        "colab_type": "text"
      },
      "source": [
        "The Randomized Search XGBoost accuracy is about as good as the Randomized Search Random Forest accuracy. For further improvement, more parameters can be inputted into the randomized search."
      ]
    },
    {
      "cell_type": "code",
      "metadata": {
        "id": "mGbDjSxj3mvE",
        "colab_type": "code",
        "colab": {}
      },
      "source": [
        ""
      ],
      "execution_count": 0,
      "outputs": []
    },
    {
      "cell_type": "markdown",
      "metadata": {
        "id": "s1eFxZhi45K1",
        "colab_type": "text"
      },
      "source": [
        "## Problem 2: CIFAR-10.\n",
        "In this problem you will explore the data set CIFAR-10, just as you did above for MNIST. Now that you have your pipeline set up, it should be easy to apply the above procedure to CIFAR-10.\n",
        "If you did something that takes significant computation time, keep in mind that CIFAR-10 is a few times larger.\n",
        "\n",
        "• (Optional) You can read about the CIFAR-10 and CIFAR-100 data sets here: https://www.cs.toronto.edu/~kriz/cifar.html.\n",
        "\n",
        "• (Optional) OpenML curates a number of data sets. You will use a subset of CIFAR-10 provided by them. Read here for a description: https://www.openml.org/d/40926.\n",
        "\n",
        "• Use the fetch openml command from sklearn.datasets to import the CIFAR-10-Small data set.\n",
        "\n",
        "• Figure out how to display some of the images in this data set, and display a couple. While not high resolution, these should be recognizable if you are doing it correctly.\n",
        "\n",
        "• What is the best accuracy you can get on the test data, by tuning Random Forests? What are the hyperparameters of your best model?\n",
        "\n",
        "• What is the best accuracy you can get on the test data, by tuning XGBoost? What are the hyperparameters of your best model?\n",
        "\n",
        "• (Optional) You will run multi-class logistic regression on these using the cross entropy loss. You have to specify this specifically (multi class=’multinomial’). Use cross validation to see how good your accuracy can be. In this case, cross validate to find as good regularization coefficients as you can, for `1 and `2 regularization (called penalties), which are naturally supported in sklearn.linear model.LogisticRegression. As with MNIST, I recommend you use the solver saga.\n",
        "\n",
        "• (Optional) Report your training and test loss from above,\n",
        "\n",
        "• (Optional) How sparse can you make your solutions without deteriorating your testing error too much? Here, I am asking you to try to obtain a sparse solution that has test accuracy that is close to the best solution you found."
      ]
    },
    {
      "cell_type": "code",
      "metadata": {
        "id": "64v7LU4b5Kt9",
        "colab_type": "code",
        "colab": {
          "base_uri": "https://localhost:8080/",
          "height": 34
        },
        "outputId": "752b3e5a-3b20-46f7-bda6-1649e02f7f00"
      },
      "source": [
        "if (not os.environ.get('PYTHONHTTPSVERIFY', '') and\n",
        "getattr(ssl, '_create_unverified_context', None)):\n",
        " ssl._create_default_https_context = ssl._create_unverified_context\n",
        "data = fetch_openml(\"CIFAR_10_small\")\n",
        "pics = data['data']\n",
        "label = data['target']\n",
        "X_train = pics[18000:]\n",
        "y_train = label[18000:]\n",
        "rf = RandomForestClassifier(n_estimators= 500, random_state = 42, max_depth=5)\n",
        "rf.fit(X_train, y_train)\n",
        "y_predRF = rf.predict(pics[:1000])\n",
        "y_true = label[:1000]\n",
        "print(skl.metrics.accuracy_score(y_true, y_predRF))"
      ],
      "execution_count": 5,
      "outputs": [
        {
          "output_type": "stream",
          "text": [
            "0.338\n"
          ],
          "name": "stdout"
        }
      ]
    },
    {
      "cell_type": "code",
      "metadata": {
        "id": "zIYEp9mc6J6G",
        "colab_type": "code",
        "colab": {
          "base_uri": "https://localhost:8080/",
          "height": 608
        },
        "outputId": "d4d9510d-3c07-40fa-de79-deb59fb7e24e"
      },
      "source": [
        "random_grid = {\n",
        " 'n_estimators': [int(x) for x in np.linspace(start = 10, stop = 2000, num = 10)],\n",
        " 'max_features': ['auto', 'sqrt'],\n",
        " 'max_depth': [int(x) for x in np.linspace(start = 10, stop = 110, num = 11)],\n",
        " 'min_samples_split': [2,5,10],\n",
        " 'min_samples_leaf': [1,2,4],\n",
        " 'bootstrap': [True, False]\n",
        "}\n",
        "rf2 = RandomForestClassifier()\n",
        "rf_random = RandomizedSearchCV(estimator = rf2, param_distributions=random_grid, n_iter=100, cv=3, verbose=2, random_state=42, n_jobs=-1)\n",
        "rf_random.fit(X_train, y_train)"
      ],
      "execution_count": 6,
      "outputs": [
        {
          "output_type": "stream",
          "text": [
            "Fitting 3 folds for each of 100 candidates, totalling 300 fits\n"
          ],
          "name": "stdout"
        },
        {
          "output_type": "stream",
          "text": [
            "[Parallel(n_jobs=-1)]: Using backend LokyBackend with 2 concurrent workers.\n",
            "/usr/local/lib/python3.6/dist-packages/joblib/externals/loky/process_executor.py:706: UserWarning: A worker stopped while some jobs were given to the executor. This can be caused by a too short worker timeout or by a memory leak.\n",
            "  \"timeout or by a memory leak.\", UserWarning\n",
            "[Parallel(n_jobs=-1)]: Done  37 tasks      | elapsed: 27.2min\n",
            "[Parallel(n_jobs=-1)]: Done 158 tasks      | elapsed: 92.2min\n",
            "[Parallel(n_jobs=-1)]: Done 300 out of 300 | elapsed: 194.4min finished\n"
          ],
          "name": "stderr"
        },
        {
          "output_type": "execute_result",
          "data": {
            "text/plain": [
              "RandomizedSearchCV(cv=3, error_score='raise-deprecating',\n",
              "                   estimator=RandomForestClassifier(bootstrap=True,\n",
              "                                                    class_weight=None,\n",
              "                                                    criterion='gini',\n",
              "                                                    max_depth=None,\n",
              "                                                    max_features='auto',\n",
              "                                                    max_leaf_nodes=None,\n",
              "                                                    min_impurity_decrease=0.0,\n",
              "                                                    min_impurity_split=None,\n",
              "                                                    min_samples_leaf=1,\n",
              "                                                    min_samples_split=2,\n",
              "                                                    min_weight_fraction_leaf=0.0,\n",
              "                                                    n_estimators='warn',\n",
              "                                                    n_jobs=None,\n",
              "                                                    oob_sc...\n",
              "                   iid='warn', n_iter=100, n_jobs=-1,\n",
              "                   param_distributions={'bootstrap': [True, False],\n",
              "                                        'max_depth': [10, 20, 30, 40, 50, 60,\n",
              "                                                      70, 80, 90, 100, 110],\n",
              "                                        'max_features': ['auto', 'sqrt'],\n",
              "                                        'min_samples_leaf': [1, 2, 4],\n",
              "                                        'min_samples_split': [2, 5, 10],\n",
              "                                        'n_estimators': [10, 231, 452, 673, 894,\n",
              "                                                         1115, 1336, 1557, 1778,\n",
              "                                                         2000]},\n",
              "                   pre_dispatch='2*n_jobs', random_state=42, refit=True,\n",
              "                   return_train_score=False, scoring=None, verbose=2)"
            ]
          },
          "metadata": {
            "tags": []
          },
          "execution_count": 6
        }
      ]
    },
    {
      "cell_type": "code",
      "metadata": {
        "id": "ZrtIRZ-w6Nor",
        "colab_type": "code",
        "colab": {
          "base_uri": "https://localhost:8080/",
          "height": 118
        },
        "outputId": "fe505436-2abc-4011-e479-205e1ef8bd8f"
      },
      "source": [
        "rf_random.best_params_\n"
      ],
      "execution_count": 7,
      "outputs": [
        {
          "output_type": "execute_result",
          "data": {
            "text/plain": [
              "{'bootstrap': False,\n",
              " 'max_depth': 80,\n",
              " 'max_features': 'auto',\n",
              " 'min_samples_leaf': 2,\n",
              " 'min_samples_split': 5,\n",
              " 'n_estimators': 1778}"
            ]
          },
          "metadata": {
            "tags": []
          },
          "execution_count": 7
        }
      ]
    },
    {
      "cell_type": "code",
      "metadata": {
        "id": "thnq49bU6nDX",
        "colab_type": "code",
        "colab": {
          "base_uri": "https://localhost:8080/",
          "height": 34
        },
        "outputId": "77ff4807-29a1-4716-d930-f0a8deb09489"
      },
      "source": [
        "rf3 = RandomForestClassifier(n_estimators= 894, max_depth=70, min_samples_split=2, min_samples_leaf=2, max_features='auto', bootstrap=False)\n",
        "rf3.fit(X_train, y_train)\n",
        "y_predRF3 = rf.predict(pics[:1000])\n",
        "y_true = label[:1000]\n",
        "print(skl.metrics.accuracy_score(y_true, y_predRF3))"
      ],
      "execution_count": 9,
      "outputs": [
        {
          "output_type": "stream",
          "text": [
            "0.338\n"
          ],
          "name": "stdout"
        }
      ]
    },
    {
      "cell_type": "code",
      "metadata": {
        "id": "UoHoQyqB6pzC",
        "colab_type": "code",
        "colab": {
          "base_uri": "https://localhost:8080/",
          "height": 70
        },
        "outputId": "0b8ed32e-8c7f-4e33-efce-e665f82c338a"
      },
      "source": [
        "# specify parameters via map\n",
        "#param = {'max_depth':2, 'eta':1, 'objective':'multi:softprob', 'num_class':10}\n",
        "#num_round = 30\n",
        "model = xgb.XGBClassifier(colsample_bytree=.3, max_depth=5, learning_rate=.1, n_estimators=300, alpha=10)\n",
        "#bst = xgb.train(param, dtrain, num_round)\n",
        "# make prediction\n",
        "#preds = bst.predict(dtest)\n",
        "#best_preds = np.asarray([np.argmax(line) for line in preds])\n",
        "clf = xgb.XGBClassifier()\n",
        "parameters = {\n",
        " \"eta\" : [0.05, 0.10, 0.15, 0.20, 0.25, 0.30 ] ,\n",
        " \"max_depth\" : [ 3, 4, 5, 6, 8, 10, 12, 15]\n",
        " }\n",
        "grid = GridSearchCV(clf, parameters, n_jobs=4, scoring=\"neg_log_loss\", cv=3)\n",
        "grid.fit(X_train, y_train)\n",
        "model.fit(pics[18000:], label[18000:])\n"
      ],
      "execution_count": 0,
      "outputs": [
        {
          "output_type": "stream",
          "text": [
            "/usr/local/lib/python3.6/dist-packages/joblib/externals/loky/process_executor.py:706: UserWarning: A worker stopped while some jobs were given to the executor. This can be caused by a too short worker timeout or by a memory leak.\n",
            "  \"timeout or by a memory leak.\", UserWarning\n"
          ],
          "name": "stderr"
        }
      ]
    },
    {
      "cell_type": "code",
      "metadata": {
        "id": "t0G6etoI60wI",
        "colab_type": "code",
        "colab": {
          "base_uri": "https://localhost:8080/",
          "height": 202
        },
        "outputId": "44f2446a-4d66-46d7-ce28-872ee500fd01"
      },
      "source": [
        "preds = model.predict(pics[:1000])\n",
        "y_true = label[:1000]\n",
        "print(skl.metrics.accuracy_score(y_true, preds))\n",
        "for i in range(0,5):\n",
        "  print(preds[i])\n",
        "  print(label[i])"
      ],
      "execution_count": 9,
      "outputs": [
        {
          "output_type": "stream",
          "text": [
            "0.353\n",
            "6\n",
            "6\n",
            "8\n",
            "9\n",
            "9\n",
            "9\n",
            "6\n",
            "4\n",
            "9\n",
            "1\n"
          ],
          "name": "stdout"
        }
      ]
    },
    {
      "cell_type": "code",
      "metadata": {
        "id": "MmBBLExv679v",
        "colab_type": "code",
        "colab": {}
      },
      "source": [
        "# dump model with feature map\n",
        "bst.dump_model('dump.raw.txt')"
      ],
      "execution_count": 0,
      "outputs": []
    },
    {
      "cell_type": "markdown",
      "metadata": {
        "id": "ObkGs2FA5UL4",
        "colab_type": "text"
      },
      "source": [
        "## Problem 3: Revisiting Kaggle.\n",
        "1. (From PS 3) Lets start with our first Kaggle submission in a playground regression competition. Make an account to Kaggle and find https://www.kaggle.com/c/house-prices-advancedregression-techniques/\n",
        "2. (From PS 3) Follow the data preprocessing steps from https://www.kaggle.com/apapiu/houseprices-advanced-regression-techniques/regularized-linear-models. Then run a ridge regression using α = 0.1. Make a submission of this prediction, what is the RMSE you get?\n",
        "(Hint: remember to exponentiate np.expm1(ypred) your predictions).\n",
        "3. (From PS 3) Compare a ridge regression and a lasso regression model. Optimize the alphas using cross validation. What is the best score you can get from a single ridge regression model and from a single lasso model?\n",
        "4. (From PS 3) Plot the l0 norm (number of nonzeros) of the coefficients that lasso produces as you vary the strength of regularization parameter alpha.\n",
        "5. (From PS 3) Add the outputs of your models as features and train a ridge regression on all the features plus the model outputs (This is called Ensembling and Stacking). Be careful not to overfit. What score can you get? (We will be discussing ensembling more, later in the class, but you can start playing with it now).\n",
        "6. Train a gradient boosting regression, e.g., using XGBoost. What score can you get just from a single XGB? (you will need to optimize over its parameters). We will discuss boosting and gradient boosting in more detail later. XGB is a great friend to all good Kagglers!\n",
        "7. Do your best to get the more accurate model. Try feature engineering and stacking many models. You are allowed to use any public tool in python. No non-python tools allowed.\n",
        "8. Read the Kaggle forums, tutorials and Kernels in this competition. This is an excellent way to learn. Include in your report if you find something in the forums you like, or if you made your own post or code post, especially if other Kagglers liked or used it afterwards.\n",
        "9. Be sure to read and learn the rules of Kaggle! No sharing of code or data outside the Kaggle forums. Every student should have their own individual Kaggle account and teams can be formed in the Kaggle submissions with your Lab partner. This is more important for live competitions of course.\n",
        "10. As in the real in-class Kaggle competition (which will be next), you will be graded based on your public score (include that in your report) and also on the creativity of your solution. In your report (that you will submit as a pdf file), explain what worked and what did not work. Many creative things will not work, but you will get partial credit for developing them. We will invite teams with interesting solutions to present them in class."
      ]
    },
    {
      "cell_type": "code",
      "metadata": {
        "id": "fNp63GzuAms0",
        "colab_type": "code",
        "colab": {
          "base_uri": "https://localhost:8080/",
          "height": 121
        },
        "outputId": "92f6d602-1ff1-493d-ff9f-8714810a3af9"
      },
      "source": [
        "from google.colab import drive\n",
        "drive.mount('/content/gdrive', force_remount=True)\n"
      ],
      "execution_count": 2,
      "outputs": [
        {
          "output_type": "stream",
          "text": [
            "Go to this URL in a browser: https://accounts.google.com/o/oauth2/auth?client_id=947318989803-6bn6qk8qdgf4n4g3pfee6491hc0brc4i.apps.googleusercontent.com&redirect_uri=urn%3Aietf%3Awg%3Aoauth%3A2.0%3Aoob&scope=email%20https%3A%2F%2Fwww.googleapis.com%2Fauth%2Fdocs.test%20https%3A%2F%2Fwww.googleapis.com%2Fauth%2Fdrive%20https%3A%2F%2Fwww.googleapis.com%2Fauth%2Fdrive.photos.readonly%20https%3A%2F%2Fwww.googleapis.com%2Fauth%2Fpeopleapi.readonly&response_type=code\n",
            "\n",
            "Enter your authorization code:\n",
            "··········\n",
            "Mounted at /content/gdrive\n"
          ],
          "name": "stdout"
        }
      ]
    },
    {
      "cell_type": "code",
      "metadata": {
        "id": "5xQ9_rzR5oHQ",
        "colab_type": "code",
        "colab": {
          "base_uri": "https://localhost:8080/",
          "height": 244
        },
        "outputId": "e551cfdc-0d9c-4769-d963-6bf5d01a3b1b"
      },
      "source": [
        "path = '/content/gdrive/My Drive/Colab Notebooks/TA/'\n",
        "train = pd.read_csv(path+\"train.csv\")\n",
        "test = pd.read_csv(path+\"test.csv\")\n",
        "train.head()\n"
      ],
      "execution_count": 6,
      "outputs": [
        {
          "output_type": "execute_result",
          "data": {
            "text/html": [
              "<div>\n",
              "<style scoped>\n",
              "    .dataframe tbody tr th:only-of-type {\n",
              "        vertical-align: middle;\n",
              "    }\n",
              "\n",
              "    .dataframe tbody tr th {\n",
              "        vertical-align: top;\n",
              "    }\n",
              "\n",
              "    .dataframe thead th {\n",
              "        text-align: right;\n",
              "    }\n",
              "</style>\n",
              "<table border=\"1\" class=\"dataframe\">\n",
              "  <thead>\n",
              "    <tr style=\"text-align: right;\">\n",
              "      <th></th>\n",
              "      <th>Id</th>\n",
              "      <th>MSSubClass</th>\n",
              "      <th>MSZoning</th>\n",
              "      <th>LotFrontage</th>\n",
              "      <th>LotArea</th>\n",
              "      <th>Street</th>\n",
              "      <th>Alley</th>\n",
              "      <th>LotShape</th>\n",
              "      <th>LandContour</th>\n",
              "      <th>Utilities</th>\n",
              "      <th>LotConfig</th>\n",
              "      <th>LandSlope</th>\n",
              "      <th>Neighborhood</th>\n",
              "      <th>Condition1</th>\n",
              "      <th>Condition2</th>\n",
              "      <th>BldgType</th>\n",
              "      <th>HouseStyle</th>\n",
              "      <th>OverallQual</th>\n",
              "      <th>OverallCond</th>\n",
              "      <th>YearBuilt</th>\n",
              "      <th>YearRemodAdd</th>\n",
              "      <th>RoofStyle</th>\n",
              "      <th>RoofMatl</th>\n",
              "      <th>Exterior1st</th>\n",
              "      <th>Exterior2nd</th>\n",
              "      <th>MasVnrType</th>\n",
              "      <th>MasVnrArea</th>\n",
              "      <th>ExterQual</th>\n",
              "      <th>ExterCond</th>\n",
              "      <th>Foundation</th>\n",
              "      <th>BsmtQual</th>\n",
              "      <th>BsmtCond</th>\n",
              "      <th>BsmtExposure</th>\n",
              "      <th>BsmtFinType1</th>\n",
              "      <th>BsmtFinSF1</th>\n",
              "      <th>BsmtFinType2</th>\n",
              "      <th>BsmtFinSF2</th>\n",
              "      <th>BsmtUnfSF</th>\n",
              "      <th>TotalBsmtSF</th>\n",
              "      <th>Heating</th>\n",
              "      <th>...</th>\n",
              "      <th>CentralAir</th>\n",
              "      <th>Electrical</th>\n",
              "      <th>1stFlrSF</th>\n",
              "      <th>2ndFlrSF</th>\n",
              "      <th>LowQualFinSF</th>\n",
              "      <th>GrLivArea</th>\n",
              "      <th>BsmtFullBath</th>\n",
              "      <th>BsmtHalfBath</th>\n",
              "      <th>FullBath</th>\n",
              "      <th>HalfBath</th>\n",
              "      <th>BedroomAbvGr</th>\n",
              "      <th>KitchenAbvGr</th>\n",
              "      <th>KitchenQual</th>\n",
              "      <th>TotRmsAbvGrd</th>\n",
              "      <th>Functional</th>\n",
              "      <th>Fireplaces</th>\n",
              "      <th>FireplaceQu</th>\n",
              "      <th>GarageType</th>\n",
              "      <th>GarageYrBlt</th>\n",
              "      <th>GarageFinish</th>\n",
              "      <th>GarageCars</th>\n",
              "      <th>GarageArea</th>\n",
              "      <th>GarageQual</th>\n",
              "      <th>GarageCond</th>\n",
              "      <th>PavedDrive</th>\n",
              "      <th>WoodDeckSF</th>\n",
              "      <th>OpenPorchSF</th>\n",
              "      <th>EnclosedPorch</th>\n",
              "      <th>3SsnPorch</th>\n",
              "      <th>ScreenPorch</th>\n",
              "      <th>PoolArea</th>\n",
              "      <th>PoolQC</th>\n",
              "      <th>Fence</th>\n",
              "      <th>MiscFeature</th>\n",
              "      <th>MiscVal</th>\n",
              "      <th>MoSold</th>\n",
              "      <th>YrSold</th>\n",
              "      <th>SaleType</th>\n",
              "      <th>SaleCondition</th>\n",
              "      <th>SalePrice</th>\n",
              "    </tr>\n",
              "  </thead>\n",
              "  <tbody>\n",
              "    <tr>\n",
              "      <th>0</th>\n",
              "      <td>1</td>\n",
              "      <td>60</td>\n",
              "      <td>RL</td>\n",
              "      <td>65.0</td>\n",
              "      <td>8450</td>\n",
              "      <td>Pave</td>\n",
              "      <td>NaN</td>\n",
              "      <td>Reg</td>\n",
              "      <td>Lvl</td>\n",
              "      <td>AllPub</td>\n",
              "      <td>Inside</td>\n",
              "      <td>Gtl</td>\n",
              "      <td>CollgCr</td>\n",
              "      <td>Norm</td>\n",
              "      <td>Norm</td>\n",
              "      <td>1Fam</td>\n",
              "      <td>2Story</td>\n",
              "      <td>7</td>\n",
              "      <td>5</td>\n",
              "      <td>2003</td>\n",
              "      <td>2003</td>\n",
              "      <td>Gable</td>\n",
              "      <td>CompShg</td>\n",
              "      <td>VinylSd</td>\n",
              "      <td>VinylSd</td>\n",
              "      <td>BrkFace</td>\n",
              "      <td>196.0</td>\n",
              "      <td>Gd</td>\n",
              "      <td>TA</td>\n",
              "      <td>PConc</td>\n",
              "      <td>Gd</td>\n",
              "      <td>TA</td>\n",
              "      <td>No</td>\n",
              "      <td>GLQ</td>\n",
              "      <td>706</td>\n",
              "      <td>Unf</td>\n",
              "      <td>0</td>\n",
              "      <td>150</td>\n",
              "      <td>856</td>\n",
              "      <td>GasA</td>\n",
              "      <td>...</td>\n",
              "      <td>Y</td>\n",
              "      <td>SBrkr</td>\n",
              "      <td>856</td>\n",
              "      <td>854</td>\n",
              "      <td>0</td>\n",
              "      <td>1710</td>\n",
              "      <td>1</td>\n",
              "      <td>0</td>\n",
              "      <td>2</td>\n",
              "      <td>1</td>\n",
              "      <td>3</td>\n",
              "      <td>1</td>\n",
              "      <td>Gd</td>\n",
              "      <td>8</td>\n",
              "      <td>Typ</td>\n",
              "      <td>0</td>\n",
              "      <td>NaN</td>\n",
              "      <td>Attchd</td>\n",
              "      <td>2003.0</td>\n",
              "      <td>RFn</td>\n",
              "      <td>2</td>\n",
              "      <td>548</td>\n",
              "      <td>TA</td>\n",
              "      <td>TA</td>\n",
              "      <td>Y</td>\n",
              "      <td>0</td>\n",
              "      <td>61</td>\n",
              "      <td>0</td>\n",
              "      <td>0</td>\n",
              "      <td>0</td>\n",
              "      <td>0</td>\n",
              "      <td>NaN</td>\n",
              "      <td>NaN</td>\n",
              "      <td>NaN</td>\n",
              "      <td>0</td>\n",
              "      <td>2</td>\n",
              "      <td>2008</td>\n",
              "      <td>WD</td>\n",
              "      <td>Normal</td>\n",
              "      <td>208500</td>\n",
              "    </tr>\n",
              "    <tr>\n",
              "      <th>1</th>\n",
              "      <td>2</td>\n",
              "      <td>20</td>\n",
              "      <td>RL</td>\n",
              "      <td>80.0</td>\n",
              "      <td>9600</td>\n",
              "      <td>Pave</td>\n",
              "      <td>NaN</td>\n",
              "      <td>Reg</td>\n",
              "      <td>Lvl</td>\n",
              "      <td>AllPub</td>\n",
              "      <td>FR2</td>\n",
              "      <td>Gtl</td>\n",
              "      <td>Veenker</td>\n",
              "      <td>Feedr</td>\n",
              "      <td>Norm</td>\n",
              "      <td>1Fam</td>\n",
              "      <td>1Story</td>\n",
              "      <td>6</td>\n",
              "      <td>8</td>\n",
              "      <td>1976</td>\n",
              "      <td>1976</td>\n",
              "      <td>Gable</td>\n",
              "      <td>CompShg</td>\n",
              "      <td>MetalSd</td>\n",
              "      <td>MetalSd</td>\n",
              "      <td>None</td>\n",
              "      <td>0.0</td>\n",
              "      <td>TA</td>\n",
              "      <td>TA</td>\n",
              "      <td>CBlock</td>\n",
              "      <td>Gd</td>\n",
              "      <td>TA</td>\n",
              "      <td>Gd</td>\n",
              "      <td>ALQ</td>\n",
              "      <td>978</td>\n",
              "      <td>Unf</td>\n",
              "      <td>0</td>\n",
              "      <td>284</td>\n",
              "      <td>1262</td>\n",
              "      <td>GasA</td>\n",
              "      <td>...</td>\n",
              "      <td>Y</td>\n",
              "      <td>SBrkr</td>\n",
              "      <td>1262</td>\n",
              "      <td>0</td>\n",
              "      <td>0</td>\n",
              "      <td>1262</td>\n",
              "      <td>0</td>\n",
              "      <td>1</td>\n",
              "      <td>2</td>\n",
              "      <td>0</td>\n",
              "      <td>3</td>\n",
              "      <td>1</td>\n",
              "      <td>TA</td>\n",
              "      <td>6</td>\n",
              "      <td>Typ</td>\n",
              "      <td>1</td>\n",
              "      <td>TA</td>\n",
              "      <td>Attchd</td>\n",
              "      <td>1976.0</td>\n",
              "      <td>RFn</td>\n",
              "      <td>2</td>\n",
              "      <td>460</td>\n",
              "      <td>TA</td>\n",
              "      <td>TA</td>\n",
              "      <td>Y</td>\n",
              "      <td>298</td>\n",
              "      <td>0</td>\n",
              "      <td>0</td>\n",
              "      <td>0</td>\n",
              "      <td>0</td>\n",
              "      <td>0</td>\n",
              "      <td>NaN</td>\n",
              "      <td>NaN</td>\n",
              "      <td>NaN</td>\n",
              "      <td>0</td>\n",
              "      <td>5</td>\n",
              "      <td>2007</td>\n",
              "      <td>WD</td>\n",
              "      <td>Normal</td>\n",
              "      <td>181500</td>\n",
              "    </tr>\n",
              "    <tr>\n",
              "      <th>2</th>\n",
              "      <td>3</td>\n",
              "      <td>60</td>\n",
              "      <td>RL</td>\n",
              "      <td>68.0</td>\n",
              "      <td>11250</td>\n",
              "      <td>Pave</td>\n",
              "      <td>NaN</td>\n",
              "      <td>IR1</td>\n",
              "      <td>Lvl</td>\n",
              "      <td>AllPub</td>\n",
              "      <td>Inside</td>\n",
              "      <td>Gtl</td>\n",
              "      <td>CollgCr</td>\n",
              "      <td>Norm</td>\n",
              "      <td>Norm</td>\n",
              "      <td>1Fam</td>\n",
              "      <td>2Story</td>\n",
              "      <td>7</td>\n",
              "      <td>5</td>\n",
              "      <td>2001</td>\n",
              "      <td>2002</td>\n",
              "      <td>Gable</td>\n",
              "      <td>CompShg</td>\n",
              "      <td>VinylSd</td>\n",
              "      <td>VinylSd</td>\n",
              "      <td>BrkFace</td>\n",
              "      <td>162.0</td>\n",
              "      <td>Gd</td>\n",
              "      <td>TA</td>\n",
              "      <td>PConc</td>\n",
              "      <td>Gd</td>\n",
              "      <td>TA</td>\n",
              "      <td>Mn</td>\n",
              "      <td>GLQ</td>\n",
              "      <td>486</td>\n",
              "      <td>Unf</td>\n",
              "      <td>0</td>\n",
              "      <td>434</td>\n",
              "      <td>920</td>\n",
              "      <td>GasA</td>\n",
              "      <td>...</td>\n",
              "      <td>Y</td>\n",
              "      <td>SBrkr</td>\n",
              "      <td>920</td>\n",
              "      <td>866</td>\n",
              "      <td>0</td>\n",
              "      <td>1786</td>\n",
              "      <td>1</td>\n",
              "      <td>0</td>\n",
              "      <td>2</td>\n",
              "      <td>1</td>\n",
              "      <td>3</td>\n",
              "      <td>1</td>\n",
              "      <td>Gd</td>\n",
              "      <td>6</td>\n",
              "      <td>Typ</td>\n",
              "      <td>1</td>\n",
              "      <td>TA</td>\n",
              "      <td>Attchd</td>\n",
              "      <td>2001.0</td>\n",
              "      <td>RFn</td>\n",
              "      <td>2</td>\n",
              "      <td>608</td>\n",
              "      <td>TA</td>\n",
              "      <td>TA</td>\n",
              "      <td>Y</td>\n",
              "      <td>0</td>\n",
              "      <td>42</td>\n",
              "      <td>0</td>\n",
              "      <td>0</td>\n",
              "      <td>0</td>\n",
              "      <td>0</td>\n",
              "      <td>NaN</td>\n",
              "      <td>NaN</td>\n",
              "      <td>NaN</td>\n",
              "      <td>0</td>\n",
              "      <td>9</td>\n",
              "      <td>2008</td>\n",
              "      <td>WD</td>\n",
              "      <td>Normal</td>\n",
              "      <td>223500</td>\n",
              "    </tr>\n",
              "    <tr>\n",
              "      <th>3</th>\n",
              "      <td>4</td>\n",
              "      <td>70</td>\n",
              "      <td>RL</td>\n",
              "      <td>60.0</td>\n",
              "      <td>9550</td>\n",
              "      <td>Pave</td>\n",
              "      <td>NaN</td>\n",
              "      <td>IR1</td>\n",
              "      <td>Lvl</td>\n",
              "      <td>AllPub</td>\n",
              "      <td>Corner</td>\n",
              "      <td>Gtl</td>\n",
              "      <td>Crawfor</td>\n",
              "      <td>Norm</td>\n",
              "      <td>Norm</td>\n",
              "      <td>1Fam</td>\n",
              "      <td>2Story</td>\n",
              "      <td>7</td>\n",
              "      <td>5</td>\n",
              "      <td>1915</td>\n",
              "      <td>1970</td>\n",
              "      <td>Gable</td>\n",
              "      <td>CompShg</td>\n",
              "      <td>Wd Sdng</td>\n",
              "      <td>Wd Shng</td>\n",
              "      <td>None</td>\n",
              "      <td>0.0</td>\n",
              "      <td>TA</td>\n",
              "      <td>TA</td>\n",
              "      <td>BrkTil</td>\n",
              "      <td>TA</td>\n",
              "      <td>Gd</td>\n",
              "      <td>No</td>\n",
              "      <td>ALQ</td>\n",
              "      <td>216</td>\n",
              "      <td>Unf</td>\n",
              "      <td>0</td>\n",
              "      <td>540</td>\n",
              "      <td>756</td>\n",
              "      <td>GasA</td>\n",
              "      <td>...</td>\n",
              "      <td>Y</td>\n",
              "      <td>SBrkr</td>\n",
              "      <td>961</td>\n",
              "      <td>756</td>\n",
              "      <td>0</td>\n",
              "      <td>1717</td>\n",
              "      <td>1</td>\n",
              "      <td>0</td>\n",
              "      <td>1</td>\n",
              "      <td>0</td>\n",
              "      <td>3</td>\n",
              "      <td>1</td>\n",
              "      <td>Gd</td>\n",
              "      <td>7</td>\n",
              "      <td>Typ</td>\n",
              "      <td>1</td>\n",
              "      <td>Gd</td>\n",
              "      <td>Detchd</td>\n",
              "      <td>1998.0</td>\n",
              "      <td>Unf</td>\n",
              "      <td>3</td>\n",
              "      <td>642</td>\n",
              "      <td>TA</td>\n",
              "      <td>TA</td>\n",
              "      <td>Y</td>\n",
              "      <td>0</td>\n",
              "      <td>35</td>\n",
              "      <td>272</td>\n",
              "      <td>0</td>\n",
              "      <td>0</td>\n",
              "      <td>0</td>\n",
              "      <td>NaN</td>\n",
              "      <td>NaN</td>\n",
              "      <td>NaN</td>\n",
              "      <td>0</td>\n",
              "      <td>2</td>\n",
              "      <td>2006</td>\n",
              "      <td>WD</td>\n",
              "      <td>Abnorml</td>\n",
              "      <td>140000</td>\n",
              "    </tr>\n",
              "    <tr>\n",
              "      <th>4</th>\n",
              "      <td>5</td>\n",
              "      <td>60</td>\n",
              "      <td>RL</td>\n",
              "      <td>84.0</td>\n",
              "      <td>14260</td>\n",
              "      <td>Pave</td>\n",
              "      <td>NaN</td>\n",
              "      <td>IR1</td>\n",
              "      <td>Lvl</td>\n",
              "      <td>AllPub</td>\n",
              "      <td>FR2</td>\n",
              "      <td>Gtl</td>\n",
              "      <td>NoRidge</td>\n",
              "      <td>Norm</td>\n",
              "      <td>Norm</td>\n",
              "      <td>1Fam</td>\n",
              "      <td>2Story</td>\n",
              "      <td>8</td>\n",
              "      <td>5</td>\n",
              "      <td>2000</td>\n",
              "      <td>2000</td>\n",
              "      <td>Gable</td>\n",
              "      <td>CompShg</td>\n",
              "      <td>VinylSd</td>\n",
              "      <td>VinylSd</td>\n",
              "      <td>BrkFace</td>\n",
              "      <td>350.0</td>\n",
              "      <td>Gd</td>\n",
              "      <td>TA</td>\n",
              "      <td>PConc</td>\n",
              "      <td>Gd</td>\n",
              "      <td>TA</td>\n",
              "      <td>Av</td>\n",
              "      <td>GLQ</td>\n",
              "      <td>655</td>\n",
              "      <td>Unf</td>\n",
              "      <td>0</td>\n",
              "      <td>490</td>\n",
              "      <td>1145</td>\n",
              "      <td>GasA</td>\n",
              "      <td>...</td>\n",
              "      <td>Y</td>\n",
              "      <td>SBrkr</td>\n",
              "      <td>1145</td>\n",
              "      <td>1053</td>\n",
              "      <td>0</td>\n",
              "      <td>2198</td>\n",
              "      <td>1</td>\n",
              "      <td>0</td>\n",
              "      <td>2</td>\n",
              "      <td>1</td>\n",
              "      <td>4</td>\n",
              "      <td>1</td>\n",
              "      <td>Gd</td>\n",
              "      <td>9</td>\n",
              "      <td>Typ</td>\n",
              "      <td>1</td>\n",
              "      <td>TA</td>\n",
              "      <td>Attchd</td>\n",
              "      <td>2000.0</td>\n",
              "      <td>RFn</td>\n",
              "      <td>3</td>\n",
              "      <td>836</td>\n",
              "      <td>TA</td>\n",
              "      <td>TA</td>\n",
              "      <td>Y</td>\n",
              "      <td>192</td>\n",
              "      <td>84</td>\n",
              "      <td>0</td>\n",
              "      <td>0</td>\n",
              "      <td>0</td>\n",
              "      <td>0</td>\n",
              "      <td>NaN</td>\n",
              "      <td>NaN</td>\n",
              "      <td>NaN</td>\n",
              "      <td>0</td>\n",
              "      <td>12</td>\n",
              "      <td>2008</td>\n",
              "      <td>WD</td>\n",
              "      <td>Normal</td>\n",
              "      <td>250000</td>\n",
              "    </tr>\n",
              "  </tbody>\n",
              "</table>\n",
              "<p>5 rows × 81 columns</p>\n",
              "</div>"
            ],
            "text/plain": [
              "   Id  MSSubClass MSZoning  ...  SaleType  SaleCondition SalePrice\n",
              "0   1          60       RL  ...        WD         Normal    208500\n",
              "1   2          20       RL  ...        WD         Normal    181500\n",
              "2   3          60       RL  ...        WD         Normal    223500\n",
              "3   4          70       RL  ...        WD        Abnorml    140000\n",
              "4   5          60       RL  ...        WD         Normal    250000\n",
              "\n",
              "[5 rows x 81 columns]"
            ]
          },
          "metadata": {
            "tags": []
          },
          "execution_count": 6
        }
      ]
    },
    {
      "cell_type": "code",
      "metadata": {
        "id": "XsvXHR6r7Rra",
        "colab_type": "code",
        "colab": {
          "base_uri": "https://localhost:8080/",
          "height": 441
        },
        "outputId": "c6c66c64-a7ac-47c2-d3d6-db77b3467563"
      },
      "source": [
        "all_data = pd.concat((train.loc[:,'MSSubClass':'SaleCondition'], test.loc[:,'MSSubClass':'SaleCondition']))\n",
        "matplotlib.rcParams['figure.figsize'] = (12.0, 6.0)\n",
        "prices = pd.DataFrame({\"price\":train[\"SalePrice\"], \"log(price + 1)\":np.log1p(train[\"SalePrice\"])})\n",
        "prices.hist()"
      ],
      "execution_count": 8,
      "outputs": [
        {
          "output_type": "execute_result",
          "data": {
            "text/plain": [
              "array([[<matplotlib.axes._subplots.AxesSubplot object at 0x7f68c3eca518>,\n",
              "        <matplotlib.axes._subplots.AxesSubplot object at 0x7f68c3ea5630>]],\n",
              "      dtype=object)"
            ]
          },
          "metadata": {
            "tags": []
          },
          "execution_count": 8
        },
        {
          "output_type": "display_data",
          "data": {
            "image/png": "[encoded data removed]",
            "text/plain": [
              "<Figure size 864x432 with 2 Axes>"
            ]
          },
          "metadata": {
            "tags": []
          }
        }
      ]
    },
    {
      "cell_type": "code",
      "metadata": {
        "id": "YGdsv2tY7Yay",
        "colab_type": "code",
        "colab": {}
      },
      "source": [
        "train[\"SalePrice\"] = np.log1p(train[\"SalePrice\"])\n",
        "#log transform skewed numeric features:\n",
        "numeric_feats = all_data.dtypes[all_data.dtypes != \"object\"].index\n",
        "skewed_feats = train[numeric_feats].apply(lambda x: skew(x.dropna())) #compute skewness\n",
        "skewed_feats = skewed_feats[skewed_feats > 0.75]\n",
        "skewed_feats = skewed_feats.index\n",
        "all_data[skewed_feats] = np.log1p(all_data[skewed_feats])\n",
        "all_data = pd.get_dummies(all_data)\n",
        "all_data = all_data.fillna(all_data.mean())\n",
        "#creating matrices for sklearn:\n",
        "X_train = all_data[:train.shape[0]]\n",
        "X_test = all_data[train.shape[0]:]\n",
        "y = train.SalePrice\n",
        "\n"
      ],
      "execution_count": 0,
      "outputs": []
    },
    {
      "cell_type": "code",
      "metadata": {
        "id": "7aTyZP9h7i7x",
        "colab_type": "code",
        "colab": {}
      },
      "source": [
        "def rmse_cv(model):\n",
        "  rmse= np.sqrt(-cross_val_score(model, X_train, y, scoring=\"neg_mean_squared_error\", cv = 5))\n",
        "  return(rmse)"
      ],
      "execution_count": 0,
      "outputs": []
    },
    {
      "cell_type": "code",
      "metadata": {
        "id": "LL1TS_hz7tbK",
        "colab_type": "code",
        "colab": {
          "base_uri": "https://localhost:8080/",
          "height": 34
        },
        "outputId": "9d290a31-15e0-423d-ff24-80ed122589d2"
      },
      "source": [
        "model_ridge = Ridge(alpha=.1)\n",
        "model_ridge.fit(X_train,y)\n",
        "ypred = model_ridge.predict(X_test)\n",
        "preds = np.expm1(ypred)\n",
        "solution = pd.DataFrame({\"Id\":test.Id, \"SalePrice\":preds})\n",
        "solution.to_csv(\"ridge_alpha_0.1_predictions.csv\", index=False)\n",
        "print(\"The RMSE that we get from the Kaggle submission for ridge where alpha = 0.1 is 0.13029\")\n"
      ],
      "execution_count": 12,
      "outputs": [
        {
          "output_type": "stream",
          "text": [
            "The RMSE that we get from the Kaggle submission for ridge where alpha = 0.1 is 0.13029\n"
          ],
          "name": "stdout"
        }
      ]
    },
    {
      "cell_type": "code",
      "metadata": {
        "id": "4UxNb9N27wwW",
        "colab_type": "code",
        "colab": {
          "base_uri": "https://localhost:8080/",
          "height": 34
        },
        "outputId": "d32cd3be-83af-4f48-87c2-9d26d52919cb"
      },
      "source": [
        "model_lasso = Lasso(alpha=.1)\n",
        "model_lasso.fit(X_train, y)\n",
        "ypreds_lasso = model_lasso.predict(X_test)\n",
        "preds_lasso = np.expm1(ypreds_lasso)\n",
        "solution_lasso = pd.DataFrame({\"Id\":test.Id, \"SalePrice\":preds_lasso})\n",
        "solution_lasso.to_csv(\"lasso_alpha_0.1_predictions.csv\", index=False)\n",
        "print(\"The RMSE from Lasso with alpha 0.1 is 0.21524, which is worse than that of Ridge\")\n"
      ],
      "execution_count": 13,
      "outputs": [
        {
          "output_type": "stream",
          "text": [
            "The RMSE from Lasso with alpha 0.1 is 0.21524, which is worse than that of Ridge\n"
          ],
          "name": "stdout"
        }
      ]
    },
    {
      "cell_type": "code",
      "metadata": {
        "id": "JKgt6knS70Gt",
        "colab_type": "code",
        "colab": {
          "base_uri": "https://localhost:8080/",
          "height": 171
        },
        "outputId": "83f554f2-374c-4519-9b7c-bc139c8bcaf8"
      },
      "source": [
        "best_ridge_model = RidgeCV(cv = 10).fit(X_train, y)\n",
        "print(\"best ridge alpha: \" + str(best_ridge_model.alpha_))\n",
        "print(\"rmse: \" + str(rmse_cv(Ridge(alpha = 10))) )\n",
        "#9[0.1111859 0.13654828 0.12645879 0.11035735 0.15220962]\n",
        "#10 [0.11116 0.13661429 0.12633911 0.11040789 0.15216544]\n",
        "best_lasso_model = LassoCV(cv = 10).fit(X_train, y)\n",
        "print(\"best lasso alpha: \" + str(best_lasso_model.alpha_))\n",
        "print(\"rmse: \" + str(rmse_cv(Lasso(alpha = 0.055550459907637594))) )\n",
        "#0.004255390487105146[0.12333986 0.14803492 0.14207026 0.1238079 0.16408229] //np,log1p(y)\n",
        "#0.055550459907637594 [0.17363849 0.19384209 0.18222106 0.17812859 0.203844 ]\n",
        "##Ridge##\n",
        "model_ridge = RidgeCV()\n",
        "model_ridge.fit(X_train,y)\n",
        "print(\"best ridge alpha: \" + str(model_ridge.alpha_) + \" result: \" + str(0.12224))\n",
        "ypred = model_ridge.predict(X_test)\n",
        "preds = np.expm1(ypred)\n",
        "solution = pd.DataFrame({\"Id\":test.Id, \"SalePrice\":preds})\n",
        "solution.to_csv(\"ridgeCV_alpha_10_predictions.csv\", index=False)\n",
        "##Lasso##\n",
        "model_lasso = LassoCV()\n",
        "model_lasso.fit(X_train, y)\n",
        "print(\"best lasso alpha: \" + str(model_lasso.alpha_) + \" result: \" + str(0.19136))\n",
        "ypreds_lasso = model_lasso.predict(X_test)\n",
        "preds_lasso = np.expm1(ypreds_lasso)\n",
        "solution_lasso = pd.DataFrame({\"Id\":test.Id, \"SalePrice\":preds_lasso})\n",
        "solution_lasso.to_csv(\"lassoCV_alpha_.055_predictions.csv\", index=False)\n"
      ],
      "execution_count": 14,
      "outputs": [
        {
          "output_type": "stream",
          "text": [
            "best ridge alpha: 10.0\n",
            "rmse: [0.11116    0.13661429 0.12633911 0.11040789 0.15216544]\n",
            "best lasso alpha: 0.055550459907637594\n",
            "rmse: [0.17363849 0.19384209 0.18222106 0.17812859 0.203844  ]\n",
            "best ridge alpha: 10.0 result: 0.12224\n"
          ],
          "name": "stdout"
        },
        {
          "output_type": "stream",
          "text": [
            "/usr/local/lib/python3.6/dist-packages/sklearn/model_selection/_split.py:1978: FutureWarning: The default value of cv will change from 3 to 5 in version 0.22. Specify it explicitly to silence this warning.\n",
            "  warnings.warn(CV_WARNING, FutureWarning)\n"
          ],
          "name": "stderr"
        },
        {
          "output_type": "stream",
          "text": [
            "best lasso alpha: 0.055550459907637594 result: 0.19136\n"
          ],
          "name": "stdout"
        }
      ]
    },
    {
      "cell_type": "code",
      "metadata": {
        "id": "WNJ4c79h72T1",
        "colab_type": "code",
        "colab": {
          "base_uri": "https://localhost:8080/",
          "height": 374
        },
        "outputId": "f53aeaed-0f1b-44f2-c978-c2c847670f9f"
      },
      "source": [
        "alphas = [.001,.01,.1,1,10,100]\n",
        "coef_non_zero =[]\n",
        "for alpha in alphas:\n",
        "  lasso_model = LassoCV(alphas = [alpha], cv = 5)\n",
        "  lasso_model.fit(X_train,y)\n",
        "  coefs = lasso_model.coef_\n",
        "  coef_num =np.count_nonzero(coefs)\n",
        "  coef_non_zero.append(coef_num)\n",
        "plt.plot(alphas, coef_non_zero);\n",
        "plt.show()"
      ],
      "execution_count": 15,
      "outputs": [
        {
          "output_type": "display_data",
          "data": {
            "image/png": "[encoded data removed]",
            "text/plain": [
              "<Figure size 864x432 with 1 Axes>"
            ]
          },
          "metadata": {
            "tags": []
          }
        }
      ]
    },
    {
      "cell_type": "code",
      "metadata": {
        "id": "Fj9P-yzc7twz",
        "colab_type": "code",
        "colab": {
          "base_uri": "https://localhost:8080/",
          "height": 118
        },
        "outputId": "231dc848-c611-475a-ec59-74f415ff2afd"
      },
      "source": [
        "lasso_model = Lasso(alpha = 0.05555)\n",
        "lasso_model.fit(X_train, y)\n",
        "y_lasso = lasso_model.predict(X_train)\n",
        "y_lasso_test = lasso_model.predict(X_test)\n",
        "ridge_model = Ridge(alpha = 10)\n",
        "ridge_model.fit(X_train, y)\n",
        "y_ridge = ridge_model.predict(X_train)\n",
        "y_ridge_test = ridge_model.predict(X_test)\n",
        "X_train_ridge = pd.concat([X_train, pd.DataFrame({\"ridge\" :y_ridge})], axis = 1)\n",
        "X_train_ridge = pd.concat([X_train_ridge, pd.DataFrame({\"lasso\":y_lasso})], axis = 1)\n",
        "X_test_ridge = pd.concat([X_test, pd.DataFrame({\"ridge\":y_ridge_test})],axis = 1)\n",
        "X_test_ridge = pd.concat([X_test_ridge, pd.DataFrame({\"lasso\":y_lasso_test})], axis = 1)\n",
        "print(X_train.shape)\n",
        "print(X_train_ridge.shape)\n",
        "print(X_test_ridge.shape)\n",
        "stacked_ridge = RidgeCV()\n",
        "stacked_ridge.fit(X_train_ridge, y)\n",
        "print(stacked_ridge.alpha_)\n",
        "pred_stacked_ridge = stacked_ridge.predict(X_test_ridge)\n",
        "pred_stacked_ridge = np.expm1(pred_stacked_ridge)\n",
        "solution_stacked_ridge = pd.DataFrame({\"Id\":test.Id, \"SalePrice\":pred_stacked_ridge})\n",
        "solution_stacked_ridge.to_csv(\"stacked_ridge_predictions.csv\", index=False)\n",
        "print(\"the stacked and ensembled method gave a score of 0.12241 when just the final result is np.expm1\")\n",
        "print(\"the stacked and ensembled method gave a score of 0.13075 when the result of the the first step is np.expm1 \")"
      ],
      "execution_count": 16,
      "outputs": [
        {
          "output_type": "stream",
          "text": [
            "(1460, 288)\n",
            "(1460, 290)\n",
            "(1459, 290)\n",
            "10.0\n",
            "the stacked and ensembled method gave a score of 0.12241 when just the final result is np.expm1\n",
            "the stacked and ensembled method gave a score of 0.13075 when the result of the the first step is np.expm1 \n"
          ],
          "name": "stdout"
        }
      ]
    },
    {
      "cell_type": "code",
      "metadata": {
        "id": "3pGCTC2G8GnY",
        "colab_type": "code",
        "colab": {
          "base_uri": "https://localhost:8080/",
          "height": 395
        },
        "outputId": "518e77e5-253d-4560-a4c5-75d67bf70693"
      },
      "source": [
        "import warnings\n",
        "warnings.simplefilter(action='ignore', category=FutureWarning)\n",
        "dtrain = xgb.DMatrix(X_train, label = y)\n",
        "dtest = xgb.DMatrix(X_test)\n",
        "\n",
        "params = {\"max_depth\":2, \"eta\":0.1}\n",
        "model = xgb.cv(params, dtrain, num_boost_round=500, early_stopping_rounds=100)\n",
        "\n",
        "model.loc[30:,[\"test-rmse-mean\", \"train-rmse-mean\"]].plot()\n"
      ],
      "execution_count": 17,
      "outputs": [
        {
          "output_type": "execute_result",
          "data": {
            "text/plain": [
              "<matplotlib.axes._subplots.AxesSubplot at 0x7f68bed54668>"
            ]
          },
          "metadata": {
            "tags": []
          },
          "execution_count": 17
        },
        {
          "output_type": "display_data",
          "data": {
            "image/png": "[encoded data removed]",
            "text/plain": [
              "<Figure size 864x432 with 1 Axes>"
            ]
          },
          "metadata": {
            "tags": []
          }
        }
      ]
    },
    {
      "cell_type": "code",
      "metadata": {
        "id": "Z57tOIcj8QA0",
        "colab_type": "code",
        "colab": {
          "base_uri": "https://localhost:8080/",
          "height": 151
        },
        "outputId": "5ad57d10-fbbf-43bc-91d4-a9488ae389bc"
      },
      "source": [
        "model_xgb = xgb.XGBRegressor(objective ='reg:squarederror', eval_metric = 'rmse') #the params were tuned using xgb.cv\n",
        "train_params = {\n",
        " \"max_depth\":[3,4],\n",
        " \"eta\":[.01],\n",
        " 'n_estimators': [500],\n",
        " 'min_child_weight':[1,3,5,7],\n",
        " 'colsample_bytree':[i/10.0 for i in range(6,9)],\n",
        " 'subsample':[i/10.0 for i in range(6,10)],\n",
        " 'gamma':[.01,.1,1,5]\n",
        "}\n",
        "clf = GridSearchCV(model_xgb,train_params, error_score='rmse')\n",
        "clf.fit(X_train,y)\n",
        "clf.best_score_, clf.best_params_\n"
      ],
      "execution_count": 18,
      "outputs": [
        {
          "output_type": "execute_result",
          "data": {
            "text/plain": [
              "(0.9065224290176,\n",
              " {'colsample_bytree': 0.7,\n",
              "  'eta': 0.01,\n",
              "  'gamma': 0.01,\n",
              "  'max_depth': 3,\n",
              "  'min_child_weight': 1,\n",
              "  'n_estimators': 500,\n",
              "  'subsample': 0.6})"
            ]
          },
          "metadata": {
            "tags": []
          },
          "execution_count": 18
        }
      ]
    },
    {
      "cell_type": "code",
      "metadata": {
        "id": "9fL9HoyX8YTl",
        "colab_type": "code",
        "colab": {
          "base_uri": "https://localhost:8080/",
          "height": 50
        },
        "outputId": "2dce3501-e067-4789-9ec6-fbbb3dee74ec"
      },
      "source": [
        "print(\"rmse: \" + str(np.mean(rmse_cv(clf.best_estimator_))) )\n",
        "print(\"rmse: \" + str(rmse_cv(clf.best_estimator_)) )\n"
      ],
      "execution_count": 19,
      "outputs": [
        {
          "output_type": "stream",
          "text": [
            "rmse: 0.12390445673563436\n",
            "rmse: [0.10890494 0.14162943 0.1276965  0.11478933 0.12650209]\n"
          ],
          "name": "stdout"
        }
      ]
    },
    {
      "cell_type": "code",
      "metadata": {
        "id": "M9q_ifp08emw",
        "colab_type": "code",
        "colab": {
          "base_uri": "https://localhost:8080/",
          "height": 34
        },
        "outputId": "153e8d6a-0c07-4a52-b890-c2d5aad821ed"
      },
      "source": [
        "xgb_preds = np.expm1(clf.best_estimator_.predict(X_test))\n",
        "solution = pd.DataFrame({\"id\":test.Id, \"SalePrice\":xgb_preds})\n",
        "solution.to_csv(\"xgb_preds.csv\", index = False)\n",
        "print(\"single xgb gave score of 0.12812\")\n"
      ],
      "execution_count": 20,
      "outputs": [
        {
          "output_type": "stream",
          "text": [
            "single xgb gave score of 0.12812\n"
          ],
          "name": "stdout"
        }
      ]
    },
    {
      "cell_type": "code",
      "metadata": {
        "id": "JowIgSBh8icT",
        "colab_type": "code",
        "colab": {
          "base_uri": "https://localhost:8080/",
          "height": 50
        },
        "outputId": "7facf0b4-a03c-4dd4-c4c4-c7d53ce96433"
      },
      "source": [
        "ridge_model = Ridge(alpha = 10)\n",
        "ridge_model.fit(X_train, y)\n",
        "y_ridge = ridge_model.predict(X_train)\n",
        "y_ridge= pd.DataFrame({\"Ridge\" : y_ridge})\n",
        "y_ridge_test = ridge_model.predict(X_test)\n",
        "y_ridge_test= pd.DataFrame({\"Ridge\" : y_ridge_test})\n",
        "y_xgb = pd.DataFrame({\"XGB\":clf.best_estimator_.predict(X_train)})\n",
        "y_xgb_test = pd.DataFrame({\"XGB\":clf.best_estimator_.predict(X_test)})\n",
        "X_train_xgb = pd.concat([X_train, y_ridge], axis = 1)\n",
        "X_train_xgb = pd.concat([X_train_xgb, y_xgb], axis = 1)\n",
        "X_test_xgb = pd.concat([X_test, y_ridge_test], axis = 1)\n",
        "X_test_xgb = pd.concat([X_test_xgb, y_xgb_test ], axis = 1)\n",
        "#X_train_xgb = X_train_xgb.loc[:,~X_train_xgb.columns.duplicated()]\n",
        "#X_test_xgb = X_test_xgb.loc[:,~X_test_xgb.columns.duplicated()]\n",
        "print(X_train_xgb.shape)\n",
        "print(X_test_xgb.shape)"
      ],
      "execution_count": 21,
      "outputs": [
        {
          "output_type": "stream",
          "text": [
            "(1460, 290)\n",
            "(1459, 290)\n"
          ],
          "name": "stdout"
        }
      ]
    },
    {
      "cell_type": "code",
      "metadata": {
        "id": "01wJgpCU8l6f",
        "colab_type": "code",
        "colab": {
          "base_uri": "https://localhost:8080/",
          "height": 395
        },
        "outputId": "08164602-91d3-4940-fe27-48f6ae779659"
      },
      "source": [
        "dtrain = xgb.DMatrix(X_train_xgb, label = y)\n",
        "dtest = xgb.DMatrix(X_test_xgb)\n",
        "model.loc[30:,[\"test-rmse-mean\", \"train-rmse-mean\"]].plot()"
      ],
      "execution_count": 22,
      "outputs": [
        {
          "output_type": "execute_result",
          "data": {
            "text/plain": [
              "<matplotlib.axes._subplots.AxesSubplot at 0x7f68bc058f28>"
            ]
          },
          "metadata": {
            "tags": []
          },
          "execution_count": 22
        },
        {
          "output_type": "display_data",
          "data": {
            "image/png": "[encoded data removed]",
            "text/plain": [
              "<Figure size 864x432 with 1 Axes>"
            ]
          },
          "metadata": {
            "tags": []
          }
        }
      ]
    },
    {
      "cell_type": "code",
      "metadata": {
        "id": "D7FfgTA78r1v",
        "colab_type": "code",
        "colab": {
          "base_uri": "https://localhost:8080/",
          "height": 50
        },
        "outputId": "ce924129-4e12-4faa-c25d-48980802db2d"
      },
      "source": [
        "model_xgb2 = xgb.XGBRegressor(metrics = 'rmse',objective ='reg:squarederror')\n",
        "train_params = {\"max_depth\":[2,3], \"eta\":[.01,.1], 'n_estimators': [100,200,400,700],'min_child_weight':[1,3,5,7]}\n",
        "clf = GridSearchCV(model_xgb2,train_params, error_score='rmse')\n",
        "clf.fit(X_train_ridge,y)\n",
        "clf.best_score_, clf.best_params_"
      ],
      "execution_count": 23,
      "outputs": [
        {
          "output_type": "execute_result",
          "data": {
            "text/plain": [
              "(0.9237756343219242,\n",
              " {'eta': 0.01, 'max_depth': 2, 'min_child_weight': 1, 'n_estimators': 100})"
            ]
          },
          "metadata": {
            "tags": []
          },
          "execution_count": 23
        }
      ]
    },
    {
      "cell_type": "code",
      "metadata": {
        "id": "Y2j6flq68vov",
        "colab_type": "code",
        "colab": {
          "base_uri": "https://localhost:8080/",
          "height": 34
        },
        "outputId": "d7d94ffa-2e83-464f-eb91-482c79a113ac"
      },
      "source": [
        "print(\"rmse: \" + str(np.mean(rmse_cv(clf.best_estimator_))) )"
      ],
      "execution_count": 3,
      "outputs": [
        {
          "output_type": "stream",
          "text": [
            "rmse: 0.13533613515712162\n"
          ],
          "name": "stdout"
        }
      ]
    },
    {
      "cell_type": "code",
      "metadata": {
        "id": "Sb0miYpw821N",
        "colab_type": "code",
        "colab": {
          "base_uri": "https://localhost:8080/",
          "height": 34
        },
        "outputId": "ff213c2a-b2fc-4c7b-c7b7-e6469688db1d"
      },
      "source": [
        "xgb_preds = np.expm1(clf.best_estimator_.predict(X_test_xgb))\n",
        "solution = pd.DataFrame({\"id\":test.Id, \"SalePrice\":xgb_preds})\n",
        "solution.to_csv(\"xgb_preds.csv\", index = False)\n",
        "print(\"rmse: \" + str(rmse_cv(model_xgb2)) )"
      ],
      "execution_count": 5,
      "outputs": [
        {
          "output_type": "stream",
          "text": [
            "rmse: [0.12500351 0.14537867 0.13669314 0.1309878 0.13861755]\n"
          ],
          "name": "stdout"
        }
      ]
    },
    {
      "cell_type": "markdown",
      "metadata": {
        "id": "b8BRCAVo860m",
        "colab_type": "text"
      },
      "source": [
        "If Ridge Regression did so well, it should be possible to build on top of that to improve its performance.\n",
        "Attempts to stack the initial xgboost and ridge predictions on the data, then run xgboost can be made but cross-validation must be done to verify rmse."
      ]
    },
    {
      "cell_type": "code",
      "metadata": {
        "id": "wVC1XvFh9PK3",
        "colab_type": "code",
        "colab": {
          "base_uri": "https://localhost:8080/",
          "height": 34
        },
        "outputId": "3e4e78c7-9a33-4c53-e211-d6f5155137bb"
      },
      "source": [
        "model_xgb = xgb.XGBRegressor(objective ='reg:squarederror', eval_metric= 'rmse')\n",
        "ridge_model = Ridge(alpha = 10)\n",
        "ridge_model.fit(X_train, y)\n",
        "y_ridge = ridge_model.predict(X_train)\n",
        "y_ridge= pd.DataFrame({\"Ridge\" : y_ridge})\n",
        "y_ridge_test = ridge_model.predict(X_test)\n",
        "y_ridge_test= pd.DataFrame({\"Ridge\" : y_ridge_test})\n",
        "y_xgb = y - y_ridge[\"Ridge\"]\n",
        "dtrain = xgb.DMatrix(X_train, label = y)\n",
        "dtest = xgb.DMatrix(X_test)\n",
        "\n",
        "model_xgb3 = xgb.XGBRegressor(metrics = 'rmse',objective ='reg:squarederror')\n",
        "train_params = {\"max_depth\":[2,3], \"eta\":[.01,.1], 'n_estimators': [100,200,400,700],'min_child_weight':[1,3,5,7]}\n",
        "clf = GridSearchCV(model_xgb3,train_params, error_score='rmse')\n",
        "clf.fit(X_train,y_xgb)\n",
        "clf.best_score_, clf.best_params_"
      ],
      "execution_count": 7,
      "outputs": [
        {
          "output_type": "stream",
          "text": [
            "(-0.010647502127993265, {'eta': 0.01, 'max_depth': 2, 'min_child_weight': 1, 'n_estimators': 100})\n"
          ],
          "name": "stdout"
        }
      ]
    },
    {
      "cell_type": "code",
      "metadata": {
        "id": "ru-HBoCE9ZNC",
        "colab_type": "code",
        "colab": {}
      },
      "source": [
        "y_hat = y_ridge_test[\"Ridge\"] + clf.best_estimator_.predict(X_test)\n",
        "xgb_preds = np.expm1(y_hat)\n",
        "solution = pd.DataFrame({\"id\":test.Id, \"SalePrice\":xgb_preds})\n",
        "solution.to_csv(\"xgb_preds.csv\", index = False)"
      ],
      "execution_count": 0,
      "outputs": []
    },
    {
      "cell_type": "markdown",
      "metadata": {
        "id": "CuwMYPnq9fx4",
        "colab_type": "text"
      },
      "source": [
        "The idea is to boost on ridge. So after getting the residuals on ridge, train an xgb model on the residuals. Gives score of 0.12923"
      ]
    },
    {
      "cell_type": "markdown",
      "metadata": {
        "id": "7yQnF0Xg9wfa",
        "colab_type": "text"
      },
      "source": [
        "Helpful links:\n",
        "\n",
        "\"https://www.kaggle.com/ashishbarvaliya/house-price-feature-engineering\n",
        "\n",
        "\"https://www.kaggle.com/miguelrodriguezolmos/predict-house-priceswith-ridge-regression"
      ]
    },
    {
      "cell_type": "code",
      "metadata": {
        "id": "yTQNs-Pf9rGw",
        "colab_type": "code",
        "colab": {}
      },
      "source": [
        ""
      ],
      "execution_count": 0,
      "outputs": []
    }
  ]
}