{
 "cells": [
  {
   "cell_type": "code",
   "execution_count": 42,
   "metadata": {},
   "outputs": [],
   "source": [
    "import pandas as pd\n",
    "import numpy as np\n",
    "from sklearn.linear_model import LinearRegression, LogisticRegression, Lasso\n",
    "from sklearn.svm import SVC, SVR, LinearSVC\n",
    "from sklearn.metrics import accuracy_score, r2_score, mean_squared_error, roc_auc_score\n",
    "from sklearn.model_selection import train_test_split, GridSearchCV\n",
    "from sklearn.tree import DecisionTreeClassifier\n",
    "from sklearn.ensemble import AdaBoostClassifier, GradientBoostingClassifier, RandomForestClassifier\n",
    "from xgboost import XGBClassifier\n",
    "from sklearn.preprocessing import StandardScaler"
   ]
  },
  {
   "cell_type": "code",
   "execution_count": 43,
   "metadata": {
    "scrolled": true
   },
   "outputs": [
    {
     "data": {
      "text/html": [
       "<div>\n",
       "<style scoped>\n",
       "    .dataframe tbody tr th:only-of-type {\n",
       "        vertical-align: middle;\n",
       "    }\n",
       "\n",
       "    .dataframe tbody tr th {\n",
       "        vertical-align: top;\n",
       "    }\n",
       "\n",
       "    .dataframe thead th {\n",
       "        text-align: right;\n",
       "    }\n",
       "</style>\n",
       "<table border=\"1\" class=\"dataframe\">\n",
       "  <thead>\n",
       "    <tr style=\"text-align: right;\">\n",
       "      <th></th>\n",
       "      <th>Comp</th>\n",
       "      <th>Height</th>\n",
       "      <th>Points</th>\n",
       "      <th>Salary</th>\n",
       "    </tr>\n",
       "  </thead>\n",
       "  <tbody>\n",
       "    <tr>\n",
       "      <th>0</th>\n",
       "      <td>9.0</td>\n",
       "      <td>76.0</td>\n",
       "      <td>27.0</td>\n",
       "      <td>0.0</td>\n",
       "    </tr>\n",
       "    <tr>\n",
       "      <th>1</th>\n",
       "      <td>7.0</td>\n",
       "      <td>78.0</td>\n",
       "      <td>39.0</td>\n",
       "      <td>0.0</td>\n",
       "    </tr>\n",
       "    <tr>\n",
       "      <th>2</th>\n",
       "      <td>9.0</td>\n",
       "      <td>76.0</td>\n",
       "      <td>39.0</td>\n",
       "      <td>0.0</td>\n",
       "    </tr>\n",
       "    <tr>\n",
       "      <th>3</th>\n",
       "      <td>9.0</td>\n",
       "      <td>74.0</td>\n",
       "      <td>39.0</td>\n",
       "      <td>0.0</td>\n",
       "    </tr>\n",
       "    <tr>\n",
       "      <th>4</th>\n",
       "      <td>9.0</td>\n",
       "      <td>74.0</td>\n",
       "      <td>26.0</td>\n",
       "      <td>0.0</td>\n",
       "    </tr>\n",
       "  </tbody>\n",
       "</table>\n",
       "</div>"
      ],
      "text/plain": [
       "   Comp  Height  Points  Salary\n",
       "0   9.0    76.0    27.0     0.0\n",
       "1   7.0    78.0    39.0     0.0\n",
       "2   9.0    76.0    39.0     0.0\n",
       "3   9.0    74.0    39.0     0.0\n",
       "4   9.0    74.0    26.0     0.0"
      ]
     },
     "execution_count": 43,
     "metadata": {},
     "output_type": "execute_result"
    }
   ],
   "source": [
    "df=pd.read_csv('nba_cc_fake_data.csv')\n",
    "df.drop('Unnamed: 0', axis=1, inplace=True)\n",
    "df.head()"
   ]
  },
  {
   "cell_type": "code",
   "execution_count": 61,
   "metadata": {},
   "outputs": [
    {
     "data": {
      "text/plain": [
       "9413"
      ]
     },
     "execution_count": 61,
     "metadata": {},
     "output_type": "execute_result"
    }
   ],
   "source": [
    "# Number of rows with Salary = 0 :\n",
    "df[df.Salary==0].Salary.count()"
   ]
  },
  {
   "cell_type": "markdown",
   "metadata": {},
   "source": [
    "### 1. Least Squares Regression is not a good model:\n",
    "Explain why linear regression is not appropriate, given the nature of the data.\n",
    "\n",
    "\n",
    "Answer: <br>\n",
    "This is because a majority of the labels are zeroes(9,413 out of 10,000) and when predicting salary, the model tries to fit a line between the zeroes and the rows with non-zero salaries. The lowest non-zero salary is very high compared to zero and thus we get non-zero predictions using least-squares regression. Thus it is not a good idea to fit Linear regression to a problem with such a variation in labels."
   ]
  },
  {
   "cell_type": "markdown",
   "metadata": {},
   "source": [
    "### 2. Prediction using Least Squares Regression\n",
    "\n",
    "Try least squares regression, anyway. How well do you do?"
   ]
  },
  {
   "cell_type": "code",
   "execution_count": 69,
   "metadata": {},
   "outputs": [],
   "source": [
    "X=df.iloc[:,:3].values\n",
    "Y=df.iloc[:,3].values\n",
    "\n",
    "X_train, X_test, Y_train, Y_test = train_test_split(X,Y,test_size = 0.2, random_state = 0)"
   ]
  },
  {
   "cell_type": "code",
   "execution_count": 63,
   "metadata": {},
   "outputs": [
    {
     "data": {
      "text/plain": [
       "LinearRegression(copy_X=True, fit_intercept=True, n_jobs=None, normalize=False)"
      ]
     },
     "execution_count": 63,
     "metadata": {},
     "output_type": "execute_result"
    }
   ],
   "source": [
    "lr=LinearRegression()\n",
    "lr.fit(X_train,Y_train)"
   ]
  },
  {
   "cell_type": "code",
   "execution_count": 64,
   "metadata": {},
   "outputs": [
    {
     "data": {
      "text/plain": [
       "array([ 86344.59732927,  19121.40852818,  11914.96574179, ...,\n",
       "       -22231.93667264, 127528.22085956, 118773.94590382])"
      ]
     },
     "execution_count": 64,
     "metadata": {},
     "output_type": "execute_result"
    }
   ],
   "source": [
    "y_pred=lr.predict(X_test)\n",
    "y_pred"
   ]
  },
  {
   "cell_type": "code",
   "execution_count": 65,
   "metadata": {},
   "outputs": [
    {
     "data": {
      "text/plain": [
       "0.17787434482059772"
      ]
     },
     "execution_count": 65,
     "metadata": {},
     "output_type": "execute_result"
    }
   ],
   "source": [
    "r2_score(Y_test,y_pred)"
   ]
  },
  {
   "cell_type": "markdown",
   "metadata": {},
   "source": [
    "#### As expected the R2 Score is quite low ~ 0.18"
   ]
  },
  {
   "cell_type": "markdown",
   "metadata": {},
   "source": [
    "### 3. Composite Model\n",
    "\n",
    "You will next build a composite model. You will first predict the probability that a player actually makes it to the NBA at all, and then you will build a model to predict the salary of a player, conditioned on the fact of making it to the NBA.<br>\n",
    "– Build a model that predicts the probability of making it to the NBA.<br>\n",
    "– Do a train-test split of 8000/2000 points, train your best model on the training set, and\n",
    "compute the AUC on the test set.<br>\n",
    "– Now, build a model to predict the salary. Note that you may wish to consider a non-\n",
    "linear transformation of your data. What is your R2 score on the test set?<br>"
   ]
  },
  {
   "cell_type": "markdown",
   "metadata": {},
   "source": [
    "#### A. Building classification model to determine if player goes to NBA or not "
   ]
  },
  {
   "cell_type": "code",
   "execution_count": 77,
   "metadata": {},
   "outputs": [],
   "source": [
    "# Y_nba with 0,1 instead of salary\n",
    "Y_nba=Y.copy()\n",
    "Y_nba[np.where(Y>0)]=1\n",
    "X_train, X_test, Y_train, Y_test = train_test_split(X,Y_nba,test_size = 0.2, random_state = 0)"
   ]
  },
  {
   "cell_type": "code",
   "execution_count": 78,
   "metadata": {},
   "outputs": [],
   "source": [
    "def predict_auc(clf, X_train=X_train, X_test=X_test, Y_train=Y_train, Y_test=Y_test):\n",
    "    clf.fit(X_train, Y_train)\n",
    "    y_pred=clf.predict_proba(X_test)[:, 1]\n",
    "    auc_score=roc_auc_score(Y_test,y_pred)\n",
    "    return round(auc_score,4)"
   ]
  },
  {
   "cell_type": "code",
   "execution_count": 79,
   "metadata": {},
   "outputs": [
    {
     "name": "stdout",
     "output_type": "stream",
     "text": [
      "AUC Score for Logistic Regression on whole X,Y as training set:  0.9395\n",
      "AUC Score for Logistic Regression on train_X and AUC on test set:  0.9427\n"
     ]
    }
   ],
   "source": [
    "print(\"AUC Score for Logistic Regression on whole X,Y as training set: \",predict_auc(LogisticRegression(C=10), X,X,Y_nba,Y_nba))\n",
    "print(\"AUC Score for Logistic Regression on train_X and AUC on test set: \",predict_auc(LogisticRegression(C=10)))\n"
   ]
  },
  {
   "cell_type": "code",
   "execution_count": 71,
   "metadata": {},
   "outputs": [],
   "source": [
    "# Trying with standardized features\n",
    "sc = StandardScaler()\n",
    "sc.fit(X_train)\n",
    "X_train_std = sc.transform(X_train)\n",
    "X_test_std = sc.transform(X_test)"
   ]
  },
  {
   "cell_type": "code",
   "execution_count": 80,
   "metadata": {},
   "outputs": [
    {
     "name": "stdout",
     "output_type": "stream",
     "text": [
      "AUC Score for Logistic Regresion on whole X,Y as training set:  0.9418\n"
     ]
    }
   ],
   "source": [
    "print(\"AUC Score for Logistic Regresion on whole X,Y as training set: \",predict_auc(LogisticRegression(C=10), X_train_std, X_test_std, Y_train, Y_test))"
   ]
  },
  {
   "cell_type": "markdown",
   "metadata": {},
   "source": [
    "#### B. Finding Best model on 80/20 split of data"
   ]
  },
  {
   "cell_type": "code",
   "execution_count": 81,
   "metadata": {},
   "outputs": [],
   "source": [
    "# Train-test split of 8000/2000 points\n",
    "X_train, X_test, Y_train, Y_test = train_test_split(X,Y_nba,test_size = 0.2, random_state = 0)"
   ]
  },
  {
   "cell_type": "code",
   "execution_count": 82,
   "metadata": {},
   "outputs": [
    {
     "name": "stdout",
     "output_type": "stream",
     "text": [
      "AUC Score for DecisionTreeClassifier:  0.925\n",
      "AUC Score for RandomForestClassifier:  0.9278\n",
      "AUC Score for GradientBoostingClassifier:  0.9383\n",
      "AUC Score for AdaBoostClassifier:  0.924\n",
      "AUC Score for XGBoost:  0.9389\n"
     ]
    }
   ],
   "source": [
    "print(\"AUC Score for DecisionTreeClassifier: \",predict_auc(DecisionTreeClassifier(max_depth=5), X_train, X_test, Y_train, Y_test))\n",
    "print(\"AUC Score for RandomForestClassifier: \",predict_auc(RandomForestClassifier(n_estimators=8, max_depth=5), X_train, X_test, Y_train, Y_test))\n",
    "print(\"AUC Score for GradientBoostingClassifier: \",predict_auc(GradientBoostingClassifier(n_estimators=30, max_depth=4), X_train, X_test, Y_train, Y_test))\n",
    "print(\"AUC Score for AdaBoostClassifier: \",predict_auc(AdaBoostClassifier(n_estimators=100), X_train, X_test, Y_train, Y_test))\n",
    "print(\"AUC Score for XGBoost: \",predict_auc(XGBClassifier(n_estimators=100), X_train, X_test, Y_train, Y_test))"
   ]
  },
  {
   "cell_type": "code",
   "execution_count": 86,
   "metadata": {},
   "outputs": [
    {
     "name": "stdout",
     "output_type": "stream",
     "text": [
      "AUC Score for DecisionTreeClassifier:  0.925\n",
      "AUC Score for RandomForestClassifier:  0.9283\n",
      "AUC Score for GradientBoostingClassifier:  0.9383\n",
      "AUC Score for AdaBoostClassifier:  0.924\n",
      "AUC Score for XGBoost:  0.9389\n"
     ]
    }
   ],
   "source": [
    "print(\"AUC Score for DecisionTreeClassifier: \",predict_auc(DecisionTreeClassifier(max_depth=5), X_train_std, X_test_std, Y_train, Y_test))\n",
    "print(\"AUC Score for RandomForestClassifier: \",predict_auc(RandomForestClassifier(n_estimators=8, max_depth=5), X_train_std, X_test_std, Y_train, Y_test))\n",
    "print(\"AUC Score for GradientBoostingClassifier: \",predict_auc(GradientBoostingClassifier(n_estimators=30, max_depth=4), X_train_std, X_test_std, Y_train, Y_test))\n",
    "print(\"AUC Score for AdaBoostClassifier: \",predict_auc(AdaBoostClassifier(n_estimators=100), X_train_std, X_test_std, Y_train, Y_test))\n",
    "print(\"AUC Score for XGBoost: \",predict_auc(XGBClassifier(n_estimators=100), X_train_std, X_test_std, Y_train, Y_test))"
   ]
  },
  {
   "cell_type": "code",
   "execution_count": 87,
   "metadata": {},
   "outputs": [
    {
     "name": "stdout",
     "output_type": "stream",
     "text": [
      "{'booster': 'gbtree', 'learning_rate': 0.1, 'max_delta_step': 0, 'max_depth': 3, 'min_child_weight': 0.5, 'n_estimators': 80}\n"
     ]
    },
    {
     "data": {
      "text/plain": [
       "0.9373771622842255"
      ]
     },
     "execution_count": 87,
     "metadata": {},
     "output_type": "execute_result"
    }
   ],
   "source": [
    "# Tuning XGBoost Classifier\n",
    "import warnings\n",
    "warnings.filterwarnings(\"ignore\")\n",
    "\n",
    "xgparameters={  'max_delta_step':[0],\n",
    "                'n_estimators':[80],\n",
    "                'booster':['gbtree'],\n",
    "                'min_child_weight':[0.5],\n",
    "                'max_depth':[3],\n",
    "                'learning_rate':[0.1]\n",
    "             }\n",
    "\n",
    "clf=GridSearchCV(XGBClassifier(random_state=7),xgparameters,cv=5)\n",
    "clf.fit(X_train,Y_train)\n",
    "print(clf.best_params_)\n",
    "y_pred=clf.predict_proba(X_test)[:,1]\n",
    "\n",
    "roc_auc_score(Y_test,y_pred)"
   ]
  },
  {
   "cell_type": "code",
   "execution_count": 88,
   "metadata": {},
   "outputs": [
    {
     "name": "stdout",
     "output_type": "stream",
     "text": [
      "AUC Score for XGBoost:  0.9386\n"
     ]
    }
   ],
   "source": [
    "print(\"AUC Score for XGBoost: \",predict_auc(XGBClassifier(n_estimators=80, max_depth=3), X_train, X_test, Y_train, Y_test))"
   ]
  },
  {
   "cell_type": "markdown",
   "metadata": {},
   "source": [
    "#### C. Model to predict salary conditioned on going to NBA"
   ]
  },
  {
   "cell_type": "code",
   "execution_count": 89,
   "metadata": {},
   "outputs": [],
   "source": [
    "# For linear regression model conditioned on probability of going to NBA\n",
    "# We took the probability of going to NBA as a feature: Column 4\n",
    "clf=XGBClassifier()\n",
    "clf.fit(X,Y_nba)\n",
    "y_pred=clf.predict_proba(X)\n",
    "new_X=np.concatenate((X,y_pred), axis=1)\n",
    "new_X=new_X[:,[0,1,2,4]]"
   ]
  },
  {
   "cell_type": "code",
   "execution_count": 90,
   "metadata": {},
   "outputs": [
    {
     "data": {
      "text/plain": [
       "0.4887458866200912"
      ]
     },
     "execution_count": 90,
     "metadata": {},
     "output_type": "execute_result"
    }
   ],
   "source": [
    "lr = LinearRegression()\n",
    "lr.fit(new_X,Y)\n",
    "salary=lr.predict(new_X)\n",
    "r2_score(Y,salary)"
   ]
  },
  {
   "cell_type": "markdown",
   "metadata": {},
   "source": [
    "#### To cross-verify this we took the rows from main dataframe where Salary is not 0 and found an r2_score similar to ours."
   ]
  },
  {
   "cell_type": "code",
   "execution_count": 91,
   "metadata": {},
   "outputs": [],
   "source": [
    "X_salary = df[df['Salary']>0].iloc[:,:3].values\n",
    "Y_salary = df[df['Salary']>0].iloc[:,3].values"
   ]
  },
  {
   "cell_type": "code",
   "execution_count": 92,
   "metadata": {},
   "outputs": [
    {
     "data": {
      "text/plain": [
       "0.5685697969800619"
      ]
     },
     "execution_count": 92,
     "metadata": {},
     "output_type": "execute_result"
    }
   ],
   "source": [
    "lr = LinearRegression()\n",
    "lr.fit(X_salary,Y_salary)\n",
    "salary=lr.predict(X_salary)\n",
    "r2_score(Y_salary,salary)"
   ]
  },
  {
   "cell_type": "markdown",
   "metadata": {},
   "source": [
    "### 4. Predict for given player\n",
    "\n",
    "Compute the expected NBA salary of a high school basketball player who is 6’ 6” tall, is\n",
    "averaging 46 points per game, and is playing in the second most competitive league (comp =\n",
    "9), according to your model."
   ]
  },
  {
   "cell_type": "code",
   "execution_count": 93,
   "metadata": {},
   "outputs": [],
   "source": [
    "predict_X=[9.0, 78.0, 46.0]"
   ]
  },
  {
   "cell_type": "code",
   "execution_count": 94,
   "metadata": {},
   "outputs": [
    {
     "data": {
      "text/plain": [
       "array([0.09216729], dtype=float32)"
      ]
     },
     "execution_count": 94,
     "metadata": {},
     "output_type": "execute_result"
    }
   ],
   "source": [
    "clf.predict_proba(predict_X)[:,1]"
   ]
  },
  {
   "cell_type": "markdown",
   "metadata": {},
   "source": [
    "### The given player has a 0.09 probability of not going for NBA, hence salary prediction will be 0."
   ]
  }
 ],
 "metadata": {
  "kernelspec": {
   "display_name": "Python 3",
   "language": "python",
   "name": "python3"
  },
  "language_info": {
   "codemirror_mode": {
    "name": "ipython",
    "version": 3
   },
   "file_extension": ".py",
   "mimetype": "text/x-python",
   "name": "python",
   "nbconvert_exporter": "python",
   "pygments_lexer": "ipython3",
   "version": "3.7.3"
  }
 },
 "nbformat": 4,
 "nbformat_minor": 2
}
